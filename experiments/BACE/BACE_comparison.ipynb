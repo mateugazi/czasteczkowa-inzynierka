{
 "cells": [
  {
   "cell_type": "code",
   "execution_count": null,
   "metadata": {},
   "outputs": [
    {
     "ename": "",
     "evalue": "",
     "output_type": "error",
     "traceback": [
      "\u001b[1;31mRunning cells with 'c:\\Users\\Wojciech\\AppData\\Local\\Programs\\Python\\Python39\\python.exe' requires the ipykernel package.\n",
      "\u001b[1;31mRun the following command to install 'ipykernel' into the Python environment. \n",
      "\u001b[1;31mCommand: 'c:/Users/Wojciech/AppData/Local/Programs/Python/Python39/python.exe -m pip install ipykernel -U --user --force-reinstall'"
     ]
    }
   ],
   "source": [
    "import warnings\n",
    "from itertools import product\n",
    "\n",
    "import numpy as np\n",
    "import pandas as pd\n",
    "from mordred import Calculator, descriptors\n",
    "from rdkit import Chem\n",
    "from rdkit.Chem import AllChem\n",
    "from sklearn.decomposition import PCA\n",
    "from sklearn.ensemble import GradientBoostingClassifier, RandomForestClassifier, RandomForestRegressor, GradientBoostingRegressor\n",
    "from sklearn.linear_model import LogisticRegression, LinearRegression\n",
    "from sklearn.model_selection import (StratifiedKFold, KFold,\n",
    "                                     cross_val_score, train_test_split)\n",
    "\n",
    "from sklearn.metrics import r2_score\n",
    "from sklearn.neural_network import MLPClassifier, MLPRegressor\n",
    "from sklearn.preprocessing import StandardScaler\n",
    "from sklearn.svm import SVR\n",
    "from sklearn.svm import SVC\n",
    "\n",
    "warnings.filterwarnings(\"ignore\", category=Warning)\n",
    "\n",
    "N_SPLITS = 2\n",
    "RANDOM_STATE = 148260"
   ]
  },
  {
   "cell_type": "markdown",
   "metadata": {},
   "source": [
    "### Preprocessing"
   ]
  },
  {
   "cell_type": "code",
   "execution_count": null,
   "metadata": {},
   "outputs": [
    {
     "ename": "",
     "evalue": "",
     "output_type": "error",
     "traceback": [
      "\u001b[1;31mRunning cells with 'c:\\Users\\Wojciech\\AppData\\Local\\Programs\\Python\\Python39\\python.exe' requires the ipykernel package.\n",
      "\u001b[1;31mRun the following command to install 'ipykernel' into the Python environment. \n",
      "\u001b[1;31mCommand: 'c:/Users/Wojciech/AppData/Local/Programs/Python/Python39/python.exe -m pip install ipykernel -U --user --force-reinstall'"
     ]
    }
   ],
   "source": [
    "def LoadCSV(path):\n",
    "    df = pd.read_csv(path)\n",
    "    return df\n",
    "\n",
    "def LoadCSV_BACE(path, regression = False):\n",
    "    df = pd.read_csv(path)\n",
    "    df.drop_duplicates('mol')\n",
    "    df = df.dropna()\n",
    "    df.drop(['CID', 'canvasUID'], axis=1, inplace=True)\n",
    "    if regression:\n",
    "        df['Target'] = df['pIC50']\n",
    "        df.drop('Class', axis=1, inplace=True)\n",
    "        df.drop('pIC50', axis=1, inplace=True)\n",
    "    else:\n",
    "        df['Target'] = df['Class']\n",
    "        df.drop('Class', axis=1, inplace=True)\n",
    "        df.drop('pIC50', axis=1, inplace=True)\n",
    "    return df\n",
    "\n",
    "def split_data_BACE(df, scaffold=True):\n",
    "    X = df.drop(['Target', 'mol'], axis=1)\n",
    "\n",
    "    if not scaffold:\n",
    "        y = df[['Target']]\n",
    "        X = X.drop(['Model'], axis=1)\n",
    "\n",
    "        X_train, X_test, y_train, y_test = train_test_split(X, y, test_size=0.1, random_state=42)\n",
    "        X_train, X_valid, y_train, y_valid = train_test_split(X_train, y_train, test_size=0.111, random_state=42)\n",
    "        return X_train, y_train, X_test, y_test, X_valid, y_valid\n",
    "\n",
    "    #dummy = list(X['Model'])\n",
    "    #\n",
    "    #sc = StandardScaler()\n",
    "    #X = sc.fit_transform(X.drop(['Model'], axis=1))\n",
    "    #X = pd.DataFrame(X)\n",
    "    #\n",
    "    #X['Model'] = dummy\n",
    "\n",
    "    X_train = X[X['Model'] == 'Train']\n",
    "    X_test = X[X['Model'] == 'Test']\n",
    "    X_valid = X[X['Model'] == 'Valid']\n",
    "\n",
    "    y = df[['Target', 'Model']]\n",
    "\n",
    "    y_train = y[y['Model'] == 'Train']\n",
    "    y_test = y[y['Model'] == 'Test']\n",
    "    y_valid = y[y['Model'] == 'Valid']\n",
    "    \n",
    "    X_train.drop('Model', axis=1, inplace=True)\n",
    "    X_test.drop('Model', axis=1, inplace=True)\n",
    "    X_valid.drop('Model', axis=1, inplace=True)\n",
    "    y_train.drop('Model', axis=1, inplace=True)\n",
    "    y_test.drop('Model', axis=1, inplace=True)\n",
    "    y_valid.drop('Model', axis=1, inplace=True)\n",
    "    \n",
    "    return X_train, y_train, X_test, y_test, X_valid, y_valid"
   ]
  },
  {
   "cell_type": "code",
   "execution_count": null,
   "metadata": {},
   "outputs": [
    {
     "ename": "",
     "evalue": "",
     "output_type": "error",
     "traceback": [
      "\u001b[1;31mRunning cells with 'c:\\Users\\Wojciech\\AppData\\Local\\Programs\\Python\\Python39\\python.exe' requires the ipykernel package.\n",
      "\u001b[1;31mRun the following command to install 'ipykernel' into the Python environment. \n",
      "\u001b[1;31mCommand: 'c:/Users/Wojciech/AppData/Local/Programs/Python/Python39/python.exe -m pip install ipykernel -U --user --force-reinstall'"
     ]
    }
   ],
   "source": [
    "df_regression = LoadCSV_BACE(r\"C:\\Users\\wojci\\Documents\\GitHub\\czasteczkowa-inzynierka\\experiments\\BACE\\bace.csv\", regression=True)\n",
    "df_classification = LoadCSV_BACE(r\"C:\\Users\\wojci\\Documents\\GitHub\\czasteczkowa-inzynierka\\experiments\\BACE\\bace.csv\")"
   ]
  },
  {
   "cell_type": "code",
   "execution_count": null,
   "metadata": {},
   "outputs": [
    {
     "ename": "",
     "evalue": "",
     "output_type": "error",
     "traceback": [
      "\u001b[1;31mRunning cells with 'c:\\Users\\Wojciech\\AppData\\Local\\Programs\\Python\\Python39\\python.exe' requires the ipykernel package.\n",
      "\u001b[1;31mRun the following command to install 'ipykernel' into the Python environment. \n",
      "\u001b[1;31mCommand: 'c:/Users/Wojciech/AppData/Local/Programs/Python/Python39/python.exe -m pip install ipykernel -U --user --force-reinstall'"
     ]
    }
   ],
   "source": [
    "scaffold = False"
   ]
  },
  {
   "cell_type": "code",
   "execution_count": null,
   "metadata": {},
   "outputs": [
    {
     "ename": "",
     "evalue": "",
     "output_type": "error",
     "traceback": [
      "\u001b[1;31mRunning cells with 'c:\\Users\\Wojciech\\AppData\\Local\\Programs\\Python\\Python39\\python.exe' requires the ipykernel package.\n",
      "\u001b[1;31mRun the following command to install 'ipykernel' into the Python environment. \n",
      "\u001b[1;31mCommand: 'c:/Users/Wojciech/AppData/Local/Programs/Python/Python39/python.exe -m pip install ipykernel -U --user --force-reinstall'"
     ]
    }
   ],
   "source": [
    "X_train_class, y_train_class, X_test_class, y_test_class, X_valid_class, y_valid_class = split_data_BACE(df_classification, scaffold=scaffold)"
   ]
  },
  {
   "cell_type": "code",
   "execution_count": null,
   "metadata": {},
   "outputs": [
    {
     "ename": "",
     "evalue": "",
     "output_type": "error",
     "traceback": [
      "\u001b[1;31mRunning cells with 'c:\\Users\\Wojciech\\AppData\\Local\\Programs\\Python\\Python39\\python.exe' requires the ipykernel package.\n",
      "\u001b[1;31mRun the following command to install 'ipykernel' into the Python environment. \n",
      "\u001b[1;31mCommand: 'c:/Users/Wojciech/AppData/Local/Programs/Python/Python39/python.exe -m pip install ipykernel -U --user --force-reinstall'"
     ]
    }
   ],
   "source": [
    "X_train_regre, y_train_regre, X_test_regre, y_test_regre, X_valid_regre, y_valid_regre = split_data_BACE(df_regression, scaffold=scaffold)"
   ]
  },
  {
   "cell_type": "code",
   "execution_count": null,
   "metadata": {},
   "outputs": [
    {
     "ename": "",
     "evalue": "",
     "output_type": "error",
     "traceback": [
      "\u001b[1;31mRunning cells with 'c:\\Users\\Wojciech\\AppData\\Local\\Programs\\Python\\Python39\\python.exe' requires the ipykernel package.\n",
      "\u001b[1;31mRun the following command to install 'ipykernel' into the Python environment. \n",
      "\u001b[1;31mCommand: 'c:/Users/Wojciech/AppData/Local/Programs/Python/Python39/python.exe -m pip install ipykernel -U --user --force-reinstall'"
     ]
    }
   ],
   "source": [
    "df_classification.head()"
   ]
  },
  {
   "cell_type": "code",
   "execution_count": null,
   "metadata": {},
   "outputs": [
    {
     "ename": "",
     "evalue": "",
     "output_type": "error",
     "traceback": [
      "\u001b[1;31mRunning cells with 'c:\\Users\\Wojciech\\AppData\\Local\\Programs\\Python\\Python39\\python.exe' requires the ipykernel package.\n",
      "\u001b[1;31mRun the following command to install 'ipykernel' into the Python environment. \n",
      "\u001b[1;31mCommand: 'c:/Users/Wojciech/AppData/Local/Programs/Python/Python39/python.exe -m pip install ipykernel -U --user --force-reinstall'"
     ]
    }
   ],
   "source": [
    "y_train_regre"
   ]
  },
  {
   "cell_type": "code",
   "execution_count": null,
   "metadata": {},
   "outputs": [
    {
     "ename": "",
     "evalue": "",
     "output_type": "error",
     "traceback": [
      "\u001b[1;31mRunning cells with 'c:\\Users\\Wojciech\\AppData\\Local\\Programs\\Python\\Python39\\python.exe' requires the ipykernel package.\n",
      "\u001b[1;31mRun the following command to install 'ipykernel' into the Python environment. \n",
      "\u001b[1;31mCommand: 'c:/Users/Wojciech/AppData/Local/Programs/Python/Python39/python.exe -m pip install ipykernel -U --user --force-reinstall'"
     ]
    }
   ],
   "source": [
    "print(X_train_class.shape)\n",
    "print(X_test_class.shape)\n",
    "print(X_valid_class.shape)\n",
    "print(f\"{round(X_train_class.shape[0] / df_classification.shape[0], 2)}\")\n",
    "print(f\"{round(X_test_class.shape[0] / df_classification.shape[0], 2)}\")\n",
    "print(f\"{round(X_valid_class.shape[0] / df_classification.shape[0], 2)}\")"
   ]
  },
  {
   "cell_type": "code",
   "execution_count": null,
   "metadata": {},
   "outputs": [
    {
     "ename": "",
     "evalue": "",
     "output_type": "error",
     "traceback": [
      "\u001b[1;31mRunning cells with 'c:\\Users\\Wojciech\\AppData\\Local\\Programs\\Python\\Python39\\python.exe' requires the ipykernel package.\n",
      "\u001b[1;31mRun the following command to install 'ipykernel' into the Python environment. \n",
      "\u001b[1;31mCommand: 'c:/Users/Wojciech/AppData/Local/Programs/Python/Python39/python.exe -m pip install ipykernel -U --user --force-reinstall'"
     ]
    }
   ],
   "source": [
    "df_classification.describe()"
   ]
  },
  {
   "cell_type": "markdown",
   "metadata": {},
   "source": [
    "### Run configurations"
   ]
  },
  {
   "cell_type": "code",
   "execution_count": null,
   "metadata": {},
   "outputs": [
    {
     "ename": "",
     "evalue": "",
     "output_type": "error",
     "traceback": [
      "\u001b[1;31mRunning cells with 'c:\\Users\\Wojciech\\AppData\\Local\\Programs\\Python\\Python39\\python.exe' requires the ipykernel package.\n",
      "\u001b[1;31mRun the following command to install 'ipykernel' into the Python environment. \n",
      "\u001b[1;31mCommand: 'c:/Users/Wojciech/AppData/Local/Programs/Python/Python39/python.exe -m pip install ipykernel -U --user --force-reinstall'"
     ]
    }
   ],
   "source": [
    "from sklearn.metrics import mean_absolute_error, mean_squared_error, r2_score\n",
    "from sklearn.metrics import accuracy_score, roc_auc_score, precision_score, recall_score, f1_score\n",
    "def results_metrics(y_true, y_pred, regression=False):\n",
    "    if regression:\n",
    "        mae = mean_absolute_error(y_true, y_pred)\n",
    "        rmse = mean_squared_error(y_true, y_pred, squared=False)\n",
    "        mse = mean_squared_error(y_true, y_pred)\n",
    "        r2 = r2_score(y_true, y_pred)\n",
    "        return [mae, rmse, mse, r2]\n",
    "    else:\n",
    "        accuracy = accuracy_score(y_true, y_pred)\n",
    "        roc_auc = roc_auc_score(y_true, y_pred)\n",
    "        precision = precision_score(y_true, y_pred)\n",
    "        recall = recall_score(y_true, y_pred)\n",
    "        f1 = f1_score(y_true, y_pred)\n",
    "        return [accuracy, roc_auc, precision, recall, f1]"
   ]
  },
  {
   "cell_type": "code",
   "execution_count": null,
   "metadata": {},
   "outputs": [
    {
     "ename": "",
     "evalue": "",
     "output_type": "error",
     "traceback": [
      "\u001b[1;31mRunning cells with 'c:\\Users\\Wojciech\\AppData\\Local\\Programs\\Python\\Python39\\python.exe' requires the ipykernel package.\n",
      "\u001b[1;31mRun the following command to install 'ipykernel' into the Python environment. \n",
      "\u001b[1;31mCommand: 'c:/Users/Wojciech/AppData/Local/Programs/Python/Python39/python.exe -m pip install ipykernel -U --user --force-reinstall'"
     ]
    }
   ],
   "source": [
    "def run_rf(X_train, X_test, X_valid, y_train, y_test, y_valid, n_estimators, max_depth, min_samples_split, min_samples_leaf, regression=False):\n",
    "    \n",
    "    if regression:\n",
    "        name = \"RandomForestRegressor\"\n",
    "        model = RandomForestRegressor(n_estimators=n_estimators, max_depth=max_depth, min_samples_split=min_samples_split, min_samples_leaf=min_samples_leaf)\n",
    "    else:\n",
    "        name = \"RandomForestClassifier\"\n",
    "        model = RandomForestClassifier(n_estimators=n_estimators, max_depth=max_depth, min_samples_split=min_samples_split, min_samples_leaf=min_samples_leaf)\n",
    "        \n",
    "    model.fit(X_train, y_train)\n",
    "    y_predicted = model.predict(X_test)\n",
    "    results = results_metrics(y_test, y_predicted, regression)\n",
    "\n",
    "    output_str = f\"{name}-{n_estimators}-{max_depth}-{min_samples_split}-{min_samples_leaf}; \"\n",
    "    if regression: output_str += f\"MAE: {results[0]} | RMSE: {results[1]} | MSE: {results[2]} | R2: {results[3]}\"\n",
    "    else: output_str += f\"Accuracy: {results[0]} | ROC-AUC: {results[1]} | Precision: {results[2]} | Recall: {results[3]} | F1: {results[4]}\"\n",
    "    return (output_str)\n",
    "\n",
    "def run_lr(X_train, X_test, X_valid, y_train, y_test, y_valid, C, penalty, solver, regression=False):\n",
    "    if regression:\n",
    "        name = \"LinearRegression\"\n",
    "        model = LinearRegression()\n",
    "    else:\n",
    "        name = \"LogisticRegression\"\n",
    "        model = LogisticRegression(C=C, penalty=penalty, solver=solver)\n",
    "        \n",
    "    model.fit(X_train, y_train)\n",
    "    y_predicted = model.predict(X_test)\n",
    "    results = results_metrics(y_test, y_predicted, regression)\n",
    "\n",
    "    output_str = f\"{name}-{C}-{penalty}-{solver}; \"\n",
    "    if regression: output_str += f\"MAE: {results[0]} | RMSE: {results[1]} | MSE: {results[2]} | R2: {results[3]}\"\n",
    "    else: output_str += f\"Accuracy: {results[0]} | ROC-AUC: {results[1]} | Precision: {results[2]} | Recall: {results[3]} | F1: {results[4]}\"\n",
    "    return (output_str)\n",
    "\n",
    "def run_nn(X_train, X_test, X_valid, y_train, y_test, y_valid, hidden_layer_sizes, activation, alpha, max_iter, regression=False):\n",
    "    if regression:\n",
    "        name = \"MLPRegressor\"\n",
    "        model = MLPRegressor(hidden_layer_sizes=hidden_layer_sizes, activation=activation, alpha=alpha, max_iter=max_iter)\n",
    "    else:\n",
    "        name = \"MLPClassifier\"\n",
    "        model = MLPClassifier(hidden_layer_sizes=hidden_layer_sizes, activation=activation, alpha=alpha, max_iter=max_iter)\n",
    "         \n",
    "    model.fit(X_train, y_train)\n",
    "    y_predicted = model.predict(X_test)\n",
    "    results = results_metrics(y_test, y_predicted, regression)\n",
    "\n",
    "    output_str = f\"{name}-{hidden_layer_sizes}-{activation}-{alpha}-{max_iter}; \"\n",
    "    if regression: output_str += f\"MAE: {results[0]} | RMSE: {results[1]} | MSE: {results[2]} | R2: {results[3]}\"\n",
    "    else: output_str += f\"Accuracy: {results[0]} | ROC-AUC: {results[1]} | Precision: {results[2]} | Recall: {results[3]} | F1: {results[4]}\"\n",
    "    return (output_str)\n",
    "\n",
    "def run_gb(X_train, X_test, X_valid, y_train, y_test, y_valid, n_estimators, learning_rate, regression=False):\n",
    "    if regression:\n",
    "        name = \"GradientBoostingRegressor\"\n",
    "        model = GradientBoostingRegressor(n_estimators=n_estimators, learning_rate=learning_rate)\n",
    "    else:\n",
    "        name = \"GradientBoostingClassifier\"\n",
    "        model = GradientBoostingClassifier(n_estimators=n_estimators, learning_rate=learning_rate)\n",
    "\n",
    "    model.fit(X_train, y_train)\n",
    "    y_predicted = model.predict(X_test)\n",
    "    results = results_metrics(y_test, y_predicted, regression)\n",
    "    \n",
    "    output_str = f\"{name}-{n_estimators}-{learning_rate}; \"\n",
    "    if regression: output_str += f\"MAE: {results[0]} | RMSE: {results[1]} | MSE: {results[2]} | R2: {results[3]}\"\n",
    "    else: output_str += f\"Accuracy: {results[0]} | ROC-AUC: {results[1]} | Precision: {results[2]} | Recall: {results[3]} | F1: {results[4]}\"\n",
    "    return output_str\n",
    "\n",
    "def run_svm(X_train, X_test, X_valid, y_train, y_test, y_valid, c, d, e, regression=False):\n",
    "    if regression:\n",
    "        name = \"SVR\"\n",
    "        model = SVR(C=c, degree=d, epsilon=e, kernel=\"poly\")\n",
    "    else:\n",
    "        name = \"SVC\"\n",
    "        model = SVC(C=c, degree=d, kernel=\"poly\") ### Epsilon is ignored\n",
    "\n",
    "    model.fit(X_train, y_train)\n",
    "    y_predicted = model.predict(X_test)\n",
    "    results = results_metrics(y_test, y_predicted, regression)\n",
    "    \n",
    "    output_str = f\"{name}-{c}-{d}-{e}; \"\n",
    "    if regression: output_str += f\"MAE: {results[0]} | RMSE: {results[1]} | MSE: {results[2]} | R2: {results[3]}\"\n",
    "    else: output_str += f\"Accuracy: {results[0]} | ROC-AUC: {results[1]} | Precision: {results[2]} | Recall: {results[3]} | F1: {results[4]}\"\n",
    "    return output_str"
   ]
  },
  {
   "cell_type": "code",
   "execution_count": null,
   "metadata": {},
   "outputs": [
    {
     "ename": "",
     "evalue": "",
     "output_type": "error",
     "traceback": [
      "\u001b[1;31mRunning cells with 'c:\\Users\\Wojciech\\AppData\\Local\\Programs\\Python\\Python39\\python.exe' requires the ipykernel package.\n",
      "\u001b[1;31mRun the following command to install 'ipykernel' into the Python environment. \n",
      "\u001b[1;31mCommand: 'c:/Users/Wojciech/AppData/Local/Programs/Python/Python39/python.exe -m pip install ipykernel -U --user --force-reinstall'"
     ]
    }
   ],
   "source": [
    "def run_rf_specific(X_train, X_test, X_valid, y_train, y_test, y_valid, regression=False):\n",
    "    if regression:\n",
    "        bootstrap = True,\n",
    "        criterion = \"mse\",\n",
    "        min_samples_split = 32,\n",
    "        n_estimators = 100\n",
    "        name = \"RandomForestRegressor\"\n",
    "        model = RandomForestRegressor(n_estimators=n_estimators, min_samples_split=min_samples_split, criterion=criterion, bootstrap=bootstrap)\n",
    "    else:\n",
    "        bootstrap = True,\n",
    "        criterion = \"entropy\",\n",
    "        min_samples_split = 32,\n",
    "        n_estimators = 30\n",
    "        name = \"RandomForestClassifier\"\n",
    "        model = RandomForestClassifier(n_estimators=n_estimators, min_samples_split=min_samples_split, criterion=criterion, bootstrap=bootstrap)\n",
    "        \n",
    "    model.fit(X_train, y_train)\n",
    "    y_predicted = model.predict(X_test)\n",
    "    results = results_metrics(y_test, y_predicted, regression)\n",
    "\n",
    "    output_str = f\"{name}-SPECIFIC RUN; \"\n",
    "    if regression: output_str += f\"MAE: {results[0]} | RMSE: {results[1]} | MSE: {results[2]} | R2: {results[3]}\"\n",
    "    else: output_str += f\"Accuracy: {results[0]} | ROC-AUC: {results[1]} | Precision: {results[2]} | Recall: {results[3]} | F1: {results[4]}\"\n",
    "    return (output_str)\n",
    "    "
   ]
  },
  {
   "cell_type": "code",
   "execution_count": null,
   "metadata": {},
   "outputs": [
    {
     "ename": "",
     "evalue": "",
     "output_type": "error",
     "traceback": [
      "\u001b[1;31mRunning cells with 'c:\\Users\\Wojciech\\AppData\\Local\\Programs\\Python\\Python39\\python.exe' requires the ipykernel package.\n",
      "\u001b[1;31mRun the following command to install 'ipykernel' into the Python environment. \n",
      "\u001b[1;31mCommand: 'c:/Users/Wojciech/AppData/Local/Programs/Python/Python39/python.exe -m pip install ipykernel -U --user --force-reinstall'"
     ]
    }
   ],
   "source": [
    "def run_all(X_train, X_test, X_valid, y_train, y_test, y_valid, regression=False):\n",
    "    results = []\n",
    "\n",
    "    print(\"Run\")\n",
    "\n",
    "    #### -----\n",
    "\n",
    "    param_grid_rf={\n",
    "        'n_estimators': [50, 100],\n",
    "        'max_depth': [None, 10, 20],\n",
    "        'min_samples_split': [2, 5, 10],\n",
    "        'min_samples_leaf': [1, 2, 4]\n",
    "    }\n",
    "    param_combinations = list(product(*param_grid_rf.values()))\n",
    "    for combination in param_combinations:\n",
    "        n, m, s, l = combination\n",
    "        results.append(run_rf(X_train, X_test, X_valid, y_train, y_test, y_valid, n, m, s, l, regression))\n",
    "        print(results[-1])\n",
    "    ### -----\n",
    "\n",
    "    param_grid_lr = {\n",
    "        'C': [0.001, 0.01, 0.1, 1, 10, 100],\n",
    "        'penalty': ['l1', 'l2'],\n",
    "        'solver': ['liblinear', 'saga']\n",
    "    }\n",
    "    if regression:\n",
    "        param_grid_lr = {\n",
    "            'C': [0.001],\n",
    "            'penalty': ['l1'],\n",
    "            'solver': ['liblinear']\n",
    "        }\n",
    "    param_combinations = list(product(*param_grid_lr.values()))\n",
    "    for combination in param_combinations:\n",
    "        C, p, s = combination\n",
    "        results.append(run_lr(X_train, X_test, X_valid, y_train, y_test, y_valid, C, p, s, regression))\n",
    "        print(results[-1])\n",
    "    ### -----\n",
    "\n",
    "    param_grid_mlp = {\n",
    "        'hidden_layer_sizes': [(50,), (100,), (50, 50)],\n",
    "        'activation': ['relu', 'tanh'],\n",
    "        'alpha': [0.0001, 0.001, 0.01],\n",
    "        'max_iter': [200, 500, 1000]\n",
    "    }\n",
    "    param_combinations = list(product(*param_grid_mlp.values()))\n",
    "    for combination in param_combinations:\n",
    "        h, ac, a, i = combination\n",
    "        results.append(run_nn(X_train, X_test, X_valid, y_train, y_test, y_valid, h, ac, a, i, regression))\n",
    "        print(results[-1])\n",
    "    ### -----\n",
    "\n",
    "    param_grid_gb={\n",
    "        'n_estimators': [10, 100, 200], \n",
    "        'learning_rate': [0.1,0.5,1.0,2.0]\n",
    "    }\n",
    "    param_combinations = list(product(*param_grid_gb.values()))\n",
    "    for combination in param_combinations:\n",
    "        n, lr = combination\n",
    "        results.append(run_gb(X_train, X_test, X_valid, y_train, y_test, y_valid, n, lr, regression))\n",
    "        print(results[-1])\n",
    "    ### -----\n",
    "    \n",
    "    param_grid_svm = {\n",
    "        'C': [0.01, 0.1, 1, 10, 100, 1000],\n",
    "        'degree': [2, 3, 4, 5],\n",
    "        'epsilon': [\"no epsilon\"]\n",
    "    }\n",
    "    \n",
    "    if regression:\n",
    "        param_grid_svm = {\n",
    "            'C': [0.01, 0.1, 1, 10, 100, 1000],\n",
    "            'degree': [2, 3, 4],\n",
    "            'epsilon': [0.01, 0.1, 1]\n",
    "        }\n",
    "        param_combinations = list(product(*param_grid_svm.values()))\n",
    "        for combination in param_combinations:\n",
    "            c, d, e = combination\n",
    "            results.append(run_svm(X_train, X_test, X_valid, y_train, y_test, y_valid, c, d, e, regression))\n",
    "            print(results[-1])\n",
    "    \n",
    "    return results"
   ]
  },
  {
   "cell_type": "code",
   "execution_count": null,
   "metadata": {},
   "outputs": [
    {
     "ename": "",
     "evalue": "",
     "output_type": "error",
     "traceback": [
      "\u001b[1;31mRunning cells with 'c:\\Users\\Wojciech\\AppData\\Local\\Programs\\Python\\Python39\\python.exe' requires the ipykernel package.\n",
      "\u001b[1;31mRun the following command to install 'ipykernel' into the Python environment. \n",
      "\u001b[1;31mCommand: 'c:/Users/Wojciech/AppData/Local/Programs/Python/Python39/python.exe -m pip install ipykernel -U --user --force-reinstall'"
     ]
    }
   ],
   "source": [
    "def run_configured(regression=False, pca=False, specific_run=False):\n",
    "    sc = StandardScaler()\n",
    "\n",
    "    if regression:\n",
    "        X_train = X_train_regre\n",
    "        X_test =  X_test_regre\n",
    "        X_valid = X_valid_regre\n",
    "        y_train = y_train_regre\n",
    "        y_test =  y_test_regre\n",
    "        y_valid = y_valid_regre\n",
    "    else:\n",
    "        X_train = X_train_class\n",
    "        X_test =  X_test_class\n",
    "        X_valid = X_valid_class\n",
    "        y_train = y_train_class\n",
    "        y_test =  y_test_class\n",
    "        y_valid = y_valid_class\n",
    "\n",
    "    if pca:\n",
    "        pca = PCA(n_components=0.95)\n",
    "        X_train = pca.fit_transform(X_train)\n",
    "        X_test =  pca.fit_transform(X_test)\n",
    "        X_valid = pca.fit_transform(X_valid)\n",
    "\n",
    "    if specific_run:\n",
    "        results = run_rf_specific(X_train, X_test, X_valid, y_train, y_test, y_valid, regression=regression)\n",
    "        csv_path = \"BACE_specific_run_\"\n",
    "        if regression: csv_path += \"regression\" \n",
    "        else: csv_path += \"classification\"\n",
    "        if pca: csv_path += \"_pca\"\n",
    "        data_tuples = [tuple(item.split('; ')) for item in results]\n",
    "        df = pd.DataFrame(data_tuples, columns=['Classifier', 'Accuracy'])\n",
    "        df.to_csv(csv_path)\n",
    "        return\n",
    "\n",
    "    results = run_all(X_train, X_test, X_valid, y_train, y_test, y_valid, regression=regression)\n",
    "\n",
    "    csv_path = \"BACE_comparison_results_\"\n",
    "    if scaffold: csv_path = \"Scaffold/\" + csv_path\n",
    "    else: csv_path = \"No_scaffold/\" + csv_path\n",
    "    if regression: csv_path += \"regression\" \n",
    "    else: csv_path += \"classification\"\n",
    "    if not scaffold: csv_path += \"_no\"\n",
    "    csv_path += \"_scaffold\"\n",
    "    if pca: csv_path += \"_pca\"\n",
    "    csv_path += \"_svm.csv\"\n",
    "\n",
    "    data_tuples = [tuple(item.split('; ')) for item in results]\n",
    "    df = pd.DataFrame(data_tuples, columns=['Classifier', 'Accuracy'])\n",
    "    df.to_csv(csv_path)\n",
    "\n",
    "    return"
   ]
  },
  {
   "cell_type": "code",
   "execution_count": null,
   "metadata": {},
   "outputs": [
    {
     "ename": "",
     "evalue": "",
     "output_type": "error",
     "traceback": [
      "\u001b[1;31mRunning cells with 'c:\\Users\\Wojciech\\AppData\\Local\\Programs\\Python\\Python39\\python.exe' requires the ipykernel package.\n",
      "\u001b[1;31mRun the following command to install 'ipykernel' into the Python environment. \n",
      "\u001b[1;31mCommand: 'c:/Users/Wojciech/AppData/Local/Programs/Python/Python39/python.exe -m pip install ipykernel -U --user --force-reinstall'"
     ]
    }
   ],
   "source": [
    "run_grid = {\n",
    "        'regression': [False, True],\n",
    "        'pca': [False, True]\n",
    "    }\n",
    "\n",
    "run_param_combinations = list(product(*run_grid.values()))\n",
    "\n",
    "for combination in run_param_combinations:\n",
    "    r, p = combination\n",
    "    run_configured(r, p, specific_run=True) ### This arguments runs only rf with a specific configuration"
   ]
  }
 ],
 "metadata": {
  "kernelspec": {
   "display_name": "Python 3",
   "language": "python",
   "name": "python3"
  },
  "language_info": {
   "codemirror_mode": {
    "name": "ipython",
    "version": 3
   },
   "file_extension": ".py",
   "mimetype": "text/x-python",
   "name": "python",
   "nbconvert_exporter": "python",
   "pygments_lexer": "ipython3",
   "version": "3.9.5"
  }
 },
 "nbformat": 4,
 "nbformat_minor": 2
}
