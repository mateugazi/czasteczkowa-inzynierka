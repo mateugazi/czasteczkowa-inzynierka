{
 "cells": [
  {
   "cell_type": "markdown",
   "metadata": {},
   "source": [
    "# Imports "
   ]
  },
  {
   "cell_type": "code",
   "execution_count": 1,
   "metadata": {},
   "outputs": [],
   "source": [
    "import warnings\n",
    "from itertools import product\n",
    "\n",
    "import numpy as np\n",
    "import pandas as pd\n",
    "from mordred import Calculator, descriptors\n",
    "from rdkit import Chem\n",
    "from rdkit.Chem import AllChem\n",
    "from sklearn.decomposition import PCA\n",
    "from sklearn.ensemble import GradientBoostingClassifier, RandomForestClassifier, RandomForestRegressor, GradientBoostingRegressor\n",
    "from sklearn.linear_model import LogisticRegression, LinearRegression\n",
    "from sklearn.model_selection import (StratifiedKFold, KFold,\n",
    "                                     cross_val_score, train_test_split)\n",
    "from sklearn.neural_network import MLPClassifier, MLPRegressor\n",
    "from sklearn.preprocessing import StandardScaler\n",
    "\n",
    "warnings.filterwarnings(\"ignore\", category=Warning)\n",
    "\n",
    "N_SPLITS = 2\n",
    "RANDOM_STATE = 148260"
   ]
  },
  {
   "cell_type": "code",
   "execution_count": 2,
   "metadata": {},
   "outputs": [],
   "source": [
    "def CalculateMorganFingerprint(mol):\n",
    "    mfpgen = AllChem.GetMorganGenerator(radius=2,fpSize=2048)\n",
    "    fingerprint = np.array([mfpgen.GetFingerprintAsNumPy(x) for x in mol])\n",
    "    fingerprint = pd.DataFrame(fingerprint, columns = ['mfp'+str(i) for i in range(fingerprint.shape[1])])\n",
    "    return fingerprint"
   ]
  },
  {
   "cell_type": "code",
   "execution_count": 3,
   "metadata": {},
   "outputs": [],
   "source": [
    "def CalculateDescriptors(mol):\n",
    "    calc = Calculator(descriptors, ignore_3D=False)\n",
    "    X_mordred = calc.pandas(mol, nproc=1)\n",
    "    X_mordred = X_mordred.select_dtypes(['number'])\n",
    "    #normalize\n",
    "    X_mordred = (X_mordred-X_mordred.min())/(X_mordred.max()-X_mordred.min())\n",
    "    #drop columns wth low std\n",
    "    X_mordred = X_mordred.loc[:,X_mordred.std()>0.01]\n",
    "    return X_mordred"
   ]
  },
  {
   "cell_type": "code",
   "execution_count": 4,
   "metadata": {},
   "outputs": [],
   "source": [
    "def LoadDatasetCSV(path, threshold=7.0, regression = False):\n",
    "    df = pd.read_csv(path)\n",
    "    df['molecule_from_smiles'] = df['smiles'].apply(Chem.MolFromSmiles)\n",
    "    df['smiles'] = df['smiles'].map(lambda x: Chem.MolToSmiles(Chem.MolFromSmiles(x)))\n",
    "    df.drop_duplicates('smiles')\n",
    "    df = df.dropna()\n",
    "    if regression:\n",
    "        df['Target'] = df['pIC50']\n",
    "    else:\n",
    "        df['Target'] = df['pIC50'] > threshold\n",
    "    return df"
   ]
  },
  {
   "cell_type": "code",
   "execution_count": 5,
   "metadata": {},
   "outputs": [],
   "source": [
    "def split_data(df, approach = 'desc', split = 0.7):\n",
    "    #TODO: support for different approaches - if applicable\n",
    "    if approach == 'desc':\n",
    "        X = CalculateDescriptors(df['molecule_from_smiles'])\n",
    "    else:\n",
    "        X = CalculateMorganFingerprint(df['molecule_from_smiles'])\n",
    "    y = df[\"Target\"]\n",
    "    X_train, X_test, y_train, y_test = train_test_split(X, y, test_size=(1-split), random_state=42)\n",
    "    return X_train, y_train, X_test, y_test"
   ]
  },
  {
   "cell_type": "code",
   "execution_count": 6,
   "metadata": {},
   "outputs": [],
   "source": [
    "def run_rf(X, y, n_estimators, max_depth, min_samples_split, min_samples_leaf, regression=False):\n",
    "    if regression:\n",
    "        name = \"RandomForestRegressor\"\n",
    "        model = RandomForestRegressor(n_estimators=n_estimators, max_depth=max_depth, min_samples_split=min_samples_split, min_samples_leaf=min_samples_leaf)\n",
    "        cv = KFold(n_splits=N_SPLITS, shuffle=True, random_state=RANDOM_STATE)\n",
    "        scoring = 'neg_mean_squared_error'\n",
    "    else:\n",
    "        name = \"RandomForestClassifier\"\n",
    "        model = RandomForestClassifier(n_estimators=n_estimators, max_depth=max_depth, min_samples_split=min_samples_split, min_samples_leaf=min_samples_leaf)\n",
    "        cv = StratifiedKFold(n_splits=N_SPLITS, shuffle=True, random_state=RANDOM_STATE)\n",
    "        scoring = 'accuracy'\n",
    "    scores = cross_val_score(model, X, y, cv=cv, scoring=scoring)\n",
    "    mean_accuracy = scores.mean()\n",
    "    return (f\"{name}-{n_estimators}-{max_depth}-{min_samples_split}-{min_samples_leaf}; {mean_accuracy:.4f}\")\n",
    "\n",
    "def run_lr(X, y, C, penalty, solver, regression=False):\n",
    "    if regression:\n",
    "        name = \"LinearRegression\"\n",
    "        model = LinearRegression()\n",
    "        cv = KFold(n_splits=N_SPLITS, shuffle=True, random_state=RANDOM_STATE)\n",
    "        scoring = 'neg_mean_squared_error'\n",
    "    else:\n",
    "        name = \"LogisticRegression\"\n",
    "        model = LogisticRegression(C=C, penalty=penalty, solver=solver)\n",
    "        cv = StratifiedKFold(n_splits=N_SPLITS, shuffle=True, random_state=RANDOM_STATE)\n",
    "        scoring = 'accuracy'\n",
    "    scores = cross_val_score(model, X, y, cv=cv, scoring=scoring)\n",
    "    mean_accuracy = scores.mean()\n",
    "    return (f\"{name}-{C}-{penalty}-{solver}; {mean_accuracy:.4f}\")\n",
    "\n",
    "def run_nn(X, y, hidden_layer_sizes, activation, alpha, max_iter, regression=False):\n",
    "    if regression:\n",
    "        name = \"MLPRegressor\"\n",
    "        model = MLPRegressor(hidden_layer_sizes=hidden_layer_sizes, activation=activation, alpha=alpha, max_iter=max_iter)\n",
    "        cv = KFold(n_splits=N_SPLITS, shuffle=True, random_state=RANDOM_STATE)\n",
    "        scoring = 'neg_mean_squared_error'\n",
    "    else:\n",
    "        name = \"MLPClassifier\"\n",
    "        model = MLPClassifier(hidden_layer_sizes=hidden_layer_sizes, activation=activation, alpha=alpha, max_iter=max_iter)\n",
    "        cv = StratifiedKFold(n_splits=N_SPLITS, shuffle=True, random_state=RANDOM_STATE)\n",
    "        scoring = 'accuracy'\n",
    "    scores = cross_val_score(model, X, y, cv=cv, scoring=scoring)\n",
    "    mean_accuracy = scores.mean()\n",
    "    return (f\"{name}-{hidden_layer_sizes}-{activation}-{alpha}-{max_iter}; {mean_accuracy:.4f}\")\n",
    "\n",
    "def run_gb(X, y, n_estimators, learning_rate, regression=False):\n",
    "    if regression:\n",
    "        name = \"GradientBoostingRegressor\"\n",
    "        model = GradientBoostingRegressor(n_estimators=n_estimators, learning_rate=learning_rate)\n",
    "        cv = KFold(n_splits=N_SPLITS, shuffle=True, random_state=RANDOM_STATE)\n",
    "        scoring = 'neg_mean_squared_error'\n",
    "    else:\n",
    "        name = \"GradientBoostingClassifier\"\n",
    "        model = GradientBoostingClassifier(n_estimators=n_estimators, learning_rate=learning_rate)\n",
    "        cv = StratifiedKFold(n_splits=N_SPLITS, shuffle=True, random_state=RANDOM_STATE)\n",
    "        scoring = 'accuracy'\n",
    "    scores = cross_val_score(model, X, y, cv=cv, scoring=scoring)\n",
    "    mean_accuracy = scores.mean()\n",
    "    return (f\"{name}-{n_estimators}-{learning_rate}; {mean_accuracy:.4f}\")"
   ]
  },
  {
   "cell_type": "code",
   "execution_count": 7,
   "metadata": {},
   "outputs": [],
   "source": [
    "def run_all(X, y, regression=False):\n",
    "    results = []\n",
    "    param_grid_rf={\n",
    "        'n_estimators': [50, 100, 200],\n",
    "        'max_depth': [None, 10, 20],\n",
    "        'min_samples_split': [2, 5, 10],\n",
    "        'min_samples_leaf': [1, 2, 4]\n",
    "    }\n",
    "    param_combinations = list(product(*param_grid_rf.values()))\n",
    "    for combination in param_combinations:\n",
    "        n, m, s, l = combination\n",
    "        results.append(run_rf(X, y, n, m, s, l, regression))\n",
    "    param_grid_lr = {\n",
    "        'C': [0.001, 0.01, 0.1, 1, 10, 100],\n",
    "        'penalty': ['l1', 'l2'],\n",
    "        'solver': ['liblinear', 'saga']\n",
    "    }\n",
    "    if regression:\n",
    "        param_grid_lr = {\n",
    "            'C': [0.001],\n",
    "            'penalty': ['l1'],\n",
    "            'solver': ['liblinear']\n",
    "        }\n",
    "    param_combinations = list(product(*param_grid_lr.values()))\n",
    "    for combination in param_combinations:\n",
    "        C, p, s = combination\n",
    "        results.append(run_lr(X, y, C, p, s, regression))\n",
    "    param_grid_mlp = {\n",
    "        'hidden_layer_sizes': [(50,), (100,), (50, 50)],\n",
    "        'activation': ['relu', 'tanh'],\n",
    "        'alpha': [0.0001, 0.001, 0.01],\n",
    "        'max_iter': [200, 500, 1000]\n",
    "    }\n",
    "    param_combinations = list(product(*param_grid_mlp.values()))\n",
    "    for combination in param_combinations:\n",
    "        h, ac, a, i = combination\n",
    "        results.append(run_nn(X, y, h, ac, a, i, regression))\n",
    "    param_grid_gb={\n",
    "        'n_estimators': [10, 100, 200], \n",
    "        'learning_rate': [0.1,0.5,1.0,2.0]\n",
    "    }\n",
    "    param_combinations = list(product(*param_grid_gb.values()))\n",
    "    for combination in param_combinations:\n",
    "        n, lr = combination\n",
    "        results.append(run_gb(X, y, n, lr, regression))\n",
    "        \n",
    "    return results"
   ]
  },
  {
   "cell_type": "code",
   "execution_count": 8,
   "metadata": {},
   "outputs": [
    {
     "data": {
      "text/html": [
       "<div>\n",
       "<style scoped>\n",
       "    .dataframe tbody tr th:only-of-type {\n",
       "        vertical-align: middle;\n",
       "    }\n",
       "\n",
       "    .dataframe tbody tr th {\n",
       "        vertical-align: top;\n",
       "    }\n",
       "\n",
       "    .dataframe thead th {\n",
       "        text-align: right;\n",
       "    }\n",
       "</style>\n",
       "<table border=\"1\" class=\"dataframe\">\n",
       "  <thead>\n",
       "    <tr style=\"text-align: right;\">\n",
       "      <th></th>\n",
       "      <th>smiles</th>\n",
       "      <th>pIC50</th>\n",
       "      <th>molecule_from_smiles</th>\n",
       "      <th>Target</th>\n",
       "    </tr>\n",
       "  </thead>\n",
       "  <tbody>\n",
       "    <tr>\n",
       "      <th>0</th>\n",
       "      <td>Cc1ccccc1-c1ccc2nc(N)c(C[C@@H](C)C(=O)N[C@@H]3...</td>\n",
       "      <td>9.154901</td>\n",
       "      <td>&lt;rdkit.Chem.rdchem.Mol object at 0x0000025DD51...</td>\n",
       "      <td>True</td>\n",
       "    </tr>\n",
       "    <tr>\n",
       "      <th>1</th>\n",
       "      <td>CCCO[C@H]1C[NH2+][C@@H]([C@@H](O)[C@H](Cc2cc(F...</td>\n",
       "      <td>8.853872</td>\n",
       "      <td>&lt;rdkit.Chem.rdchem.Mol object at 0x0000025DD51...</td>\n",
       "      <td>True</td>\n",
       "    </tr>\n",
       "    <tr>\n",
       "      <th>2</th>\n",
       "      <td>CCc1cn2c3c(cc(C(=O)N[C@@H](Cc4ccccc4)[C@H](O)C...</td>\n",
       "      <td>8.698970</td>\n",
       "      <td>&lt;rdkit.Chem.rdchem.Mol object at 0x0000025DD51...</td>\n",
       "      <td>True</td>\n",
       "    </tr>\n",
       "    <tr>\n",
       "      <th>3</th>\n",
       "      <td>CCOC[C@@H](Oc1cc(C[C@@H]2CS(=O)(=O)C[C@H]([NH2...</td>\n",
       "      <td>8.698970</td>\n",
       "      <td>&lt;rdkit.Chem.rdchem.Mol object at 0x0000025DD51...</td>\n",
       "      <td>True</td>\n",
       "    </tr>\n",
       "    <tr>\n",
       "      <th>4</th>\n",
       "      <td>CCc1cn2c3c(cc(C(=O)N[C@@H](Cc4ccccc4)[C@H](O)C...</td>\n",
       "      <td>8.698970</td>\n",
       "      <td>&lt;rdkit.Chem.rdchem.Mol object at 0x0000025DD51...</td>\n",
       "      <td>True</td>\n",
       "    </tr>\n",
       "  </tbody>\n",
       "</table>\n",
       "</div>"
      ],
      "text/plain": [
       "                                              smiles     pIC50   \n",
       "0  Cc1ccccc1-c1ccc2nc(N)c(C[C@@H](C)C(=O)N[C@@H]3...  9.154901  \\\n",
       "1  CCCO[C@H]1C[NH2+][C@@H]([C@@H](O)[C@H](Cc2cc(F...  8.853872   \n",
       "2  CCc1cn2c3c(cc(C(=O)N[C@@H](Cc4ccccc4)[C@H](O)C...  8.698970   \n",
       "3  CCOC[C@@H](Oc1cc(C[C@@H]2CS(=O)(=O)C[C@H]([NH2...  8.698970   \n",
       "4  CCc1cn2c3c(cc(C(=O)N[C@@H](Cc4ccccc4)[C@H](O)C...  8.698970   \n",
       "\n",
       "                                molecule_from_smiles  Target  \n",
       "0  <rdkit.Chem.rdchem.Mol object at 0x0000025DD51...    True  \n",
       "1  <rdkit.Chem.rdchem.Mol object at 0x0000025DD51...    True  \n",
       "2  <rdkit.Chem.rdchem.Mol object at 0x0000025DD51...    True  \n",
       "3  <rdkit.Chem.rdchem.Mol object at 0x0000025DD51...    True  \n",
       "4  <rdkit.Chem.rdchem.Mol object at 0x0000025DD51...    True  "
      ]
     },
     "execution_count": 8,
     "metadata": {},
     "output_type": "execute_result"
    }
   ],
   "source": [
    "data_classification = LoadDatasetCSV(\"data\\processed\\simple_input_data.csv\")\n",
    "data_classification.head()"
   ]
  },
  {
   "cell_type": "code",
   "execution_count": 9,
   "metadata": {},
   "outputs": [
    {
     "data": {
      "text/html": [
       "<div>\n",
       "<style scoped>\n",
       "    .dataframe tbody tr th:only-of-type {\n",
       "        vertical-align: middle;\n",
       "    }\n",
       "\n",
       "    .dataframe tbody tr th {\n",
       "        vertical-align: top;\n",
       "    }\n",
       "\n",
       "    .dataframe thead th {\n",
       "        text-align: right;\n",
       "    }\n",
       "</style>\n",
       "<table border=\"1\" class=\"dataframe\">\n",
       "  <thead>\n",
       "    <tr style=\"text-align: right;\">\n",
       "      <th></th>\n",
       "      <th>smiles</th>\n",
       "      <th>pIC50</th>\n",
       "      <th>molecule_from_smiles</th>\n",
       "      <th>Target</th>\n",
       "    </tr>\n",
       "  </thead>\n",
       "  <tbody>\n",
       "    <tr>\n",
       "      <th>0</th>\n",
       "      <td>Cc1ccccc1-c1ccc2nc(N)c(C[C@@H](C)C(=O)N[C@@H]3...</td>\n",
       "      <td>9.154901</td>\n",
       "      <td>&lt;rdkit.Chem.rdchem.Mol object at 0x0000025DD52...</td>\n",
       "      <td>9.154901</td>\n",
       "    </tr>\n",
       "    <tr>\n",
       "      <th>1</th>\n",
       "      <td>CCCO[C@H]1C[NH2+][C@@H]([C@@H](O)[C@H](Cc2cc(F...</td>\n",
       "      <td>8.853872</td>\n",
       "      <td>&lt;rdkit.Chem.rdchem.Mol object at 0x0000025DD52...</td>\n",
       "      <td>8.853872</td>\n",
       "    </tr>\n",
       "    <tr>\n",
       "      <th>2</th>\n",
       "      <td>CCc1cn2c3c(cc(C(=O)N[C@@H](Cc4ccccc4)[C@H](O)C...</td>\n",
       "      <td>8.698970</td>\n",
       "      <td>&lt;rdkit.Chem.rdchem.Mol object at 0x0000025DD52...</td>\n",
       "      <td>8.698970</td>\n",
       "    </tr>\n",
       "    <tr>\n",
       "      <th>3</th>\n",
       "      <td>CCOC[C@@H](Oc1cc(C[C@@H]2CS(=O)(=O)C[C@H]([NH2...</td>\n",
       "      <td>8.698970</td>\n",
       "      <td>&lt;rdkit.Chem.rdchem.Mol object at 0x0000025DD52...</td>\n",
       "      <td>8.698970</td>\n",
       "    </tr>\n",
       "    <tr>\n",
       "      <th>4</th>\n",
       "      <td>CCc1cn2c3c(cc(C(=O)N[C@@H](Cc4ccccc4)[C@H](O)C...</td>\n",
       "      <td>8.698970</td>\n",
       "      <td>&lt;rdkit.Chem.rdchem.Mol object at 0x0000025DD52...</td>\n",
       "      <td>8.698970</td>\n",
       "    </tr>\n",
       "  </tbody>\n",
       "</table>\n",
       "</div>"
      ],
      "text/plain": [
       "                                              smiles     pIC50   \n",
       "0  Cc1ccccc1-c1ccc2nc(N)c(C[C@@H](C)C(=O)N[C@@H]3...  9.154901  \\\n",
       "1  CCCO[C@H]1C[NH2+][C@@H]([C@@H](O)[C@H](Cc2cc(F...  8.853872   \n",
       "2  CCc1cn2c3c(cc(C(=O)N[C@@H](Cc4ccccc4)[C@H](O)C...  8.698970   \n",
       "3  CCOC[C@@H](Oc1cc(C[C@@H]2CS(=O)(=O)C[C@H]([NH2...  8.698970   \n",
       "4  CCc1cn2c3c(cc(C(=O)N[C@@H](Cc4ccccc4)[C@H](O)C...  8.698970   \n",
       "\n",
       "                                molecule_from_smiles    Target  \n",
       "0  <rdkit.Chem.rdchem.Mol object at 0x0000025DD52...  9.154901  \n",
       "1  <rdkit.Chem.rdchem.Mol object at 0x0000025DD52...  8.853872  \n",
       "2  <rdkit.Chem.rdchem.Mol object at 0x0000025DD52...  8.698970  \n",
       "3  <rdkit.Chem.rdchem.Mol object at 0x0000025DD52...  8.698970  \n",
       "4  <rdkit.Chem.rdchem.Mol object at 0x0000025DD52...  8.698970  "
      ]
     },
     "execution_count": 9,
     "metadata": {},
     "output_type": "execute_result"
    }
   ],
   "source": [
    "data_regression = LoadDatasetCSV(\"data\\processed\\simple_input_data.csv\", regression=True)\n",
    "data_regression.head()"
   ]
  },
  {
   "cell_type": "code",
   "execution_count": 10,
   "metadata": {},
   "outputs": [],
   "source": [
    "X_train_desc_classification, y_train_desc_classification, X_test_desc_classification, y_test_desc_classification = split_data(data_classification)"
   ]
  },
  {
   "cell_type": "code",
   "execution_count": 11,
   "metadata": {},
   "outputs": [],
   "source": [
    "X_train_desc_regression, y_train_desc_regression, X_test_desc_regression, y_test_desc_regression = split_data(data_regression)"
   ]
  },
  {
   "cell_type": "code",
   "execution_count": 12,
   "metadata": {},
   "outputs": [],
   "source": [
    "X_train_fp_classification, y_train_fp_classification, X_test_fp_classification, y_test_fp_classification = split_data(data_classification, approach = 'fp')"
   ]
  },
  {
   "cell_type": "code",
   "execution_count": 13,
   "metadata": {},
   "outputs": [],
   "source": [
    "X_train_fp_regression, y_train_fp_regression, X_test_fp_regression, y_test_fp_regression = split_data(data_regression, approach = 'fp')"
   ]
  },
  {
   "cell_type": "markdown",
   "metadata": {},
   "source": [
    "# Try out algorithms"
   ]
  },
  {
   "cell_type": "code",
   "execution_count": 14,
   "metadata": {},
   "outputs": [
    {
     "data": {
      "text/plain": [
       "'RandomForestClassifier-50-None-2-1; 0.8025'"
      ]
     },
     "execution_count": 14,
     "metadata": {},
     "output_type": "execute_result"
    }
   ],
   "source": [
    "run_rf(pd.concat([X_train_desc_classification, X_test_desc_classification]), pd.concat([y_train_desc_classification, y_test_desc_classification]), 50, None, 2, 1)"
   ]
  },
  {
   "cell_type": "code",
   "execution_count": 15,
   "metadata": {},
   "outputs": [
    {
     "data": {
      "text/plain": [
       "'RandomForestRegressor-50-None-2-1; -0.6464'"
      ]
     },
     "execution_count": 15,
     "metadata": {},
     "output_type": "execute_result"
    }
   ],
   "source": [
    "run_rf(pd.concat([X_train_desc_regression, X_test_desc_regression]), pd.concat([y_train_desc_regression, y_test_desc_regression]), 50, None, 2, 1, regression=True)"
   ]
  },
  {
   "cell_type": "code",
   "execution_count": 16,
   "metadata": {},
   "outputs": [
    {
     "data": {
      "text/plain": [
       "'RandomForestClassifier-50-None-2-1; 0.8045'"
      ]
     },
     "execution_count": 16,
     "metadata": {},
     "output_type": "execute_result"
    }
   ],
   "source": [
    "run_rf(pd.concat([X_train_fp_classification, X_test_fp_classification]), pd.concat([y_train_fp_classification, y_test_fp_classification]), 50, None, 2, 1)"
   ]
  },
  {
   "cell_type": "code",
   "execution_count": 17,
   "metadata": {},
   "outputs": [
    {
     "data": {
      "text/plain": [
       "'RandomForestRegressor-50-None-2-1; -0.6496'"
      ]
     },
     "execution_count": 17,
     "metadata": {},
     "output_type": "execute_result"
    }
   ],
   "source": [
    "run_rf(pd.concat([X_train_fp_regression, X_test_fp_regression]), pd.concat([y_train_fp_regression, y_test_fp_regression]), 50, None, 2, 1, regression=True)"
   ]
  },
  {
   "cell_type": "code",
   "execution_count": 18,
   "metadata": {},
   "outputs": [
    {
     "data": {
      "text/plain": [
       "'LogisticRegression-0.001-l1-liblinear; 0.5609'"
      ]
     },
     "execution_count": 18,
     "metadata": {},
     "output_type": "execute_result"
    }
   ],
   "source": [
    "run_lr(pd.concat([X_train_desc_classification, X_test_desc_classification]), pd.concat([y_train_desc_classification, y_test_desc_classification]), 0.001, 'l1', 'liblinear')"
   ]
  },
  {
   "cell_type": "code",
   "execution_count": 19,
   "metadata": {},
   "outputs": [
    {
     "data": {
      "text/plain": [
       "'LinearRegression-0.001-l1-liblinear; -3043280095969551581184.0000'"
      ]
     },
     "execution_count": 19,
     "metadata": {},
     "output_type": "execute_result"
    }
   ],
   "source": [
    "run_lr(pd.concat([X_train_desc_regression, X_test_desc_regression]), pd.concat([y_train_desc_regression, y_test_desc_regression]), 0.001, 'l1', 'liblinear', regression=True)"
   ]
  },
  {
   "cell_type": "code",
   "execution_count": 20,
   "metadata": {},
   "outputs": [
    {
     "data": {
      "text/plain": [
       "'LogisticRegression-0.001-l1-liblinear; 0.5609'"
      ]
     },
     "execution_count": 20,
     "metadata": {},
     "output_type": "execute_result"
    }
   ],
   "source": [
    "run_lr(pd.concat([X_train_fp_classification, X_test_fp_classification]), pd.concat([y_train_fp_classification, y_test_fp_classification]), 0.001, 'l1', 'liblinear')"
   ]
  },
  {
   "cell_type": "code",
   "execution_count": 21,
   "metadata": {},
   "outputs": [
    {
     "data": {
      "text/plain": [
       "'LinearRegression-0.001-l1-liblinear; -1347727095644696870912.0000'"
      ]
     },
     "execution_count": 21,
     "metadata": {},
     "output_type": "execute_result"
    }
   ],
   "source": [
    "run_lr(pd.concat([X_train_fp_regression, X_test_fp_regression]), pd.concat([y_train_fp_regression, y_test_fp_regression]), 0.001, 'l1', 'liblinear', regression=True)"
   ]
  },
  {
   "cell_type": "code",
   "execution_count": 22,
   "metadata": {},
   "outputs": [
    {
     "data": {
      "text/plain": [
       "'MLPClassifier-(50,)-relu-0.0001-200; 0.8018'"
      ]
     },
     "execution_count": 22,
     "metadata": {},
     "output_type": "execute_result"
    }
   ],
   "source": [
    "run_nn(pd.concat([X_train_desc_classification, X_test_desc_classification]), pd.concat([y_train_desc_classification, y_test_desc_classification]), (50,), 'relu', 0.0001, 200)"
   ]
  },
  {
   "cell_type": "code",
   "execution_count": 23,
   "metadata": {},
   "outputs": [
    {
     "data": {
      "text/plain": [
       "'MLPRegressor-(50,)-relu-0.0001-200; -0.7348'"
      ]
     },
     "execution_count": 23,
     "metadata": {},
     "output_type": "execute_result"
    }
   ],
   "source": [
    "run_nn(pd.concat([X_train_desc_regression, X_test_desc_regression]), pd.concat([y_train_desc_regression, y_test_desc_regression]), (50,), 'relu', 0.0001, 200, regression=True)"
   ]
  },
  {
   "cell_type": "code",
   "execution_count": 24,
   "metadata": {},
   "outputs": [
    {
     "data": {
      "text/plain": [
       "'MLPClassifier-(50,)-relu-0.0001-200; 0.7775'"
      ]
     },
     "execution_count": 24,
     "metadata": {},
     "output_type": "execute_result"
    }
   ],
   "source": [
    "run_nn(pd.concat([X_train_fp_classification, X_test_fp_classification]), pd.concat([y_train_fp_classification, y_test_fp_classification]), (50,), 'relu', 0.0001, 200)"
   ]
  },
  {
   "cell_type": "code",
   "execution_count": 25,
   "metadata": {},
   "outputs": [
    {
     "data": {
      "text/plain": [
       "'MLPRegressor-(50,)-relu-0.0001-200; -0.7346'"
      ]
     },
     "execution_count": 25,
     "metadata": {},
     "output_type": "execute_result"
    }
   ],
   "source": [
    "run_nn(pd.concat([X_train_fp_regression, X_test_fp_regression]), pd.concat([y_train_fp_regression, y_test_fp_regression]), (50,), 'relu', 0.0001, 200, regression=True)"
   ]
  },
  {
   "cell_type": "code",
   "execution_count": 26,
   "metadata": {},
   "outputs": [
    {
     "data": {
      "text/plain": [
       "'GradientBoostingClassifier-5-0.1; 0.7446'"
      ]
     },
     "execution_count": 26,
     "metadata": {},
     "output_type": "execute_result"
    }
   ],
   "source": [
    "run_gb(pd.concat([X_train_desc_classification, X_test_desc_classification]), pd.concat([y_train_desc_classification, y_test_desc_classification]), 5, 0.1)"
   ]
  },
  {
   "cell_type": "code",
   "execution_count": 27,
   "metadata": {},
   "outputs": [
    {
     "data": {
      "text/plain": [
       "'GradientBoostingRegressor-5-0.1; -1.2455'"
      ]
     },
     "execution_count": 27,
     "metadata": {},
     "output_type": "execute_result"
    }
   ],
   "source": [
    "run_gb(pd.concat([X_train_desc_regression, X_test_desc_regression]), pd.concat([y_train_desc_regression, y_test_desc_regression]), 5, 0.1, regression=True)"
   ]
  },
  {
   "cell_type": "code",
   "execution_count": 28,
   "metadata": {},
   "outputs": [
    {
     "data": {
      "text/plain": [
       "'GradientBoostingClassifier-5-0.1; 0.7518'"
      ]
     },
     "execution_count": 28,
     "metadata": {},
     "output_type": "execute_result"
    }
   ],
   "source": [
    "run_gb(pd.concat([X_train_fp_classification, X_test_fp_classification]), pd.concat([y_train_fp_classification, y_test_fp_classification]), 5, 0.1)"
   ]
  },
  {
   "cell_type": "code",
   "execution_count": 29,
   "metadata": {},
   "outputs": [
    {
     "data": {
      "text/plain": [
       "'GradientBoostingRegressor-5-0.1; -1.4418'"
      ]
     },
     "execution_count": 29,
     "metadata": {},
     "output_type": "execute_result"
    }
   ],
   "source": [
    "run_gb(pd.concat([X_train_fp_regression, X_test_fp_regression]), pd.concat([y_train_fp_regression, y_test_fp_regression]), 5, 0.1, regression=True)"
   ]
  },
  {
   "cell_type": "markdown",
   "metadata": {},
   "source": [
    "# Descriptors"
   ]
  },
  {
   "cell_type": "markdown",
   "metadata": {},
   "source": [
    "## Classification"
   ]
  },
  {
   "cell_type": "markdown",
   "metadata": {},
   "source": [
    "### Scaled-PCA data"
   ]
  },
  {
   "cell_type": "code",
   "execution_count": 158,
   "metadata": {},
   "outputs": [],
   "source": [
    "#TODO - test out different PCA parameters\n",
    "\n",
    "sc = StandardScaler()\n",
    "pca = PCA(n_components=0.95)"
   ]
  },
  {
   "cell_type": "code",
   "execution_count": 164,
   "metadata": {},
   "outputs": [],
   "source": [
    "X_experimental = sc.fit_transform(pd.concat([X_train_desc_classification, X_test_desc_classification]))\n",
    "X_experimental = pca.fit_transform(X_experimental)\n",
    "y_experimental = pd.concat([y_train_desc_classification, y_test_desc_classification])"
   ]
  },
  {
   "cell_type": "code",
   "execution_count": 167,
   "metadata": {},
   "outputs": [],
   "source": [
    "results = run_all(X_experimental, y_experimental)"
   ]
  },
  {
   "cell_type": "code",
   "execution_count": null,
   "metadata": {},
   "outputs": [],
   "source": [
    "data_tuples = [tuple(item.split('; ')) for item in results]\n",
    "\n",
    "df = pd.DataFrame(data_tuples, columns=['Classifier', 'Accuracy'])\n",
    "\n",
    "df.to_csv(\"results_classification_descriptors_scpca.csv\")"
   ]
  },
  {
   "cell_type": "markdown",
   "metadata": {},
   "source": [
    "### Only scaled"
   ]
  },
  {
   "cell_type": "code",
   "execution_count": null,
   "metadata": {},
   "outputs": [],
   "source": [
    "sc = StandardScaler()"
   ]
  },
  {
   "cell_type": "code",
   "execution_count": null,
   "metadata": {},
   "outputs": [],
   "source": [
    "X_experimental = sc.fit_transform(pd.concat([X_train_desc_classification, X_test_desc_classification]))\n",
    "y_experimental = pd.concat([y_train_desc_classification, y_test_desc_classification])"
   ]
  },
  {
   "cell_type": "code",
   "execution_count": null,
   "metadata": {},
   "outputs": [],
   "source": [
    "results = run_all(X_experimental, y_experimental)"
   ]
  },
  {
   "cell_type": "code",
   "execution_count": null,
   "metadata": {},
   "outputs": [],
   "source": [
    "data_tuples = [tuple(item.split('; ')) for item in results]\n",
    "\n",
    "df = pd.DataFrame(data_tuples, columns=['Classifier', 'Accuracy'])\n",
    "\n",
    "df.to_csv(\"results_classification_descriptors_sc.csv\")"
   ]
  },
  {
   "cell_type": "markdown",
   "metadata": {},
   "source": [
    "## Regression approach"
   ]
  },
  {
   "cell_type": "markdown",
   "metadata": {},
   "source": [
    "### Scaled-PCA data"
   ]
  },
  {
   "cell_type": "code",
   "execution_count": null,
   "metadata": {},
   "outputs": [],
   "source": [
    "#TODO - test out different PCA parameters\n",
    "\n",
    "sc = StandardScaler()\n",
    "pca = PCA(n_components=0.95)"
   ]
  },
  {
   "cell_type": "code",
   "execution_count": null,
   "metadata": {},
   "outputs": [],
   "source": [
    "X_experimental = sc.fit_transform(pd.concat([X_train_desc_regression, X_test_desc_regression]))\n",
    "X_experimental = pca.fit_transform(X_experimental)\n",
    "y_experimental = pd.concat([y_train_desc_regression, y_test_desc_regression])"
   ]
  },
  {
   "cell_type": "code",
   "execution_count": null,
   "metadata": {},
   "outputs": [],
   "source": [
    "results = run_all(X_experimental, y_experimental)"
   ]
  },
  {
   "cell_type": "code",
   "execution_count": null,
   "metadata": {},
   "outputs": [],
   "source": [
    "data_tuples = [tuple(item.split('; ')) for item in results]\n",
    "\n",
    "df = pd.DataFrame(data_tuples, columns=['Classifier', 'Accuracy'])\n",
    "\n",
    "df.to_csv(\"results_regression_descriptors_scpca.csv\")"
   ]
  },
  {
   "cell_type": "markdown",
   "metadata": {},
   "source": [
    "### Only scaled"
   ]
  },
  {
   "cell_type": "code",
   "execution_count": null,
   "metadata": {},
   "outputs": [],
   "source": [
    "sc = StandardScaler()"
   ]
  },
  {
   "cell_type": "code",
   "execution_count": null,
   "metadata": {},
   "outputs": [],
   "source": [
    "X_experimental = sc.fit_transform(pd.concat([X_train_desc_regression, X_test_desc_regression]))\n",
    "y_experimental = pd.concat([y_train_desc_regression, y_test_desc_regression])"
   ]
  },
  {
   "cell_type": "code",
   "execution_count": null,
   "metadata": {},
   "outputs": [],
   "source": [
    "results = run_all(X_experimental, y_experimental)"
   ]
  },
  {
   "cell_type": "code",
   "execution_count": null,
   "metadata": {},
   "outputs": [],
   "source": [
    "data_tuples = [tuple(item.split('; ')) for item in results]\n",
    "\n",
    "df = pd.DataFrame(data_tuples, columns=['Classifier', 'Accuracy'])\n",
    "\n",
    "df.to_csv(\"results_regression_descriptors_sc.csv\")"
   ]
  },
  {
   "cell_type": "markdown",
   "metadata": {},
   "source": [
    "# Fingerprints"
   ]
  },
  {
   "cell_type": "markdown",
   "metadata": {},
   "source": [
    "## Classification"
   ]
  },
  {
   "cell_type": "markdown",
   "metadata": {},
   "source": [
    "### Scaled-PCA data"
   ]
  },
  {
   "cell_type": "code",
   "execution_count": 41,
   "metadata": {},
   "outputs": [],
   "source": [
    "#TODO - test out different PCA parameters\n",
    "\n",
    "sc = StandardScaler()\n",
    "pca = PCA(n_components=0.95)"
   ]
  },
  {
   "cell_type": "code",
   "execution_count": 42,
   "metadata": {},
   "outputs": [],
   "source": [
    "X_experimental = sc.fit_transform(pd.concat([X_train_fp_classification, X_test_fp_classification]))\n",
    "X_experimental = pca.fit_transform(X_experimental)\n",
    "y_experimental = pd.concat([y_train_fp_classification, y_test_fp_classification])"
   ]
  },
  {
   "cell_type": "code",
   "execution_count": 43,
   "metadata": {},
   "outputs": [],
   "source": [
    "results = run_all(X_experimental, y_experimental)"
   ]
  },
  {
   "cell_type": "code",
   "execution_count": 44,
   "metadata": {},
   "outputs": [],
   "source": [
    "data_tuples = [tuple(item.split('; ')) for item in results]\n",
    "\n",
    "df = pd.DataFrame(data_tuples, columns=['Classifier', 'Accuracy'])\n",
    "\n",
    "df.to_csv(\"results_classification_fingerprints_scpca.csv\")"
   ]
  },
  {
   "cell_type": "markdown",
   "metadata": {},
   "source": [
    "### Only scaled"
   ]
  },
  {
   "cell_type": "code",
   "execution_count": 45,
   "metadata": {},
   "outputs": [],
   "source": [
    "sc = StandardScaler()"
   ]
  },
  {
   "cell_type": "code",
   "execution_count": 46,
   "metadata": {},
   "outputs": [],
   "source": [
    "X_experimental = sc.fit_transform(pd.concat([X_train_fp_classification, X_test_fp_classification]))\n",
    "y_experimental = pd.concat([y_train_fp_classification, y_test_fp_classification])"
   ]
  },
  {
   "cell_type": "code",
   "execution_count": 47,
   "metadata": {},
   "outputs": [],
   "source": [
    "results = run_all(X_experimental, y_experimental)"
   ]
  },
  {
   "cell_type": "code",
   "execution_count": 48,
   "metadata": {},
   "outputs": [],
   "source": [
    "data_tuples = [tuple(item.split('; ')) for item in results]\n",
    "\n",
    "df = pd.DataFrame(data_tuples, columns=['Classifier', 'Accuracy'])\n",
    "\n",
    "df.to_csv(\"results_classification_fingerprints_sc.csv\")"
   ]
  },
  {
   "cell_type": "markdown",
   "metadata": {},
   "source": [
    "## Regression approach"
   ]
  },
  {
   "cell_type": "markdown",
   "metadata": {},
   "source": [
    "### Scaled-PCA data"
   ]
  },
  {
   "cell_type": "code",
   "execution_count": 49,
   "metadata": {},
   "outputs": [],
   "source": [
    "#TODO - test out different PCA parameters\n",
    "\n",
    "sc = StandardScaler()\n",
    "pca = PCA(n_components=0.95)"
   ]
  },
  {
   "cell_type": "code",
   "execution_count": 50,
   "metadata": {},
   "outputs": [],
   "source": [
    "X_experimental = sc.fit_transform(pd.concat([X_train_fp_regression, X_test_fp_regression]))\n",
    "X_experimental = pca.fit_transform(X_experimental)\n",
    "y_experimental = pd.concat([y_train_fp_regression, y_test_fp_regression])"
   ]
  },
  {
   "cell_type": "code",
   "execution_count": 51,
   "metadata": {},
   "outputs": [],
   "source": [
    "results = run_all(X_experimental, y_experimental, regression=True)"
   ]
  },
  {
   "cell_type": "code",
   "execution_count": 52,
   "metadata": {},
   "outputs": [],
   "source": [
    "data_tuples = [tuple(item.split('; ')) for item in results]\n",
    "\n",
    "df = pd.DataFrame(data_tuples, columns=['Classifier', 'Accuracy'])\n",
    "\n",
    "df.to_csv(\"results_regression_fingerprints_scpca.csv\")"
   ]
  },
  {
   "cell_type": "markdown",
   "metadata": {},
   "source": [
    "### Only scaled"
   ]
  },
  {
   "cell_type": "code",
   "execution_count": 53,
   "metadata": {},
   "outputs": [],
   "source": [
    "sc = StandardScaler()"
   ]
  },
  {
   "cell_type": "code",
   "execution_count": 54,
   "metadata": {},
   "outputs": [],
   "source": [
    "X_experimental = sc.fit_transform(pd.concat([X_train_fp_regression, X_test_fp_regression]))\n",
    "y_experimental = pd.concat([y_train_fp_regression, y_test_fp_regression])"
   ]
  },
  {
   "cell_type": "code",
   "execution_count": 55,
   "metadata": {},
   "outputs": [],
   "source": [
    "results = run_all(X_experimental, y_experimental, regression=True)"
   ]
  },
  {
   "cell_type": "code",
   "execution_count": 56,
   "metadata": {},
   "outputs": [],
   "source": [
    "data_tuples = [tuple(item.split('; ')) for item in results]\n",
    "\n",
    "df = pd.DataFrame(data_tuples, columns=['Classifier', 'Accuracy'])\n",
    "\n",
    "df.to_csv(\"results_regression_fingerprints_sc.csv\")"
   ]
  }
 ],
 "metadata": {
  "kernelspec": {
   "display_name": "Python 3",
   "language": "python",
   "name": "python3"
  },
  "language_info": {
   "codemirror_mode": {
    "name": "ipython",
    "version": 3
   },
   "file_extension": ".py",
   "mimetype": "text/x-python",
   "name": "python",
   "nbconvert_exporter": "python",
   "pygments_lexer": "ipython3",
   "version": "3.11.3"
  }
 },
 "nbformat": 4,
 "nbformat_minor": 2
}
