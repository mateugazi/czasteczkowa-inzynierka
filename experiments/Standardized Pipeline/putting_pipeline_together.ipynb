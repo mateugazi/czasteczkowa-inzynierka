{
 "cells": [
  {
   "cell_type": "code",
   "execution_count": 80,
   "metadata": {},
   "outputs": [],
   "source": [
    "import pandas as pd\n",
    "import numpy as np\n",
    "\n",
    "from mordred import Calculator, descriptors\n",
    "from rdkit import Chem\n",
    "from rdkit.Chem import AllChem\n",
    "import deepchem as dc\n",
    "\n",
    "from sklearn.model_selection import train_test_split\n",
    "\n",
    "from sklearn.metrics import roc_auc_score\n",
    "\n",
    "from sklearn.ensemble import GradientBoostingClassifier, RandomForestClassifier, RandomForestRegressor, GradientBoostingRegressor"
   ]
  },
  {
   "cell_type": "code",
   "execution_count": 81,
   "metadata": {},
   "outputs": [],
   "source": [
    "use_descriptors = True\n",
    "use_fingerprints = False\n",
    "\n",
    "regression = False"
   ]
  },
  {
   "cell_type": "markdown",
   "metadata": {},
   "source": [
    "### Retrieving data the old way:"
   ]
  },
  {
   "cell_type": "code",
   "execution_count": 82,
   "metadata": {},
   "outputs": [],
   "source": [
    "### Input standard SMILES column\n",
    "def CalculateMorganFingerprint(mol):\n",
    "    mol = mol.apply(Chem.MolFromSmiles)\n",
    "    mfpgen = AllChem.GetMorganGenerator(radius=2,fpSize=2048)\n",
    "    fingerprint = np.array([mfpgen.GetFingerprintAsNumPy(x) for x in mol])\n",
    "    fingerprint = pd.DataFrame(fingerprint, columns = ['mfp'+str(i) for i in range(fingerprint.shape[1])])\n",
    "    return fingerprint\n",
    "\n",
    "### Input standard SMILES column\n",
    "def CalculateDescriptors(mol):\n",
    "    mol = mol.apply(Chem.MolFromSmiles)\n",
    "    calc = Calculator(descriptors, ignore_3D=False)\n",
    "    X_mordred = calc.pandas(mol, nproc=1)\n",
    "    X_mordred = X_mordred.select_dtypes(['number'])\n",
    "    #normalize\n",
    "    X_mordred = (X_mordred-X_mordred.min())/(X_mordred.max()-X_mordred.min())\n",
    "    #drop columns wth low std\n",
    "    X_mordred = X_mordred.loc[:,X_mordred.std()>0.01]\n",
    "    return X_mordred"
   ]
  },
  {
   "cell_type": "code",
   "execution_count": 83,
   "metadata": {},
   "outputs": [],
   "source": [
    "def Load_downloaded_CSV_BACE(path, regression = False):\n",
    "    df = pd.read_csv(path)\n",
    "    df.drop_duplicates('mol')\n",
    "    df = df.dropna()\n",
    "    #df.drop(['CID', 'canvasUID'], axis=1, inplace=True)\n",
    "\n",
    "    if regression:\n",
    "        df['Target'] = df['pIC50']\n",
    "        df.drop('Class', axis=1, inplace=True)\n",
    "        df.drop('pIC50', axis=1, inplace=True)\n",
    "    else:\n",
    "        df['Target'] = df['Class']\n",
    "        df.drop('Class', axis=1, inplace=True)\n",
    "        df.drop('pIC50', axis=1, inplace=True)\n",
    "\n",
    "    df = df[['mol', 'Target', 'Model']]\n",
    "\n",
    "    if use_descriptors:\n",
    "        new_df = CalculateDescriptors(df['mol'])\n",
    "    if use_fingerprints:\n",
    "        new_df = CalculateMorganFingerprint(df['mol'])\n",
    "        \n",
    "    new_df['Target'] = df['Target']\n",
    "    new_df['Model'] = df['Model']\n",
    "\n",
    "    return new_df\n",
    "\n",
    "def Split_downloaded_CSV_BACE(df, scaffold=True):\n",
    "    if not scaffold:\n",
    "        X = df.drop(['Target', 'Model'], axis=1)\n",
    "        y = df[['Target']]\n",
    "        X_train, X_test, y_train, y_test = train_test_split(X, y, test_size=0.1, random_state=42)\n",
    "        X_train, X_valid, y_train, y_valid = train_test_split(X_train, y_train, test_size=0.111, random_state=42)\n",
    "        return X_train, y_train, X_test, y_test, X_valid, y_valid\n",
    "\n",
    "    X = df.drop(['Target'], axis=1)\n",
    "    y = df[['Target', 'Model']]\n",
    "\n",
    "    X_train = X[X['Model'] == 'Train']\n",
    "    y_train = y[y['Model'] == 'Train']\n",
    "    X_test = X[X['Model'] == 'Test']\n",
    "    y_test = y[y['Model'] == 'Test']\n",
    "    X_valid = X[X['Model'] == 'Valid']\n",
    "    y_valid = y[y['Model'] == 'Valid']\n",
    "    \n",
    "    X_train = X_train.drop('Model', axis=1)\n",
    "    y_train = y_train.drop('Model', axis=1)\n",
    "    X_test = X_test.drop('Model', axis=1)\n",
    "    y_test = y_test.drop('Model', axis=1)\n",
    "    X_valid = X_valid.drop('Model', axis=1)\n",
    "    y_valid = y_valid.drop('Model', axis=1)\n",
    "    \n",
    "    return X_train, y_train, X_test, y_test, X_valid, y_valid"
   ]
  },
  {
   "cell_type": "code",
   "execution_count": 84,
   "metadata": {},
   "outputs": [
    {
     "name": "stderr",
     "output_type": "stream",
     "text": [
      "c:\\Users\\wojci\\AppData\\Local\\Programs\\Python\\Python311\\Lib\\site-packages\\numpy\\core\\fromnumeric.py:86: RuntimeWarning: overflow encountered in reduce\n",
      "  return ufunc.reduce(obj, axis, dtype, out, **passkwargs)\n",
      "100%|██████████| 1513/1513 [04:24<00:00,  5.73it/s]\n",
      "C:\\Users\\wojci\\AppData\\Local\\Temp\\ipykernel_9508\\898515923.py:23: PerformanceWarning: DataFrame is highly fragmented.  This is usually the result of calling `frame.insert` many times, which has poor performance.  Consider joining all columns at once using pd.concat(axis=1) instead. To get a de-fragmented frame, use `newframe = frame.copy()`\n",
      "  new_df['Target'] = df['Target']\n",
      "C:\\Users\\wojci\\AppData\\Local\\Temp\\ipykernel_9508\\898515923.py:24: PerformanceWarning: DataFrame is highly fragmented.  This is usually the result of calling `frame.insert` many times, which has poor performance.  Consider joining all columns at once using pd.concat(axis=1) instead. To get a de-fragmented frame, use `newframe = frame.copy()`\n",
      "  new_df['Model'] = df['Model']\n"
     ]
    }
   ],
   "source": [
    "df_classification = Load_downloaded_CSV_BACE(r\"C:\\Users\\wojci\\Documents\\GitHub\\czasteczkowa-inzynierka\\experiments\\BACE\\bace.csv\")"
   ]
  },
  {
   "cell_type": "code",
   "execution_count": 85,
   "metadata": {},
   "outputs": [],
   "source": [
    "scaffold_split = True\n",
    "\n",
    "X_train, y_train, X_test, y_test, X_valid, y_valid = Split_downloaded_CSV_BACE(df_classification, scaffold=scaffold_split)"
   ]
  },
  {
   "cell_type": "code",
   "execution_count": 86,
   "metadata": {},
   "outputs": [
    {
     "name": "stdout",
     "output_type": "stream",
     "text": [
      "(203, 1222)\n",
      "(1265, 1222)\n",
      "(45, 1222)\n"
     ]
    }
   ],
   "source": [
    "print(X_train.shape)\n",
    "print(X_test.shape)\n",
    "print(X_valid.shape)"
   ]
  },
  {
   "cell_type": "markdown",
   "metadata": {},
   "source": [
    "### Configurations"
   ]
  },
  {
   "cell_type": "code",
   "execution_count": 87,
   "metadata": {},
   "outputs": [],
   "source": [
    "def model_builder(model_name, hyperparams):\n",
    "    if model_name == 'rf':\n",
    "        if regression:\n",
    "            model = RandomForestRegressor(n_estimators=hyperparams[\"n_estimators\"],\n",
    "                                    min_samples_split=hyperparams[\"min_samples_split\"],\n",
    "                                    criterion=hyperparams[\"criterion\"],\n",
    "                                    bootstrap=hyperparams[\"bootstrap\"])\n",
    "        else:\n",
    "            model = RandomForestClassifier(n_estimators=hyperparams[\"n_estimators\"],\n",
    "                                    min_samples_split=hyperparams[\"min_samples_split\"], \n",
    "                                    criterion=hyperparams[\"criterion\"],\n",
    "                                    bootstrap=hyperparams[\"bootstrap\"])\n",
    "\n",
    "    return model\n",
    "    "
   ]
  },
  {
   "cell_type": "code",
   "execution_count": 144,
   "metadata": {},
   "outputs": [],
   "source": [
    "def train_and_test(model, X_train, y_train, X_test, y_test, X_valid, y_valid, metrics=[], iterations=1, regression=False):\n",
    "    for i in range(iterations):\n",
    "        model.fit(X_train, y_train)\n",
    "        \n",
    "        y_test_predicted = model.predict(X_test)\n",
    "        y_valid_predicted = model.predict(X_valid)\n",
    "\n",
    "        roc_auc_test = roc_auc_score(y_test, y_test_predicted)\n",
    "        roc_auc_valid = roc_auc_score(y_valid, y_valid_predicted)\n",
    "\n",
    "        print(roc_auc_test)\n",
    "        print(roc_auc_valid)\n",
    "\n",
    "def benchmark_train_and_test(model, X_train, y_train, X_test, y_test, X_valid, y_valid, metrics=[], iterations=1, regression=False):\n",
    "    model = dc.models.SklearnModel(model) ### for benchmark \n",
    "    for i in range(iterations):\n",
    "        #print(X_train.to_numpy().shape)\n",
    "        #print(y_train.to_numpy().shape)\n",
    "        #print(np.ones_like(y_train).shape)\n",
    "        #print(np.array([i for i in range(y_train.shape[0])]).shape)\n",
    "\n",
    "        train_set = dc.data.DiskDataset.from_numpy(X=X_train.to_numpy(), y=y_train.to_numpy(), w=np.ones_like(y_train), ids=np.array([i for i in range(y_train.shape[0])]), tasks=['Class'])\n",
    "        test_set = dc.data.DiskDataset.from_numpy(X=X_test.to_numpy(), y=y_test.to_numpy(), w=np.ones_like(y_test), ids=np.array([i for i in range(y_test.shape[0])]), tasks=['Class'])\n",
    "        valid_set = dc.data.DiskDataset.from_numpy(X=X_valid.to_numpy(), y=y_valid.to_numpy(), w=np.ones_like(y_valid), ids=np.array([i for i in range(y_valid.shape[0])]), tasks=['Class'])\n",
    "\n",
    "        model.fit(train_set)\n",
    "        \n",
    "        metric = dc.metrics.Metric(dc.metrics.roc_auc_score, np.mean)\n",
    "        test_metric = model.evaluate(test_set, [metric]) #, transformers)\n",
    "        valid_metric = model.evaluate(valid_set, [metric]) #, transformers)\n",
    "\n",
    "        print(test_metric)\n",
    "        print(valid_metric)"
   ]
  },
  {
   "cell_type": "code",
   "execution_count": 145,
   "metadata": {},
   "outputs": [],
   "source": [
    "models = ['rf']\n",
    "\n",
    "hyperparams = {\n",
    "  \"bootstrap\": True,\n",
    "  \"criterion\": \"entropy\",\n",
    "  \"min_samples_split\": 32,\n",
    "  \"n_estimators\": 30\n",
    "}"
   ]
  },
  {
   "cell_type": "code",
   "execution_count": 146,
   "metadata": {},
   "outputs": [
    {
     "name": "stdout",
     "output_type": "stream",
     "text": [
      "{'mean-roc_auc_score': 0.7940821348331779}\n",
      "{'mean-roc_auc_score': 0.5909090909090908}\n"
     ]
    }
   ],
   "source": [
    "for model_name in models:\n",
    "    model = model_builder(model_name, hyperparams)\n",
    "    \n",
    "    benchmark_train_and_test(model, X_train, y_train, X_test, y_test, X_valid, y_valid)\n",
    "    "
   ]
  }
 ],
 "metadata": {
  "kernelspec": {
   "display_name": "Python 3",
   "language": "python",
   "name": "python3"
  },
  "language_info": {
   "codemirror_mode": {
    "name": "ipython",
    "version": 3
   },
   "file_extension": ".py",
   "mimetype": "text/x-python",
   "name": "python",
   "nbconvert_exporter": "python",
   "pygments_lexer": "ipython3",
   "version": "3.11.3"
  }
 },
 "nbformat": 4,
 "nbformat_minor": 2
}
