{
 "cells": [
  {
   "cell_type": "code",
   "execution_count": 1,
   "metadata": {},
   "outputs": [],
   "source": [
    "import pandas as pd\n",
    "import numpy as np\n",
    "import os"
   ]
  },
  {
   "cell_type": "code",
   "execution_count": 2,
   "metadata": {},
   "outputs": [],
   "source": [
    "folder = r\"Merged runs\\Complete merges\"\n",
    "\n",
    "datasets = []\n",
    "for (dirpath, dirnames, filenames) in os.walk(folder):\n",
    "    datasets.extend(filenames)\n",
    "    break"
   ]
  },
  {
   "cell_type": "code",
   "execution_count": 3,
   "metadata": {},
   "outputs": [
    {
     "name": "stdout",
     "output_type": "stream",
     "text": [
      "['DescFing_BACE_classification_merged.csv', 'DescFing_BACE_regression_merged.csv', 'DescFing_ROR_classification_merged.csv', 'DescFing_ROR_regression_merged.csv', 'Descriptors_BACE_classification_merged.csv', 'Descriptors_BACE_regression_merged.csv', 'Descriptors_ROR_classification_merged.csv', 'Descriptors_ROR_regression_merged.csv', 'Fingerprints_BACE_classification_merged.csv', 'Fingerprints_BACE_regression_merged.csv', 'Fingerprints_ROR_classification_merged.csv', 'Fingerprints_ROR_regression_merged.csv']\n"
     ]
    }
   ],
   "source": [
    "print(datasets)"
   ]
  },
  {
   "cell_type": "code",
   "execution_count": 4,
   "metadata": {},
   "outputs": [
    {
     "name": "stdout",
     "output_type": "stream",
     "text": [
      "(19336, 15)\n",
      "(38016, 15)\n",
      "(59303, 15)\n",
      "Index(['model', 'hyperparams', 'roc_auc', 'train_roc_auc', 'accuracy',\n",
      "       'train_accuracy', 'precision', 'train_precision', 'recall',\n",
      "       'train_recall', 'f1', 'train_f1', 'split', 'preprocessing'],\n",
      "      dtype='object')\n",
      "(27624, 13)\n",
      "(48999, 13)\n",
      "(76393, 13)\n",
      "Index(['model', 'hyperparams', 'mse', 'train_mse', 'rmse', 'train_rmse', 'mae',\n",
      "       'train_mae', 'r2', 'train_r2', 'split', 'preprocessing'],\n",
      "      dtype='object')\n",
      "(19125, 15)\n",
      "(36770, 15)\n",
      "(58217, 15)\n",
      "Index(['model', 'hyperparams', 'roc_auc', 'train_roc_auc', 'accuracy',\n",
      "       'train_accuracy', 'precision', 'train_precision', 'recall',\n",
      "       'train_recall', 'f1', 'train_f1', 'split', 'preprocessing'],\n",
      "      dtype='object')\n",
      "(25540, 13)\n",
      "(46542, 13)\n",
      "(72542, 13)\n",
      "Index(['model', 'hyperparams', 'mse', 'train_mse', 'rmse', 'train_rmse', 'mae',\n",
      "       'train_mae', 'r2', 'train_r2', 'split', 'preprocessing'],\n",
      "      dtype='object')\n"
     ]
    }
   ],
   "source": [
    "names = [\"BACE_class\", \"BACE_regre\", \"ROR_class\", \"ROR_regre\"]\n",
    "bins = [[], [], [], []]\n",
    "\n",
    "for dataset in datasets:\n",
    "    bin = 0\n",
    "    if \"ROR\" in dataset:\n",
    "        bin += 2\n",
    "    if \"regression\" in dataset:\n",
    "        bin += 1\n",
    "    bins[bin].append(dataset)\n",
    "\n",
    "for i, bin in enumerate(bins):\n",
    "    df = pd.read_csv(os.path.join(folder, bin[0]))\n",
    "    df[\"preprocessing\"] = bin[0][:8]\n",
    "    print(df.shape)\n",
    "    for dataset_name in bin[1:]:\n",
    "        df1 = pd.read_csv(os.path.join(folder, dataset_name))\n",
    "        df1[\"preprocessing\"] = dataset_name[:12].split(\"_\")[0]\n",
    "        df = pd.concat([df, df1])\n",
    "        print(df.shape)\n",
    "    \n",
    "    df.drop([\"Unnamed: 0\"], axis=1, inplace=True)\n",
    "    print(df.columns)\n",
    "\n",
    "    #print(df.dtypes)\n",
    "\n",
    "    if i % 2 == 1:\n",
    "        df.sort_values(by=['mse'], inplace=True)\n",
    "    else:\n",
    "        df.sort_values(by=['roc_auc'], inplace=True, ascending=False)\n",
    "    df.to_csv(os.path.join(\"Merged runs\", names[i] + \".csv\"))\n"
   ]
  }
 ],
 "metadata": {
  "kernelspec": {
   "display_name": "Python 3",
   "language": "python",
   "name": "python3"
  },
  "language_info": {
   "codemirror_mode": {
    "name": "ipython",
    "version": 3
   },
   "file_extension": ".py",
   "mimetype": "text/x-python",
   "name": "python",
   "nbconvert_exporter": "python",
   "pygments_lexer": "ipython3",
   "version": "3.11.3"
  }
 },
 "nbformat": 4,
 "nbformat_minor": 2
}
