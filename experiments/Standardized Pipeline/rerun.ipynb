{
 "cells": [
  {
   "cell_type": "code",
   "execution_count": 10,
   "metadata": {},
   "outputs": [],
   "source": [
    "import pandas as pd\n",
    "import numpy as np\n",
    "import os\n",
    "\n",
    "from itertools import product\n",
    "\n",
    "import Finalized_pipeline\n",
    "\n",
    "import seaborn as sns\n",
    "import matplotlib.pyplot as plt"
   ]
  },
  {
   "cell_type": "code",
   "execution_count": 11,
   "metadata": {},
   "outputs": [],
   "source": [
    "main_datasets = [\"BACE_class\", \"BACE_regre\", \"ROR_class\", \"ROR_regre\"]\n",
    "model_name_shorts = {\"DecisionTreeRegressor\": \"dt\", \"DecisionTreeClassifier\": \"dt\", \n",
    "                    \"RandomForestRegressor\": \"rf\", \"RandomForestClassifier\": \"rf\", \n",
    "                    \"LinearRegression\": \"lr\", \"LogisticRegression\": \"lr\", \n",
    "                    \"MLPRegressor\": \"nn\", \"MLPClassifier\": \"nn\",  \n",
    "                    \"GradientBoostingRegressor\": \"gb\", \"GradientBoostingClassifier\": \"gb\",\n",
    "                    \"XGBRegressor\": \"xg\", \"XGBClassifier\": \"xg\", \n",
    "                    \"SVR\": \"sv\", \"SVC\": \"sv\"}\n",
    "    \n",
    "top_models = 10\n"
   ]
  },
  {
   "cell_type": "code",
   "execution_count": 12,
   "metadata": {},
   "outputs": [
    {
     "name": "stderr",
     "output_type": "stream",
     "text": [
      "\n",
      "A value is trying to be set on a copy of a slice from a DataFrame\n",
      "\n",
      "See the caveats in the documentation: https://pandas.pydata.org/pandas-docs/stable/user_guide/indexing.html#returning-a-view-versus-a-copy\n"
     ]
    },
    {
     "name": "stdout",
     "output_type": "stream",
     "text": [
      "Regression:  False\n",
      "gb\n",
      "{'max_depth': 3, 'loss': 'exponential', 'n_estimators': 200, 'learning_rate': 1.0, 'min_impurity_decrease': 0.05}\n",
      "time:  3.035669\n",
      "0 0.8139413906710595 0.9895282375959022 0.8157894736842105 0.9897134459955915 0.835820895522388 0.988135593220339 0.7671232876712328 0.988135593220339 0.8 0.988135593220339 GradientBoostingClassifier {'max_depth': 3, 'loss': 'exponential', 'n_estimators': 200, 'learning_rate': 1.0, 'min_impurity_decrease': 0.05}\n",
      "Regression:  False\n",
      "nn\n",
      "{'hidden_layer_sizes': (100,), 'activation': 'relu', 'alpha': 0.001, 'max_iter': 1000, 'solver': 'sgd'}\n"
     ]
    },
    {
     "name": "stderr",
     "output_type": "stream",
     "text": [
      "Stochastic Optimizer: Maximum iterations (1000) reached and the optimization hasn't converged yet.\n",
      "\n",
      "A value is trying to be set on a copy of a slice from a DataFrame\n",
      "\n",
      "See the caveats in the documentation: https://pandas.pydata.org/pandas-docs/stable/user_guide/indexing.html#returning-a-view-versus-a-copy\n"
     ]
    },
    {
     "name": "stdout",
     "output_type": "stream",
     "text": [
      "time:  66.87203\n",
      "0 0.8545170799375759 0.9618490184440194 0.8552631578947368 0.9610580455547392 0.8591549295774648 0.943801652892562 0.8356164383561644 0.9677966101694915 0.8472222222222222 0.9556485355648535 MLPClassifier {'hidden_layer_sizes': (100,), 'activation': 'relu', 'alpha': 0.001, 'max_iter': 1000, 'solver': 'sgd'}\n"
     ]
    },
    {
     "name": "stderr",
     "output_type": "stream",
     "text": [
      "overflow encountered in reduce                    \n",
      "100%|██████████| 1513/1513 [04:14<00:00,  5.95it/s]\n"
     ]
    },
    {
     "name": "stdout",
     "output_type": "stream",
     "text": [
      "Regression:  False\n",
      "nn\n",
      "{'hidden_layer_sizes': (100,), 'activation': 'relu', 'alpha': 0.01, 'max_iter': 200, 'solver': 'adam'}\n"
     ]
    },
    {
     "name": "stderr",
     "output_type": "stream",
     "text": [
      "Stochastic Optimizer: Maximum iterations (200) reached and the optimization hasn't converged yet.\n"
     ]
    },
    {
     "name": "stdout",
     "output_type": "stream",
     "text": [
      "time:  6.05608\n",
      "0 0.8571180856597884 0.8780441425399548 0.8552631578947368 0.8670095518001469 0.8148148148148148 0.7820689655172414 0.9041095890410958 0.9610169491525423 0.8571428571428571 0.8623574144486692 MLPClassifier {'hidden_layer_sizes': (100,), 'activation': 'relu', 'alpha': 0.01, 'max_iter': 200, 'solver': 'adam'}\n",
      "Regression:  False\n",
      "nn\n",
      "{'hidden_layer_sizes': (50,), 'activation': 'tanh', 'alpha': 0.0001, 'max_iter': 500, 'solver': 'adam'}\n",
      "time:  1.785003\n",
      "0 0.8228715103173228 0.8507265492756492 0.8223684210526315 0.8434974283614989 0.8026315789473685 0.7727930535455861 0.8356164383561644 0.9050847457627119 0.8187919463087249 0.8337236533957846 MLPClassifier {'hidden_layer_sizes': (50,), 'activation': 'tanh', 'alpha': 0.0001, 'max_iter': 500, 'solver': 'adam'}\n",
      "Regression:  False\n",
      "sv\n",
      "{'C': 0.01, 'kernel': 'poly', 'gamma': 0.05}\n",
      "time:  0.357541\n",
      "0 0.8808739379226634 0.8734320385148058 0.881578947368421 0.8721528288023512 0.8873239436619719 0.8322683706070287 0.863013698630137 0.8830508474576271 0.875 0.8569078947368421 SVC {'C': 0.01, 'kernel': 'poly', 'gamma': 0.05}\n",
      "Regression:  False\n",
      "sv\n",
      "{'C': 1, 'kernel': 'rbf', 'gamma': 0.05}\n",
      "time:  0.69345\n",
      "0 0.8676955089301196 0.8875442414649697 0.868421052631579 0.8861131520940485 0.8732394366197183 0.848 0.8493150684931506 0.8983050847457628 0.861111111111111 0.8724279835390946 SVC {'C': 1, 'kernel': 'rbf', 'gamma': 0.05}\n"
     ]
    },
    {
     "name": "stderr",
     "output_type": "stream",
     "text": [
      "\n",
      "A value is trying to be set on a copy of a slice from a DataFrame\n",
      "\n",
      "See the caveats in the documentation: https://pandas.pydata.org/pandas-docs/stable/user_guide/indexing.html#returning-a-view-versus-a-copy\n",
      "overflow encountered in reduce                    \n",
      "100%|██████████| 1513/1513 [04:17<00:00,  5.87it/s]\n"
     ]
    },
    {
     "name": "stdout",
     "output_type": "stream",
     "text": [
      "Regression:  False\n",
      "lr\n",
      "{'C': 1, 'penalty': 'l1', 'solver': 'liblinear'}\n",
      "time:  0.238017\n",
      "0 0.8271198196636034 0.8433214623315528 0.8289473684210527 0.8457016899338722 0.8507462686567164 0.8198653198653199 0.7808219178082192 0.8254237288135593 0.8142857142857143 0.8226351351351351 LogisticRegression {'C': 1, 'penalty': 'l1', 'solver': 'liblinear'}\n",
      "Regression:  False\n",
      "nn\n",
      "{'hidden_layer_sizes': (50, 50), 'activation': 'relu', 'alpha': 0.01, 'max_iter': 500, 'solver': 'sgd'}\n"
     ]
    },
    {
     "name": "stderr",
     "output_type": "stream",
     "text": [
      "Stochastic Optimizer: Maximum iterations (500) reached and the optimization hasn't converged yet.\n"
     ]
    },
    {
     "name": "stdout",
     "output_type": "stream",
     "text": [
      "time:  11.189722\n",
      "0 0.8339691347320964 0.8599760381630723 0.8355263157894737 0.8618662747979426 0.8529411764705882 0.837248322147651 0.7945205479452054 0.8457627118644068 0.8226950354609929 0.8414839797639124 MLPClassifier {'hidden_layer_sizes': (50, 50), 'activation': 'relu', 'alpha': 0.01, 'max_iter': 500, 'solver': 'sgd'}\n",
      "Regression:  False\n",
      "nn\n",
      "{'hidden_layer_sizes': (100,), 'activation': 'tanh', 'alpha': 0.001, 'max_iter': 1000, 'solver': 'sgd'}\n",
      "time:  19.199114\n",
      "0 0.8334489335876539 0.84765437798149 0.8355263157894737 0.8479059515062454 0.8636363636363636 0.8113821138211382 0.7808219178082192 0.8457627118644068 0.8201438848920863 0.8282157676348547 MLPClassifier {'hidden_layer_sizes': (100,), 'activation': 'tanh', 'alpha': 0.001, 'max_iter': 1000, 'solver': 'sgd'}\n",
      "Regression:  False\n",
      "nn\n",
      "{'hidden_layer_sizes': (100,), 'activation': 'relu', 'alpha': 0.0001, 'max_iter': 1000, 'solver': 'sgd'}\n",
      "time:  18.57425\n",
      "0 0.8265996185191608 0.8526434962298578 0.8289473684210527 0.8537839823659075 0.8615384615384616 0.8231404958677686 0.7671232876712328 0.8440677966101695 0.8115942028985507 0.8334728033472804 MLPClassifier {'hidden_layer_sizes': (100,), 'activation': 'relu', 'alpha': 0.0001, 'max_iter': 1000, 'solver': 'sgd'}\n"
     ]
    },
    {
     "name": "stderr",
     "output_type": "stream",
     "text": [
      "\n",
      "A value is trying to be set on a copy of a slice from a DataFrame\n",
      "\n",
      "See the caveats in the documentation: https://pandas.pydata.org/pandas-docs/stable/user_guide/indexing.html#returning-a-view-versus-a-copy\n"
     ]
    },
    {
     "name": "stdout",
     "output_type": "stream",
     "text": [
      "Regression:  True\n",
      "nn\n",
      "{'hidden_layer_sizes': (50,), 'activation': 'tanh', 'alpha': 0.01, 'max_iter': 1000, 'solver': 'sgd'}\n",
      "time:  40.020339\n",
      "0 0.7082393450623888 0.34470230144299746 0.5016029698944015 0.1188196766200991 0.5159197865912252 0.25425541873389657 0.724800847228474 0.9339253646895379 MLPRegressor {'hidden_layer_sizes': (50,), 'activation': 'tanh', 'alpha': 0.01, 'max_iter': 1000, 'solver': 'sgd'}\n",
      "Regression:  True\n",
      "nn\n",
      "{'hidden_layer_sizes': (100,), 'activation': 'relu', 'alpha': 0.01, 'max_iter': 200, 'solver': 'sgd'}\n"
     ]
    },
    {
     "name": "stderr",
     "output_type": "stream",
     "text": [
      "Stochastic Optimizer: Maximum iterations (200) reached and the optimization hasn't converged yet.\n"
     ]
    },
    {
     "name": "stdout",
     "output_type": "stream",
     "text": [
      "time:  13.387383\n",
      "0 0.6826815210239547 0.5346853153307658 0.4660540591475804 0.2858883864303604 0.48311320779601385 0.40783066747983854 0.7443043803146823 0.841019842754839 MLPRegressor {'hidden_layer_sizes': (100,), 'activation': 'relu', 'alpha': 0.01, 'max_iter': 200, 'solver': 'sgd'}\n",
      "Regression:  True\n",
      "nn\n",
      "{'hidden_layer_sizes': (50,), 'activation': 'tanh', 'alpha': 0.001, 'max_iter': 500, 'solver': 'sgd'}\n"
     ]
    },
    {
     "name": "stderr",
     "output_type": "stream",
     "text": [
      "Stochastic Optimizer: Maximum iterations (500) reached and the optimization hasn't converged yet.\n"
     ]
    },
    {
     "name": "stdout",
     "output_type": "stream",
     "text": [
      "time:  20.82411\n",
      "0 0.682843893981368 0.4358946826486125 0.4662757835476378 0.19000417436133457 0.4887257982502444 0.33257585071107565 0.7441827335727232 0.8943402567191723 MLPRegressor {'hidden_layer_sizes': (50,), 'activation': 'tanh', 'alpha': 0.001, 'max_iter': 500, 'solver': 'sgd'}\n",
      "Regression:  True\n",
      "sv\n",
      "{'C': 1, 'kernel': 'rbf', 'epsilon': 0.01, 'gamma': 'scale'}\n",
      "time:  2.092854\n",
      "0 0.5965519761057038 0.47514739353319435 0.35587426019562013 0.22576504558138824 0.4275649470984658 0.26935151982117 0.80475335917639 0.8744539332459627 SVR {'C': 1, 'kernel': 'rbf', 'epsilon': 0.01, 'gamma': 'scale'}\n",
      "Regression:  True\n",
      "sv\n",
      "{'C': 1, 'kernel': 'rbf', 'epsilon': 0.1, 'gamma': 'scale'}\n",
      "time:  1.668318\n",
      "0 0.6008121676047009 0.47361409761903706 0.3609752607418592 0.22431031346349478 0.42998973676155705 0.2995767634793974 0.8019547492939414 0.8752628976944316 SVR {'C': 1, 'kernel': 'rbf', 'epsilon': 0.1, 'gamma': 'scale'}\n",
      "Regression:  True\n",
      "sv\n",
      "{'C': 10, 'kernel': 'rbf', 'epsilon': 0.1, 'gamma': 'scale'}\n",
      "time:  1.600561\n",
      "0 0.6740643686596413 0.204700884206056 0.4543627730965208 0.041902451994741144 0.46733941964105996 0.11584527652867088 0.7507186804866659 0.9766983944669453 SVR {'C': 10, 'kernel': 'rbf', 'epsilon': 0.1, 'gamma': 'scale'}\n",
      "Regression:  True\n",
      "sv\n",
      "{'C': 10, 'kernel': 'rbf', 'epsilon': 0.01, 'gamma': 'scale'}\n",
      "time:  2.158526\n",
      "0 0.6772592727135208 0.1882535640432762 0.4586801224764471 0.035439404374995896 0.46520238741144143 0.0395099486205702 0.7483500125104285 0.9802924415693811 SVR {'C': 10, 'kernel': 'rbf', 'epsilon': 0.01, 'gamma': 'scale'}\n",
      "Regression:  True\n",
      "sv\n",
      "{'C': 1000, 'kernel': 'rbf', 'epsilon': 0.1, 'gamma': 'scale'}\n",
      "time:  1.628108\n",
      "0 0.6738421967638158 0.2005940180406892 0.45406330613948515 0.04023796007370834 0.4703744026218655 0.11330895622053894 0.750882979858491 0.9776240045997779 SVR {'C': 1000, 'kernel': 'rbf', 'epsilon': 0.1, 'gamma': 'scale'}\n",
      "Regression:  True\n",
      "sv\n",
      "{'C': 100, 'kernel': 'rbf', 'epsilon': 0.1, 'gamma': 'scale'}\n",
      "time:  1.680593\n",
      "0 0.6738421967638564 0.20059401804066207 0.45406330613953977 0.04023796007369746 0.47037440262185276 0.1133089562205194 0.7508829798584611 0.9776240045997839 SVR {'C': 100, 'kernel': 'rbf', 'epsilon': 0.1, 'gamma': 'scale'}\n"
     ]
    },
    {
     "name": "stderr",
     "output_type": "stream",
     "text": [
      "\n",
      "A value is trying to be set on a copy of a slice from a DataFrame\n",
      "\n",
      "See the caveats in the documentation: https://pandas.pydata.org/pandas-docs/stable/user_guide/indexing.html#returning-a-view-versus-a-copy\n",
      "overflow encountered in reduce                    \n",
      " 95%|█████████▍| 1434/1513 [04:05<00:13,  5.85it/s]\n"
     ]
    },
    {
     "ename": "KeyboardInterrupt",
     "evalue": "",
     "output_type": "error",
     "traceback": [
      "\u001b[1;31m---------------------------------------------------------------------------\u001b[0m",
      "\u001b[1;31mKeyboardInterrupt\u001b[0m                         Traceback (most recent call last)",
      "Cell \u001b[1;32mIn[12], line 87\u001b[0m\n\u001b[0;32m     84\u001b[0m \u001b[38;5;28;01melse\u001b[39;00m:\n\u001b[0;32m     85\u001b[0m     runtype \u001b[38;5;241m=\u001b[39m \u001b[38;5;124m\"\u001b[39m\u001b[38;5;124mclassification\u001b[39m\u001b[38;5;124m\"\u001b[39m\n\u001b[1;32m---> 87\u001b[0m prepared_dataset \u001b[38;5;241m=\u001b[39m \u001b[43mFinalized_pipeline\u001b[49m\u001b[38;5;241;43m.\u001b[39;49m\u001b[43mcalculate_features\u001b[49m\u001b[43m(\u001b[49m\u001b[43mprepared_dataset\u001b[49m\u001b[43m,\u001b[49m\u001b[43m \u001b[49m\u001b[43mcalculate_descriptors\u001b[49m\u001b[38;5;241;43m=\u001b[39;49m\u001b[43mcalculate_descriptors\u001b[49m\u001b[43m,\u001b[49m\u001b[43m \u001b[49m\n\u001b[0;32m     88\u001b[0m \u001b[43m                                                         \u001b[49m\u001b[43mcalculate_fingerprints\u001b[49m\u001b[38;5;241;43m=\u001b[39;49m\u001b[43mcalculate_fingerprints\u001b[49m\u001b[43m,\u001b[49m\u001b[43m \u001b[49m\n\u001b[0;32m     89\u001b[0m \u001b[43m                                            \u001b[49m\u001b[43mSMILES_column_name\u001b[49m\u001b[38;5;241;43m=\u001b[39;49m\u001b[38;5;124;43m\"\u001b[39;49m\u001b[38;5;124;43mSMILES\u001b[39;49m\u001b[38;5;124;43m\"\u001b[39;49m\u001b[43m,\u001b[49m\u001b[43m \u001b[49m\u001b[43mtarget_column_name\u001b[49m\u001b[38;5;241;43m=\u001b[39;49m\u001b[43mtarget_column\u001b[49m\u001b[43m,\u001b[49m\u001b[43m \u001b[49m\n\u001b[0;32m     90\u001b[0m \u001b[43m                                            \u001b[49m\u001b[43msplit_column_name\u001b[49m\u001b[38;5;241;43m=\u001b[39;49m\u001b[38;5;124;43m\"\u001b[39;49m\u001b[38;5;124;43mSplit\u001b[39;49m\u001b[38;5;124;43m\"\u001b[39;49m\u001b[43m)\u001b[49m\n\u001b[0;32m     92\u001b[0m \u001b[38;5;28;01mfor\u001b[39;00m combination \u001b[38;5;129;01min\u001b[39;00m setups[key]:\n\u001b[0;32m     93\u001b[0m                     \u001b[38;5;66;03m# model short name, parameters\u001b[39;00m\n\u001b[0;32m     94\u001b[0m     hyperparams \u001b[38;5;241m=\u001b[39m {\u001b[38;5;28mstr\u001b[39m(model_name_shorts[combination[\u001b[38;5;241m0\u001b[39m]]): combination[\u001b[38;5;241m1\u001b[39m]}\n",
      "File \u001b[1;32mc:\\Users\\wojci\\Documents\\GitHub\\czasteczkowa-inzynierka\\experiments\\Standardized Pipeline\\Finalized_pipeline.py:127\u001b[0m, in \u001b[0;36mcalculate_features\u001b[1;34m(input_df, calculate_descriptors, calculate_fingerprints, SMILES_column_name, target_column_name, split_column_name, output_csv_path)\u001b[0m\n\u001b[0;32m    123\u001b[0m output_df\u001b[38;5;241m.\u001b[39mrename(columns\u001b[38;5;241m=\u001b[39m{target_column_name: \u001b[38;5;124m\"\u001b[39m\u001b[38;5;124mTarget\u001b[39m\u001b[38;5;124m\"\u001b[39m, split_column_name: \u001b[38;5;124m\"\u001b[39m\u001b[38;5;124mSplit\u001b[39m\u001b[38;5;124m\"\u001b[39m}, inplace\u001b[38;5;241m=\u001b[39m\u001b[38;5;28;01mTrue\u001b[39;00m)\n\u001b[0;32m    126\u001b[0m \u001b[38;5;28;01mif\u001b[39;00m calculate_descriptors:\n\u001b[1;32m--> 127\u001b[0m     new_df \u001b[38;5;241m=\u001b[39m \u001b[43mCalculateDescriptors\u001b[49m\u001b[43m(\u001b[49m\u001b[43mdf\u001b[49m\u001b[43m[\u001b[49m\u001b[43mSMILES_column_name\u001b[49m\u001b[43m]\u001b[49m\u001b[43m)\u001b[49m\n\u001b[0;32m    128\u001b[0m     output_df \u001b[38;5;241m=\u001b[39m pd\u001b[38;5;241m.\u001b[39mconcat([output_df, new_df], axis\u001b[38;5;241m=\u001b[39m\u001b[38;5;241m1\u001b[39m)\n\u001b[0;32m    130\u001b[0m \u001b[38;5;28;01mif\u001b[39;00m calculate_fingerprints:\n",
      "File \u001b[1;32mc:\\Users\\wojci\\Documents\\GitHub\\czasteczkowa-inzynierka\\experiments\\Standardized Pipeline\\Finalized_pipeline.py:50\u001b[0m, in \u001b[0;36mCalculateDescriptors\u001b[1;34m(mol, drop_low_std)\u001b[0m\n\u001b[0;32m     48\u001b[0m mol \u001b[38;5;241m=\u001b[39m mol\u001b[38;5;241m.\u001b[39mapply(Chem\u001b[38;5;241m.\u001b[39mMolFromSmiles)\n\u001b[0;32m     49\u001b[0m calc \u001b[38;5;241m=\u001b[39m Calculator(descriptors, ignore_3D\u001b[38;5;241m=\u001b[39m\u001b[38;5;28;01mFalse\u001b[39;00m)\n\u001b[1;32m---> 50\u001b[0m X_mordred \u001b[38;5;241m=\u001b[39m \u001b[43mcalc\u001b[49m\u001b[38;5;241;43m.\u001b[39;49m\u001b[43mpandas\u001b[49m\u001b[43m(\u001b[49m\u001b[43mmol\u001b[49m\u001b[43m,\u001b[49m\u001b[43m \u001b[49m\u001b[43mnproc\u001b[49m\u001b[38;5;241;43m=\u001b[39;49m\u001b[38;5;241;43m1\u001b[39;49m\u001b[43m)\u001b[49m\n\u001b[0;32m     51\u001b[0m X_mordred \u001b[38;5;241m=\u001b[39m X_mordred\u001b[38;5;241m.\u001b[39mselect_dtypes([\u001b[38;5;124m'\u001b[39m\u001b[38;5;124mnumber\u001b[39m\u001b[38;5;124m'\u001b[39m])\n\u001b[0;32m     52\u001b[0m \u001b[38;5;66;03m#normalize\u001b[39;00m\n",
      "File \u001b[1;32mc:\\Users\\wojci\\AppData\\Local\\Programs\\Python\\Python311\\Lib\\site-packages\\mordred\\_base\\calculator.py:397\u001b[0m, in \u001b[0;36mCalculator.pandas\u001b[1;34m(self, mols, nproc, nmols, quiet, ipynb, id)\u001b[0m\n\u001b[0;32m    394\u001b[0m \u001b[38;5;28;01melse\u001b[39;00m:\n\u001b[0;32m    395\u001b[0m     index \u001b[38;5;241m=\u001b[39m \u001b[38;5;28;01mNone\u001b[39;00m\n\u001b[1;32m--> 397\u001b[0m \u001b[38;5;28;01mreturn\u001b[39;00m \u001b[43mMordredDataFrame\u001b[49m\u001b[43m(\u001b[49m\n\u001b[0;32m    398\u001b[0m \u001b[43m    \u001b[49m\u001b[43m(\u001b[49m\u001b[38;5;28;43mlist\u001b[39;49m\u001b[43m(\u001b[49m\u001b[43mr\u001b[49m\u001b[43m)\u001b[49m\u001b[43m \u001b[49m\u001b[38;5;28;43;01mfor\u001b[39;49;00m\u001b[43m \u001b[49m\u001b[43mr\u001b[49m\u001b[43m \u001b[49m\u001b[38;5;129;43;01min\u001b[39;49;00m\u001b[43m \u001b[49m\u001b[38;5;28;43mself\u001b[39;49m\u001b[38;5;241;43m.\u001b[39;49m\u001b[43mmap\u001b[49m\u001b[43m(\u001b[49m\u001b[43mmols\u001b[49m\u001b[43m,\u001b[49m\u001b[43m \u001b[49m\u001b[43mnproc\u001b[49m\u001b[43m,\u001b[49m\u001b[43m \u001b[49m\u001b[43mnmols\u001b[49m\u001b[43m,\u001b[49m\u001b[43m \u001b[49m\u001b[43mquiet\u001b[49m\u001b[43m,\u001b[49m\u001b[43m \u001b[49m\u001b[43mipynb\u001b[49m\u001b[43m,\u001b[49m\u001b[43m \u001b[49m\u001b[38;5;28;43mid\u001b[39;49m\u001b[43m)\u001b[49m\u001b[43m)\u001b[49m\u001b[43m,\u001b[49m\n\u001b[0;32m    399\u001b[0m \u001b[43m    \u001b[49m\u001b[43mcolumns\u001b[49m\u001b[38;5;241;43m=\u001b[39;49m\u001b[43m[\u001b[49m\u001b[38;5;28;43mstr\u001b[39;49m\u001b[43m(\u001b[49m\u001b[43md\u001b[49m\u001b[43m)\u001b[49m\u001b[43m \u001b[49m\u001b[38;5;28;43;01mfor\u001b[39;49;00m\u001b[43m \u001b[49m\u001b[43md\u001b[49m\u001b[43m \u001b[49m\u001b[38;5;129;43;01min\u001b[39;49;00m\u001b[43m \u001b[49m\u001b[38;5;28;43mself\u001b[39;49m\u001b[38;5;241;43m.\u001b[39;49m\u001b[43mdescriptors\u001b[49m\u001b[43m]\u001b[49m\u001b[43m,\u001b[49m\n\u001b[0;32m    400\u001b[0m \u001b[43m    \u001b[49m\u001b[43mindex\u001b[49m\u001b[38;5;241;43m=\u001b[39;49m\u001b[43mindex\u001b[49m\u001b[43m,\u001b[49m\n\u001b[0;32m    401\u001b[0m \u001b[43m\u001b[49m\u001b[43m)\u001b[49m\n",
      "File \u001b[1;32mc:\\Users\\wojci\\AppData\\Local\\Programs\\Python\\Python311\\Lib\\site-packages\\pandas\\core\\frame.py:774\u001b[0m, in \u001b[0;36mDataFrame.__init__\u001b[1;34m(self, data, index, columns, dtype, copy)\u001b[0m\n\u001b[0;32m    772\u001b[0m         data \u001b[38;5;241m=\u001b[39m np\u001b[38;5;241m.\u001b[39masarray(data)\n\u001b[0;32m    773\u001b[0m     \u001b[38;5;28;01melse\u001b[39;00m:\n\u001b[1;32m--> 774\u001b[0m         data \u001b[38;5;241m=\u001b[39m \u001b[38;5;28mlist\u001b[39m(data)\n\u001b[0;32m    775\u001b[0m \u001b[38;5;28;01mif\u001b[39;00m \u001b[38;5;28mlen\u001b[39m(data) \u001b[38;5;241m>\u001b[39m \u001b[38;5;241m0\u001b[39m:\n\u001b[0;32m    776\u001b[0m     \u001b[38;5;28;01mif\u001b[39;00m is_dataclass(data[\u001b[38;5;241m0\u001b[39m]):\n",
      "File \u001b[1;32mc:\\Users\\wojci\\AppData\\Local\\Programs\\Python\\Python311\\Lib\\site-packages\\mordred\\_base\\calculator.py:398\u001b[0m, in \u001b[0;36m<genexpr>\u001b[1;34m(.0)\u001b[0m\n\u001b[0;32m    394\u001b[0m \u001b[38;5;28;01melse\u001b[39;00m:\n\u001b[0;32m    395\u001b[0m     index \u001b[38;5;241m=\u001b[39m \u001b[38;5;28;01mNone\u001b[39;00m\n\u001b[0;32m    397\u001b[0m \u001b[38;5;28;01mreturn\u001b[39;00m MordredDataFrame(\n\u001b[1;32m--> 398\u001b[0m     (\u001b[38;5;28mlist\u001b[39m(r) \u001b[38;5;28;01mfor\u001b[39;00m r \u001b[38;5;129;01min\u001b[39;00m \u001b[38;5;28mself\u001b[39m\u001b[38;5;241m.\u001b[39mmap(mols, nproc, nmols, quiet, ipynb, \u001b[38;5;28mid\u001b[39m)),\n\u001b[0;32m    399\u001b[0m     columns\u001b[38;5;241m=\u001b[39m[\u001b[38;5;28mstr\u001b[39m(d) \u001b[38;5;28;01mfor\u001b[39;00m d \u001b[38;5;129;01min\u001b[39;00m \u001b[38;5;28mself\u001b[39m\u001b[38;5;241m.\u001b[39mdescriptors],\n\u001b[0;32m    400\u001b[0m     index\u001b[38;5;241m=\u001b[39mindex,\n\u001b[0;32m    401\u001b[0m )\n",
      "File \u001b[1;32mc:\\Users\\wojci\\AppData\\Local\\Programs\\Python\\Python311\\Lib\\site-packages\\mordred\\_base\\calculator.py:299\u001b[0m, in \u001b[0;36mCalculator._serial\u001b[1;34m(self, mols, nmols, quiet, ipynb, id)\u001b[0m\n\u001b[0;32m    297\u001b[0m \u001b[38;5;28;01mfor\u001b[39;00m m \u001b[38;5;129;01min\u001b[39;00m mols:\n\u001b[0;32m    298\u001b[0m     \u001b[38;5;28;01mwith\u001b[39;00m Capture() \u001b[38;5;28;01mas\u001b[39;00m capture:\n\u001b[1;32m--> 299\u001b[0m         r \u001b[38;5;241m=\u001b[39m \u001b[38;5;28;43mself\u001b[39;49m\u001b[38;5;241;43m.\u001b[39;49m\u001b[43m_wrap_result\u001b[49m\u001b[43m(\u001b[49m\n\u001b[0;32m    300\u001b[0m \u001b[43m            \u001b[49m\u001b[43mm\u001b[49m\u001b[43m,\u001b[49m\u001b[43m \u001b[49m\u001b[38;5;28;43mself\u001b[39;49m\u001b[38;5;241;43m.\u001b[39;49m\u001b[43m_calculate\u001b[49m\u001b[43m(\u001b[49m\u001b[43mContext\u001b[49m\u001b[38;5;241;43m.\u001b[39;49m\u001b[43mfrom_calculator\u001b[49m\u001b[43m(\u001b[49m\u001b[38;5;28;43mself\u001b[39;49m\u001b[43m,\u001b[49m\u001b[43m \u001b[49m\u001b[43mm\u001b[49m\u001b[43m,\u001b[49m\u001b[43m \u001b[49m\u001b[38;5;28;43mid\u001b[39;49m\u001b[43m)\u001b[49m\u001b[43m)\u001b[49m\n\u001b[0;32m    301\u001b[0m \u001b[43m        \u001b[49m\u001b[43m)\u001b[49m\n\u001b[0;32m    303\u001b[0m     \u001b[38;5;28;01mfor\u001b[39;00m e \u001b[38;5;129;01min\u001b[39;00m capture\u001b[38;5;241m.\u001b[39mresult:\n\u001b[0;32m    304\u001b[0m         e \u001b[38;5;241m=\u001b[39m e\u001b[38;5;241m.\u001b[39mrstrip()\n",
      "File \u001b[1;32mc:\\Users\\wojci\\AppData\\Local\\Programs\\Python\\Python311\\Lib\\site-packages\\mordred\\_base\\calculator.py:293\u001b[0m, in \u001b[0;36mCalculator._wrap_result\u001b[1;34m(self, mol, r)\u001b[0m\n\u001b[0;32m    292\u001b[0m \u001b[38;5;28;01mdef\u001b[39;00m \u001b[38;5;21m_wrap_result\u001b[39m(\u001b[38;5;28mself\u001b[39m, mol, r):\n\u001b[1;32m--> 293\u001b[0m     \u001b[38;5;28;01mreturn\u001b[39;00m \u001b[43mResult\u001b[49m\u001b[43m(\u001b[49m\u001b[43mmol\u001b[49m\u001b[43m,\u001b[49m\u001b[43m \u001b[49m\u001b[43mr\u001b[49m\u001b[43m,\u001b[49m\u001b[43m \u001b[49m\u001b[38;5;28;43mself\u001b[39;49m\u001b[38;5;241;43m.\u001b[39;49m\u001b[43m_descriptors\u001b[49m\u001b[43m)\u001b[49m\n",
      "File \u001b[1;32mc:\\Users\\wojci\\AppData\\Local\\Programs\\Python\\Python311\\Lib\\site-packages\\mordred\\_base\\result.py:15\u001b[0m, in \u001b[0;36mResult.__init__\u001b[1;34m(self, mol, r, d)\u001b[0m\n\u001b[0;32m     13\u001b[0m \u001b[38;5;28;01mdef\u001b[39;00m \u001b[38;5;21m__init__\u001b[39m(\u001b[38;5;28mself\u001b[39m, mol, r, d):\n\u001b[0;32m     14\u001b[0m     \u001b[38;5;28mself\u001b[39m\u001b[38;5;241m.\u001b[39mmol \u001b[38;5;241m=\u001b[39m mol\n\u001b[1;32m---> 15\u001b[0m     \u001b[38;5;28mself\u001b[39m\u001b[38;5;241m.\u001b[39m_values \u001b[38;5;241m=\u001b[39m \u001b[38;5;28mlist\u001b[39m(r)\n\u001b[0;32m     16\u001b[0m     \u001b[38;5;28mself\u001b[39m\u001b[38;5;241m.\u001b[39m_descriptors \u001b[38;5;241m=\u001b[39m \u001b[38;5;28mlist\u001b[39m(d)\n\u001b[0;32m     17\u001b[0m     \u001b[38;5;28mself\u001b[39m\u001b[38;5;241m.\u001b[39m_name_to_value \u001b[38;5;241m=\u001b[39m \u001b[38;5;28;01mNone\u001b[39;00m\n",
      "File \u001b[1;32mc:\\Users\\wojci\\AppData\\Local\\Programs\\Python\\Python311\\Lib\\site-packages\\mordred\\_base\\calculator.py:273\u001b[0m, in \u001b[0;36mCalculator._calculate\u001b[1;34m(self, cxt)\u001b[0m\n\u001b[0;32m    271\u001b[0m \u001b[38;5;28mself\u001b[39m\u001b[38;5;241m.\u001b[39m_cache \u001b[38;5;241m=\u001b[39m {}\n\u001b[0;32m    272\u001b[0m \u001b[38;5;28;01mfor\u001b[39;00m desc \u001b[38;5;129;01min\u001b[39;00m \u001b[38;5;28mself\u001b[39m\u001b[38;5;241m.\u001b[39mdescriptors:\n\u001b[1;32m--> 273\u001b[0m     _, r \u001b[38;5;241m=\u001b[39m \u001b[38;5;28;43mself\u001b[39;49m\u001b[38;5;241;43m.\u001b[39;49m\u001b[43m_calculate_one\u001b[49m\u001b[43m(\u001b[49m\u001b[43mcxt\u001b[49m\u001b[43m,\u001b[49m\u001b[43m \u001b[49m\u001b[43mdesc\u001b[49m\u001b[43m,\u001b[49m\u001b[43m \u001b[49m\u001b[38;5;28;43;01mTrue\u001b[39;49;00m\u001b[43m)\u001b[49m\n\u001b[0;32m    274\u001b[0m     \u001b[38;5;28;01myield\u001b[39;00m r\n",
      "File \u001b[1;32mc:\\Users\\wojci\\AppData\\Local\\Programs\\Python\\Python311\\Lib\\site-packages\\mordred\\_base\\calculator.py:247\u001b[0m, in \u001b[0;36mCalculator._calculate_one\u001b[1;34m(self, cxt, desc, reset)\u001b[0m\n\u001b[0;32m    245\u001b[0m ok \u001b[38;5;241m=\u001b[39m \u001b[38;5;28;01mFalse\u001b[39;00m\n\u001b[0;32m    246\u001b[0m \u001b[38;5;28;01mtry\u001b[39;00m:\n\u001b[1;32m--> 247\u001b[0m     r \u001b[38;5;241m=\u001b[39m \u001b[43mdesc\u001b[49m\u001b[38;5;241;43m.\u001b[39;49m\u001b[43mcalculate\u001b[49m\u001b[43m(\u001b[49m\u001b[38;5;241;43m*\u001b[39;49m\u001b[38;5;241;43m*\u001b[39;49m\u001b[43margs\u001b[49m\u001b[43m)\u001b[49m\n\u001b[0;32m    248\u001b[0m     \u001b[38;5;28;01mif\u001b[39;00m \u001b[38;5;28mself\u001b[39m\u001b[38;5;241m.\u001b[39m_debug:\n\u001b[0;32m    249\u001b[0m         \u001b[38;5;28mself\u001b[39m\u001b[38;5;241m.\u001b[39m_check_rtype(desc, r)\n",
      "File \u001b[1;32mc:\\Users\\wojci\\AppData\\Local\\Programs\\Python\\Python311\\Lib\\site-packages\\mordred\\Autocorrelation.py:179\u001b[0m, in \u001b[0;36mATS.calculate\u001b[1;34m(self, avec, gmat)\u001b[0m\n\u001b[0;32m    176\u001b[0m \u001b[38;5;28;01mif\u001b[39;00m \u001b[38;5;28mself\u001b[39m\u001b[38;5;241m.\u001b[39m_order \u001b[38;5;241m==\u001b[39m \u001b[38;5;241m0\u001b[39m:\n\u001b[0;32m    177\u001b[0m     \u001b[38;5;28;01mreturn\u001b[39;00m (avec \u001b[38;5;241m*\u001b[39m\u001b[38;5;241m*\u001b[39m \u001b[38;5;241m2\u001b[39m)\u001b[38;5;241m.\u001b[39msum()\u001b[38;5;241m.\u001b[39mastype(\u001b[38;5;124m\"\u001b[39m\u001b[38;5;124mfloat\u001b[39m\u001b[38;5;124m\"\u001b[39m)\n\u001b[1;32m--> 179\u001b[0m \u001b[38;5;28;01mreturn\u001b[39;00m \u001b[38;5;241m0.5\u001b[39m \u001b[38;5;241m*\u001b[39m avec\u001b[38;5;241m.\u001b[39mdot(gmat)\u001b[38;5;241m.\u001b[39mdot(avec)\n",
      "\u001b[1;31mKeyboardInterrupt\u001b[0m: "
     ]
    }
   ],
   "source": [
    "for dataset in main_datasets:\n",
    "    regression = False\n",
    "    if \"regre\" in dataset:\n",
    "        regression = True\n",
    "\n",
    "\n",
    "    df = pd.read_csv(r\"Merged runs/\" + dataset + \".csv\")\n",
    "    \n",
    "    setups = {\"Fingerprints\": [], \"Descriptors\": [], \"DescFing\": []}\n",
    "\n",
    "    for row in df.head(top_models)[['hyperparams', 'preprocessing', 'model']].iterrows():\n",
    "        #print(row)\n",
    "        params = list(row[1])[0].split(\", '\")\n",
    "        params[0] = params[0][2:]\n",
    "        params[-1] = params[-1][:-1]\n",
    "        #print(params)\n",
    "\n",
    "        preprocessing = list(row[1])[1]\n",
    "        model = list(row[1])[2]\n",
    "        #print(preprocessing)\n",
    "\n",
    "        clean_params = {}\n",
    "        \n",
    "        for param in params:\n",
    "            name = param.split(\"': \")[0]\n",
    "            val = param.split(\"': \")[1]\n",
    "            if val[0] == \"'\":\n",
    "                val = val[1:-1]\n",
    "            elif val[0] == \"(\":\n",
    "                if val == \"(50, 50)\": val = (50, 50)\n",
    "                if val == \"(100, )\" or val == \"(100,)\": val = (100, )\n",
    "                if val == \"(50, )\" or val == \"(50,)\": val = (50, )\n",
    "            elif val == \"None\":\n",
    "                val = None\n",
    "            else:\n",
    "                try:\n",
    "                    val = int(val)\n",
    "                except:\n",
    "                    val = float(val)\n",
    "            clean_params[name] = [val]\n",
    "        #print(model)\n",
    "        #print(preprocessing)\n",
    "        #print(clean_params)\n",
    "        setups[preprocessing].append([model, clean_params])\n",
    "\n",
    "    for key in setups.keys():\n",
    "        setups[key] = sorted(setups[key], key=lambda x:x[0])\n",
    "    #print(setups)\n",
    "\n",
    "    returned_df = pd.DataFrame(columns=df.columns)\n",
    "    #print(returned_df)\n",
    "\n",
    "    for key in setups.keys():\n",
    "        if key == \"Descriptors\":\n",
    "            calculate_descriptors = True\n",
    "            calculate_fingerprints = False\n",
    "        if name == \"DescFing\":\n",
    "            calculate_descriptors = True\n",
    "            calculate_fingerprints = True\n",
    "        if key == \"Fingerprints\":\n",
    "            calculate_descriptors = False\n",
    "            calculate_fingerprints = True\n",
    "\n",
    "            \n",
    "        if \"BACE\" in dataset:\n",
    "            prepared_dataset = pd.read_csv(r\"C:\\Users\\wojci\\Documents\\GitHub\\czasteczkowa-inzynierka\\experiments\\split_datasets\\split0.9_bace.csv\")\n",
    "        else:\n",
    "            prepared_dataset = pd.read_csv(r\"C:\\Users\\wojci\\Documents\\GitHub\\czasteczkowa-inzynierka\\experiments\\split_datasets\\split0.9_ROR_data_1.csv\")\n",
    "        \n",
    "        if not \"pIC50\" in prepared_dataset.columns:\n",
    "            prepared_dataset = Finalized_pipeline.calculate_pIC50(prepared_dataset, \"target\")\n",
    "        \n",
    "        if not regression:\n",
    "            prepared_dataset = Finalized_pipeline.calculate_classification_labels(prepared_dataset, \"pIC50\", threshold=7)\n",
    "            target_column = \"label\"\n",
    "        else:\n",
    "            target_column = \"pIC50\"\n",
    "\n",
    "        if \"mol\" in prepared_dataset.columns:\n",
    "            prepared_dataset.rename(columns={\"mol\": \"SMILES\"}, inplace=True)\n",
    "\n",
    "        if regression:\n",
    "            runtype = \"regression\"\n",
    "        else:\n",
    "            runtype = \"classification\"\n",
    "        \n",
    "        prepared_dataset = Finalized_pipeline.calculate_features(prepared_dataset, calculate_descriptors=calculate_descriptors, \n",
    "                                                                 calculate_fingerprints=calculate_fingerprints, \n",
    "                                                    SMILES_column_name=\"SMILES\", target_column_name=target_column, \n",
    "                                                    split_column_name=\"Split\")\n",
    "\n",
    "        for combination in setups[key]:\n",
    "                            # model short name, parameters\n",
    "            hyperparams = {str(model_name_shorts[combination[0]]): combination[1]}\n",
    "\n",
    "\n",
    "            new_df = Finalized_pipeline.hyperparameter_search(prepared_dataset, hyperparams, unique=False, return_df=True, output_file_name=\"tmp.csv\")\n",
    "\n",
    "            new_df['split'] = 0.9\n",
    "            new_df['preprocessing'] = key\n",
    "\n",
    "            returned_df = pd.concat([returned_df, new_df])\n",
    "\n",
    "    if \"mse\" in returned_df.columns:\n",
    "        returned_df.sort_values(by=['mse'], inplace=True)\n",
    "    else:\n",
    "        returned_df.sort_values(by=['roc_auc'], inplace=True, ascending=False)\n",
    "    returned_df.to_csv(\"RERUN_\" + dataset + \".csv\", index=False)\n",
    "\n",
    "        \n",
    "                \n"
   ]
  }
 ],
 "metadata": {
  "kernelspec": {
   "display_name": "Python 3",
   "language": "python",
   "name": "python3"
  },
  "language_info": {
   "codemirror_mode": {
    "name": "ipython",
    "version": 3
   },
   "file_extension": ".py",
   "mimetype": "text/x-python",
   "name": "python",
   "nbconvert_exporter": "python",
   "pygments_lexer": "ipython3",
   "version": "3.11.3"
  }
 },
 "nbformat": 4,
 "nbformat_minor": 2
}
