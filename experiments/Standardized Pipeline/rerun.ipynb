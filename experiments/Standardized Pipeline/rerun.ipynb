{
 "cells": [
  {
   "cell_type": "code",
   "execution_count": 4,
   "metadata": {},
   "outputs": [],
   "source": [
    "import pandas as pd\n",
    "import numpy as np\n",
    "import os\n",
    "\n",
    "from itertools import product\n",
    "\n",
    "import Finalized_pipeline\n",
    "\n",
    "import seaborn as sns\n",
    "import matplotlib.pyplot as plt"
   ]
  },
  {
   "cell_type": "code",
   "execution_count": 5,
   "metadata": {},
   "outputs": [],
   "source": [
    "main_datasets = [\"BACE_class\", \"BACE_regre\", \"ROR_class\", \"ROR_regre\"]\n",
    "model_name_shorts = {\"DecisionTreeRegressor\": \"dt\", \"DecisionTreeClassifier\": \"dt\", \n",
    "                    \"RandomForestRegressor\": \"rf\", \"RandomForestClassifier\": \"rf\", \n",
    "                    \"LinearRegression\": \"lr\", \"LogisticRegression\": \"lr\", \n",
    "                    \"MLPRegressor\": \"nn\", \"MLPClassifier\": \"nn\",  \n",
    "                    \"GradientBoostingRegressor\": \"gb\", \"GradientBoostingClassifier\": \"gb\",\n",
    "                    \"XGBRegressor\": \"xg\", \"XGBClassifier\": \"xg\", \n",
    "                    \"SVR\": \"sv\", \"SVC\": \"sv\"}\n",
    "    \n",
    "top_models = 100\n"
   ]
  },
  {
   "cell_type": "code",
   "execution_count": 6,
   "metadata": {},
   "outputs": [
    {
     "name": "stderr",
     "output_type": "stream",
     "text": [
      "\n",
      "A value is trying to be set on a copy of a slice from a DataFrame\n",
      "\n",
      "See the caveats in the documentation: https://pandas.pydata.org/pandas-docs/stable/user_guide/indexing.html#returning-a-view-versus-a-copy\n"
     ]
    },
    {
     "name": "stdout",
     "output_type": "stream",
     "text": [
      "Regression:  False\n",
      "gb\n",
      "{'max_depth': 3, 'loss': 'exponential', 'n_estimators': 200, 'learning_rate': 1.0, 'min_impurity_decrease': 0.05}\n",
      "time:  3.095628\n",
      "0 0.8139413906710595 0.9895282375959022 0.8157894736842105 0.9897134459955915 0.835820895522388 0.988135593220339 0.7671232876712328 0.988135593220339 0.8 0.988135593220339 GradientBoostingClassifier {'max_depth': 3, 'loss': 'exponential', 'n_estimators': 200, 'learning_rate': 1.0, 'min_impurity_decrease': 0.05}\n",
      "Regression:  False\n",
      "gb\n",
      "{'max_depth': 3, 'loss': 'exponential', 'n_estimators': 100, 'learning_rate': 0.5, 'min_impurity_decrease': 0}\n",
      "time:  1.887843\n",
      "0 0.8418588520894745 0.9642441029699489 0.8421052631578947 0.9639970609845702 0.8356164383561644 0.9515859766277128 0.8356164383561644 0.9661016949152542 0.8356164383561644 0.9587888982338099 GradientBoostingClassifier {'max_depth': 3, 'loss': 'exponential', 'n_estimators': 100, 'learning_rate': 0.5, 'min_impurity_decrease': 0}\n",
      "Regression:  False\n",
      "gb\n",
      "{'max_depth': 5, 'loss': 'exponential', 'n_estimators': 200, 'learning_rate': 2.0, 'min_impurity_decrease': 0.05}\n",
      "time:  3.098758\n",
      "0 0.814461591815502 0.9897271867924113 0.8157894736842105 0.9897134459955915 0.8260869565217391 0.9864864864864865 0.7808219178082192 0.9898305084745763 0.8028169014084506 0.988155668358714 GradientBoostingClassifier {'max_depth': 5, 'loss': 'exponential', 'n_estimators': 200, 'learning_rate': 2.0, 'min_impurity_decrease': 0.05}\n",
      "Regression:  False\n",
      "gb\n",
      "{'max_depth': None, 'loss': 'exponential', 'n_estimators': 200, 'learning_rate': 1.0, 'min_impurity_decrease': 0}\n",
      "time:  35.673568\n",
      "0 0.8276400208080458 0.9891820000439666 0.8289473684210527 0.9904481998530492 0.8405797101449275 0.998272884283247 0.7945205479452054 0.9796610169491525 0.8169014084507042 0.9888793840889649 GradientBoostingClassifier {'max_depth': None, 'loss': 'exponential', 'n_estimators': 200, 'learning_rate': 1.0, 'min_impurity_decrease': 0}\n",
      "Regression:  False\n",
      "lr\n",
      "{'C': 1, 'penalty': 'l2', 'solver': 'saga'}\n"
     ]
    },
    {
     "name": "stderr",
     "output_type": "stream",
     "text": [
      "The max_iter was reached which means the coef_ did not converge\n"
     ]
    },
    {
     "name": "stdout",
     "output_type": "stream",
     "text": [
      "time:  1.781753\n",
      "0 0.8613663950060689 0.9560641034096155 0.8618421052631579 0.9551800146950772 0.8611111111111112 0.9357495881383855 0.8493150684931506 0.9627118644067797 0.8551724137931035 0.9490392648287386 LogisticRegression {'C': 1, 'penalty': 'l2', 'solver': 'saga'}\n",
      "Regression:  False\n",
      "lr\n",
      "{'C': 1, 'penalty': 'l2', 'solver': 'liblinear'}\n",
      "time:  0.0917\n",
      "0 0.8613663950060689 0.9569115610367341 0.8618421052631579 0.9559147685525349 0.8611111111111112 0.9358552631578947 0.8493150684931506 0.964406779661017 0.8551724137931035 0.9499165275459098 LogisticRegression {'C': 1, 'penalty': 'l2', 'solver': 'liblinear'}\n",
      "Regression:  False\n",
      "lr\n",
      "{'C': 10, 'penalty': 'l2', 'solver': 'saga'}\n"
     ]
    },
    {
     "name": "stderr",
     "output_type": "stream",
     "text": [
      "The max_iter was reached which means the coef_ did not converge\n"
     ]
    },
    {
     "name": "stdout",
     "output_type": "stream",
     "text": [
      "time:  1.780342\n",
      "0 0.8550372810820183 0.9741190177845193 0.8552631578947368 0.9742836149889786 0.8493150684931506 0.9679595278246206 0.8493150684931506 0.9728813559322034 0.8493150684931505 0.970414201183432 LogisticRegression {'C': 10, 'penalty': 'l2', 'solver': 'saga'}\n",
      "Regression:  False\n",
      "lr\n",
      "{'C': 1, 'penalty': 'l1', 'solver': 'liblinear'}\n",
      "time:  0.139517\n",
      "0 0.8545170799375759 0.9158719690474619 0.8552631578947368 0.9155033063923586 0.8591549295774648 0.8899835796387521 0.8356164383561644 0.9186440677966101 0.8472222222222222 0.9040867389491243 LogisticRegression {'C': 1, 'penalty': 'l1', 'solver': 'liblinear'}\n",
      "Regression:  False\n",
      "nn\n",
      "{'hidden_layer_sizes': (100,), 'activation': 'relu', 'alpha': 0.001, 'max_iter': 1000, 'solver': 'sgd'}\n"
     ]
    },
    {
     "name": "stderr",
     "output_type": "stream",
     "text": [
      "Stochastic Optimizer: Maximum iterations (1000) reached and the optimization hasn't converged yet.\n"
     ]
    },
    {
     "name": "stdout",
     "output_type": "stream",
     "text": [
      "time:  66.367695\n",
      "0 0.8545170799375759 0.9618490184440194 0.8552631578947368 0.9610580455547392 0.8591549295774648 0.943801652892562 0.8356164383561644 0.9677966101694915 0.8472222222222222 0.9556485355648535 MLPClassifier {'hidden_layer_sizes': (100,), 'activation': 'relu', 'alpha': 0.001, 'max_iter': 1000, 'solver': 'sgd'}\n",
      "Regression:  False\n",
      "nn\n",
      "{'hidden_layer_sizes': (50, 50), 'activation': 'relu', 'alpha': 0.001, 'max_iter': 500, 'solver': 'sgd'}\n"
     ]
    },
    {
     "name": "stderr",
     "output_type": "stream",
     "text": [
      "Stochastic Optimizer: Maximum iterations (500) reached and the optimization hasn't converged yet.\n"
     ]
    },
    {
     "name": "stdout",
     "output_type": "stream",
     "text": [
      "time:  23.782875\n",
      "0 0.8471475637246403 0.9631460353052386 0.8486842105263158 0.9625275532696547 0.8676470588235294 0.9469320066334992 0.8082191780821918 0.9677966101694915 0.8368794326241135 0.9572506286672255 MLPClassifier {'hidden_layer_sizes': (50, 50), 'activation': 'relu', 'alpha': 0.001, 'max_iter': 500, 'solver': 'sgd'}\n",
      "Regression:  False\n",
      "nn\n",
      "{'hidden_layer_sizes': (100,), 'activation': 'relu', 'alpha': 0.0001, 'max_iter': 1000, 'solver': 'sgd'}\n"
     ]
    },
    {
     "name": "stderr",
     "output_type": "stream",
     "text": [
      "Stochastic Optimizer: Maximum iterations (1000) reached and the optimization hasn't converged yet.\n"
     ]
    },
    {
     "name": "stdout",
     "output_type": "stream",
     "text": [
      "time:  73.427073\n",
      "0 0.8545170799375759 0.9618490184440194 0.8552631578947368 0.9610580455547392 0.8591549295774648 0.943801652892562 0.8356164383561644 0.9677966101694915 0.8472222222222222 0.9556485355648535 MLPClassifier {'hidden_layer_sizes': (100,), 'activation': 'relu', 'alpha': 0.0001, 'max_iter': 1000, 'solver': 'sgd'}\n",
      "Regression:  False\n",
      "nn\n",
      "{'hidden_layer_sizes': (50,), 'activation': 'relu', 'alpha': 0.0001, 'max_iter': 1000, 'solver': 'sgd'}\n"
     ]
    },
    {
     "name": "stderr",
     "output_type": "stream",
     "text": [
      "Stochastic Optimizer: Maximum iterations (1000) reached and the optimization hasn't converged yet.\n"
     ]
    },
    {
     "name": "stdout",
     "output_type": "stream",
     "text": [
      "time:  42.036616\n",
      "0 0.8471475637246403 0.9597045439556816 0.8486842105263158 0.9588537839823659 0.8676470588235294 0.9405940594059405 0.8082191780821918 0.9661016949152542 0.8368794326241135 0.9531772575250834 MLPClassifier {'hidden_layer_sizes': (50,), 'activation': 'relu', 'alpha': 0.0001, 'max_iter': 1000, 'solver': 'sgd'}\n",
      "Regression:  False\n",
      "nn\n",
      "{'hidden_layer_sizes': (100,), 'activation': 'relu', 'alpha': 0.0001, 'max_iter': 500, 'solver': 'adam'}\n",
      "time:  11.680242\n",
      "0 0.8202705045951101 0.988334542416848 0.8223684210526315 0.9897134459955915 0.8484848484848485 0.9982698961937716 0.7671232876712328 0.9779661016949153 0.8057553956834531 0.9880136986301371 MLPClassifier {'hidden_layer_sizes': (100,), 'activation': 'relu', 'alpha': 0.0001, 'max_iter': 500, 'solver': 'adam'}\n",
      "Regression:  False\n",
      "nn\n",
      "{'hidden_layer_sizes': (50, 50), 'activation': 'tanh', 'alpha': 0.001, 'max_iter': 500, 'solver': 'sgd'}\n"
     ]
    },
    {
     "name": "stderr",
     "output_type": "stream",
     "text": [
      "Stochastic Optimizer: Maximum iterations (500) reached and the optimization hasn't converged yet.\n"
     ]
    },
    {
     "name": "stdout",
     "output_type": "stream",
     "text": [
      "time:  24.553238\n",
      "0 0.8476677648690827 0.9556662050165974 0.8486842105263158 0.9551800146950772 0.8571428571428571 0.9386401326699834 0.821917808219178 0.9593220338983051 0.8391608391608392 0.9488683989941323 MLPClassifier {'hidden_layer_sizes': (50, 50), 'activation': 'tanh', 'alpha': 0.001, 'max_iter': 500, 'solver': 'sgd'}\n",
      "Regression:  False\n",
      "nn\n",
      "{'hidden_layer_sizes': (50, 50), 'activation': 'logistic', 'alpha': 0.01, 'max_iter': 500, 'solver': 'lbfgs'}\n"
     ]
    },
    {
     "name": "stderr",
     "output_type": "stream",
     "text": [
      "lbfgs failed to converge (status=1):\n",
      "STOP: TOTAL NO. of ITERATIONS REACHED LIMIT.\n",
      "\n",
      "Increase the number of iterations (max_iter) or scale the data as shown in:\n",
      "    https://scikit-learn.org/stable/modules/preprocessing.html\n"
     ]
    },
    {
     "name": "stdout",
     "output_type": "stream",
     "text": [
      "time:  13.821132\n",
      "0 0.8060516733136814 0.9913704412055662 0.8092105263157895 0.9904481998530492 0.8548387096774194 0.9800332778702163 0.726027397260274 0.9983050847457627 0.7851851851851852 0.9890848026868179 MLPClassifier {'hidden_layer_sizes': (50, 50), 'activation': 'logistic', 'alpha': 0.01, 'max_iter': 500, 'solver': 'lbfgs'}\n",
      "Regression:  False\n",
      "nn\n",
      "{'hidden_layer_sizes': (50,), 'activation': 'relu', 'alpha': 0.0001, 'max_iter': 500, 'solver': 'sgd'}\n"
     ]
    },
    {
     "name": "stderr",
     "output_type": "stream",
     "text": [
      "Stochastic Optimizer: Maximum iterations (500) reached and the optimization hasn't converged yet.\n"
     ]
    },
    {
     "name": "stdout",
     "output_type": "stream",
     "text": [
      "time:  20.543266\n",
      "0 0.834489335876539 0.9166677658334981 0.8355263157894737 0.9155033063923586 0.8428571428571429 0.8849270664505673 0.8082191780821918 0.9254237288135593 0.8251748251748252 0.9047224523612262 MLPClassifier {'hidden_layer_sizes': (50,), 'activation': 'relu', 'alpha': 0.0001, 'max_iter': 500, 'solver': 'sgd'}\n",
      "Regression:  False\n",
      "nn\n",
      "{'hidden_layer_sizes': (50, 50), 'activation': 'relu', 'alpha': 0.0001, 'max_iter': 500, 'solver': 'sgd'}\n"
     ]
    },
    {
     "name": "stderr",
     "output_type": "stream",
     "text": [
      "Stochastic Optimizer: Maximum iterations (500) reached and the optimization hasn't converged yet.\n"
     ]
    },
    {
     "name": "stdout",
     "output_type": "stream",
     "text": [
      "time:  23.492404\n",
      "0 0.8471475637246403 0.9631460353052386 0.8486842105263158 0.9625275532696547 0.8676470588235294 0.9469320066334992 0.8082191780821918 0.9677966101694915 0.8368794326241135 0.9572506286672255 MLPClassifier {'hidden_layer_sizes': (50, 50), 'activation': 'relu', 'alpha': 0.0001, 'max_iter': 500, 'solver': 'sgd'}\n",
      "Regression:  False\n",
      "nn\n",
      "{'hidden_layer_sizes': (50, 50), 'activation': 'tanh', 'alpha': 0.001, 'max_iter': 1000, 'solver': 'sgd'}\n"
     ]
    },
    {
     "name": "stderr",
     "output_type": "stream",
     "text": [
      "Stochastic Optimizer: Maximum iterations (1000) reached and the optimization hasn't converged yet.\n"
     ]
    },
    {
     "name": "stdout",
     "output_type": "stream",
     "text": [
      "time:  48.73071\n",
      "0 0.8339691347320964 0.9839422717580074 0.8355263157894737 0.9838354151359294 0.8529411764705882 0.9781144781144782 0.7945205479452054 0.9847457627118644 0.8226950354609929 0.981418918918919 MLPClassifier {'hidden_layer_sizes': (50, 50), 'activation': 'tanh', 'alpha': 0.001, 'max_iter': 1000, 'solver': 'sgd'}\n",
      "Regression:  False\n",
      "rf\n",
      "{'max_depth': None, 'min_samples_split': 10, 'min_samples_leaf': 1, 'min_impurity_decrease': 0, 'n_estimators': 10}\n",
      "time:  0.09051\n",
      "0 0.8286804230969308 0.930581019587153 0.8289473684210527 0.9294636296840558 0.821917808219178 0.9022801302931596 0.821917808219178 0.9389830508474576 0.821917808219178 0.9202657807308969 RandomForestClassifier {'max_depth': None, 'min_samples_split': 10, 'min_samples_leaf': 1, 'min_impurity_decrease': 0, 'n_estimators': 10}\n",
      "Regression:  False\n",
      "sv\n",
      "{'C': 1000, 'kernel': 'rbf', 'gamma': 0.05}\n",
      "time:  1.614389\n",
      "0 0.8545170799375759 0.9911714920090572 0.8552631578947368 0.9904481998530492 0.8591549295774648 0.9816360601001669 0.8356164383561644 0.9966101694915255 0.8472222222222222 0.9890664423885619 SVC {'C': 1000, 'kernel': 'rbf', 'gamma': 0.05}\n",
      "Regression:  False\n",
      "sv\n",
      "{'C': 10, 'kernel': 'rbf', 'gamma': 'scale'}\n",
      "time:  1.189908\n",
      "0 0.8545170799375759 0.9845907801886171 0.8552631578947368 0.9845701689933872 0.8591549295774648 0.9797639123102867 0.8356164383561644 0.9847457627118644 0.8472222222222222 0.9822485207100592 SVC {'C': 10, 'kernel': 'rbf', 'gamma': 'scale'}\n",
      "Regression:  False\n",
      "sv\n",
      "{'C': 100, 'kernel': 'rbf', 'gamma': 0.05}\n",
      "time:  1.621416\n",
      "0 0.8545170799375759 0.9911714920090572 0.8552631578947368 0.9904481998530492 0.8591549295774648 0.9816360601001669 0.8356164383561644 0.9966101694915255 0.8472222222222222 0.9890664423885619 SVC {'C': 100, 'kernel': 'rbf', 'gamma': 0.05}\n",
      "Regression:  False\n",
      "sv\n",
      "{'C': 10, 'kernel': 'rbf', 'gamma': 0.05}\n",
      "time:  1.536252\n",
      "0 0.8545170799375759 0.9905229835784477 0.8552631578947368 0.9897134459955915 0.8591549295774648 0.98 0.8356164383561644 0.9966101694915255 0.8472222222222222 0.9882352941176471 SVC {'C': 10, 'kernel': 'rbf', 'gamma': 0.05}\n",
      "Regression:  False\n",
      "xg\n",
      "{'max_depth': 7, 'eta': 0.1, 'gamma': 0}\n",
      "time:  0.98244\n",
      "0 0.8555574822264608 0.9453417309679264 0.8552631578947368 0.9441587068332109 0.84 0.9199346405228758 0.863013698630137 0.9542372881355933 0.8513513513513513 0.9367720465890184 XGBClassifier {'max_depth': 7, 'eta': 0.1, 'gamma': 0}\n",
      "Regression:  False\n",
      "xg\n",
      "{'max_depth': 5, 'eta': 0.1, 'gamma': 0}\n",
      "time:  0.971403\n",
      "0 0.8550372810820183 0.9150245114203432 0.8552631578947368 0.9147685525349009 0.8493150684931506 0.8898026315789473 0.8493150684931506 0.9169491525423729 0.8493150684931505 0.9031719532554258 XGBClassifier {'max_depth': 5, 'eta': 0.1, 'gamma': 0}\n",
      "Regression:  False\n",
      "xg\n",
      "{'max_depth': 5, 'eta': 0.1, 'gamma': 0.01}\n",
      "time:  0.957599\n",
      "0 0.8550372810820183 0.9182153927323089 0.8552631578947368 0.9177075679647319 0.8493150684931506 0.8918032786885246 0.8493150684931506 0.9220338983050848 0.8493150684931505 0.9066666666666666 XGBClassifier {'max_depth': 5, 'eta': 0.1, 'gamma': 0.01}\n",
      "Regression:  False\n",
      "xg\n",
      "{'max_depth': 7, 'eta': 0.2, 'gamma': 0.1}\n",
      "time:  1.008168\n",
      "0 0.8545170799375759 0.9646420013629668 0.8552631578947368 0.9639970609845702 0.8591549295774648 0.9485903814262023 0.8356164383561644 0.9694915254237289 0.8472222222222222 0.9589270746018442 XGBClassifier {'max_depth': 7, 'eta': 0.2, 'gamma': 0.1}\n",
      "Regression:  False\n",
      "xg\n",
      "{'max_depth': None, 'eta': 0.1, 'gamma': 0.01}\n",
      "time:  1.000768\n",
      "0 0.8545170799375759 0.9329244432719999 0.8552631578947368 0.9316678912564291 0.8591549295774648 0.9040650406504065 0.8356164383561644 0.9423728813559322 0.8472222222222222 0.9228215767634854 XGBClassifier {'max_depth': None, 'eta': 0.1, 'gamma': 0.01}\n",
      "Regression:  False\n",
      "xg\n",
      "{'max_depth': 7, 'eta': 0.2, 'gamma': 0}\n",
      "time:  1.000232\n",
      "0 0.8545170799375759 0.9654894589900854 0.8552631578947368 0.964731814842028 0.8591549295774648 0.9486754966887417 0.8356164383561644 0.9711864406779661 0.8472222222222222 0.9597989949748744 XGBClassifier {'max_depth': 7, 'eta': 0.2, 'gamma': 0}\n"
     ]
    },
    {
     "name": "stderr",
     "output_type": "stream",
     "text": [
      "\n",
      "A value is trying to be set on a copy of a slice from a DataFrame\n",
      "\n",
      "See the caveats in the documentation: https://pandas.pydata.org/pandas-docs/stable/user_guide/indexing.html#returning-a-view-versus-a-copy\n",
      "overflow encountered in reduce                    \n",
      "100%|██████████| 1513/1513 [04:20<00:00,  5.80it/s]\n"
     ]
    },
    {
     "name": "stdout",
     "output_type": "stream",
     "text": [
      "Regression:  False\n",
      "lr\n",
      "{'C': 10, 'penalty': 'l2', 'solver': 'liblinear'}\n",
      "time:  0.531077\n",
      "0 0.8608461938616265 0.9003671217217349 0.8618421052631579 0.9015429831006613 0.8714285714285714 0.8825503355704698 0.8356164383561644 0.8915254237288136 0.8531468531468531 0.8870151770657673 LogisticRegression {'C': 10, 'penalty': 'l2', 'solver': 'liblinear'}\n",
      "Regression:  False\n",
      "nn\n",
      "{'hidden_layer_sizes': (100,), 'activation': 'relu', 'alpha': 0.01, 'max_iter': 200, 'solver': 'adam'}\n"
     ]
    },
    {
     "name": "stderr",
     "output_type": "stream",
     "text": [
      "Stochastic Optimizer: Maximum iterations (200) reached and the optimization hasn't converged yet.\n"
     ]
    },
    {
     "name": "stdout",
     "output_type": "stream",
     "text": [
      "time:  5.793963\n",
      "0 0.8571180856597884 0.8780441425399548 0.8552631578947368 0.8670095518001469 0.8148148148148148 0.7820689655172414 0.9041095890410958 0.9610169491525423 0.8571428571428571 0.8623574144486692 MLPClassifier {'hidden_layer_sizes': (100,), 'activation': 'relu', 'alpha': 0.01, 'max_iter': 200, 'solver': 'adam'}\n",
      "Regression:  False\n",
      "nn\n",
      "{'hidden_layer_sizes': (50,), 'activation': 'tanh', 'alpha': 0.0001, 'max_iter': 500, 'solver': 'adam'}\n",
      "time:  1.762723\n",
      "0 0.8228715103173228 0.8507265492756492 0.8223684210526315 0.8434974283614989 0.8026315789473685 0.7727930535455861 0.8356164383561644 0.9050847457627119 0.8187919463087249 0.8337236533957846 MLPClassifier {'hidden_layer_sizes': (50,), 'activation': 'tanh', 'alpha': 0.0001, 'max_iter': 500, 'solver': 'adam'}\n",
      "Regression:  False\n",
      "nn\n",
      "{'hidden_layer_sizes': (50, 50), 'activation': 'relu', 'alpha': 0.01, 'max_iter': 200, 'solver': 'lbfgs'}\n"
     ]
    },
    {
     "name": "stderr",
     "output_type": "stream",
     "text": [
      "lbfgs failed to converge (status=1):\n",
      "STOP: TOTAL NO. of ITERATIONS REACHED LIMIT.\n",
      "\n",
      "Increase the number of iterations (max_iter) or scale the data as shown in:\n",
      "    https://scikit-learn.org/stable/modules/preprocessing.html\n"
     ]
    },
    {
     "name": "stdout",
     "output_type": "stream",
     "text": [
      "time:  3.580691\n",
      "0 0.834489335876539 0.8828134274220141 0.8355263157894737 0.8839088905216752 0.8428571428571429 0.86 0.8082191780821918 0.8745762711864407 0.8251748251748252 0.8672268907563025 MLPClassifier {'hidden_layer_sizes': (50, 50), 'activation': 'relu', 'alpha': 0.01, 'max_iter': 200, 'solver': 'lbfgs'}\n",
      "Regression:  False\n",
      "nn\n",
      "{'hidden_layer_sizes': (100,), 'activation': 'tanh', 'alpha': 0.001, 'max_iter': 500, 'solver': 'adam'}\n",
      "time:  11.389452\n",
      "0 0.8439396566672447 0.8918540746114446 0.8421052631578947 0.8795003673769287 0.8024691358024691 0.7894021739130435 0.8904109589041096 0.9847457627118644 0.8441558441558442 0.8763197586726998 MLPClassifier {'hidden_layer_sizes': (100,), 'activation': 'tanh', 'alpha': 0.001, 'max_iter': 500, 'solver': 'adam'}\n",
      "Regression:  False\n",
      "nn\n",
      "{'hidden_layer_sizes': (50, 50), 'activation': 'relu', 'alpha': 0.001, 'max_iter': 200, 'solver': 'adam'}\n",
      "time:  4.297754\n",
      "0 0.8123807872377319 0.8862703071072128 0.8157894736842105 0.893460690668626 0.8688524590163934 0.9143389199255121 0.726027397260274 0.8322033898305085 0.7910447761194029 0.8713398402839396 MLPClassifier {'hidden_layer_sizes': (50, 50), 'activation': 'relu', 'alpha': 0.001, 'max_iter': 200, 'solver': 'adam'}\n",
      "Regression:  False\n",
      "nn\n",
      "{'hidden_layer_sizes': (100,), 'activation': 'relu', 'alpha': 0.001, 'max_iter': 200, 'solver': 'adam'}\n"
     ]
    },
    {
     "name": "stderr",
     "output_type": "stream",
     "text": [
      "Stochastic Optimizer: Maximum iterations (200) reached and the optimization hasn't converged yet.\n"
     ]
    },
    {
     "name": "stdout",
     "output_type": "stream",
     "text": [
      "time:  7.537465\n",
      "0 0.8507889717357379 0.8757523796961902 0.8486842105263158 0.8655400440852314 0.8048780487804879 0.7838214783821479 0.9041095890410958 0.9525423728813559 0.8516129032258065 0.8599846977811784 MLPClassifier {'hidden_layer_sizes': (100,), 'activation': 'relu', 'alpha': 0.001, 'max_iter': 200, 'solver': 'adam'}\n",
      "Regression:  False\n",
      "nn\n",
      "{'hidden_layer_sizes': (50, 50), 'activation': 'relu', 'alpha': 0.01, 'max_iter': 500, 'solver': 'adam'}\n",
      "time:  5.171976\n",
      "0 0.8481879660135252 0.9088856646661829 0.8486842105263158 0.9066862601028656 0.8472222222222222 0.8680445151033387 0.8356164383561644 0.9254237288135593 0.8413793103448277 0.8958162428219852 MLPClassifier {'hidden_layer_sizes': (50, 50), 'activation': 'relu', 'alpha': 0.01, 'max_iter': 500, 'solver': 'adam'}\n",
      "Regression:  False\n",
      "nn\n",
      "{'hidden_layer_sizes': (50, 50), 'activation': 'relu', 'alpha': 0.0001, 'max_iter': 1000, 'solver': 'adam'}\n",
      "time:  1.718318\n",
      "0 0.7928732443211375 0.8478170546725582 0.7960526315789473 0.8530492285084497 0.8387096774193549 0.8457446808510638 0.7123287671232876 0.8084745762711865 0.7703703703703705 0.8266897746967071 MLPClassifier {'hidden_layer_sizes': (50, 50), 'activation': 'relu', 'alpha': 0.0001, 'max_iter': 1000, 'solver': 'adam'}\n",
      "Regression:  False\n",
      "nn\n",
      "{'hidden_layer_sizes': (50,), 'activation': 'logistic', 'alpha': 0.0001, 'max_iter': 200, 'solver': 'adam'}\n",
      "time:  4.171943\n",
      "0 0.8271198196636034 0.8413759370397239 0.8289473684210527 0.8434974283614989 0.8507462686567164 0.8157453936348409 0.7808219178082192 0.8254237288135593 0.8142857142857143 0.8205560235888795 MLPClassifier {'hidden_layer_sizes': (50,), 'activation': 'logistic', 'alpha': 0.0001, 'max_iter': 200, 'solver': 'adam'}\n",
      "Regression:  False\n",
      "nn\n",
      "{'hidden_layer_sizes': (50, 50), 'activation': 'tanh', 'alpha': 0.001, 'max_iter': 500, 'solver': 'adam'}\n",
      "time:  1.80213\n",
      "0 0.7844633258193168 0.823594715205874 0.7894736842105263 0.8339456282145481 0.8727272727272727 0.8527131782945736 0.6575342465753424 0.7457627118644068 0.7500000000000001 0.7956600361663653 MLPClassifier {'hidden_layer_sizes': (50, 50), 'activation': 'tanh', 'alpha': 0.001, 'max_iter': 500, 'solver': 'adam'}\n",
      "Regression:  False\n",
      "rf\n",
      "{'max_depth': 10, 'min_samples_split': 2, 'min_samples_leaf': 1, 'min_impurity_decrease': 0, 'n_estimators': 100}\n",
      "time:  2.799324\n",
      "0 0.860325992717184 0.9791004418650664 0.8618421052631579 0.9772226304188097 0.8823529411764706 0.9559543230016313 0.821917808219178 0.9932203389830508 0.8510638297872339 0.9742310889443059 RandomForestClassifier {'max_depth': 10, 'min_samples_split': 2, 'min_samples_leaf': 1, 'min_impurity_decrease': 0, 'n_estimators': 100}\n",
      "Regression:  False\n",
      "rf\n",
      "{'max_depth': 10, 'min_samples_split': 10, 'min_samples_leaf': 2, 'min_impurity_decrease': 0, 'n_estimators': 10}\n",
      "time:  0.335339\n",
      "0 0.747529044563898 0.9390116291850777 0.75 0.9390154298310066 0.7692307692307693 0.9217970049916805 0.684931506849315 0.9389830508474576 0.7246376811594203 0.9303106633081444 RandomForestClassifier {'max_depth': 10, 'min_samples_split': 10, 'min_samples_leaf': 2, 'min_impurity_decrease': 0, 'n_estimators': 10}\n",
      "Regression:  False\n",
      "sv\n",
      "{'C': 0.01, 'kernel': 'poly', 'gamma': 0.05}\n",
      "time:  0.352189\n",
      "0 0.8808739379226634 0.8734320385148058 0.881578947368421 0.8721528288023512 0.8873239436619719 0.8322683706070287 0.863013698630137 0.8830508474576271 0.875 0.8569078947368421 SVC {'C': 0.01, 'kernel': 'poly', 'gamma': 0.05}\n",
      "Regression:  False\n",
      "sv\n",
      "{'C': 1, 'kernel': 'rbf', 'gamma': 0.05}\n",
      "time:  0.815874\n",
      "0 0.8676955089301196 0.8875442414649697 0.868421052631579 0.8861131520940485 0.8732394366197183 0.848 0.8493150684931506 0.8983050847457628 0.861111111111111 0.8724279835390946 SVC {'C': 1, 'kernel': 'rbf', 'gamma': 0.05}\n",
      "Regression:  False\n",
      "sv\n",
      "{'C': 10, 'kernel': 'rbf', 'gamma': 'scale'}\n",
      "time:  0.609745\n",
      "0 0.8608461938616265 0.9070434610565192 0.8618421052631579 0.9059515062454078 0.8714285714285714 0.8737864077669902 0.8356164383561644 0.9152542372881356 0.8531468531468531 0.8940397350993378 SVC {'C': 10, 'kernel': 'rbf', 'gamma': 'scale'}\n",
      "Regression:  False\n",
      "sv\n",
      "{'C': 1, 'kernel': 'linear', 'gamma': 0.1}\n",
      "time:  0.487147\n",
      "0 0.8545170799375759 0.8718921057838158 0.8552631578947368 0.8728875826598089 0.8591549295774648 0.845771144278607 0.8356164383561644 0.864406779661017 0.8472222222222222 0.8549874266554903 SVC {'C': 1, 'kernel': 'linear', 'gamma': 0.1}\n",
      "Regression:  False\n",
      "sv\n",
      "{'C': 1, 'kernel': 'linear', 'gamma': 'scale'}\n",
      "time:  0.362132\n",
      "0 0.8545170799375759 0.8718921057838158 0.8552631578947368 0.8728875826598089 0.8591549295774648 0.845771144278607 0.8356164383561644 0.864406779661017 0.8472222222222222 0.8549874266554903 SVC {'C': 1, 'kernel': 'linear', 'gamma': 'scale'}\n",
      "Regression:  False\n",
      "sv\n",
      "{'C': 1, 'kernel': 'linear', 'gamma': 0.05}\n",
      "time:  0.483555\n",
      "0 0.8545170799375759 0.8718921057838158 0.8552631578947368 0.8728875826598089 0.8591549295774648 0.845771144278607 0.8356164383561644 0.864406779661017 0.8472222222222222 0.8549874266554903 SVC {'C': 1, 'kernel': 'linear', 'gamma': 0.05}\n"
     ]
    },
    {
     "name": "stderr",
     "output_type": "stream",
     "text": [
      "\n",
      "A value is trying to be set on a copy of a slice from a DataFrame\n",
      "\n",
      "See the caveats in the documentation: https://pandas.pydata.org/pandas-docs/stable/user_guide/indexing.html#returning-a-view-versus-a-copy\n",
      "overflow encountered in reduce                    \n",
      "100%|██████████| 1513/1513 [04:12<00:00,  5.99it/s]\n"
     ]
    },
    {
     "name": "stdout",
     "output_type": "stream",
     "text": [
      "Regression:  False\n",
      "gb\n",
      "{'max_depth': 5, 'loss': 'exponential', 'n_estimators': 10, 'learning_rate': 0.5, 'min_impurity_decrease': 0.1}\n",
      "time:  8.288923\n",
      "0 0.7802150164730361 0.9520774253116138 0.7828947368421053 0.9522409992652462 0.8125 0.9396984924623115 0.7123287671232876 0.9508474576271186 0.7591240875912408 0.945240101095198 GradientBoostingClassifier {'max_depth': 5, 'loss': 'exponential', 'n_estimators': 10, 'learning_rate': 0.5, 'min_impurity_decrease': 0.1}\n",
      "Regression:  False\n",
      "lr\n",
      "{'C': 1, 'penalty': 'l1', 'solver': 'liblinear'}\n",
      "time:  0.239238\n",
      "0 0.8271198196636034 0.8433214623315528 0.8289473684210527 0.8457016899338722 0.8507462686567164 0.8198653198653199 0.7808219178082192 0.8254237288135593 0.8142857142857143 0.8226351351351351 LogisticRegression {'C': 1, 'penalty': 'l1', 'solver': 'liblinear'}\n",
      "Regression:  False\n",
      "lr\n",
      "{'C': 1, 'penalty': 'l2', 'solver': 'liblinear'}\n",
      "time:  0.273173\n",
      "0 0.8276400208080458 0.8629163094374463 0.8289473684210527 0.864070536370316 0.8405797101449275 0.835820895522388 0.7945205479452054 0.8542372881355932 0.8169014084507042 0.8449287510477785 LogisticRegression {'C': 1, 'penalty': 'l2', 'solver': 'liblinear'}\n",
      "Regression:  False\n",
      "lr\n",
      "{'C': 100, 'penalty': 'l1', 'solver': 'saga'}\n"
     ]
    },
    {
     "name": "stderr",
     "output_type": "stream",
     "text": [
      "The max_iter was reached which means the coef_ did not converge\n"
     ]
    },
    {
     "name": "stdout",
     "output_type": "stream",
     "text": [
      "time:  1.485052\n",
      "0 0.8134211895266169 0.8530413946228759 0.8157894736842105 0.8537839823659075 0.8461538461538461 0.8210180623973727 0.7534246575342466 0.847457627118644 0.7971014492753623 0.8340283569641369 LogisticRegression {'C': 100, 'penalty': 'l1', 'solver': 'saga'}\n",
      "Regression:  False\n",
      "lr\n",
      "{'C': 10, 'penalty': 'l2', 'solver': 'saga'}\n"
     ]
    },
    {
     "name": "stderr",
     "output_type": "stream",
     "text": [
      "The max_iter was reached which means the coef_ did not converge\n"
     ]
    },
    {
     "name": "stdout",
     "output_type": "stream",
     "text": [
      "time:  0.969125\n",
      "0 0.8134211895266169 0.8530413946228759 0.8157894736842105 0.8537839823659075 0.8461538461538461 0.8210180623973727 0.7534246575342466 0.847457627118644 0.7971014492753623 0.8340283569641369 LogisticRegression {'C': 10, 'penalty': 'l2', 'solver': 'saga'}\n",
      "Regression:  False\n",
      "lr\n",
      "{'C': 100, 'penalty': 'l2', 'solver': 'saga'}\n"
     ]
    },
    {
     "name": "stderr",
     "output_type": "stream",
     "text": [
      "The max_iter was reached which means the coef_ did not converge\n"
     ]
    },
    {
     "name": "stdout",
     "output_type": "stream",
     "text": [
      "time:  0.975252\n",
      "0 0.8134211895266169 0.8530413946228759 0.8157894736842105 0.8537839823659075 0.8461538461538461 0.8210180623973727 0.7534246575342466 0.847457627118644 0.7971014492753623 0.8340283569641369 LogisticRegression {'C': 100, 'penalty': 'l2', 'solver': 'saga'}\n",
      "Regression:  False\n",
      "lr\n",
      "{'C': 10, 'penalty': 'l1', 'solver': 'saga'}\n"
     ]
    },
    {
     "name": "stderr",
     "output_type": "stream",
     "text": [
      "The max_iter was reached which means the coef_ did not converge\n"
     ]
    },
    {
     "name": "stdout",
     "output_type": "stream",
     "text": [
      "time:  1.353553\n",
      "0 0.8202705045951101 0.8530413946228759 0.8223684210526315 0.8537839823659075 0.8484848484848485 0.8210180623973727 0.7671232876712328 0.847457627118644 0.8057553956834531 0.8340283569641369 LogisticRegression {'C': 10, 'penalty': 'l1', 'solver': 'saga'}\n",
      "Regression:  False\n",
      "lr\n",
      "{'C': 0.1, 'penalty': 'l2', 'solver': 'liblinear'}\n",
      "time:  0.197025\n",
      "0 0.8260794173747181 0.8277649541647432 0.8289473684210527 0.8310066127847171 0.873015873015873 0.8061224489795918 0.7534246575342466 0.8033898305084746 0.8088235294117647 0.8047538200339558 LogisticRegression {'C': 0.1, 'penalty': 'l2', 'solver': 'liblinear'}\n",
      "Regression:  False\n",
      "lr\n",
      "{'C': 0.1, 'penalty': 'l2', 'solver': 'saga'}\n"
     ]
    },
    {
     "name": "stderr",
     "output_type": "stream",
     "text": [
      "The max_iter was reached which means the coef_ did not converge\n"
     ]
    },
    {
     "name": "stdout",
     "output_type": "stream",
     "text": [
      "time:  0.95752\n",
      "0 0.8260794173747181 0.8269174965376244 0.8289473684210527 0.8302718589272594 0.873015873015873 0.8057921635434412 0.7534246575342466 0.8016949152542373 0.8088235294117647 0.8037383177570093 LogisticRegression {'C': 0.1, 'penalty': 'l2', 'solver': 'saga'}\n",
      "Regression:  False\n",
      "nn\n",
      "{'hidden_layer_sizes': (50, 50), 'activation': 'relu', 'alpha': 0.01, 'max_iter': 500, 'solver': 'sgd'}\n"
     ]
    },
    {
     "name": "stderr",
     "output_type": "stream",
     "text": [
      "Stochastic Optimizer: Maximum iterations (500) reached and the optimization hasn't converged yet.\n"
     ]
    },
    {
     "name": "stdout",
     "output_type": "stream",
     "text": [
      "time:  13.466194\n",
      "0 0.8339691347320964 0.8599760381630723 0.8355263157894737 0.8618662747979426 0.8529411764705882 0.837248322147651 0.7945205479452054 0.8457627118644068 0.8226950354609929 0.8414839797639124 MLPClassifier {'hidden_layer_sizes': (50, 50), 'activation': 'relu', 'alpha': 0.01, 'max_iter': 500, 'solver': 'sgd'}\n",
      "Regression:  False\n",
      "nn\n",
      "{'hidden_layer_sizes': (100,), 'activation': 'tanh', 'alpha': 0.001, 'max_iter': 1000, 'solver': 'sgd'}\n",
      "time:  24.286587\n",
      "0 0.8334489335876539 0.84765437798149 0.8355263157894737 0.8479059515062454 0.8636363636363636 0.8113821138211382 0.7808219178082192 0.8457627118644068 0.8201438848920863 0.8282157676348547 MLPClassifier {'hidden_layer_sizes': (100,), 'activation': 'tanh', 'alpha': 0.001, 'max_iter': 1000, 'solver': 'sgd'}\n",
      "Regression:  False\n",
      "nn\n",
      "{'hidden_layer_sizes': (100,), 'activation': 'relu', 'alpha': 0.0001, 'max_iter': 1000, 'solver': 'sgd'}\n",
      "time:  22.976752\n",
      "0 0.8265996185191608 0.8526434962298578 0.8289473684210527 0.8537839823659075 0.8615384615384616 0.8231404958677686 0.7671232876712328 0.8440677966101695 0.8115942028985507 0.8334728033472804 MLPClassifier {'hidden_layer_sizes': (100,), 'activation': 'relu', 'alpha': 0.0001, 'max_iter': 1000, 'solver': 'sgd'}\n",
      "Regression:  False\n",
      "nn\n",
      "{'hidden_layer_sizes': (100,), 'activation': 'tanh', 'alpha': 0.0001, 'max_iter': 200, 'solver': 'adam'}\n"
     ]
    },
    {
     "name": "stderr",
     "output_type": "stream",
     "text": [
      "Stochastic Optimizer: Maximum iterations (200) reached and the optimization hasn't converged yet.\n"
     ]
    },
    {
     "name": "stdout",
     "output_type": "stream",
     "text": [
      "time:  7.990455\n",
      "0 0.8565978845153459 0.8810877354964937 0.8552631578947368 0.8706833210874357 0.8227848101265823 0.7883008356545961 0.8904109589041096 0.9593220338983051 0.855263157894737 0.8654434250764527 MLPClassifier {'hidden_layer_sizes': (100,), 'activation': 'tanh', 'alpha': 0.0001, 'max_iter': 200, 'solver': 'adam'}\n",
      "Regression:  False\n",
      "nn\n",
      "{'hidden_layer_sizes': (50, 50), 'activation': 'relu', 'alpha': 0.001, 'max_iter': 500, 'solver': 'sgd'}\n"
     ]
    },
    {
     "name": "stderr",
     "output_type": "stream",
     "text": [
      "Stochastic Optimizer: Maximum iterations (500) reached and the optimization hasn't converged yet.\n"
     ]
    },
    {
     "name": "stdout",
     "output_type": "stream",
     "text": [
      "time:  13.750685\n",
      "0 0.8339691347320964 0.8599760381630723 0.8355263157894737 0.8618662747979426 0.8529411764705882 0.837248322147651 0.7945205479452054 0.8457627118644068 0.8226950354609929 0.8414839797639124 MLPClassifier {'hidden_layer_sizes': (50, 50), 'activation': 'relu', 'alpha': 0.001, 'max_iter': 500, 'solver': 'sgd'}\n",
      "Regression:  False\n",
      "nn\n",
      "{'hidden_layer_sizes': (100,), 'activation': 'tanh', 'alpha': 0.0001, 'max_iter': 1000, 'solver': 'sgd'}\n",
      "time:  24.341381\n",
      "0 0.8334489335876539 0.84765437798149 0.8355263157894737 0.8479059515062454 0.8636363636363636 0.8113821138211382 0.7808219178082192 0.8457627118644068 0.8201438848920863 0.8282157676348547 MLPClassifier {'hidden_layer_sizes': (100,), 'activation': 'tanh', 'alpha': 0.0001, 'max_iter': 1000, 'solver': 'sgd'}\n",
      "Regression:  False\n",
      "nn\n",
      "{'hidden_layer_sizes': (100,), 'activation': 'tanh', 'alpha': 0.001, 'max_iter': 500, 'solver': 'sgd'}\n"
     ]
    },
    {
     "name": "stderr",
     "output_type": "stream",
     "text": [
      "Stochastic Optimizer: Maximum iterations (500) reached and the optimization hasn't converged yet.\n"
     ]
    },
    {
     "name": "stdout",
     "output_type": "stream",
     "text": [
      "time:  15.660784\n",
      "0 0.8466273625801977 0.8315526830662359 0.8486842105263158 0.8339456282145481 0.8787878787878788 0.8053691275167785 0.7945205479452054 0.8135593220338984 0.8345323741007193 0.8094435075885328 MLPClassifier {'hidden_layer_sizes': (100,), 'activation': 'tanh', 'alpha': 0.001, 'max_iter': 500, 'solver': 'sgd'}\n",
      "Regression:  False\n",
      "nn\n",
      "{'hidden_layer_sizes': (50,), 'activation': 'tanh', 'alpha': 0.001, 'max_iter': 500, 'solver': 'sgd'}\n"
     ]
    },
    {
     "name": "stderr",
     "output_type": "stream",
     "text": [
      "Stochastic Optimizer: Maximum iterations (500) reached and the optimization hasn't converged yet.\n"
     ]
    },
    {
     "name": "stdout",
     "output_type": "stream",
     "text": [
      "time:  10.838371\n",
      "0 0.8276400208080458 0.8399755984963398 0.8289473684210527 0.8405584129316679 0.8405797101449275 0.8042414355628059 0.7945205479452054 0.8355932203389831 0.8169014084507042 0.8196176226101414 MLPClassifier {'hidden_layer_sizes': (50,), 'activation': 'tanh', 'alpha': 0.001, 'max_iter': 500, 'solver': 'sgd'}\n",
      "Regression:  False\n",
      "nn\n",
      "{'hidden_layer_sizes': (50,), 'activation': 'tanh', 'alpha': 0.0001, 'max_iter': 200, 'solver': 'sgd'}\n"
     ]
    },
    {
     "name": "stderr",
     "output_type": "stream",
     "text": [
      "Stochastic Optimizer: Maximum iterations (200) reached and the optimization hasn't converged yet.\n"
     ]
    },
    {
     "name": "stdout",
     "output_type": "stream",
     "text": [
      "time:  4.566049\n",
      "0 0.7939136466100224 0.8029380729407108 0.7960526315789473 0.8089639970609845 0.8181818181818182 0.7925531914893617 0.7397260273972602 0.7576271186440678 0.776978417266187 0.7746967071057193 MLPClassifier {'hidden_layer_sizes': (50,), 'activation': 'tanh', 'alpha': 0.0001, 'max_iter': 200, 'solver': 'sgd'}\n",
      "Regression:  False\n",
      "nn\n",
      "{'hidden_layer_sizes': (50,), 'activation': 'logistic', 'alpha': 0.01, 'max_iter': 1000, 'solver': 'adam'}\n",
      "time:  4.086265\n",
      "0 0.8207907057395527 0.8411253270021324 0.8223684210526315 0.8427626745040412 0.8382352941176471 0.8122923588039868 0.7808219178082192 0.8288135593220339 0.8085106382978724 0.8204697986577182 MLPClassifier {'hidden_layer_sizes': (50,), 'activation': 'logistic', 'alpha': 0.01, 'max_iter': 1000, 'solver': 'adam'}\n",
      "Regression:  False\n",
      "nn\n",
      "{'hidden_layer_sizes': (50, 50), 'activation': 'relu', 'alpha': 0.01, 'max_iter': 500, 'solver': 'adam'}\n",
      "time:  5.155841\n",
      "0 0.8481879660135252 0.9088856646661829 0.8486842105263158 0.9066862601028656 0.8472222222222222 0.8680445151033387 0.8356164383561644 0.9254237288135593 0.8413793103448277 0.8958162428219852 MLPClassifier {'hidden_layer_sizes': (50, 50), 'activation': 'relu', 'alpha': 0.01, 'max_iter': 500, 'solver': 'adam'}\n",
      "Regression:  False\n",
      "nn\n",
      "{'hidden_layer_sizes': (50, 50), 'activation': 'relu', 'alpha': 0.001, 'max_iter': 1000, 'solver': 'sgd'}\n",
      "time:  15.319729\n",
      "0 0.8202705045951101 0.8615753259029655 0.8223684210526315 0.8648052902277737 0.8484848484848485 0.8487972508591065 0.7671232876712328 0.8372881355932204 0.8057553956834531 0.8430034129692833 MLPClassifier {'hidden_layer_sizes': (50, 50), 'activation': 'relu', 'alpha': 0.001, 'max_iter': 1000, 'solver': 'sgd'}\n",
      "Regression:  False\n",
      "nn\n",
      "{'hidden_layer_sizes': (50,), 'activation': 'relu', 'alpha': 0.01, 'max_iter': 1000, 'solver': 'sgd'}\n",
      "time:  12.709029\n",
      "0 0.8334489335876539 0.8553331574666402 0.8355263157894737 0.855253490080823 0.8636363636363636 0.8184764991896273 0.7808219178082192 0.8559322033898306 0.8201438848920863 0.8367854183927093 MLPClassifier {'hidden_layer_sizes': (50,), 'activation': 'relu', 'alpha': 0.01, 'max_iter': 1000, 'solver': 'sgd'}\n",
      "Regression:  False\n",
      "nn\n",
      "{'hidden_layer_sizes': (100,), 'activation': 'logistic', 'alpha': 0.01, 'max_iter': 500, 'solver': 'adam'}\n",
      "time:  6.210736\n",
      "0 0.8129009883821745 0.8443755633230012 0.8157894736842105 0.8493754592211609 0.8571428571428571 0.8395061728395061 0.7397260273972602 0.8067796610169492 0.7941176470588235 0.8228176318063959 MLPClassifier {'hidden_layer_sizes': (100,), 'activation': 'logistic', 'alpha': 0.01, 'max_iter': 500, 'solver': 'adam'}\n",
      "Regression:  False\n",
      "nn\n",
      "{'hidden_layer_sizes': (50,), 'activation': 'tanh', 'alpha': 0.0001, 'max_iter': 1000, 'solver': 'sgd'}\n",
      "time:  13.054447\n",
      "0 0.8207907057395527 0.8461067510826793 0.8223684210526315 0.8457016899338722 0.8382352941176471 0.8054662379421221 0.7808219178082192 0.8491525423728814 0.8085106382978724 0.8267326732673268 MLPClassifier {'hidden_layer_sizes': (50,), 'activation': 'tanh', 'alpha': 0.0001, 'max_iter': 1000, 'solver': 'sgd'}\n",
      "Regression:  False\n",
      "nn\n",
      "{'hidden_layer_sizes': (100,), 'activation': 'relu', 'alpha': 0.01, 'max_iter': 1000, 'solver': 'sgd'}\n",
      "time:  22.995489\n",
      "0 0.8265996185191608 0.853439293015894 0.8289473684210527 0.8537839823659075 0.8615384615384616 0.8189233278955954 0.7671232876712328 0.8508474576271187 0.8115942028985507 0.8345802161263508 MLPClassifier {'hidden_layer_sizes': (100,), 'activation': 'relu', 'alpha': 0.01, 'max_iter': 1000, 'solver': 'sgd'}\n",
      "Regression:  False\n",
      "nn\n",
      "{'hidden_layer_sizes': (100,), 'activation': 'tanh', 'alpha': 0.01, 'max_iter': 1000, 'solver': 'adam'}\n",
      "time:  11.011568\n",
      "0 0.7707646956823304 0.8875233572951703 0.7763157894736842 0.8971344599559148 0.8679245283018868 0.939453125 0.6301369863013698 0.8152542372881356 0.73015873015873 0.8729582577132485 MLPClassifier {'hidden_layer_sizes': (100,), 'activation': 'tanh', 'alpha': 0.01, 'max_iter': 1000, 'solver': 'adam'}\n",
      "Regression:  False\n",
      "nn\n",
      "{'hidden_layer_sizes': (50,), 'activation': 'relu', 'alpha': 0.01, 'max_iter': 200, 'solver': 'adam'}\n",
      "time:  2.688485\n",
      "0 0.8192301023062251 0.8509046143023589 0.8223684210526315 0.8545187362233652 0.8709677419354839 0.8379310344827586 0.7397260273972602 0.823728813559322 0.8 0.8307692307692308 MLPClassifier {'hidden_layer_sizes': (50,), 'activation': 'relu', 'alpha': 0.01, 'max_iter': 200, 'solver': 'adam'}\n",
      "Regression:  False\n",
      "nn\n",
      "{'hidden_layer_sizes': (50, 50), 'activation': 'relu', 'alpha': 0.01, 'max_iter': 200, 'solver': 'sgd'}\n"
     ]
    },
    {
     "name": "stderr",
     "output_type": "stream",
     "text": [
      "Stochastic Optimizer: Maximum iterations (200) reached and the optimization hasn't converged yet.\n"
     ]
    },
    {
     "name": "stdout",
     "output_type": "stream",
     "text": [
      "time:  5.414521\n",
      "0 0.8070920756025664 0.8236749543845765 0.8092105263157895 0.8265980896399706 0.8333333333333334 0.7989864864864865 0.7534246575342466 0.8016949152542373 0.7913669064748201 0.8003384094754653 MLPClassifier {'hidden_layer_sizes': (50, 50), 'activation': 'relu', 'alpha': 0.01, 'max_iter': 200, 'solver': 'sgd'}\n",
      "Regression:  False\n",
      "nn\n",
      "{'hidden_layer_sizes': (50,), 'activation': 'relu', 'alpha': 0.0001, 'max_iter': 1000, 'solver': 'sgd'}\n",
      "time:  13.051559\n",
      "0 0.8339691347320964 0.8546846490360307 0.8355263157894737 0.8545187362233652 0.8529411764705882 0.8171521035598706 0.7945205479452054 0.8559322033898306 0.8226950354609929 0.8360927152317882 MLPClassifier {'hidden_layer_sizes': (50,), 'activation': 'relu', 'alpha': 0.0001, 'max_iter': 1000, 'solver': 'sgd'}\n",
      "Regression:  False\n",
      "nn\n",
      "{'hidden_layer_sizes': (100,), 'activation': 'relu', 'alpha': 0.01, 'max_iter': 1000, 'solver': 'adam'}\n",
      "time:  8.795308\n",
      "0 0.8502687705912952 0.8845369210138715 0.8486842105263158 0.8772961058045555 0.8125 0.8087591240875912 0.8904109589041096 0.9389830508474576 0.8496732026143791 0.8690196078431373 MLPClassifier {'hidden_layer_sizes': (100,), 'activation': 'relu', 'alpha': 0.01, 'max_iter': 1000, 'solver': 'adam'}\n",
      "Regression:  False\n",
      "nn\n",
      "{'hidden_layer_sizes': (50,), 'activation': 'relu', 'alpha': 0.01, 'max_iter': 500, 'solver': 'sgd'}\n"
     ]
    },
    {
     "name": "stderr",
     "output_type": "stream",
     "text": [
      "Stochastic Optimizer: Maximum iterations (500) reached and the optimization hasn't converged yet.\n"
     ]
    },
    {
     "name": "stdout",
     "output_type": "stream",
     "text": [
      "time:  10.507422\n",
      "0 0.8334489335876539 0.8453626151377255 0.8355263157894737 0.8464364437913299 0.8636363636363636 0.8138385502471169 0.7808219178082192 0.8372881355932204 0.8201438848920863 0.8253968253968254 MLPClassifier {'hidden_layer_sizes': (50,), 'activation': 'relu', 'alpha': 0.01, 'max_iter': 500, 'solver': 'sgd'}\n",
      "Regression:  False\n",
      "nn\n",
      "{'hidden_layer_sizes': (100,), 'activation': 'relu', 'alpha': 0.0001, 'max_iter': 1000, 'solver': 'adam'}\n",
      "time:  8.735682\n",
      "0 0.8571180856597884 0.8809481413088879 0.8552631578947368 0.8743570903747244 0.8148148148148148 0.8085419734904271 0.9041095890410958 0.9305084745762712 0.8571428571428571 0.8652482269503546 MLPClassifier {'hidden_layer_sizes': (100,), 'activation': 'relu', 'alpha': 0.0001, 'max_iter': 1000, 'solver': 'adam'}\n",
      "Regression:  False\n",
      "nn\n",
      "{'hidden_layer_sizes': (100,), 'activation': 'relu', 'alpha': 0.01, 'max_iter': 200, 'solver': 'adam'}\n"
     ]
    },
    {
     "name": "stderr",
     "output_type": "stream",
     "text": [
      "Stochastic Optimizer: Maximum iterations (200) reached and the optimization hasn't converged yet.\n"
     ]
    },
    {
     "name": "stdout",
     "output_type": "stream",
     "text": [
      "time:  7.394984\n",
      "0 0.8571180856597884 0.8780441425399548 0.8552631578947368 0.8670095518001469 0.8148148148148148 0.7820689655172414 0.9041095890410958 0.9610169491525423 0.8571428571428571 0.8623574144486692 MLPClassifier {'hidden_layer_sizes': (100,), 'activation': 'relu', 'alpha': 0.01, 'max_iter': 200, 'solver': 'adam'}\n",
      "Regression:  False\n",
      "nn\n",
      "{'hidden_layer_sizes': (100,), 'activation': 'relu', 'alpha': 0.0001, 'max_iter': 500, 'solver': 'sgd'}\n"
     ]
    },
    {
     "name": "stderr",
     "output_type": "stream",
     "text": [
      "Stochastic Optimizer: Maximum iterations (500) reached and the optimization hasn't converged yet.\n"
     ]
    },
    {
     "name": "stdout",
     "output_type": "stream",
     "text": [
      "time:  14.939589\n",
      "0 0.8397780475117045 0.8313537338697267 0.8421052631578947 0.8339456282145481 0.8769230769230769 0.8063973063973064 0.7808219178082192 0.811864406779661 0.8260869565217391 0.8091216216216216 MLPClassifier {'hidden_layer_sizes': (100,), 'activation': 'relu', 'alpha': 0.0001, 'max_iter': 500, 'solver': 'sgd'}\n",
      "Regression:  False\n",
      "nn\n",
      "{'hidden_layer_sizes': (100,), 'activation': 'relu', 'alpha': 0.001, 'max_iter': 1000, 'solver': 'sgd'}\n",
      "time:  23.305629\n",
      "0 0.8265996185191608 0.853439293015894 0.8289473684210527 0.8537839823659075 0.8615384615384616 0.8189233278955954 0.7671232876712328 0.8508474576271187 0.8115942028985507 0.8345802161263508 MLPClassifier {'hidden_layer_sizes': (100,), 'activation': 'relu', 'alpha': 0.001, 'max_iter': 1000, 'solver': 'sgd'}\n",
      "Regression:  False\n",
      "nn\n",
      "{'hidden_layer_sizes': (100,), 'activation': 'relu', 'alpha': 0.001, 'max_iter': 500, 'solver': 'sgd'}\n"
     ]
    },
    {
     "name": "stderr",
     "output_type": "stream",
     "text": [
      "Stochastic Optimizer: Maximum iterations (500) reached and the optimization hasn't converged yet.\n"
     ]
    },
    {
     "name": "stdout",
     "output_type": "stream",
     "text": [
      "time:  14.95344\n",
      "0 0.8397780475117045 0.8313537338697267 0.8421052631578947 0.8339456282145481 0.8769230769230769 0.8063973063973064 0.7808219178082192 0.811864406779661 0.8260869565217391 0.8091216216216216 MLPClassifier {'hidden_layer_sizes': (100,), 'activation': 'relu', 'alpha': 0.001, 'max_iter': 500, 'solver': 'sgd'}\n",
      "Regression:  False\n",
      "nn\n",
      "{'hidden_layer_sizes': (50,), 'activation': 'relu', 'alpha': 0.0001, 'max_iter': 1000, 'solver': 'adam'}\n",
      "time:  6.287839\n",
      "0 0.8565978845153459 0.8840357009386883 0.8552631578947368 0.8758265980896399 0.8227848101265823 0.8028776978417266 0.8904109589041096 0.9457627118644067 0.855263157894737 0.8684824902723735 MLPClassifier {'hidden_layer_sizes': (50,), 'activation': 'relu', 'alpha': 0.0001, 'max_iter': 1000, 'solver': 'adam'}\n",
      "Regression:  False\n",
      "rf\n",
      "{'max_depth': 10, 'min_samples_split': 10, 'min_samples_leaf': 2, 'min_impurity_decrease': 0, 'n_estimators': 200}\n",
      "time:  5.159062\n",
      "0 0.8276400208080458 0.9637428828947658 0.8289473684210527 0.9625275532696547 0.8405797101449275 0.9425287356321839 0.7945205479452054 0.9728813559322034 0.8169014084507042 0.9574645537948291 RandomForestClassifier {'max_depth': 10, 'min_samples_split': 10, 'min_samples_leaf': 2, 'min_impurity_decrease': 0, 'n_estimators': 200}\n",
      "Regression:  False\n",
      "rf\n",
      "{'max_depth': 20, 'min_samples_split': 2, 'min_samples_leaf': 1, 'min_impurity_decrease': 0, 'n_estimators': 100}\n",
      "time:  3.227352\n",
      "0 0.8265996185191608 0.9909725428125481 0.8289473684210527 0.9904481998530492 0.8615384615384616 0.983249581239531 0.7671232876712328 0.9949152542372881 0.8115942028985507 0.9890480202190395 RandomForestClassifier {'max_depth': 20, 'min_samples_split': 2, 'min_samples_leaf': 1, 'min_impurity_decrease': 0, 'n_estimators': 100}\n",
      "Regression:  False\n",
      "rf\n",
      "{'max_depth': None, 'min_samples_split': 10, 'min_samples_leaf': 1, 'min_impurity_decrease': 0, 'n_estimators': 200}\n",
      "time:  6.244064\n",
      "0 0.8334489335876539 0.9826452548967882 0.8355263157894737 0.9823659074210139 0.8636363636363636 0.9748322147651006 0.7808219178082192 0.9847457627118644 0.8201438848920863 0.9797639123102867 RandomForestClassifier {'max_depth': None, 'min_samples_split': 10, 'min_samples_leaf': 1, 'min_impurity_decrease': 0, 'n_estimators': 200}\n",
      "Regression:  False\n",
      "rf\n",
      "{'max_depth': None, 'min_samples_split': 5, 'min_samples_leaf': 2, 'min_impurity_decrease': 0, 'n_estimators': 50}\n",
      "time:  1.522375\n",
      "0 0.8070920756025664 0.9858361362087537 0.8092105263157895 0.9853049228508449 0.8333333333333334 0.9765886287625418 0.7534246575342466 0.9898305084745763 0.7913669064748201 0.9831649831649831 RandomForestClassifier {'max_depth': None, 'min_samples_split': 5, 'min_samples_leaf': 2, 'min_impurity_decrease': 0, 'n_estimators': 50}\n",
      "Regression:  False\n",
      "rf\n",
      "{'max_depth': 10, 'min_samples_split': 5, 'min_samples_leaf': 1, 'min_impurity_decrease': 0, 'n_estimators': 200}\n",
      "time:  5.379948\n",
      "0 0.8339691347320964 0.9744135944953725 0.8355263157894737 0.9728141072740631 0.8529411764705882 0.9525368248772504 0.7945205479452054 0.9864406779661017 0.8226950354609929 0.9691923397169026 RandomForestClassifier {'max_depth': 10, 'min_samples_split': 5, 'min_samples_leaf': 1, 'min_impurity_decrease': 0, 'n_estimators': 200}\n",
      "Regression:  False\n",
      "rf\n",
      "{'max_depth': 10, 'min_samples_split': 5, 'min_samples_leaf': 2, 'min_impurity_decrease': 0, 'n_estimators': 200}\n",
      "time:  5.26835\n",
      "0 0.8276400208080458 0.9716206115764252 0.8289473684210527 0.9698750918442322 0.8405797101449275 0.9477977161500816 0.7945205479452054 0.9847457627118644 0.8169014084507042 0.9659185369908562 RandomForestClassifier {'max_depth': 10, 'min_samples_split': 5, 'min_samples_leaf': 2, 'min_impurity_decrease': 0, 'n_estimators': 200}\n",
      "Regression:  False\n",
      "rf\n",
      "{'max_depth': 10, 'min_samples_split': 10, 'min_samples_leaf': 4, 'min_impurity_decrease': 0, 'n_estimators': 100}\n",
      "time:  2.547233\n",
      "0 0.834489335876539 0.9570588493921607 0.8355263157894737 0.9551800146950772 0.8428571428571429 0.9286871961102107 0.8082191780821918 0.9711864406779661 0.8251748251748252 0.9494614747307374 RandomForestClassifier {'max_depth': 10, 'min_samples_split': 10, 'min_samples_leaf': 4, 'min_impurity_decrease': 0, 'n_estimators': 100}\n",
      "Regression:  False\n",
      "rf\n",
      "{'max_depth': 10, 'min_samples_split': 10, 'min_samples_leaf': 1, 'min_impurity_decrease': 0, 'n_estimators': 200}\n",
      "time:  5.454163\n",
      "0 0.8207907057395527 0.9692771878915782 0.8223684210526315 0.967670830271859 0.8382352941176471 0.946078431372549 0.7808219178082192 0.9813559322033898 0.8085106382978724 0.9633943427620633 RandomForestClassifier {'max_depth': 10, 'min_samples_split': 10, 'min_samples_leaf': 1, 'min_impurity_decrease': 0, 'n_estimators': 200}\n",
      "Regression:  False\n",
      "rf\n",
      "{'max_depth': 10, 'min_samples_split': 2, 'min_samples_leaf': 4, 'min_impurity_decrease': 0, 'n_estimators': 200}\n",
      "time:  4.957281\n",
      "0 0.8408184498005896 0.9613477983688364 0.8421052631578947 0.9595885378398237 0.855072463768116 0.9349593495934959 0.8082191780821918 0.9745762711864406 0.8309859154929579 0.954356846473029 RandomForestClassifier {'max_depth': 10, 'min_samples_split': 2, 'min_samples_leaf': 4, 'min_impurity_decrease': 0, 'n_estimators': 200}\n",
      "Regression:  False\n",
      "rf\n",
      "{'max_depth': None, 'min_samples_split': 5, 'min_samples_leaf': 4, 'min_impurity_decrease': 0, 'n_estimators': 100}\n",
      "time:  2.747167\n",
      "0 0.8139413906710595 0.97172393325859 0.8157894736842105 0.9713445995591476 0.835820895522388 0.9599332220367279 0.7671232876712328 0.9745762711864406 0.8 0.9671993271656855 RandomForestClassifier {'max_depth': None, 'min_samples_split': 5, 'min_samples_leaf': 4, 'min_impurity_decrease': 0, 'n_estimators': 100}\n",
      "Regression:  False\n",
      "rf\n",
      "{'max_depth': 10, 'min_samples_split': 5, 'min_samples_leaf': 1, 'min_impurity_decrease': 0, 'n_estimators': 50}\n",
      "time:  1.396829\n",
      "0 0.79547425004335 0.9718195607729342 0.7960526315789473 0.9698750918442322 0.7916666666666666 0.9463414634146341 0.7808219178082192 0.9864406779661017 0.7862068965517242 0.9659751037344398 RandomForestClassifier {'max_depth': 10, 'min_samples_split': 5, 'min_samples_leaf': 1, 'min_impurity_decrease': 0, 'n_estimators': 50}\n",
      "Regression:  False\n",
      "sv\n",
      "{'C': 1, 'kernel': 'poly', 'gamma': 'scale'}\n",
      "time:  0.442858\n",
      "0 0.834489335876539 0.9021576644903163 0.8355263157894737 0.9015429831006613 0.8428571428571429 0.8713355048859935 0.8082191780821918 0.9067796610169492 0.8251748251748252 0.8887043189368771 SVC {'C': 1, 'kernel': 'poly', 'gamma': 'scale'}\n",
      "Regression:  False\n",
      "sv\n",
      "{'C': 0.1, 'kernel': 'linear', 'gamma': 'scale'}\n",
      "time:  0.444652\n",
      "0 0.8539968787931334 0.8509408868077998 0.8552631578947368 0.8493754592211609 0.8695652173913043 0.8041074249605056 0.821917808219178 0.8627118644067797 0.8450704225352113 0.8323793949304988 SVC {'C': 0.1, 'kernel': 'linear', 'gamma': 'scale'}\n",
      "Regression:  False\n",
      "sv\n",
      "{'C': 0.1, 'kernel': 'linear', 'gamma': 0.1}\n",
      "time:  0.443493\n",
      "0 0.8539968787931334 0.8509408868077998 0.8552631578947368 0.8493754592211609 0.8695652173913043 0.8041074249605056 0.821917808219178 0.8627118644067797 0.8450704225352113 0.8323793949304988 SVC {'C': 0.1, 'kernel': 'linear', 'gamma': 0.1}\n",
      "Regression:  False\n",
      "sv\n",
      "{'C': 0.1, 'kernel': 'linear', 'gamma': 0.05}\n",
      "time:  0.446417\n",
      "0 0.8539968787931334 0.8509408868077998 0.8552631578947368 0.8493754592211609 0.8695652173913043 0.8041074249605056 0.821917808219178 0.8627118644067797 0.8450704225352113 0.8323793949304988 SVC {'C': 0.1, 'kernel': 'linear', 'gamma': 0.05}\n"
     ]
    },
    {
     "name": "stderr",
     "output_type": "stream",
     "text": [
      "\n",
      "A value is trying to be set on a copy of a slice from a DataFrame\n",
      "\n",
      "See the caveats in the documentation: https://pandas.pydata.org/pandas-docs/stable/user_guide/indexing.html#returning-a-view-versus-a-copy\n"
     ]
    },
    {
     "name": "stdout",
     "output_type": "stream",
     "text": [
      "Regression:  True\n",
      "nn\n",
      "{'hidden_layer_sizes': (50,), 'activation': 'tanh', 'alpha': 0.01, 'max_iter': 1000, 'solver': 'sgd'}\n",
      "time:  44.615916\n",
      "0 0.7082393450623888 0.34470230144299746 0.5016029698944015 0.1188196766200991 0.5159197865912252 0.25425541873389657 0.724800847228474 0.9339253646895379 MLPRegressor {'hidden_layer_sizes': (50,), 'activation': 'tanh', 'alpha': 0.01, 'max_iter': 1000, 'solver': 'sgd'}\n",
      "Regression:  True\n",
      "nn\n",
      "{'hidden_layer_sizes': (100,), 'activation': 'relu', 'alpha': 0.01, 'max_iter': 200, 'solver': 'sgd'}\n"
     ]
    },
    {
     "name": "stderr",
     "output_type": "stream",
     "text": [
      "Stochastic Optimizer: Maximum iterations (200) reached and the optimization hasn't converged yet.\n"
     ]
    },
    {
     "name": "stdout",
     "output_type": "stream",
     "text": [
      "time:  14.428885\n",
      "0 0.6826815210239547 0.5346853153307658 0.4660540591475804 0.2858883864303604 0.48311320779601385 0.40783066747983854 0.7443043803146823 0.841019842754839 MLPRegressor {'hidden_layer_sizes': (100,), 'activation': 'relu', 'alpha': 0.01, 'max_iter': 200, 'solver': 'sgd'}\n",
      "Regression:  True\n",
      "nn\n",
      "{'hidden_layer_sizes': (50,), 'activation': 'tanh', 'alpha': 0.001, 'max_iter': 500, 'solver': 'sgd'}\n"
     ]
    },
    {
     "name": "stderr",
     "output_type": "stream",
     "text": [
      "Stochastic Optimizer: Maximum iterations (500) reached and the optimization hasn't converged yet.\n"
     ]
    },
    {
     "name": "stdout",
     "output_type": "stream",
     "text": [
      "time:  23.019423\n",
      "0 0.682843893981368 0.4358946826486125 0.4662757835476378 0.19000417436133457 0.4887257982502444 0.33257585071107565 0.7441827335727232 0.8943402567191723 MLPRegressor {'hidden_layer_sizes': (50,), 'activation': 'tanh', 'alpha': 0.001, 'max_iter': 500, 'solver': 'sgd'}\n",
      "Regression:  True\n",
      "nn\n",
      "{'hidden_layer_sizes': (50,), 'activation': 'relu', 'alpha': 0.01, 'max_iter': 500, 'solver': 'sgd'}\n"
     ]
    },
    {
     "name": "stderr",
     "output_type": "stream",
     "text": [
      "Stochastic Optimizer: Maximum iterations (500) reached and the optimization hasn't converged yet.\n"
     ]
    },
    {
     "name": "stdout",
     "output_type": "stream",
     "text": [
      "time:  22.644769\n",
      "0 0.6843863505466549 0.4097418851568756 0.46838467681456875 0.16788841245191022 0.49792626136537466 0.3108942122828528 0.743025711634701 0.9066386482343284 MLPRegressor {'hidden_layer_sizes': (50,), 'activation': 'relu', 'alpha': 0.01, 'max_iter': 500, 'solver': 'sgd'}\n",
      "Regression:  True\n",
      "nn\n",
      "{'hidden_layer_sizes': (100,), 'activation': 'tanh', 'alpha': 0.0001, 'max_iter': 500, 'solver': 'sgd'}\n"
     ]
    },
    {
     "name": "stderr",
     "output_type": "stream",
     "text": [
      "Stochastic Optimizer: Maximum iterations (500) reached and the optimization hasn't converged yet.\n"
     ]
    },
    {
     "name": "stdout",
     "output_type": "stream",
     "text": [
      "time:  33.562542\n",
      "0 0.6976262750944934 0.4390653809195211 0.4866824197022178 0.19277840872200414 0.5017092913846123 0.33516521428513213 0.7329868489434128 0.8927975280326342 MLPRegressor {'hidden_layer_sizes': (100,), 'activation': 'tanh', 'alpha': 0.0001, 'max_iter': 500, 'solver': 'sgd'}\n",
      "Regression:  True\n",
      "nn\n",
      "{'hidden_layer_sizes': (100,), 'activation': 'relu', 'alpha': 0.0001, 'max_iter': 500, 'solver': 'sgd'}\n"
     ]
    },
    {
     "name": "stderr",
     "output_type": "stream",
     "text": [
      "Stochastic Optimizer: Maximum iterations (500) reached and the optimization hasn't converged yet.\n"
     ]
    },
    {
     "name": "stdout",
     "output_type": "stream",
     "text": [
      "time:  33.160245\n",
      "0 0.6930458753181893 0.40931045708429187 0.4803125852955551 0.16753505027855192 0.494168437595075 0.3117949328951709 0.7364815910745799 0.90683515000408 MLPRegressor {'hidden_layer_sizes': (100,), 'activation': 'relu', 'alpha': 0.0001, 'max_iter': 500, 'solver': 'sgd'}\n",
      "Regression:  True\n",
      "nn\n",
      "{'hidden_layer_sizes': (100,), 'activation': 'relu', 'alpha': 0.001, 'max_iter': 500, 'solver': 'sgd'}\n"
     ]
    },
    {
     "name": "stderr",
     "output_type": "stream",
     "text": [
      "Stochastic Optimizer: Maximum iterations (500) reached and the optimization hasn't converged yet.\n"
     ]
    },
    {
     "name": "stdout",
     "output_type": "stream",
     "text": [
      "time:  33.00603\n",
      "0 0.6930358854282608 0.4093252863871154 0.4802987384913334 0.16754719007589403 0.49415774847107974 0.3118124069683883 0.7364891879769491 0.9068283991636052 MLPRegressor {'hidden_layer_sizes': (100,), 'activation': 'relu', 'alpha': 0.001, 'max_iter': 500, 'solver': 'sgd'}\n",
      "Regression:  True\n",
      "nn\n",
      "{'hidden_layer_sizes': (50,), 'activation': 'tanh', 'alpha': 0.01, 'max_iter': 500, 'solver': 'sgd'}\n"
     ]
    },
    {
     "name": "stderr",
     "output_type": "stream",
     "text": [
      "Stochastic Optimizer: Maximum iterations (500) reached and the optimization hasn't converged yet.\n"
     ]
    },
    {
     "name": "stdout",
     "output_type": "stream",
     "text": [
      "time:  23.054906\n",
      "0 0.6827695969182519 0.43598153274988927 0.46617432247591223 0.19007989689894275 0.4886513422621489 0.3326409927734191 0.744238399114305 0.8942981480449226 MLPRegressor {'hidden_layer_sizes': (50,), 'activation': 'tanh', 'alpha': 0.01, 'max_iter': 500, 'solver': 'sgd'}\n",
      "Regression:  True\n",
      "nn\n",
      "{'hidden_layer_sizes': (50,), 'activation': 'relu', 'alpha': 0.001, 'max_iter': 500, 'solver': 'sgd'}\n"
     ]
    },
    {
     "name": "stderr",
     "output_type": "stream",
     "text": [
      "Stochastic Optimizer: Maximum iterations (500) reached and the optimization hasn't converged yet.\n"
     ]
    },
    {
     "name": "stdout",
     "output_type": "stream",
     "text": [
      "time:  22.633761\n",
      "0 0.6844502546731691 0.40962687139208015 0.4684721511221661 0.16779417376646377 0.49799790849200937 0.3108012598873868 0.7429777197830076 0.9066910535846049 MLPRegressor {'hidden_layer_sizes': (50,), 'activation': 'relu', 'alpha': 0.001, 'max_iter': 500, 'solver': 'sgd'}\n",
      "Regression:  True\n",
      "nn\n",
      "{'hidden_layer_sizes': (50,), 'activation': 'logistic', 'alpha': 0.01, 'max_iter': 200, 'solver': 'adam'}\n"
     ]
    },
    {
     "name": "stderr",
     "output_type": "stream",
     "text": [
      "Stochastic Optimizer: Maximum iterations (200) reached and the optimization hasn't converged yet.\n"
     ]
    },
    {
     "name": "stdout",
     "output_type": "stream",
     "text": [
      "time:  10.800499\n",
      "0 0.6682915966205083 0.38572604781621517 0.44661365811358816 0.1487845839639171 0.47428537634341134 0.27623084065642545 0.7549701502865379 0.9172621285894689 MLPRegressor {'hidden_layer_sizes': (50,), 'activation': 'logistic', 'alpha': 0.01, 'max_iter': 200, 'solver': 'adam'}\n",
      "Regression:  True\n",
      "nn\n",
      "{'hidden_layer_sizes': (100,), 'activation': 'tanh', 'alpha': 0.001, 'max_iter': 200, 'solver': 'sgd'}\n"
     ]
    },
    {
     "name": "stderr",
     "output_type": "stream",
     "text": [
      "Stochastic Optimizer: Maximum iterations (200) reached and the optimization hasn't converged yet.\n"
     ]
    },
    {
     "name": "stdout",
     "output_type": "stream",
     "text": [
      "time:  13.491486\n",
      "0 0.6888859465728093 0.5659022195742243 0.47456384738551555 0.32024532211903356 0.48949150535208175 0.43246410198686364 0.7396355751960884 0.82191423617023 MLPRegressor {'hidden_layer_sizes': (100,), 'activation': 'tanh', 'alpha': 0.001, 'max_iter': 200, 'solver': 'sgd'}\n",
      "Regression:  True\n",
      "nn\n",
      "{'hidden_layer_sizes': (50,), 'activation': 'tanh', 'alpha': 0.0001, 'max_iter': 500, 'solver': 'sgd'}\n"
     ]
    },
    {
     "name": "stderr",
     "output_type": "stream",
     "text": [
      "Stochastic Optimizer: Maximum iterations (500) reached and the optimization hasn't converged yet.\n"
     ]
    },
    {
     "name": "stdout",
     "output_type": "stream",
     "text": [
      "time:  23.082364\n",
      "0 0.6828513347828241 0.43588600367738367 0.4662859454146845 0.1899966082018401 0.48873324727773726 0.3325693333564737 0.7441771583720772 0.8943444641976264 MLPRegressor {'hidden_layer_sizes': (50,), 'activation': 'tanh', 'alpha': 0.0001, 'max_iter': 500, 'solver': 'sgd'}\n",
      "Regression:  True\n",
      "nn\n",
      "{'hidden_layer_sizes': (50,), 'activation': 'relu', 'alpha': 0.0001, 'max_iter': 200, 'solver': 'sgd'}\n"
     ]
    },
    {
     "name": "stderr",
     "output_type": "stream",
     "text": [
      "Stochastic Optimizer: Maximum iterations (200) reached and the optimization hasn't converged yet.\n"
     ]
    },
    {
     "name": "stdout",
     "output_type": "stream",
     "text": [
      "time:  9.161158\n",
      "0 0.6791001659551087 0.5278319161527729 0.46117703540025623 0.27860653170950794 0.5000463052631111 0.40393709230604613 0.7469801077004128 0.8450692216855902 MLPRegressor {'hidden_layer_sizes': (50,), 'activation': 'relu', 'alpha': 0.0001, 'max_iter': 200, 'solver': 'sgd'}\n",
      "Regression:  True\n",
      "nn\n",
      "{'hidden_layer_sizes': (50,), 'activation': 'tanh', 'alpha': 0.0001, 'max_iter': 1000, 'solver': 'sgd'}\n",
      "time:  43.522128\n",
      "0 0.7084716848615034 0.3444560655616257 0.5019321282504973 0.11864998110219499 0.5161202987211254 0.25404327300186397 0.7246202579852639 0.9340197309576366 MLPRegressor {'hidden_layer_sizes': (50,), 'activation': 'tanh', 'alpha': 0.0001, 'max_iter': 1000, 'solver': 'sgd'}\n",
      "Regression:  True\n",
      "nn\n",
      "{'hidden_layer_sizes': (100,), 'activation': 'relu', 'alpha': 0.01, 'max_iter': 500, 'solver': 'sgd'}\n"
     ]
    },
    {
     "name": "stderr",
     "output_type": "stream",
     "text": [
      "Stochastic Optimizer: Maximum iterations (500) reached and the optimization hasn't converged yet.\n"
     ]
    },
    {
     "name": "stdout",
     "output_type": "stream",
     "text": [
      "time:  33.017055\n",
      "0 0.6928761580506945 0.40949063690735765 0.48007737039509096 0.16768258171479342 0.4940289127469355 0.3119407734130399 0.7366106392365965 0.9067531089977099 MLPRegressor {'hidden_layer_sizes': (100,), 'activation': 'relu', 'alpha': 0.01, 'max_iter': 500, 'solver': 'sgd'}\n",
      "Regression:  True\n",
      "nn\n",
      "{'hidden_layer_sizes': (100,), 'activation': 'tanh', 'alpha': 0.001, 'max_iter': 500, 'solver': 'sgd'}\n"
     ]
    },
    {
     "name": "stderr",
     "output_type": "stream",
     "text": [
      "Stochastic Optimizer: Maximum iterations (500) reached and the optimization hasn't converged yet.\n"
     ]
    },
    {
     "name": "stdout",
     "output_type": "stream",
     "text": [
      "time:  33.6373\n",
      "0 0.6976171594254275 0.4390735812041619 0.48666970112480223 0.19278560971144773 0.5016992347617197 0.33517097960393133 0.7329938268561034 0.8927935236222126 MLPRegressor {'hidden_layer_sizes': (100,), 'activation': 'tanh', 'alpha': 0.001, 'max_iter': 500, 'solver': 'sgd'}\n",
      "Regression:  True\n",
      "nn\n",
      "{'hidden_layer_sizes': (100,), 'activation': 'tanh', 'alpha': 0.01, 'max_iter': 500, 'solver': 'sgd'}\n"
     ]
    },
    {
     "name": "stderr",
     "output_type": "stream",
     "text": [
      "Stochastic Optimizer: Maximum iterations (500) reached and the optimization hasn't converged yet.\n"
     ]
    },
    {
     "name": "stdout",
     "output_type": "stream",
     "text": [
      "time:  33.531088\n",
      "0 0.6975261097470574 0.43915563239646566 0.486542673778864 0.19285766946553967 0.5015986955137294 0.3352286024784572 0.7330635190630461 0.892753451791455 MLPRegressor {'hidden_layer_sizes': (100,), 'activation': 'tanh', 'alpha': 0.01, 'max_iter': 500, 'solver': 'sgd'}\n",
      "Regression:  True\n",
      "nn\n",
      "{'hidden_layer_sizes': (50,), 'activation': 'logistic', 'alpha': 0.0001, 'max_iter': 200, 'solver': 'adam'}\n"
     ]
    },
    {
     "name": "stderr",
     "output_type": "stream",
     "text": [
      "Stochastic Optimizer: Maximum iterations (200) reached and the optimization hasn't converged yet.\n"
     ]
    },
    {
     "name": "stdout",
     "output_type": "stream",
     "text": [
      "time:  10.838807\n",
      "0 0.6675771103597735 0.3741050142364755 0.4456591982763052 0.13995456167687356 0.47970282083599053 0.2623848883157983 0.7554938045596178 0.9221724306454582 MLPRegressor {'hidden_layer_sizes': (50,), 'activation': 'logistic', 'alpha': 0.0001, 'max_iter': 200, 'solver': 'adam'}\n",
      "Regression:  True\n",
      "nn\n",
      "{'hidden_layer_sizes': (50, 50), 'activation': 'tanh', 'alpha': 0.01, 'max_iter': 200, 'solver': 'sgd'}\n"
     ]
    },
    {
     "name": "stderr",
     "output_type": "stream",
     "text": [
      "Stochastic Optimizer: Maximum iterations (200) reached and the optimization hasn't converged yet.\n"
     ]
    },
    {
     "name": "stdout",
     "output_type": "stream",
     "text": [
      "time:  10.709223\n",
      "0 0.6939056425805399 0.4903344235398355 0.4815050408051119 0.24042784690814278 0.5011360068500149 0.37601514665876573 0.7358273629985044 0.8663000712101929 MLPRegressor {'hidden_layer_sizes': (50, 50), 'activation': 'tanh', 'alpha': 0.01, 'max_iter': 200, 'solver': 'sgd'}\n",
      "Regression:  True\n",
      "nn\n",
      "{'hidden_layer_sizes': (100,), 'activation': 'relu', 'alpha': 0.0001, 'max_iter': 1000, 'solver': 'sgd'}\n"
     ]
    },
    {
     "name": "stderr",
     "output_type": "stream",
     "text": [
      "Stochastic Optimizer: Maximum iterations (1000) reached and the optimization hasn't converged yet.\n"
     ]
    },
    {
     "name": "stdout",
     "output_type": "stream",
     "text": [
      "time:  66.060529\n",
      "0 0.7228578237027985 0.30143109930931966 0.5225234332883462 0.09086070763082495 0.5091141699843647 0.21568405148555367 0.7133230567305163 0.9494731151309855 MLPRegressor {'hidden_layer_sizes': (100,), 'activation': 'relu', 'alpha': 0.0001, 'max_iter': 1000, 'solver': 'sgd'}\n",
      "Regression:  True\n",
      "nn\n",
      "{'hidden_layer_sizes': (50,), 'activation': 'relu', 'alpha': 0.0001, 'max_iter': 500, 'solver': 'sgd'}\n"
     ]
    },
    {
     "name": "stderr",
     "output_type": "stream",
     "text": [
      "Stochastic Optimizer: Maximum iterations (500) reached and the optimization hasn't converged yet.\n"
     ]
    },
    {
     "name": "stdout",
     "output_type": "stream",
     "text": [
      "time:  22.663745\n",
      "0 0.6844861818570699 0.40961473982263497 0.46852133315326977 0.16778423507996496 0.49800968598456336 0.3107982987082316 0.7429507365829398 0.9066965804056211 MLPRegressor {'hidden_layer_sizes': (50,), 'activation': 'relu', 'alpha': 0.0001, 'max_iter': 500, 'solver': 'sgd'}\n",
      "Regression:  True\n",
      "nn\n",
      "{'hidden_layer_sizes': (100,), 'activation': 'logistic', 'alpha': 0.0001, 'max_iter': 1000, 'solver': 'sgd'}\n"
     ]
    },
    {
     "name": "stderr",
     "output_type": "stream",
     "text": [
      "Stochastic Optimizer: Maximum iterations (1000) reached and the optimization hasn't converged yet.\n"
     ]
    },
    {
     "name": "stdout",
     "output_type": "stream",
     "text": [
      "time:  78.375177\n",
      "0 0.6889872417523536 0.5361658050641199 0.4747034192975161 0.28747377052005585 0.48144260725663746 0.4082346576536929 0.7395590005459396 0.8401382238299823 MLPRegressor {'hidden_layer_sizes': (100,), 'activation': 'logistic', 'alpha': 0.0001, 'max_iter': 1000, 'solver': 'sgd'}\n",
      "Regression:  True\n",
      "nn\n",
      "{'hidden_layer_sizes': (50, 50), 'activation': 'relu', 'alpha': 0.0001, 'max_iter': 200, 'solver': 'sgd'}\n"
     ]
    },
    {
     "name": "stderr",
     "output_type": "stream",
     "text": [
      "Stochastic Optimizer: Maximum iterations (200) reached and the optimization hasn't converged yet.\n"
     ]
    },
    {
     "name": "stdout",
     "output_type": "stream",
     "text": [
      "time:  11.289779\n",
      "0 0.665031261999333 0.4764617171684053 0.4422665794364256 0.22701576792706546 0.4855484379212697 0.36145156520092336 0.757355128926593 0.8737584169374182 MLPRegressor {'hidden_layer_sizes': (50, 50), 'activation': 'relu', 'alpha': 0.0001, 'max_iter': 200, 'solver': 'sgd'}\n",
      "Regression:  True\n",
      "nn\n",
      "{'hidden_layer_sizes': (100,), 'activation': 'relu', 'alpha': 0.001, 'max_iter': 1000, 'solver': 'sgd'}\n"
     ]
    },
    {
     "name": "stderr",
     "output_type": "stream",
     "text": [
      "Stochastic Optimizer: Maximum iterations (1000) reached and the optimization hasn't converged yet.\n"
     ]
    },
    {
     "name": "stdout",
     "output_type": "stream",
     "text": [
      "time:  67.929318\n",
      "0 0.7228062565574185 0.3014783063552714 0.5224488845185487 0.09088916920284287 0.5090621619524296 0.2157292229132361 0.7133639571228979 0.9494572878871742 MLPRegressor {'hidden_layer_sizes': (100,), 'activation': 'relu', 'alpha': 0.001, 'max_iter': 1000, 'solver': 'sgd'}\n",
      "Regression:  True\n",
      "nn\n",
      "{'hidden_layer_sizes': (50, 50), 'activation': 'relu', 'alpha': 0.001, 'max_iter': 200, 'solver': 'sgd'}\n"
     ]
    },
    {
     "name": "stderr",
     "output_type": "stream",
     "text": [
      "Stochastic Optimizer: Maximum iterations (200) reached and the optimization hasn't converged yet.\n"
     ]
    },
    {
     "name": "stdout",
     "output_type": "stream",
     "text": [
      "time:  10.853451\n",
      "0 0.6649987025800237 0.47647638800581527 0.4422232744331148 0.2270297483270682 0.48551201489884027 0.36146487986787035 0.7573788877576549 0.873750642553091 MLPRegressor {'hidden_layer_sizes': (50, 50), 'activation': 'relu', 'alpha': 0.001, 'max_iter': 200, 'solver': 'sgd'}\n",
      "Regression:  True\n",
      "nn\n",
      "{'hidden_layer_sizes': (50,), 'activation': 'logistic', 'alpha': 0.01, 'max_iter': 1000, 'solver': 'adam'}\n",
      "time:  32.262251\n",
      "0 0.7573918878635554 0.2192317071436493 0.5736424718015204 0.04806254141711882 0.5306618052278161 0.13475284234438023 0.6852771380783956 0.9732728199018434 MLPRegressor {'hidden_layer_sizes': (50,), 'activation': 'logistic', 'alpha': 0.01, 'max_iter': 1000, 'solver': 'adam'}\n",
      "Regression:  True\n",
      "nn\n",
      "{'hidden_layer_sizes': (50,), 'activation': 'relu', 'alpha': 0.001, 'max_iter': 200, 'solver': 'sgd'}\n"
     ]
    },
    {
     "name": "stderr",
     "output_type": "stream",
     "text": [
      "Stochastic Optimizer: Maximum iterations (200) reached and the optimization hasn't converged yet.\n"
     ]
    },
    {
     "name": "stdout",
     "output_type": "stream",
     "text": [
      "time:  9.114232\n",
      "0 0.6791059784205979 0.5278367785955245 0.4611849299265977 0.27861166483810074 0.500050637405642 0.40394350547635427 0.7469757764522122 0.845066367195413 MLPRegressor {'hidden_layer_sizes': (50,), 'activation': 'relu', 'alpha': 0.001, 'max_iter': 200, 'solver': 'sgd'}\n",
      "Regression:  True\n",
      "nn\n",
      "{'hidden_layer_sizes': (100,), 'activation': 'relu', 'alpha': 0.001, 'max_iter': 200, 'solver': 'sgd'}\n"
     ]
    },
    {
     "name": "stderr",
     "output_type": "stream",
     "text": [
      "Stochastic Optimizer: Maximum iterations (200) reached and the optimization hasn't converged yet.\n"
     ]
    },
    {
     "name": "stdout",
     "output_type": "stream",
     "text": [
      "time:  13.248059\n",
      "0 0.6826961812155427 0.5346513330432069 0.4660740758462851 0.28585204792487817 0.4831353415544455 0.4078078223988391 0.7442933983651017 0.8410400502959279 MLPRegressor {'hidden_layer_sizes': (100,), 'activation': 'relu', 'alpha': 0.001, 'max_iter': 200, 'solver': 'sgd'}\n",
      "Regression:  True\n",
      "nn\n",
      "{'hidden_layer_sizes': (100,), 'activation': 'logistic', 'alpha': 0.01, 'max_iter': 1000, 'solver': 'sgd'}\n"
     ]
    },
    {
     "name": "stderr",
     "output_type": "stream",
     "text": [
      "Stochastic Optimizer: Maximum iterations (1000) reached and the optimization hasn't converged yet.\n"
     ]
    },
    {
     "name": "stdout",
     "output_type": "stream",
     "text": [
      "time:  72.138264\n",
      "0 0.6889430071934437 0.5364341909127477 0.47464246716074543 0.2877616411802142 0.48144945977669834 0.40844830298137286 0.7395924412897263 0.8399781413467808 MLPRegressor {'hidden_layer_sizes': (100,), 'activation': 'logistic', 'alpha': 0.01, 'max_iter': 1000, 'solver': 'sgd'}\n",
      "Regression:  True\n",
      "nn\n",
      "{'hidden_layer_sizes': (50,), 'activation': 'relu', 'alpha': 0.01, 'max_iter': 1000, 'solver': 'sgd'}\n",
      "time:  38.442556\n",
      "0 0.7056690934082746 0.33359248892398996 0.49796886939165613 0.11128394866650235 0.5140788253371668 0.24464174733628696 0.726794657950234 0.9381159204164715 MLPRegressor {'hidden_layer_sizes': (50,), 'activation': 'relu', 'alpha': 0.01, 'max_iter': 1000, 'solver': 'sgd'}\n",
      "Regression:  True\n",
      "nn\n",
      "{'hidden_layer_sizes': (100,), 'activation': 'tanh', 'alpha': 0.01, 'max_iter': 200, 'solver': 'sgd'}\n"
     ]
    },
    {
     "name": "stderr",
     "output_type": "stream",
     "text": [
      "Stochastic Optimizer: Maximum iterations (200) reached and the optimization hasn't converged yet.\n"
     ]
    },
    {
     "name": "stdout",
     "output_type": "stream",
     "text": [
      "time:  13.471948\n",
      "0 0.6888683277052962 0.565924787236122 0.47453957291549137 0.32027086480825007 0.48948066712922494 0.43248024031139765 0.7396488931267737 0.8219000320929017 MLPRegressor {'hidden_layer_sizes': (100,), 'activation': 'tanh', 'alpha': 0.01, 'max_iter': 200, 'solver': 'sgd'}\n",
      "Regression:  True\n",
      "nn\n",
      "{'hidden_layer_sizes': (100,), 'activation': 'logistic', 'alpha': 0.001, 'max_iter': 1000, 'solver': 'sgd'}\n"
     ]
    },
    {
     "name": "stderr",
     "output_type": "stream",
     "text": [
      "Stochastic Optimizer: Maximum iterations (1000) reached and the optimization hasn't converged yet.\n"
     ]
    },
    {
     "name": "stdout",
     "output_type": "stream",
     "text": [
      "time:  71.682328\n",
      "0 0.6889831859927098 0.536190189954049 0.4746978305806649 0.28749991980295914 0.4814432351292268 0.40825389192628714 0.7395620667362033 0.8401236824309429 MLPRegressor {'hidden_layer_sizes': (100,), 'activation': 'logistic', 'alpha': 0.001, 'max_iter': 1000, 'solver': 'sgd'}\n",
      "Regression:  True\n",
      "nn\n",
      "{'hidden_layer_sizes': (100,), 'activation': 'relu', 'alpha': 0.0001, 'max_iter': 200, 'solver': 'sgd'}\n"
     ]
    },
    {
     "name": "stderr",
     "output_type": "stream",
     "text": [
      "Stochastic Optimizer: Maximum iterations (200) reached and the optimization hasn't converged yet.\n"
     ]
    },
    {
     "name": "stdout",
     "output_type": "stream",
     "text": [
      "time:  13.227927\n",
      "0 0.6827015261767873 0.5346509775988777 0.4660813738441146 0.28585166784743565 0.48313225147199385 0.40780767191885164 0.7442893943959465 0.8410402616538369 MLPRegressor {'hidden_layer_sizes': (100,), 'activation': 'relu', 'alpha': 0.0001, 'max_iter': 200, 'solver': 'sgd'}\n",
      "Regression:  True\n",
      "nn\n",
      "{'hidden_layer_sizes': (50,), 'activation': 'relu', 'alpha': 0.01, 'max_iter': 200, 'solver': 'sgd'}\n"
     ]
    },
    {
     "name": "stderr",
     "output_type": "stream",
     "text": [
      "Stochastic Optimizer: Maximum iterations (200) reached and the optimization hasn't converged yet.\n"
     ]
    },
    {
     "name": "stdout",
     "output_type": "stream",
     "text": [
      "time:  9.02307\n",
      "0 0.679016823718293 0.527902303088653 0.4610638468924793 0.27868084160630413 0.49994613278177064 0.4039822414813393 0.747042207375481 0.8450278985691634 MLPRegressor {'hidden_layer_sizes': (50,), 'activation': 'relu', 'alpha': 0.01, 'max_iter': 200, 'solver': 'sgd'}\n",
      "Regression:  True\n",
      "nn\n",
      "{'hidden_layer_sizes': (100,), 'activation': 'logistic', 'alpha': 0.01, 'max_iter': 200, 'solver': 'adam'}\n"
     ]
    },
    {
     "name": "stderr",
     "output_type": "stream",
     "text": [
      "Stochastic Optimizer: Maximum iterations (200) reached and the optimization hasn't converged yet.\n"
     ]
    },
    {
     "name": "stdout",
     "output_type": "stream",
     "text": [
      "time:  17.656227\n",
      "0 0.6836273922597513 0.3565296537560858 0.46734641144786787 0.12711339400743443 0.48609062376455847 0.25476113630629355 0.7435953449232124 0.9293132973339908 MLPRegressor {'hidden_layer_sizes': (100,), 'activation': 'logistic', 'alpha': 0.01, 'max_iter': 200, 'solver': 'adam'}\n",
      "Regression:  True\n",
      "nn\n",
      "{'hidden_layer_sizes': (100,), 'activation': 'logistic', 'alpha': 0.01, 'max_iter': 500, 'solver': 'adam'}\n"
     ]
    },
    {
     "name": "stderr",
     "output_type": "stream",
     "text": [
      "Stochastic Optimizer: Maximum iterations (500) reached and the optimization hasn't converged yet.\n"
     ]
    },
    {
     "name": "stdout",
     "output_type": "stream",
     "text": [
      "time:  43.790951\n",
      "0 0.7667492706537672 0.24718821350262715 0.587904444048084 0.06110201289462039 0.535334463463602 0.15783872311991826 0.677452458172829 0.9660216781126615 MLPRegressor {'hidden_layer_sizes': (100,), 'activation': 'logistic', 'alpha': 0.01, 'max_iter': 500, 'solver': 'adam'}\n",
      "Regression:  True\n",
      "sv\n",
      "{'C': 1, 'kernel': 'rbf', 'epsilon': 0.01, 'gamma': 'scale'}\n",
      "time:  2.471867\n",
      "0 0.5965519761057038 0.47514739353319435 0.35587426019562013 0.22576504558138824 0.4275649470984658 0.26935151982117 0.80475335917639 0.8744539332459627 SVR {'C': 1, 'kernel': 'rbf', 'epsilon': 0.01, 'gamma': 'scale'}\n",
      "Regression:  True\n",
      "sv\n",
      "{'C': 1, 'kernel': 'rbf', 'epsilon': 0.1, 'gamma': 'scale'}\n",
      "time:  2.092221\n",
      "0 0.6008121676047009 0.47361409761903706 0.3609752607418592 0.22431031346349478 0.42998973676155705 0.2995767634793974 0.8019547492939414 0.8752628976944316 SVR {'C': 1, 'kernel': 'rbf', 'epsilon': 0.1, 'gamma': 'scale'}\n",
      "Regression:  True\n",
      "sv\n",
      "{'C': 10, 'kernel': 'rbf', 'epsilon': 0.1, 'gamma': 'scale'}\n",
      "time:  2.203248\n",
      "0 0.6740643686596413 0.204700884206056 0.4543627730965208 0.041902451994741144 0.46733941964105996 0.11584527652867088 0.7507186804866659 0.9766983944669453 SVR {'C': 10, 'kernel': 'rbf', 'epsilon': 0.1, 'gamma': 'scale'}\n",
      "Regression:  True\n",
      "sv\n",
      "{'C': 10, 'kernel': 'rbf', 'epsilon': 0.01, 'gamma': 'scale'}\n",
      "time:  2.793436\n",
      "0 0.6772592727135208 0.1882535640432762 0.4586801224764471 0.035439404374995896 0.46520238741144143 0.0395099486205702 0.7483500125104285 0.9802924415693811 SVR {'C': 10, 'kernel': 'rbf', 'epsilon': 0.01, 'gamma': 'scale'}\n",
      "Regression:  True\n",
      "sv\n",
      "{'C': 1000, 'kernel': 'rbf', 'epsilon': 0.1, 'gamma': 'scale'}\n",
      "time:  2.255576\n",
      "0 0.6738421967638158 0.2005940180406892 0.45406330613948515 0.04023796007370834 0.4703744026218655 0.11330895622053894 0.750882979858491 0.9776240045997779 SVR {'C': 1000, 'kernel': 'rbf', 'epsilon': 0.1, 'gamma': 'scale'}\n",
      "Regression:  True\n",
      "sv\n",
      "{'C': 100, 'kernel': 'rbf', 'epsilon': 0.1, 'gamma': 'scale'}\n",
      "time:  2.279342\n",
      "0 0.6738421967638564 0.20059401804066207 0.45406330613953977 0.04023796007369746 0.47037440262185276 0.1133089562205194 0.7508829798584611 0.9776240045997839 SVR {'C': 100, 'kernel': 'rbf', 'epsilon': 0.1, 'gamma': 'scale'}\n",
      "Regression:  True\n",
      "sv\n",
      "{'C': 1000, 'kernel': 'rbf', 'epsilon': 0.01, 'gamma': 'scale'}\n",
      "time:  2.757197\n",
      "0 0.6766466528115546 0.18183532773950062 0.4578506927610805 0.033064086414131603 0.47040628874668566 0.034306156297020364 0.7488050703323559 0.9816133361591913 SVR {'C': 1000, 'kernel': 'rbf', 'epsilon': 0.01, 'gamma': 'scale'}\n",
      "Regression:  True\n",
      "sv\n",
      "{'C': 100, 'kernel': 'rbf', 'epsilon': 0.01, 'gamma': 'scale'}\n",
      "time:  2.806127\n",
      "0 0.676646652811594 0.1818353277394704 0.45785069276113377 0.03306408641412061 0.4704062887466608 0.03430615629698543 0.7488050703323266 0.9816133361591974 SVR {'C': 100, 'kernel': 'rbf', 'epsilon': 0.01, 'gamma': 'scale'}\n",
      "Regression:  True\n",
      "sv\n",
      "{'C': 1, 'kernel': 'rbf', 'epsilon': 0.01, 'gamma': 0.05}\n",
      "time:  2.749496\n",
      "0 0.6535751826994287 0.3462220647706297 0.4271605194405916 0.11986971813403814 0.47214825506250113 0.15044969184660162 0.7656429086290228 0.9333414453247664 SVR {'C': 1, 'kernel': 'rbf', 'epsilon': 0.01, 'gamma': 0.05}\n",
      "Regression:  True\n",
      "sv\n",
      "{'C': 1, 'kernel': 'rbf', 'epsilon': 0.1, 'gamma': 0.05}\n",
      "time:  2.304567\n",
      "0 0.6633310389015065 0.35291028719525674 0.4400080671701519 0.12454567080823861 0.4824569338523349 0.2083421149597558 0.7585942377427418 0.9307411868788137 SVR {'C': 1, 'kernel': 'rbf', 'epsilon': 0.1, 'gamma': 0.05}\n",
      "Regression:  True\n",
      "sv\n",
      "{'C': 0.1, 'kernel': 'poly', 'epsilon': 0.01, 'gamma': 0.05}\n",
      "time:  1.54825\n",
      "0 0.6883816928140736 0.28314442677027646 0.4738693550015696 0.08017076641106846 0.47911660078058166 0.09550041113311458 0.7400166010813785 0.9554177026578817 SVR {'C': 0.1, 'kernel': 'poly', 'epsilon': 0.01, 'gamma': 0.05}\n",
      "Regression:  True\n",
      "sv\n",
      "{'C': 0.1, 'kernel': 'poly', 'epsilon': 0.1, 'gamma': 0.05}\n",
      "time:  1.222018\n",
      "0 0.6890678217323497 0.2881265929122291 0.4748144629469653 0.08301693354320938 0.48092657046826753 0.15932984418352142 0.7394980776246589 0.9538349727545669 SVR {'C': 0.1, 'kernel': 'poly', 'epsilon': 0.1, 'gamma': 0.05}\n",
      "Regression:  True\n",
      "sv\n",
      "{'C': 0.01, 'kernel': 'poly', 'epsilon': 0.1, 'gamma': 0.1}\n",
      "time:  1.227993\n",
      "0 0.6856653450300171 0.31962097538468337 0.47013696537513244 0.10215756790585637 0.47977627256502065 0.1771267278457694 0.7420643370890521 0.9431910249582229 SVR {'C': 0.01, 'kernel': 'poly', 'epsilon': 0.1, 'gamma': 0.1}\n",
      "Regression:  True\n",
      "sv\n",
      "{'C': 0.01, 'kernel': 'poly', 'epsilon': 0.01, 'gamma': 0.1}\n",
      "time:  1.467518\n",
      "0 0.6854298934694367 0.31560835249723634 0.4698141388615234 0.0996086321660198 0.4774588180245535 0.11733649917296332 0.7422414524339953 0.9446084669529355 SVR {'C': 0.01, 'kernel': 'poly', 'epsilon': 0.01, 'gamma': 0.1}\n",
      "Regression:  True\n",
      "sv\n",
      "{'C': 1, 'kernel': 'rbf', 'epsilon': 0.1, 'gamma': 'scale'}\n",
      "time:  2.236939\n",
      "0 0.6008121676047009 0.47361409761903706 0.3609752607418592 0.22431031346349478 0.42998973676155705 0.2995767634793974 0.8019547492939414 0.8752628976944316 SVR {'C': 1, 'kernel': 'rbf', 'epsilon': 0.1, 'gamma': 'scale'}\n",
      "Regression:  True\n",
      "sv\n",
      "{'C': 100, 'kernel': 'rbf', 'epsilon': 0.01, 'gamma': 0.05}\n",
      "time:  2.730063\n",
      "0 0.6941610925280269 0.17633192231137007 0.48185962237970403 0.03109294682602305 0.4871282384117393 0.03429652778634968 0.7356328255759355 0.9827094705128196 SVR {'C': 100, 'kernel': 'rbf', 'epsilon': 0.01, 'gamma': 0.05}\n",
      "Regression:  True\n",
      "sv\n",
      "{'C': 10, 'kernel': 'rbf', 'epsilon': 0.01, 'gamma': 0.05}\n",
      "time:  2.771233\n",
      "0 0.694161092528031 0.17633192231136707 0.48185962237970964 0.031092946826021997 0.4871282384117431 0.03429652778635043 0.7356328255759325 0.9827094705128202 SVR {'C': 10, 'kernel': 'rbf', 'epsilon': 0.01, 'gamma': 0.05}\n",
      "Regression:  True\n",
      "sv\n",
      "{'C': 1000, 'kernel': 'rbf', 'epsilon': 0.01, 'gamma': 0.05}\n",
      "time:  2.822452\n",
      "0 0.6941610925280068 0.1763319223113638 0.481859622379676 0.031092946826020835 0.4871282384117315 0.034296527786348674 0.7356328255759509 0.9827094705128209 SVR {'C': 1000, 'kernel': 'rbf', 'epsilon': 0.01, 'gamma': 0.05}\n",
      "Regression:  True\n",
      "sv\n",
      "{'C': 100, 'kernel': 'rbf', 'epsilon': 0.1, 'gamma': 0.05}\n",
      "time:  2.372237\n",
      "0 0.6977922429496005 0.19620836539263406 0.48691401432063436 0.038497722650049394 0.4965421606245279 0.1157919941462613 0.7328597870107689 0.9785917361775158 SVR {'C': 100, 'kernel': 'rbf', 'epsilon': 0.1, 'gamma': 0.05}\n",
      "Regression:  True\n",
      "sv\n",
      "{'C': 1000, 'kernel': 'rbf', 'epsilon': 0.1, 'gamma': 0.05}\n",
      "time:  2.408068\n",
      "0 0.6977922429496228 0.19620836539263511 0.4869140143206654 0.03849772265004981 0.4965421606245498 0.11579199414626733 0.7328597870107519 0.9785917361775156 SVR {'C': 1000, 'kernel': 'rbf', 'epsilon': 0.1, 'gamma': 0.05}\n",
      "Regression:  True\n",
      "sv\n",
      "{'C': 10, 'kernel': 'rbf', 'epsilon': 0.1, 'gamma': 0.05}\n",
      "time:  2.375711\n",
      "0 0.6977961019380687 0.19620824374898466 0.4869193998799636 0.03849767491506098 0.4965459419040823 0.11579314801464013 0.7328568322807263 0.9785917627225464 SVR {'C': 10, 'kernel': 'rbf', 'epsilon': 0.1, 'gamma': 0.05}\n",
      "Regression:  True\n",
      "sv\n",
      "{'C': 10, 'kernel': 'poly', 'epsilon': 0.1, 'gamma': 'scale'}\n",
      "time:  1.302929\n",
      "0 0.7029279515914966 0.20756043223545367 0.4941077051286173 0.043081333029768354 0.4912261044852204 0.11734990712418698 0.7289130447973526 0.9760428285145746 SVR {'C': 10, 'kernel': 'poly', 'epsilon': 0.1, 'gamma': 'scale'}\n",
      "Regression:  True\n",
      "sv\n",
      "{'C': 0.1, 'kernel': 'poly', 'epsilon': 0.1, 'gamma': 0.1}\n",
      "time:  1.187841\n",
      "0 0.7014070581391846 0.20140167390248354 0.49197186120746544 0.04056263425072232 0.4912560022134833 0.11379046575158396 0.7300848529261541 0.9774434559865249 SVR {'C': 0.1, 'kernel': 'poly', 'epsilon': 0.1, 'gamma': 0.1}\n",
      "Regression:  True\n",
      "sv\n",
      "{'C': 1, 'kernel': 'rbf', 'epsilon': 0.01, 'gamma': 'scale'}\n",
      "time:  2.299707\n",
      "0 0.5965519761057038 0.47514739353319435 0.35587426019562013 0.22576504558138824 0.4275649470984658 0.26935151982117 0.80475335917639 0.8744539332459627 SVR {'C': 1, 'kernel': 'rbf', 'epsilon': 0.01, 'gamma': 'scale'}\n",
      "Regression:  True\n",
      "sv\n",
      "{'C': 1, 'kernel': 'poly', 'epsilon': 0.1, 'gamma': 0.05}\n",
      "time:  0.971451\n",
      "0 0.7014494113191972 0.2009486613600567 0.49203127664004837 0.04038036450239875 0.4913822557179495 0.11338362034926784 0.730052255278832 0.9775448146797245 SVR {'C': 1, 'kernel': 'poly', 'epsilon': 0.1, 'gamma': 0.05}\n",
      "Regression:  True\n",
      "sv\n",
      "{'C': 1000, 'kernel': 'poly', 'epsilon': 0.1, 'gamma': 'scale'}\n",
      "time:  1.004726\n",
      "0 0.7015734409332285 0.20086774414171416 0.4922052930228902 0.04034785063658114 0.4915048021368005 0.11324829844449814 0.7299567830348448 0.9775628953704615 SVR {'C': 1000, 'kernel': 'poly', 'epsilon': 0.1, 'gamma': 'scale'}\n",
      "Regression:  True\n",
      "sv\n",
      "{'C': 100, 'kernel': 'poly', 'epsilon': 0.1, 'gamma': 'scale'}\n",
      "time:  0.976346\n",
      "0 0.7015734409332436 0.2008677441416337 0.49220529302291144 0.04034785063654882 0.49150480213679326 0.11324829844447566 0.7299567830348331 0.9775628953704795 SVR {'C': 100, 'kernel': 'poly', 'epsilon': 0.1, 'gamma': 'scale'}\n",
      "Regression:  True\n",
      "sv\n",
      "{'C': 1000, 'kernel': 'poly', 'epsilon': 0.1, 'gamma': 0.1}\n",
      "time:  1.005403\n",
      "0 0.7015702919080123 0.2008717184738303 0.4922008744878936 0.04034944728262974 0.49149312958373975 0.11325345322516686 0.7299592072172372 0.9775620074888548 SVR {'C': 1000, 'kernel': 'poly', 'epsilon': 0.1, 'gamma': 0.1}\n",
      "Regression:  True\n",
      "sv\n",
      "{'C': 100, 'kernel': 'poly', 'epsilon': 0.1, 'gamma': 0.05}\n",
      "time:  0.969913\n",
      "0 0.7015702918993008 0.20087171849397226 0.49220087447567 0.04034944729072163 0.49149312956429686 0.11325345322621691 0.7299592072239434 0.977562007484355 SVR {'C': 100, 'kernel': 'poly', 'epsilon': 0.1, 'gamma': 0.05}\n",
      "Regression:  True\n",
      "sv\n",
      "{'C': 10, 'kernel': 'poly', 'epsilon': 0.1, 'gamma': 0.05}\n",
      "time:  0.996992\n",
      "0 0.7015702918992169 0.20087171849403893 0.4922008744755525 0.040349447290748415 0.4914931295642803 0.11325345322626527 0.729959207224008 0.9775620074843401 SVR {'C': 10, 'kernel': 'poly', 'epsilon': 0.1, 'gamma': 0.05}\n",
      "Regression:  True\n",
      "sv\n",
      "{'C': 1, 'kernel': 'poly', 'epsilon': 0.1, 'gamma': 0.1}\n",
      "time:  0.926075\n",
      "0 0.7015702918992286 0.20087171849403462 0.4922008744755689 0.040349447290746694 0.49149312956428987 0.11325345322626469 0.7299592072239989 0.9775620074843411 SVR {'C': 1, 'kernel': 'poly', 'epsilon': 0.1, 'gamma': 0.1}\n",
      "Regression:  True\n",
      "sv\n",
      "{'C': 10, 'kernel': 'poly', 'epsilon': 0.1, 'gamma': 0.1}\n",
      "time:  0.968782\n",
      "0 0.7015702918992611 0.20087171849395516 0.4922008744756145 0.04034944729071477 0.491493129564444 0.11325345322624428 0.7299592072239739 0.9775620074843588 SVR {'C': 10, 'kernel': 'poly', 'epsilon': 0.1, 'gamma': 0.1}\n",
      "Regression:  True\n",
      "sv\n",
      "{'C': 100, 'kernel': 'poly', 'epsilon': 0.1, 'gamma': 0.1}\n",
      "time:  0.947849\n",
      "0 0.7015702918980642 0.20087171849492863 0.492200874473935 0.04034944729110585 0.49149312956345154 0.11325345322617486 0.7299592072248953 0.9775620074841413 SVR {'C': 100, 'kernel': 'poly', 'epsilon': 0.1, 'gamma': 0.1}\n",
      "Regression:  True\n",
      "sv\n",
      "{'C': 1000, 'kernel': 'poly', 'epsilon': 0.1, 'gamma': 0.05}\n",
      "time:  0.916988\n",
      "0 0.701570291896911 0.20087171849468508 0.4922008744723169 0.040349447291008006 0.49149312956226554 0.11325345322648572 0.729959207225783 0.9775620074841957 SVR {'C': 1000, 'kernel': 'poly', 'epsilon': 0.1, 'gamma': 0.05}\n"
     ]
    },
    {
     "name": "stderr",
     "output_type": "stream",
     "text": [
      "\n",
      "A value is trying to be set on a copy of a slice from a DataFrame\n",
      "\n",
      "See the caveats in the documentation: https://pandas.pydata.org/pandas-docs/stable/user_guide/indexing.html#returning-a-view-versus-a-copy\n",
      "overflow encountered in reduce                    \n",
      "100%|██████████| 1513/1513 [04:11<00:00,  6.02it/s]\n"
     ]
    },
    {
     "name": "stdout",
     "output_type": "stream",
     "text": [
      "Regression:  True\n",
      "gb\n",
      "{'max_depth': 3, 'loss': 'squared_error', 'n_estimators': 200, 'learning_rate': 0.1, 'min_impurity_decrease': 0.2}\n",
      "time:  99.899337\n",
      "0 0.6686723931153679 0.35036042412742124 0.447122769314633 0.12275242679474652 0.5133730318746819 0.2675791217202839 0.754690831822328 0.9317383949809112 GradientBoostingRegressor {'max_depth': 3, 'loss': 'squared_error', 'n_estimators': 200, 'learning_rate': 0.1, 'min_impurity_decrease': 0.2}\n",
      "Regression:  True\n",
      "gb\n",
      "{'max_depth': 3, 'loss': 'squared_error', 'n_estimators': 200, 'learning_rate': 0.1, 'min_impurity_decrease': 0}\n",
      "time:  99.990434\n",
      "0 0.6554149679408112 0.3493761804882955 0.42956878020085465 0.12206371549259001 0.506437202151736 0.2677919609487135 0.7643216418888821 0.9321213816159419 GradientBoostingRegressor {'max_depth': 3, 'loss': 'squared_error', 'n_estimators': 200, 'learning_rate': 0.1, 'min_impurity_decrease': 0}\n",
      "Regression:  True\n",
      "gb\n",
      "{'max_depth': 3, 'loss': 'squared_error', 'n_estimators': 200, 'learning_rate': 0.1, 'min_impurity_decrease': 0.1}\n",
      "time:  99.917382\n",
      "0 0.6744909573637159 0.3515948074240607 0.454938051565422 0.12361890860756233 0.516382920734772 0.26993215570811363 0.750403060052276 0.9312565516413773 GradientBoostingRegressor {'max_depth': 3, 'loss': 'squared_error', 'n_estimators': 200, 'learning_rate': 0.1, 'min_impurity_decrease': 0.1}\n",
      "Regression:  True\n",
      "gb\n",
      "{'max_depth': 3, 'loss': 'squared_error', 'n_estimators': 200, 'learning_rate': 0.1, 'min_impurity_decrease': 0.1}\n",
      "time:  99.842597\n",
      "0 0.6744909573637159 0.3515948074240607 0.454938051565422 0.12361890860756233 0.516382920734772 0.26993215570811363 0.750403060052276 0.9312565516413773 GradientBoostingRegressor {'max_depth': 3, 'loss': 'squared_error', 'n_estimators': 200, 'learning_rate': 0.1, 'min_impurity_decrease': 0.1}\n"
     ]
    },
    {
     "name": "stderr",
     "output_type": "stream",
     "text": [
      "\n",
      "A value is trying to be set on a copy of a slice from a DataFrame\n",
      "\n",
      "See the caveats in the documentation: https://pandas.pydata.org/pandas-docs/stable/user_guide/indexing.html#returning-a-view-versus-a-copy\n",
      "overflow encountered in reduce                    \n",
      "100%|██████████| 1513/1513 [04:15<00:00,  5.92it/s]\n"
     ]
    },
    {
     "name": "stdout",
     "output_type": "stream",
     "text": [
      "Regression:  True\n",
      "gb\n",
      "{'max_depth': 3, 'loss': 'squared_error', 'n_estimators': 100, 'learning_rate': 0.1, 'min_impurity_decrease': 0.1}\n",
      "time:  49.851493\n",
      "0 0.6772776723913518 0.4724613374237975 0.4587050455198473 0.22321971536028343 0.5247050252595592 0.3720857797632126 0.7483363387468349 0.8758693702416542 GradientBoostingRegressor {'max_depth': 3, 'loss': 'squared_error', 'n_estimators': 100, 'learning_rate': 0.1, 'min_impurity_decrease': 0.1}\n",
      "Regression:  True\n",
      "gb\n",
      "{'max_depth': 3, 'loss': 'squared_error', 'n_estimators': 100, 'learning_rate': 0.1, 'min_impurity_decrease': 0}\n",
      "time:  50.071933\n",
      "0 0.672663334689263 0.4724837425575823 0.45247596183527944 0.2232408869812197 0.5220661133862281 0.3716624699051966 0.7517538594861896 0.8758575968790927 GradientBoostingRegressor {'max_depth': 3, 'loss': 'squared_error', 'n_estimators': 100, 'learning_rate': 0.1, 'min_impurity_decrease': 0}\n",
      "Regression:  True\n",
      "gb\n",
      "{'max_depth': 3, 'loss': 'squared_error', 'n_estimators': 200, 'learning_rate': 0.1, 'min_impurity_decrease': 0}\n",
      "time:  99.712057\n",
      "0 0.6554149679408112 0.3493761804882955 0.42956878020085465 0.12206371549259001 0.506437202151736 0.2677919609487135 0.7643216418888821 0.9321213816159419 GradientBoostingRegressor {'max_depth': 3, 'loss': 'squared_error', 'n_estimators': 200, 'learning_rate': 0.1, 'min_impurity_decrease': 0}\n",
      "Regression:  True\n",
      "gb\n",
      "{'max_depth': 3, 'loss': 'squared_error', 'n_estimators': 100, 'learning_rate': 0.1, 'min_impurity_decrease': 0.2}\n",
      "time:  49.762963\n",
      "0 0.6777944395609563 0.4735277566368794 0.4594053022997508 0.2242285363055557 0.524486698658334 0.3718539556901302 0.7479521502868014 0.8753083732927605 GradientBoostingRegressor {'max_depth': 3, 'loss': 'squared_error', 'n_estimators': 100, 'learning_rate': 0.1, 'min_impurity_decrease': 0.2}\n",
      "Regression:  True\n",
      "nn\n",
      "{'hidden_layer_sizes': (100,), 'activation': 'tanh', 'alpha': 0.001, 'max_iter': 1000, 'solver': 'sgd'}\n",
      "time:  16.253131\n",
      "0 0.7455600054423004 0.6960603775248736 0.555859721715123 0.4845000491600695 0.5618677411139746 0.5397510541170384 0.6950334554278614 0.7305735466819363 MLPRegressor {'hidden_layer_sizes': (100,), 'activation': 'tanh', 'alpha': 0.001, 'max_iter': 1000, 'solver': 'sgd'}\n",
      "Regression:  True\n",
      "nn\n",
      "{'hidden_layer_sizes': (50, 50), 'activation': 'relu', 'alpha': 0.01, 'max_iter': 200, 'solver': 'sgd'}\n"
     ]
    },
    {
     "name": "stderr",
     "output_type": "stream",
     "text": [
      "Stochastic Optimizer: Maximum iterations (200) reached and the optimization hasn't converged yet.\n"
     ]
    },
    {
     "name": "stdout",
     "output_type": "stream",
     "text": [
      "time:  5.611626\n",
      "0 0.8163772268924236 0.7407681612480838 0.6664717765885637 0.5487374687188671 0.6380407057328319 0.5789093979737922 0.6343473239364614 0.6948516511897992 MLPRegressor {'hidden_layer_sizes': (50, 50), 'activation': 'relu', 'alpha': 0.01, 'max_iter': 200, 'solver': 'sgd'}\n",
      "Regression:  True\n",
      "nn\n",
      "{'hidden_layer_sizes': (100,), 'activation': 'logistic', 'alpha': 0.0001, 'max_iter': 1000, 'solver': 'sgd'}\n"
     ]
    },
    {
     "name": "stderr",
     "output_type": "stream",
     "text": [
      "Stochastic Optimizer: Maximum iterations (1000) reached and the optimization hasn't converged yet.\n"
     ]
    },
    {
     "name": "stdout",
     "output_type": "stream",
     "text": [
      "time:  33.994777\n",
      "0 0.8167523520542024 0.7648854756098882 0.6670844045860718 0.5850497907989649 0.6420589546559884 0.5950941156487135 0.6340112120790817 0.6746586704733994 MLPRegressor {'hidden_layer_sizes': (100,), 'activation': 'logistic', 'alpha': 0.0001, 'max_iter': 1000, 'solver': 'sgd'}\n",
      "Regression:  True\n",
      "nn\n",
      "{'hidden_layer_sizes': (50,), 'activation': 'relu', 'alpha': 0.01, 'max_iter': 200, 'solver': 'sgd'}\n"
     ]
    },
    {
     "name": "stderr",
     "output_type": "stream",
     "text": [
      "Stochastic Optimizer: Maximum iterations (200) reached and the optimization hasn't converged yet.\n"
     ]
    },
    {
     "name": "stdout",
     "output_type": "stream",
     "text": [
      "time:  4.325339\n",
      "0 0.8197370657486921 0.7704503483816437 0.6719688569622755 0.5935937393213961 0.645257438863776 0.5988314445074882 0.631331409054855 0.6699074516619228 MLPRegressor {'hidden_layer_sizes': (50,), 'activation': 'relu', 'alpha': 0.01, 'max_iter': 200, 'solver': 'sgd'}\n",
      "Regression:  True\n",
      "nn\n",
      "{'hidden_layer_sizes': (100,), 'activation': 'tanh', 'alpha': 0.001, 'max_iter': 500, 'solver': 'sgd'}\n"
     ]
    },
    {
     "name": "stderr",
     "output_type": "stream",
     "text": [
      "Stochastic Optimizer: Maximum iterations (500) reached and the optimization hasn't converged yet.\n"
     ]
    },
    {
     "name": "stdout",
     "output_type": "stream",
     "text": [
      "time:  14.792917\n",
      "0 0.7649405867759155 0.6986622723072939 0.5851341012970819 0.4881289707455913 0.583582378593465 0.5480049249660555 0.6789723773593581 0.728555533528271 MLPRegressor {'hidden_layer_sizes': (100,), 'activation': 'tanh', 'alpha': 0.001, 'max_iter': 500, 'solver': 'sgd'}\n",
      "Regression:  True\n",
      "nn\n",
      "{'hidden_layer_sizes': (100,), 'activation': 'tanh', 'alpha': 0.001, 'max_iter': 200, 'solver': 'sgd'}\n"
     ]
    },
    {
     "name": "stderr",
     "output_type": "stream",
     "text": [
      "Stochastic Optimizer: Maximum iterations (200) reached and the optimization hasn't converged yet.\n"
     ]
    },
    {
     "name": "stdout",
     "output_type": "stream",
     "text": [
      "time:  5.946285\n",
      "0 0.8575463263152197 0.7802801302568088 0.7353857017767291 0.6088370816735825 0.6873970643875655 0.6141796303049772 0.5965384293241827 0.6614307555835994 MLPRegressor {'hidden_layer_sizes': (100,), 'activation': 'tanh', 'alpha': 0.001, 'max_iter': 200, 'solver': 'sgd'}\n",
      "Regression:  True\n",
      "nn\n",
      "{'hidden_layer_sizes': (50, 50), 'activation': 'tanh', 'alpha': 0.0001, 'max_iter': 500, 'solver': 'sgd'}\n",
      "time:  8.769356\n",
      "0 0.7928706694908075 0.7068420162533244 0.6286438985388013 0.4996256359410649 0.6125290908845727 0.5589127885428044 0.6551011882778763 0.7221623334987322 MLPRegressor {'hidden_layer_sizes': (50, 50), 'activation': 'tanh', 'alpha': 0.0001, 'max_iter': 500, 'solver': 'sgd'}\n",
      "Regression:  True\n",
      "nn\n",
      "{'hidden_layer_sizes': (50,), 'activation': 'logistic', 'alpha': 0.0001, 'max_iter': 1000, 'solver': 'sgd'}\n"
     ]
    },
    {
     "name": "stderr",
     "output_type": "stream",
     "text": [
      "Stochastic Optimizer: Maximum iterations (1000) reached and the optimization hasn't converged yet.\n"
     ]
    },
    {
     "name": "stdout",
     "output_type": "stream",
     "text": [
      "time:  24.634255\n",
      "0 0.812259968491485 0.764078057837057 0.659766256413788 0.583815278468049 0.6356842264645225 0.5948975750695342 0.6380262365062557 0.6753451725273677 MLPRegressor {'hidden_layer_sizes': (50,), 'activation': 'logistic', 'alpha': 0.0001, 'max_iter': 1000, 'solver': 'sgd'}\n",
      "Regression:  True\n",
      "nn\n",
      "{'hidden_layer_sizes': (100,), 'activation': 'logistic', 'alpha': 0.001, 'max_iter': 1000, 'solver': 'sgd'}\n"
     ]
    },
    {
     "name": "stderr",
     "output_type": "stream",
     "text": [
      "Stochastic Optimizer: Maximum iterations (1000) reached and the optimization hasn't converged yet.\n"
     ]
    },
    {
     "name": "stdout",
     "output_type": "stream",
     "text": [
      "time:  33.759462\n",
      "0 0.8167614501345019 0.7648968124884273 0.6670992664258143 0.5850671337549563 0.642070928697454 0.5951038973544213 0.6340030582882328 0.6746490261996148 MLPRegressor {'hidden_layer_sizes': (100,), 'activation': 'logistic', 'alpha': 0.001, 'max_iter': 1000, 'solver': 'sgd'}\n",
      "Regression:  True\n",
      "sv\n",
      "{'C': 10, 'kernel': 'rbf', 'epsilon': 0.1, 'gamma': 'scale'}\n",
      "time:  0.960487\n",
      "0 0.6480912401099003 0.4806665443359366 0.42002225550718847 0.23104032684385087 0.47338542801570216 0.2968928986628839 0.7695592414751893 0.8715203931498069 SVR {'C': 10, 'kernel': 'rbf', 'epsilon': 0.1, 'gamma': 'scale'}\n",
      "Regression:  True\n",
      "sv\n",
      "{'C': 10, 'kernel': 'rbf', 'epsilon': 0.1, 'gamma': 'scale'}\n",
      "time:  0.988475\n",
      "0 0.6480912401099003 0.4806665443359366 0.42002225550718847 0.23104032684385087 0.47338542801570216 0.2968928986628839 0.7695592414751893 0.8715203931498069 SVR {'C': 10, 'kernel': 'rbf', 'epsilon': 0.1, 'gamma': 'scale'}\n",
      "Regression:  True\n",
      "sv\n",
      "{'C': 0.1, 'kernel': 'linear', 'epsilon': 0.1, 'gamma': 0.1}\n",
      "time:  0.536408\n",
      "0 0.7726733263039159 0.7310122061821388 0.5970240691815578 0.5343788455872778 0.5862036119490592 0.5348547473546297 0.6724490725053671 0.7028363622575925 SVR {'C': 0.1, 'kernel': 'linear', 'epsilon': 0.1, 'gamma': 0.1}\n",
      "Regression:  True\n",
      "sv\n",
      "{'C': 0.1, 'kernel': 'linear', 'epsilon': 0.1, 'gamma': 0.05}\n",
      "time:  0.538677\n",
      "0 0.7726733263039159 0.7310122061821388 0.5970240691815578 0.5343788455872778 0.5862036119490592 0.5348547473546297 0.6724490725053671 0.7028363622575925 SVR {'C': 0.1, 'kernel': 'linear', 'epsilon': 0.1, 'gamma': 0.05}\n",
      "Regression:  True\n",
      "sv\n",
      "{'C': 0.1, 'kernel': 'linear', 'epsilon': 0.1, 'gamma': 'scale'}\n",
      "time:  0.544184\n",
      "0 0.7726733263039159 0.7310122061821388 0.5970240691815578 0.5343788455872778 0.5862036119490592 0.5348547473546297 0.6724490725053671 0.7028363622575925 SVR {'C': 0.1, 'kernel': 'linear', 'epsilon': 0.1, 'gamma': 'scale'}\n",
      "Regression:  True\n",
      "sv\n",
      "{'C': 10, 'kernel': 'rbf', 'epsilon': 0.01, 'gamma': 'scale'}\n",
      "time:  1.10724\n",
      "0 0.6560346711170546 0.4822871085752417 0.43038148970766194 0.232600855097867 0.47923642843132574 0.2680818970841831 0.7638757574321576 0.870652596348731 SVR {'C': 10, 'kernel': 'rbf', 'epsilon': 0.01, 'gamma': 'scale'}\n",
      "Regression:  True\n",
      "sv\n",
      "{'C': 0.01, 'kernel': 'linear', 'epsilon': 0.01, 'gamma': 'scale'}\n",
      "time:  0.592892\n",
      "0 0.8760210137546961 0.8323386276202085 0.7674128165398055 0.692787591028692 0.6891158726239565 0.6269926606030152 0.5789670922757386 0.6147465745829916 SVR {'C': 0.01, 'kernel': 'linear', 'epsilon': 0.01, 'gamma': 'scale'}\n",
      "Regression:  True\n",
      "sv\n",
      "{'C': 0.01, 'kernel': 'linear', 'epsilon': 0.01, 'gamma': 0.1}\n",
      "time:  0.582242\n",
      "0 0.8760210137546961 0.8323386276202085 0.7674128165398055 0.692787591028692 0.6891158726239565 0.6269926606030152 0.5789670922757386 0.6147465745829916 SVR {'C': 0.01, 'kernel': 'linear', 'epsilon': 0.01, 'gamma': 0.1}\n",
      "Regression:  True\n",
      "sv\n",
      "{'C': 0.01, 'kernel': 'linear', 'epsilon': 0.01, 'gamma': 0.05}\n",
      "time:  0.585908\n",
      "0 0.8760210137546961 0.8323386276202085 0.7674128165398055 0.692787591028692 0.6891158726239565 0.6269926606030152 0.5789670922757386 0.6147465745829916 SVR {'C': 0.01, 'kernel': 'linear', 'epsilon': 0.01, 'gamma': 0.05}\n",
      "Regression:  True\n",
      "sv\n",
      "{'C': 1000, 'kernel': 'rbf', 'epsilon': 0.1, 'gamma': 'scale'}\n",
      "time:  1.282899\n",
      "0 0.7748159899529768 0.1980219229548216 0.6003398182868116 0.0392126819707253 0.5395020553388165 0.11651455790020564 0.6706299219035258 0.9781941532373896 SVR {'C': 1000, 'kernel': 'rbf', 'epsilon': 0.1, 'gamma': 'scale'}\n",
      "Regression:  True\n",
      "xg\n",
      "{'max_depth': 3, 'eta': 0.2, 'gamma': 0}\n",
      "time:  2.14171\n",
      "0 0.6618606861623169 0.35406824971038037 0.4380595678872529 0.12536432545297227 0.5119734955470235 0.2636846969988193 0.7596632612214955 0.9302859398302213 XGBRegressor {'max_depth': 3, 'eta': 0.2, 'gamma': 0}\n",
      "Regression:  True\n",
      "xg\n",
      "{'max_depth': 3, 'eta': 0.2, 'gamma': 0.01}\n",
      "time:  2.346511\n",
      "0 0.6619276224672365 0.3540771578287378 0.43814817738512835 0.1253706336960769 0.512072784336873 0.26366360740276845 0.7596146465596886 0.930282431868624 XGBRegressor {'max_depth': 3, 'eta': 0.2, 'gamma': 0.01}\n",
      "Regression:  True\n",
      "xg\n",
      "{'max_depth': 3, 'eta': 0.2, 'gamma': 0.1}\n",
      "time:  2.198376\n",
      "0 0.6596493468557053 0.35428646824769827 0.43513726080715864 0.12551890158342732 0.5101887067883542 0.26685993769418914 0.7612665540264594 0.9301999813279088 XGBRegressor {'max_depth': 3, 'eta': 0.2, 'gamma': 0.1}\n"
     ]
    },
    {
     "name": "stderr",
     "output_type": "stream",
     "text": [
      "\n",
      "A value is trying to be set on a copy of a slice from a DataFrame\n",
      "\n",
      "See the caveats in the documentation: https://pandas.pydata.org/pandas-docs/stable/user_guide/indexing.html#returning-a-view-versus-a-copy\n"
     ]
    },
    {
     "name": "stdout",
     "output_type": "stream",
     "text": [
      "Regression:  False\n",
      "nn\n",
      "{'hidden_layer_sizes': (50,), 'activation': 'relu', 'alpha': 0.01, 'max_iter': 200, 'solver': 'lbfgs'}\n"
     ]
    },
    {
     "name": "stderr",
     "output_type": "stream",
     "text": [
      "lbfgs failed to converge (status=1):\n",
      "STOP: TOTAL NO. of ITERATIONS REACHED LIMIT.\n",
      "\n",
      "Increase the number of iterations (max_iter) or scale the data as shown in:\n",
      "    https://scikit-learn.org/stable/modules/preprocessing.html\n"
     ]
    },
    {
     "name": "stdout",
     "output_type": "stream",
     "text": [
      "time:  5.258879\n",
      "0 0.7027439024390244 0.9829637280190082 0.7123287671232876 0.983731570920183 0.6896551724137931 0.98125 0.625 0.9788029925187033 0.6557377049180328 0.9800249687890137 MLPClassifier {'hidden_layer_sizes': (50,), 'activation': 'relu', 'alpha': 0.01, 'max_iter': 200, 'solver': 'lbfgs'}\n",
      "Regression:  False\n",
      "nn\n",
      "{'hidden_layer_sizes': (100,), 'activation': 'relu', 'alpha': 0.001, 'max_iter': 500, 'solver': 'sgd'}\n"
     ]
    },
    {
     "name": "stderr",
     "output_type": "stream",
     "text": [
      "Stochastic Optimizer: Maximum iterations (500) reached and the optimization hasn't converged yet.\n"
     ]
    },
    {
     "name": "stdout",
     "output_type": "stream",
     "text": [
      "time:  50.972598\n",
      "0 0.7497459349593496 0.8459869639206705 0.7625570776255708 0.8571428571428571 0.775 0.8525033829499323 0.6458333333333334 0.7855361596009975 0.7045454545454546 0.81765087605451 MLPClassifier {'hidden_layer_sizes': (100,), 'activation': 'relu', 'alpha': 0.001, 'max_iter': 500, 'solver': 'sgd'}\n",
      "Regression:  False\n",
      "nn\n",
      "{'hidden_layer_sizes': (50, 50), 'activation': 'relu', 'alpha': 0.0001, 'max_iter': 500, 'solver': 'sgd'}\n"
     ]
    },
    {
     "name": "stderr",
     "output_type": "stream",
     "text": [
      "Stochastic Optimizer: Maximum iterations (500) reached and the optimization hasn't converged yet.\n"
     ]
    },
    {
     "name": "stdout",
     "output_type": "stream",
     "text": [
      "time:  41.597915\n",
      "0 0.7154471544715446 0.9486969272098723 0.7214611872146118 0.951194712760549 0.6881720430107527 0.9445843828715366 0.6666666666666666 0.9351620947630923 0.6772486772486772 0.9398496240601504 MLPClassifier {'hidden_layer_sizes': (50, 50), 'activation': 'relu', 'alpha': 0.0001, 'max_iter': 500, 'solver': 'sgd'}\n",
      "Regression:  False\n",
      "rf\n",
      "{'max_depth': None, 'min_samples_split': 10, 'min_samples_leaf': 1, 'min_impurity_decrease': 0, 'n_estimators': 10}\n",
      "time:  0.124514\n",
      "0 0.7022357723577237 0.8962689841918808 0.7168949771689498 0.9028978139298424 0.717948717948718 0.8972691807542262 0.5833333333333334 0.8603491271820449 0.6436781609195402 0.8784213876511776 RandomForestClassifier {'max_depth': None, 'min_samples_split': 10, 'min_samples_leaf': 1, 'min_impurity_decrease': 0, 'n_estimators': 10}\n"
     ]
    },
    {
     "name": "stderr",
     "output_type": "stream",
     "text": [
      "\n",
      "A value is trying to be set on a copy of a slice from a DataFrame\n",
      "\n",
      "See the caveats in the documentation: https://pandas.pydata.org/pandas-docs/stable/user_guide/indexing.html#returning-a-view-versus-a-copy\n",
      "100%|██████████| 2186/2186 [06:54<00:00,  5.27it/s]\n"
     ]
    },
    {
     "name": "stdout",
     "output_type": "stream",
     "text": [
      "Regression:  False\n",
      "gb\n",
      "{'max_depth': 7, 'loss': 'exponential', 'n_estimators': 100, 'learning_rate': 1.0, 'min_impurity_decrease': 0.1}\n",
      "time:  65.526375\n",
      "0 0.7339939024390244 0.9833522417133131 0.7397260273972602 0.983731570920183 0.7096774193548387 0.9788557213930348 0.6875 0.9812967581047382 0.6984126984126984 0.9800747198007472 GradientBoostingClassifier {'max_depth': 7, 'loss': 'exponential', 'n_estimators': 100, 'learning_rate': 1.0, 'min_impurity_decrease': 0.1}\n",
      "Regression:  False\n",
      "gb\n",
      "{'max_depth': 7, 'loss': 'log_loss', 'n_estimators': 100, 'learning_rate': 0.1, 'min_impurity_decrease': 0.2}\n",
      "time:  80.985609\n",
      "0 0.7264989837398373 0.9812876606766346 0.7351598173515982 0.9822064056939501 0.7159090909090909 0.9799749687108886 0.65625 0.9763092269326683 0.6847826086956522 0.9781386633354153 GradientBoostingClassifier {'max_depth': 7, 'loss': 'log_loss', 'n_estimators': 100, 'learning_rate': 0.1, 'min_impurity_decrease': 0.2}\n",
      "Regression:  False\n",
      "gb\n",
      "{'max_depth': 7, 'loss': 'exponential', 'n_estimators': 100, 'learning_rate': 1.0, 'min_impurity_decrease': 0}\n",
      "time:  171.823692\n",
      "0 0.6911839430894309 0.9837407554076183 0.7031963470319634 0.983731570920183 0.6867469879518072 0.9764851485148515 0.59375 0.983790523690773 0.6368715083798883 0.9801242236024844 GradientBoostingClassifier {'max_depth': 7, 'loss': 'exponential', 'n_estimators': 100, 'learning_rate': 1.0, 'min_impurity_decrease': 0}\n",
      "Regression:  False\n",
      "gb\n",
      "{'max_depth': 3, 'loss': 'log_loss', 'n_estimators': 200, 'learning_rate': 0.1, 'min_impurity_decrease': 0.1}\n",
      "time:  148.679266\n",
      "0 0.7554623983739837 0.9500251517129921 0.7625570776255708 0.9532282663955262 0.7444444444444445 0.9516539440203562 0.6979166666666666 0.9326683291770573 0.7204301075268819 0.9420654911838791 GradientBoostingClassifier {'max_depth': 3, 'loss': 'log_loss', 'n_estimators': 200, 'learning_rate': 0.1, 'min_impurity_decrease': 0.1}\n",
      "Regression:  False\n",
      "gb\n",
      "{'max_depth': 7, 'loss': 'exponential', 'n_estimators': 10, 'learning_rate': 0.5, 'min_impurity_decrease': 0.1}\n",
      "time:  16.978015\n",
      "0 0.681910569105691 0.9711183414853424 0.6940639269406392 0.9740721911540416 0.6746987951807228 0.9807938540332907 0.5833333333333334 0.9551122194513716 0.6256983240223464 0.9677826910928616 GradientBoostingClassifier {'max_depth': 7, 'loss': 'exponential', 'n_estimators': 10, 'learning_rate': 0.5, 'min_impurity_decrease': 0.1}\n",
      "Regression:  False\n",
      "gb\n",
      "{'max_depth': 7, 'loss': 'exponential', 'n_estimators': 200, 'learning_rate': 0.1, 'min_impurity_decrease': 0.2}\n",
      "time:  155.960001\n",
      "0 0.7063008130081301 0.9825752143247033 0.7214611872146118 0.983731570920183 0.7272727272727273 0.9836683417085427 0.5833333333333334 0.9763092269326683 0.6473988439306358 0.9799749687108886 GradientBoostingClassifier {'max_depth': 7, 'loss': 'exponential', 'n_estimators': 200, 'learning_rate': 0.1, 'min_impurity_decrease': 0.2}\n",
      "Regression:  False\n",
      "gb\n",
      "{'max_depth': 3, 'loss': 'log_loss', 'n_estimators': 200, 'learning_rate': 0.1, 'min_impurity_decrease': 0.2}\n",
      "time:  148.965034\n",
      "0 0.7531758130081302 0.958875343829268 0.7625570776255708 0.961870869344179 0.7558139534883721 0.9630573248407643 0.6770833333333334 0.942643391521197 0.7142857142857142 0.952741020793951 GradientBoostingClassifier {'max_depth': 3, 'loss': 'log_loss', 'n_estimators': 200, 'learning_rate': 0.1, 'min_impurity_decrease': 0.2}\n",
      "Regression:  False\n",
      "gb\n",
      "{'max_depth': 3, 'loss': 'log_loss', 'n_estimators': 100, 'learning_rate': 0.5, 'min_impurity_decrease': 0.2}\n",
      "time:  53.227962\n",
      "0 0.7566056910569107 0.9672150096860851 0.7625570776255708 0.9689883070665989 0.7391304347826086 0.9660377358490566 0.7083333333333334 0.9576059850374065 0.723404255319149 0.9618033813400124 GradientBoostingClassifier {'max_depth': 3, 'loss': 'log_loss', 'n_estimators': 100, 'learning_rate': 0.5, 'min_impurity_decrease': 0.2}\n",
      "Regression:  False\n",
      "gb\n",
      "{'max_depth': 7, 'loss': 'exponential', 'n_estimators': 10, 'learning_rate': 1.0, 'min_impurity_decrease': 0.2}\n",
      "time:  17.156282\n",
      "0 0.7536839430894309 0.957117934776792 0.7579908675799086 0.9593289273004576 0.7263157894736842 0.9546599496221663 0.71875 0.9451371571072319 0.7225130890052356 0.949874686716792 GradientBoostingClassifier {'max_depth': 7, 'loss': 'exponential', 'n_estimators': 10, 'learning_rate': 1.0, 'min_impurity_decrease': 0.2}\n",
      "Regression:  False\n",
      "gb\n",
      "{'max_depth': 5, 'loss': 'exponential', 'n_estimators': 200, 'learning_rate': 0.1, 'min_impurity_decrease': 0.1}\n",
      "time:  246.16712\n",
      "0 0.7439024390243902 0.9833522417133131 0.7534246575342466 0.983731570920183 0.7441860465116279 0.9788557213930348 0.6666666666666666 0.9812967581047382 0.7032967032967034 0.9800747198007472 GradientBoostingClassifier {'max_depth': 5, 'loss': 'exponential', 'n_estimators': 200, 'learning_rate': 0.1, 'min_impurity_decrease': 0.1}\n",
      "Regression:  False\n",
      "gb\n",
      "{'max_depth': 7, 'loss': 'exponential', 'n_estimators': 200, 'learning_rate': 1.0, 'min_impurity_decrease': 0}\n",
      "time:  344.15268\n",
      "0 0.738694105691057 0.9833522417133131 0.7488584474885844 0.983731570920183 0.7411764705882353 0.9788557213930348 0.65625 0.9812967581047382 0.6961325966850829 0.9800747198007472 GradientBoostingClassifier {'max_depth': 7, 'loss': 'exponential', 'n_estimators': 200, 'learning_rate': 1.0, 'min_impurity_decrease': 0}\n",
      "Regression:  False\n",
      "gb\n",
      "{'max_depth': 5, 'loss': 'log_loss', 'n_estimators': 10, 'learning_rate': 1.0, 'min_impurity_decrease': 0.1}\n",
      "time:  12.359728\n",
      "0 0.7444105691056911 0.9260496826603021 0.7488584474885844 0.9303507880020335 0.7157894736842105 0.9246487867177522 0.7083333333333334 0.9027431421446384 0.7120418848167539 0.9135646687697161 GradientBoostingClassifier {'max_depth': 5, 'loss': 'log_loss', 'n_estimators': 10, 'learning_rate': 1.0, 'min_impurity_decrease': 0.1}\n",
      "Regression:  False\n",
      "gb\n",
      "{'max_depth': 7, 'loss': 'log_loss', 'n_estimators': 200, 'learning_rate': 0.5, 'min_impurity_decrease': 0}\n",
      "time:  342.942656\n",
      "0 0.7235772357723577 0.9823809574775508 0.730593607305936 0.983731570920183 0.7032967032967034 0.9848866498740554 0.6666666666666666 0.9750623441396509 0.6844919786096256 0.9799498746867167 GradientBoostingClassifier {'max_depth': 7, 'loss': 'log_loss', 'n_estimators': 200, 'learning_rate': 0.5, 'min_impurity_decrease': 0}\n",
      "Regression:  False\n",
      "gb\n",
      "{'max_depth': 3, 'loss': 'log_loss', 'n_estimators': 200, 'learning_rate': 0.5, 'min_impurity_decrease': 0.1}\n",
      "time:  92.226764\n",
      "0 0.7473323170731707 0.981481917523787 0.7534246575342466 0.9822064056939501 0.7282608695652174 0.978776529338327 0.6979166666666666 0.9775561097256857 0.7127659574468085 0.9781659388646288 GradientBoostingClassifier {'max_depth': 3, 'loss': 'log_loss', 'n_estimators': 200, 'learning_rate': 0.5, 'min_impurity_decrease': 0.1}\n",
      "Regression:  False\n",
      "gb\n",
      "{'max_depth': 5, 'loss': 'log_loss', 'n_estimators': 100, 'learning_rate': 0.1, 'min_impurity_decrease': 0.1}\n",
      "time:  122.820842\n",
      "0 0.7508892276422764 0.9766886431988698 0.7625570776255708 0.9781392984239959 0.7682926829268293 0.9773584905660377 0.65625 0.9688279301745636 0.7078651685393258 0.9730745147150908 GradientBoostingClassifier {'max_depth': 5, 'loss': 'log_loss', 'n_estimators': 100, 'learning_rate': 0.1, 'min_impurity_decrease': 0.1}\n",
      "Regression:  False\n",
      "gb\n",
      "{'max_depth': 5, 'loss': 'exponential', 'n_estimators': 100, 'learning_rate': 0.1, 'min_impurity_decrease': 0}\n",
      "time:  122.886144\n",
      "0 0.7416158536585367 0.9790288227928035 0.7534246575342466 0.9806812404677173 0.7560975609756098 0.9823232323232324 0.6458333333333334 0.970074812967581 0.6966292134831461 0.9761606022584692 GradientBoostingClassifier {'max_depth': 5, 'loss': 'exponential', 'n_estimators': 100, 'learning_rate': 0.1, 'min_impurity_decrease': 0}\n",
      "Regression:  False\n",
      "gb\n",
      "{'max_depth': 5, 'loss': 'log_loss', 'n_estimators': 200, 'learning_rate': 0.1, 'min_impurity_decrease': 0.1}\n",
      "time:  171.083216\n",
      "0 0.7560975609756095 0.982534543469652 0.7671232876712328 0.9832231825114387 0.7710843373493976 0.9800249687890137 0.6666666666666666 0.9788029925187033 0.7150837988826815 0.9794135995009358 GradientBoostingClassifier {'max_depth': 5, 'loss': 'log_loss', 'n_estimators': 200, 'learning_rate': 0.1, 'min_impurity_decrease': 0.1}\n",
      "Regression:  False\n",
      "nn\n",
      "{'hidden_layer_sizes': (50, 50), 'activation': 'relu', 'alpha': 0.0001, 'max_iter': 1000, 'solver': 'adam'}\n",
      "time:  8.431183\n",
      "0 0.7085873983739837 0.8038594500872284 0.7214611872146118 0.8210472801220132 0.7160493827160493 0.8260869565217391 0.6041666666666666 0.7107231920199502 0.655367231638418 0.7640750670241289 MLPClassifier {'hidden_layer_sizes': (50, 50), 'activation': 'relu', 'alpha': 0.0001, 'max_iter': 1000, 'solver': 'adam'}\n",
      "Regression:  False\n",
      "nn\n",
      "{'hidden_layer_sizes': (50, 50), 'activation': 'relu', 'alpha': 0.0001, 'max_iter': 1000, 'solver': 'sgd'}\n",
      "time:  18.942566\n",
      "0 0.7235772357723577 0.7544127877730566 0.730593607305936 0.759023894255211 0.7032967032967034 0.6947743467933492 0.6666666666666666 0.729426433915212 0.6844919786096256 0.7116788321167883 MLPClassifier {'hidden_layer_sizes': (50, 50), 'activation': 'relu', 'alpha': 0.0001, 'max_iter': 1000, 'solver': 'sgd'}\n",
      "Regression:  False\n",
      "nn\n",
      "{'hidden_layer_sizes': (100,), 'activation': 'relu', 'alpha': 0.001, 'max_iter': 200, 'solver': 'adam'}\n"
     ]
    },
    {
     "name": "stderr",
     "output_type": "stream",
     "text": [
      "Stochastic Optimizer: Maximum iterations (200) reached and the optimization hasn't converged yet.\n"
     ]
    },
    {
     "name": "stdout",
     "output_type": "stream",
     "text": [
      "time:  11.973698\n",
      "0 0.7496189024390244 0.8338927359712308 0.7534246575342466 0.8322318251143874 0.71875 0.7681818181818182 0.71875 0.8428927680798005 0.71875 0.8038049940546969 MLPClassifier {'hidden_layer_sizes': (100,), 'activation': 'relu', 'alpha': 0.001, 'max_iter': 200, 'solver': 'adam'}\n",
      "Regression:  False\n",
      "nn\n",
      "{'hidden_layer_sizes': (50,), 'activation': 'relu', 'alpha': 0.0001, 'max_iter': 1000, 'solver': 'adam'}\n",
      "time:  3.961146\n",
      "0 0.7037601626016261 0.7415506298631105 0.7031963470319634 0.7366548042704626 0.6476190476190476 0.6497890295358649 0.7083333333333334 0.7680798004987531 0.6766169154228856 0.704 MLPClassifier {'hidden_layer_sizes': (50,), 'activation': 'relu', 'alpha': 0.0001, 'max_iter': 1000, 'solver': 'adam'}\n",
      "Regression:  False\n",
      "nn\n",
      "{'hidden_layer_sizes': (50, 50), 'activation': 'tanh', 'alpha': 0.01, 'max_iter': 500, 'solver': 'adam'}\n",
      "time:  9.367541\n",
      "0 0.6740345528455284 0.7596812689306777 0.7031963470319634 0.7981698017285206 0.7924528301886793 0.9227557411273486 0.4375 0.5511221945137157 0.5637583892617449 0.6900858704137391 MLPClassifier {'hidden_layer_sizes': (50, 50), 'activation': 'tanh', 'alpha': 0.01, 'max_iter': 500, 'solver': 'adam'}\n",
      "Regression:  False\n",
      "nn\n",
      "{'hidden_layer_sizes': (100,), 'activation': 'relu', 'alpha': 0.01, 'max_iter': 200, 'solver': 'adam'}\n"
     ]
    },
    {
     "name": "stderr",
     "output_type": "stream",
     "text": [
      "Stochastic Optimizer: Maximum iterations (200) reached and the optimization hasn't converged yet.\n"
     ]
    },
    {
     "name": "stdout",
     "output_type": "stream",
     "text": [
      "time:  12.064484\n",
      "0 0.7588922764227641 0.8285889353868547 0.7625570776255708 0.8266395526182003 0.7291666666666666 0.7604519774011299 0.7291666666666666 0.8391521197007481 0.7291666666666665 0.7978660343805573 MLPClassifier {'hidden_layer_sizes': (100,), 'activation': 'relu', 'alpha': 0.01, 'max_iter': 200, 'solver': 'adam'}\n",
      "Regression:  False\n",
      "nn\n",
      "{'hidden_layer_sizes': (100,), 'activation': 'logistic', 'alpha': 0.01, 'max_iter': 500, 'solver': 'adam'}\n",
      "time:  12.165537\n",
      "0 0.6300813008130082 0.6794018173450493 0.6666666666666666 0.7295373665480427 0.7804878048780488 0.8515625 0.3333333333333333 0.4077306733167082 0.46715328467153283 0.551433389544688 MLPClassifier {'hidden_layer_sizes': (100,), 'activation': 'logistic', 'alpha': 0.01, 'max_iter': 500, 'solver': 'adam'}\n",
      "Regression:  False\n",
      "nn\n",
      "{'hidden_layer_sizes': (100,), 'activation': 'tanh', 'alpha': 0.001, 'max_iter': 200, 'solver': 'adam'}\n"
     ]
    },
    {
     "name": "stderr",
     "output_type": "stream",
     "text": [
      "Stochastic Optimizer: Maximum iterations (200) reached and the optimization hasn't converged yet.\n"
     ]
    },
    {
     "name": "stdout",
     "output_type": "stream",
     "text": [
      "time:  12.579901\n",
      "0 0.746189024390244 0.832234863485064 0.7534246575342466 0.8357905439755974 0.7333333333333333 0.7903030303030303 0.6875 0.8129675810473815 0.7096774193548386 0.8014751075599261 MLPClassifier {'hidden_layer_sizes': (100,), 'activation': 'tanh', 'alpha': 0.001, 'max_iter': 200, 'solver': 'adam'}\n",
      "Regression:  False\n",
      "nn\n",
      "{'hidden_layer_sizes': (50,), 'activation': 'logistic', 'alpha': 0.01, 'max_iter': 500, 'solver': 'adam'}\n",
      "time:  21.237413\n",
      "0 0.7080792682926829 0.7890504425631202 0.726027397260274 0.8083375699034062 0.75 0.8157503714710252 0.5625 0.6845386533665836 0.6428571428571429 0.7444067796610169 MLPClassifier {'hidden_layer_sizes': (50,), 'activation': 'logistic', 'alpha': 0.01, 'max_iter': 500, 'solver': 'adam'}\n",
      "Regression:  False\n",
      "nn\n",
      "{'hidden_layer_sizes': (50, 50), 'activation': 'logistic', 'alpha': 0.01, 'max_iter': 1000, 'solver': 'lbfgs'}\n"
     ]
    },
    {
     "name": "stderr",
     "output_type": "stream",
     "text": [
      "lbfgs failed to converge (status=1):\n",
      "STOP: TOTAL NO. of ITERATIONS REACHED LIMIT.\n",
      "\n",
      "Increase the number of iterations (max_iter) or scale the data as shown in:\n",
      "    https://scikit-learn.org/stable/modules/preprocessing.html\n"
     ]
    },
    {
     "name": "stdout",
     "output_type": "stream",
     "text": [
      "time:  29.38468\n",
      "0 0.7264989837398373 0.9742762193229373 0.7351598173515982 0.9771225216065074 0.7159090909090909 0.9846350832266325 0.65625 0.9588528678304239 0.6847826086956522 0.9715729627289955 MLPClassifier {'hidden_layer_sizes': (50, 50), 'activation': 'logistic', 'alpha': 0.01, 'max_iter': 1000, 'solver': 'lbfgs'}\n",
      "Regression:  False\n",
      "nn\n",
      "{'hidden_layer_sizes': (50, 50), 'activation': 'relu', 'alpha': 0.01, 'max_iter': 1000, 'solver': 'sgd'}\n",
      "time:  19.355118\n",
      "0 0.7287855691056911 0.7558132565581754 0.7351598173515982 0.7595322826639552 0.7065217391304348 0.6933019976498237 0.6770833333333334 0.7356608478802993 0.6914893617021278 0.7138535995160314 MLPClassifier {'hidden_layer_sizes': (50, 50), 'activation': 'relu', 'alpha': 0.01, 'max_iter': 1000, 'solver': 'sgd'}\n",
      "Regression:  False\n",
      "nn\n",
      "{'hidden_layer_sizes': (50,), 'activation': 'relu', 'alpha': 0.01, 'max_iter': 200, 'solver': 'lbfgs'}\n"
     ]
    },
    {
     "name": "stderr",
     "output_type": "stream",
     "text": [
      "lbfgs failed to converge (status=1):\n",
      "STOP: TOTAL NO. of ITERATIONS REACHED LIMIT.\n",
      "\n",
      "Increase the number of iterations (max_iter) or scale the data as shown in:\n",
      "    https://scikit-learn.org/stable/modules/preprocessing.html\n"
     ]
    },
    {
     "name": "stdout",
     "output_type": "stream",
     "text": [
      "time:  3.677717\n",
      "0 0.7167174796747966 0.7953795768090502 0.730593607305936 0.8073207930859176 0.7341772151898734 0.7823765020026703 0.6041666666666666 0.7306733167082294 0.6628571428571428 0.7556415215989685 MLPClassifier {'hidden_layer_sizes': (50,), 'activation': 'relu', 'alpha': 0.01, 'max_iter': 200, 'solver': 'lbfgs'}\n",
      "Regression:  False\n",
      "nn\n",
      "{'hidden_layer_sizes': (50, 50), 'activation': 'relu', 'alpha': 0.001, 'max_iter': 1000, 'solver': 'adam'}\n",
      "time:  9.078692\n",
      "0 0.7381859756097562 0.7994231160296684 0.7534246575342466 0.8190137264870361 0.7763157894736842 0.8348348348348348 0.6145833333333334 0.6932668329177057 0.686046511627907 0.7574931880108992 MLPClassifier {'hidden_layer_sizes': (50, 50), 'activation': 'relu', 'alpha': 0.001, 'max_iter': 1000, 'solver': 'adam'}\n",
      "Regression:  False\n",
      "nn\n",
      "{'hidden_layer_sizes': (50, 50), 'activation': 'logistic', 'alpha': 0.01, 'max_iter': 200, 'solver': 'adam'}\n",
      "time:  9.761295\n",
      "0 0.6185213414634145 0.6696301092761657 0.6575342465753424 0.7239450940518556 0.7837837837837838 0.8775510204081632 0.3020833333333333 0.37531172069825436 0.43609022556390975 0.525764192139738 MLPClassifier {'hidden_layer_sizes': (50, 50), 'activation': 'logistic', 'alpha': 0.01, 'max_iter': 200, 'solver': 'adam'}\n",
      "Regression:  False\n",
      "nn\n",
      "{'hidden_layer_sizes': (50, 50), 'activation': 'relu', 'alpha': 0.0001, 'max_iter': 500, 'solver': 'adam'}\n",
      "time:  8.655873\n",
      "0 0.7085873983739837 0.8038594500872284 0.7214611872146118 0.8210472801220132 0.7160493827160493 0.8260869565217391 0.6041666666666666 0.7107231920199502 0.655367231638418 0.7640750670241289 MLPClassifier {'hidden_layer_sizes': (50, 50), 'activation': 'relu', 'alpha': 0.0001, 'max_iter': 500, 'solver': 'adam'}\n",
      "Regression:  False\n",
      "nn\n",
      "{'hidden_layer_sizes': (50,), 'activation': 'tanh', 'alpha': 0.01, 'max_iter': 200, 'solver': 'adam'}\n"
     ]
    },
    {
     "name": "stderr",
     "output_type": "stream",
     "text": [
      "Stochastic Optimizer: Maximum iterations (200) reached and the optimization hasn't converged yet.\n"
     ]
    },
    {
     "name": "stdout",
     "output_type": "stream",
     "text": [
      "time:  8.967037\n",
      "0 0.7416158536585367 0.785485856175013 0.7534246575342466 0.8002033553634977 0.7560975609756098 0.7828492392807745 0.6458333333333334 0.7057356608478803 0.6966292134831461 0.7422950819672132 MLPClassifier {'hidden_layer_sizes': (50,), 'activation': 'tanh', 'alpha': 0.01, 'max_iter': 200, 'solver': 'adam'}\n",
      "Regression:  False\n",
      "nn\n",
      "{'hidden_layer_sizes': (100,), 'activation': 'relu', 'alpha': 0.01, 'max_iter': 1000, 'solver': 'adam'}\n",
      "time:  12.5599\n",
      "0 0.7507621951219512 0.8272922843106825 0.7534246575342466 0.822572445348246 0.7142857142857143 0.7475409836065574 0.7291666666666666 0.8528678304239401 0.7216494845360826 0.7967384973791497 MLPClassifier {'hidden_layer_sizes': (100,), 'activation': 'relu', 'alpha': 0.01, 'max_iter': 1000, 'solver': 'adam'}\n",
      "Regression:  False\n",
      "nn\n",
      "{'hidden_layer_sizes': (100,), 'activation': 'relu', 'alpha': 0.01, 'max_iter': 500, 'solver': 'adam'}\n",
      "time:  12.405546\n",
      "0 0.7507621951219512 0.8272922843106825 0.7534246575342466 0.822572445348246 0.7142857142857143 0.7475409836065574 0.7291666666666666 0.8528678304239401 0.7216494845360826 0.7967384973791497 MLPClassifier {'hidden_layer_sizes': (100,), 'activation': 'relu', 'alpha': 0.01, 'max_iter': 500, 'solver': 'adam'}\n",
      "Regression:  False\n",
      "nn\n",
      "{'hidden_layer_sizes': (100,), 'activation': 'tanh', 'alpha': 0.01, 'max_iter': 500, 'solver': 'adam'}\n",
      "time:  12.714024\n",
      "0 0.74072662601626 0.8223315102800937 0.730593607305936 0.8042704626334519 0.6528925619834711 0.6968838526912181 0.8229166666666666 0.9201995012468828 0.728110599078341 0.7931219774314884 MLPClassifier {'hidden_layer_sizes': (100,), 'activation': 'tanh', 'alpha': 0.01, 'max_iter': 500, 'solver': 'adam'}\n",
      "Regression:  False\n",
      "rf\n",
      "{'max_depth': 20, 'min_samples_split': 2, 'min_samples_leaf': 2, 'min_impurity_decrease': 0, 'n_estimators': 100}\n",
      "time:  4.955114\n",
      "0 0.7294207317073171 0.9804699624329732 0.7397260273972602 0.9816980172852059 0.7294117647058823 0.9811557788944724 0.6458333333333334 0.9738154613466334 0.6850828729281768 0.9774718397997497 RandomForestClassifier {'max_depth': 20, 'min_samples_split': 2, 'min_samples_leaf': 2, 'min_impurity_decrease': 0, 'n_estimators': 100}\n",
      "Regression:  False\n",
      "sv\n",
      "{'C': 1, 'kernel': 'poly', 'gamma': 0.1}\n",
      "time:  1.51569\n",
      "0 0.7432672764227641 0.9828823863089058 0.7488584474885844 0.9827147941026945 0.7204301075268817 0.9740740740740741 0.6979166666666666 0.983790523690773 0.708994708994709 0.9789081885856079 SVC {'C': 1, 'kernel': 'poly', 'gamma': 0.1}\n",
      "Regression:  False\n",
      "sv\n",
      "{'C': 0.01, 'kernel': 'poly', 'gamma': 0.1}\n",
      "time:  0.906936\n",
      "0 0.7398373983739837 0.8742360836107158 0.7488584474885844 0.8800203355363497 0.735632183908046 0.8600508905852418 0.6666666666666666 0.8428927680798005 0.6994535519125683 0.8513853904282115 SVC {'C': 0.01, 'kernel': 'poly', 'gamma': 0.1}\n",
      "Regression:  False\n",
      "xg\n",
      "{'max_depth': 5, 'eta': 0.1, 'gamma': 0.01}\n",
      "time:  5.689142\n",
      "0 0.7613058943089431 0.9752068327036486 0.771689497716895 0.9766141331977631 0.7738095238095238 0.9748743718592965 0.6770833333333334 0.9675810473815462 0.7222222222222222 0.9712140175219023 XGBClassifier {'max_depth': 5, 'eta': 0.1, 'gamma': 0.01}\n",
      "Regression:  False\n",
      "xg\n",
      "{'max_depth': 5, 'eta': 0.1, 'gamma': 0}\n",
      "time:  5.461205\n",
      "0 0.7613058943089431 0.9752068327036486 0.771689497716895 0.9766141331977631 0.7738095238095238 0.9748743718592965 0.6770833333333334 0.9675810473815462 0.7222222222222222 0.9712140175219023 XGBClassifier {'max_depth': 5, 'eta': 0.1, 'gamma': 0}\n",
      "Regression:  False\n",
      "xg\n",
      "{'max_depth': None, 'eta': 0.2, 'gamma': 0.01}\n",
      "time:  7.402735\n",
      "0 0.7572408536585367 0.9829637280190082 0.7671232876712328 0.983731570920183 0.7647058823529411 0.98125 0.6770833333333334 0.9788029925187033 0.7182320441988951 0.9800249687890137 XGBClassifier {'max_depth': None, 'eta': 0.2, 'gamma': 0.01}\n",
      "Regression:  False\n",
      "xg\n",
      "{'max_depth': 5, 'eta': 0.2, 'gamma': 0.01}\n",
      "time:  5.424615\n",
      "0 0.754319105691057 0.9829637280190082 0.7625570776255708 0.983731570920183 0.75 0.98125 0.6875 0.9788029925187033 0.717391304347826 0.9800249687890137 XGBClassifier {'max_depth': 5, 'eta': 0.2, 'gamma': 0.01}\n",
      "Regression:  False\n",
      "xg\n",
      "{'max_depth': 7, 'eta': 0.2, 'gamma': 0.01}\n",
      "time:  9.405578\n",
      "0 0.7531758130081302 0.9827694711718558 0.7625570776255708 0.983731570920183 0.7558139534883721 0.9824561403508771 0.6770833333333334 0.9775561097256857 0.7142857142857142 0.9799999999999999 XGBClassifier {'max_depth': 7, 'eta': 0.2, 'gamma': 0.01}\n",
      "Regression:  False\n",
      "xg\n",
      "{'max_depth': 5, 'eta': 0.2, 'gamma': 0.1}\n",
      "time:  5.425776\n",
      "0 0.7531758130081302 0.9827288003168044 0.7625570776255708 0.9832231825114387 0.7558139534883721 0.9788293897882939 0.6770833333333334 0.9800498753117207 0.7142857142857142 0.9794392523364486 XGBClassifier {'max_depth': 5, 'eta': 0.2, 'gamma': 0.1}\n",
      "Regression:  False\n",
      "xg\n",
      "{'max_depth': None, 'eta': 0.2, 'gamma': 0}\n",
      "time:  7.461727\n",
      "0 0.7531758130081302 0.9833522417133131 0.7625570776255708 0.983731570920183 0.7558139534883721 0.9788557213930348 0.6770833333333334 0.9812967581047382 0.7142857142857142 0.9800747198007472 XGBClassifier {'max_depth': None, 'eta': 0.2, 'gamma': 0}\n"
     ]
    },
    {
     "name": "stderr",
     "output_type": "stream",
     "text": [
      "\n",
      "A value is trying to be set on a copy of a slice from a DataFrame\n",
      "\n",
      "See the caveats in the documentation: https://pandas.pydata.org/pandas-docs/stable/user_guide/indexing.html#returning-a-view-versus-a-copy\n",
      "100%|██████████| 2186/2186 [06:54<00:00,  5.27it/s]\n"
     ]
    },
    {
     "name": "stdout",
     "output_type": "stream",
     "text": [
      "Regression:  False\n",
      "gb\n",
      "{'max_depth': 7, 'loss': 'exponential', 'n_estimators': 200, 'learning_rate': 1.0, 'min_impurity_decrease': 0}\n",
      "time:  344.610814\n",
      "0 0.738694105691057 0.9833522417133131 0.7488584474885844 0.983731570920183 0.7411764705882353 0.9788557213930348 0.65625 0.9812967581047382 0.6961325966850829 0.9800747198007472 GradientBoostingClassifier {'max_depth': 7, 'loss': 'exponential', 'n_estimators': 200, 'learning_rate': 1.0, 'min_impurity_decrease': 0}\n",
      "Regression:  False\n",
      "gb\n",
      "{'max_depth': 7, 'loss': 'log_loss', 'n_estimators': 200, 'learning_rate': 0.1, 'min_impurity_decrease': 0.1}\n",
      "time:  121.486714\n",
      "0 0.7531758130081302 0.9823402866224995 0.7625570776255708 0.9832231825114387 0.7558139534883721 0.981226533166458 0.6770833333333334 0.9775561097256857 0.7142857142857142 0.9793878825733916 GradientBoostingClassifier {'max_depth': 7, 'loss': 'log_loss', 'n_estimators': 200, 'learning_rate': 0.1, 'min_impurity_decrease': 0.1}\n",
      "Regression:  False\n",
      "gb\n",
      "{'max_depth': 5, 'loss': 'exponential', 'n_estimators': 200, 'learning_rate': 0.1, 'min_impurity_decrease': 0.1}\n",
      "time:  246.449673\n",
      "0 0.7439024390243902 0.9833522417133131 0.7534246575342466 0.983731570920183 0.7441860465116279 0.9788557213930348 0.6666666666666666 0.9812967581047382 0.7032967032967034 0.9800747198007472 GradientBoostingClassifier {'max_depth': 5, 'loss': 'exponential', 'n_estimators': 200, 'learning_rate': 0.1, 'min_impurity_decrease': 0.1}\n",
      "Regression:  False\n",
      "gb\n",
      "{'max_depth': 3, 'loss': 'log_loss', 'n_estimators': 200, 'learning_rate': 0.1, 'min_impurity_decrease': 0}\n",
      "time:  148.94684\n",
      "0 0.7554623983739837 0.9523246604518746 0.7625570776255708 0.9552618200305033 0.7444444444444445 0.9530456852791879 0.6979166666666666 0.9364089775561097 0.7204301075268819 0.9446540880503146 GradientBoostingClassifier {'max_depth': 3, 'loss': 'log_loss', 'n_estimators': 200, 'learning_rate': 0.1, 'min_impurity_decrease': 0}\n",
      "Regression:  False\n",
      "gb\n",
      "{'max_depth': 7, 'loss': 'exponential', 'n_estimators': 100, 'learning_rate': 1.0, 'min_impurity_decrease': 0.2}\n",
      "time:  57.564821\n",
      "0 0.7536839430894309 0.9835058277054146 0.7579908675799086 0.9832231825114387 0.7263157894736842 0.9741060419235512 0.71875 0.9850374064837906 0.7225130890052356 0.9795412275263485 GradientBoostingClassifier {'max_depth': 7, 'loss': 'exponential', 'n_estimators': 100, 'learning_rate': 1.0, 'min_impurity_decrease': 0.2}\n",
      "Regression:  False\n",
      "gb\n",
      "{'max_depth': 3, 'loss': 'log_loss', 'n_estimators': 200, 'learning_rate': 0.1, 'min_impurity_decrease': 0.2}\n",
      "time:  148.967297\n",
      "0 0.7531758130081302 0.958875343829268 0.7625570776255708 0.961870869344179 0.7558139534883721 0.9630573248407643 0.6770833333333334 0.942643391521197 0.7142857142857142 0.952741020793951 GradientBoostingClassifier {'max_depth': 3, 'loss': 'log_loss', 'n_estimators': 200, 'learning_rate': 0.1, 'min_impurity_decrease': 0.2}\n",
      "Regression:  False\n",
      "gb\n",
      "{'max_depth': 5, 'loss': 'log_loss', 'n_estimators': 200, 'learning_rate': 0.1, 'min_impurity_decrease': 0}\n",
      "time:  246.671495\n",
      "0 0.7219258130081301 0.9833522417133131 0.7351598173515982 0.983731570920183 0.7375 0.9788557213930348 0.6145833333333334 0.9812967581047382 0.6704545454545455 0.9800747198007472 GradientBoostingClassifier {'max_depth': 5, 'loss': 'log_loss', 'n_estimators': 200, 'learning_rate': 0.1, 'min_impurity_decrease': 0}\n",
      "Regression:  False\n",
      "gb\n",
      "{'max_depth': 5, 'loss': 'log_loss', 'n_estimators': 10, 'learning_rate': 1.0, 'min_impurity_decrease': 0.2}\n",
      "time:  12.372068\n",
      "0 0.6985518292682927 0.9443328374343112 0.6986301369863014 0.9476359938993391 0.6442307692307693 0.9440914866581956 0.6979166666666666 0.92643391521197 0.67 0.9351793580868469 GradientBoostingClassifier {'max_depth': 5, 'loss': 'log_loss', 'n_estimators': 10, 'learning_rate': 1.0, 'min_impurity_decrease': 0.2}\n",
      "Regression:  False\n",
      "gb\n",
      "{'max_depth': 3, 'loss': 'log_loss', 'n_estimators': 100, 'learning_rate': 0.5, 'min_impurity_decrease': 0.1}\n",
      "time:  67.094994\n",
      "0 0.7473323170731707 0.981481917523787 0.7534246575342466 0.9822064056939501 0.7282608695652174 0.978776529338327 0.6979166666666666 0.9775561097256857 0.7127659574468085 0.9781659388646288 GradientBoostingClassifier {'max_depth': 3, 'loss': 'log_loss', 'n_estimators': 100, 'learning_rate': 0.5, 'min_impurity_decrease': 0.1}\n",
      "Regression:  False\n",
      "gb\n",
      "{'max_depth': 5, 'loss': 'log_loss', 'n_estimators': 200, 'learning_rate': 0.1, 'min_impurity_decrease': 0.1}\n",
      "time:  170.999482\n",
      "0 0.7560975609756095 0.982534543469652 0.7671232876712328 0.9832231825114387 0.7710843373493976 0.9800249687890137 0.6666666666666666 0.9788029925187033 0.7150837988826815 0.9794135995009358 GradientBoostingClassifier {'max_depth': 5, 'loss': 'log_loss', 'n_estimators': 200, 'learning_rate': 0.1, 'min_impurity_decrease': 0.1}\n",
      "Regression:  False\n",
      "gb\n",
      "{'max_depth': 7, 'loss': 'exponential', 'n_estimators': 200, 'learning_rate': 0.5, 'min_impurity_decrease': 0}\n",
      "time:  343.401511\n",
      "0 0.7323424796747966 0.9821867006303983 0.7442922374429224 0.983731570920183 0.7439024390243902 0.9861111111111112 0.6354166666666666 0.9738154613466334 0.6853932584269662 0.9799247176913426 GradientBoostingClassifier {'max_depth': 7, 'loss': 'exponential', 'n_estimators': 200, 'learning_rate': 0.5, 'min_impurity_decrease': 0}\n",
      "Regression:  False\n",
      "gb\n",
      "{'max_depth': 7, 'loss': 'log_loss', 'n_estimators': 100, 'learning_rate': 0.1, 'min_impurity_decrease': 0}\n",
      "time:  171.010917\n",
      "0 0.7398373983739837 0.9835464985604657 0.7488584474885844 0.983731570920183 0.735632183908046 0.9776674937965261 0.6666666666666666 0.9825436408977556 0.6994535519125683 0.9800995024875622 GradientBoostingClassifier {'max_depth': 7, 'loss': 'log_loss', 'n_estimators': 100, 'learning_rate': 0.1, 'min_impurity_decrease': 0}\n",
      "Regression:  False\n",
      "gb\n",
      "{'max_depth': 7, 'loss': 'log_loss', 'n_estimators': 100, 'learning_rate': 0.1, 'min_impurity_decrease': 0.2}\n",
      "time:  81.238156\n",
      "0 0.7264989837398373 0.9812876606766346 0.7351598173515982 0.9822064056939501 0.7159090909090909 0.9799749687108886 0.65625 0.9763092269326683 0.6847826086956522 0.9781386633354153 GradientBoostingClassifier {'max_depth': 7, 'loss': 'log_loss', 'n_estimators': 100, 'learning_rate': 0.1, 'min_impurity_decrease': 0.2}\n",
      "Regression:  False\n",
      "gb\n",
      "{'max_depth': 7, 'loss': 'log_loss', 'n_estimators': 100, 'learning_rate': 0.1, 'min_impurity_decrease': 0.1}\n",
      "time:  96.954786\n",
      "0 0.7531758130081302 0.9823402866224995 0.7625570776255708 0.9832231825114387 0.7558139534883721 0.981226533166458 0.6770833333333334 0.9775561097256857 0.7142857142857142 0.9793878825733916 GradientBoostingClassifier {'max_depth': 7, 'loss': 'log_loss', 'n_estimators': 100, 'learning_rate': 0.1, 'min_impurity_decrease': 0.1}\n",
      "Regression:  False\n",
      "gb\n",
      "{'max_depth': 7, 'loss': 'log_loss', 'n_estimators': 200, 'learning_rate': 0.5, 'min_impurity_decrease': 0}\n",
      "time:  344.807489\n",
      "0 0.7235772357723577 0.9823809574775508 0.730593607305936 0.983731570920183 0.7032967032967034 0.9848866498740554 0.6666666666666666 0.9750623441396509 0.6844919786096256 0.9799498746867167 GradientBoostingClassifier {'max_depth': 7, 'loss': 'log_loss', 'n_estimators': 200, 'learning_rate': 0.5, 'min_impurity_decrease': 0}\n",
      "Regression:  False\n",
      "gb\n",
      "{'max_depth': 5, 'loss': 'log_loss', 'n_estimators': 100, 'learning_rate': 0.1, 'min_impurity_decrease': 0}\n",
      "time:  123.667629\n",
      "0 0.7311991869918699 0.9801943638757183 0.7442922374429224 0.9806812404677173 0.75 0.9751243781094527 0.625 0.9775561097256857 0.6818181818181818 0.9763387297633873 GradientBoostingClassifier {'max_depth': 5, 'loss': 'log_loss', 'n_estimators': 100, 'learning_rate': 0.1, 'min_impurity_decrease': 0}\n",
      "Regression:  False\n",
      "gb\n",
      "{'max_depth': 3, 'loss': 'log_loss', 'n_estimators': 200, 'learning_rate': 0.5, 'min_impurity_decrease': 0.1}\n",
      "time:  92.423062\n",
      "0 0.7473323170731707 0.981481917523787 0.7534246575342466 0.9822064056939501 0.7282608695652174 0.978776529338327 0.6979166666666666 0.9775561097256857 0.7127659574468085 0.9781659388646288 GradientBoostingClassifier {'max_depth': 3, 'loss': 'log_loss', 'n_estimators': 200, 'learning_rate': 0.5, 'min_impurity_decrease': 0.1}\n",
      "Regression:  False\n",
      "gb\n",
      "{'max_depth': 5, 'loss': 'exponential', 'n_estimators': 100, 'learning_rate': 0.1, 'min_impurity_decrease': 0}\n",
      "time:  122.869175\n",
      "0 0.7416158536585367 0.9790288227928035 0.7534246575342466 0.9806812404677173 0.7560975609756098 0.9823232323232324 0.6458333333333334 0.970074812967581 0.6966292134831461 0.9761606022584692 GradientBoostingClassifier {'max_depth': 5, 'loss': 'exponential', 'n_estimators': 100, 'learning_rate': 0.1, 'min_impurity_decrease': 0}\n",
      "Regression:  False\n",
      "nn\n",
      "{'hidden_layer_sizes': (50, 50), 'activation': 'tanh', 'alpha': 0.01, 'max_iter': 1000, 'solver': 'sgd'}\n",
      "time:  12.273193\n",
      "0 0.6392276422764228 0.6973456915650786 0.6666666666666666 0.7280122013218099 0.7017543859649122 0.7282051282051282 0.4166666666666667 0.5311720698254364 0.522875816993464 0.6142754145638067 MLPClassifier {'hidden_layer_sizes': (50, 50), 'activation': 'tanh', 'alpha': 0.01, 'max_iter': 1000, 'solver': 'sgd'}\n",
      "Regression:  False\n",
      "nn\n",
      "{'hidden_layer_sizes': (50,), 'activation': 'logistic', 'alpha': 0.001, 'max_iter': 200, 'solver': 'lbfgs'}\n"
     ]
    },
    {
     "name": "stderr",
     "output_type": "stream",
     "text": [
      "lbfgs failed to converge (status=1):\n",
      "STOP: TOTAL NO. of ITERATIONS REACHED LIMIT.\n",
      "\n",
      "Increase the number of iterations (max_iter) or scale the data as shown in:\n",
      "    https://scikit-learn.org/stable/modules/preprocessing.html\n"
     ]
    },
    {
     "name": "stdout",
     "output_type": "stream",
     "text": [
      "time:  4.266891\n",
      "0 0.7322154471544716 0.8835379362751918 0.7351598173515982 0.8845958312150483 0.6938775510204082 0.8451380552220888 0.7083333333333334 0.8778054862842892 0.7010309278350516 0.8611620795107034 MLPClassifier {'hidden_layer_sizes': (50,), 'activation': 'logistic', 'alpha': 0.001, 'max_iter': 200, 'solver': 'lbfgs'}\n",
      "Regression:  False\n",
      "nn\n",
      "{'hidden_layer_sizes': (100,), 'activation': 'tanh', 'alpha': 0.001, 'max_iter': 500, 'solver': 'sgd'}\n"
     ]
    },
    {
     "name": "stderr",
     "output_type": "stream",
     "text": [
      "Stochastic Optimizer: Maximum iterations (500) reached and the optimization hasn't converged yet.\n"
     ]
    },
    {
     "name": "stdout",
     "output_type": "stream",
     "text": [
      "time:  21.386343\n",
      "0 0.6698424796747967 0.714119743559556 0.6894977168949772 0.7361464158617184 0.7 0.7108792846497765 0.5104166666666666 0.5947630922693267 0.5903614457831324 0.6476578411405295 MLPClassifier {'hidden_layer_sizes': (100,), 'activation': 'tanh', 'alpha': 0.001, 'max_iter': 500, 'solver': 'sgd'}\n",
      "Regression:  False\n",
      "nn\n",
      "{'hidden_layer_sizes': (100,), 'activation': 'relu', 'alpha': 0.001, 'max_iter': 500, 'solver': 'sgd'}\n"
     ]
    },
    {
     "name": "stderr",
     "output_type": "stream",
     "text": [
      "Stochastic Optimizer: Maximum iterations (500) reached and the optimization hasn't converged yet.\n"
     ]
    },
    {
     "name": "stdout",
     "output_type": "stream",
     "text": [
      "time:  20.384099\n",
      "0 0.6657774390243902 0.7236340479273917 0.684931506849315 0.7458057956278596 0.6901408450704225 0.7267267267267268 0.5104166666666666 0.6034912718204489 0.5868263473053892 0.659400544959128 MLPClassifier {'hidden_layer_sizes': (100,), 'activation': 'relu', 'alpha': 0.001, 'max_iter': 500, 'solver': 'sgd'}\n",
      "Regression:  False\n",
      "nn\n",
      "{'hidden_layer_sizes': (100,), 'activation': 'relu', 'alpha': 0.0001, 'max_iter': 1000, 'solver': 'sgd'}\n",
      "time:  31.099185\n",
      "0 0.7063008130081301 0.7481018483833335 0.7214611872146118 0.7651245551601423 0.7272727272727273 0.7387640449438202 0.5833333333333334 0.655860349127182 0.6473988439306358 0.6948480845442535 MLPClassifier {'hidden_layer_sizes': (100,), 'activation': 'relu', 'alpha': 0.0001, 'max_iter': 1000, 'solver': 'sgd'}\n",
      "Regression:  False\n",
      "nn\n",
      "{'hidden_layer_sizes': (100,), 'activation': 'tanh', 'alpha': 0.01, 'max_iter': 200, 'solver': 'sgd'}\n"
     ]
    },
    {
     "name": "stderr",
     "output_type": "stream",
     "text": [
      "Stochastic Optimizer: Maximum iterations (200) reached and the optimization hasn't converged yet.\n"
     ]
    },
    {
     "name": "stdout",
     "output_type": "stream",
     "text": [
      "time:  10.79724\n",
      "0 0.6154725609756098 0.6600521229116051 0.6438356164383562 0.6964921199796644 0.6607142857142857 0.6908752327746741 0.3854166666666667 0.4625935162094763 0.4868421052631579 0.5541448842419716 MLPClassifier {'hidden_layer_sizes': (100,), 'activation': 'tanh', 'alpha': 0.01, 'max_iter': 200, 'solver': 'sgd'}\n",
      "Regression:  False\n",
      "nn\n",
      "{'hidden_layer_sizes': (50, 50), 'activation': 'tanh', 'alpha': 0.001, 'max_iter': 200, 'solver': 'sgd'}\n"
     ]
    },
    {
     "name": "stderr",
     "output_type": "stream",
     "text": [
      "Stochastic Optimizer: Maximum iterations (200) reached and the optimization hasn't converged yet.\n"
     ]
    },
    {
     "name": "stdout",
     "output_type": "stream",
     "text": [
      "time:  10.105776\n",
      "0 0.620045731707317 0.6968485438763605 0.6438356164383562 0.7193695983731571 0.640625 0.6860119047619048 0.4270833333333333 0.5748129675810474 0.5125 0.6255088195386703 MLPClassifier {'hidden_layer_sizes': (50, 50), 'activation': 'tanh', 'alpha': 0.001, 'max_iter': 200, 'solver': 'sgd'}\n",
      "Regression:  False\n",
      "nn\n",
      "{'hidden_layer_sizes': (50,), 'activation': 'relu', 'alpha': 0.01, 'max_iter': 500, 'solver': 'sgd'}\n"
     ]
    },
    {
     "name": "stderr",
     "output_type": "stream",
     "text": [
      "Stochastic Optimizer: Maximum iterations (500) reached and the optimization hasn't converged yet.\n"
     ]
    },
    {
     "name": "stdout",
     "output_type": "stream",
     "text": [
      "time:  18.545742\n",
      "0 0.6784806910569107 0.7301799150193187 0.6940639269406392 0.7402135231316725 0.6883116883116883 0.6834804539722572 0.5520833333333334 0.6758104738154613 0.6127167630057804 0.6796238244514107 MLPClassifier {'hidden_layer_sizes': (50,), 'activation': 'relu', 'alpha': 0.01, 'max_iter': 500, 'solver': 'sgd'}\n",
      "Regression:  False\n",
      "nn\n",
      "{'hidden_layer_sizes': (50,), 'activation': 'tanh', 'alpha': 0.01, 'max_iter': 500, 'solver': 'sgd'}\n"
     ]
    },
    {
     "name": "stderr",
     "output_type": "stream",
     "text": [
      "Stochastic Optimizer: Maximum iterations (500) reached and the optimization hasn't converged yet.\n"
     ]
    },
    {
     "name": "stdout",
     "output_type": "stream",
     "text": [
      "time:  19.269077\n",
      "0 0.6726371951219512 0.7176206479509382 0.684931506849315 0.726487036095577 0.6626506024096386 0.662962962962963 0.5729166666666666 0.669576059850374 0.6145251396648044 0.6662531017369726 MLPClassifier {'hidden_layer_sizes': (50,), 'activation': 'tanh', 'alpha': 0.01, 'max_iter': 500, 'solver': 'sgd'}\n",
      "Regression:  False\n",
      "nn\n",
      "{'hidden_layer_sizes': (50,), 'activation': 'relu', 'alpha': 0.001, 'max_iter': 500, 'solver': 'sgd'}\n"
     ]
    },
    {
     "name": "stderr",
     "output_type": "stream",
     "text": [
      "Stochastic Optimizer: Maximum iterations (500) reached and the optimization hasn't converged yet.\n"
     ]
    },
    {
     "name": "stdout",
     "output_type": "stream",
     "text": [
      "time:  18.309568\n",
      "0 0.6784806910569107 0.7301799150193187 0.6940639269406392 0.7402135231316725 0.6883116883116883 0.6834804539722572 0.5520833333333334 0.6758104738154613 0.6127167630057804 0.6796238244514107 MLPClassifier {'hidden_layer_sizes': (50,), 'activation': 'relu', 'alpha': 0.001, 'max_iter': 500, 'solver': 'sgd'}\n",
      "Regression:  False\n",
      "nn\n",
      "{'hidden_layer_sizes': (50, 50), 'activation': 'relu', 'alpha': 0.001, 'max_iter': 500, 'solver': 'sgd'}\n",
      "time:  18.939448\n",
      "0 0.7444105691056911 0.754995558314514 0.7488584474885844 0.759023894255211 0.7157894736842105 0.6933962264150944 0.7083333333333334 0.7331670822942643 0.7120418848167539 0.7127272727272725 MLPClassifier {'hidden_layer_sizes': (50, 50), 'activation': 'relu', 'alpha': 0.001, 'max_iter': 500, 'solver': 'sgd'}\n",
      "Regression:  False\n",
      "nn\n",
      "{'hidden_layer_sizes': (50, 50), 'activation': 'tanh', 'alpha': 0.001, 'max_iter': 500, 'solver': 'sgd'}\n",
      "time:  14.357178\n",
      "0 0.6392276422764228 0.6973456915650786 0.6666666666666666 0.7280122013218099 0.7017543859649122 0.7282051282051282 0.4166666666666667 0.5311720698254364 0.522875816993464 0.6142754145638067 MLPClassifier {'hidden_layer_sizes': (50, 50), 'activation': 'tanh', 'alpha': 0.001, 'max_iter': 500, 'solver': 'sgd'}\n",
      "Regression:  False\n",
      "nn\n",
      "{'hidden_layer_sizes': (50, 50), 'activation': 'tanh', 'alpha': 0.001, 'max_iter': 1000, 'solver': 'lbfgs'}\n"
     ]
    },
    {
     "name": "stderr",
     "output_type": "stream",
     "text": [
      "lbfgs failed to converge (status=1):\n",
      "STOP: TOTAL NO. of ITERATIONS REACHED LIMIT.\n",
      "\n",
      "Increase the number of iterations (max_iter) or scale the data as shown in:\n",
      "    https://scikit-learn.org/stable/modules/preprocessing.html\n"
     ]
    },
    {
     "name": "stdout",
     "output_type": "stream",
     "text": [
      "time:  20.747545\n",
      "0 0.6713668699186991 0.9780484411289373 0.6757990867579908 0.9781392984239959 0.6288659793814433 0.969097651421508 0.6354166666666666 0.9775561097256857 0.6321243523316062 0.973308504034761 MLPClassifier {'hidden_layer_sizes': (50, 50), 'activation': 'tanh', 'alpha': 0.001, 'max_iter': 1000, 'solver': 'lbfgs'}\n",
      "Regression:  False\n",
      "nn\n",
      "{'hidden_layer_sizes': (100,), 'activation': 'logistic', 'alpha': 0.0001, 'max_iter': 1000, 'solver': 'lbfgs'}\n"
     ]
    },
    {
     "name": "stderr",
     "output_type": "stream",
     "text": [
      "lbfgs failed to converge (status=1):\n",
      "STOP: TOTAL NO. of ITERATIONS REACHED LIMIT.\n",
      "\n",
      "Increase the number of iterations (max_iter) or scale the data as shown in:\n",
      "    https://scikit-learn.org/stable/modules/preprocessing.html\n"
     ]
    },
    {
     "name": "stdout",
     "output_type": "stream",
     "text": [
      "time:  37.63033\n",
      "0 0.7079522357723577 0.9788661393725985 0.7168949771689498 0.9786476868327402 0.6931818181818182 0.9679802955665024 0.6354166666666666 0.9800498753117207 0.6630434782608696 0.9739776951672863 MLPClassifier {'hidden_layer_sizes': (100,), 'activation': 'logistic', 'alpha': 0.0001, 'max_iter': 1000, 'solver': 'lbfgs'}\n",
      "Regression:  False\n",
      "nn\n",
      "{'hidden_layer_sizes': (50, 50), 'activation': 'tanh', 'alpha': 0.0001, 'max_iter': 500, 'solver': 'sgd'}\n",
      "time:  14.29959\n",
      "0 0.6392276422764228 0.6973456915650786 0.6666666666666666 0.7280122013218099 0.7017543859649122 0.7282051282051282 0.4166666666666667 0.5311720698254364 0.522875816993464 0.6142754145638067 MLPClassifier {'hidden_layer_sizes': (50, 50), 'activation': 'tanh', 'alpha': 0.0001, 'max_iter': 500, 'solver': 'sgd'}\n",
      "Regression:  False\n",
      "nn\n",
      "{'hidden_layer_sizes': (50,), 'activation': 'logistic', 'alpha': 0.001, 'max_iter': 500, 'solver': 'lbfgs'}\n"
     ]
    },
    {
     "name": "stderr",
     "output_type": "stream",
     "text": [
      "lbfgs failed to converge (status=1):\n",
      "STOP: TOTAL NO. of ITERATIONS REACHED LIMIT.\n",
      "\n",
      "Increase the number of iterations (max_iter) or scale the data as shown in:\n",
      "    https://scikit-learn.org/stable/modules/preprocessing.html\n"
     ]
    },
    {
     "name": "stdout",
     "output_type": "stream",
     "text": [
      "time:  11.284064\n",
      "0 0.7229420731707317 0.9498940417197349 0.726027397260274 0.949161159125572 0.6836734693877551 0.9239130434782609 0.6979166666666666 0.9538653366583542 0.6907216494845362 0.9386503067484663 MLPClassifier {'hidden_layer_sizes': (50,), 'activation': 'logistic', 'alpha': 0.001, 'max_iter': 500, 'solver': 'lbfgs'}\n",
      "Regression:  False\n",
      "nn\n",
      "{'hidden_layer_sizes': (100,), 'activation': 'logistic', 'alpha': 0.0001, 'max_iter': 500, 'solver': 'lbfgs'}\n"
     ]
    },
    {
     "name": "stderr",
     "output_type": "stream",
     "text": [
      "lbfgs failed to converge (status=1):\n",
      "STOP: TOTAL NO. of ITERATIONS REACHED LIMIT.\n",
      "\n",
      "Increase the number of iterations (max_iter) or scale the data as shown in:\n",
      "    https://scikit-learn.org/stable/modules/preprocessing.html\n"
     ]
    },
    {
     "name": "stdout",
     "output_type": "stream",
     "text": [
      "time:  18.961288\n",
      "0 0.7143038617886179 0.963108323611572 0.7214611872146118 0.9613624809354346 0.6923076923076923 0.935251798561151 0.65625 0.972568578553616 0.6737967914438503 0.9535452322738386 MLPClassifier {'hidden_layer_sizes': (100,), 'activation': 'logistic', 'alpha': 0.0001, 'max_iter': 500, 'solver': 'lbfgs'}\n",
      "Regression:  False\n",
      "nn\n",
      "{'hidden_layer_sizes': (50, 50), 'activation': 'tanh', 'alpha': 0.001, 'max_iter': 1000, 'solver': 'sgd'}\n",
      "time:  14.411766\n",
      "0 0.6392276422764228 0.6973456915650786 0.6666666666666666 0.7280122013218099 0.7017543859649122 0.7282051282051282 0.4166666666666667 0.5311720698254364 0.522875816993464 0.6142754145638067 MLPClassifier {'hidden_layer_sizes': (50, 50), 'activation': 'tanh', 'alpha': 0.001, 'max_iter': 1000, 'solver': 'sgd'}\n",
      "Regression:  False\n",
      "nn\n",
      "{'hidden_layer_sizes': (50, 50), 'activation': 'relu', 'alpha': 0.01, 'max_iter': 200, 'solver': 'sgd'}\n"
     ]
    },
    {
     "name": "stderr",
     "output_type": "stream",
     "text": [
      "Stochastic Optimizer: Maximum iterations (200) reached and the optimization hasn't converged yet.\n"
     ]
    },
    {
     "name": "stdout",
     "output_type": "stream",
     "text": [
      "time:  9.423388\n",
      "0 0.6281758130081301 0.6952538182440893 0.6529680365296804 0.7188612099644128 0.6612903225806451 0.6883509833585476 0.4270833333333333 0.5673316708229427 0.5189873417721519 0.6220095693779905 MLPClassifier {'hidden_layer_sizes': (50, 50), 'activation': 'relu', 'alpha': 0.01, 'max_iter': 200, 'solver': 'sgd'}\n",
      "Regression:  False\n",
      "nn\n",
      "{'hidden_layer_sizes': (100,), 'activation': 'tanh', 'alpha': 0.01, 'max_iter': 500, 'solver': 'sgd'}\n"
     ]
    },
    {
     "name": "stderr",
     "output_type": "stream",
     "text": [
      "Stochastic Optimizer: Maximum iterations (500) reached and the optimization hasn't converged yet.\n"
     ]
    },
    {
     "name": "stdout",
     "output_type": "stream",
     "text": [
      "time:  26.432786\n",
      "0 0.6698424796747967 0.7134963021630473 0.6894977168949772 0.735638027452974 0.7 0.7104477611940299 0.5104166666666666 0.5935162094763092 0.5903614457831324 0.6467391304347826 MLPClassifier {'hidden_layer_sizes': (100,), 'activation': 'tanh', 'alpha': 0.01, 'max_iter': 500, 'solver': 'sgd'}\n",
      "Regression:  False\n",
      "nn\n",
      "{'hidden_layer_sizes': (100,), 'activation': 'relu', 'alpha': 0.0001, 'max_iter': 500, 'solver': 'sgd'}\n"
     ]
    },
    {
     "name": "stderr",
     "output_type": "stream",
     "text": [
      "Stochastic Optimizer: Maximum iterations (500) reached and the optimization hasn't converged yet.\n"
     ]
    },
    {
     "name": "stdout",
     "output_type": "stream",
     "text": [
      "time:  25.296068\n",
      "0 0.6657774390243902 0.7232048633780356 0.684931506849315 0.7452974072191154 0.6901408450704225 0.7256371814092953 0.5104166666666666 0.6034912718204489 0.5868263473053892 0.6589516678012254 MLPClassifier {'hidden_layer_sizes': (100,), 'activation': 'relu', 'alpha': 0.0001, 'max_iter': 500, 'solver': 'sgd'}\n",
      "Regression:  False\n",
      "nn\n",
      "{'hidden_layer_sizes': (50,), 'activation': 'relu', 'alpha': 0.01, 'max_iter': 200, 'solver': 'lbfgs'}\n"
     ]
    },
    {
     "name": "stderr",
     "output_type": "stream",
     "text": [
      "lbfgs failed to converge (status=1):\n",
      "STOP: TOTAL NO. of ITERATIONS REACHED LIMIT.\n",
      "\n",
      "Increase the number of iterations (max_iter) or scale the data as shown in:\n",
      "    https://scikit-learn.org/stable/modules/preprocessing.html\n"
     ]
    },
    {
     "name": "stdout",
     "output_type": "stream",
     "text": [
      "time:  3.693187\n",
      "0 0.7167174796747966 0.7953795768090502 0.730593607305936 0.8073207930859176 0.7341772151898734 0.7823765020026703 0.6041666666666666 0.7306733167082294 0.6628571428571428 0.7556415215989685 MLPClassifier {'hidden_layer_sizes': (50,), 'activation': 'relu', 'alpha': 0.01, 'max_iter': 200, 'solver': 'lbfgs'}\n",
      "Regression:  False\n",
      "rf\n",
      "{'max_depth': 20, 'min_samples_split': 10, 'min_samples_leaf': 4, 'min_impurity_decrease': 0, 'n_estimators': 10}\n",
      "time:  0.522557\n",
      "0 0.7167174796747966 0.9199372812603683 0.730593607305936 0.9267920691408236 0.7341772151898734 0.9340369393139841 0.6041666666666666 0.8827930174563591 0.6628571428571428 0.9076923076923077 RandomForestClassifier {'max_depth': 20, 'min_samples_split': 10, 'min_samples_leaf': 4, 'min_impurity_decrease': 0, 'n_estimators': 10}\n",
      "Regression:  False\n",
      "sv\n",
      "{'C': 10, 'kernel': 'rbf', 'gamma': 'scale'}\n",
      "time:  1.533383\n",
      "0 0.6988058943089431 0.8178507593676753 0.7168949771689498 0.833248601931876 0.7361111111111112 0.8366477272727273 0.5520833333333334 0.7344139650872819 0.6309523809523809 0.7822045152722443 SVC {'C': 10, 'kernel': 'rbf', 'gamma': 'scale'}\n",
      "Regression:  False\n",
      "xg\n",
      "{'max_depth': 5, 'eta': 0.1, 'gamma': 0.01}\n",
      "time:  5.695713\n",
      "0 0.7613058943089431 0.9752068327036486 0.771689497716895 0.9766141331977631 0.7738095238095238 0.9748743718592965 0.6770833333333334 0.9675810473815462 0.7222222222222222 0.9712140175219023 XGBClassifier {'max_depth': 5, 'eta': 0.1, 'gamma': 0.01}\n",
      "Regression:  False\n",
      "xg\n",
      "{'max_depth': 5, 'eta': 0.1, 'gamma': 0.1}\n",
      "time:  5.559404\n",
      "0 0.7635924796747966 0.9741542067577837 0.771689497716895 0.9755973563802746 0.7613636363636364 0.9736180904522613 0.6979166666666666 0.9663341645885287 0.7282608695652174 0.9699624530663329 XGBClassifier {'max_depth': 5, 'eta': 0.1, 'gamma': 0.1}\n",
      "Regression:  False\n",
      "xg\n",
      "{'max_depth': None, 'eta': 0.1, 'gamma': 0}\n",
      "time:  7.674186\n",
      "0 0.7479674796747966 0.9824938726146009 0.7579908675799086 0.9827147941026945 0.7529411764705882 0.9764267990074442 0.6666666666666666 0.9812967581047382 0.707182320441989 0.9788557213930349 XGBClassifier {'max_depth': None, 'eta': 0.1, 'gamma': 0}\n",
      "Regression:  False\n",
      "xg\n",
      "{'max_depth': 5, 'eta': 0.2, 'gamma': 0.1}\n",
      "time:  5.466801\n",
      "0 0.7531758130081302 0.9827288003168044 0.7625570776255708 0.9832231825114387 0.7558139534883721 0.9788293897882939 0.6770833333333334 0.9800498753117207 0.7142857142857142 0.9794392523364486 XGBClassifier {'max_depth': 5, 'eta': 0.2, 'gamma': 0.1}\n",
      "Regression:  False\n",
      "xg\n",
      "{'max_depth': 5, 'eta': 0.2, 'gamma': 0.01}\n",
      "time:  5.483662\n",
      "0 0.754319105691057 0.9829637280190082 0.7625570776255708 0.983731570920183 0.75 0.98125 0.6875 0.9788029925187033 0.717391304347826 0.9800249687890137 XGBClassifier {'max_depth': 5, 'eta': 0.2, 'gamma': 0.01}\n",
      "Regression:  False\n",
      "xg\n",
      "{'max_depth': None, 'eta': 0.2, 'gamma': 0.1}\n",
      "time:  7.285785\n",
      "0 0.7224339430894309 0.9831579848661608 0.730593607305936 0.983731570920183 0.7078651685393258 0.9800498753117207 0.65625 0.9800498753117207 0.681081081081081 0.9800498753117207 XGBClassifier {'max_depth': None, 'eta': 0.2, 'gamma': 0.1}\n",
      "Regression:  False\n",
      "xg\n",
      "{'max_depth': 5, 'eta': 0.1, 'gamma': 0}\n",
      "time:  5.460244\n",
      "0 0.7613058943089431 0.9752068327036486 0.771689497716895 0.9766141331977631 0.7738095238095238 0.9748743718592965 0.6770833333333334 0.9675810473815462 0.7222222222222222 0.9712140175219023 XGBClassifier {'max_depth': 5, 'eta': 0.1, 'gamma': 0}\n",
      "Regression:  False\n",
      "xg\n",
      "{'max_depth': 5, 'eta': 0.2, 'gamma': 0}\n",
      "time:  5.391458\n",
      "0 0.7439024390243902 0.9827288003168044 0.7534246575342466 0.9832231825114387 0.7441860465116279 0.9788293897882939 0.6666666666666666 0.9800498753117207 0.7032967032967034 0.9794392523364486 XGBClassifier {'max_depth': 5, 'eta': 0.2, 'gamma': 0}\n"
     ]
    },
    {
     "name": "stderr",
     "output_type": "stream",
     "text": [
      "\n",
      "A value is trying to be set on a copy of a slice from a DataFrame\n",
      "\n",
      "See the caveats in the documentation: https://pandas.pydata.org/pandas-docs/stable/user_guide/indexing.html#returning-a-view-versus-a-copy\n"
     ]
    },
    {
     "name": "stdout",
     "output_type": "stream",
     "text": [
      "Regression:  True\n",
      "nn\n",
      "{'hidden_layer_sizes': (50,), 'activation': 'tanh', 'alpha': 0.01, 'max_iter': 200, 'solver': 'sgd'}\n"
     ]
    },
    {
     "name": "stderr",
     "output_type": "stream",
     "text": [
      "Stochastic Optimizer: Maximum iterations (200) reached and the optimization hasn't converged yet.\n"
     ]
    },
    {
     "name": "stdout",
     "output_type": "stream",
     "text": [
      "time:  15.024897\n",
      "0 0.6735705691993629 0.5912508684313695 0.45369731169155375 0.3495775894208487 0.5334175983160212 0.45890308746954156 0.49712759397312645 0.6213010857398049 MLPRegressor {'hidden_layer_sizes': (50,), 'activation': 'tanh', 'alpha': 0.01, 'max_iter': 200, 'solver': 'sgd'}\n",
      "Regression:  True\n",
      "nn\n",
      "{'hidden_layer_sizes': (50,), 'activation': 'logistic', 'alpha': 0.01, 'max_iter': 1000, 'solver': 'sgd'}\n",
      "time:  64.01071\n",
      "0 0.6714924300480766 0.570179589938508 0.450902083611871 0.32510476478244515 0.5366418823444086 0.440925315924969 0.5002257896943731 0.6478126024957782 MLPRegressor {'hidden_layer_sizes': (50,), 'activation': 'logistic', 'alpha': 0.01, 'max_iter': 1000, 'solver': 'sgd'}\n",
      "Regression:  True\n",
      "nn\n",
      "{'hidden_layer_sizes': (50,), 'activation': 'logistic', 'alpha': 0.0001, 'max_iter': 1000, 'solver': 'sgd'}\n",
      "time:  63.915106\n",
      "0 0.6714866390546593 0.5699285303350572 0.4508943064289223 0.3248185296898782 0.5366376470371638 0.440709455613924 0.5002344098263439 0.6481226822092915 MLPRegressor {'hidden_layer_sizes': (50,), 'activation': 'logistic', 'alpha': 0.0001, 'max_iter': 1000, 'solver': 'sgd'}\n",
      "Regression:  True\n",
      "rf\n",
      "{'max_depth': 20, 'min_samples_split': 10, 'min_samples_leaf': 1, 'min_impurity_decrease': 0, 'n_estimators': 10}\n",
      "time:  0.838114\n",
      "0 0.6908633368674165 0.4407845001603857 0.4772921502275815 0.19429097558164105 0.5354403615750455 0.34305076946011026 0.4709753710732597 0.7895237460009403 RandomForestRegressor {'max_depth': 20, 'min_samples_split': 10, 'min_samples_leaf': 1, 'min_impurity_decrease': 0, 'n_estimators': 10}\n",
      "Regression:  True\n",
      "rf\n",
      "{'max_depth': None, 'min_samples_split': 10, 'min_samples_leaf': 2, 'min_impurity_decrease': 0, 'n_estimators': 50}\n",
      "time:  4.913928\n",
      "0 0.668435639074865 0.41376424296634357 0.4468062035854233 0.17120084875751138 0.5191990380767267 0.3095706006978084 0.5047656117092267 0.81453738023566 RandomForestRegressor {'max_depth': None, 'min_samples_split': 10, 'min_samples_leaf': 2, 'min_impurity_decrease': 0, 'n_estimators': 50}\n",
      "Regression:  True\n",
      "rf\n",
      "{'max_depth': None, 'min_samples_split': 5, 'min_samples_leaf': 4, 'min_impurity_decrease': 0, 'n_estimators': 100}\n",
      "time:  8.483063\n",
      "0 0.6593919850942895 0.46926264907037746 0.4347977900065877 0.22020743381254823 0.5182513656104398 0.35516574026928205 0.5180755866051332 0.7614483347316592 RandomForestRegressor {'max_depth': None, 'min_samples_split': 5, 'min_samples_leaf': 4, 'min_impurity_decrease': 0, 'n_estimators': 100}\n",
      "Regression:  True\n",
      "rf\n",
      "{'max_depth': None, 'min_samples_split': 5, 'min_samples_leaf': 2, 'min_impurity_decrease': 0, 'n_estimators': 50}\n",
      "time:  5.300263\n",
      "0 0.6715742682700098 0.36908385898172436 0.451011997802399 0.1362228949608414 0.5192121988596412 0.27121268314918684 0.5001039621851 0.852429148834978 RandomForestRegressor {'max_depth': None, 'min_samples_split': 5, 'min_samples_leaf': 2, 'min_impurity_decrease': 0, 'n_estimators': 50}\n",
      "Regression:  True\n",
      "rf\n",
      "{'max_depth': None, 'min_samples_split': 10, 'min_samples_leaf': 2, 'min_impurity_decrease': 0, 'n_estimators': 200}\n",
      "time:  19.99349\n",
      "0 0.6618923894893105 0.4107197346989905 0.4381015352638691 0.16869070047120913 0.5155954110624041 0.30782037000840706 0.5144137568265199 0.8172566347285742 RandomForestRegressor {'max_depth': None, 'min_samples_split': 10, 'min_samples_leaf': 2, 'min_impurity_decrease': 0, 'n_estimators': 200}\n",
      "Regression:  True\n",
      "rf\n",
      "{'max_depth': None, 'min_samples_split': 5, 'min_samples_leaf': 2, 'min_impurity_decrease': 0, 'n_estimators': 100}\n",
      "time:  10.841833\n",
      "0 0.6651540088370486 0.36602700274087563 0.4424298554719964 0.13397576673546896 0.5167411805424449 0.2699966909851588 0.5096163010315966 0.8548634725585377 RandomForestRegressor {'max_depth': None, 'min_samples_split': 5, 'min_samples_leaf': 2, 'min_impurity_decrease': 0, 'n_estimators': 100}\n",
      "Regression:  True\n",
      "rf\n",
      "{'max_depth': 20, 'min_samples_split': 10, 'min_samples_leaf': 2, 'min_impurity_decrease': 0, 'n_estimators': 50}\n",
      "time:  3.807867\n",
      "0 0.6742064522291993 0.4661174135760327 0.45455434022748364 0.2172654432388103 0.5250248407493352 0.36161820382474197 0.4961776743002725 0.7646354058419214 RandomForestRegressor {'max_depth': 20, 'min_samples_split': 10, 'min_samples_leaf': 2, 'min_impurity_decrease': 0, 'n_estimators': 50}\n",
      "Regression:  True\n",
      "rf\n",
      "{'max_depth': 20, 'min_samples_split': 5, 'min_samples_leaf': 4, 'min_impurity_decrease': 0, 'n_estimators': 50}\n",
      "time:  3.647609\n",
      "0 0.6660958884459597 0.4970709623000806 0.4436837326046123 0.2470795415619281 0.5239061468433355 0.38192159199668596 0.5082265193549327 0.7323376642066046 RandomForestRegressor {'max_depth': 20, 'min_samples_split': 5, 'min_samples_leaf': 4, 'min_impurity_decrease': 0, 'n_estimators': 50}\n",
      "Regression:  True\n",
      "rf\n",
      "{'max_depth': 20, 'min_samples_split': 2, 'min_samples_leaf': 4, 'min_impurity_decrease': 0, 'n_estimators': 200}\n",
      "time:  14.5059\n",
      "0 0.6602634663435747 0.4999024053186628 0.43594784498803285 0.24990241484338466 0.5192811378824006 0.38412389771352334 0.5168008800977786 0.7292796333741569 RandomForestRegressor {'max_depth': 20, 'min_samples_split': 2, 'min_samples_leaf': 4, 'min_impurity_decrease': 0, 'n_estimators': 200}\n",
      "Regression:  True\n",
      "rf\n",
      "{'max_depth': None, 'min_samples_split': 10, 'min_samples_leaf': 4, 'min_impurity_decrease': 0, 'n_estimators': 200}\n",
      "time:  16.35084\n",
      "0 0.6585432233968131 0.47995939505326674 0.43367917708186493 0.23036102089989774 0.5180285484036568 0.3638612477977519 0.5193154431314388 0.7504489099338741 RandomForestRegressor {'max_depth': None, 'min_samples_split': 10, 'min_samples_leaf': 4, 'min_impurity_decrease': 0, 'n_estimators': 200}\n",
      "Regression:  True\n",
      "rf\n",
      "{'max_depth': None, 'min_samples_split': 2, 'min_samples_leaf': 4, 'min_impurity_decrease': 0, 'n_estimators': 200}\n",
      "time:  16.867295\n",
      "0 0.6583749427418143 0.46980604692724914 0.4334575652302872 0.22071772172940865 0.5170052748725145 0.35560872587867887 0.5195610749263275 0.7608955376247414 RandomForestRegressor {'max_depth': None, 'min_samples_split': 2, 'min_samples_leaf': 4, 'min_impurity_decrease': 0, 'n_estimators': 200}\n",
      "Regression:  True\n",
      "rf\n",
      "{'max_depth': None, 'min_samples_split': 10, 'min_samples_leaf': 1, 'min_impurity_decrease': 0, 'n_estimators': 200}\n",
      "time:  23.844944\n",
      "0 0.6613794124109383 0.35332679482078955 0.4374227271610381 0.12483982393833233 0.5131971379750483 0.2661110052871745 0.5151661392081313 0.8647604788962459 RandomForestRegressor {'max_depth': None, 'min_samples_split': 10, 'min_samples_leaf': 1, 'min_impurity_decrease': 0, 'n_estimators': 200}\n",
      "Regression:  True\n",
      "rf\n",
      "{'max_depth': 20, 'min_samples_split': 10, 'min_samples_leaf': 4, 'min_impurity_decrease': 0, 'n_estimators': 100}\n",
      "time:  7.111042\n",
      "0 0.6624289360233261 0.5066190759863858 0.4388120952809958 0.25666288815329935 0.5222598247731559 0.38976134118508676 0.5136261810216142 0.7219559834039422 RandomForestRegressor {'max_depth': 20, 'min_samples_split': 10, 'min_samples_leaf': 4, 'min_impurity_decrease': 0, 'n_estimators': 100}\n",
      "Regression:  True\n",
      "rf\n",
      "{'max_depth': None, 'min_samples_split': 10, 'min_samples_leaf': 1, 'min_impurity_decrease': 0, 'n_estimators': 100}\n",
      "time:  11.920184\n",
      "0 0.6623952692757313 0.3545115725835063 0.43876749275886856 0.12567845509563064 0.513107728223612 0.2670604999872529 0.5136756178973438 0.8638519861371425 RandomForestRegressor {'max_depth': None, 'min_samples_split': 10, 'min_samples_leaf': 1, 'min_impurity_decrease': 0, 'n_estimators': 100}\n",
      "Regression:  True\n",
      "rf\n",
      "{'max_depth': None, 'min_samples_split': 2, 'min_samples_leaf': 1, 'min_impurity_decrease': 0, 'n_estimators': 200}\n",
      "time:  29.503365\n",
      "0 0.6687399103667505 0.26772014175498837 0.4472130677173295 0.07167407430131108 0.5157542183372962 0.19365715884219586 0.5043146486118814 0.9223551653769363 RandomForestRegressor {'max_depth': None, 'min_samples_split': 2, 'min_samples_leaf': 1, 'min_impurity_decrease': 0, 'n_estimators': 200}\n",
      "Regression:  True\n",
      "rf\n",
      "{'max_depth': None, 'min_samples_split': 5, 'min_samples_leaf': 2, 'min_impurity_decrease': 0, 'n_estimators': 200}\n",
      "time:  21.763716\n",
      "0 0.6634542838841233 0.36603042751747455 0.4401715868041949 0.1339782738686252 0.5147382311062072 0.2698680762494193 0.5121193376799701 0.8548607565703482 RandomForestRegressor {'max_depth': None, 'min_samples_split': 5, 'min_samples_leaf': 2, 'min_impurity_decrease': 0, 'n_estimators': 200}\n",
      "Regression:  True\n",
      "rf\n",
      "{'max_depth': None, 'min_samples_split': 10, 'min_samples_leaf': 4, 'min_impurity_decrease': 0, 'n_estimators': 50}\n",
      "time:  3.998892\n",
      "0 0.6669699908947478 0.48090092013578895 0.44484896875414004 0.23126569498744848 0.5237435835788611 0.36456067777265005 0.5069349862314108 0.749468872582846 RandomForestRegressor {'max_depth': None, 'min_samples_split': 10, 'min_samples_leaf': 4, 'min_impurity_decrease': 0, 'n_estimators': 50}\n",
      "Regression:  True\n",
      "rf\n",
      "{'max_depth': None, 'min_samples_split': 2, 'min_samples_leaf': 4, 'min_impurity_decrease': 0, 'n_estimators': 50}\n",
      "time:  4.079098\n",
      "0 0.6657068578284067 0.4708512555053534 0.4431656205597704 0.22170090481096758 0.5228121612878979 0.356393655854081 0.5088007882427287 0.7598304511410162 RandomForestRegressor {'max_depth': None, 'min_samples_split': 2, 'min_samples_leaf': 4, 'min_impurity_decrease': 0, 'n_estimators': 50}\n",
      "Regression:  True\n",
      "rf\n",
      "{'max_depth': 20, 'min_samples_split': 5, 'min_samples_leaf': 4, 'min_impurity_decrease': 0, 'n_estimators': 100}\n",
      "time:  7.326006\n",
      "0 0.6611367143798564 0.4986937907078352 0.4371017551009918 0.24869549689055015 0.5201353080208843 0.3834780961051022 0.515521900611039 0.7305870928114073 RandomForestRegressor {'max_depth': 20, 'min_samples_split': 5, 'min_samples_leaf': 4, 'min_impurity_decrease': 0, 'n_estimators': 100}\n",
      "Regression:  True\n",
      "rf\n",
      "{'max_depth': None, 'min_samples_split': 10, 'min_samples_leaf': 1, 'min_impurity_decrease': 0, 'n_estimators': 50}\n",
      "time:  5.871687\n",
      "0 0.6698280144275888 0.35907915414695557 0.4486695689120061 0.1289378389428931 0.5152066706001781 0.26921584647463725 0.502700280967918 0.8603210815212018 RandomForestRegressor {'max_depth': None, 'min_samples_split': 10, 'min_samples_leaf': 1, 'min_impurity_decrease': 0, 'n_estimators': 50}\n",
      "Regression:  True\n",
      "rf\n",
      "{'max_depth': None, 'min_samples_split': 5, 'min_samples_leaf': 4, 'min_impurity_decrease': 0, 'n_estimators': 200}\n",
      "time:  16.852699\n",
      "0 0.6583749427418143 0.46980604692724914 0.4334575652302872 0.22071772172940865 0.5170052748725145 0.35560872587867887 0.5195610749263275 0.7608955376247414 RandomForestRegressor {'max_depth': None, 'min_samples_split': 5, 'min_samples_leaf': 4, 'min_impurity_decrease': 0, 'n_estimators': 200}\n",
      "Regression:  True\n",
      "rf\n",
      "{'max_depth': None, 'min_samples_split': 10, 'min_samples_leaf': 2, 'min_impurity_decrease': 0, 'n_estimators': 100}\n",
      "time:  9.996991\n",
      "0 0.661832569462941 0.41014914686215664 0.43802235000191864 0.16822232267175494 0.5155286268485146 0.307954017273387 0.5145015247770295 0.8177640304240784 RandomForestRegressor {'max_depth': None, 'min_samples_split': 10, 'min_samples_leaf': 2, 'min_impurity_decrease': 0, 'n_estimators': 100}\n",
      "Regression:  True\n",
      "rf\n",
      "{'max_depth': 20, 'min_samples_split': 2, 'min_samples_leaf': 2, 'min_impurity_decrease': 0, 'n_estimators': 100}\n",
      "time:  8.282287\n",
      "0 0.6693336643948071 0.430127754594148 0.44800755429218037 0.1850098852722036 0.5231617895133215 0.3328348592643864 0.5034340496637374 0.7995779912663697 RandomForestRegressor {'max_depth': 20, 'min_samples_split': 2, 'min_samples_leaf': 2, 'min_impurity_decrease': 0, 'n_estimators': 100}\n",
      "Regression:  True\n",
      "rf\n",
      "{'max_depth': None, 'min_samples_split': 10, 'min_samples_leaf': 4, 'min_impurity_decrease': 0, 'n_estimators': 100}\n",
      "time:  8.152807\n",
      "0 0.6595790597755522 0.47910143808171524 0.4350445360944015 0.22953818797196762 0.518915666879701 0.3632620017750216 0.5178020963382546 0.7513402884027883 RandomForestRegressor {'max_depth': None, 'min_samples_split': 10, 'min_samples_leaf': 4, 'min_impurity_decrease': 0, 'n_estimators': 100}\n",
      "Regression:  True\n",
      "rf\n",
      "{'max_depth': None, 'min_samples_split': 5, 'min_samples_leaf': 1, 'min_impurity_decrease': 0, 'n_estimators': 200}\n",
      "time:  25.918347\n",
      "0 0.6663061996348781 0.302424777434411 0.44396395167187414 0.09146074600625302 0.5118735382857252 0.22098589706450816 0.5079159280577457 0.9009201783576066 RandomForestRegressor {'max_depth': None, 'min_samples_split': 5, 'min_samples_leaf': 1, 'min_impurity_decrease': 0, 'n_estimators': 200}\n",
      "Regression:  True\n",
      "rf\n",
      "{'max_depth': None, 'min_samples_split': 2, 'min_samples_leaf': 2, 'min_impurity_decrease': 0, 'n_estimators': 100}\n",
      "time:  11.309997\n",
      "0 0.6653783541382929 0.35576634333433926 0.44272835415578354 0.12656969104948698 0.5169157038361273 0.2617865457872044 0.5092854488368763 0.8628865063744546 RandomForestRegressor {'max_depth': None, 'min_samples_split': 2, 'min_samples_leaf': 2, 'min_impurity_decrease': 0, 'n_estimators': 100}\n",
      "Regression:  True\n",
      "rf\n",
      "{'max_depth': 20, 'min_samples_split': 10, 'min_samples_leaf': 1, 'min_impurity_decrease': 0, 'n_estimators': 50}\n",
      "time:  4.065554\n",
      "0 0.6736703867155719 0.4375786391755871 0.4538317899375082 0.19147506546275866 0.5213559806307464 0.34548713905912015 0.4969785399731165 0.7925742336092614 RandomForestRegressor {'max_depth': 20, 'min_samples_split': 10, 'min_samples_leaf': 1, 'min_impurity_decrease': 0, 'n_estimators': 50}\n",
      "Regression:  True\n",
      "rf\n",
      "{'max_depth': 20, 'min_samples_split': 5, 'min_samples_leaf': 4, 'min_impurity_decrease': 0, 'n_estimators': 200}\n",
      "time:  14.775291\n",
      "0 0.6602634663435747 0.4999024053186628 0.43594784498803285 0.24990241484338466 0.5192811378824006 0.38412389771352334 0.5168008800977786 0.7292796333741569 RandomForestRegressor {'max_depth': 20, 'min_samples_split': 5, 'min_samples_leaf': 4, 'min_impurity_decrease': 0, 'n_estimators': 200}\n",
      "Regression:  True\n",
      "rf\n",
      "{'max_depth': None, 'min_samples_split': 2, 'min_samples_leaf': 4, 'min_impurity_decrease': 0, 'n_estimators': 100}\n",
      "time:  8.454964\n",
      "0 0.6593919850942895 0.46926264907037746 0.4347977900065877 0.22020743381254823 0.5182513656104398 0.35516574026928205 0.5180755866051332 0.7614483347316592 RandomForestRegressor {'max_depth': None, 'min_samples_split': 2, 'min_samples_leaf': 4, 'min_impurity_decrease': 0, 'n_estimators': 100}\n",
      "Regression:  True\n",
      "rf\n",
      "{'max_depth': 20, 'min_samples_split': 10, 'min_samples_leaf': 4, 'min_impurity_decrease': 0, 'n_estimators': 50}\n",
      "time:  3.550259\n",
      "0 0.6693264900324539 0.505060168434475 0.44799795025916467 0.2550857737390602 0.527013190908494 0.38852890760051184 0.5034446946533939 0.7236644782686328 RandomForestRegressor {'max_depth': 20, 'min_samples_split': 10, 'min_samples_leaf': 4, 'min_impurity_decrease': 0, 'n_estimators': 50}\n",
      "Regression:  True\n",
      "rf\n",
      "{'max_depth': 20, 'min_samples_split': 10, 'min_samples_leaf': 4, 'min_impurity_decrease': 0, 'n_estimators': 200}\n",
      "time:  14.181182\n",
      "0 0.6611136745857639 0.5079606648033668 0.43707129072429124 0.25802403698747833 0.520915557647564 0.3904525541020808 0.5155556669438224 0.7204814449860073 RandomForestRegressor {'max_depth': 20, 'min_samples_split': 10, 'min_samples_leaf': 4, 'min_impurity_decrease': 0, 'n_estimators': 200}\n",
      "Regression:  True\n",
      "rf\n",
      "{'max_depth': None, 'min_samples_split': 2, 'min_samples_leaf': 2, 'min_impurity_decrease': 0, 'n_estimators': 200}\n",
      "time:  22.279312\n",
      "0 0.666022166937684 0.3554496561659532 0.4435855268523682 0.12634445806849437 0.5161201482031887 0.26158982882775533 0.5083353693781619 0.8631305022367146 RandomForestRegressor {'max_depth': None, 'min_samples_split': 2, 'min_samples_leaf': 2, 'min_impurity_decrease': 0, 'n_estimators': 200}\n",
      "Regression:  True\n",
      "rf\n",
      "{'max_depth': 20, 'min_samples_split': 5, 'min_samples_leaf': 1, 'min_impurity_decrease': 0, 'n_estimators': 200}\n",
      "time:  17.343653\n",
      "0 0.6662640503290371 0.4060732334083008 0.44390778476085374 0.16489547089067236 0.5192052094355258 0.3181854892839081 0.5079781827569825 0.8213680233444708 RandomForestRegressor {'max_depth': 20, 'min_samples_split': 5, 'min_samples_leaf': 1, 'min_impurity_decrease': 0, 'n_estimators': 200}\n",
      "Regression:  True\n",
      "rf\n",
      "{'max_depth': 20, 'min_samples_split': 2, 'min_samples_leaf': 1, 'min_impurity_decrease': 0, 'n_estimators': 100}\n",
      "time:  9.548735\n",
      "0 0.6701359090786801 0.3873025798819928 0.4490821366367091 0.15000328838324742 0.5196980839340811 0.3036710835847031 0.5022429960799011 0.8375007890514196 RandomForestRegressor {'max_depth': 20, 'min_samples_split': 2, 'min_samples_leaf': 1, 'min_impurity_decrease': 0, 'n_estimators': 100}\n",
      "Regression:  True\n",
      "rf\n",
      "{'max_depth': None, 'min_samples_split': 2, 'min_samples_leaf': 2, 'min_impurity_decrease': 0, 'n_estimators': 50}\n",
      "time:  5.43008\n",
      "0 0.671967936788142 0.35897812863872125 0.4515409080713124 0.12886529684095832 0.5185015423845849 0.26297887988862834 0.4995177246812692 0.8603996666939138 RandomForestRegressor {'max_depth': None, 'min_samples_split': 2, 'min_samples_leaf': 2, 'min_impurity_decrease': 0, 'n_estimators': 50}\n",
      "Regression:  True\n",
      "rf\n",
      "{'max_depth': 20, 'min_samples_split': 5, 'min_samples_leaf': 2, 'min_impurity_decrease': 0, 'n_estimators': 50}\n",
      "time:  4.069507\n",
      "0 0.6735766196071522 0.43440191110302373 0.45370546248139815 0.18870502036995931 0.5218866992180521 0.33562406655068583 0.49711855973996166 0.7955750354364975 RandomForestRegressor {'max_depth': 20, 'min_samples_split': 5, 'min_samples_leaf': 2, 'min_impurity_decrease': 0, 'n_estimators': 50}\n",
      "Regression:  True\n",
      "rf\n",
      "{'max_depth': 20, 'min_samples_split': 10, 'min_samples_leaf': 1, 'min_impurity_decrease': 0, 'n_estimators': 100}\n",
      "time:  8.255102\n",
      "0 0.6670900000658941 0.4391898133573754 0.44500906818791464 0.19288769215688625 0.5182423643133427 0.3470285670401245 0.5067575340283866 0.7910439290030441 RandomForestRegressor {'max_depth': 20, 'min_samples_split': 10, 'min_samples_leaf': 1, 'min_impurity_decrease': 0, 'n_estimators': 100}\n",
      "Regression:  True\n",
      "rf\n",
      "{'max_depth': 20, 'min_samples_split': 10, 'min_samples_leaf': 1, 'min_impurity_decrease': 0, 'n_estimators': 200}\n",
      "time:  16.186506\n",
      "0 0.669890870720604 0.43997826156624575 0.4487537786748091 0.19358087065085577 0.5224196637279703 0.3469686228043291 0.5026069439237247 0.79029300574309 RandomForestRegressor {'max_depth': 20, 'min_samples_split': 10, 'min_samples_leaf': 1, 'min_impurity_decrease': 0, 'n_estimators': 200}\n",
      "Regression:  True\n",
      "rf\n",
      "{'max_depth': 20, 'min_samples_split': 5, 'min_samples_leaf': 2, 'min_impurity_decrease': 0, 'n_estimators': 10}\n",
      "time:  0.826714\n",
      "0 0.6952300789960961 0.44527650742103786 0.48334486274091804 0.19827116806107759 0.5355604873122426 0.3390551580022532 0.46426662048969924 0.7852119862768505 RandomForestRegressor {'max_depth': 20, 'min_samples_split': 5, 'min_samples_leaf': 2, 'min_impurity_decrease': 0, 'n_estimators': 10}\n",
      "Regression:  True\n",
      "rf\n",
      "{'max_depth': None, 'min_samples_split': 5, 'min_samples_leaf': 4, 'min_impurity_decrease': 0, 'n_estimators': 50}\n",
      "time:  4.135497\n",
      "0 0.6657068578284067 0.4708512555053534 0.4431656205597704 0.22170090481096758 0.5228121612878979 0.356393655854081 0.5088007882427287 0.7598304511410162 RandomForestRegressor {'max_depth': None, 'min_samples_split': 5, 'min_samples_leaf': 4, 'min_impurity_decrease': 0, 'n_estimators': 50}\n",
      "Regression:  True\n",
      "rf\n",
      "{'max_depth': None, 'min_samples_split': 5, 'min_samples_leaf': 1, 'min_impurity_decrease': 0, 'n_estimators': 50}\n",
      "time:  6.400884\n",
      "0 0.6758996166629622 0.30982373777808414 0.45684029180513924 0.09599074849078305 0.5154211366547328 0.22560589555744043 0.49364395426205876 0.8960128070775151 RandomForestRegressor {'max_depth': None, 'min_samples_split': 5, 'min_samples_leaf': 1, 'min_impurity_decrease': 0, 'n_estimators': 50}\n",
      "Regression:  True\n",
      "rf\n",
      "{'max_depth': 20, 'min_samples_split': 5, 'min_samples_leaf': 2, 'min_impurity_decrease': 0, 'n_estimators': 100}\n",
      "time:  8.12409\n",
      "0 0.6675422463666738 0.43661445982682545 0.4456126506842651 0.19063218652987057 0.5217961269930644 0.337870820990482 0.5060885307648588 0.7934873280020294 RandomForestRegressor {'max_depth': 20, 'min_samples_split': 5, 'min_samples_leaf': 2, 'min_impurity_decrease': 0, 'n_estimators': 100}\n",
      "Regression:  True\n",
      "sv\n",
      "{'C': 0.01, 'kernel': 'poly', 'epsilon': 0.1, 'gamma': 0.1}\n",
      "time:  3.134749\n",
      "0 0.6437773563415514 0.3226326123516708 0.4144492845381169 0.10409180255286346 0.479852630961752 0.18929873357837215 0.5406296146769098 0.8872369001815509 SVR {'C': 0.01, 'kernel': 'poly', 'epsilon': 0.1, 'gamma': 0.1}\n",
      "Regression:  True\n",
      "sv\n",
      "{'C': 0.1, 'kernel': 'poly', 'epsilon': 0.1, 'gamma': 0.05}\n",
      "time:  3.20095\n",
      "0 0.644751799043391 0.2924855987906634 0.4157048823696893 0.0855478254999329 0.4813292033833727 0.17170518703441479 0.5392379257991187 0.9073256707107064 SVR {'C': 0.1, 'kernel': 'poly', 'epsilon': 0.1, 'gamma': 0.05}\n",
      "Regression:  True\n",
      "sv\n",
      "{'C': 0.01, 'kernel': 'poly', 'epsilon': 0.01, 'gamma': 0.1}\n",
      "time:  4.005903\n",
      "0 0.6464342862046518 0.3215750014630197 0.4178772863809177 0.10341048156594114 0.47918353290291693 0.1374500282708129 0.5368300604584231 0.8879749781528465 SVR {'C': 0.01, 'kernel': 'poly', 'epsilon': 0.01, 'gamma': 0.1}\n",
      "Regression:  True\n",
      "sv\n",
      "{'C': 0.1, 'kernel': 'poly', 'epsilon': 0.01, 'gamma': 0.05}\n",
      "time:  4.089052\n",
      "0 0.648694171929777 0.2896070801220697 0.4208041286956591 0.08387226085683089 0.48028436273799774 0.11487239039585741 0.5335859851708976 0.9091408171340419 SVR {'C': 0.1, 'kernel': 'poly', 'epsilon': 0.01, 'gamma': 0.05}\n",
      "Regression:  True\n",
      "sv\n",
      "{'C': 1, 'kernel': 'poly', 'epsilon': 0.1, 'gamma': 'scale'}\n",
      "time:  3.077792\n",
      "0 0.6489232607443779 0.40426255103187786 0.42110139833511584 0.16342821016680165 0.4880551928149997 0.24551179463263267 0.5332564952334875 0.8229575132313569 SVR {'C': 1, 'kernel': 'poly', 'epsilon': 0.1, 'gamma': 'scale'}\n",
      "Regression:  True\n",
      "sv\n",
      "{'C': 1, 'kernel': 'rbf', 'epsilon': 0.1, 'gamma': 'scale'}\n",
      "time:  5.322734\n",
      "0 0.6512130446000342 0.45522604819619605 0.4240784294572461 0.2072307549563254 0.4930048558701441 0.29295612848940966 0.5299567913017607 0.7755060270502553 SVR {'C': 1, 'kernel': 'rbf', 'epsilon': 0.1, 'gamma': 'scale'}\n",
      "Regression:  True\n",
      "sv\n",
      "{'C': 1, 'kernel': 'rbf', 'epsilon': 0.01, 'gamma': 'scale'}\n",
      "time:  6.475897\n",
      "0 0.6529344735861633 0.4552635059882179 0.42632342679724017 0.2072648598846841 0.49414515443918033 0.2632196229785278 0.5274684644265637 0.775469081033888 SVR {'C': 1, 'kernel': 'rbf', 'epsilon': 0.01, 'gamma': 'scale'}\n",
      "Regression:  True\n",
      "sv\n",
      "{'C': 1, 'kernel': 'poly', 'epsilon': 0.01, 'gamma': 'scale'}\n",
      "time:  4.068806\n",
      "0 0.6530313872060539 0.4040505777934003 0.42644999267626316 0.16325686941518064 0.487858911169945 0.20586151479910178 0.5273281803947543 0.8231431274084983 SVR {'C': 1, 'kernel': 'poly', 'epsilon': 0.01, 'gamma': 'scale'}\n",
      "Regression:  True\n",
      "sv\n",
      "{'C': 1, 'kernel': 'poly', 'epsilon': 0.1, 'gamma': 0.05}\n",
      "time:  3.117239\n",
      "0 0.6559713829957411 0.1652519815345154 0.4302984553093452 0.027308217401083815 0.5016220448921292 0.11057053243084859 0.5230625927134276 0.9704168900034327 SVR {'C': 1, 'kernel': 'poly', 'epsilon': 0.1, 'gamma': 0.05}\n",
      "Regression:  True\n",
      "sv\n",
      "{'C': 0.1, 'kernel': 'poly', 'epsilon': 0.1, 'gamma': 0.1}\n",
      "time:  3.100125\n",
      "0 0.6565714989250964 0.16925153660879197 0.4310861332007478 0.02864608264443725 0.5000665271034843 0.11138426099506393 0.5221895404245636 0.9689675748001219 SVR {'C': 0.1, 'kernel': 'poly', 'epsilon': 0.1, 'gamma': 0.1}\n",
      "Regression:  True\n",
      "sv\n",
      "{'C': 10, 'kernel': 'poly', 'epsilon': 0.1, 'gamma': 'scale'}\n",
      "time:  3.088116\n",
      "0 0.6580163789005654 0.1798901923483715 0.43298555490141244 0.0323604813031341 0.4974416364783454 0.1132928422021485 0.5200842452507577 0.9649437506713828 SVR {'C': 10, 'kernel': 'poly', 'epsilon': 0.1, 'gamma': 'scale'}\n",
      "Regression:  True\n",
      "sv\n",
      "{'C': 10, 'kernel': 'poly', 'epsilon': 0.1, 'gamma': 0.1}\n",
      "time:  3.047\n",
      "0 0.6582208141235952 0.15994464794457822 0.43325464014552856 0.025582290406115066 0.5068396958296942 0.10900429356495957 0.5197859945434073 0.9722865941803219 SVR {'C': 10, 'kernel': 'poly', 'epsilon': 0.1, 'gamma': 0.1}\n",
      "Regression:  True\n",
      "sv\n",
      "{'C': 100, 'kernel': 'poly', 'epsilon': 0.1, 'gamma': 0.05}\n",
      "time:  3.064673\n",
      "0 0.6582208141236657 0.15994464794465255 0.4332546401456214 0.02558229040613885 0.5068396958298337 0.10900429356492956 0.5197859945433044 0.9722865941802962 SVR {'C': 100, 'kernel': 'poly', 'epsilon': 0.1, 'gamma': 0.05}\n",
      "Regression:  True\n",
      "sv\n",
      "{'C': 1, 'kernel': 'rbf', 'epsilon': 0.1, 'gamma': 0.05}\n",
      "time:  5.350715\n",
      "0 0.6582241521079317 0.322391539950996 0.4332590344182057 0.10393630503197465 0.501326558336618 0.19349940538798802 0.5197811239867235 0.8874053513183309 SVR {'C': 1, 'kernel': 'rbf', 'epsilon': 0.1, 'gamma': 0.05}\n",
      "Regression:  True\n",
      "sv\n",
      "{'C': 1000, 'kernel': 'poly', 'epsilon': 0.1, 'gamma': 'scale'}\n",
      "time:  3.087355\n",
      "0 0.6582267052300743 0.15993853080202658 0.43326239547803913 0.025580333635110804 0.5068363801300501 0.10900143210461877 0.519777398630188 0.9722887139588123 SVR {'C': 1000, 'kernel': 'poly', 'epsilon': 0.1, 'gamma': 'scale'}\n",
      "Regression:  True\n",
      "sv\n",
      "{'C': 100, 'kernel': 'poly', 'epsilon': 0.1, 'gamma': 'scale'}\n",
      "time:  2.979437\n",
      "0 0.6582267052302593 0.15993853080205958 0.4332623954782826 0.02558033363512136 0.5068363801302833 0.10900143210458917 0.5197773986299181 0.9722887139588009 SVR {'C': 100, 'kernel': 'poly', 'epsilon': 0.1, 'gamma': 'scale'}\n",
      "Regression:  True\n",
      "sv\n",
      "{'C': 10, 'kernel': 'poly', 'epsilon': 0.1, 'gamma': 0.05}\n",
      "time:  2.954822\n",
      "0 0.6582356310191797 0.15994159871837035 0.4332741459432176 0.02558131500058821 0.5068452843754319 0.10900244496669181 0.5197643745620616 0.972287650841347 SVR {'C': 10, 'kernel': 'poly', 'epsilon': 0.1, 'gamma': 0.05}\n",
      "Regression:  True\n",
      "sv\n",
      "{'C': 1, 'kernel': 'poly', 'epsilon': 0.1, 'gamma': 0.1}\n",
      "time:  2.956512\n",
      "0 0.6582356310192048 0.15994159871838542 0.4332741459432507 0.025581315000593033 0.506845284375466 0.10900244496669875 0.5197643745620248 0.9722876508413418 SVR {'C': 1, 'kernel': 'poly', 'epsilon': 0.1, 'gamma': 0.1}\n",
      "Regression:  True\n",
      "sv\n",
      "{'C': 100, 'kernel': 'poly', 'epsilon': 0.1, 'gamma': 0.1}\n",
      "time:  3.209293\n",
      "0 0.6582356310208435 0.15994159871939323 0.43327414594540803 0.025581315000915414 0.5068452843766887 0.10900244496738241 0.5197643745596338 0.9722876508409926 SVR {'C': 100, 'kernel': 'poly', 'epsilon': 0.1, 'gamma': 0.1}\n",
      "Regression:  True\n",
      "sv\n",
      "{'C': 1000, 'kernel': 'poly', 'epsilon': 0.1, 'gamma': 0.05}\n",
      "time:  3.270801\n",
      "0 0.658235631023929 0.15994159871834207 0.43327414594947006 0.02558131500057916 0.5068452843816539 0.1090024449668723 0.5197643745551315 0.9722876508413568 SVR {'C': 1000, 'kernel': 'poly', 'epsilon': 0.1, 'gamma': 0.05}\n",
      "Regression:  True\n",
      "sv\n",
      "{'C': 1000, 'kernel': 'poly', 'epsilon': 0.1, 'gamma': 0.1}\n",
      "time:  3.14908\n",
      "0 0.6582356310639422 0.15994159873347483 0.4332741460021463 0.025581315005419873 0.5068452843925849 0.10900244497710691 0.5197643744967457 0.9722876508361129 SVR {'C': 1000, 'kernel': 'poly', 'epsilon': 0.1, 'gamma': 0.1}\n",
      "Regression:  True\n",
      "sv\n",
      "{'C': 1, 'kernel': 'rbf', 'epsilon': 0.01, 'gamma': 0.05}\n",
      "time:  6.533138\n",
      "0 0.6585641724265927 0.318985507088433 0.433706769203923 0.10175175373246473 0.4977643404642647 0.14005577997712843 0.5192848603696523 0.889771885187509 SVR {'C': 1, 'kernel': 'rbf', 'epsilon': 0.01, 'gamma': 0.05}\n",
      "Regression:  True\n",
      "sv\n",
      "{'C': 10, 'kernel': 'rbf', 'epsilon': 0.1, 'gamma': 'scale'}\n",
      "time:  5.402057\n",
      "0 0.6593050808027721 0.1829231018088123 0.43468318957234986 0.03346086117535711 0.5030720169010257 0.11628571919399935 0.5182026082881184 0.9637517043975499 SVR {'C': 10, 'kernel': 'rbf', 'epsilon': 0.1, 'gamma': 'scale'}\n",
      "Regression:  True\n",
      "sv\n",
      "{'C': 100, 'kernel': 'rbf', 'epsilon': 0.1, 'gamma': 0.05}\n",
      "time:  5.531972\n",
      "0 0.6624721451552943 0.15797436815501925 0.43886934310665726 0.02495590099397756 0.5158993864598818 0.10959930494278305 0.5135627282501556 0.9729651645391185 SVR {'C': 100, 'kernel': 'rbf', 'epsilon': 0.1, 'gamma': 0.05}\n",
      "Regression:  True\n",
      "sv\n",
      "{'C': 1000, 'kernel': 'rbf', 'epsilon': 0.1, 'gamma': 0.05}\n",
      "time:  5.397758\n",
      "0 0.6624721451553038 0.15797436815499252 0.43886934310667 0.02495590099396911 0.5158993864598156 0.10959930494277241 0.5135627282501414 0.9729651645391276 SVR {'C': 1000, 'kernel': 'rbf', 'epsilon': 0.1, 'gamma': 0.05}\n",
      "Regression:  True\n",
      "sv\n",
      "{'C': 10, 'kernel': 'rbf', 'epsilon': 0.1, 'gamma': 0.05}\n",
      "time:  5.408775\n",
      "0 0.6628084785338173 0.15867225047328856 0.43931507921631374 0.025176883070258022 0.5158033847319706 0.1099547479977464 0.5130686799405451 0.972725773700315 SVR {'C': 10, 'kernel': 'rbf', 'epsilon': 0.1, 'gamma': 0.05}\n",
      "Regression:  True\n",
      "sv\n",
      "{'C': 1000, 'kernel': 'rbf', 'epsilon': 0.01, 'gamma': 0.05}\n",
      "time:  6.52846\n",
      "0 0.6640632475638997 0.13394195976611453 0.4409799967651131 0.017940448585987447 0.5127055330099825 0.03333622256773411 0.5112233062254583 0.9805650344688569 SVR {'C': 1000, 'kernel': 'rbf', 'epsilon': 0.01, 'gamma': 0.05}\n",
      "Regression:  True\n",
      "sv\n",
      "{'C': 100, 'kernel': 'rbf', 'epsilon': 0.01, 'gamma': 0.05}\n",
      "time:  6.593674\n",
      "0 0.664063247563961 0.13394195976609982 0.44097999676519456 0.017940448585983503 0.512705533009944 0.0333362225677371 0.5112233062253682 0.9805650344688611 SVR {'C': 100, 'kernel': 'rbf', 'epsilon': 0.01, 'gamma': 0.05}\n",
      "Regression:  True\n",
      "sv\n",
      "{'C': 10, 'kernel': 'rbf', 'epsilon': 0.01, 'gamma': 0.05}\n",
      "time:  6.538339\n",
      "0 0.6649456127691051 0.13517520842319397 0.44215266794088065 0.018272336972253934 0.5126685731588111 0.033933718497627705 0.5099235322121676 0.9802054983448654 SVR {'C': 10, 'kernel': 'rbf', 'epsilon': 0.01, 'gamma': 0.05}\n",
      "Regression:  True\n",
      "sv\n",
      "{'C': 10, 'kernel': 'rbf', 'epsilon': 0.01, 'gamma': 'scale'}\n",
      "time:  6.619517\n",
      "0 0.6654094808126443 0.1681012899971185 0.44276977715535276 0.028258043698695334 0.5052453832228978 0.04414241049186899 0.5092395361040445 0.9693879390679989 SVR {'C': 10, 'kernel': 'rbf', 'epsilon': 0.01, 'gamma': 'scale'}\n",
      "Regression:  True\n",
      "sv\n",
      "{'C': 1, 'kernel': 'poly', 'epsilon': 0.01, 'gamma': 0.05}\n",
      "time:  4.093182\n",
      "0 0.6664764397196744 0.14413282574373926 0.44419084470141273 0.020774271456875108 0.5055832243961399 0.035488355514424454 0.507664442671488 0.9774951418988302 SVR {'C': 1, 'kernel': 'poly', 'epsilon': 0.01, 'gamma': 0.05}\n",
      "Regression:  True\n",
      "sv\n",
      "{'C': 1000, 'kernel': 'rbf', 'epsilon': 0.1, 'gamma': 'scale'}\n",
      "time:  5.390395\n",
      "0 0.6671514987263594 0.16001910861144594 0.44509112225282743 0.025606115120801735 0.5178193156828034 0.10930368501384388 0.5066665863326792 0.9722607847638792 SVR {'C': 1000, 'kernel': 'rbf', 'epsilon': 0.1, 'gamma': 'scale'}\n",
      "Regression:  True\n",
      "sv\n",
      "{'C': 100, 'kernel': 'rbf', 'epsilon': 0.1, 'gamma': 'scale'}\n",
      "time:  5.424506\n",
      "0 0.6671562742063052 0.16002404576070545 0.44509749421283873 0.025607695221624354 0.5178110261740297 0.10930729241790064 0.5066595237321758 0.9722590730338254 SVR {'C': 100, 'kernel': 'rbf', 'epsilon': 0.1, 'gamma': 'scale'}\n",
      "Regression:  True\n",
      "sv\n",
      "{'C': 0.1, 'kernel': 'poly', 'epsilon': 0.01, 'gamma': 0.1}\n",
      "time:  4.17515\n",
      "0 0.6674825952571624 0.14902205520353187 0.44553301497123676 0.0222075729370845 0.5043060338996374 0.036331144447415066 0.5061767979896896 0.9759424402074488 SVR {'C': 0.1, 'kernel': 'poly', 'epsilon': 0.01, 'gamma': 0.1}\n",
      "Regression:  True\n",
      "sv\n",
      "{'C': 10, 'kernel': 'poly', 'epsilon': 0.01, 'gamma': 'scale'}\n",
      "time:  4.26608\n",
      "0 0.6681463377616249 0.1621320470587797 0.44641952866427137 0.026286800683470356 0.5019739788057813 0.039445160519383 0.5051941973387624 0.9715233951504253 SVR {'C': 10, 'kernel': 'poly', 'epsilon': 0.01, 'gamma': 'scale'}\n",
      "Regression:  True\n",
      "sv\n",
      "{'C': 1000, 'kernel': 'poly', 'epsilon': 0.01, 'gamma': 'scale'}\n",
      "time:  4.229137\n",
      "0 0.670605900772096 0.13699970780491033 0.44971227415035425 0.018768919938630807 0.5132348543989326 0.03332249042607279 0.5015445595684898 0.9796675478700692 SVR {'C': 1000, 'kernel': 'poly', 'epsilon': 0.01, 'gamma': 'scale'}\n",
      "Regression:  True\n",
      "sv\n",
      "{'C': 100, 'kernel': 'poly', 'epsilon': 0.01, 'gamma': 'scale'}\n",
      "time:  4.170373\n",
      "0 0.6706059007722098 0.13699970780493725 0.4497122741505069 0.018768919938638187 0.5132348543991032 0.033322490426075206 0.5015445595683206 0.9796675478700612 SVR {'C': 100, 'kernel': 'poly', 'epsilon': 0.01, 'gamma': 'scale'}\n",
      "Regression:  True\n",
      "sv\n",
      "{'C': 1000, 'kernel': 'poly', 'epsilon': 0.01, 'gamma': 0.05}\n",
      "time:  4.197856\n",
      "0 0.6706075910090996 0.13699702675599953 0.44971454111902787 0.018768185339984055 0.5132348913493773 0.03332218545582457 0.5015420468888641 0.9796683436639597 SVR {'C': 1000, 'kernel': 'poly', 'epsilon': 0.01, 'gamma': 0.05}\n",
      "Regression:  True\n",
      "sv\n",
      "{'C': 100, 'kernel': 'poly', 'epsilon': 0.01, 'gamma': 0.1}\n",
      "time:  4.177637\n",
      "0 0.6706075910123027 0.13699702675641262 0.44971454112332393 0.018768185340097235 0.5132348913509942 0.03332218545553586 0.5015420468841023 0.9796683436638371 SVR {'C': 100, 'kernel': 'poly', 'epsilon': 0.01, 'gamma': 0.1}\n",
      "Regression:  True\n",
      "sv\n",
      "{'C': 100, 'kernel': 'poly', 'epsilon': 0.01, 'gamma': 0.05}\n",
      "time:  4.183969\n",
      "0 0.6706075910133629 0.13699702675683753 0.4497145411247458 0.01876818534021366 0.5132348913494357 0.03332218545507256 0.5015420468825265 0.979668343663711 SVR {'C': 100, 'kernel': 'poly', 'epsilon': 0.01, 'gamma': 0.05}\n"
     ]
    },
    {
     "name": "stderr",
     "output_type": "stream",
     "text": [
      "\n",
      "A value is trying to be set on a copy of a slice from a DataFrame\n",
      "\n",
      "See the caveats in the documentation: https://pandas.pydata.org/pandas-docs/stable/user_guide/indexing.html#returning-a-view-versus-a-copy\n",
      "100%|██████████| 2186/2186 [06:53<00:00,  5.28it/s]\n"
     ]
    },
    {
     "name": "stdout",
     "output_type": "stream",
     "text": [
      "Regression:  True\n",
      "rf\n",
      "{'max_depth': 10, 'min_samples_split': 10, 'min_samples_leaf': 2, 'min_impurity_decrease': 0, 'n_estimators': 50}\n",
      "time:  67.748587\n",
      "0 0.6510687131929452 0.42899737258502957 0.42389046929871765 0.1840387456848587 0.5019026933553127 0.3320013171515713 0.5301651239824283 0.8006300309807344 RandomForestRegressor {'max_depth': 10, 'min_samples_split': 10, 'min_samples_leaf': 2, 'min_impurity_decrease': 0, 'n_estimators': 50}\n",
      "Regression:  True\n",
      "rf\n",
      "{'max_depth': 10, 'min_samples_split': 5, 'min_samples_leaf': 1, 'min_impurity_decrease': 0, 'n_estimators': 100}\n",
      "time:  142.485232\n",
      "0 0.6505145220421026 0.4060940873841225 0.4231691433876652 0.16491240780834332 0.4978103077197902 0.3169562299307548 0.530964632569041 0.8213496755083194 RandomForestRegressor {'max_depth': 10, 'min_samples_split': 5, 'min_samples_leaf': 1, 'min_impurity_decrease': 0, 'n_estimators': 100}\n"
     ]
    },
    {
     "name": "stderr",
     "output_type": "stream",
     "text": [
      "\n",
      "A value is trying to be set on a copy of a slice from a DataFrame\n",
      "\n",
      "See the caveats in the documentation: https://pandas.pydata.org/pandas-docs/stable/user_guide/indexing.html#returning-a-view-versus-a-copy\n",
      "100%|██████████| 2186/2186 [07:01<00:00,  5.19it/s]\n"
     ]
    },
    {
     "name": "stdout",
     "output_type": "stream",
     "text": [
      "Regression:  True\n",
      "gb\n",
      "{'max_depth': 7, 'loss': 'huber', 'n_estimators': 100, 'learning_rate': 0.1, 'min_impurity_decrease': 0.2}\n",
      "time:  101.403883\n",
      "0 0.6375208169234879 0.25634766270736253 0.4064327920107914 0.0657141241755277 0.4723842972195164 0.17247839968849005 0.5495149943810183 0.9288116051201657 GradientBoostingRegressor {'max_depth': 7, 'loss': 'huber', 'n_estimators': 100, 'learning_rate': 0.1, 'min_impurity_decrease': 0.2}\n",
      "Regression:  True\n",
      "gb\n",
      "{'max_depth': 7, 'loss': 'huber', 'n_estimators': 100, 'learning_rate': 0.1, 'min_impurity_decrease': 0.1}\n",
      "time:  127.901451\n",
      "0 0.6326613315061276 0.2249507378828789 0.40026036038310625 0.050602834474051686 0.4716272485289933 0.1433573006905876 0.5563564401283552 0.9451817305978916 GradientBoostingRegressor {'max_depth': 7, 'loss': 'huber', 'n_estimators': 100, 'learning_rate': 0.1, 'min_impurity_decrease': 0.1}\n",
      "Regression:  True\n",
      "gb\n",
      "{'max_depth': 5, 'loss': 'huber', 'n_estimators': 100, 'learning_rate': 0.1, 'min_impurity_decrease': 0.1}\n",
      "time:  123.388699\n",
      "0 0.6429794008442636 0.3158408069972906 0.41342250991004825 0.09975541536469978 0.48176292601843895 0.22134220965378568 0.5417676787878457 0.891934527173859 GradientBoostingRegressor {'max_depth': 5, 'loss': 'huber', 'n_estimators': 100, 'learning_rate': 0.1, 'min_impurity_decrease': 0.1}\n",
      "Regression:  True\n",
      "rf\n",
      "{'max_depth': None, 'min_samples_split': 2, 'min_samples_leaf': 4, 'min_impurity_decrease': 0, 'n_estimators': 100}\n",
      "time:  177.149014\n",
      "0 0.6360016975804367 0.3291409246536099 0.4044981593251972 0.1083337482818333 0.47880176329579754 0.23887908157123533 0.5516593169685948 0.8826415820303704 RandomForestRegressor {'max_depth': None, 'min_samples_split': 2, 'min_samples_leaf': 4, 'min_impurity_decrease': 0, 'n_estimators': 100}\n",
      "Regression:  True\n",
      "rf\n",
      "{'max_depth': 20, 'min_samples_split': 10, 'min_samples_leaf': 1, 'min_impurity_decrease': 0, 'n_estimators': 10}\n",
      "time:  18.313251\n",
      "0 0.6796702821858057 0.37723826047549824 0.4619516924865328 0.14230870516657984 0.5170802928409127 0.27686750445474545 0.4879785418988326 0.8458363643228902 RandomForestRegressor {'max_depth': 20, 'min_samples_split': 10, 'min_samples_leaf': 1, 'min_impurity_decrease': 0, 'n_estimators': 10}\n",
      "Regression:  True\n",
      "rf\n",
      "{'max_depth': 20, 'min_samples_split': 10, 'min_samples_leaf': 1, 'min_impurity_decrease': 0, 'n_estimators': 100}\n",
      "time:  182.723468\n",
      "0 0.6349850896442962 0.329089866038637 0.4032060640705749 0.10830013992932805 0.4733301578892171 0.24497002605458226 0.5530914591320237 0.8826779901039683 RandomForestRegressor {'max_depth': 20, 'min_samples_split': 10, 'min_samples_leaf': 1, 'min_impurity_decrease': 0, 'n_estimators': 100}\n",
      "Regression:  True\n",
      "rf\n",
      "{'max_depth': None, 'min_samples_split': 10, 'min_samples_leaf': 4, 'min_impurity_decrease': 0, 'n_estimators': 100}\n",
      "time:  173.821403\n",
      "0 0.6369072937798087 0.34248541272863753 0.40565090086991956 0.11729625793190518 0.48017301583016747 0.2494011088913059 0.5503816327082222 0.8729324565708356 RandomForestRegressor {'max_depth': None, 'min_samples_split': 10, 'min_samples_leaf': 4, 'min_impurity_decrease': 0, 'n_estimators': 100}\n",
      "Regression:  True\n",
      "rf\n",
      "{'max_depth': 10, 'min_samples_split': 10, 'min_samples_leaf': 4, 'min_impurity_decrease': 0, 'n_estimators': 200}\n",
      "time:  263.015151\n",
      "0 0.6496943201993773 0.43445795625090833 0.42210270969933106 0.1887537157497162 0.49766971052263514 0.3363471676166903 0.5321466542846233 0.7955222835210388 RandomForestRegressor {'max_depth': 10, 'min_samples_split': 10, 'min_samples_leaf': 4, 'min_impurity_decrease': 0, 'n_estimators': 200}\n",
      "Regression:  True\n",
      "rf\n",
      "{'max_depth': 20, 'min_samples_split': 10, 'min_samples_leaf': 2, 'min_impurity_decrease': 0, 'n_estimators': 200}\n",
      "time:  360.475088\n",
      "0 0.6357508338686381 0.3319274530410285 0.4041791227646686 0.11017583408230419 0.4749024491163483 0.24622499699149966 0.5520129330881292 0.8806460425171877 RandomForestRegressor {'max_depth': 20, 'min_samples_split': 10, 'min_samples_leaf': 2, 'min_impurity_decrease': 0, 'n_estimators': 200}\n",
      "Regression:  True\n",
      "rf\n",
      "{'max_depth': 20, 'min_samples_split': 10, 'min_samples_leaf': 1, 'min_impurity_decrease': 0, 'n_estimators': 200}\n",
      "time:  367.314708\n",
      "0 0.6370353305925887 0.329477889298003 0.40581401242320875 0.1085556795362671 0.4754046355718661 0.24569164310964436 0.5502008419097326 0.8824011629427688 RandomForestRegressor {'max_depth': 20, 'min_samples_split': 10, 'min_samples_leaf': 1, 'min_impurity_decrease': 0, 'n_estimators': 200}\n",
      "Regression:  True\n",
      "rf\n",
      "{'max_depth': 10, 'min_samples_split': 10, 'min_samples_leaf': 1, 'min_impurity_decrease': 0, 'n_estimators': 200}\n",
      "time:  273.662125\n",
      "0 0.6533542940782293 0.42781397778327473 0.4268718335904614 0.1830247995867483 0.5016575213338375 0.33334579394099373 0.5268606172198866 0.8017284431733149 RandomForestRegressor {'max_depth': 10, 'min_samples_split': 10, 'min_samples_leaf': 1, 'min_impurity_decrease': 0, 'n_estimators': 200}\n",
      "Regression:  True\n",
      "rf\n",
      "{'max_depth': 10, 'min_samples_split': 2, 'min_samples_leaf': 4, 'min_impurity_decrease': 0, 'n_estimators': 200}\n",
      "time:  266.235176\n",
      "0 0.6491259469180656 0.4271473612150615 0.42136449496227524 0.18245486819299023 0.49714427023237223 0.33112273793322206 0.5329648822340103 0.8023458523166658 RandomForestRegressor {'max_depth': 10, 'min_samples_split': 2, 'min_samples_leaf': 4, 'min_impurity_decrease': 0, 'n_estimators': 200}\n",
      "Regression:  True\n",
      "xg\n",
      "{'max_depth': None, 'eta': 0.1, 'gamma': 0}\n",
      "time:  9.62019\n",
      "0 0.6405719923827093 0.21621129779516887 0.4103324774251538 0.04674732529427119 0.481359029905318 0.15593998840081955 0.5451926320118059 0.9493584203643094 XGBRegressor {'max_depth': None, 'eta': 0.1, 'gamma': 0}\n"
     ]
    }
   ],
   "source": [
    "for dataset in main_datasets:\n",
    "    regression = False\n",
    "    if \"regre\" in dataset:\n",
    "        regression = True\n",
    "\n",
    "\n",
    "    df = pd.read_csv(r\"Merged runs/\" + dataset + \".csv\")\n",
    "    \n",
    "    setups = {\"Fingerprints\": [], \"Descriptors\": [], \"DescFing\": []}\n",
    "\n",
    "    for row in df.head(top_models)[['hyperparams', 'preprocessing', 'model']].iterrows():\n",
    "        #print(row)\n",
    "        params = list(row[1])[0].split(\", '\")\n",
    "        params[0] = params[0][2:]\n",
    "        params[-1] = params[-1][:-1]\n",
    "        #print(params)\n",
    "\n",
    "        preprocessing = list(row[1])[1]\n",
    "        model = list(row[1])[2]\n",
    "        #print(preprocessing)\n",
    "\n",
    "        clean_params = {}\n",
    "        \n",
    "        for param in params:\n",
    "            name = param.split(\"': \")[0]\n",
    "            val = param.split(\"': \")[1]\n",
    "            if val[0] == \"'\":\n",
    "                val = val[1:-1]\n",
    "            elif val[0] == \"(\":\n",
    "                if val == \"(50, 50)\": val = (50, 50)\n",
    "                if val == \"(100, )\" or val == \"(100,)\": val = (100, )\n",
    "                if val == \"(50, )\" or val == \"(50,)\": val = (50, )\n",
    "            elif val == \"None\":\n",
    "                val = None\n",
    "            else:\n",
    "                try:\n",
    "                    val = int(val)\n",
    "                except:\n",
    "                    val = float(val)\n",
    "            clean_params[name] = [val]\n",
    "        #print(model)\n",
    "        #print(preprocessing)\n",
    "        #print(clean_params)\n",
    "        setups[preprocessing].append([model, clean_params])\n",
    "\n",
    "    for key in setups.keys():\n",
    "        setups[key] = sorted(setups[key], key=lambda x:x[0])\n",
    "    #print(setups)\n",
    "\n",
    "    returned_df = pd.DataFrame(columns=df.columns)\n",
    "    #print(returned_df)\n",
    "\n",
    "    for key in setups.keys():\n",
    "        if key == \"Descriptors\":\n",
    "            calculate_descriptors = True\n",
    "            calculate_fingerprints = False\n",
    "        if name == \"DescFing\":\n",
    "            calculate_descriptors = True\n",
    "            calculate_fingerprints = True\n",
    "        if key == \"Fingerprints\":\n",
    "            calculate_descriptors = False\n",
    "            calculate_fingerprints = True\n",
    "\n",
    "            \n",
    "        if \"BACE\" in dataset:\n",
    "            prepared_dataset = pd.read_csv(r\"C:\\Users\\wojci\\Documents\\GitHub\\czasteczkowa-inzynierka\\experiments\\split_datasets\\split0.9_bace.csv\")\n",
    "        else:\n",
    "            prepared_dataset = pd.read_csv(r\"C:\\Users\\wojci\\Documents\\GitHub\\czasteczkowa-inzynierka\\experiments\\split_datasets\\split0.9_ROR_data_1.csv\")\n",
    "        \n",
    "        if not \"pIC50\" in prepared_dataset.columns:\n",
    "            prepared_dataset = Finalized_pipeline.calculate_pIC50(prepared_dataset, \"target\")\n",
    "        \n",
    "        if not regression:\n",
    "            prepared_dataset = Finalized_pipeline.calculate_classification_labels(prepared_dataset, \"pIC50\", threshold=7)\n",
    "            target_column = \"label\"\n",
    "        else:\n",
    "            target_column = \"pIC50\"\n",
    "\n",
    "        if \"mol\" in prepared_dataset.columns:\n",
    "            prepared_dataset.rename(columns={\"mol\": \"SMILES\"}, inplace=True)\n",
    "\n",
    "        if regression:\n",
    "            runtype = \"regression\"\n",
    "        else:\n",
    "            runtype = \"classification\"\n",
    "        \n",
    "        prepared_dataset = Finalized_pipeline.calculate_features(prepared_dataset, calculate_descriptors=calculate_descriptors, \n",
    "                                                                 calculate_fingerprints=calculate_fingerprints, \n",
    "                                                    SMILES_column_name=\"SMILES\", target_column_name=target_column, \n",
    "                                                    split_column_name=\"Split\", output_csv_path=dataset + \"_\" + key + \"_0.9.csv\")\n",
    "\n",
    "        for combination in setups[key]:\n",
    "                            # model short name, parameters\n",
    "            hyperparams = {str(model_name_shorts[combination[0]]): combination[1]}\n",
    "\n",
    "\n",
    "            new_df = Finalized_pipeline.hyperparameter_search(prepared_dataset, hyperparams, unique=False, return_df=True, output_file_name=\"tmp.csv\")\n",
    "\n",
    "            new_df['split'] = 0.9\n",
    "            new_df['preprocessing'] = key\n",
    "\n",
    "            returned_df = pd.concat([returned_df, new_df])\n",
    "\n",
    "    if \"mse\" in returned_df.columns:\n",
    "        returned_df.sort_values(by=['mse'], inplace=True)\n",
    "    else:\n",
    "        returned_df.sort_values(by=['roc_auc'], inplace=True, ascending=False)\n",
    "    returned_df.to_csv(\"RERUN_\" + dataset + \".csv\", index=False)\n",
    "\n"
   ]
  }
 ],
 "metadata": {
  "kernelspec": {
   "display_name": "Python 3",
   "language": "python",
   "name": "python3"
  },
  "language_info": {
   "codemirror_mode": {
    "name": "ipython",
    "version": 3
   },
   "file_extension": ".py",
   "mimetype": "text/x-python",
   "name": "python",
   "nbconvert_exporter": "python",
   "pygments_lexer": "ipython3",
   "version": "3.11.3"
  }
 },
 "nbformat": 4,
 "nbformat_minor": 2
}
