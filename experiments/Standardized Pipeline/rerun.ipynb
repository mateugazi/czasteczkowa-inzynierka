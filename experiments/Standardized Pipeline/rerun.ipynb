{
 "cells": [
  {
   "cell_type": "code",
   "execution_count": 1,
   "metadata": {},
   "outputs": [],
   "source": [
    "import pandas as pd\n",
    "import numpy as np\n",
    "import os\n",
    "\n",
    "from itertools import product\n",
    "\n",
    "import Finalized_pipeline\n",
    "\n",
    "import seaborn as sns\n",
    "import matplotlib.pyplot as plt"
   ]
  },
  {
   "cell_type": "code",
   "execution_count": 2,
   "metadata": {},
   "outputs": [],
   "source": [
    "main_datasets = [\"BACE_class\", \"BACE_regre\", \"ROR_class\", \"ROR_regre\"]\n",
    "model_name_shorts = {\"DecisionTreeRegressor\": \"dt\", \"DecisionTreeClassifier\": \"dt\", \n",
    "                    \"RandomForestRegressor\": \"rf\", \"RandomForestClassifier\": \"rf\", \n",
    "                    \"LinearRegression\": \"lr\", \"LogisticRegression\": \"lr\", \n",
    "                    \"MLPRegressor\": \"nn\", \"MLPClassifier\": \"nn\",  \n",
    "                    \"GradientBoostingRegressor\": \"gb\", \"GradientBoostingClassifier\": \"gb\",\n",
    "                    \"XGBRegressor\": \"xg\", \"XGBClassifier\": \"xg\", \n",
    "                    \"SVR\": \"sv\", \"SVC\": \"sv\"}\n",
    "    \n",
    "top_models = 10\n"
   ]
  },
  {
   "cell_type": "code",
   "execution_count": 3,
   "metadata": {},
   "outputs": [
    {
     "name": "stderr",
     "output_type": "stream",
     "text": [
      "\n",
      "A value is trying to be set on a copy of a slice from a DataFrame\n",
      "\n",
      "See the caveats in the documentation: https://pandas.pydata.org/pandas-docs/stable/user_guide/indexing.html#returning-a-view-versus-a-copy\n"
     ]
    },
    {
     "name": "stdout",
     "output_type": "stream",
     "text": [
      "Regression:  False\n",
      "gb\n",
      "{'max_depth': 3, 'loss': 'exponential', 'n_estimators': 200, 'learning_rate': 1.0, 'min_impurity_decrease': 0.05}\n",
      "time:  3.00487\n",
      "0 0.8139413906710595 0.9895282375959022 0.8157894736842105 0.9897134459955915 0.835820895522388 0.988135593220339 0.7671232876712328 0.988135593220339 0.8 0.988135593220339 GradientBoostingClassifier {'max_depth': 3, 'loss': 'exponential', 'n_estimators': 200, 'learning_rate': 1.0, 'min_impurity_decrease': 0.05}\n",
      "Regression:  False\n",
      "nn\n",
      "{'hidden_layer_sizes': (100,), 'activation': 'relu', 'alpha': 0.001, 'max_iter': 1000, 'solver': 'sgd'}\n"
     ]
    },
    {
     "name": "stderr",
     "output_type": "stream",
     "text": [
      "Stochastic Optimizer: Maximum iterations (1000) reached and the optimization hasn't converged yet.\n",
      "\n",
      "A value is trying to be set on a copy of a slice from a DataFrame\n",
      "\n",
      "See the caveats in the documentation: https://pandas.pydata.org/pandas-docs/stable/user_guide/indexing.html#returning-a-view-versus-a-copy\n"
     ]
    },
    {
     "name": "stdout",
     "output_type": "stream",
     "text": [
      "time:  66.47983\n",
      "0 0.8545170799375759 0.9618490184440194 0.8552631578947368 0.9610580455547392 0.8591549295774648 0.943801652892562 0.8356164383561644 0.9677966101694915 0.8472222222222222 0.9556485355648535 MLPClassifier {'hidden_layer_sizes': (100,), 'activation': 'relu', 'alpha': 0.001, 'max_iter': 1000, 'solver': 'sgd'}\n"
     ]
    },
    {
     "name": "stderr",
     "output_type": "stream",
     "text": [
      "overflow encountered in reduce                    \n",
      "100%|██████████| 1513/1513 [04:11<00:00,  6.02it/s]\n"
     ]
    },
    {
     "name": "stdout",
     "output_type": "stream",
     "text": [
      "Regression:  False\n",
      "nn\n",
      "{'hidden_layer_sizes': (100,), 'activation': 'relu', 'alpha': 0.01, 'max_iter': 200, 'solver': 'adam'}\n"
     ]
    },
    {
     "name": "stderr",
     "output_type": "stream",
     "text": [
      "Stochastic Optimizer: Maximum iterations (200) reached and the optimization hasn't converged yet.\n"
     ]
    },
    {
     "name": "stdout",
     "output_type": "stream",
     "text": [
      "time:  5.688139\n",
      "0 0.8571180856597884 0.8780441425399548 0.8552631578947368 0.8670095518001469 0.8148148148148148 0.7820689655172414 0.9041095890410958 0.9610169491525423 0.8571428571428571 0.8623574144486692 MLPClassifier {'hidden_layer_sizes': (100,), 'activation': 'relu', 'alpha': 0.01, 'max_iter': 200, 'solver': 'adam'}\n",
      "Regression:  False\n",
      "nn\n",
      "{'hidden_layer_sizes': (50,), 'activation': 'tanh', 'alpha': 0.0001, 'max_iter': 500, 'solver': 'adam'}\n",
      "time:  1.455033\n",
      "0 0.8228715103173228 0.8507265492756492 0.8223684210526315 0.8434974283614989 0.8026315789473685 0.7727930535455861 0.8356164383561644 0.9050847457627119 0.8187919463087249 0.8337236533957846 MLPClassifier {'hidden_layer_sizes': (50,), 'activation': 'tanh', 'alpha': 0.0001, 'max_iter': 500, 'solver': 'adam'}\n",
      "Regression:  False\n",
      "sv\n",
      "{'C': 0.01, 'kernel': 'poly', 'gamma': 0.05}\n",
      "time:  0.347543\n",
      "0 0.8808739379226634 0.8734320385148058 0.881578947368421 0.8721528288023512 0.8873239436619719 0.8322683706070287 0.863013698630137 0.8830508474576271 0.875 0.8569078947368421 SVC {'C': 0.01, 'kernel': 'poly', 'gamma': 0.05}\n",
      "Regression:  False\n",
      "sv\n",
      "{'C': 1, 'kernel': 'rbf', 'gamma': 0.05}\n",
      "time:  0.677623\n",
      "0 0.8676955089301196 0.8875442414649697 0.868421052631579 0.8861131520940485 0.8732394366197183 0.848 0.8493150684931506 0.8983050847457628 0.861111111111111 0.8724279835390946 SVC {'C': 1, 'kernel': 'rbf', 'gamma': 0.05}\n"
     ]
    },
    {
     "name": "stderr",
     "output_type": "stream",
     "text": [
      "\n",
      "A value is trying to be set on a copy of a slice from a DataFrame\n",
      "\n",
      "See the caveats in the documentation: https://pandas.pydata.org/pandas-docs/stable/user_guide/indexing.html#returning-a-view-versus-a-copy\n",
      "overflow encountered in reduce                    \n",
      "100%|██████████| 1513/1513 [04:18<00:00,  5.84it/s]\n"
     ]
    },
    {
     "name": "stdout",
     "output_type": "stream",
     "text": [
      "Regression:  False\n",
      "lr\n",
      "{'C': 1, 'penalty': 'l1', 'solver': 'liblinear'}\n",
      "time:  0.23776\n",
      "0 0.8271198196636034 0.8433214623315528 0.8289473684210527 0.8457016899338722 0.8507462686567164 0.8198653198653199 0.7808219178082192 0.8254237288135593 0.8142857142857143 0.8226351351351351 LogisticRegression {'C': 1, 'penalty': 'l1', 'solver': 'liblinear'}\n",
      "Regression:  False\n",
      "nn\n",
      "{'hidden_layer_sizes': (50, 50), 'activation': 'relu', 'alpha': 0.01, 'max_iter': 500, 'solver': 'sgd'}\n"
     ]
    },
    {
     "name": "stderr",
     "output_type": "stream",
     "text": [
      "Stochastic Optimizer: Maximum iterations (500) reached and the optimization hasn't converged yet.\n"
     ]
    },
    {
     "name": "stdout",
     "output_type": "stream",
     "text": [
      "time:  11.536529\n",
      "0 0.8339691347320964 0.8599760381630723 0.8355263157894737 0.8618662747979426 0.8529411764705882 0.837248322147651 0.7945205479452054 0.8457627118644068 0.8226950354609929 0.8414839797639124 MLPClassifier {'hidden_layer_sizes': (50, 50), 'activation': 'relu', 'alpha': 0.01, 'max_iter': 500, 'solver': 'sgd'}\n",
      "Regression:  False\n",
      "nn\n",
      "{'hidden_layer_sizes': (100,), 'activation': 'tanh', 'alpha': 0.001, 'max_iter': 1000, 'solver': 'sgd'}\n",
      "time:  19.899072\n",
      "0 0.8334489335876539 0.84765437798149 0.8355263157894737 0.8479059515062454 0.8636363636363636 0.8113821138211382 0.7808219178082192 0.8457627118644068 0.8201438848920863 0.8282157676348547 MLPClassifier {'hidden_layer_sizes': (100,), 'activation': 'tanh', 'alpha': 0.001, 'max_iter': 1000, 'solver': 'sgd'}\n",
      "Regression:  False\n",
      "nn\n",
      "{'hidden_layer_sizes': (100,), 'activation': 'relu', 'alpha': 0.0001, 'max_iter': 1000, 'solver': 'sgd'}\n",
      "time:  18.98162\n",
      "0 0.8265996185191608 0.8526434962298578 0.8289473684210527 0.8537839823659075 0.8615384615384616 0.8231404958677686 0.7671232876712328 0.8440677966101695 0.8115942028985507 0.8334728033472804 MLPClassifier {'hidden_layer_sizes': (100,), 'activation': 'relu', 'alpha': 0.0001, 'max_iter': 1000, 'solver': 'sgd'}\n"
     ]
    },
    {
     "name": "stderr",
     "output_type": "stream",
     "text": [
      "\n",
      "A value is trying to be set on a copy of a slice from a DataFrame\n",
      "\n",
      "See the caveats in the documentation: https://pandas.pydata.org/pandas-docs/stable/user_guide/indexing.html#returning-a-view-versus-a-copy\n"
     ]
    },
    {
     "name": "stdout",
     "output_type": "stream",
     "text": [
      "Regression:  True\n",
      "nn\n",
      "{'hidden_layer_sizes': (50,), 'activation': 'tanh', 'alpha': 0.01, 'max_iter': 1000, 'solver': 'sgd'}\n",
      "time:  46.848969\n",
      "0 0.7082393450623888 0.34470230144299746 0.5016029698944015 0.1188196766200991 0.5159197865912252 0.25425541873389657 0.724800847228474 0.9339253646895379 MLPRegressor {'hidden_layer_sizes': (50,), 'activation': 'tanh', 'alpha': 0.01, 'max_iter': 1000, 'solver': 'sgd'}\n",
      "Regression:  True\n",
      "nn\n",
      "{'hidden_layer_sizes': (100,), 'activation': 'relu', 'alpha': 0.01, 'max_iter': 200, 'solver': 'sgd'}\n"
     ]
    },
    {
     "name": "stderr",
     "output_type": "stream",
     "text": [
      "Stochastic Optimizer: Maximum iterations (200) reached and the optimization hasn't converged yet.\n"
     ]
    },
    {
     "name": "stdout",
     "output_type": "stream",
     "text": [
      "time:  18.308646\n",
      "0 0.6826815210239547 0.5346853153307658 0.4660540591475804 0.2858883864303604 0.48311320779601385 0.40783066747983854 0.7443043803146823 0.841019842754839 MLPRegressor {'hidden_layer_sizes': (100,), 'activation': 'relu', 'alpha': 0.01, 'max_iter': 200, 'solver': 'sgd'}\n",
      "Regression:  True\n",
      "nn\n",
      "{'hidden_layer_sizes': (50,), 'activation': 'tanh', 'alpha': 0.001, 'max_iter': 500, 'solver': 'sgd'}\n"
     ]
    },
    {
     "name": "stderr",
     "output_type": "stream",
     "text": [
      "Stochastic Optimizer: Maximum iterations (500) reached and the optimization hasn't converged yet.\n"
     ]
    },
    {
     "name": "stdout",
     "output_type": "stream",
     "text": [
      "time:  25.021737\n",
      "0 0.682843893981368 0.4358946826486125 0.4662757835476378 0.19000417436133457 0.4887257982502444 0.33257585071107565 0.7441827335727232 0.8943402567191723 MLPRegressor {'hidden_layer_sizes': (50,), 'activation': 'tanh', 'alpha': 0.001, 'max_iter': 500, 'solver': 'sgd'}\n",
      "Regression:  True\n",
      "sv\n",
      "{'C': 1, 'kernel': 'rbf', 'epsilon': 0.01, 'gamma': 'scale'}\n",
      "time:  2.346312\n",
      "0 0.5965519761057038 0.47514739353319435 0.35587426019562013 0.22576504558138824 0.4275649470984658 0.26935151982117 0.80475335917639 0.8744539332459627 SVR {'C': 1, 'kernel': 'rbf', 'epsilon': 0.01, 'gamma': 'scale'}\n",
      "Regression:  True\n",
      "sv\n",
      "{'C': 1, 'kernel': 'rbf', 'epsilon': 0.1, 'gamma': 'scale'}\n",
      "time:  1.907123\n",
      "0 0.6008121676047009 0.47361409761903706 0.3609752607418592 0.22431031346349478 0.42998973676155705 0.2995767634793974 0.8019547492939414 0.8752628976944316 SVR {'C': 1, 'kernel': 'rbf', 'epsilon': 0.1, 'gamma': 'scale'}\n",
      "Regression:  True\n",
      "sv\n",
      "{'C': 10, 'kernel': 'rbf', 'epsilon': 0.1, 'gamma': 'scale'}\n",
      "time:  1.94895\n",
      "0 0.6740643686596413 0.204700884206056 0.4543627730965208 0.041902451994741144 0.46733941964105996 0.11584527652867088 0.7507186804866659 0.9766983944669453 SVR {'C': 10, 'kernel': 'rbf', 'epsilon': 0.1, 'gamma': 'scale'}\n",
      "Regression:  True\n",
      "sv\n",
      "{'C': 10, 'kernel': 'rbf', 'epsilon': 0.01, 'gamma': 'scale'}\n",
      "time:  2.330911\n",
      "0 0.6772592727135208 0.1882535640432762 0.4586801224764471 0.035439404374995896 0.46520238741144143 0.0395099486205702 0.7483500125104285 0.9802924415693811 SVR {'C': 10, 'kernel': 'rbf', 'epsilon': 0.01, 'gamma': 'scale'}\n",
      "Regression:  True\n",
      "sv\n",
      "{'C': 1000, 'kernel': 'rbf', 'epsilon': 0.1, 'gamma': 'scale'}\n",
      "time:  2.385762\n",
      "0 0.6738421967638158 0.2005940180406892 0.45406330613948515 0.04023796007370834 0.4703744026218655 0.11330895622053894 0.750882979858491 0.9776240045997779 SVR {'C': 1000, 'kernel': 'rbf', 'epsilon': 0.1, 'gamma': 'scale'}\n",
      "Regression:  True\n",
      "sv\n",
      "{'C': 100, 'kernel': 'rbf', 'epsilon': 0.1, 'gamma': 'scale'}\n",
      "time:  1.817521\n",
      "0 0.6738421967638564 0.20059401804066207 0.45406330613953977 0.04023796007369746 0.47037440262185276 0.1133089562205194 0.7508829798584611 0.9776240045997839 SVR {'C': 100, 'kernel': 'rbf', 'epsilon': 0.1, 'gamma': 'scale'}\n"
     ]
    },
    {
     "name": "stderr",
     "output_type": "stream",
     "text": [
      "\n",
      "A value is trying to be set on a copy of a slice from a DataFrame\n",
      "\n",
      "See the caveats in the documentation: https://pandas.pydata.org/pandas-docs/stable/user_guide/indexing.html#returning-a-view-versus-a-copy\n",
      "overflow encountered in reduce                    \n",
      "100%|██████████| 1513/1513 [04:16<00:00,  5.89it/s]\n",
      "\n",
      "A value is trying to be set on a copy of a slice from a DataFrame\n",
      "\n",
      "See the caveats in the documentation: https://pandas.pydata.org/pandas-docs/stable/user_guide/indexing.html#returning-a-view-versus-a-copy\n",
      "overflow encountered in reduce                    \n",
      "100%|██████████| 1513/1513 [04:16<00:00,  5.89it/s]\n"
     ]
    },
    {
     "name": "stdout",
     "output_type": "stream",
     "text": [
      "Regression:  True\n",
      "sv\n",
      "{'C': 10, 'kernel': 'rbf', 'epsilon': 0.1, 'gamma': 'scale'}\n",
      "time:  1.010761\n",
      "0 0.6480912401099003 0.4806665443359366 0.42002225550718847 0.23104032684385087 0.47338542801570216 0.2968928986628839 0.7695592414751893 0.8715203931498069 SVR {'C': 10, 'kernel': 'rbf', 'epsilon': 0.1, 'gamma': 'scale'}\n"
     ]
    },
    {
     "name": "stderr",
     "output_type": "stream",
     "text": [
      "\n",
      "A value is trying to be set on a copy of a slice from a DataFrame\n",
      "\n",
      "See the caveats in the documentation: https://pandas.pydata.org/pandas-docs/stable/user_guide/indexing.html#returning-a-view-versus-a-copy\n",
      "\n",
      "A value is trying to be set on a copy of a slice from a DataFrame\n",
      "\n",
      "See the caveats in the documentation: https://pandas.pydata.org/pandas-docs/stable/user_guide/indexing.html#returning-a-view-versus-a-copy\n",
      "100%|██████████| 2186/2186 [07:01<00:00,  5.19it/s]\n"
     ]
    },
    {
     "name": "stdout",
     "output_type": "stream",
     "text": [
      "Regression:  False\n",
      "gb\n",
      "{'max_depth': 7, 'loss': 'exponential', 'n_estimators': 100, 'learning_rate': 1.0, 'min_impurity_decrease': 0.1}\n",
      "time:  65.519745\n",
      "0 0.7339939024390244 0.9833522417133131 0.7397260273972602 0.983731570920183 0.7096774193548387 0.9788557213930348 0.6875 0.9812967581047382 0.6984126984126984 0.9800747198007472 GradientBoostingClassifier {'max_depth': 7, 'loss': 'exponential', 'n_estimators': 100, 'learning_rate': 1.0, 'min_impurity_decrease': 0.1}\n",
      "Regression:  False\n",
      "nn\n",
      "{'hidden_layer_sizes': (50, 50), 'activation': 'relu', 'alpha': 0.0001, 'max_iter': 1000, 'solver': 'adam'}\n",
      "time:  7.163065\n",
      "0 0.7085873983739837 0.8038594500872284 0.7214611872146118 0.8210472801220132 0.7160493827160493 0.8260869565217391 0.6041666666666666 0.7107231920199502 0.655367231638418 0.7640750670241289 MLPClassifier {'hidden_layer_sizes': (50, 50), 'activation': 'relu', 'alpha': 0.0001, 'max_iter': 1000, 'solver': 'adam'}\n",
      "Regression:  False\n",
      "nn\n",
      "{'hidden_layer_sizes': (50, 50), 'activation': 'relu', 'alpha': 0.0001, 'max_iter': 1000, 'solver': 'sgd'}\n",
      "time:  16.446173\n",
      "0 0.7235772357723577 0.7544127877730566 0.730593607305936 0.759023894255211 0.7032967032967034 0.6947743467933492 0.6666666666666666 0.729426433915212 0.6844919786096256 0.7116788321167883 MLPClassifier {'hidden_layer_sizes': (50, 50), 'activation': 'relu', 'alpha': 0.0001, 'max_iter': 1000, 'solver': 'sgd'}\n",
      "Regression:  False\n",
      "nn\n",
      "{'hidden_layer_sizes': (100,), 'activation': 'relu', 'alpha': 0.001, 'max_iter': 200, 'solver': 'adam'}\n"
     ]
    },
    {
     "name": "stderr",
     "output_type": "stream",
     "text": [
      "Stochastic Optimizer: Maximum iterations (200) reached and the optimization hasn't converged yet.\n"
     ]
    },
    {
     "name": "stdout",
     "output_type": "stream",
     "text": [
      "time:  9.494878\n",
      "0 0.7496189024390244 0.8338927359712308 0.7534246575342466 0.8322318251143874 0.71875 0.7681818181818182 0.71875 0.8428927680798005 0.71875 0.8038049940546969 MLPClassifier {'hidden_layer_sizes': (100,), 'activation': 'relu', 'alpha': 0.001, 'max_iter': 200, 'solver': 'adam'}\n",
      "Regression:  False\n",
      "xg\n",
      "{'max_depth': 5, 'eta': 0.1, 'gamma': 0.01}\n",
      "time:  5.545504\n",
      "0 0.7613058943089431 0.9752068327036486 0.771689497716895 0.9766141331977631 0.7738095238095238 0.9748743718592965 0.6770833333333334 0.9675810473815462 0.7222222222222222 0.9712140175219023 XGBClassifier {'max_depth': 5, 'eta': 0.1, 'gamma': 0.01}\n",
      "Regression:  False\n",
      "xg\n",
      "{'max_depth': 5, 'eta': 0.1, 'gamma': 0}\n",
      "time:  5.493648\n",
      "0 0.7613058943089431 0.9752068327036486 0.771689497716895 0.9766141331977631 0.7738095238095238 0.9748743718592965 0.6770833333333334 0.9675810473815462 0.7222222222222222 0.9712140175219023 XGBClassifier {'max_depth': 5, 'eta': 0.1, 'gamma': 0}\n"
     ]
    },
    {
     "name": "stderr",
     "output_type": "stream",
     "text": [
      "\n",
      "A value is trying to be set on a copy of a slice from a DataFrame\n",
      "\n",
      "See the caveats in the documentation: https://pandas.pydata.org/pandas-docs/stable/user_guide/indexing.html#returning-a-view-versus-a-copy\n",
      "100%|██████████| 2186/2186 [07:02<00:00,  5.17it/s] \n"
     ]
    },
    {
     "name": "stdout",
     "output_type": "stream",
     "text": [
      "Regression:  False\n",
      "gb\n",
      "{'max_depth': 7, 'loss': 'exponential', 'n_estimators': 200, 'learning_rate': 1.0, 'min_impurity_decrease': 0}\n",
      "time:  344.029559\n",
      "0 0.738694105691057 0.9833522417133131 0.7488584474885844 0.983731570920183 0.7411764705882353 0.9788557213930348 0.65625 0.9812967581047382 0.6961325966850829 0.9800747198007472 GradientBoostingClassifier {'max_depth': 7, 'loss': 'exponential', 'n_estimators': 200, 'learning_rate': 1.0, 'min_impurity_decrease': 0}\n",
      "Regression:  False\n",
      "gb\n",
      "{'max_depth': 7, 'loss': 'log_loss', 'n_estimators': 200, 'learning_rate': 0.1, 'min_impurity_decrease': 0.1}\n",
      "time:  121.432563\n",
      "0 0.7531758130081302 0.9823402866224995 0.7625570776255708 0.9832231825114387 0.7558139534883721 0.981226533166458 0.6770833333333334 0.9775561097256857 0.7142857142857142 0.9793878825733916 GradientBoostingClassifier {'max_depth': 7, 'loss': 'log_loss', 'n_estimators': 200, 'learning_rate': 0.1, 'min_impurity_decrease': 0.1}\n",
      "Regression:  False\n",
      "nn\n",
      "{'hidden_layer_sizes': (50, 50), 'activation': 'tanh', 'alpha': 0.01, 'max_iter': 1000, 'solver': 'sgd'}\n",
      "time:  12.196948\n",
      "0 0.6392276422764228 0.6973456915650786 0.6666666666666666 0.7280122013218099 0.7017543859649122 0.7282051282051282 0.4166666666666667 0.5311720698254364 0.522875816993464 0.6142754145638067 MLPClassifier {'hidden_layer_sizes': (50, 50), 'activation': 'tanh', 'alpha': 0.01, 'max_iter': 1000, 'solver': 'sgd'}\n",
      "Regression:  False\n",
      "nn\n",
      "{'hidden_layer_sizes': (50,), 'activation': 'logistic', 'alpha': 0.001, 'max_iter': 200, 'solver': 'lbfgs'}\n"
     ]
    },
    {
     "name": "stderr",
     "output_type": "stream",
     "text": [
      "lbfgs failed to converge (status=1):\n",
      "STOP: TOTAL NO. of ITERATIONS REACHED LIMIT.\n",
      "\n",
      "Increase the number of iterations (max_iter) or scale the data as shown in:\n",
      "    https://scikit-learn.org/stable/modules/preprocessing.html\n"
     ]
    },
    {
     "name": "stdout",
     "output_type": "stream",
     "text": [
      "time:  4.313194\n",
      "0 0.7322154471544716 0.8835379362751918 0.7351598173515982 0.8845958312150483 0.6938775510204082 0.8451380552220888 0.7083333333333334 0.8778054862842892 0.7010309278350516 0.8611620795107034 MLPClassifier {'hidden_layer_sizes': (50,), 'activation': 'logistic', 'alpha': 0.001, 'max_iter': 200, 'solver': 'lbfgs'}\n"
     ]
    },
    {
     "name": "stderr",
     "output_type": "stream",
     "text": [
      "\n",
      "A value is trying to be set on a copy of a slice from a DataFrame\n",
      "\n",
      "See the caveats in the documentation: https://pandas.pydata.org/pandas-docs/stable/user_guide/indexing.html#returning-a-view-versus-a-copy\n"
     ]
    },
    {
     "name": "stdout",
     "output_type": "stream",
     "text": [
      "Regression:  True\n",
      "rf\n",
      "{'max_depth': 20, 'min_samples_split': 10, 'min_samples_leaf': 1, 'min_impurity_decrease': 0, 'n_estimators': 10}\n",
      "time:  0.842575\n",
      "0 0.6908633368674165 0.4407845001603857 0.4772921502275815 0.19429097558164105 0.5354403615750455 0.34305076946011026 0.4709753710732597 0.7895237460009403 RandomForestRegressor {'max_depth': 20, 'min_samples_split': 10, 'min_samples_leaf': 1, 'min_impurity_decrease': 0, 'n_estimators': 10}\n",
      "Regression:  True\n",
      "sv\n",
      "{'C': 0.01, 'kernel': 'poly', 'epsilon': 0.1, 'gamma': 0.1}\n",
      "time:  3.431881\n",
      "0 0.6437773563415514 0.3226326123516708 0.4144492845381169 0.10409180255286346 0.479852630961752 0.18929873357837215 0.5406296146769098 0.8872369001815509 SVR {'C': 0.01, 'kernel': 'poly', 'epsilon': 0.1, 'gamma': 0.1}\n",
      "Regression:  True\n",
      "sv\n",
      "{'C': 0.1, 'kernel': 'poly', 'epsilon': 0.1, 'gamma': 0.05}\n",
      "time:  3.610779\n",
      "0 0.644751799043391 0.2924855987906634 0.4157048823696893 0.0855478254999329 0.4813292033833727 0.17170518703441479 0.5392379257991187 0.9073256707107064 SVR {'C': 0.1, 'kernel': 'poly', 'epsilon': 0.1, 'gamma': 0.05}\n",
      "Regression:  True\n",
      "sv\n",
      "{'C': 0.01, 'kernel': 'poly', 'epsilon': 0.01, 'gamma': 0.1}\n",
      "time:  4.242789\n",
      "0 0.6464342862046518 0.3215750014630197 0.4178772863809177 0.10341048156594114 0.47918353290291693 0.1374500282708129 0.5368300604584231 0.8879749781528465 SVR {'C': 0.01, 'kernel': 'poly', 'epsilon': 0.01, 'gamma': 0.1}\n",
      "Regression:  True\n",
      "sv\n",
      "{'C': 0.1, 'kernel': 'poly', 'epsilon': 0.01, 'gamma': 0.05}\n",
      "time:  4.306719\n",
      "0 0.648694171929777 0.2896070801220697 0.4208041286956591 0.08387226085683089 0.48028436273799774 0.11487239039585741 0.5335859851708976 0.9091408171340419 SVR {'C': 0.1, 'kernel': 'poly', 'epsilon': 0.01, 'gamma': 0.05}\n",
      "Regression:  True\n",
      "sv\n",
      "{'C': 1, 'kernel': 'poly', 'epsilon': 0.1, 'gamma': 'scale'}\n",
      "time:  3.347749\n",
      "0 0.6489232607443779 0.40426255103187786 0.42110139833511584 0.16342821016680165 0.4880551928149997 0.24551179463263267 0.5332564952334875 0.8229575132313569 SVR {'C': 1, 'kernel': 'poly', 'epsilon': 0.1, 'gamma': 'scale'}\n",
      "Regression:  True\n",
      "sv\n",
      "{'C': 1, 'kernel': 'rbf', 'epsilon': 0.1, 'gamma': 'scale'}\n",
      "time:  4.947874\n",
      "0 0.6512130446000342 0.45522604819619605 0.4240784294572461 0.2072307549563254 0.4930048558701441 0.29295612848940966 0.5299567913017607 0.7755060270502553 SVR {'C': 1, 'kernel': 'rbf', 'epsilon': 0.1, 'gamma': 'scale'}\n",
      "Regression:  True\n",
      "sv\n",
      "{'C': 1, 'kernel': 'rbf', 'epsilon': 0.01, 'gamma': 'scale'}\n",
      "time:  6.092519\n",
      "0 0.6529344735861633 0.4552635059882179 0.42632342679724017 0.2072648598846841 0.49414515443918033 0.2632196229785278 0.5274684644265637 0.775469081033888 SVR {'C': 1, 'kernel': 'rbf', 'epsilon': 0.01, 'gamma': 'scale'}\n",
      "Regression:  True\n",
      "sv\n",
      "{'C': 1, 'kernel': 'poly', 'epsilon': 0.01, 'gamma': 'scale'}\n",
      "time:  4.234896\n",
      "0 0.6530313872060539 0.4040505777934003 0.42644999267626316 0.16325686941518064 0.487858911169945 0.20586151479910178 0.5273281803947543 0.8231431274084983 SVR {'C': 1, 'kernel': 'poly', 'epsilon': 0.01, 'gamma': 'scale'}\n"
     ]
    },
    {
     "name": "stderr",
     "output_type": "stream",
     "text": [
      "\n",
      "A value is trying to be set on a copy of a slice from a DataFrame\n",
      "\n",
      "See the caveats in the documentation: https://pandas.pydata.org/pandas-docs/stable/user_guide/indexing.html#returning-a-view-versus-a-copy\n",
      "100%|██████████| 2186/2186 [07:04<00:00,  5.16it/s] \n",
      "\n",
      "A value is trying to be set on a copy of a slice from a DataFrame\n",
      "\n",
      "See the caveats in the documentation: https://pandas.pydata.org/pandas-docs/stable/user_guide/indexing.html#returning-a-view-versus-a-copy\n",
      "100%|██████████| 2186/2186 [07:05<00:00,  5.13it/s] \n"
     ]
    },
    {
     "name": "stdout",
     "output_type": "stream",
     "text": [
      "Regression:  True\n",
      "gb\n",
      "{'max_depth': 7, 'loss': 'huber', 'n_estimators': 100, 'learning_rate': 0.1, 'min_impurity_decrease': 0.2}\n",
      "time:  101.678838\n",
      "0 0.6375208169234879 0.25634766270736253 0.4064327920107914 0.0657141241755277 0.4723842972195164 0.17247839968849005 0.5495149943810183 0.9288116051201657 GradientBoostingRegressor {'max_depth': 7, 'loss': 'huber', 'n_estimators': 100, 'learning_rate': 0.1, 'min_impurity_decrease': 0.2}\n"
     ]
    }
   ],
   "source": [
    "for dataset in main_datasets:\n",
    "    regression = False\n",
    "    if \"regre\" in dataset:\n",
    "        regression = True\n",
    "\n",
    "\n",
    "    df = pd.read_csv(r\"Merged runs/\" + dataset + \".csv\")\n",
    "    \n",
    "    setups = {\"Fingerprints\": [], \"Descriptors\": [], \"DescFing\": []}\n",
    "\n",
    "    for row in df.head(top_models)[['hyperparams', 'preprocessing', 'model']].iterrows():\n",
    "        #print(row)\n",
    "        params = list(row[1])[0].split(\", '\")\n",
    "        params[0] = params[0][2:]\n",
    "        params[-1] = params[-1][:-1]\n",
    "        #print(params)\n",
    "\n",
    "        preprocessing = list(row[1])[1]\n",
    "        model = list(row[1])[2]\n",
    "        #print(preprocessing)\n",
    "\n",
    "        clean_params = {}\n",
    "        \n",
    "        for param in params:\n",
    "            name = param.split(\"': \")[0]\n",
    "            val = param.split(\"': \")[1]\n",
    "            if val[0] == \"'\":\n",
    "                val = val[1:-1]\n",
    "            elif val[0] == \"(\":\n",
    "                if val == \"(50, 50)\": val = (50, 50)\n",
    "                if val == \"(100, )\" or val == \"(100,)\": val = (100, )\n",
    "                if val == \"(50, )\" or val == \"(50,)\": val = (50, )\n",
    "            elif val == \"None\":\n",
    "                val = None\n",
    "            else:\n",
    "                try:\n",
    "                    val = int(val)\n",
    "                except:\n",
    "                    val = float(val)\n",
    "            clean_params[name] = [val]\n",
    "        #print(model)\n",
    "        #print(preprocessing)\n",
    "        #print(clean_params)\n",
    "        setups[preprocessing].append([model, clean_params])\n",
    "\n",
    "    for key in setups.keys():\n",
    "        setups[key] = sorted(setups[key], key=lambda x:x[0])\n",
    "    #print(setups)\n",
    "\n",
    "    returned_df = pd.DataFrame(columns=df.columns)\n",
    "    #print(returned_df)\n",
    "\n",
    "    for key in setups.keys():\n",
    "        if key == \"Descriptors\":\n",
    "            calculate_descriptors = True\n",
    "            calculate_fingerprints = False\n",
    "        if name == \"DescFing\":\n",
    "            calculate_descriptors = True\n",
    "            calculate_fingerprints = True\n",
    "        if key == \"Fingerprints\":\n",
    "            calculate_descriptors = False\n",
    "            calculate_fingerprints = True\n",
    "\n",
    "            \n",
    "        if \"BACE\" in dataset:\n",
    "            prepared_dataset = pd.read_csv(r\"C:\\Users\\wojci\\Documents\\GitHub\\czasteczkowa-inzynierka\\experiments\\split_datasets\\split0.9_bace.csv\")\n",
    "        else:\n",
    "            prepared_dataset = pd.read_csv(r\"C:\\Users\\wojci\\Documents\\GitHub\\czasteczkowa-inzynierka\\experiments\\split_datasets\\split0.9_ROR_data_1.csv\")\n",
    "        \n",
    "        if not \"pIC50\" in prepared_dataset.columns:\n",
    "            prepared_dataset = Finalized_pipeline.calculate_pIC50(prepared_dataset, \"target\")\n",
    "        \n",
    "        if not regression:\n",
    "            prepared_dataset = Finalized_pipeline.calculate_classification_labels(prepared_dataset, \"pIC50\", threshold=7)\n",
    "            target_column = \"label\"\n",
    "        else:\n",
    "            target_column = \"pIC50\"\n",
    "\n",
    "        if \"mol\" in prepared_dataset.columns:\n",
    "            prepared_dataset.rename(columns={\"mol\": \"SMILES\"}, inplace=True)\n",
    "\n",
    "        if regression:\n",
    "            runtype = \"regression\"\n",
    "        else:\n",
    "            runtype = \"classification\"\n",
    "        \n",
    "        prepared_dataset = Finalized_pipeline.calculate_features(prepared_dataset, calculate_descriptors=calculate_descriptors, \n",
    "                                                                 calculate_fingerprints=calculate_fingerprints, \n",
    "                                                    SMILES_column_name=\"SMILES\", target_column_name=target_column, \n",
    "                                                    split_column_name=\"Split\", output_csv_path=dataset + \"_\" + key + \"_0.9.csv\")\n",
    "\n",
    "        for combination in setups[key]:\n",
    "                            # model short name, parameters\n",
    "            hyperparams = {str(model_name_shorts[combination[0]]): combination[1]}\n",
    "\n",
    "\n",
    "            new_df = Finalized_pipeline.hyperparameter_search(prepared_dataset, hyperparams, unique=False, return_df=True, output_file_name=\"tmp.csv\")\n",
    "\n",
    "            new_df['split'] = 0.9\n",
    "            new_df['preprocessing'] = key\n",
    "\n",
    "            returned_df = pd.concat([returned_df, new_df])\n",
    "\n",
    "    if \"mse\" in returned_df.columns:\n",
    "        returned_df.sort_values(by=['mse'], inplace=True)\n",
    "    else:\n",
    "        returned_df.sort_values(by=['roc_auc'], inplace=True, ascending=False)\n",
    "    returned_df.to_csv(\"RERUN_\" + dataset + \".csv\", index=False)\n",
    "\n",
    "        \n",
    "                \n"
   ]
  }
 ],
 "metadata": {
  "kernelspec": {
   "display_name": "Python 3",
   "language": "python",
   "name": "python3"
  },
  "language_info": {
   "codemirror_mode": {
    "name": "ipython",
    "version": 3
   },
   "file_extension": ".py",
   "mimetype": "text/x-python",
   "name": "python",
   "nbconvert_exporter": "python",
   "pygments_lexer": "ipython3",
   "version": "3.11.3"
  }
 },
 "nbformat": 4,
 "nbformat_minor": 2
}
