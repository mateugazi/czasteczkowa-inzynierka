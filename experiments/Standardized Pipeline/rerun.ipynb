{
 "cells": [
  {
   "cell_type": "code",
   "execution_count": 10,
   "metadata": {},
   "outputs": [],
   "source": [
    "import pandas as pd\n",
    "import numpy as np\n",
    "import os\n",
    "\n",
    "from itertools import product\n",
    "\n",
    "import Finalized_pipeline\n",
    "\n",
    "import seaborn as sns\n",
    "import matplotlib.pyplot as plt"
   ]
  },
  {
   "cell_type": "code",
   "execution_count": 11,
   "metadata": {},
   "outputs": [],
   "source": [
    "main_datasets = [\"BACE_class\", \"BACE_regre\", \"ROR_class\", \"ROR_regre\"]\n",
    "model_name_shorts = {\"DecisionTreeRegressor\": \"dt\", \"DecisionTreeClassifier\": \"dt\", \n",
    "                    \"RandomForestRegressor\": \"rf\", \"RandomForestClassifier\": \"rf\", \n",
    "                    \"LinearRegression\": \"lr\", \"LogisticRegression\": \"lr\", \n",
    "                    \"MLPRegressor\": \"nn\", \"MLPClassifier\": \"nn\",  \n",
    "                    \"GradientBoostingRegressor\": \"gb\", \"GradientBoostingClassifier\": \"gb\",\n",
    "                    \"XGBRegressor\": \"xg\", \"XGBClassifier\": \"xg\", \n",
    "                    \"SVR\": \"sv\", \"SVC\": \"sv\"}\n",
    "    \n",
    "top_models = 100\n",
    "split = 0.8\n"
   ]
  },
  {
   "cell_type": "code",
   "execution_count": 12,
   "metadata": {},
   "outputs": [
    {
     "name": "stderr",
     "output_type": "stream",
     "text": [
      "\n",
      "A value is trying to be set on a copy of a slice from a DataFrame\n",
      "\n",
      "See the caveats in the documentation: https://pandas.pydata.org/pandas-docs/stable/user_guide/indexing.html#returning-a-view-versus-a-copy\n"
     ]
    },
    {
     "name": "stdout",
     "output_type": "stream",
     "text": [
      "Regression:  False\n",
      "gb\n",
      "{'max_depth': 5, 'loss': 'exponential', 'n_estimators': 10, 'learning_rate': 0.5, 'min_impurity_decrease': 0.1}\n",
      "time:  0.333147\n",
      "0 0.8177626303127506 0.9145252975201117 0.8217821782178217 0.915702479338843 0.7906976744186046 0.9044943820224719 0.7906976744186046 0.9044943820224719 0.7906976744186046 0.9044943820224719 GradientBoostingClassifier {'max_depth': 5, 'loss': 'exponential', 'n_estimators': 10, 'learning_rate': 0.5, 'min_impurity_decrease': 0.1}\n",
      "Regression:  False\n",
      "gb\n",
      "{'max_depth': 5, 'loss': 'exponential', 'n_estimators': 10, 'learning_rate': 1.0, 'min_impurity_decrease': 0}\n",
      "time:  0.315353\n",
      "0 0.7897620956963378 0.9054057797575515 0.7953795379537953 0.9066115702479339 0.7637795275590551 0.8934579439252337 0.751937984496124 0.8951310861423221 0.7578125 0.8942937324602432 GradientBoostingClassifier {'max_depth': 5, 'loss': 'exponential', 'n_estimators': 10, 'learning_rate': 1.0, 'min_impurity_decrease': 0}\n",
      "Regression:  False\n",
      "gb\n",
      "{'max_depth': 7, 'loss': 'exponential', 'n_estimators': 100, 'learning_rate': 0.5, 'min_impurity_decrease': 0.05}\n",
      "time:  2.399681\n",
      "0 0.8390136327185246 0.989794561531813 0.8415841584158416 0.9892561983471074 0.8091603053435115 0.9815157116451017 0.8217054263565892 0.9943820224719101 0.8153846153846155 0.987906976744186 GradientBoostingClassifier {'max_depth': 7, 'loss': 'exponential', 'n_estimators': 100, 'learning_rate': 0.5, 'min_impurity_decrease': 0.05}\n",
      "Regression:  False\n",
      "gb\n",
      "{'max_depth': 7, 'loss': 'exponential', 'n_estimators': 100, 'learning_rate': 0.5, 'min_impurity_decrease': 0}\n",
      "time:  3.704838\n",
      "0 0.8235097567495322 0.990730891119828 0.8283828382838284 0.9900826446280991 0.8031496062992126 0.981549815498155 0.7906976744186046 0.9962546816479401 0.7968749999999999 0.9888475836431226 GradientBoostingClassifier {'max_depth': 7, 'loss': 'exponential', 'n_estimators': 100, 'learning_rate': 0.5, 'min_impurity_decrease': 0}\n",
      "Regression:  False\n",
      "gb\n",
      "{'max_depth': 5, 'loss': 'exponential', 'n_estimators': 50, 'learning_rate': 2.0, 'min_impurity_decrease': 0.2}\n",
      "time:  1.280049\n",
      "0 0.8101443464314355 0.9886615473261974 0.8118811881188119 0.9884297520661157 0.7686567164179104 0.983271375464684 0.7984496124031008 0.9906367041198502 0.7832699619771862 0.9869402985074627 GradientBoostingClassifier {'max_depth': 5, 'loss': 'exponential', 'n_estimators': 50, 'learning_rate': 2.0, 'min_impurity_decrease': 0.2}\n",
      "Regression:  False\n",
      "gb\n",
      "{'max_depth': 7, 'loss': 'exponential', 'n_estimators': 50, 'learning_rate': 1.0, 'min_impurity_decrease': 0.1}\n",
      "time:  1.267675\n",
      "0 0.8110130981021118 0.9894011922966116 0.8151815181518152 0.9892561983471074 0.7829457364341085 0.9851024208566108 0.7829457364341085 0.9906367041198502 0.7829457364341085 0.9878618113912231 GradientBoostingClassifier {'max_depth': 7, 'loss': 'exponential', 'n_estimators': 50, 'learning_rate': 1.0, 'min_impurity_decrease': 0.1}\n",
      "Regression:  False\n",
      "gb\n",
      "{'max_depth': 5, 'loss': 'exponential', 'n_estimators': 50, 'learning_rate': 0.5, 'min_impurity_decrease': 0.1}\n",
      "time:  1.323797\n",
      "0 0.8322641005078856 0.9810684130044544 0.834983498349835 0.9801652892561984 0.8015267175572519 0.967032967032967 0.813953488372093 0.9887640449438202 0.8076923076923077 0.9777777777777779 GradientBoostingClassifier {'max_depth': 5, 'loss': 'exponential', 'n_estimators': 50, 'learning_rate': 0.5, 'min_impurity_decrease': 0.1}\n",
      "Regression:  False\n",
      "lr\n",
      "{'C': 1, 'penalty': 'l2', 'solver': 'saga'}\n"
     ]
    },
    {
     "name": "stderr",
     "output_type": "stream",
     "text": [
      "The max_iter was reached which means the coef_ did not converge\n"
     ]
    },
    {
     "name": "stdout",
     "output_type": "stream",
     "text": [
      "time:  1.399725\n",
      "0 0.822641005078856 0.9604137579504908 0.8250825082508251 0.959504132231405 0.7878787878787878 0.941712204007286 0.8062015503875969 0.9681647940074907 0.7969348659003832 0.9547553093259464 LogisticRegression {'C': 1, 'penalty': 'l2', 'solver': 'saga'}\n",
      "Regression:  False\n",
      "lr\n",
      "{'C': 1, 'penalty': 'l2', 'solver': 'liblinear'}\n",
      "time:  0.08202\n",
      "0 0.8293905372894949 0.9626326928617334 0.8316831683168316 0.9619834710743802 0.7954545454545454 0.9468864468864469 0.813953488372093 0.9681647940074907 0.8045977011494252 0.9574074074074075 LogisticRegression {'C': 1, 'penalty': 'l2', 'solver': 'liblinear'}\n",
      "Regression:  False\n",
      "lr\n",
      "{'C': 10, 'penalty': 'l2', 'solver': 'saga'}\n"
     ]
    },
    {
     "name": "stderr",
     "output_type": "stream",
     "text": [
      "The max_iter was reached which means the coef_ did not converge\n"
     ]
    },
    {
     "name": "stdout",
     "output_type": "stream",
     "text": [
      "time:  1.422449\n",
      "0 0.8342689120556002 0.9788023845932229 0.834983498349835 0.9785123966942149 0.7925925925925926 0.9703703703703703 0.8294573643410853 0.9812734082397003 0.8106060606060607 0.9757914338919925 LogisticRegression {'C': 10, 'penalty': 'l2', 'solver': 'saga'}\n",
      "Regression:  False\n",
      "lr\n",
      "{'C': 1, 'penalty': 'l1', 'solver': 'liblinear'}\n",
      "time:  0.128135\n",
      "0 0.8342689120556002 0.9231960419298362 0.834983498349835 0.9223140495867769 0.7925925925925926 0.8971119133574007 0.8294573643410853 0.9307116104868914 0.8106060606060607 0.9136029411764706 LogisticRegression {'C': 1, 'penalty': 'l1', 'solver': 'liblinear'}\n",
      "Regression:  False\n",
      "lr\n",
      "{'C': 10, 'penalty': 'l1', 'solver': 'saga'}\n"
     ]
    },
    {
     "name": "stderr",
     "output_type": "stream",
     "text": [
      "The max_iter was reached which means the coef_ did not converge\n"
     ]
    },
    {
     "name": "stdout",
     "output_type": "stream",
     "text": [
      "time:  1.859403\n",
      "0 0.8410184442662391 0.9780627396228088 0.8415841584158416 0.9776859504132231 0.8 0.9685767097966729 0.8372093023255814 0.9812734082397003 0.8181818181818183 0.9748837209302326 LogisticRegression {'C': 10, 'penalty': 'l1', 'solver': 'saga'}\n",
      "Regression:  False\n",
      "nn\n",
      "{'hidden_layer_sizes': (100,), 'activation': 'relu', 'alpha': 0.001, 'max_iter': 1000, 'solver': 'sgd'}\n"
     ]
    },
    {
     "name": "stderr",
     "output_type": "stream",
     "text": [
      "Stochastic Optimizer: Maximum iterations (1000) reached and the optimization hasn't converged yet.\n"
     ]
    },
    {
     "name": "stdout",
     "output_type": "stream",
     "text": [
      "time:  61.299581\n",
      "0 0.8293905372894949 0.9680068922722336 0.8316831683168316 0.9677685950413223 0.7954545454545454 0.9574861367837338 0.813953488372093 0.9700374531835206 0.8045977011494252 0.9637209302325582 MLPClassifier {'hidden_layer_sizes': (100,), 'activation': 'relu', 'alpha': 0.001, 'max_iter': 1000, 'solver': 'sgd'}\n",
      "Regression:  False\n",
      "nn\n",
      "{'hidden_layer_sizes': (100,), 'activation': 'relu', 'alpha': 0.0001, 'max_iter': 1000, 'solver': 'sgd'}\n"
     ]
    },
    {
     "name": "stderr",
     "output_type": "stream",
     "text": [
      "Stochastic Optimizer: Maximum iterations (1000) reached and the optimization hasn't converged yet.\n"
     ]
    },
    {
     "name": "stdout",
     "output_type": "stream",
     "text": [
      "time:  62.100864\n",
      "0 0.8293905372894949 0.9680068922722336 0.8316831683168316 0.9677685950413223 0.7954545454545454 0.9574861367837338 0.813953488372093 0.9700374531835206 0.8045977011494252 0.9637209302325582 MLPClassifier {'hidden_layer_sizes': (100,), 'activation': 'relu', 'alpha': 0.0001, 'max_iter': 1000, 'solver': 'sgd'}\n",
      "Regression:  False\n",
      "nn\n",
      "{'hidden_layer_sizes': (50, 50), 'activation': 'relu', 'alpha': 0.0001, 'max_iter': 200, 'solver': 'adam'}\n",
      "time:  3.782629\n",
      "0 0.8177626303127506 0.9890549165613988 0.8217821782178217 0.9884297520661157 0.7906976744186046 0.9797047970479705 0.7906976744186046 0.9943820224719101 0.7906976744186046 0.9869888475836431 MLPClassifier {'hidden_layer_sizes': (50, 50), 'activation': 'relu', 'alpha': 0.0001, 'max_iter': 200, 'solver': 'adam'}\n",
      "Regression:  False\n",
      "nn\n",
      "{'hidden_layer_sizes': (50, 50), 'activation': 'tanh', 'alpha': 0.01, 'max_iter': 200, 'solver': 'sgd'}\n"
     ]
    },
    {
     "name": "stderr",
     "output_type": "stream",
     "text": [
      "Stochastic Optimizer: Maximum iterations (200) reached and the optimization hasn't converged yet.\n"
     ]
    },
    {
     "name": "stdout",
     "output_type": "stream",
     "text": [
      "time:  11.043041\n",
      "0 0.8178962844159317 0.8945077898189394 0.8184818481848185 0.8942148760330578 0.7720588235294118 0.8677536231884058 0.813953488372093 0.897003745318352 0.7924528301886792 0.8821362799263351 MLPClassifier {'hidden_layer_sizes': (50, 50), 'activation': 'tanh', 'alpha': 0.01, 'max_iter': 200, 'solver': 'sgd'}\n",
      "Regression:  False\n",
      "nn\n",
      "{'hidden_layer_sizes': (50, 50), 'activation': 'logistic', 'alpha': 0.01, 'max_iter': 200, 'solver': 'adam'}\n"
     ]
    },
    {
     "name": "stderr",
     "output_type": "stream",
     "text": [
      "Stochastic Optimizer: Maximum iterations (200) reached and the optimization hasn't converged yet.\n"
     ]
    },
    {
     "name": "stdout",
     "output_type": "stream",
     "text": [
      "time:  12.416022\n",
      "0 0.8255145682972468 0.9869855727677681 0.8283828382838284 0.9867768595041322 0.7938931297709924 0.9814126394052045 0.8062015503875969 0.9887640449438202 0.7999999999999999 0.9850746268656717 MLPClassifier {'hidden_layer_sizes': (50, 50), 'activation': 'logistic', 'alpha': 0.01, 'max_iter': 200, 'solver': 'adam'}\n",
      "Regression:  False\n",
      "nn\n",
      "{'hidden_layer_sizes': (50,), 'activation': 'relu', 'alpha': 0.001, 'max_iter': 1000, 'solver': 'sgd'}\n"
     ]
    },
    {
     "name": "stderr",
     "output_type": "stream",
     "text": [
      "Stochastic Optimizer: Maximum iterations (1000) reached and the optimization hasn't converged yet.\n"
     ]
    },
    {
     "name": "stdout",
     "output_type": "stream",
     "text": [
      "time:  45.703738\n",
      "0 0.8380112269446672 0.9663309177138045 0.8415841584158416 0.9661157024793389 0.813953488372093 0.955637707948244 0.813953488372093 0.9681647940074907 0.8139534883720931 0.9618604651162792 MLPClassifier {'hidden_layer_sizes': (50,), 'activation': 'relu', 'alpha': 0.001, 'max_iter': 1000, 'solver': 'sgd'}\n",
      "Regression:  False\n",
      "nn\n",
      "{'hidden_layer_sizes': (50, 50), 'activation': 'relu', 'alpha': 0.01, 'max_iter': 500, 'solver': 'sgd'}\n"
     ]
    },
    {
     "name": "stderr",
     "output_type": "stream",
     "text": [
      "Stochastic Optimizer: Maximum iterations (500) reached and the optimization hasn't converged yet.\n"
     ]
    },
    {
     "name": "stdout",
     "output_type": "stream",
     "text": [
      "time:  25.295714\n",
      "0 0.8418871959369152 0.9700291425658756 0.8448844884488449 0.9702479338842975 0.8153846153846154 0.9645522388059702 0.8217054263565892 0.9681647940074907 0.8185328185328187 0.9663551401869159 MLPClassifier {'hidden_layer_sizes': (50, 50), 'activation': 'relu', 'alpha': 0.01, 'max_iter': 500, 'solver': 'sgd'}\n",
      "Regression:  False\n",
      "rf\n",
      "{'max_depth': 20, 'min_samples_split': 10, 'min_samples_leaf': 1, 'min_impurity_decrease': 0, 'n_estimators': 50}\n",
      "time:  0.211235\n",
      "0 0.837142475273991 0.9145252975201117 0.8382838283828383 0.915702479338843 0.7985074626865671 0.9044943820224719 0.8294573643410853 0.9044943820224719 0.8136882129277565 0.9044943820224719 RandomForestClassifier {'max_depth': 20, 'min_samples_split': 10, 'min_samples_leaf': 1, 'min_impurity_decrease': 0, 'n_estimators': 50}\n",
      "Regression:  False\n",
      "sv\n",
      "{'C': 10, 'kernel': 'rbf', 'gamma': 0.05}\n",
      "time:  2.103918\n",
      "0 0.8457631649291633 0.9901879307670147 0.8481848184818482 0.9892561983471074 0.816793893129771 0.9779816513761468 0.8294573643410853 0.99812734082397 0.823076923076923 0.9879518072289157 SVC {'C': 10, 'kernel': 'rbf', 'gamma': 0.05}\n",
      "Regression:  False\n",
      "sv\n",
      "{'C': 1000, 'kernel': 'rbf', 'gamma': 0.05}\n",
      "time:  2.275117\n",
      "0 0.8457631649291633 0.9909275757374288 0.8481848184818482 0.9900826446280991 0.816793893129771 0.9797794117647058 0.8294573643410853 0.99812734082397 0.823076923076923 0.9888682745825603 SVC {'C': 1000, 'kernel': 'rbf', 'gamma': 0.05}\n",
      "Regression:  False\n",
      "sv\n",
      "{'C': 100, 'kernel': 'rbf', 'gamma': 0.05}\n",
      "time:  2.301961\n",
      "0 0.8457631649291633 0.9909275757374288 0.8481848184818482 0.9900826446280991 0.816793893129771 0.9797794117647058 0.8294573643410853 0.99812734082397 0.823076923076923 0.9888682745825603 SVC {'C': 100, 'kernel': 'rbf', 'gamma': 0.05}\n",
      "Regression:  False\n",
      "sv\n",
      "{'C': 10, 'kernel': 'rbf', 'gamma': 'scale'}\n",
      "time:  1.610627\n",
      "0 0.822507350975675 0.9862459277973539 0.8283828382838284 0.9859504132231405 0.808 0.9795918367346939 0.7829457364341085 0.9887640449438202 0.7952755905511811 0.9841565703634668 SVC {'C': 10, 'kernel': 'rbf', 'gamma': 'scale'}\n",
      "Regression:  False\n",
      "xg\n",
      "{'max_depth': 7, 'eta': 0.1, 'gamma': 0}\n",
      "time:  1.075105\n",
      "0 0.8506415396952686 0.9447870265718147 0.8514851485148515 0.943801652892562 0.8134328358208955 0.9221014492753623 0.8449612403100775 0.9531835205992509 0.8288973384030418 0.9373848987108656 XGBClassifier {'max_depth': 7, 'eta': 0.1, 'gamma': 0}\n",
      "Regression:  False\n",
      "xg\n",
      "{'max_depth': 5, 'eta': 0.1, 'gamma': 0.01}\n",
      "time:  0.96412\n",
      "0 0.8438920074846298 0.9162483655785297 0.8448844884488449 0.9165289256198347 0.8059701492537313 0.8987108655616943 0.8372093023255814 0.9138576779026217 0.8212927756653993 0.9062209842154132 XGBClassifier {'max_depth': 5, 'eta': 0.1, 'gamma': 0.01}\n",
      "Regression:  False\n",
      "xg\n",
      "{'max_depth': 5, 'eta': 0.1, 'gamma': 0}\n",
      "time:  0.964991\n",
      "0 0.8438920074846298 0.9136360614320856 0.8448844884488449 0.9140495867768595 0.8059701492537313 0.8966789667896679 0.8372093023255814 0.9101123595505618 0.8212927756653993 0.9033457249070633 XGBClassifier {'max_depth': 5, 'eta': 0.1, 'gamma': 0}\n",
      "Regression:  False\n",
      "xg\n",
      "{'max_depth': 7, 'eta': 0.2, 'gamma': 0}\n",
      "time:  0.998024\n",
      "0 0.8246458166265704 0.9734281851827227 0.8250825082508251 0.9727272727272728 0.7794117647058824 0.9596330275229358 0.8217054263565892 0.9794007490636704 0.8 0.969416126042632 XGBClassifier {'max_depth': 7, 'eta': 0.2, 'gamma': 0}\n",
      "Regression:  False\n",
      "xg\n",
      "{'max_depth': None, 'eta': 0.1, 'gamma': 0.01}\n",
      "time:  0.992527\n",
      "0 0.8400160384923817 0.9285702413403363 0.8415841584158416 0.928099173553719 0.8045112781954887 0.907103825136612 0.8294573643410853 0.9325842696629213 0.816793893129771 0.9196675900277007 XGBClassifier {'max_depth': None, 'eta': 0.1, 'gamma': 0.01}\n",
      "Regression:  False\n",
      "xg\n",
      "{'max_depth': 7, 'eta': 0.2, 'gamma': 0.1}\n",
      "time:  1.006887\n",
      "0 0.8438920074846298 0.9713588413890921 0.8448844884488449 0.9710743801652892 0.8059701492537313 0.9611829944547134 0.8372093023255814 0.9737827715355806 0.8212927756653993 0.9674418604651163 XGBClassifier {'max_depth': 7, 'eta': 0.2, 'gamma': 0.1}\n",
      "Regression:  False\n",
      "xg\n",
      "{'max_depth': 7, 'eta': 0.1, 'gamma': 0}\n",
      "time:  1.068602\n",
      "0 0.8506415396952686 0.9447870265718147 0.8514851485148515 0.943801652892562 0.8134328358208955 0.9221014492753623 0.8449612403100775 0.9531835205992509 0.8288973384030418 0.9373848987108656 XGBClassifier {'max_depth': 7, 'eta': 0.1, 'gamma': 0}\n",
      "Regression:  False\n",
      "xg\n",
      "{'max_depth': 7, 'eta': 0.1, 'gamma': 0.01}\n",
      "time:  1.027086\n",
      "0 0.8506415396952686 0.9417813531901691 0.8514851485148515 0.9413223140495868 0.8134328358208955 0.923217550274223 0.8449612403100775 0.9456928838951311 0.8288973384030418 0.9343200740055504 XGBClassifier {'max_depth': 7, 'eta': 0.1, 'gamma': 0.01}\n",
      "Regression:  False\n",
      "xg\n",
      "{'max_depth': None, 'eta': 0.2, 'gamma': 0.1}\n",
      "time:  0.975928\n",
      "0 0.8496391339214114 0.9643086674201626 0.8514851485148515 0.9636363636363636 0.8181818181818182 0.9487179487179487 0.8372093023255814 0.9700374531835206 0.8275862068965518 0.9592592592592591 XGBClassifier {'max_depth': None, 'eta': 0.2, 'gamma': 0.1}\n",
      "Regression:  False\n",
      "xg\n",
      "{'max_depth': 7, 'eta': 0.1, 'gamma': 0.1}\n",
      "time:  1.001764\n",
      "0 0.8467655707030206 0.9481389756886731 0.8481848184818482 0.947107438016529 0.8120300751879699 0.9257246376811594 0.8372093023255814 0.9569288389513109 0.8244274809160306 0.9410681399631675 XGBClassifier {'max_depth': 7, 'eta': 0.1, 'gamma': 0.1}\n",
      "Regression:  False\n",
      "xg\n",
      "{'max_depth': None, 'eta': 0.1, 'gamma': 0.1}\n",
      "time:  0.995021\n",
      "0 0.8361400695001336 0.9298528466635639 0.8382838283828383 0.9297520661157025 0.803030303030303 0.9119266055045872 0.8217054263565892 0.9307116104868914 0.8122605363984674 0.9212233549582948 XGBClassifier {'max_depth': None, 'eta': 0.1, 'gamma': 0.1}\n"
     ]
    },
    {
     "name": "stderr",
     "output_type": "stream",
     "text": [
      "\n",
      "A value is trying to be set on a copy of a slice from a DataFrame\n",
      "\n",
      "See the caveats in the documentation: https://pandas.pydata.org/pandas-docs/stable/user_guide/indexing.html#returning-a-view-versus-a-copy\n",
      "overflow encountered in reduce                    \n",
      "100%|██████████| 1513/1513 [04:17<00:00,  5.87it/s]\n"
     ]
    },
    {
     "name": "stdout",
     "output_type": "stream",
     "text": [
      "Regression:  False\n",
      "lr\n",
      "{'C': 10, 'penalty': 'l2', 'solver': 'liblinear'}\n",
      "time:  0.416989\n",
      "0 0.7860197808072709 0.9052561886399397 0.7887788778877888 0.9057851239669421 0.7443609022556391 0.8874538745387454 0.7674418604651163 0.900749063670412 0.7557251908396948 0.8940520446096654 LogisticRegression {'C': 10, 'penalty': 'l2', 'solver': 'liblinear'}\n",
      "Regression:  False\n",
      "lr\n",
      "{'C': 10, 'penalty': 'l1', 'solver': 'liblinear'}\n",
      "time:  2.327531\n",
      "0 0.7878909382518043 0.9184673004897724 0.7920792079207921 0.9190082644628099 0.7538461538461538 0.9037037037037037 0.7596899224806202 0.9138576779026217 0.7567567567567568 0.9087523277467412 LogisticRegression {'C': 10, 'penalty': 'l1', 'solver': 'liblinear'}\n",
      "Regression:  False\n",
      "nn\n",
      "{'hidden_layer_sizes': (100,), 'activation': 'relu', 'alpha': 0.01, 'max_iter': 200, 'solver': 'adam'}\n",
      "time:  3.043179\n",
      "0 0.8065356856455494 0.8407657957139375 0.801980198019802 0.8363636363636363 0.7346938775510204 0.7790697674418605 0.8372093023255814 0.8782771535580525 0.782608695652174 0.8257042253521127 MLPClassifier {'hidden_layer_sizes': (100,), 'activation': 'relu', 'alpha': 0.01, 'max_iter': 200, 'solver': 'adam'}\n",
      "Regression:  False\n",
      "nn\n",
      "{'hidden_layer_sizes': (100,), 'activation': 'tanh', 'alpha': 0.0001, 'max_iter': 200, 'solver': 'adam'}\n",
      "time:  2.364353\n",
      "0 0.8045308740978347 0.8315520909513994 0.801980198019802 0.8289256198347107 0.7412587412587412 0.7794871794871795 0.8217054263565892 0.8539325842696629 0.7794117647058824 0.8150134048257374 MLPClassifier {'hidden_layer_sizes': (100,), 'activation': 'tanh', 'alpha': 0.0001, 'max_iter': 200, 'solver': 'adam'}\n",
      "Regression:  False\n",
      "nn\n",
      "{'hidden_layer_sizes': (100,), 'activation': 'relu', 'alpha': 0.001, 'max_iter': 200, 'solver': 'adam'}\n",
      "time:  3.002706\n",
      "0 0.8084068430900829 0.8440706513308069 0.8052805280528053 0.8404958677685951 0.7430555555555556 0.7875210792580101 0.8294573643410853 0.8745318352059925 0.7838827838827839 0.828748890860692 MLPClassifier {'hidden_layer_sizes': (100,), 'activation': 'relu', 'alpha': 0.001, 'max_iter': 200, 'solver': 'adam'}\n",
      "Regression:  False\n",
      "nn\n",
      "{'hidden_layer_sizes': (50, 50), 'activation': 'logistic', 'alpha': 0.0001, 'max_iter': 200, 'solver': 'adam'}\n",
      "time:  2.309066\n",
      "0 0.7894279604383855 0.825272034217583 0.7788778877887789 0.8148760330578513 0.69375 0.7327327327327328 0.8604651162790697 0.9138576779026217 0.768166089965398 0.8133333333333335 MLPClassifier {'hidden_layer_sizes': (50, 50), 'activation': 'logistic', 'alpha': 0.0001, 'max_iter': 200, 'solver': 'adam'}\n",
      "Regression:  False\n",
      "nn\n",
      "{'hidden_layer_sizes': (100,), 'activation': 'relu', 'alpha': 0.001, 'max_iter': 1000, 'solver': 'adam'}\n",
      "time:  2.98963\n",
      "0 0.8084068430900829 0.8440706513308069 0.8052805280528053 0.8404958677685951 0.7430555555555556 0.7875210792580101 0.8294573643410853 0.8745318352059925 0.7838827838827839 0.828748890860692 MLPClassifier {'hidden_layer_sizes': (100,), 'activation': 'relu', 'alpha': 0.001, 'max_iter': 1000, 'solver': 'adam'}\n",
      "Regression:  False\n",
      "nn\n",
      "{'hidden_layer_sizes': (50, 50), 'activation': 'tanh', 'alpha': 0.001, 'max_iter': 200, 'solver': 'adam'}\n",
      "time:  3.427093\n",
      "0 0.8026597166533013 0.8537802229461694 0.7986798679867987 0.8495867768595041 0.7328767123287672 0.794314381270903 0.8294573643410853 0.8895131086142322 0.7781818181818182 0.8392226148409895 MLPClassifier {'hidden_layer_sizes': (50, 50), 'activation': 'tanh', 'alpha': 0.001, 'max_iter': 200, 'solver': 'adam'}\n",
      "Regression:  False\n",
      "nn\n",
      "{'hidden_layer_sizes': (50, 50), 'activation': 'logistic', 'alpha': 0.001, 'max_iter': 200, 'solver': 'adam'}\n",
      "time:  2.380437\n",
      "0 0.7894279604383855 0.825272034217583 0.7788778877887789 0.8148760330578513 0.69375 0.7327327327327328 0.8604651162790697 0.9138576779026217 0.768166089965398 0.8133333333333335 MLPClassifier {'hidden_layer_sizes': (50, 50), 'activation': 'logistic', 'alpha': 0.001, 'max_iter': 200, 'solver': 'adam'}\n",
      "Regression:  False\n",
      "nn\n",
      "{'hidden_layer_sizes': (100,), 'activation': 'tanh', 'alpha': 0.01, 'max_iter': 1000, 'solver': 'adam'}\n",
      "time:  2.383183\n",
      "0 0.8006549051055868 0.8320950513042129 0.7986798679867987 0.8297520661157025 0.7394366197183099 0.781786941580756 0.813953488372093 0.8520599250936329 0.7749077490774907 0.8154121863799284 MLPClassifier {'hidden_layer_sizes': (100,), 'activation': 'tanh', 'alpha': 0.01, 'max_iter': 1000, 'solver': 'adam'}\n",
      "Regression:  False\n",
      "nn\n",
      "{'hidden_layer_sizes': (100,), 'activation': 'tanh', 'alpha': 0.0001, 'max_iter': 500, 'solver': 'adam'}\n",
      "time:  2.373517\n",
      "0 0.8045308740978347 0.8315520909513994 0.801980198019802 0.8289256198347107 0.7412587412587412 0.7794871794871795 0.8217054263565892 0.8539325842696629 0.7794117647058824 0.8150134048257374 MLPClassifier {'hidden_layer_sizes': (100,), 'activation': 'tanh', 'alpha': 0.0001, 'max_iter': 500, 'solver': 'adam'}\n",
      "Regression:  False\n",
      "nn\n",
      "{'hidden_layer_sizes': (100,), 'activation': 'logistic', 'alpha': 0.001, 'max_iter': 500, 'solver': 'adam'}\n",
      "time:  3.992897\n",
      "0 0.8102780005346164 0.8344081732154334 0.8085808580858086 0.8305785123966942 0.75177304964539 0.7755443886097152 0.8217054263565892 0.8670411985018727 0.7851851851851851 0.8187444739168876 MLPClassifier {'hidden_layer_sizes': (100,), 'activation': 'logistic', 'alpha': 0.001, 'max_iter': 500, 'solver': 'adam'}\n",
      "Regression:  False\n",
      "rf\n",
      "{'max_depth': 10, 'min_samples_split': 2, 'min_samples_leaf': 1, 'min_impurity_decrease': 0, 'n_estimators': 100}\n",
      "time:  2.446129\n",
      "0 0.8033948142207966 0.9755446224763424 0.8052805280528053 0.9735537190082645 0.7611940298507462 0.9498207885304659 0.7906976744186046 0.9925093632958801 0.7756653992395437 0.9706959706959707 RandomForestClassifier {'max_depth': 10, 'min_samples_split': 2, 'min_samples_leaf': 1, 'min_impurity_decrease': 0, 'n_estimators': 100}\n",
      "Regression:  False\n",
      "rf\n",
      "{'max_depth': None, 'min_samples_split': 2, 'min_samples_leaf': 2, 'min_impurity_decrease': 0, 'n_estimators': 200}\n",
      "time:  5.205921\n",
      "0 0.7956428762363005 0.9858996520621413 0.7986798679867987 0.9851239669421488 0.7575757575757576 0.9742647058823529 0.7751937984496124 0.9925093632958801 0.7662835249042146 0.9833024118738405 RandomForestClassifier {'max_depth': None, 'min_samples_split': 2, 'min_samples_leaf': 2, 'min_impurity_decrease': 0, 'n_estimators': 200}\n",
      "Regression:  False\n",
      "rf\n",
      "{'max_depth': 20, 'min_samples_split': 5, 'min_samples_leaf': 1, 'min_impurity_decrease': 0, 'n_estimators': 200}\n",
      "time:  5.438023\n",
      "0 0.8120155038759691 0.9890549165613988 0.8151815181518152 0.9884297520661157 0.7786259541984732 0.9797047970479705 0.7906976744186046 0.9943820224719101 0.7846153846153846 0.9869888475836431 RandomForestClassifier {'max_depth': 20, 'min_samples_split': 5, 'min_samples_leaf': 1, 'min_impurity_decrease': 0, 'n_estimators': 200}\n",
      "Regression:  False\n",
      "rf\n",
      "{'max_depth': None, 'min_samples_split': 2, 'min_samples_leaf': 2, 'min_impurity_decrease': 0, 'n_estimators': 100}\n",
      "time:  2.66556\n",
      "0 0.7898957497995189 0.9860963366797421 0.7920792079207921 0.9851239669421488 0.746268656716418 0.9725274725274725 0.7751937984496124 0.9943820224719101 0.7604562737642587 0.9833333333333333 RandomForestClassifier {'max_depth': None, 'min_samples_split': 2, 'min_samples_leaf': 2, 'min_impurity_decrease': 0, 'n_estimators': 100}\n",
      "Regression:  False\n",
      "rf\n",
      "{'max_depth': None, 'min_samples_split': 5, 'min_samples_leaf': 1, 'min_impurity_decrease': 0, 'n_estimators': 200}\n",
      "time:  5.461906\n",
      "0 0.8120155038759691 0.9890549165613988 0.8151815181518152 0.9884297520661157 0.7786259541984732 0.9797047970479705 0.7906976744186046 0.9943820224719101 0.7846153846153846 0.9869888475836431 RandomForestClassifier {'max_depth': None, 'min_samples_split': 5, 'min_samples_leaf': 1, 'min_impurity_decrease': 0, 'n_estimators': 200}\n",
      "Regression:  False\n",
      "sv\n",
      "{'C': 0.01, 'kernel': 'poly', 'gamma': 0.05}\n",
      "time:  0.309137\n",
      "0 0.8332665062817429 0.8777480442346475 0.834983498349835 0.8776859504132232 0.7969924812030075 0.8496376811594203 0.8217054263565892 0.8782771535580525 0.8091603053435114 0.8637200736648252 SVC {'C': 0.01, 'kernel': 'poly', 'gamma': 0.05}\n",
      "Regression:  False\n",
      "sv\n",
      "{'C': 1, 'kernel': 'rbf', 'gamma': 0.05}\n",
      "time:  0.590424\n",
      "0 0.8401496925955626 0.8899203288788423 0.8382838283828383 0.8884297520661157 0.7857142857142857 0.8530973451327434 0.8527131782945736 0.9026217228464419 0.8178438661710037 0.8771610555050046 SVC {'C': 1, 'kernel': 'rbf', 'gamma': 0.05}\n",
      "Regression:  False\n",
      "sv\n",
      "{'C': 10, 'kernel': 'rbf', 'gamma': 'scale'}\n",
      "time:  0.505248\n",
      "0 0.8217722534081797 0.9083560490215633 0.8217821782178217 0.9066115702479339 0.7737226277372263 0.8725663716814159 0.8217054263565892 0.9232209737827716 0.7969924812030076 0.897179253867152 SVC {'C': 10, 'kernel': 'rbf', 'gamma': 'scale'}\n",
      "Regression:  False\n",
      "sv\n",
      "{'C': 1, 'kernel': 'linear', 'gamma': 0.05}\n",
      "time:  0.303546\n",
      "0 0.8130179096498262 0.8838618886155619 0.8151815181518152 0.8842975206611571 0.7744360902255639 0.8608058608058609 0.7984496124031008 0.8801498127340824 0.7862595419847329 0.8703703703703703 SVC {'C': 1, 'kernel': 'linear', 'gamma': 0.05}\n",
      "Regression:  False\n",
      "sv\n",
      "{'C': 1, 'kernel': 'linear', 'gamma': 'scale'}\n",
      "time:  0.311044\n",
      "0 0.8130179096498262 0.8838618886155619 0.8151815181518152 0.8842975206611571 0.7744360902255639 0.8608058608058609 0.7984496124031008 0.8801498127340824 0.7862595419847329 0.8703703703703703 SVC {'C': 1, 'kernel': 'linear', 'gamma': 'scale'}\n",
      "Regression:  False\n",
      "sv\n",
      "{'C': 1, 'kernel': 'linear', 'gamma': 0.1}\n",
      "time:  0.30617\n",
      "0 0.8130179096498262 0.8838618886155619 0.8151815181518152 0.8842975206611571 0.7744360902255639 0.8608058608058609 0.7984496124031008 0.8801498127340824 0.7862595419847329 0.8703703703703703 SVC {'C': 1, 'kernel': 'linear', 'gamma': 0.1}\n",
      "Regression:  False\n",
      "sv\n",
      "{'C': 0.1, 'kernel': 'linear', 'gamma': 0.1}\n",
      "time:  0.313544\n",
      "0 0.8438920074846298 0.8527026128581877 0.8448844884488449 0.8512396694214877 0.8059701492537313 0.8105263157894737 0.8372093023255814 0.8651685393258427 0.8212927756653993 0.8369565217391305 SVC {'C': 0.1, 'kernel': 'linear', 'gamma': 0.1}\n",
      "Regression:  False\n",
      "sv\n",
      "{'C': 0.1, 'kernel': 'linear', 'gamma': 0.05}\n",
      "time:  0.313547\n",
      "0 0.8438920074846298 0.8527026128581877 0.8448844884488449 0.8512396694214877 0.8059701492537313 0.8105263157894737 0.8372093023255814 0.8651685393258427 0.8212927756653993 0.8369565217391305 SVC {'C': 0.1, 'kernel': 'linear', 'gamma': 0.05}\n",
      "Regression:  False\n",
      "sv\n",
      "{'C': 0.1, 'kernel': 'linear', 'gamma': 'scale'}\n",
      "time:  0.318236\n",
      "0 0.8438920074846298 0.8527026128581877 0.8448844884488449 0.8512396694214877 0.8059701492537313 0.8105263157894737 0.8372093023255814 0.8651685393258427 0.8212927756653993 0.8369565217391305 SVC {'C': 0.1, 'kernel': 'linear', 'gamma': 'scale'}\n"
     ]
    },
    {
     "name": "stderr",
     "output_type": "stream",
     "text": [
      "\n",
      "A value is trying to be set on a copy of a slice from a DataFrame\n",
      "\n",
      "See the caveats in the documentation: https://pandas.pydata.org/pandas-docs/stable/user_guide/indexing.html#returning-a-view-versus-a-copy\n",
      "overflow encountered in reduce                    \n",
      "100%|██████████| 1513/1513 [04:12<00:00,  5.99it/s]\n"
     ]
    },
    {
     "name": "stdout",
     "output_type": "stream",
     "text": [
      "Regression:  False\n",
      "lr\n",
      "{'C': 1, 'penalty': 'l2', 'solver': 'saga'}\n"
     ]
    },
    {
     "name": "stderr",
     "output_type": "stream",
     "text": [
      "The max_iter was reached which means the coef_ did not converge\n"
     ]
    },
    {
     "name": "stdout",
     "output_type": "stream",
     "text": [
      "time:  0.856612\n",
      "0 0.8003875968992249 0.8569992021807061 0.8052805280528053 0.8586776859504133 0.7734375 0.8379888268156425 0.7674418604651163 0.8426966292134831 0.7704280155642024 0.8403361344537815 LogisticRegression {'C': 1, 'penalty': 'l2', 'solver': 'saga'}\n",
      "Regression:  False\n",
      "lr\n",
      "{'C': 1, 'penalty': 'l1', 'solver': 'saga'}\n"
     ]
    },
    {
     "name": "stderr",
     "output_type": "stream",
     "text": [
      "The max_iter was reached which means the coef_ did not converge\n"
     ]
    },
    {
     "name": "stdout",
     "output_type": "stream",
     "text": [
      "time:  1.269923\n",
      "0 0.7995188452285485 0.8445277353012876 0.801980198019802 0.8462809917355372 0.7593984962406015 0.8234200743494424 0.7829457364341085 0.8295880149812734 0.7709923664122136 0.8264925373134329 LogisticRegression {'C': 1, 'penalty': 'l1', 'solver': 'saga'}\n",
      "Regression:  False\n",
      "nn\n",
      "{'hidden_layer_sizes': (50,), 'activation': 'logistic', 'alpha': 0.01, 'max_iter': 1000, 'solver': 'adam'}\n",
      "time:  2.372584\n",
      "0 0.7593557872226677 0.7987113002238326 0.7788778877887789 0.8115702479338843 0.81 0.8558139534883721 0.627906976744186 0.6891385767790262 0.7074235807860262 0.7634854771784233 MLPClassifier {'hidden_layer_sizes': (50,), 'activation': 'logistic', 'alpha': 0.01, 'max_iter': 1000, 'solver': 'adam'}\n",
      "Regression:  False\n",
      "nn\n",
      "{'hidden_layer_sizes': (100,), 'activation': 'relu', 'alpha': 0.0001, 'max_iter': 1000, 'solver': 'adam'}\n",
      "time:  2.04178\n",
      "0 0.7826784282277466 0.8405053963610576 0.7722772277227723 0.8305785123966942 0.6875 0.7496206373292867 0.8527131782945736 0.9250936329588015 0.7612456747404843 0.8281642917015926 MLPClassifier {'hidden_layer_sizes': (100,), 'activation': 'relu', 'alpha': 0.0001, 'max_iter': 1000, 'solver': 'adam'}\n",
      "Regression:  False\n",
      "nn\n",
      "{'hidden_layer_sizes': (100,), 'activation': 'relu', 'alpha': 0.01, 'max_iter': 200, 'solver': 'adam'}\n",
      "time:  2.099637\n",
      "0 0.8065356856455494 0.8407657957139375 0.801980198019802 0.8363636363636363 0.7346938775510204 0.7790697674418605 0.8372093023255814 0.8782771535580525 0.782608695652174 0.8257042253521127 MLPClassifier {'hidden_layer_sizes': (100,), 'activation': 'relu', 'alpha': 0.01, 'max_iter': 200, 'solver': 'adam'}\n",
      "Regression:  False\n",
      "nn\n",
      "{'hidden_layer_sizes': (50,), 'activation': 'relu', 'alpha': 0.0001, 'max_iter': 1000, 'solver': 'adam'}\n",
      "time:  1.714543\n",
      "0 0.7989174017642342 0.8464308667420163 0.7920792079207921 0.8404958677685951 0.7171052631578947 0.7763371150729336 0.8449612403100775 0.897003745318352 0.7758007117437722 0.8323197219808862 MLPClassifier {'hidden_layer_sizes': (50,), 'activation': 'relu', 'alpha': 0.0001, 'max_iter': 1000, 'solver': 'adam'}\n",
      "Regression:  False\n",
      "nn\n",
      "{'hidden_layer_sizes': (100,), 'activation': 'tanh', 'alpha': 0.0001, 'max_iter': 200, 'solver': 'adam'}\n",
      "time:  1.694871\n",
      "0 0.8045308740978347 0.8315520909513994 0.801980198019802 0.8289256198347107 0.7412587412587412 0.7794871794871795 0.8217054263565892 0.8539325842696629 0.7794117647058824 0.8150134048257374 MLPClassifier {'hidden_layer_sizes': (100,), 'activation': 'tanh', 'alpha': 0.0001, 'max_iter': 200, 'solver': 'adam'}\n",
      "Regression:  False\n",
      "nn\n",
      "{'hidden_layer_sizes': (100,), 'activation': 'relu', 'alpha': 0.01, 'max_iter': 1000, 'solver': 'adam'}\n",
      "time:  2.161974\n",
      "0 0.8065356856455494 0.8407657957139375 0.801980198019802 0.8363636363636363 0.7346938775510204 0.7790697674418605 0.8372093023255814 0.8782771535580525 0.782608695652174 0.8257042253521127 MLPClassifier {'hidden_layer_sizes': (100,), 'activation': 'relu', 'alpha': 0.01, 'max_iter': 1000, 'solver': 'adam'}\n",
      "Regression:  False\n",
      "nn\n",
      "{'hidden_layer_sizes': (50, 50), 'activation': 'relu', 'alpha': 0.01, 'max_iter': 1000, 'solver': 'sgd'}\n",
      "time:  8.320233\n",
      "0 0.7923683507083668 0.8441980808013652 0.8052805280528053 0.8520661157024794 0.8125 0.8736842105263158 0.7054263565891473 0.7771535580524345 0.7551867219917013 0.8225966303270565 MLPClassifier {'hidden_layer_sizes': (50, 50), 'activation': 'relu', 'alpha': 0.01, 'max_iter': 1000, 'solver': 'sgd'}\n",
      "Regression:  False\n",
      "nn\n",
      "{'hidden_layer_sizes': (100,), 'activation': 'logistic', 'alpha': 0.01, 'max_iter': 200, 'solver': 'adam'}\n",
      "time:  3.985155\n",
      "0 0.8178962844159317 0.8318041796866343 0.8184818481848185 0.8314049586776859 0.7720588235294118 0.7935943060498221 0.813953488372093 0.8352059925093633 0.7924528301886792 0.8138686131386862 MLPClassifier {'hidden_layer_sizes': (100,), 'activation': 'logistic', 'alpha': 0.01, 'max_iter': 200, 'solver': 'adam'}\n",
      "Regression:  False\n",
      "nn\n",
      "{'hidden_layer_sizes': (50,), 'activation': 'relu', 'alpha': 0.001, 'max_iter': 200, 'solver': 'adam'}\n",
      "time:  2.588139\n",
      "0 0.7990510558674151 0.8435664738603373 0.7887788778877888 0.8355371900826446 0.7044025157232704 0.7621283255086072 0.8682170542635659 0.9119850187265918 0.7777777777777777 0.8303495311167945 MLPClassifier {'hidden_layer_sizes': (50,), 'activation': 'relu', 'alpha': 0.001, 'max_iter': 200, 'solver': 'adam'}\n",
      "Regression:  False\n",
      "nn\n",
      "{'hidden_layer_sizes': (50, 50), 'activation': 'relu', 'alpha': 0.0001, 'max_iter': 500, 'solver': 'sgd'}\n",
      "time:  11.533145\n",
      "0 0.7846164127238705 0.8436551204485517 0.7986798679867987 0.8512396694214877 0.8090909090909091 0.8702928870292888 0.689922480620155 0.7790262172284644 0.7447698744769875 0.8221343873517787 MLPClassifier {'hidden_layer_sizes': (50, 50), 'activation': 'relu', 'alpha': 0.0001, 'max_iter': 500, 'solver': 'sgd'}\n",
      "Regression:  False\n",
      "nn\n",
      "{'hidden_layer_sizes': (50,), 'activation': 'tanh', 'alpha': 0.01, 'max_iter': 1000, 'solver': 'sgd'}\n",
      "time:  8.806759\n",
      "0 0.8051323175621491 0.8224021009241407 0.8118811881188119 0.8272727272727273 0.7903225806451613 0.8192534381139489 0.7596899224806202 0.7808988764044944 0.7747035573122529 0.7996164908916586 MLPClassifier {'hidden_layer_sizes': (50,), 'activation': 'tanh', 'alpha': 0.01, 'max_iter': 1000, 'solver': 'sgd'}\n",
      "Regression:  False\n",
      "nn\n",
      "{'hidden_layer_sizes': (50,), 'activation': 'logistic', 'alpha': 0.01, 'max_iter': 500, 'solver': 'adam'}\n",
      "time:  3.682474\n",
      "0 0.7593557872226677 0.7987113002238326 0.7788778877887789 0.8115702479338843 0.81 0.8558139534883721 0.627906976744186 0.6891385767790262 0.7074235807860262 0.7634854771784233 MLPClassifier {'hidden_layer_sizes': (50,), 'activation': 'logistic', 'alpha': 0.01, 'max_iter': 500, 'solver': 'adam'}\n",
      "Regression:  False\n",
      "nn\n",
      "{'hidden_layer_sizes': (50, 50), 'activation': 'relu', 'alpha': 0.01, 'max_iter': 500, 'solver': 'adam'}\n",
      "time:  2.631542\n",
      "0 0.7369687249398558 0.7898992753141413 0.7623762376237624 0.8074380165289257 0.8202247191011236 0.8929503916449086 0.5658914728682171 0.6404494382022472 0.6697247706422018 0.7459105779716467 MLPClassifier {'hidden_layer_sizes': (50, 50), 'activation': 'relu', 'alpha': 0.01, 'max_iter': 500, 'solver': 'adam'}\n",
      "Regression:  False\n",
      "nn\n",
      "{'hidden_layer_sizes': (100,), 'activation': 'relu', 'alpha': 0.0001, 'max_iter': 200, 'solver': 'sgd'}\n"
     ]
    },
    {
     "name": "stderr",
     "output_type": "stream",
     "text": [
      "Stochastic Optimizer: Maximum iterations (200) reached and the optimization hasn't converged yet.\n"
     ]
    },
    {
     "name": "stdout",
     "output_type": "stream",
     "text": [
      "time:  5.76802\n",
      "0 0.7411120021384656 0.7777574629346453 0.759075907590759 0.7892561983471075 0.7692307692307693 0.8120805369127517 0.6201550387596899 0.6797752808988764 0.686695278969957 0.7400611620795108 MLPClassifier {'hidden_layer_sizes': (100,), 'activation': 'relu', 'alpha': 0.0001, 'max_iter': 200, 'solver': 'sgd'}\n",
      "Regression:  False\n",
      "nn\n",
      "{'hidden_layer_sizes': (50,), 'activation': 'relu', 'alpha': 0.01, 'max_iter': 1000, 'solver': 'adam'}\n",
      "time:  2.619092\n",
      "0 0.7961774926490244 0.8402145247434789 0.7854785478547854 0.8322314049586776 0.7 0.758998435054773 0.8682170542635659 0.9082397003745318 0.7750865051903114 0.8269394714407502 MLPClassifier {'hidden_layer_sizes': (50,), 'activation': 'relu', 'alpha': 0.01, 'max_iter': 1000, 'solver': 'adam'}\n",
      "Regression:  False\n",
      "nn\n",
      "{'hidden_layer_sizes': (50, 50), 'activation': 'tanh', 'alpha': 0.001, 'max_iter': 200, 'solver': 'sgd'}\n"
     ]
    },
    {
     "name": "stderr",
     "output_type": "stream",
     "text": [
      "Stochastic Optimizer: Maximum iterations (200) reached and the optimization hasn't converged yet.\n"
     ]
    },
    {
     "name": "stdout",
     "output_type": "stream",
     "text": [
      "time:  5.863981\n",
      "0 0.7867548783747661 0.8186096890720919 0.7953795379537953 0.824793388429752 0.7768595041322314 0.8245967741935484 0.7286821705426356 0.7659176029962547 0.7519999999999999 0.7941747572815533 MLPClassifier {'hidden_layer_sizes': (50, 50), 'activation': 'tanh', 'alpha': 0.001, 'max_iter': 200, 'solver': 'sgd'}\n",
      "Regression:  False\n",
      "nn\n",
      "{'hidden_layer_sizes': (50,), 'activation': 'tanh', 'alpha': 0.01, 'max_iter': 200, 'solver': 'sgd'}\n"
     ]
    },
    {
     "name": "stderr",
     "output_type": "stream",
     "text": [
      "Stochastic Optimizer: Maximum iterations (200) reached and the optimization hasn't converged yet.\n"
     ]
    },
    {
     "name": "stdout",
     "output_type": "stream",
     "text": [
      "time:  4.276181\n",
      "0 0.7772654370489174 0.7995285109589344 0.7821782178217822 0.8041322314049587 0.7441860465116279 0.7883495145631068 0.7441860465116279 0.7602996254681648 0.7441860465116278 0.7740705433746425 MLPClassifier {'hidden_layer_sizes': (50,), 'activation': 'tanh', 'alpha': 0.01, 'max_iter': 200, 'solver': 'sgd'}\n",
      "Regression:  False\n",
      "nn\n",
      "{'hidden_layer_sizes': (100,), 'activation': 'tanh', 'alpha': 0.01, 'max_iter': 500, 'solver': 'sgd'}\n",
      "time:  10.462129\n",
      "0 0.8168938786420743 0.8297348358930035 0.8184818481848185 0.8297520661157025 0.7761194029850746 0.7939068100358423 0.8062015503875969 0.8295880149812734 0.7908745247148288 0.8113553113553114 MLPClassifier {'hidden_layer_sizes': (100,), 'activation': 'tanh', 'alpha': 0.01, 'max_iter': 500, 'solver': 'sgd'}\n",
      "Regression:  False\n",
      "nn\n",
      "{'hidden_layer_sizes': (50,), 'activation': 'relu', 'alpha': 0.001, 'max_iter': 500, 'solver': 'sgd'}\n"
     ]
    },
    {
     "name": "stderr",
     "output_type": "stream",
     "text": [
      "Stochastic Optimizer: Maximum iterations (500) reached and the optimization hasn't converged yet.\n"
     ]
    },
    {
     "name": "stdout",
     "output_type": "stream",
     "text": [
      "time:  10.561284\n",
      "0 0.7817428495054798 0.823299647629812 0.7953795379537953 0.8322314049586776 0.8018018018018018 0.854389721627409 0.689922480620155 0.7471910112359551 0.7416666666666667 0.7972027972027973 MLPClassifier {'hidden_layer_sizes': (50,), 'activation': 'relu', 'alpha': 0.001, 'max_iter': 500, 'solver': 'sgd'}\n",
      "Regression:  False\n",
      "nn\n",
      "{'hidden_layer_sizes': (50,), 'activation': 'logistic', 'alpha': 0.001, 'max_iter': 200, 'solver': 'adam'}\n"
     ]
    },
    {
     "name": "stderr",
     "output_type": "stream",
     "text": [
      "Stochastic Optimizer: Maximum iterations (200) reached and the optimization hasn't converged yet.\n"
     ]
    },
    {
     "name": "stdout",
     "output_type": "stream",
     "text": [
      "time:  5.766406\n",
      "0 0.8082731889869018 0.8452590696540566 0.8085808580858086 0.843801652892562 0.7591240875912408 0.8021015761821366 0.8062015503875969 0.8576779026217228 0.781954887218045 0.8289592760180996 MLPClassifier {'hidden_layer_sizes': (50,), 'activation': 'logistic', 'alpha': 0.001, 'max_iter': 200, 'solver': 'adam'}\n",
      "Regression:  False\n",
      "nn\n",
      "{'hidden_layer_sizes': (50, 50), 'activation': 'relu', 'alpha': 0.001, 'max_iter': 1000, 'solver': 'adam'}\n",
      "time:  3.260827\n",
      "0 0.7906308473670142 0.8579909358863551 0.7986798679867987 0.8619834710743801 0.7786885245901639 0.8576998050682261 0.7364341085271318 0.8239700374531835 0.7569721115537847 0.8404966571155682 MLPClassifier {'hidden_layer_sizes': (50, 50), 'activation': 'relu', 'alpha': 0.001, 'max_iter': 1000, 'solver': 'adam'}\n",
      "Regression:  False\n",
      "rf\n",
      "{'max_depth': 20, 'min_samples_split': 5, 'min_samples_leaf': 2, 'min_impurity_decrease': 0, 'n_estimators': 200}\n",
      "time:  5.166225\n",
      "0 0.797514033680834 0.9849633224741263 0.801980198019802 0.984297520661157 0.7674418604651163 0.9742173112338858 0.7674418604651163 0.9906367041198502 0.7674418604651162 0.9823584029712163 RandomForestClassifier {'max_depth': 20, 'min_samples_split': 5, 'min_samples_leaf': 2, 'min_impurity_decrease': 0, 'n_estimators': 200}\n",
      "Regression:  False\n",
      "rf\n",
      "{'max_depth': 10, 'min_samples_split': 5, 'min_samples_leaf': 2, 'min_impurity_decrease': 0, 'n_estimators': 100}\n",
      "time:  2.494441\n",
      "0 0.7985164394546913 0.9693836845954392 0.801980198019802 0.9677685950413223 0.7633587786259542 0.9459459459459459 0.7751937984496124 0.9831460674157303 0.7692307692307694 0.9641873278236914 RandomForestClassifier {'max_depth': 10, 'min_samples_split': 5, 'min_samples_leaf': 2, 'min_impurity_decrease': 0, 'n_estimators': 100}\n",
      "Regression:  False\n",
      "rf\n",
      "{'max_depth': None, 'min_samples_split': 5, 'min_samples_leaf': 2, 'min_impurity_decrease': 0, 'n_estimators': 200}\n",
      "time:  5.160111\n",
      "0 0.8042635658914729 0.9849633224741263 0.8085808580858086 0.984297520661157 0.7751937984496124 0.9742173112338858 0.7751937984496124 0.9906367041198502 0.7751937984496124 0.9823584029712163 RandomForestClassifier {'max_depth': None, 'min_samples_split': 5, 'min_samples_leaf': 2, 'min_impurity_decrease': 0, 'n_estimators': 200}\n",
      "Regression:  False\n",
      "rf\n",
      "{'max_depth': 10, 'min_samples_split': 10, 'min_samples_leaf': 2, 'min_impurity_decrease': 0, 'n_estimators': 10}\n",
      "time:  0.305882\n",
      "0 0.768644747393745 0.9446374354542031 0.7722772277227723 0.9429752066115702 0.7272727272727273 0.9159212880143113 0.7441860465116279 0.9588014981273408 0.735632183908046 0.9368709972552608 RandomForestClassifier {'max_depth': 10, 'min_samples_split': 10, 'min_samples_leaf': 2, 'min_impurity_decrease': 0, 'n_estimators': 10}\n",
      "Regression:  False\n",
      "rf\n",
      "{'max_depth': None, 'min_samples_split': 10, 'min_samples_leaf': 2, 'min_impurity_decrease': 0, 'n_estimators': 10}\n",
      "time:  0.322099\n",
      "0 0.7926356589147286 0.9595799259800988 0.7986798679867987 0.9603305785123967 0.7698412698412699 0.956766917293233 0.751937984496124 0.9531835205992509 0.7607843137254903 0.9549718574108818 RandomForestClassifier {'max_depth': None, 'min_samples_split': 10, 'min_samples_leaf': 2, 'min_impurity_decrease': 0, 'n_estimators': 10}\n",
      "Regression:  False\n",
      "rf\n",
      "{'max_depth': 20, 'min_samples_split': 2, 'min_samples_leaf': 1, 'min_impurity_decrease': 0, 'n_estimators': 200}\n",
      "time:  5.73271\n",
      "0 0.8052659716653301 0.9905342065022271 0.8085808580858086 0.9900826446280991 0.7709923664122137 0.9833333333333333 0.7829457364341085 0.9943820224719101 0.7769230769230768 0.9888268156424581 RandomForestClassifier {'max_depth': 20, 'min_samples_split': 2, 'min_samples_leaf': 1, 'min_impurity_decrease': 0, 'n_estimators': 200}\n",
      "Regression:  False\n",
      "rf\n",
      "{'max_depth': 20, 'min_samples_split': 10, 'min_samples_leaf': 4, 'min_impurity_decrease': 0, 'n_estimators': 200}\n",
      "time:  4.61271\n",
      "0 0.7897620956963378 0.9611534029209051 0.7953795379537953 0.9603305785123967 0.7637795275590551 0.9434306569343066 0.751937984496124 0.9681647940074907 0.7578125 0.9556377079482439 RandomForestClassifier {'max_depth': 20, 'min_samples_split': 10, 'min_samples_leaf': 4, 'min_impurity_decrease': 0, 'n_estimators': 200}\n",
      "Regression:  False\n",
      "rf\n",
      "{'max_depth': None, 'min_samples_split': 2, 'min_samples_leaf': 2, 'min_impurity_decrease': 0, 'n_estimators': 100}\n",
      "time:  2.646291\n",
      "0 0.7898957497995189 0.9860963366797421 0.7920792079207921 0.9851239669421488 0.746268656716418 0.9725274725274725 0.7751937984496124 0.9943820224719101 0.7604562737642587 0.9833333333333333 RandomForestClassifier {'max_depth': None, 'min_samples_split': 2, 'min_samples_leaf': 2, 'min_impurity_decrease': 0, 'n_estimators': 100}\n",
      "Regression:  False\n",
      "rf\n",
      "{'max_depth': 10, 'min_samples_split': 2, 'min_samples_leaf': 2, 'min_impurity_decrease': 0, 'n_estimators': 200}\n",
      "time:  4.59809\n",
      "0 0.7907645014701952 0.9734752786827117 0.7953795379537953 0.971900826446281 0.7596899224806202 0.9512635379061372 0.7596899224806202 0.9868913857677902 0.7596899224806202 0.9687499999999999 RandomForestClassifier {'max_depth': 10, 'min_samples_split': 2, 'min_samples_leaf': 2, 'min_impurity_decrease': 0, 'n_estimators': 200}\n",
      "Regression:  False\n",
      "rf\n",
      "{'max_depth': 7, 'min_samples_split': 5, 'min_samples_leaf': 2, 'min_impurity_decrease': 0, 'n_estimators': 100}\n",
      "time:  1.938777\n",
      "0 0.7946404704624432 0.9401995656317178 0.7986798679867987 0.9380165289256198 0.7615384615384615 0.9061946902654867 0.7674418604651163 0.9588014981273408 0.7644787644787645 0.9317561419472247 RandomForestClassifier {'max_depth': 7, 'min_samples_split': 5, 'min_samples_leaf': 2, 'min_impurity_decrease': 0, 'n_estimators': 100}\n",
      "Regression:  False\n",
      "rf\n",
      "{'max_depth': 7, 'min_samples_split': 5, 'min_samples_leaf': 1, 'min_impurity_decrease': 0, 'n_estimators': 100}\n",
      "time:  1.957262\n",
      "0 0.7860197808072709 0.9450308046894045 0.7887788778877888 0.9429752066115702 0.7443609022556391 0.9129662522202486 0.7674418604651163 0.9625468164794008 0.7557251908396948 0.9371011850501367 RandomForestClassifier {'max_depth': 7, 'min_samples_split': 5, 'min_samples_leaf': 1, 'min_impurity_decrease': 0, 'n_estimators': 100}\n",
      "Regression:  False\n",
      "rf\n",
      "{'max_depth': 10, 'min_samples_split': 2, 'min_samples_leaf': 4, 'min_impurity_decrease': 0, 'n_estimators': 100}\n",
      "time:  2.207336\n",
      "0 0.8062683774391874 0.9526239390111473 0.8085808580858086 0.9512396694214876 0.7669172932330827 0.9279279279279279 0.7906976744186046 0.9644194756554307 0.7786259541984734 0.9458218549127639 RandomForestClassifier {'max_depth': 10, 'min_samples_split': 2, 'min_samples_leaf': 4, 'min_impurity_decrease': 0, 'n_estimators': 100}\n",
      "Regression:  False\n",
      "sv\n",
      "{'C': 0.1, 'kernel': 'linear', 'gamma': 'scale'}\n",
      "time:  0.316648\n",
      "0 0.8438920074846298 0.8527026128581877 0.8448844884488449 0.8512396694214877 0.8059701492537313 0.8105263157894737 0.8372093023255814 0.8651685393258427 0.8212927756653993 0.8369565217391305 SVC {'C': 0.1, 'kernel': 'linear', 'gamma': 'scale'}\n",
      "Regression:  False\n",
      "sv\n",
      "{'C': 0.1, 'kernel': 'linear', 'gamma': 0.1}\n",
      "time:  0.321288\n",
      "0 0.8438920074846298 0.8527026128581877 0.8448844884488449 0.8512396694214877 0.8059701492537313 0.8105263157894737 0.8372093023255814 0.8651685393258427 0.8212927756653993 0.8369565217391305 SVC {'C': 0.1, 'kernel': 'linear', 'gamma': 0.1}\n",
      "Regression:  False\n",
      "sv\n",
      "{'C': 0.1, 'kernel': 'linear', 'gamma': 0.05}\n",
      "time:  0.314199\n",
      "0 0.8438920074846298 0.8527026128581877 0.8448844884488449 0.8512396694214877 0.8059701492537313 0.8105263157894737 0.8372093023255814 0.8651685393258427 0.8212927756653993 0.8369565217391305 SVC {'C': 0.1, 'kernel': 'linear', 'gamma': 0.05}\n",
      "Regression:  False\n",
      "sv\n",
      "{'C': 10, 'kernel': 'rbf', 'gamma': 'scale'}\n",
      "time:  0.525925\n",
      "0 0.8217722534081797 0.9083560490215633 0.8217821782178217 0.9066115702479339 0.7737226277372263 0.8725663716814159 0.8217054263565892 0.9232209737827716 0.7969924812030076 0.897179253867152 SVC {'C': 10, 'kernel': 'rbf', 'gamma': 'scale'}\n"
     ]
    },
    {
     "name": "stderr",
     "output_type": "stream",
     "text": [
      "\n",
      "A value is trying to be set on a copy of a slice from a DataFrame\n",
      "\n",
      "See the caveats in the documentation: https://pandas.pydata.org/pandas-docs/stable/user_guide/indexing.html#returning-a-view-versus-a-copy\n"
     ]
    },
    {
     "name": "stdout",
     "output_type": "stream",
     "text": [
      "Regression:  True\n",
      "nn\n",
      "{'hidden_layer_sizes': (50,), 'activation': 'tanh', 'alpha': 0.01, 'max_iter': 1000, 'solver': 'sgd'}\n",
      "time:  38.48715\n",
      "0 0.6994412628790523 0.34565615639127334 0.48921808021784347 0.11947817845118841 0.5157995590694457 0.25253080440043 0.7145719914180015 0.9344437873376514 MLPRegressor {'hidden_layer_sizes': (50,), 'activation': 'tanh', 'alpha': 0.01, 'max_iter': 1000, 'solver': 'sgd'}\n",
      "Regression:  True\n",
      "nn\n",
      "{'hidden_layer_sizes': (100,), 'activation': 'relu', 'alpha': 0.01, 'max_iter': 200, 'solver': 'sgd'}\n"
     ]
    },
    {
     "name": "stderr",
     "output_type": "stream",
     "text": [
      "Stochastic Optimizer: Maximum iterations (200) reached and the optimization hasn't converged yet.\n"
     ]
    },
    {
     "name": "stdout",
     "output_type": "stream",
     "text": [
      "time:  12.234429\n",
      "0 0.6846038637665401 0.5336314976587687 0.46868245028407546 0.2847625752935405 0.4924924065020849 0.4092857038932987 0.726553241077381 0.8437542638646103 MLPRegressor {'hidden_layer_sizes': (100,), 'activation': 'relu', 'alpha': 0.01, 'max_iter': 200, 'solver': 'sgd'}\n",
      "Regression:  True\n",
      "nn\n",
      "{'hidden_layer_sizes': (50,), 'activation': 'tanh', 'alpha': 0.001, 'max_iter': 500, 'solver': 'sgd'}\n"
     ]
    },
    {
     "name": "stderr",
     "output_type": "stream",
     "text": [
      "Stochastic Optimizer: Maximum iterations (500) reached and the optimization hasn't converged yet.\n"
     ]
    },
    {
     "name": "stdout",
     "output_type": "stream",
     "text": [
      "time:  21.409555\n",
      "0 0.679773303239799 0.43151598252817663 0.4620917437975478 0.18620604317725764 0.5033947311718675 0.3300145727666483 0.7303985041689666 0.8978310255162637 MLPRegressor {'hidden_layer_sizes': (50,), 'activation': 'tanh', 'alpha': 0.001, 'max_iter': 500, 'solver': 'sgd'}\n",
      "Regression:  True\n",
      "nn\n",
      "{'hidden_layer_sizes': (50,), 'activation': 'relu', 'alpha': 0.01, 'max_iter': 500, 'solver': 'sgd'}\n"
     ]
    },
    {
     "name": "stderr",
     "output_type": "stream",
     "text": [
      "Stochastic Optimizer: Maximum iterations (500) reached and the optimization hasn't converged yet.\n"
     ]
    },
    {
     "name": "stdout",
     "output_type": "stream",
     "text": [
      "time:  20.846617\n",
      "0 0.6885842662156325 0.40247356891592245 0.4741482916797211 0.1619849736759198 0.5102155560963574 0.3057891889533722 0.7233642660826516 0.9111208295936495 MLPRegressor {'hidden_layer_sizes': (50,), 'activation': 'relu', 'alpha': 0.01, 'max_iter': 500, 'solver': 'sgd'}\n",
      "Regression:  True\n",
      "nn\n",
      "{'hidden_layer_sizes': (100,), 'activation': 'tanh', 'alpha': 0.0001, 'max_iter': 500, 'solver': 'sgd'}\n"
     ]
    },
    {
     "name": "stderr",
     "output_type": "stream",
     "text": [
      "Stochastic Optimizer: Maximum iterations (500) reached and the optimization hasn't converged yet.\n"
     ]
    },
    {
     "name": "stdout",
     "output_type": "stream",
     "text": [
      "time:  30.950406\n",
      "0 0.6746681260949894 0.4364479374167754 0.45517708036852456 0.1904868020753575 0.499336591451396 0.3295996965182852 0.7344327757798645 0.8954822255569914 MLPRegressor {'hidden_layer_sizes': (100,), 'activation': 'tanh', 'alpha': 0.0001, 'max_iter': 500, 'solver': 'sgd'}\n",
      "Regression:  True\n",
      "nn\n",
      "{'hidden_layer_sizes': (100,), 'activation': 'relu', 'alpha': 0.0001, 'max_iter': 500, 'solver': 'sgd'}\n"
     ]
    },
    {
     "name": "stderr",
     "output_type": "stream",
     "text": [
      "Stochastic Optimizer: Maximum iterations (500) reached and the optimization hasn't converged yet.\n"
     ]
    },
    {
     "name": "stdout",
     "output_type": "stream",
     "text": [
      "time:  30.406105\n",
      "0 0.6730640432700854 0.40384617135895823 0.4530152063430754 0.16309173012128905 0.49620333502798397 0.30530053424013903 0.7356940934270257 0.9105135658921218 MLPRegressor {'hidden_layer_sizes': (100,), 'activation': 'relu', 'alpha': 0.0001, 'max_iter': 500, 'solver': 'sgd'}\n",
      "Regression:  True\n",
      "nn\n",
      "{'hidden_layer_sizes': (100,), 'activation': 'relu', 'alpha': 0.001, 'max_iter': 500, 'solver': 'sgd'}\n"
     ]
    },
    {
     "name": "stderr",
     "output_type": "stream",
     "text": [
      "Stochastic Optimizer: Maximum iterations (500) reached and the optimization hasn't converged yet.\n"
     ]
    },
    {
     "name": "stdout",
     "output_type": "stream",
     "text": [
      "time:  30.302257\n",
      "0 0.6730346600514276 0.40392716226915454 0.4529756536305408 0.1631571524188119 0.4961820662782861 0.3053543016574097 0.7357171699493974 0.910477669479029 MLPRegressor {'hidden_layer_sizes': (100,), 'activation': 'relu', 'alpha': 0.001, 'max_iter': 500, 'solver': 'sgd'}\n",
      "Regression:  True\n",
      "nn\n",
      "{'hidden_layer_sizes': (50,), 'activation': 'tanh', 'alpha': 0.01, 'max_iter': 500, 'solver': 'sgd'}\n"
     ]
    },
    {
     "name": "stderr",
     "output_type": "stream",
     "text": [
      "Stochastic Optimizer: Maximum iterations (500) reached and the optimization hasn't converged yet.\n"
     ]
    },
    {
     "name": "stdout",
     "output_type": "stream",
     "text": [
      "time:  21.46726\n",
      "0 0.6794911440195746 0.43185605131831867 0.46170821480103014 0.18649964906025027 0.5031248278223471 0.3302708125114766 0.7306222692384439 0.8976699275655425 MLPRegressor {'hidden_layer_sizes': (50,), 'activation': 'tanh', 'alpha': 0.01, 'max_iter': 500, 'solver': 'sgd'}\n",
      "Regression:  True\n",
      "nn\n",
      "{'hidden_layer_sizes': (50, 50), 'activation': 'relu', 'alpha': 0.001, 'max_iter': 200, 'solver': 'sgd'}\n"
     ]
    },
    {
     "name": "stderr",
     "output_type": "stream",
     "text": [
      "Stochastic Optimizer: Maximum iterations (200) reached and the optimization hasn't converged yet.\n"
     ]
    },
    {
     "name": "stdout",
     "output_type": "stream",
     "text": [
      "time:  9.824372\n",
      "0 0.678156165728593 0.4689435424207311 0.459895785115707 0.219908045978104 0.49742192281979475 0.3545774888839154 0.7316797080713389 0.8793391494984019 MLPRegressor {'hidden_layer_sizes': (50, 50), 'activation': 'relu', 'alpha': 0.001, 'max_iter': 200, 'solver': 'sgd'}\n",
      "Regression:  True\n",
      "nn\n",
      "{'hidden_layer_sizes': (50, 50), 'activation': 'relu', 'alpha': 0.0001, 'max_iter': 200, 'solver': 'sgd'}\n"
     ]
    },
    {
     "name": "stderr",
     "output_type": "stream",
     "text": [
      "Stochastic Optimizer: Maximum iterations (200) reached and the optimization hasn't converged yet.\n"
     ]
    },
    {
     "name": "stdout",
     "output_type": "stream",
     "text": [
      "time:  9.970884\n",
      "0 0.6781597045848309 0.4688187066863417 0.45990058492258507 0.2197909797390541 0.49735615109377523 0.3544762091283162 0.7316769076856331 0.8794033823094659 MLPRegressor {'hidden_layer_sizes': (50, 50), 'activation': 'relu', 'alpha': 0.0001, 'max_iter': 200, 'solver': 'sgd'}\n",
      "Regression:  True\n",
      "nn\n",
      "{'hidden_layer_sizes': (50,), 'activation': 'relu', 'alpha': 0.001, 'max_iter': 500, 'solver': 'sgd'}\n"
     ]
    },
    {
     "name": "stderr",
     "output_type": "stream",
     "text": [
      "Stochastic Optimizer: Maximum iterations (500) reached and the optimization hasn't converged yet.\n"
     ]
    },
    {
     "name": "stdout",
     "output_type": "stream",
     "text": [
      "time:  21.082789\n",
      "0 0.6888958616296805 0.40184099535562734 0.4745775081705 0.16147618554840132 0.5105503363592263 0.30532596187625455 0.7231138452311593 0.9113999954055162 MLPRegressor {'hidden_layer_sizes': (50,), 'activation': 'relu', 'alpha': 0.001, 'max_iter': 500, 'solver': 'sgd'}\n",
      "Regression:  True\n",
      "nn\n",
      "{'hidden_layer_sizes': (50,), 'activation': 'logistic', 'alpha': 0.0001, 'max_iter': 200, 'solver': 'adam'}\n"
     ]
    },
    {
     "name": "stderr",
     "output_type": "stream",
     "text": [
      "Stochastic Optimizer: Maximum iterations (200) reached and the optimization hasn't converged yet.\n"
     ]
    },
    {
     "name": "stdout",
     "output_type": "stream",
     "text": [
      "time:  10.386706\n",
      "0 0.6944038234789818 0.40519942402119863 0.48219667006222894 0.1641865732271111 0.5098313211921824 0.2863735789272256 0.7186685430361717 0.9099128388940407 MLPRegressor {'hidden_layer_sizes': (50,), 'activation': 'logistic', 'alpha': 0.0001, 'max_iter': 200, 'solver': 'adam'}\n",
      "Regression:  True\n",
      "nn\n",
      "{'hidden_layer_sizes': (50,), 'activation': 'logistic', 'alpha': 0.01, 'max_iter': 200, 'solver': 'adam'}\n"
     ]
    },
    {
     "name": "stderr",
     "output_type": "stream",
     "text": [
      "Stochastic Optimizer: Maximum iterations (200) reached and the optimization hasn't converged yet.\n"
     ]
    },
    {
     "name": "stdout",
     "output_type": "stream",
     "text": [
      "time:  10.564927\n",
      "0 0.6841439419312434 0.43689444094451985 0.46805293328122055 0.19087675252822453 0.4979385925494928 0.3222636260510186 0.7269205246912926 0.8952682645211997 MLPRegressor {'hidden_layer_sizes': (50,), 'activation': 'logistic', 'alpha': 0.01, 'max_iter': 200, 'solver': 'adam'}\n",
      "Regression:  True\n",
      "nn\n",
      "{'hidden_layer_sizes': (100,), 'activation': 'tanh', 'alpha': 0.001, 'max_iter': 200, 'solver': 'sgd'}\n"
     ]
    },
    {
     "name": "stderr",
     "output_type": "stream",
     "text": [
      "Stochastic Optimizer: Maximum iterations (200) reached and the optimization hasn't converged yet.\n"
     ]
    },
    {
     "name": "stdout",
     "output_type": "stream",
     "text": [
      "time:  12.654553\n",
      "0 0.6897601911013517 0.5648712384929337 0.4757691212281732 0.3190795160765408 0.4957528453625445 0.43472031728095717 0.7224186138899535 0.8249249789101977 MLPRegressor {'hidden_layer_sizes': (100,), 'activation': 'tanh', 'alpha': 0.001, 'max_iter': 200, 'solver': 'sgd'}\n",
      "Regression:  True\n",
      "nn\n",
      "{'hidden_layer_sizes': (50,), 'activation': 'logistic', 'alpha': 0.01, 'max_iter': 200, 'solver': 'adam'}\n"
     ]
    },
    {
     "name": "stderr",
     "output_type": "stream",
     "text": [
      "Stochastic Optimizer: Maximum iterations (200) reached and the optimization hasn't converged yet.\n"
     ]
    },
    {
     "name": "stdout",
     "output_type": "stream",
     "text": [
      "time:  10.497911\n",
      "0 0.6841439419312434 0.43689444094451985 0.46805293328122055 0.19087675252822453 0.4979385925494928 0.3222636260510186 0.7269205246912926 0.8952682645211997 MLPRegressor {'hidden_layer_sizes': (50,), 'activation': 'logistic', 'alpha': 0.01, 'max_iter': 200, 'solver': 'adam'}\n",
      "Regression:  True\n",
      "nn\n",
      "{'hidden_layer_sizes': (50,), 'activation': 'tanh', 'alpha': 0.0001, 'max_iter': 500, 'solver': 'sgd'}\n"
     ]
    },
    {
     "name": "stderr",
     "output_type": "stream",
     "text": [
      "Stochastic Optimizer: Maximum iterations (500) reached and the optimization hasn't converged yet.\n"
     ]
    },
    {
     "name": "stdout",
     "output_type": "stream",
     "text": [
      "time:  21.526242\n",
      "0 0.6798016873620172 0.4314820349735641 0.4621303341402458 0.186176746504928 0.5034217546729548 0.3299889308463168 0.7303759891289217 0.8978471002414264 MLPRegressor {'hidden_layer_sizes': (50,), 'activation': 'tanh', 'alpha': 0.0001, 'max_iter': 500, 'solver': 'sgd'}\n",
      "Regression:  True\n",
      "nn\n",
      "{'hidden_layer_sizes': (50,), 'activation': 'relu', 'alpha': 0.0001, 'max_iter': 200, 'solver': 'sgd'}\n"
     ]
    },
    {
     "name": "stderr",
     "output_type": "stream",
     "text": [
      "Stochastic Optimizer: Maximum iterations (200) reached and the optimization hasn't converged yet.\n"
     ]
    },
    {
     "name": "stdout",
     "output_type": "stream",
     "text": [
      "time:  8.371775\n",
      "0 0.6822254419983981 0.5255887600662119 0.4654315537099096 0.27624354470793805 0.5071750316226494 0.4041603174231258 0.7284499349502995 0.848428551571256 MLPRegressor {'hidden_layer_sizes': (50,), 'activation': 'relu', 'alpha': 0.0001, 'max_iter': 200, 'solver': 'sgd'}\n",
      "Regression:  True\n",
      "nn\n",
      "{'hidden_layer_sizes': (50,), 'activation': 'tanh', 'alpha': 0.0001, 'max_iter': 1000, 'solver': 'sgd'}\n",
      "time:  38.511844\n",
      "0 0.7003526701985854 0.3447800431507092 0.49049386265428846 0.11887327815500491 0.5165430555796211 0.2517669570053071 0.713827652533273 0.9347756887188926 MLPRegressor {'hidden_layer_sizes': (50,), 'activation': 'tanh', 'alpha': 0.0001, 'max_iter': 1000, 'solver': 'sgd'}\n",
      "Regression:  True\n",
      "nn\n",
      "{'hidden_layer_sizes': (100,), 'activation': 'relu', 'alpha': 0.01, 'max_iter': 500, 'solver': 'sgd'}\n"
     ]
    },
    {
     "name": "stderr",
     "output_type": "stream",
     "text": [
      "Stochastic Optimizer: Maximum iterations (500) reached and the optimization hasn't converged yet.\n"
     ]
    },
    {
     "name": "stdout",
     "output_type": "stream",
     "text": [
      "time:  30.283585\n",
      "0 0.6725241179964287 0.4044977004855215 0.4522886892868745 0.16361838969807468 0.4957011824690058 0.3058145590941141 0.7361179704768273 0.9102245942350043 MLPRegressor {'hidden_layer_sizes': (100,), 'activation': 'relu', 'alpha': 0.01, 'max_iter': 500, 'solver': 'sgd'}\n",
      "Regression:  True\n",
      "nn\n",
      "{'hidden_layer_sizes': (100,), 'activation': 'tanh', 'alpha': 0.001, 'max_iter': 500, 'solver': 'sgd'}\n"
     ]
    },
    {
     "name": "stderr",
     "output_type": "stream",
     "text": [
      "Stochastic Optimizer: Maximum iterations (500) reached and the optimization hasn't converged yet.\n"
     ]
    },
    {
     "name": "stdout",
     "output_type": "stream",
     "text": [
      "time:  30.954645\n",
      "0 0.6746460417884836 0.43647889313185123 0.4551472817008685 0.190513824149606 0.4993160608816571 0.329622402841864 0.7344501614299691 0.8954673988759274 MLPRegressor {'hidden_layer_sizes': (100,), 'activation': 'tanh', 'alpha': 0.001, 'max_iter': 500, 'solver': 'sgd'}\n",
      "Regression:  True\n",
      "nn\n",
      "{'hidden_layer_sizes': (100,), 'activation': 'tanh', 'alpha': 0.01, 'max_iter': 500, 'solver': 'sgd'}\n"
     ]
    },
    {
     "name": "stderr",
     "output_type": "stream",
     "text": [
      "Stochastic Optimizer: Maximum iterations (500) reached and the optimization hasn't converged yet.\n"
     ]
    },
    {
     "name": "stdout",
     "output_type": "stream",
     "text": [
      "time:  30.771847\n",
      "0 0.6744264532969535 0.43678900427343914 0.4548510409067078 0.19078463425418243 0.49911081124021606 0.3298499244156606 0.7346229993183406 0.895318808689528 MLPRegressor {'hidden_layer_sizes': (100,), 'activation': 'tanh', 'alpha': 0.01, 'max_iter': 500, 'solver': 'sgd'}\n",
      "Regression:  True\n",
      "nn\n",
      "{'hidden_layer_sizes': (50,), 'activation': 'logistic', 'alpha': 0.0001, 'max_iter': 200, 'solver': 'adam'}\n"
     ]
    },
    {
     "name": "stderr",
     "output_type": "stream",
     "text": [
      "Stochastic Optimizer: Maximum iterations (200) reached and the optimization hasn't converged yet.\n"
     ]
    },
    {
     "name": "stdout",
     "output_type": "stream",
     "text": [
      "time:  10.406862\n",
      "0 0.6944038234789818 0.40519942402119863 0.48219667006222894 0.1641865732271111 0.5098313211921824 0.2863735789272256 0.7186685430361717 0.9099128388940407 MLPRegressor {'hidden_layer_sizes': (50,), 'activation': 'logistic', 'alpha': 0.0001, 'max_iter': 200, 'solver': 'adam'}\n",
      "Regression:  True\n",
      "nn\n",
      "{'hidden_layer_sizes': (50, 50), 'activation': 'tanh', 'alpha': 0.01, 'max_iter': 200, 'solver': 'sgd'}\n"
     ]
    },
    {
     "name": "stderr",
     "output_type": "stream",
     "text": [
      "Stochastic Optimizer: Maximum iterations (200) reached and the optimization hasn't converged yet.\n"
     ]
    },
    {
     "name": "stdout",
     "output_type": "stream",
     "text": [
      "time:  10.14756\n",
      "0 0.7012717025650128 0.48727849416931324 0.49178200081843176 0.23744033087991342 0.5080313652175192 0.37105041386213944 0.7130761048578351 0.8697193995793866 MLPRegressor {'hidden_layer_sizes': (50, 50), 'activation': 'tanh', 'alpha': 0.01, 'max_iter': 200, 'solver': 'sgd'}\n",
      "Regression:  True\n",
      "nn\n",
      "{'hidden_layer_sizes': (100,), 'activation': 'relu', 'alpha': 0.0001, 'max_iter': 1000, 'solver': 'sgd'}\n",
      "time:  54.651219\n",
      "0 0.7032198082330101 0.31355459253921975 0.49451809869127145 0.09831648250243613 0.5144250113428278 0.2269136680317502 0.7114797636784937 0.946054950630362 MLPRegressor {'hidden_layer_sizes': (100,), 'activation': 'relu', 'alpha': 0.0001, 'max_iter': 1000, 'solver': 'sgd'}\n",
      "Regression:  True\n",
      "nn\n",
      "{'hidden_layer_sizes': (50,), 'activation': 'relu', 'alpha': 0.0001, 'max_iter': 500, 'solver': 'sgd'}\n"
     ]
    },
    {
     "name": "stderr",
     "output_type": "stream",
     "text": [
      "Stochastic Optimizer: Maximum iterations (500) reached and the optimization hasn't converged yet.\n"
     ]
    },
    {
     "name": "stdout",
     "output_type": "stream",
     "text": [
      "time:  21.086324\n",
      "0 0.6889302922989209 0.40180421946992323 0.47462494764707663 0.16144663078383426 0.5105832216442292 0.3053084717694978 0.7230861672775535 0.9114162117427274 MLPRegressor {'hidden_layer_sizes': (50,), 'activation': 'relu', 'alpha': 0.0001, 'max_iter': 500, 'solver': 'sgd'}\n",
      "Regression:  True\n",
      "nn\n",
      "{'hidden_layer_sizes': (100,), 'activation': 'logistic', 'alpha': 0.0001, 'max_iter': 1000, 'solver': 'sgd'}\n"
     ]
    },
    {
     "name": "stderr",
     "output_type": "stream",
     "text": [
      "Stochastic Optimizer: Maximum iterations (1000) reached and the optimization hasn't converged yet.\n"
     ]
    },
    {
     "name": "stdout",
     "output_type": "stream",
     "text": [
      "time:  65.93542\n",
      "0 0.6834645502765495 0.5327119548829063 0.46712379148472605 0.2837820268751677 0.4875470121135284 0.4067092987453463 0.72746262054463 0.8442922787680334 MLPRegressor {'hidden_layer_sizes': (100,), 'activation': 'logistic', 'alpha': 0.0001, 'max_iter': 1000, 'solver': 'sgd'}\n",
      "Regression:  True\n",
      "nn\n",
      "{'hidden_layer_sizes': (50, 50), 'activation': 'relu', 'alpha': 0.0001, 'max_iter': 200, 'solver': 'sgd'}\n"
     ]
    },
    {
     "name": "stderr",
     "output_type": "stream",
     "text": [
      "Stochastic Optimizer: Maximum iterations (200) reached and the optimization hasn't converged yet.\n"
     ]
    },
    {
     "name": "stdout",
     "output_type": "stream",
     "text": [
      "time:  9.785779\n",
      "0 0.6781597045848309 0.4688187066863417 0.45990058492258507 0.2197909797390541 0.49735615109377523 0.3544762091283162 0.7316769076856331 0.8794033823094659 MLPRegressor {'hidden_layer_sizes': (50, 50), 'activation': 'relu', 'alpha': 0.0001, 'max_iter': 200, 'solver': 'sgd'}\n",
      "Regression:  True\n",
      "nn\n",
      "{'hidden_layer_sizes': (100,), 'activation': 'relu', 'alpha': 0.001, 'max_iter': 1000, 'solver': 'sgd'}\n",
      "time:  55.036543\n",
      "0 0.7031210480166747 0.31362095735911527 0.49437920816406705 0.098358104894848 0.5144264133124714 0.2269540522933779 0.7115607975735885 0.9460321129336057 MLPRegressor {'hidden_layer_sizes': (100,), 'activation': 'relu', 'alpha': 0.001, 'max_iter': 1000, 'solver': 'sgd'}\n",
      "Regression:  True\n",
      "nn\n",
      "{'hidden_layer_sizes': (50, 50), 'activation': 'relu', 'alpha': 0.001, 'max_iter': 200, 'solver': 'sgd'}\n"
     ]
    },
    {
     "name": "stderr",
     "output_type": "stream",
     "text": [
      "Stochastic Optimizer: Maximum iterations (200) reached and the optimization hasn't converged yet.\n"
     ]
    },
    {
     "name": "stdout",
     "output_type": "stream",
     "text": [
      "time:  9.912378\n",
      "0 0.678156165728593 0.4689435424207311 0.459895785115707 0.219908045978104 0.49742192281979475 0.3545774888839154 0.7316797080713389 0.8793391494984019 MLPRegressor {'hidden_layer_sizes': (50, 50), 'activation': 'relu', 'alpha': 0.001, 'max_iter': 200, 'solver': 'sgd'}\n",
      "Regression:  True\n",
      "nn\n",
      "{'hidden_layer_sizes': (50,), 'activation': 'logistic', 'alpha': 0.01, 'max_iter': 1000, 'solver': 'adam'}\n",
      "time:  22.457224\n",
      "0 0.6997726765311179 0.3261234869812285 0.48968179881952456 0.10635652876079552 0.49840511505127844 0.22819743148121235 0.7143014407528231 0.9416434757555299 MLPRegressor {'hidden_layer_sizes': (50,), 'activation': 'logistic', 'alpha': 0.01, 'max_iter': 1000, 'solver': 'adam'}\n",
      "Regression:  True\n",
      "nn\n",
      "{'hidden_layer_sizes': (50,), 'activation': 'relu', 'alpha': 0.001, 'max_iter': 200, 'solver': 'sgd'}\n"
     ]
    },
    {
     "name": "stderr",
     "output_type": "stream",
     "text": [
      "Stochastic Optimizer: Maximum iterations (200) reached and the optimization hasn't converged yet.\n"
     ]
    },
    {
     "name": "stdout",
     "output_type": "stream",
     "text": [
      "time:  8.471932\n",
      "0 0.6822072757962826 0.5256133560021781 0.4654067671493852 0.27626940000787237 0.5071058110737613 0.40412503685126205 0.7284643963508408 0.8484143650849627 MLPRegressor {'hidden_layer_sizes': (50,), 'activation': 'relu', 'alpha': 0.001, 'max_iter': 200, 'solver': 'sgd'}\n",
      "Regression:  True\n",
      "nn\n",
      "{'hidden_layer_sizes': (100,), 'activation': 'relu', 'alpha': 0.001, 'max_iter': 200, 'solver': 'sgd'}\n"
     ]
    },
    {
     "name": "stderr",
     "output_type": "stream",
     "text": [
      "Stochastic Optimizer: Maximum iterations (200) reached and the optimization hasn't converged yet.\n"
     ]
    },
    {
     "name": "stdout",
     "output_type": "stream",
     "text": [
      "time:  12.288067\n",
      "0 0.6847701912490087 0.5334465292225907 0.468910214823204 0.28456519953962833 0.49262727371616927 0.4091959800773931 0.7264203547809462 0.8438625615225224 MLPRegressor {'hidden_layer_sizes': (100,), 'activation': 'relu', 'alpha': 0.001, 'max_iter': 200, 'solver': 'sgd'}\n",
      "Regression:  True\n",
      "nn\n",
      "{'hidden_layer_sizes': (100,), 'activation': 'logistic', 'alpha': 0.01, 'max_iter': 1000, 'solver': 'sgd'}\n"
     ]
    },
    {
     "name": "stderr",
     "output_type": "stream",
     "text": [
      "Stochastic Optimizer: Maximum iterations (1000) reached and the optimization hasn't converged yet.\n"
     ]
    },
    {
     "name": "stdout",
     "output_type": "stream",
     "text": [
      "time:  66.30809\n",
      "0 0.6834269145952606 0.5336732636154184 0.4670723475931976 0.2848071522979319 0.4874190413292357 0.40743216817380185 0.727492634822733 0.843729805008461 MLPRegressor {'hidden_layer_sizes': (100,), 'activation': 'logistic', 'alpha': 0.01, 'max_iter': 1000, 'solver': 'sgd'}\n",
      "Regression:  True\n",
      "nn\n",
      "{'hidden_layer_sizes': (50,), 'activation': 'relu', 'alpha': 0.01, 'max_iter': 1000, 'solver': 'sgd'}\n",
      "time:  34.21069\n",
      "0 0.7110167822016029 0.3297753993940309 0.5055448645723216 0.10875181404549257 0.5261642836302042 0.23954358244467178 0.7050463386809414 0.9403292120669958 MLPRegressor {'hidden_layer_sizes': (50,), 'activation': 'relu', 'alpha': 0.01, 'max_iter': 1000, 'solver': 'sgd'}\n",
      "Regression:  True\n",
      "nn\n",
      "{'hidden_layer_sizes': (100,), 'activation': 'tanh', 'alpha': 0.01, 'max_iter': 200, 'solver': 'sgd'}\n"
     ]
    },
    {
     "name": "stderr",
     "output_type": "stream",
     "text": [
      "Stochastic Optimizer: Maximum iterations (200) reached and the optimization hasn't converged yet.\n"
     ]
    },
    {
     "name": "stdout",
     "output_type": "stream",
     "text": [
      "time:  12.46543\n",
      "0 0.6897209428542395 0.5649542855439538 0.475714979011741 0.3191733447544792 0.4957232421839472 0.43477671008449986 0.7224502024710819 0.8248734962642075 MLPRegressor {'hidden_layer_sizes': (100,), 'activation': 'tanh', 'alpha': 0.01, 'max_iter': 200, 'solver': 'sgd'}\n",
      "Regression:  True\n",
      "nn\n",
      "{'hidden_layer_sizes': (100,), 'activation': 'logistic', 'alpha': 0.001, 'max_iter': 1000, 'solver': 'sgd'}\n"
     ]
    },
    {
     "name": "stderr",
     "output_type": "stream",
     "text": [
      "Stochastic Optimizer: Maximum iterations (1000) reached and the optimization hasn't converged yet.\n"
     ]
    },
    {
     "name": "stdout",
     "output_type": "stream",
     "text": [
      "time:  67.016982\n",
      "0 0.6834607967010545 0.5327991653984777 0.46711866062724017 0.28387495064931445 0.4875349234115552 0.406774509517523 0.7274656140775628 0.8442412926316667 MLPRegressor {'hidden_layer_sizes': (100,), 'activation': 'logistic', 'alpha': 0.001, 'max_iter': 1000, 'solver': 'sgd'}\n",
      "Regression:  True\n",
      "nn\n",
      "{'hidden_layer_sizes': (100,), 'activation': 'relu', 'alpha': 0.0001, 'max_iter': 200, 'solver': 'sgd'}\n"
     ]
    },
    {
     "name": "stderr",
     "output_type": "stream",
     "text": [
      "Stochastic Optimizer: Maximum iterations (200) reached and the optimization hasn't converged yet.\n"
     ]
    },
    {
     "name": "stdout",
     "output_type": "stream",
     "text": [
      "time:  12.227996\n",
      "0 0.6847640341824212 0.5334333425588881 0.46890178250978404 0.284551130953548 0.4926186108615815 0.40918230316093945 0.7264252745059615 0.8438702807833355 MLPRegressor {'hidden_layer_sizes': (100,), 'activation': 'relu', 'alpha': 0.0001, 'max_iter': 200, 'solver': 'sgd'}\n",
      "Regression:  True\n",
      "nn\n",
      "{'hidden_layer_sizes': (50,), 'activation': 'relu', 'alpha': 0.01, 'max_iter': 200, 'solver': 'sgd'}\n"
     ]
    },
    {
     "name": "stderr",
     "output_type": "stream",
     "text": [
      "Stochastic Optimizer: Maximum iterations (200) reached and the optimization hasn't converged yet.\n"
     ]
    },
    {
     "name": "stdout",
     "output_type": "stream",
     "text": [
      "time:  8.455743\n",
      "0 0.6821831096513077 0.5257367129023818 0.46537379509352805 0.27639909129340146 0.5070645795968515 0.404258831945817 0.728483633473553 0.8483432050655784 MLPRegressor {'hidden_layer_sizes': (50,), 'activation': 'relu', 'alpha': 0.01, 'max_iter': 200, 'solver': 'sgd'}\n",
      "Regression:  True\n",
      "nn\n",
      "{'hidden_layer_sizes': (100,), 'activation': 'logistic', 'alpha': 0.01, 'max_iter': 200, 'solver': 'adam'}\n"
     ]
    },
    {
     "name": "stderr",
     "output_type": "stream",
     "text": [
      "Stochastic Optimizer: Maximum iterations (200) reached and the optimization hasn't converged yet.\n"
     ]
    },
    {
     "name": "stdout",
     "output_type": "stream",
     "text": [
      "time:  16.681449\n",
      "0 0.6741075513669974 0.4147101286485084 0.454420990810009 0.1719844908036624 0.48665994012892944 0.3075846047098926 0.7348739065265055 0.9056342170603415 MLPRegressor {'hidden_layer_sizes': (100,), 'activation': 'logistic', 'alpha': 0.01, 'max_iter': 200, 'solver': 'adam'}\n",
      "Regression:  True\n",
      "nn\n",
      "{'hidden_layer_sizes': (100,), 'activation': 'logistic', 'alpha': 0.01, 'max_iter': 500, 'solver': 'adam'}\n",
      "time:  27.213096\n",
      "0 0.6794131578030831 0.3625866441131658 0.46160223899595704 0.13146907448924755 0.49584869074647425 0.26185405877790474 0.7306840994614527 0.9278645295947469 MLPRegressor {'hidden_layer_sizes': (100,), 'activation': 'logistic', 'alpha': 0.01, 'max_iter': 500, 'solver': 'adam'}\n",
      "Regression:  True\n",
      "nn\n",
      "{'hidden_layer_sizes': (50,), 'activation': 'relu', 'alpha': 0.01, 'max_iter': 200, 'solver': 'sgd'}\n"
     ]
    },
    {
     "name": "stderr",
     "output_type": "stream",
     "text": [
      "Stochastic Optimizer: Maximum iterations (200) reached and the optimization hasn't converged yet.\n"
     ]
    },
    {
     "name": "stdout",
     "output_type": "stream",
     "text": [
      "time:  8.362569\n",
      "0 0.6821831096513077 0.5257367129023818 0.46537379509352805 0.27639909129340146 0.5070645795968515 0.404258831945817 0.728483633473553 0.8483432050655784 MLPRegressor {'hidden_layer_sizes': (50,), 'activation': 'relu', 'alpha': 0.01, 'max_iter': 200, 'solver': 'sgd'}\n",
      "Regression:  True\n",
      "nn\n",
      "{'hidden_layer_sizes': (50,), 'activation': 'relu', 'alpha': 0.0001, 'max_iter': 200, 'solver': 'sgd'}\n"
     ]
    },
    {
     "name": "stderr",
     "output_type": "stream",
     "text": [
      "Stochastic Optimizer: Maximum iterations (200) reached and the optimization hasn't converged yet.\n"
     ]
    },
    {
     "name": "stdout",
     "output_type": "stream",
     "text": [
      "time:  8.505522\n",
      "0 0.6822254419983981 0.5255887600662119 0.4654315537099096 0.27624354470793805 0.5071750316226494 0.4041603174231258 0.7284499349502995 0.848428551571256 MLPRegressor {'hidden_layer_sizes': (50,), 'activation': 'relu', 'alpha': 0.0001, 'max_iter': 200, 'solver': 'sgd'}\n",
      "Regression:  True\n",
      "nn\n",
      "{'hidden_layer_sizes': (50,), 'activation': 'relu', 'alpha': 0.001, 'max_iter': 200, 'solver': 'sgd'}\n"
     ]
    },
    {
     "name": "stderr",
     "output_type": "stream",
     "text": [
      "Stochastic Optimizer: Maximum iterations (200) reached and the optimization hasn't converged yet.\n"
     ]
    },
    {
     "name": "stdout",
     "output_type": "stream",
     "text": [
      "time:  8.503642\n",
      "0 0.6822072757962826 0.5256133560021781 0.4654067671493852 0.27626940000787237 0.5071058110737613 0.40412503685126205 0.7284643963508408 0.8484143650849627 MLPRegressor {'hidden_layer_sizes': (50,), 'activation': 'relu', 'alpha': 0.001, 'max_iter': 200, 'solver': 'sgd'}\n",
      "Regression:  True\n",
      "sv\n",
      "{'C': 1, 'kernel': 'rbf', 'epsilon': 0.01, 'gamma': 'scale'}\n",
      "time:  1.944345\n",
      "0 0.6216255424394554 0.4844321179780659 0.38641831501314716 0.23467447692871476 0.4529381376287173 0.2730607512790073 0.7745491947380584 0.8712369897550006 SVR {'C': 1, 'kernel': 'rbf', 'epsilon': 0.01, 'gamma': 'scale'}\n",
      "Regression:  True\n",
      "sv\n",
      "{'C': 1, 'kernel': 'rbf', 'epsilon': 0.1, 'gamma': 'scale'}\n",
      "time:  1.646939\n",
      "0 0.62396549211077 0.48433038220011926 0.38933293534503544 0.23457591912211362 0.4545667075442186 0.30550255297428 0.7728486969217614 0.8712910672159465 SVR {'C': 1, 'kernel': 'rbf', 'epsilon': 0.1, 'gamma': 'scale'}\n",
      "Regression:  True\n",
      "sv\n",
      "{'C': 1, 'kernel': 'rbf', 'epsilon': 0.01, 'gamma': 'scale'}\n",
      "time:  1.940198\n",
      "0 0.6216255424394554 0.4844321179780659 0.38641831501314716 0.23467447692871476 0.4529381376287173 0.2730607512790073 0.7745491947380584 0.8712369897550006 SVR {'C': 1, 'kernel': 'rbf', 'epsilon': 0.01, 'gamma': 'scale'}\n",
      "Regression:  True\n",
      "sv\n",
      "{'C': 1, 'kernel': 'rbf', 'epsilon': 0.1, 'gamma': 'scale'}\n",
      "time:  1.696076\n",
      "0 0.62396549211077 0.48433038220011926 0.38933293534503544 0.23457591912211362 0.4545667075442186 0.30550255297428 0.7728486969217614 0.8712910672159465 SVR {'C': 1, 'kernel': 'rbf', 'epsilon': 0.1, 'gamma': 'scale'}\n",
      "Regression:  True\n",
      "sv\n",
      "{'C': 10, 'kernel': 'rbf', 'epsilon': 0.1, 'gamma': 'scale'}\n",
      "time:  1.677206\n",
      "0 0.6514824352915725 0.20831435653910865 0.4244293634934379 0.04339487114030288 0.466710284795126 0.1168519640978084 0.7523721364678243 0.9761897658818834 SVR {'C': 10, 'kernel': 'rbf', 'epsilon': 0.1, 'gamma': 'scale'}\n",
      "Regression:  True\n",
      "sv\n",
      "{'C': 1, 'kernel': 'rbf', 'epsilon': 0.01, 'gamma': 0.05}\n",
      "time:  1.947387\n",
      "0 0.6643721060951516 0.35791061929645684 0.44139029535730734 0.12810001140517327 0.4849214778793016 0.15519438973857128 0.7424764985072576 0.9297130932310151 SVR {'C': 1, 'kernel': 'rbf', 'epsilon': 0.01, 'gamma': 0.05}\n",
      "Regression:  True\n",
      "sv\n",
      "{'C': 10, 'kernel': 'rbf', 'epsilon': 0.01, 'gamma': 'scale'}\n",
      "time:  1.965691\n",
      "0 0.6538061195009159 0.19223172546686457 0.427462441896846 0.036953036275967986 0.4652437620658468 0.03956006548635104 0.7506025258104005 0.9797243217461963 SVR {'C': 10, 'kernel': 'rbf', 'epsilon': 0.01, 'gamma': 'scale'}\n",
      "Regression:  True\n",
      "sv\n",
      "{'C': 1000, 'kernel': 'rbf', 'epsilon': 0.1, 'gamma': 'scale'}\n",
      "time:  1.676271\n",
      "0 0.65393403262917 0.2043748868956798 0.4276297190306484 0.04176909439362191 0.4704833447270308 0.11441277811795543 0.7505049301140984 0.9770818096636729 SVR {'C': 1000, 'kernel': 'rbf', 'epsilon': 0.1, 'gamma': 'scale'}\n",
      "Regression:  True\n",
      "sv\n",
      "{'C': 100, 'kernel': 'rbf', 'epsilon': 0.1, 'gamma': 'scale'}\n",
      "time:  1.698241\n",
      "0 0.6539340326292188 0.20437488689565778 0.4276297190307121 0.041769094393612906 0.47048334472701697 0.11441277811795142 0.7505049301140612 0.9770818096636779 SVR {'C': 100, 'kernel': 'rbf', 'epsilon': 0.1, 'gamma': 'scale'}\n",
      "Regression:  True\n",
      "sv\n",
      "{'C': 1000, 'kernel': 'rbf', 'epsilon': 0.01, 'gamma': 'scale'}\n",
      "time:  1.926201\n",
      "0 0.6565092027978705 0.1857378191863214 0.43100433335829547 0.03449853747609062 0.47024930187458386 0.034731501365793574 0.7485360547061337 0.9810710751650223 SVR {'C': 1000, 'kernel': 'rbf', 'epsilon': 0.01, 'gamma': 'scale'}\n",
      "Regression:  True\n",
      "sv\n",
      "{'C': 100, 'kernel': 'rbf', 'epsilon': 0.01, 'gamma': 'scale'}\n",
      "time:  1.91397\n",
      "0 0.6565092027979111 0.1857378191863551 0.43100433335834876 0.03449853747610314 0.4702493018745997 0.03473150136577071 0.7485360547061026 0.9810710751650155 SVR {'C': 100, 'kernel': 'rbf', 'epsilon': 0.01, 'gamma': 'scale'}\n",
      "Regression:  True\n",
      "sv\n",
      "{'C': 1, 'kernel': 'rbf', 'epsilon': 0.1, 'gamma': 0.05}\n",
      "time:  1.689\n",
      "0 0.670660549490015 0.3647025413108688 0.4497855726422489 0.133007943638606 0.492828017090324 0.2131275736546358 0.737578381749456 0.9270201709468111 SVR {'C': 1, 'kernel': 'rbf', 'epsilon': 0.1, 'gamma': 0.05}\n",
      "Regression:  True\n",
      "sv\n",
      "{'C': 1, 'kernel': 'rbf', 'epsilon': 0.01, 'gamma': 0.05}\n",
      "time:  1.92554\n",
      "0 0.6643721060951516 0.35791061929645684 0.44139029535730734 0.12810001140517327 0.4849214778793016 0.15519438973857128 0.7424764985072576 0.9297130932310151 SVR {'C': 1, 'kernel': 'rbf', 'epsilon': 0.01, 'gamma': 0.05}\n",
      "Regression:  True\n",
      "sv\n",
      "{'C': 1, 'kernel': 'rbf', 'epsilon': 0.1, 'gamma': 0.05}\n",
      "time:  1.703651\n",
      "0 0.670660549490015 0.3647025413108688 0.4497855726422489 0.133007943638606 0.492828017090324 0.2131275736546358 0.737578381749456 0.9270201709468111 SVR {'C': 1, 'kernel': 'rbf', 'epsilon': 0.1, 'gamma': 0.05}\n",
      "Regression:  True\n",
      "sv\n",
      "{'C': 0.1, 'kernel': 'poly', 'epsilon': 0.01, 'gamma': 0.05}\n",
      "time:  0.900941\n",
      "0 0.6707090920119332 0.2888356097535528 0.4498506861074718 0.08342600946170665 0.4740481155853762 0.0964037347653939 0.7375403921340637 0.9542251707488403 SVR {'C': 0.1, 'kernel': 'poly', 'epsilon': 0.01, 'gamma': 0.05}\n",
      "Regression:  True\n",
      "sv\n",
      "{'C': 0.1, 'kernel': 'poly', 'epsilon': 0.1, 'gamma': 0.05}\n",
      "time:  0.764763\n",
      "0 0.6708311648373501 0.2943924094528618 0.4500144517170359 0.08666689074346146 0.4770604882604208 0.16085492971728474 0.7374448451914992 0.9524469388970135 SVR {'C': 0.1, 'kernel': 'poly', 'epsilon': 0.1, 'gamma': 0.05}\n",
      "Regression:  True\n",
      "sv\n",
      "{'C': 0.01, 'kernel': 'poly', 'epsilon': 0.1, 'gamma': 0.1}\n",
      "time:  0.758972\n",
      "0 0.6731836482701029 0.32655525282859216 0.4531762242982456 0.10663833314994574 0.480355426032448 0.17919690266169366 0.7356001495681446 0.9414888531398875 SVR {'C': 0.01, 'kernel': 'poly', 'epsilon': 0.1, 'gamma': 0.1}\n",
      "Regression:  True\n",
      "sv\n",
      "{'C': 0.01, 'kernel': 'poly', 'epsilon': 0.01, 'gamma': 0.1}\n",
      "time:  0.921287\n",
      "0 0.6735539568031684 0.32197028981261316 0.4536749327252045 0.10366486752201812 0.47679083669449823 0.11866687051663548 0.7353091845385884 0.9431203572988519 SVR {'C': 0.01, 'kernel': 'poly', 'epsilon': 0.01, 'gamma': 0.1}\n",
      "Regression:  True\n",
      "sv\n",
      "{'C': 1000, 'kernel': 'rbf', 'epsilon': 0.1, 'gamma': 'scale'}\n",
      "time:  1.707623\n",
      "0 0.65393403262917 0.2043748868956798 0.4276297190306484 0.04176909439362191 0.4704833447270308 0.11441277811795543 0.7505049301140984 0.9770818096636729 SVR {'C': 1000, 'kernel': 'rbf', 'epsilon': 0.1, 'gamma': 'scale'}\n",
      "Regression:  True\n",
      "sv\n",
      "{'C': 100, 'kernel': 'rbf', 'epsilon': 0.1, 'gamma': 'scale'}\n",
      "time:  1.722013\n",
      "0 0.6539340326292188 0.20437488689565778 0.4276297190307121 0.041769094393612906 0.47048334472701697 0.11441277811795142 0.7505049301140612 0.9770818096636779 SVR {'C': 100, 'kernel': 'rbf', 'epsilon': 0.1, 'gamma': 'scale'}\n",
      "Regression:  True\n",
      "sv\n",
      "{'C': 10, 'kernel': 'rbf', 'epsilon': 0.1, 'gamma': 'scale'}\n",
      "time:  1.692376\n",
      "0 0.6514824352915725 0.20831435653910865 0.4244293634934379 0.04339487114030288 0.466710284795126 0.1168519640978084 0.7523721364678243 0.9761897658818834 SVR {'C': 10, 'kernel': 'rbf', 'epsilon': 0.1, 'gamma': 'scale'}\n",
      "Regression:  True\n",
      "sv\n",
      "{'C': 100, 'kernel': 'rbf', 'epsilon': 0.01, 'gamma': 0.05}\n",
      "time:  1.93634\n",
      "0 0.6747373290632395 0.1803889371022922 0.45527046323139425 0.032540168628894736 0.4887468179972728 0.03470605255334543 0.7343782927473227 0.9821456081574259 SVR {'C': 100, 'kernel': 'rbf', 'epsilon': 0.01, 'gamma': 0.05}\n",
      "Regression:  True\n",
      "sv\n",
      "{'C': 10, 'kernel': 'rbf', 'epsilon': 0.01, 'gamma': 0.05}\n",
      "time:  1.895937\n",
      "0 0.6747373290632395 0.1803889371022911 0.45527046323139436 0.03254016862889433 0.48874681799727365 0.03470605255334521 0.7343782927473226 0.9821456081574261 SVR {'C': 10, 'kernel': 'rbf', 'epsilon': 0.01, 'gamma': 0.05}\n",
      "Regression:  True\n",
      "sv\n",
      "{'C': 1000, 'kernel': 'rbf', 'epsilon': 0.01, 'gamma': 0.05}\n",
      "time:  1.903004\n",
      "0 0.67473732906326 0.1803889371023134 0.455270463231422 0.03254016862890238 0.48874681799728203 0.03470605255334733 0.7343782927473065 0.9821456081574217 SVR {'C': 1000, 'kernel': 'rbf', 'epsilon': 0.01, 'gamma': 0.05}\n",
      "Regression:  True\n",
      "sv\n",
      "{'C': 1000, 'kernel': 'rbf', 'epsilon': 0.01, 'gamma': 'scale'}\n",
      "time:  1.996113\n",
      "0 0.6565092027978705 0.1857378191863214 0.43100433335829547 0.03449853747609062 0.47024930187458386 0.034731501365793574 0.7485360547061337 0.9810710751650223 SVR {'C': 1000, 'kernel': 'rbf', 'epsilon': 0.01, 'gamma': 'scale'}\n",
      "Regression:  True\n",
      "sv\n",
      "{'C': 100, 'kernel': 'rbf', 'epsilon': 0.01, 'gamma': 'scale'}\n",
      "time:  1.942012\n",
      "0 0.6565092027979111 0.1857378191863551 0.43100433335834876 0.03449853747610314 0.4702493018745997 0.03473150136577071 0.7485360547061026 0.9810710751650155 SVR {'C': 100, 'kernel': 'rbf', 'epsilon': 0.01, 'gamma': 'scale'}\n",
      "Regression:  True\n",
      "sv\n",
      "{'C': 10, 'kernel': 'rbf', 'epsilon': 0.01, 'gamma': 'scale'}\n",
      "time:  1.939347\n",
      "0 0.6538061195009159 0.19223172546686457 0.427462441896846 0.036953036275967986 0.4652437620658468 0.03956006548635104 0.7506025258104005 0.9797243217461963 SVR {'C': 10, 'kernel': 'rbf', 'epsilon': 0.01, 'gamma': 'scale'}\n",
      "Regression:  True\n",
      "sv\n",
      "{'C': 100, 'kernel': 'rbf', 'epsilon': 0.1, 'gamma': 0.05}\n",
      "time:  1.731072\n",
      "0 0.6777438132831056 0.2002912431250535 0.45933667644352516 0.040116582072579295 0.4957956923314257 0.1161413885006069 0.7320059128485841 0.9779885229275488 SVR {'C': 100, 'kernel': 'rbf', 'epsilon': 0.1, 'gamma': 0.05}\n",
      "Regression:  True\n",
      "sv\n",
      "{'C': 1000, 'kernel': 'rbf', 'epsilon': 0.1, 'gamma': 0.05}\n",
      "time:  1.689067\n",
      "0 0.6777446668491629 0.20029450964603898 0.4593378334424828 0.04011789059434721 0.49579679742730154 0.11614826136088313 0.7320052378123951 0.9779878049576868 SVR {'C': 1000, 'kernel': 'rbf', 'epsilon': 0.1, 'gamma': 0.05}\n",
      "Regression:  True\n",
      "sv\n",
      "{'C': 10, 'kernel': 'rbf', 'epsilon': 0.1, 'gamma': 0.05}\n",
      "time:  1.658063\n",
      "0 0.6777446668491737 0.200294509646055 0.45933783344249735 0.04011789059435362 0.49579679742730914 0.11614826136089748 0.7320052378123867 0.9779878049576833 SVR {'C': 10, 'kernel': 'rbf', 'epsilon': 0.1, 'gamma': 0.05}\n",
      "Regression:  True\n",
      "sv\n",
      "{'C': 10, 'kernel': 'poly', 'epsilon': 0.1, 'gamma': 'scale'}\n",
      "time:  0.766708\n",
      "0 0.6794135096612753 0.21296286339348397 0.4616027171102518 0.04535318118475172 0.4804492001614706 0.11893210430549496 0.7306838205118054 0.9751152651538266 SVR {'C': 10, 'kernel': 'poly', 'epsilon': 0.1, 'gamma': 'scale'}\n",
      "Regression:  True\n",
      "sv\n",
      "{'C': 0.1, 'kernel': 'poly', 'epsilon': 0.1, 'gamma': 0.1}\n",
      "time:  0.758558\n",
      "0 0.6795694000542128 0.2052470096201001 0.46181456949004274 0.042126334957993464 0.480063895362763 0.11548437941076115 0.7305602179604642 0.9768857961429351 SVR {'C': 0.1, 'kernel': 'poly', 'epsilon': 0.1, 'gamma': 0.1}\n",
      "Regression:  True\n",
      "sv\n",
      "{'C': 1, 'kernel': 'poly', 'epsilon': 0.1, 'gamma': 0.05}\n",
      "time:  0.746185\n",
      "0 0.6797464681580686 0.2046838055810592 0.46205526097336813 0.04189546026714484 0.47984276934116515 0.1149899178775981 0.7304197896043871 0.9770124742571131 SVR {'C': 1, 'kernel': 'poly', 'epsilon': 0.1, 'gamma': 0.05}\n",
      "Regression:  True\n",
      "sv\n",
      "{'C': 1000, 'kernel': 'poly', 'epsilon': 0.1, 'gamma': 'scale'}\n",
      "time:  0.745188\n",
      "0 0.6797557059456328 0.20454307249648188 0.46206781976564565 0.041837868506301036 0.47985367127480183 0.11484585415628529 0.7304124623382559 0.9770440741506704 SVR {'C': 1000, 'kernel': 'poly', 'epsilon': 0.1, 'gamma': 'scale'}\n",
      "Regression:  True\n",
      "sv\n",
      "{'C': 100, 'kernel': 'poly', 'epsilon': 0.1, 'gamma': 'scale'}\n",
      "time:  0.781016\n",
      "0 0.6797557059456341 0.20454307249645967 0.46206781976564726 0.04183786850629196 0.479853671274779 0.1148458541562714 0.730412462338255 0.9770440741506754 SVR {'C': 100, 'kernel': 'poly', 'epsilon': 0.1, 'gamma': 'scale'}\n",
      "Regression:  True\n",
      "sv\n",
      "{'C': 1000, 'kernel': 'poly', 'epsilon': 0.1, 'gamma': 0.1}\n",
      "time:  0.74973\n",
      "0 0.6797656885536982 0.20454391745192146 0.4620813913348834 0.041838214166578465 0.4798645083083016 0.11484992896640238 0.7304045441804087 0.9770438844911112 SVR {'C': 1000, 'kernel': 'poly', 'epsilon': 0.1, 'gamma': 0.1}\n",
      "Regression:  True\n",
      "sv\n",
      "{'C': 100, 'kernel': 'poly', 'epsilon': 0.1, 'gamma': 0.05}\n",
      "time:  0.767205\n",
      "0 0.679765688555423 0.2045439174537608 0.46208139133722825 0.04183821416733091 0.47986450830303723 0.11484992896444665 0.7304045441790405 0.9770438844906985 SVR {'C': 100, 'kernel': 'poly', 'epsilon': 0.1, 'gamma': 0.05}\n",
      "Regression:  True\n",
      "sv\n",
      "{'C': 10, 'kernel': 'poly', 'epsilon': 0.1, 'gamma': 0.05}\n",
      "time:  0.741706\n",
      "0 0.6797656885554467 0.20454391745377598 0.46208139133726056 0.04183821416733712 0.47986450830300115 0.11484992896448391 0.7304045441790218 0.977043884490695 SVR {'C': 10, 'kernel': 'poly', 'epsilon': 0.1, 'gamma': 0.05}\n",
      "Regression:  True\n",
      "sv\n",
      "{'C': 1, 'kernel': 'poly', 'epsilon': 0.1, 'gamma': 0.1}\n",
      "time:  0.778364\n",
      "0 0.6797656885554468 0.20454391745377826 0.4620813913372607 0.04183821416733805 0.4798645083030001 0.11484992896448079 0.7304045441790217 0.9770438844906945 SVR {'C': 1, 'kernel': 'poly', 'epsilon': 0.1, 'gamma': 0.1}\n",
      "Regression:  True\n",
      "sv\n",
      "{'C': 10, 'kernel': 'poly', 'epsilon': 0.1, 'gamma': 0.1}\n",
      "time:  0.751209\n",
      "0 0.6797656885554939 0.2045439174536718 0.4620813913373247 0.0418382141672945 0.4798645083030346 0.11484992896444111 0.7304045441789844 0.9770438844907183 SVR {'C': 10, 'kernel': 'poly', 'epsilon': 0.1, 'gamma': 0.1}\n",
      "Regression:  True\n",
      "sv\n",
      "{'C': 100, 'kernel': 'poly', 'epsilon': 0.1, 'gamma': 0.1}\n",
      "time:  0.760185\n",
      "0 0.6797656885562099 0.20454391745436823 0.4620813913382982 0.0418382141675794 0.47986450830388944 0.11484992896446129 0.7304045441784164 0.977043884490562 SVR {'C': 100, 'kernel': 'poly', 'epsilon': 0.1, 'gamma': 0.1}\n",
      "Regression:  True\n",
      "sv\n",
      "{'C': 1000, 'kernel': 'poly', 'epsilon': 0.1, 'gamma': 0.05}\n",
      "time:  0.774658\n",
      "0 0.679765688556562 0.2045439174538748 0.4620813913387769 0.04183821416737755 0.4798645083037488 0.11484992896450101 0.730404544178137 0.9770438844906728 SVR {'C': 1000, 'kernel': 'poly', 'epsilon': 0.1, 'gamma': 0.05}\n"
     ]
    },
    {
     "name": "stderr",
     "output_type": "stream",
     "text": [
      "\n",
      "A value is trying to be set on a copy of a slice from a DataFrame\n",
      "\n",
      "See the caveats in the documentation: https://pandas.pydata.org/pandas-docs/stable/user_guide/indexing.html#returning-a-view-versus-a-copy\n",
      "overflow encountered in reduce                    \n",
      "100%|██████████| 1513/1513 [04:12<00:00,  5.99it/s]\n"
     ]
    },
    {
     "name": "stdout",
     "output_type": "stream",
     "text": [
      "Regression:  True\n",
      "gb\n",
      "{'max_depth': 3, 'loss': 'squared_error', 'n_estimators': 200, 'learning_rate': 0.1, 'min_impurity_decrease': 0}\n",
      "time:  88.568707\n",
      "0 0.6613653105402498 0.33399532266887405 0.43740407398600106 0.11155287556468531 0.5061838542862385 0.2534692076842401 0.7448022081933598 0.9387923039301888 GradientBoostingRegressor {'max_depth': 3, 'loss': 'squared_error', 'n_estimators': 200, 'learning_rate': 0.1, 'min_impurity_decrease': 0}\n",
      "Regression:  True\n",
      "gb\n",
      "{'max_depth': 3, 'loss': 'squared_error', 'n_estimators': 200, 'learning_rate': 0.1, 'min_impurity_decrease': 0.2}\n",
      "time:  88.465193\n",
      "0 0.6628199839357966 0.3362158989303155 0.43933033110464964 0.11304113069352015 0.5071656541861571 0.25434955028781014 0.7436783582057471 0.9379757165751883 GradientBoostingRegressor {'max_depth': 3, 'loss': 'squared_error', 'n_estimators': 200, 'learning_rate': 0.1, 'min_impurity_decrease': 0.2}\n",
      "Regression:  True\n",
      "gb\n",
      "{'max_depth': 3, 'loss': 'squared_error', 'n_estimators': 200, 'learning_rate': 0.1, 'min_impurity_decrease': 0.1}\n",
      "time:  88.322632\n",
      "0 0.663152719996983 0.34078880794645205 0.43977153003939695 0.11613701162156378 0.5109328939132706 0.25822565578287365 0.7434209463511456 0.9362770446408898 GradientBoostingRegressor {'max_depth': 3, 'loss': 'squared_error', 'n_estimators': 200, 'learning_rate': 0.1, 'min_impurity_decrease': 0.1}\n"
     ]
    },
    {
     "name": "stderr",
     "output_type": "stream",
     "text": [
      "\n",
      "A value is trying to be set on a copy of a slice from a DataFrame\n",
      "\n",
      "See the caveats in the documentation: https://pandas.pydata.org/pandas-docs/stable/user_guide/indexing.html#returning-a-view-versus-a-copy\n",
      "overflow encountered in reduce                    \n",
      "100%|██████████| 1513/1513 [04:16<00:00,  5.89it/s]\n"
     ]
    },
    {
     "name": "stdout",
     "output_type": "stream",
     "text": [
      "Regression:  True\n",
      "gb\n",
      "{'max_depth': 3, 'loss': 'squared_error', 'n_estimators': 200, 'learning_rate': 0.1, 'min_impurity_decrease': 0}\n",
      "time:  88.420985\n",
      "0 0.6613653105402498 0.33399532266887405 0.43740407398600106 0.11155287556468531 0.5061838542862385 0.2534692076842401 0.7448022081933598 0.9387923039301888 GradientBoostingRegressor {'max_depth': 3, 'loss': 'squared_error', 'n_estimators': 200, 'learning_rate': 0.1, 'min_impurity_decrease': 0}\n",
      "Regression:  True\n",
      "gb\n",
      "{'max_depth': 3, 'loss': 'squared_error', 'n_estimators': 100, 'learning_rate': 0.1, 'min_impurity_decrease': 0}\n",
      "time:  44.12836\n",
      "0 0.6716467986389217 0.4651950611070351 0.4511094221219123 0.21640644487837815 0.5223956185051372 0.36457589722922346 0.7368059987654207 0.8812604351199944 GradientBoostingRegressor {'max_depth': 3, 'loss': 'squared_error', 'n_estimators': 100, 'learning_rate': 0.1, 'min_impurity_decrease': 0}\n",
      "Regression:  True\n",
      "gb\n",
      "{'max_depth': 3, 'loss': 'squared_error', 'n_estimators': 100, 'learning_rate': 0.1, 'min_impurity_decrease': 0.1}\n",
      "time:  44.149338\n",
      "0 0.6818416709511094 0.4652146904869067 0.46490806424540093 0.21642470824482843 0.5345149924174674 0.36615625771966587 0.7287553581580883 0.881250414234587 GradientBoostingRegressor {'max_depth': 3, 'loss': 'squared_error', 'n_estimators': 100, 'learning_rate': 0.1, 'min_impurity_decrease': 0.1}\n",
      "Regression:  True\n",
      "gb\n",
      "{'max_depth': 3, 'loss': 'squared_error', 'n_estimators': 100, 'learning_rate': 0.1, 'min_impurity_decrease': 0.2}\n",
      "time:  44.131728\n",
      "0 0.6770258964832312 0.4647064272502392 0.4583640645089228 0.21595206352768187 0.5302520202723318 0.3625081596869003 0.7325733707959539 0.8815097486000139 GradientBoostingRegressor {'max_depth': 3, 'loss': 'squared_error', 'n_estimators': 100, 'learning_rate': 0.1, 'min_impurity_decrease': 0.2}\n",
      "Regression:  True\n",
      "nn\n",
      "{'hidden_layer_sizes': (100,), 'activation': 'tanh', 'alpha': 0.001, 'max_iter': 500, 'solver': 'sgd'}\n",
      "time:  8.029101\n",
      "0 0.7639600752069915 0.7217394843498126 0.5836349965102721 0.5209078832695334 0.5894497866310602 0.559734260632167 0.6594856536812586 0.7141842266446797 MLPRegressor {'hidden_layer_sizes': (100,), 'activation': 'tanh', 'alpha': 0.001, 'max_iter': 500, 'solver': 'sgd'}\n",
      "Regression:  True\n",
      "sv\n",
      "{'C': 10, 'kernel': 'rbf', 'epsilon': 0.1, 'gamma': 'scale'}\n",
      "time:  0.84223\n",
      "0 0.6653418095581188 0.4808363762738417 0.44267972354607205 0.23120362074815948 0.49551997443383405 0.29530945765630984 0.7417241981835151 0.8731414060161329 SVR {'C': 10, 'kernel': 'rbf', 'epsilon': 0.1, 'gamma': 'scale'}\n",
      "Regression:  True\n",
      "sv\n",
      "{'C': 10, 'kernel': 'rbf', 'epsilon': 0.1, 'gamma': 'scale'}\n",
      "time:  0.867963\n",
      "0 0.6653418095581188 0.4808363762738417 0.44267972354607205 0.23120362074815948 0.49551997443383405 0.29530945765630984 0.7417241981835151 0.8731414060161329 SVR {'C': 10, 'kernel': 'rbf', 'epsilon': 0.1, 'gamma': 'scale'}\n",
      "Regression:  True\n",
      "sv\n",
      "{'C': 10, 'kernel': 'rbf', 'epsilon': 0.01, 'gamma': 'scale'}\n",
      "time:  0.97784\n",
      "0 0.6643015615445259 0.48399560404296416 0.44129656467049555 0.23425174473291374 0.49301111820303595 0.2656159665125846 0.7425311844732134 0.8714689377314964 SVR {'C': 10, 'kernel': 'rbf', 'epsilon': 0.01, 'gamma': 'scale'}\n",
      "Regression:  True\n",
      "sv\n",
      "{'C': 10, 'kernel': 'rbf', 'epsilon': 0.01, 'gamma': 'scale'}\n",
      "time:  1.000993\n",
      "0 0.6643015615445259 0.48399560404296416 0.44129656467049555 0.23425174473291374 0.49301111820303595 0.2656159665125846 0.7425311844732134 0.8714689377314964 SVR {'C': 10, 'kernel': 'rbf', 'epsilon': 0.01, 'gamma': 'scale'}\n",
      "Regression:  True\n",
      "xg\n",
      "{'max_depth': 3, 'eta': 0.2, 'gamma': 0.1}\n",
      "time:  2.066948\n",
      "0 0.6890856300259741 0.33595177757568245 0.47483900550829367 0.11286359685626081 0.5219476662599772 0.25119484027706934 0.7229612779663871 0.9380731272165372 XGBRegressor {'max_depth': 3, 'eta': 0.2, 'gamma': 0.1}\n",
      "Regression:  True\n",
      "xg\n",
      "{'max_depth': 3, 'eta': 0.2, 'gamma': 0}\n",
      "time:  2.005037\n",
      "0 0.695916030950126 0.3344202014083038 0.4842991221333767 0.1118368711099705 0.5252838192797771 0.24881888954830708 0.7174418943654202 0.9386364790540213 XGBRegressor {'max_depth': 3, 'eta': 0.2, 'gamma': 0}\n",
      "Regression:  True\n",
      "xg\n",
      "{'max_depth': 3, 'eta': 0.2, 'gamma': 0.01}\n",
      "time:  2.013903\n",
      "0 0.6976330148333226 0.332446509624225 0.48669182338543093 0.11052068176132991 0.5261805880574544 0.24853058256681837 0.7160459035361332 0.9393586560235894 XGBRegressor {'max_depth': 3, 'eta': 0.2, 'gamma': 0.01}\n"
     ]
    },
    {
     "name": "stderr",
     "output_type": "stream",
     "text": [
      "\n",
      "A value is trying to be set on a copy of a slice from a DataFrame\n",
      "\n",
      "See the caveats in the documentation: https://pandas.pydata.org/pandas-docs/stable/user_guide/indexing.html#returning-a-view-versus-a-copy\n"
     ]
    },
    {
     "name": "stdout",
     "output_type": "stream",
     "text": [
      "Regression:  False\n",
      "gb\n",
      "{'max_depth': 3, 'loss': 'exponential', 'n_estimators': 200, 'learning_rate': 1.0, 'min_impurity_decrease': 0.05}\n",
      "time:  4.587214\n",
      "0 0.6789778206364513 0.9782695523256995 0.6917808219178082 0.9794050343249427 0.6395348837209303 0.9774964838255977 0.6010928961748634 0.972027972027972 0.619718309859155 0.9747545582047685 GradientBoostingClassifier {'max_depth': 3, 'loss': 'exponential', 'n_estimators': 200, 'learning_rate': 1.0, 'min_impurity_decrease': 0.05}\n",
      "Regression:  False\n",
      "lr\n",
      "{'C': 0.1, 'penalty': 'l2', 'solver': 'liblinear'}\n",
      "time:  0.089518\n",
      "0 0.7131468981035037 0.8061975778335895 0.7351598173515982 0.8220823798627003 0.7310344827586207 0.8237179487179487 0.5792349726775956 0.7188811188811188 0.6463414634146342 0.7677371172516803 LogisticRegression {'C': 0.1, 'penalty': 'l2', 'solver': 'liblinear'}\n",
      "Regression:  False\n",
      "nn\n",
      "{'hidden_layer_sizes': (100,), 'activation': 'relu', 'alpha': 0.001, 'max_iter': 500, 'solver': 'sgd'}\n"
     ]
    },
    {
     "name": "stderr",
     "output_type": "stream",
     "text": [
      "Stochastic Optimizer: Maximum iterations (500) reached and the optimization hasn't converged yet.\n"
     ]
    },
    {
     "name": "stdout",
     "output_type": "stream",
     "text": [
      "time:  45.188118\n",
      "0 0.7221150755384121 0.8421293130876868 0.7420091324200914 0.8541189931350115 0.7333333333333333 0.8538461538461538 0.6010928961748634 0.7762237762237763 0.6606606606606606 0.8131868131868132 MLPClassifier {'hidden_layer_sizes': (100,), 'activation': 'relu', 'alpha': 0.001, 'max_iter': 500, 'solver': 'sgd'}\n",
      "Regression:  False\n",
      "nn\n",
      "{'hidden_layer_sizes': (50, 50), 'activation': 'tanh', 'alpha': 0.001, 'max_iter': 200, 'solver': 'sgd'}\n"
     ]
    },
    {
     "name": "stderr",
     "output_type": "stream",
     "text": [
      "Stochastic Optimizer: Maximum iterations (200) reached and the optimization hasn't converged yet.\n"
     ]
    },
    {
     "name": "stdout",
     "output_type": "stream",
     "text": [
      "time:  15.68454\n",
      "0 0.7041144326583092 0.8074905733182598 0.723744292237443 0.8197940503432495 0.7039473684210527 0.8039513677811551 0.5846994535519126 0.7398601398601399 0.6388059701492537 0.7705753823743626 MLPClassifier {'hidden_layer_sizes': (50, 50), 'activation': 'tanh', 'alpha': 0.001, 'max_iter': 200, 'solver': 'sgd'}\n",
      "Regression:  False\n",
      "nn\n",
      "{'hidden_layer_sizes': (50,), 'activation': 'relu', 'alpha': 0.001, 'max_iter': 200, 'solver': 'lbfgs'}\n"
     ]
    },
    {
     "name": "stderr",
     "output_type": "stream",
     "text": [
      "lbfgs failed to converge (status=1):\n",
      "STOP: TOTAL NO. of ITERATIONS REACHED LIMIT.\n",
      "\n",
      "Increase the number of iterations (max_iter) or scale the data as shown in:\n",
      "    https://scikit-learn.org/stable/modules/preprocessing.html\n"
     ]
    },
    {
     "name": "stdout",
     "output_type": "stream",
     "text": [
      "time:  5.083507\n",
      "0 0.6688203150112504 0.9844014649435753 0.682648401826484 0.9851258581235698 0.6294117647058823 0.9831697054698457 0.5846994535519126 0.9804195804195804 0.6062322946175637 0.9817927170868348 MLPClassifier {'hidden_layer_sizes': (50,), 'activation': 'relu', 'alpha': 0.001, 'max_iter': 200, 'solver': 'lbfgs'}\n",
      "Regression:  False\n",
      "nn\n",
      "{'hidden_layer_sizes': (100,), 'activation': 'relu', 'alpha': 0.01, 'max_iter': 500, 'solver': 'sgd'}\n"
     ]
    },
    {
     "name": "stderr",
     "output_type": "stream",
     "text": [
      "Stochastic Optimizer: Maximum iterations (500) reached and the optimization hasn't converged yet.\n"
     ]
    },
    {
     "name": "stdout",
     "output_type": "stream",
     "text": [
      "time:  45.120204\n",
      "0 0.7221150755384121 0.8421293130876868 0.7420091324200914 0.8541189931350115 0.7333333333333333 0.8538461538461538 0.6010928961748634 0.7762237762237763 0.6606606606606606 0.8131868131868132 MLPClassifier {'hidden_layer_sizes': (100,), 'activation': 'relu', 'alpha': 0.01, 'max_iter': 500, 'solver': 'sgd'}\n",
      "Regression:  False\n",
      "sv\n",
      "{'C': 0.1, 'kernel': 'poly', 'gamma': 0.05}\n",
      "time:  2.000643\n",
      "0 0.7138540662166506 0.9174330993304857 0.730593607305936 0.9250572082379863 0.7044025157232704 0.937125748502994 0.6120218579234973 0.8755244755244755 0.6549707602339181 0.9052783803326103 SVC {'C': 0.1, 'kernel': 'poly', 'gamma': 0.05}\n"
     ]
    },
    {
     "name": "stderr",
     "output_type": "stream",
     "text": [
      "\n",
      "A value is trying to be set on a copy of a slice from a DataFrame\n",
      "\n",
      "See the caveats in the documentation: https://pandas.pydata.org/pandas-docs/stable/user_guide/indexing.html#returning-a-view-versus-a-copy\n",
      "100%|██████████| 2186/2186 [06:55<00:00,  5.26it/s]\n"
     ]
    },
    {
     "name": "stdout",
     "output_type": "stream",
     "text": [
      "Regression:  False\n",
      "gb\n",
      "{'max_depth': 3, 'loss': 'log_loss', 'n_estimators': 100, 'learning_rate': 0.5, 'min_impurity_decrease': 0.2}\n",
      "time:  48.924501\n",
      "0 0.7095146255223401 0.9705237647154394 0.723744292237443 0.9725400457665904 0.6867469879518072 0.9730496453900709 0.6229508196721312 0.9594405594405594 0.6532951289398281 0.9661971830985915 GradientBoostingClassifier {'max_depth': 3, 'loss': 'log_loss', 'n_estimators': 100, 'learning_rate': 0.5, 'min_impurity_decrease': 0.2}\n",
      "Regression:  False\n",
      "gb\n",
      "{'max_depth': 5, 'loss': 'log_loss', 'n_estimators': 200, 'learning_rate': 0.1, 'min_impurity_decrease': 0.1}\n",
      "time:  140.084911\n",
      "0 0.7067823850851817 0.9839174378380573 0.7214611872146118 0.9845537757437071 0.6848484848484848 0.9817927170868347 0.6174863387978142 0.9804195804195804 0.6494252873563218 0.9811056682995102 GradientBoostingClassifier {'max_depth': 5, 'loss': 'log_loss', 'n_estimators': 200, 'learning_rate': 0.1, 'min_impurity_decrease': 0.1}\n",
      "Regression:  False\n",
      "gb\n",
      "{'max_depth': 3, 'loss': 'log_loss', 'n_estimators': 200, 'learning_rate': 0.1, 'min_impurity_decrease': 0.1}\n",
      "time:  132.502593\n",
      "0 0.7091610414657666 0.9629397707810099 0.726027397260274 0.9651029748283753 0.6981132075471698 0.9631728045325779 0.6065573770491803 0.951048951048951 0.6491228070175438 0.9570724841660803 GradientBoostingClassifier {'max_depth': 3, 'loss': 'log_loss', 'n_estimators': 200, 'learning_rate': 0.1, 'min_impurity_decrease': 0.1}\n",
      "Regression:  False\n",
      "gb\n",
      "{'max_depth': 7, 'loss': 'exponential', 'n_estimators': 10, 'learning_rate': 1.0, 'min_impurity_decrease': 0.2}\n",
      "time:  15.20678\n",
      "0 0.6704275152684024 0.9726216668133416 0.6872146118721462 0.9742562929061785 0.6419753086419753 0.9731638418079096 0.5683060109289617 0.9636363636363636 0.6028985507246376 0.9683766690091357 GradientBoostingClassifier {'max_depth': 7, 'loss': 'exponential', 'n_estimators': 10, 'learning_rate': 1.0, 'min_impurity_decrease': 0.2}\n",
      "Regression:  False\n",
      "gb\n",
      "{'max_depth': 3, 'loss': 'log_loss', 'n_estimators': 200, 'learning_rate': 0.1, 'min_impurity_decrease': 0.2}\n",
      "time:  132.668996\n",
      "0 0.7006107360977176 0.9624557436754919 0.7214611872146118 0.9645308924485125 0.7046979865771812 0.9618104667609618 0.5737704918032787 0.951048951048951 0.6325301204819277 0.9563994374120957 GradientBoostingClassifier {'max_depth': 3, 'loss': 'log_loss', 'n_estimators': 200, 'learning_rate': 0.1, 'min_impurity_decrease': 0.2}\n",
      "Regression:  False\n",
      "gb\n",
      "{'max_depth': 5, 'loss': 'log_loss', 'n_estimators': 100, 'learning_rate': 0.1, 'min_impurity_decrease': 0.1}\n",
      "time:  109.320499\n",
      "0 0.7040501446480233 0.9834334107325394 0.7191780821917808 0.9839816933638444 0.6829268292682927 0.9804195804195804 0.6120218579234973 0.9804195804195804 0.6455331412103748 0.9804195804195804 GradientBoostingClassifier {'max_depth': 5, 'loss': 'log_loss', 'n_estimators': 100, 'learning_rate': 0.1, 'min_impurity_decrease': 0.1}\n",
      "Regression:  False\n",
      "gb\n",
      "{'max_depth': 7, 'loss': 'log_loss', 'n_estimators': 200, 'learning_rate': 0.1, 'min_impurity_decrease': 0.1}\n",
      "time:  108.774336\n",
      "0 0.6978142076502732 0.9846167385373581 0.7146118721461188 0.9851258581235698 0.68125 0.9818181818181818 0.5956284153005464 0.9818181818181818 0.6355685131195337 0.9818181818181818 GradientBoostingClassifier {'max_depth': 7, 'loss': 'log_loss', 'n_estimators': 200, 'learning_rate': 0.1, 'min_impurity_decrease': 0.1}\n",
      "Regression:  False\n",
      "gb\n",
      "{'max_depth': 5, 'loss': 'log_loss', 'n_estimators': 100, 'learning_rate': 0.1, 'min_impurity_decrease': 0.2}\n",
      "time:  91.084173\n",
      "0 0.6927675988428158 0.9763869238215802 0.7123287671232876 0.9776887871853547 0.6862745098039216 0.976056338028169 0.5737704918032787 0.9692307692307692 0.625 0.9726315789473685 GradientBoostingClassifier {'max_depth': 5, 'loss': 'log_loss', 'n_estimators': 100, 'learning_rate': 0.1, 'min_impurity_decrease': 0.2}\n",
      "Regression:  False\n",
      "gb\n",
      "{'max_depth': 5, 'loss': 'log_loss', 'n_estimators': 200, 'learning_rate': 0.1, 'min_impurity_decrease': 0.2}\n",
      "time:  113.378258\n",
      "0 0.6927675988428158 0.9763869238215802 0.7123287671232876 0.9776887871853547 0.6862745098039216 0.976056338028169 0.5737704918032787 0.9692307692307692 0.625 0.9726315789473685 GradientBoostingClassifier {'max_depth': 5, 'loss': 'log_loss', 'n_estimators': 200, 'learning_rate': 0.1, 'min_impurity_decrease': 0.2}\n",
      "Regression:  False\n",
      "gb\n",
      "{'max_depth': 3, 'loss': 'log_loss', 'n_estimators': 100, 'learning_rate': 0.5, 'min_impurity_decrease': 0.1}\n",
      "time:  58.217506\n",
      "0 0.6692381870781099 0.9838639579201051 0.684931506849315 0.9839816933638444 0.6363636363636364 0.9777468706536857 0.5737704918032787 0.9832167832167832 0.6034482758620691 0.9804741980474198 GradientBoostingClassifier {'max_depth': 3, 'loss': 'log_loss', 'n_estimators': 100, 'learning_rate': 0.5, 'min_impurity_decrease': 0.1}\n",
      "Regression:  False\n",
      "gb\n",
      "{'max_depth': 3, 'loss': 'log_loss', 'n_estimators': 200, 'learning_rate': 0.5, 'min_impurity_decrease': 0.1}\n",
      "time:  80.394835\n",
      "0 0.6692381870781099 0.9838639579201051 0.684931506849315 0.9839816933638444 0.6363636363636364 0.9777468706536857 0.5737704918032787 0.9832167832167832 0.6034482758620691 0.9804741980474198 GradientBoostingClassifier {'max_depth': 3, 'loss': 'log_loss', 'n_estimators': 200, 'learning_rate': 0.5, 'min_impurity_decrease': 0.1}\n",
      "Regression:  False\n",
      "gb\n",
      "{'max_depth': 5, 'loss': 'exponential', 'n_estimators': 100, 'learning_rate': 0.1, 'min_impurity_decrease': 0.1}\n",
      "time:  109.599486\n",
      "0 0.6970427515268403 0.9832181371387567 0.7146118721461188 0.9839816933638444 0.6835443037974683 0.9817671809256662 0.5901639344262295 0.9790209790209791 0.6334310850439883 0.9803921568627452 GradientBoostingClassifier {'max_depth': 5, 'loss': 'exponential', 'n_estimators': 100, 'learning_rate': 0.1, 'min_impurity_decrease': 0.1}\n",
      "Regression:  False\n",
      "gb\n",
      "{'max_depth': 7, 'loss': 'log_loss', 'n_estimators': 200, 'learning_rate': 0.01, 'min_impurity_decrease': 0.2}\n",
      "time:  295.545207\n",
      "0 0.6912246865959498 0.975525829446449 0.7123287671232876 0.9776887871853547 0.6912751677852349 0.9814814814814815 0.5628415300546448 0.9636363636363636 0.6204819277108434 0.9724770642201834 GradientBoostingClassifier {'max_depth': 7, 'loss': 'log_loss', 'n_estimators': 200, 'learning_rate': 0.01, 'min_impurity_decrease': 0.2}\n",
      "Regression:  False\n",
      "gb\n",
      "{'max_depth': 3, 'loss': 'exponential', 'n_estimators': 100, 'learning_rate': 0.5, 'min_impurity_decrease': 0}\n",
      "time:  66.54182\n",
      "0 0.7087431693989072 0.9839174378380573 0.723744292237443 0.9845537757437071 0.6890243902439024 0.9817927170868347 0.6174863387978142 0.9804195804195804 0.6512968299711815 0.9811056682995102 GradientBoostingClassifier {'max_depth': 3, 'loss': 'exponential', 'n_estimators': 100, 'learning_rate': 0.5, 'min_impurity_decrease': 0}\n",
      "Regression:  False\n",
      "nn\n",
      "{'hidden_layer_sizes': (100,), 'activation': 'relu', 'alpha': 0.01, 'max_iter': 200, 'solver': 'adam'}\n",
      "time:  7.655662\n",
      "0 0.7040501446480233 0.8102356501194836 0.7191780821917808 0.8192219679633868 0.6829268292682927 0.7895500725689405 0.6120218579234973 0.7608391608391608 0.6455331412103748 0.7749287749287749 MLPClassifier {'hidden_layer_sizes': (100,), 'activation': 'relu', 'alpha': 0.01, 'max_iter': 200, 'solver': 'adam'}\n",
      "Regression:  False\n",
      "nn\n",
      "{'hidden_layer_sizes': (100,), 'activation': 'tanh', 'alpha': 0.01, 'max_iter': 500, 'solver': 'adam'}\n",
      "time:  4.051642\n",
      "0 0.656669881067181 0.7308856680589498 0.6963470319634704 0.7648741418764302 0.7450980392156863 0.820675105485232 0.41530054644808745 0.544055944055944 0.5333333333333333 0.6543313708999159 MLPClassifier {'hidden_layer_sizes': (100,), 'activation': 'tanh', 'alpha': 0.01, 'max_iter': 500, 'solver': 'adam'}\n",
      "Regression:  False\n",
      "nn\n",
      "{'hidden_layer_sizes': (100,), 'activation': 'relu', 'alpha': 0.01, 'max_iter': 1000, 'solver': 'adam'}\n",
      "time:  7.635279\n",
      "0 0.7040501446480233 0.8102356501194836 0.7191780821917808 0.8192219679633868 0.6829268292682927 0.7895500725689405 0.6120218579234973 0.7608391608391608 0.6455331412103748 0.7749287749287749 MLPClassifier {'hidden_layer_sizes': (100,), 'activation': 'relu', 'alpha': 0.01, 'max_iter': 1000, 'solver': 'adam'}\n",
      "Regression:  False\n",
      "nn\n",
      "{'hidden_layer_sizes': (100,), 'activation': 'relu', 'alpha': 0.01, 'max_iter': 500, 'solver': 'adam'}\n",
      "time:  7.680526\n",
      "0 0.7040501446480233 0.8102356501194836 0.7191780821917808 0.8192219679633868 0.6829268292682927 0.7895500725689405 0.6120218579234973 0.7608391608391608 0.6455331412103748 0.7749287749287749 MLPClassifier {'hidden_layer_sizes': (100,), 'activation': 'relu', 'alpha': 0.01, 'max_iter': 500, 'solver': 'adam'}\n",
      "Regression:  False\n",
      "nn\n",
      "{'hidden_layer_sizes': (100,), 'activation': 'relu', 'alpha': 0.001, 'max_iter': 200, 'solver': 'adam'}\n",
      "time:  7.775057\n",
      "0 0.7144326583092253 0.8118014608818095 0.7168949771689498 0.8106407322654462 0.649746192893401 0.7442748091603053 0.6994535519125683 0.8181818181818182 0.6736842105263158 0.7794803464357094 MLPClassifier {'hidden_layer_sizes': (100,), 'activation': 'relu', 'alpha': 0.001, 'max_iter': 200, 'solver': 'adam'}\n",
      "Regression:  False\n",
      "nn\n",
      "{'hidden_layer_sizes': (100,), 'activation': 'tanh', 'alpha': 0.001, 'max_iter': 500, 'solver': 'adam'}\n",
      "time:  4.00104\n",
      "0 0.6594021215043395 0.7300245736838186 0.6986301369863014 0.7648741418764302 0.7475728155339806 0.8261802575107297 0.4207650273224044 0.5384615384615384 0.5384615384615385 0.6519898391193903 MLPClassifier {'hidden_layer_sizes': (100,), 'activation': 'tanh', 'alpha': 0.001, 'max_iter': 500, 'solver': 'adam'}\n",
      "Regression:  False\n",
      "nn\n",
      "{'hidden_layer_sizes': (50,), 'activation': 'relu', 'alpha': 0.01, 'max_iter': 200, 'solver': 'adam'}\n",
      "time:  3.803361\n",
      "0 0.6636129861780778 0.7312119632545576 0.6963470319634704 0.7591533180778032 0.7083333333333334 0.7763157894736842 0.4644808743169399 0.5776223776223777 0.5610561056105611 0.6623897353648758 MLPClassifier {'hidden_layer_sizes': (50,), 'activation': 'relu', 'alpha': 0.01, 'max_iter': 200, 'solver': 'adam'}\n",
      "Regression:  False\n",
      "nn\n",
      "{'hidden_layer_sizes': (50, 50), 'activation': 'relu', 'alpha': 0.001, 'max_iter': 200, 'solver': 'adam'}\n",
      "time:  4.81375\n",
      "0 0.6745419479267116 0.7784394695333708 0.7054794520547946 0.801487414187643 0.717741935483871 0.8262411347517731 0.48633879781420764 0.6517482517482518 0.5798045602605865 0.72869429241595 MLPClassifier {'hidden_layer_sizes': (50, 50), 'activation': 'relu', 'alpha': 0.001, 'max_iter': 200, 'solver': 'adam'}\n",
      "Regression:  False\n",
      "nn\n",
      "{'hidden_layer_sizes': (50,), 'activation': 'relu', 'alpha': 0.0001, 'max_iter': 200, 'solver': 'lbfgs'}\n"
     ]
    },
    {
     "name": "stderr",
     "output_type": "stream",
     "text": [
      "lbfgs failed to converge (status=1):\n",
      "STOP: TOTAL NO. of ITERATIONS REACHED LIMIT.\n",
      "\n",
      "Increase the number of iterations (max_iter) or scale the data as shown in:\n",
      "    https://scikit-learn.org/stable/modules/preprocessing.html\n"
     ]
    },
    {
     "name": "stdout",
     "output_type": "stream",
     "text": [
      "time:  3.688211\n",
      "0 0.7009000321440051 0.8264800059572567 0.7146118721461188 0.834096109839817 0.6726190476190477 0.8048780487804879 0.6174863387978142 0.7846153846153846 0.6438746438746439 0.7946175637393768 MLPClassifier {'hidden_layer_sizes': (50,), 'activation': 'relu', 'alpha': 0.0001, 'max_iter': 200, 'solver': 'lbfgs'}\n",
      "Regression:  False\n",
      "nn\n",
      "{'hidden_layer_sizes': (100,), 'activation': 'tanh', 'alpha': 0.001, 'max_iter': 200, 'solver': 'adam'}\n",
      "time:  5.490371\n",
      "0 0.6594021215043395 0.7300245736838186 0.6986301369863014 0.7648741418764302 0.7475728155339806 0.8261802575107297 0.4207650273224044 0.5384615384615384 0.5384615384615385 0.6519898391193903 MLPClassifier {'hidden_layer_sizes': (100,), 'activation': 'tanh', 'alpha': 0.001, 'max_iter': 200, 'solver': 'adam'}\n",
      "Regression:  False\n",
      "nn\n",
      "{'hidden_layer_sizes': (100,), 'activation': 'tanh', 'alpha': 0.0001, 'max_iter': 1000, 'solver': 'adam'}\n",
      "time:  5.437514\n",
      "0 0.6594021215043395 0.729325272984518 0.6986301369863014 0.7643020594965675 0.7475728155339806 0.8258064516129032 0.4207650273224044 0.5370629370629371 0.5384615384615385 0.6508474576271186 MLPClassifier {'hidden_layer_sizes': (100,), 'activation': 'tanh', 'alpha': 0.0001, 'max_iter': 1000, 'solver': 'adam'}\n",
      "Regression:  False\n",
      "rf\n",
      "{'max_depth': None, 'min_samples_split': 10, 'min_samples_leaf': 2, 'min_impurity_decrease': 0, 'n_estimators': 100}\n",
      "time:  4.285642\n",
      "0 0.6919961427193828 0.9693939168285731 0.7123287671232876 0.9719679633867276 0.6887417218543046 0.9757142857142858 0.5683060109289617 0.9552447552447553 0.622754491017964 0.9653710247349824 RandomForestClassifier {'max_depth': None, 'min_samples_split': 10, 'min_samples_leaf': 2, 'min_impurity_decrease': 0, 'n_estimators': 100}\n",
      "Regression:  False\n",
      "rf\n",
      "{'max_depth': None, 'min_samples_split': 10, 'min_samples_leaf': 1, 'min_impurity_decrease': 0, 'n_estimators': 10}\n",
      "time:  0.52246\n",
      "0 0.6587270973963356 0.949222510306731 0.678082191780822 0.954233409610984 0.6346153846153846 0.9648609077598829 0.5409836065573771 0.9216783216783216 0.5840707964601771 0.9427753934191703 RandomForestClassifier {'max_depth': None, 'min_samples_split': 10, 'min_samples_leaf': 1, 'min_impurity_decrease': 0, 'n_estimators': 10}\n",
      "Regression:  False\n",
      "sv\n",
      "{'C': 10, 'kernel': 'poly', 'gamma': 0.05}\n",
      "time:  1.169684\n",
      "0 0.6856316297010607 0.9839174378380573 0.6986301369863014 0.9845537757437071 0.6491228070175439 0.9817927170868347 0.6065573770491803 0.9804195804195804 0.6271186440677966 0.9811056682995102 SVC {'C': 10, 'kernel': 'poly', 'gamma': 0.05}\n",
      "Regression:  False\n",
      "sv\n",
      "{'C': 1, 'kernel': 'poly', 'gamma': 0.05}\n",
      "time:  0.934405\n",
      "0 0.6962070073931211 0.9601425679838071 0.7100456621004566 0.9628146453089245 0.6666666666666666 0.9629629629629629 0.6120218579234973 0.9454545454545454 0.6381766381766381 0.9541284403669724 SVC {'C': 1, 'kernel': 'poly', 'gamma': 0.05}\n",
      "Regression:  False\n",
      "xg\n",
      "{'max_depth': 5, 'eta': 0.1, 'gamma': 0.01}\n",
      "time:  5.328916\n",
      "0 0.7087431693989072 0.9801521808298188 0.723744292237443 0.9811212814645309 0.6890243902439024 0.9789325842696629 0.6174863387978142 0.9748251748251748 0.6512968299711815 0.9768745620182201 XGBClassifier {'max_depth': 5, 'eta': 0.1, 'gamma': 0.01}\n",
      "Regression:  False\n",
      "xg\n",
      "{'max_depth': 5, 'eta': 0.1, 'gamma': 0}\n",
      "time:  5.328042\n",
      "0 0.6985856637737062 0.981766055822203 0.7146118721461188 0.9822654462242563 0.6790123456790124 0.9776536312849162 0.6010928961748634 0.9790209790209791 0.6376811594202898 0.9783368273934312 XGBClassifier {'max_depth': 5, 'eta': 0.1, 'gamma': 0}\n",
      "Regression:  False\n",
      "xg\n",
      "{'max_depth': None, 'eta': 0.2, 'gamma': 0.01}\n",
      "time:  6.979406\n",
      "0 0.7118932819029251 0.9846167385373581 0.728310502283105 0.9851258581235698 0.7 0.9818181818181818 0.6120218579234973 0.9818181818181818 0.6530612244897959 0.9818181818181818 XGBClassifier {'max_depth': None, 'eta': 0.2, 'gamma': 0.01}\n",
      "Regression:  False\n",
      "xg\n",
      "{'max_depth': 5, 'eta': 0.2, 'gamma': 0.01}\n",
      "time:  5.299645\n",
      "0 0.7130826100932176 0.9841861913497926 0.730593607305936 0.9851258581235698 0.7070063694267515 0.9845288326300985 0.6065573770491803 0.9790209790209791 0.6529411764705881 0.9817671809256663 XGBClassifier {'max_depth': 5, 'eta': 0.2, 'gamma': 0.01}\n",
      "Regression:  False\n",
      "xg\n",
      "{'max_depth': None, 'eta': 0.2, 'gamma': 0}\n",
      "time:  7.103676\n",
      "0 0.721279331404693 0.9846167385373581 0.7374429223744292 0.9851258581235698 0.7125 0.9818181818181818 0.6229508196721312 0.9818181818181818 0.6647230320699709 0.9818181818181818 XGBClassifier {'max_depth': None, 'eta': 0.2, 'gamma': 0}\n",
      "Regression:  False\n",
      "xg\n",
      "{'max_depth': 5, 'eta': 0.2, 'gamma': 0.1}\n",
      "time:  5.122925\n",
      "0 0.7013179042108647 0.9846167385373581 0.7168949771689498 0.9851258581235698 0.6809815950920245 0.9818181818181818 0.6065573770491803 0.9818181818181818 0.6416184971098265 0.9818181818181818 XGBClassifier {'max_depth': 5, 'eta': 0.2, 'gamma': 0.1}\n",
      "Regression:  False\n",
      "xg\n",
      "{'max_depth': 7, 'eta': 0.2, 'gamma': 0.01}\n",
      "time:  8.925835\n",
      "0 0.7040501446480233 0.9848320121311408 0.7191780821917808 0.9851258581235698 0.6829268292682927 0.9804741980474198 0.6120218579234973 0.9832167832167832 0.6455331412103748 0.9818435754189944 XGBClassifier {'max_depth': 7, 'eta': 0.2, 'gamma': 0.01}\n",
      "Regression:  False\n",
      "xg\n",
      "{'max_depth': 7, 'eta': 0.1, 'gamma': 0}\n",
      "time:  10.248355\n",
      "0 0.7032786885245902 0.9848320121311408 0.7191780821917808 0.9851258581235698 0.6851851851851852 0.9804741980474198 0.6065573770491803 0.9832167832167832 0.6434782608695653 0.9818435754189944 XGBClassifier {'max_depth': 7, 'eta': 0.1, 'gamma': 0}\n",
      "Regression:  False\n",
      "xg\n",
      "{'max_depth': None, 'eta': 0.2, 'gamma': 0.1}\n",
      "time:  6.978592\n",
      "0 0.6978142076502732 0.9844014649435753 0.7146118721461188 0.9851258581235698 0.68125 0.9831697054698457 0.5956284153005464 0.9804195804195804 0.6355685131195337 0.9817927170868348 XGBClassifier {'max_depth': None, 'eta': 0.2, 'gamma': 0.1}\n",
      "Regression:  False\n",
      "xg\n",
      "{'max_depth': None, 'eta': 0.1, 'gamma': 0.01}\n",
      "time:  7.337211\n",
      "0 0.6990035358405657 0.9837021642442747 0.7168949771689498 0.9845537757437071 0.6878980891719745 0.9831460674157303 0.5901639344262295 0.9790209790209791 0.6352941176470588 0.9810791871058164 XGBClassifier {'max_depth': None, 'eta': 0.1, 'gamma': 0.01}\n",
      "Regression:  False\n",
      "xg\n",
      "{'max_depth': 7, 'eta': 0.1, 'gamma': 0.01}\n",
      "time:  9.755368\n",
      "0 0.6915782706525233 0.9848320121311408 0.7100456621004566 0.9851258581235698 0.6794871794871795 0.9804741980474198 0.5792349726775956 0.9832167832167832 0.6253687315634219 0.9818435754189944 XGBClassifier {'max_depth': 7, 'eta': 0.1, 'gamma': 0.01}\n",
      "Regression:  False\n",
      "xg\n",
      "{'max_depth': None, 'eta': 0.1, 'gamma': 0}\n",
      "time:  7.507121\n",
      "0 0.7029251044680167 0.9834334107325394 0.7214611872146118 0.9839816933638444 0.6967741935483871 0.9804195804195804 0.5901639344262295 0.9804195804195804 0.6390532544378699 0.9804195804195804 XGBClassifier {'max_depth': None, 'eta': 0.1, 'gamma': 0}\n",
      "Regression:  False\n",
      "xg\n",
      "{'max_depth': 5, 'eta': 0.1, 'gamma': 0.1}\n",
      "time:  5.218494\n",
      "0 0.7017357762777242 0.9792376065367353 0.7191780821917808 0.9805491990846682 0.689873417721519 0.9802538787023978 0.5956284153005464 0.972027972027972 0.6392961876832844 0.9761235955056179 XGBClassifier {'max_depth': 5, 'eta': 0.1, 'gamma': 0.1}\n",
      "Regression:  False\n",
      "xg\n",
      "{'max_depth': None, 'eta': 0.1, 'gamma': 0.1}\n",
      "time:  7.643248\n",
      "0 0.6978142076502732 0.9839174378380573 0.7146118721461188 0.9845537757437071 0.68125 0.9817927170868347 0.5956284153005464 0.9804195804195804 0.6355685131195337 0.9811056682995102 XGBClassifier {'max_depth': None, 'eta': 0.1, 'gamma': 0.1}\n"
     ]
    },
    {
     "name": "stderr",
     "output_type": "stream",
     "text": [
      "\n",
      "A value is trying to be set on a copy of a slice from a DataFrame\n",
      "\n",
      "See the caveats in the documentation: https://pandas.pydata.org/pandas-docs/stable/user_guide/indexing.html#returning-a-view-versus-a-copy\n",
      "100%|██████████| 2186/2186 [06:55<00:00,  5.26it/s]\n"
     ]
    },
    {
     "name": "stdout",
     "output_type": "stream",
     "text": [
      "Regression:  False\n",
      "dt\n",
      "{'max_depth': 10, 'min_samples_split': 2, 'min_samples_leaf': 4, 'min_impurity_decrease': 0, 'criterion': 'gini', 'splitter': 'best'}\n",
      "time:  1.792596\n",
      "0 0.6679202828672453 0.897210920734638 0.6735159817351598 0.9021739130434783 0.6041666666666666 0.8885714285714286 0.6338797814207651 0.8699300699300699 0.6186666666666666 0.8791519434628974 DecisionTreeClassifier {'max_depth': 10, 'min_samples_split': 2, 'min_samples_leaf': 4, 'min_impurity_decrease': 0, 'criterion': 'gini', 'splitter': 'best'}\n",
      "Regression:  False\n",
      "dt\n",
      "{'max_depth': 20, 'min_samples_split': 5, 'min_samples_leaf': 4, 'min_impurity_decrease': 0, 'criterion': 'gini', 'splitter': 'random'}\n",
      "time:  0.225861\n",
      "0 0.65200900032144 0.8806951035411829 0.6666666666666666 0.8913043478260869 0.6094674556213018 0.9032258064516129 0.5628415300546448 0.8223776223776224 0.5852272727272727 0.8609077598828696 DecisionTreeClassifier {'max_depth': 20, 'min_samples_split': 5, 'min_samples_leaf': 4, 'min_impurity_decrease': 0, 'criterion': 'gini', 'splitter': 'random'}\n",
      "Regression:  False\n",
      "gb\n",
      "{'max_depth': 5, 'loss': 'log_loss', 'n_estimators': 200, 'learning_rate': 0.1, 'min_impurity_decrease': 0.1}\n",
      "time:  140.225047\n",
      "0 0.7067823850851817 0.9839174378380573 0.7214611872146118 0.9845537757437071 0.6848484848484848 0.9817927170868347 0.6174863387978142 0.9804195804195804 0.6494252873563218 0.9811056682995102 GradientBoostingClassifier {'max_depth': 5, 'loss': 'log_loss', 'n_estimators': 200, 'learning_rate': 0.1, 'min_impurity_decrease': 0.1}\n",
      "Regression:  False\n",
      "gb\n",
      "{'max_depth': 3, 'loss': 'log_loss', 'n_estimators': 200, 'learning_rate': 0.1, 'min_impurity_decrease': 0}\n",
      "time:  132.78461\n",
      "0 0.7025072324011572 0.9664362742775133 0.7191780821917808 0.9679633867276888 0.6875 0.9634317862165963 0.6010928961748634 0.958041958041958 0.641399416909621 0.9607293127629734 GradientBoostingClassifier {'max_depth': 3, 'loss': 'log_loss', 'n_estimators': 200, 'learning_rate': 0.1, 'min_impurity_decrease': 0}\n",
      "Regression:  False\n",
      "gb\n",
      "{'max_depth': 7, 'loss': 'exponential', 'n_estimators': 100, 'learning_rate': 1.0, 'min_impurity_decrease': 0.2}\n",
      "time:  47.890036\n",
      "0 0.6719704275152684 0.9839709177560096 0.6872146118721462 0.9851258581235698 0.6385542168674698 0.9858956276445698 0.5792349726775956 0.9776223776223776 0.6074498567335244 0.9817415730337078 GradientBoostingClassifier {'max_depth': 7, 'loss': 'exponential', 'n_estimators': 100, 'learning_rate': 1.0, 'min_impurity_decrease': 0.2}\n",
      "Regression:  False\n",
      "gb\n",
      "{'max_depth': 7, 'loss': 'log_loss', 'n_estimators': 200, 'learning_rate': 0.1, 'min_impurity_decrease': 0.1}\n",
      "time:  108.795986\n",
      "0 0.6978142076502732 0.9846167385373581 0.7146118721461188 0.9851258581235698 0.68125 0.9818181818181818 0.5956284153005464 0.9818181818181818 0.6355685131195337 0.9818181818181818 GradientBoostingClassifier {'max_depth': 7, 'loss': 'log_loss', 'n_estimators': 200, 'learning_rate': 0.1, 'min_impurity_decrease': 0.1}\n",
      "Regression:  False\n",
      "gb\n",
      "{'max_depth': 7, 'loss': 'log_loss', 'n_estimators': 100, 'learning_rate': 0.1, 'min_impurity_decrease': 0.1}\n",
      "time:  86.516208\n",
      "0 0.6978142076502732 0.9846167385373581 0.7146118721461188 0.9851258581235698 0.68125 0.9818181818181818 0.5956284153005464 0.9818181818181818 0.6355685131195337 0.9818181818181818 GradientBoostingClassifier {'max_depth': 7, 'loss': 'log_loss', 'n_estimators': 100, 'learning_rate': 0.1, 'min_impurity_decrease': 0.1}\n",
      "Regression:  False\n",
      "gb\n",
      "{'max_depth': 3, 'loss': 'log_loss', 'n_estimators': 200, 'learning_rate': 0.1, 'min_impurity_decrease': 0.2}\n",
      "time:  132.74299\n",
      "0 0.7006107360977176 0.9624557436754919 0.7214611872146118 0.9645308924485125 0.7046979865771812 0.9618104667609618 0.5737704918032787 0.951048951048951 0.6325301204819277 0.9563994374120957 GradientBoostingClassifier {'max_depth': 3, 'loss': 'log_loss', 'n_estimators': 200, 'learning_rate': 0.1, 'min_impurity_decrease': 0.2}\n",
      "Regression:  False\n",
      "gb\n",
      "{'max_depth': 5, 'loss': 'log_loss', 'n_estimators': 100, 'learning_rate': 0.1, 'min_impurity_decrease': 0.1}\n",
      "time:  109.235433\n",
      "0 0.7040501446480233 0.9834334107325394 0.7191780821917808 0.9839816933638444 0.6829268292682927 0.9804195804195804 0.6120218579234973 0.9804195804195804 0.6455331412103748 0.9804195804195804 GradientBoostingClassifier {'max_depth': 5, 'loss': 'log_loss', 'n_estimators': 100, 'learning_rate': 0.1, 'min_impurity_decrease': 0.1}\n",
      "Regression:  False\n",
      "gb\n",
      "{'max_depth': 7, 'loss': 'exponential', 'n_estimators': 100, 'learning_rate': 0.1, 'min_impurity_decrease': 0}\n",
      "time:  151.407312\n",
      "0 0.7032786885245902 0.9844014649435753 0.7191780821917808 0.9851258581235698 0.6851851851851852 0.9831697054698457 0.6065573770491803 0.9804195804195804 0.6434782608695653 0.9817927170868348 GradientBoostingClassifier {'max_depth': 7, 'loss': 'exponential', 'n_estimators': 100, 'learning_rate': 0.1, 'min_impurity_decrease': 0}\n",
      "Regression:  False\n",
      "gb\n",
      "{'max_depth': 3, 'loss': 'log_loss', 'n_estimators': 200, 'learning_rate': 0.5, 'min_impurity_decrease': 0.1}\n",
      "time:  80.35454\n",
      "0 0.6692381870781099 0.9838639579201051 0.684931506849315 0.9839816933638444 0.6363636363636364 0.9777468706536857 0.5737704918032787 0.9832167832167832 0.6034482758620691 0.9804741980474198 GradientBoostingClassifier {'max_depth': 3, 'loss': 'log_loss', 'n_estimators': 200, 'learning_rate': 0.5, 'min_impurity_decrease': 0.1}\n",
      "Regression:  False\n",
      "gb\n",
      "{'max_depth': 3, 'loss': 'log_loss', 'n_estimators': 100, 'learning_rate': 0.5, 'min_impurity_decrease': 0.1}\n",
      "time:  58.069118\n",
      "0 0.6692381870781099 0.9838639579201051 0.684931506849315 0.9839816933638444 0.6363636363636364 0.9777468706536857 0.5737704918032787 0.9832167832167832 0.6034482758620691 0.9804741980474198 GradientBoostingClassifier {'max_depth': 3, 'loss': 'log_loss', 'n_estimators': 100, 'learning_rate': 0.5, 'min_impurity_decrease': 0.1}\n",
      "Regression:  False\n",
      "gb\n",
      "{'max_depth': 5, 'loss': 'exponential', 'n_estimators': 200, 'learning_rate': 0.5, 'min_impurity_decrease': 0}\n",
      "time:  219.989243\n",
      "0 0.7013179042108647 0.9841861913497926 0.7168949771689498 0.9851258581235698 0.6809815950920245 0.9845288326300985 0.6065573770491803 0.9790209790209791 0.6416184971098265 0.9817671809256663 GradientBoostingClassifier {'max_depth': 5, 'loss': 'exponential', 'n_estimators': 200, 'learning_rate': 0.5, 'min_impurity_decrease': 0}\n",
      "Regression:  False\n",
      "gb\n",
      "{'max_depth': 7, 'loss': 'exponential', 'n_estimators': 200, 'learning_rate': 0.5, 'min_impurity_decrease': 0.2}\n",
      "time:  72.031214\n",
      "0 0.6954998392799743 0.9844014649435753 0.7146118721461188 0.9851258581235698 0.6883116883116883 0.9831697054698457 0.5792349726775956 0.9804195804195804 0.6290801186943619 0.9817927170868348 GradientBoostingClassifier {'max_depth': 7, 'loss': 'exponential', 'n_estimators': 200, 'learning_rate': 0.5, 'min_impurity_decrease': 0.2}\n",
      "Regression:  False\n",
      "gb\n",
      "{'max_depth': 7, 'loss': 'log_loss', 'n_estimators': 200, 'learning_rate': 0.1, 'min_impurity_decrease': 0.2}\n",
      "time:  90.506988\n",
      "0 0.6915782706525233 0.9836486843263224 0.7100456621004566 0.9839816933638444 0.6794871794871795 0.9790794979079498 0.5792349726775956 0.9818181818181818 0.6253687315634219 0.9804469273743017 GradientBoostingClassifier {'max_depth': 7, 'loss': 'log_loss', 'n_estimators': 200, 'learning_rate': 0.1, 'min_impurity_decrease': 0.2}\n",
      "Regression:  False\n",
      "gb\n",
      "{'max_depth': 5, 'loss': 'exponential', 'n_estimators': 200, 'learning_rate': 1.0, 'min_impurity_decrease': 0}\n",
      "time:  220.587617\n",
      "0 0.7095146255223401 0.9841861913497926 0.723744292237443 0.9851258581235698 0.6867469879518072 0.9845288326300985 0.6229508196721312 0.9790209790209791 0.6532951289398281 0.9817671809256663 GradientBoostingClassifier {'max_depth': 5, 'loss': 'exponential', 'n_estimators': 200, 'learning_rate': 1.0, 'min_impurity_decrease': 0}\n",
      "Regression:  False\n",
      "gb\n",
      "{'max_depth': 3, 'loss': 'log_loss', 'n_estimators': 200, 'learning_rate': 0.1, 'min_impurity_decrease': 0.1}\n",
      "time:  132.597772\n",
      "0 0.7091610414657666 0.9629397707810099 0.726027397260274 0.9651029748283753 0.6981132075471698 0.9631728045325779 0.6065573770491803 0.951048951048951 0.6491228070175438 0.9570724841660803 GradientBoostingClassifier {'max_depth': 3, 'loss': 'log_loss', 'n_estimators': 200, 'learning_rate': 0.1, 'min_impurity_decrease': 0.1}\n",
      "Regression:  False\n",
      "gb\n",
      "{'max_depth': 7, 'loss': 'exponential', 'n_estimators': 200, 'learning_rate': 0.1, 'min_impurity_decrease': 0.1}\n",
      "time:  156.95546\n",
      "0 0.6947283831565413 0.9852625593187064 0.7146118721461188 0.9851258581235698 0.6907894736842105 0.9778085991678225 0.5737704918032787 0.986013986013986 0.626865671641791 0.9818941504178273 GradientBoostingClassifier {'max_depth': 7, 'loss': 'exponential', 'n_estimators': 200, 'learning_rate': 0.1, 'min_impurity_decrease': 0.1}\n",
      "Regression:  False\n",
      "lr\n",
      "{'C': 1, 'penalty': 'l1', 'solver': 'saga'}\n"
     ]
    },
    {
     "name": "stderr",
     "output_type": "stream",
     "text": [
      "The max_iter was reached which means the coef_ did not converge\n"
     ]
    },
    {
     "name": "stdout",
     "output_type": "stream",
     "text": [
      "time:  1.991493\n",
      "0 0.6506589521054323 0.7020606692436315 0.680365296803653 0.7282608695652174 0.6666666666666666 0.7150537634408602 0.46994535519125685 0.558041958041958 0.5512820512820513 0.6268656716417911 LogisticRegression {'C': 1, 'penalty': 'l1', 'solver': 'saga'}\n",
      "Regression:  False\n",
      "nn\n",
      "{'hidden_layer_sizes': (50,), 'activation': 'tanh', 'alpha': 0.01, 'max_iter': 1000, 'solver': 'sgd'}\n",
      "time:  19.103025\n",
      "0 0.6459659273545484 0.7147550416669488 0.6757990867579908 0.7397025171624714 0.6589147286821705 0.7296819787985865 0.4644808743169399 0.5776223776223777 0.5448717948717949 0.644808743169399 MLPClassifier {'hidden_layer_sizes': (50,), 'activation': 'tanh', 'alpha': 0.01, 'max_iter': 1000, 'solver': 'sgd'}\n",
      "Regression:  False\n",
      "nn\n",
      "{'hidden_layer_sizes': (100,), 'activation': 'tanh', 'alpha': 0.0001, 'max_iter': 500, 'solver': 'sgd'}\n"
     ]
    },
    {
     "name": "stderr",
     "output_type": "stream",
     "text": [
      "Stochastic Optimizer: Maximum iterations (500) reached and the optimization hasn't converged yet.\n"
     ]
    },
    {
     "name": "stdout",
     "output_type": "stream",
     "text": [
      "time:  18.44355\n",
      "0 0.6331404693024751 0.7025419885052024 0.6689497716894978 0.7334096109839817 0.6666666666666666 0.7426900584795322 0.41530054644808745 0.5328671328671328 0.5117845117845118 0.6205211726384364 MLPClassifier {'hidden_layer_sizes': (100,), 'activation': 'tanh', 'alpha': 0.0001, 'max_iter': 500, 'solver': 'sgd'}\n",
      "Regression:  False\n",
      "nn\n",
      "{'hidden_layer_sizes': (50, 50), 'activation': 'tanh', 'alpha': 0.0001, 'max_iter': 1000, 'solver': 'lbfgs'}\n"
     ]
    },
    {
     "name": "stderr",
     "output_type": "stream",
     "text": [
      "lbfgs failed to converge (status=1):\n",
      "STOP: TOTAL NO. of ITERATIONS REACHED LIMIT.\n",
      "\n",
      "Increase the number of iterations (max_iter) or scale the data as shown in:\n",
      "    https://scikit-learn.org/stable/modules/preprocessing.html\n"
     ]
    },
    {
     "name": "stdout",
     "output_type": "stream",
     "text": [
      "time:  25.25617\n",
      "0 0.7004821600771457 0.9814438223925154 0.7123287671232876 0.9811212814645309 0.6647398843930635 0.9709944751381215 0.6284153005464481 0.9832167832167832 0.6460674157303371 0.9770674079221681 MLPClassifier {'hidden_layer_sizes': (50, 50), 'activation': 'tanh', 'alpha': 0.0001, 'max_iter': 1000, 'solver': 'lbfgs'}\n",
      "Regression:  False\n",
      "nn\n",
      "{'hidden_layer_sizes': (100,), 'activation': 'relu', 'alpha': 0.01, 'max_iter': 1000, 'solver': 'sgd'}\n",
      "time:  30.955487\n",
      "0 0.6642558662809387 0.7448263256588523 0.6872146118721462 0.7620137299771167 0.6575342465753424 0.7369255150554676 0.5245901639344263 0.6503496503496503 0.5835866261398176 0.6909361069836553 MLPClassifier {'hidden_layer_sizes': (100,), 'activation': 'relu', 'alpha': 0.01, 'max_iter': 1000, 'solver': 'sgd'}\n",
      "Regression:  False\n",
      "nn\n",
      "{'hidden_layer_sizes': (50, 50), 'activation': 'relu', 'alpha': 0.0001, 'max_iter': 200, 'solver': 'lbfgs'}\n"
     ]
    },
    {
     "name": "stderr",
     "output_type": "stream",
     "text": [
      "lbfgs failed to converge (status=1):\n",
      "STOP: TOTAL NO. of ITERATIONS REACHED LIMIT.\n",
      "\n",
      "Increase the number of iterations (max_iter) or scale the data as shown in:\n",
      "    https://scikit-learn.org/stable/modules/preprocessing.html\n"
     ]
    },
    {
     "name": "stdout",
     "output_type": "stream",
     "text": [
      "time:  3.868491\n",
      "0 0.7004821600771457 0.8221237620075954 0.7123287671232876 0.8289473684210527 0.6647398843930635 0.7946175637393768 0.6284153005464481 0.7846153846153846 0.6460674157303371 0.7895847994370162 MLPClassifier {'hidden_layer_sizes': (50, 50), 'activation': 'relu', 'alpha': 0.0001, 'max_iter': 200, 'solver': 'lbfgs'}\n",
      "Regression:  False\n",
      "nn\n",
      "{'hidden_layer_sizes': (50, 50), 'activation': 'logistic', 'alpha': 0.001, 'max_iter': 500, 'solver': 'lbfgs'}\n"
     ]
    },
    {
     "name": "stderr",
     "output_type": "stream",
     "text": [
      "lbfgs failed to converge (status=1):\n",
      "STOP: TOTAL NO. of ITERATIONS REACHED LIMIT.\n",
      "\n",
      "Increase the number of iterations (max_iter) or scale the data as shown in:\n",
      "    https://scikit-learn.org/stable/modules/preprocessing.html\n"
     ]
    },
    {
     "name": "stdout",
     "output_type": "stream",
     "text": [
      "time:  13.918014\n",
      "0 0.7004821600771457 0.9053859016104902 0.7123287671232876 0.9113272311212814 0.6647398843930635 0.9069767441860465 0.6284153005464481 0.8727272727272727 0.6460674157303371 0.8895224518888096 MLPClassifier {'hidden_layer_sizes': (50, 50), 'activation': 'logistic', 'alpha': 0.001, 'max_iter': 500, 'solver': 'lbfgs'}\n",
      "Regression:  False\n",
      "nn\n",
      "{'hidden_layer_sizes': (50,), 'activation': 'tanh', 'alpha': 0.0001, 'max_iter': 1000, 'solver': 'sgd'}\n",
      "time:  23.728316\n",
      "0 0.6459659273545484 0.7152390687724668 0.6757990867579908 0.7402745995423341 0.6589147286821705 0.7309734513274336 0.4644808743169399 0.5776223776223777 0.5448717948717949 0.6453125 MLPClassifier {'hidden_layer_sizes': (50,), 'activation': 'tanh', 'alpha': 0.0001, 'max_iter': 1000, 'solver': 'sgd'}\n",
      "Regression:  False\n",
      "nn\n",
      "{'hidden_layer_sizes': (100,), 'activation': 'logistic', 'alpha': 0.0001, 'max_iter': 200, 'solver': 'lbfgs'}\n"
     ]
    },
    {
     "name": "stderr",
     "output_type": "stream",
     "text": [
      "lbfgs failed to converge (status=1):\n",
      "STOP: TOTAL NO. of ITERATIONS REACHED LIMIT.\n",
      "\n",
      "Increase the number of iterations (max_iter) or scale the data as shown in:\n",
      "    https://scikit-learn.org/stable/modules/preprocessing.html\n"
     ]
    },
    {
     "name": "stdout",
     "output_type": "stream",
     "text": [
      "time:  7.582381\n",
      "0 0.7242365798778527 0.9109830150488428 0.728310502283105 0.9113272311212814 0.6666666666666666 0.8783783783783784 0.6994535519125683 0.9090909090909091 0.6826666666666666 0.8934707903780069 MLPClassifier {'hidden_layer_sizes': (100,), 'activation': 'logistic', 'alpha': 0.0001, 'max_iter': 200, 'solver': 'lbfgs'}\n",
      "Regression:  False\n",
      "nn\n",
      "{'hidden_layer_sizes': (100,), 'activation': 'relu', 'alpha': 0.0001, 'max_iter': 500, 'solver': 'sgd'}\n"
     ]
    },
    {
     "name": "stderr",
     "output_type": "stream",
     "text": [
      "Stochastic Optimizer: Maximum iterations (500) reached and the optimization hasn't converged yet.\n"
     ]
    },
    {
     "name": "stdout",
     "output_type": "stream",
     "text": [
      "time:  22.747087\n",
      "0 0.6460302153648344 0.7063072455134409 0.680365296803653 0.7368421052631579 0.6837606837606838 0.7475728155339806 0.4371584699453552 0.5384615384615384 0.5333333333333333 0.6260162601626016 MLPClassifier {'hidden_layer_sizes': (100,), 'activation': 'relu', 'alpha': 0.0001, 'max_iter': 500, 'solver': 'sgd'}\n",
      "Regression:  False\n",
      "nn\n",
      "{'hidden_layer_sizes': (50, 50), 'activation': 'relu', 'alpha': 0.01, 'max_iter': 500, 'solver': 'sgd'}\n"
     ]
    },
    {
     "name": "stderr",
     "output_type": "stream",
     "text": [
      "Stochastic Optimizer: Maximum iterations (500) reached and the optimization hasn't converged yet.\n"
     ]
    },
    {
     "name": "stdout",
     "output_type": "stream",
     "text": [
      "time:  20.779848\n",
      "0 0.6864673738347797 0.76193312979373 0.7031963470319634 0.7745995423340961 0.6645962732919255 0.7399103139013453 0.5846994535519126 0.6923076923076923 0.622093023255814 0.7153179190751445 MLPClassifier {'hidden_layer_sizes': (50, 50), 'activation': 'relu', 'alpha': 0.01, 'max_iter': 500, 'solver': 'sgd'}\n",
      "Regression:  False\n",
      "nn\n",
      "{'hidden_layer_sizes': (100,), 'activation': 'logistic', 'alpha': 0.01, 'max_iter': 200, 'solver': 'lbfgs'}\n"
     ]
    },
    {
     "name": "stderr",
     "output_type": "stream",
     "text": [
      "lbfgs failed to converge (status=1):\n",
      "STOP: TOTAL NO. of ITERATIONS REACHED LIMIT.\n",
      "\n",
      "Increase the number of iterations (max_iter) or scale the data as shown in:\n",
      "    https://scikit-learn.org/stable/modules/preprocessing.html\n"
     ]
    },
    {
     "name": "stdout",
     "output_type": "stream",
     "text": [
      "time:  7.384444\n",
      "0 0.722757955641273 0.9287850581171007 0.7328767123287672 0.931350114416476 0.6875 0.9172510518934082 0.6612021857923497 0.9146853146853147 0.6740947075208913 0.9159663865546219 MLPClassifier {'hidden_layer_sizes': (100,), 'activation': 'logistic', 'alpha': 0.01, 'max_iter': 200, 'solver': 'lbfgs'}\n",
      "Regression:  False\n",
      "nn\n",
      "{'hidden_layer_sizes': (50,), 'activation': 'logistic', 'alpha': 0.0001, 'max_iter': 1000, 'solver': 'lbfgs'}\n"
     ]
    },
    {
     "name": "stderr",
     "output_type": "stream",
     "text": [
      "lbfgs failed to converge (status=1):\n",
      "STOP: TOTAL NO. of ITERATIONS REACHED LIMIT.\n",
      "\n",
      "Increase the number of iterations (max_iter) or scale the data as shown in:\n",
      "    https://scikit-learn.org/stable/modules/preprocessing.html\n"
     ]
    },
    {
     "name": "stdout",
     "output_type": "stream",
     "text": [
      "time:  21.401557\n",
      "0 0.6882995821279332 0.9398134295520548 0.6963470319634704 0.9387871853546911 0.6358695652173914 0.9086021505376344 0.639344262295082 0.9454545454545454 0.6376021798365124 0.9266620973269363 MLPClassifier {'hidden_layer_sizes': (50,), 'activation': 'logistic', 'alpha': 0.0001, 'max_iter': 1000, 'solver': 'lbfgs'}\n",
      "Regression:  False\n",
      "nn\n",
      "{'hidden_layer_sizes': (100,), 'activation': 'logistic', 'alpha': 0.01, 'max_iter': 1000, 'solver': 'adam'}\n",
      "time:  7.901024\n",
      "0 0.6762455801992928 0.7313311083882236 0.6894977168949772 0.7397025171624714 0.6374269005847953 0.6805555555555556 0.5956284153005464 0.6853146853146853 0.6158192090395481 0.6829268292682927 MLPClassifier {'hidden_layer_sizes': (100,), 'activation': 'logistic', 'alpha': 0.01, 'max_iter': 1000, 'solver': 'adam'}\n",
      "Regression:  False\n",
      "nn\n",
      "{'hidden_layer_sizes': (50, 50), 'activation': 'relu', 'alpha': 0.001, 'max_iter': 500, 'solver': 'sgd'}\n"
     ]
    },
    {
     "name": "stderr",
     "output_type": "stream",
     "text": [
      "Stochastic Optimizer: Maximum iterations (500) reached and the optimization hasn't converged yet.\n"
     ]
    },
    {
     "name": "stdout",
     "output_type": "stream",
     "text": [
      "time:  20.758916\n",
      "0 0.6864673738347797 0.7615025826061644 0.7031963470319634 0.7745995423340961 0.6645962732919255 0.7413533834586467 0.5846994535519126 0.6895104895104895 0.622093023255814 0.7144927536231884 MLPClassifier {'hidden_layer_sizes': (50, 50), 'activation': 'relu', 'alpha': 0.001, 'max_iter': 500, 'solver': 'sgd'}\n",
      "Regression:  False\n",
      "rf\n",
      "{'max_depth': 20, 'min_samples_split': 2, 'min_samples_leaf': 2, 'min_impurity_decrease': 0, 'n_estimators': 50}\n",
      "time:  2.230815\n",
      "0 0.7099324975891996 0.9802056607477712 0.726027397260274 0.9816933638443935 0.6956521739130435 0.983026874115983 0.6120218579234973 0.972027972027972 0.6511627906976744 0.9774964838255977 RandomForestClassifier {'max_depth': 20, 'min_samples_split': 2, 'min_samples_leaf': 2, 'min_impurity_decrease': 0, 'n_estimators': 50}\n",
      "Regression:  False\n",
      "rf\n",
      "{'max_depth': 20, 'min_samples_split': 10, 'min_samples_leaf': 2, 'min_impurity_decrease': 0, 'n_estimators': 50}\n",
      "time:  2.186547\n",
      "0 0.7095789135326261 0.965682139738287 0.728310502283105 0.9691075514874142 0.7077922077922078 0.976911976911977 0.5956284153005464 0.9468531468531468 0.6468842729970326 0.9616477272727273 RandomForestClassifier {'max_depth': 20, 'min_samples_split': 10, 'min_samples_leaf': 2, 'min_impurity_decrease': 0, 'n_estimators': 50}\n",
      "Regression:  False\n",
      "rf\n",
      "{'max_depth': None, 'min_samples_split': 2, 'min_samples_leaf': 1, 'min_impurity_decrease': 0, 'n_estimators': 100}\n",
      "time:  4.84087\n",
      "0 0.6947283831565413 0.9846167385373581 0.7146118721461188 0.9851258581235698 0.6907894736842105 0.9818181818181818 0.5737704918032787 0.9818181818181818 0.626865671641791 0.9818181818181818 RandomForestClassifier {'max_depth': None, 'min_samples_split': 2, 'min_samples_leaf': 1, 'min_impurity_decrease': 0, 'n_estimators': 100}\n",
      "Regression:  False\n",
      "rf\n",
      "{'max_depth': 20, 'min_samples_split': 10, 'min_samples_leaf': 1, 'min_impurity_decrease': 0, 'n_estimators': 100}\n",
      "time:  4.522758\n",
      "0 0.7076181292189007 0.9778390051381339 0.726027397260274 0.9794050343249427 0.7032258064516129 0.9801980198019802 0.5956284153005464 0.9692307692307692 0.6449704142011835 0.9746835443037974 RandomForestClassifier {'max_depth': 20, 'min_samples_split': 10, 'min_samples_leaf': 1, 'min_impurity_decrease': 0, 'n_estimators': 100}\n",
      "Regression:  False\n",
      "rf\n",
      "{'max_depth': 20, 'min_samples_split': 5, 'min_samples_leaf': 4, 'min_impurity_decrease': 0, 'n_estimators': 50}\n",
      "time:  2.041323\n",
      "0 0.6927675988428158 0.9537940278501751 0.7123287671232876 0.9593821510297483 0.6862745098039216 0.9763313609467456 0.5737704918032787 0.9230769230769231 0.625 0.9489575844716032 RandomForestClassifier {'max_depth': 20, 'min_samples_split': 5, 'min_samples_leaf': 4, 'min_impurity_decrease': 0, 'n_estimators': 50}\n",
      "Regression:  False\n",
      "sv\n",
      "{'C': 10, 'kernel': 'poly', 'gamma': 'scale'}\n",
      "time:  0.976398\n",
      "0 0.7235294117647058 0.9229753789289122 0.7328767123287672 0.9267734553775744 0.6853932584269663 0.9174964438122333 0.6666666666666666 0.9020979020979021 0.6759002770083102 0.9097320169252469 SVC {'C': 10, 'kernel': 'poly', 'gamma': 'scale'}\n",
      "Regression:  False\n",
      "xg\n",
      "{'max_depth': 5, 'eta': 0.1, 'gamma': 0.1}\n",
      "time:  5.276766\n",
      "0 0.7017357762777242 0.9792376065367353 0.7191780821917808 0.9805491990846682 0.689873417721519 0.9802538787023978 0.5956284153005464 0.972027972027972 0.6392961876832844 0.9761235955056179 XGBClassifier {'max_depth': 5, 'eta': 0.1, 'gamma': 0.1}\n",
      "Regression:  False\n",
      "xg\n",
      "{'max_depth': 5, 'eta': 0.1, 'gamma': 0}\n",
      "time:  5.329542\n",
      "0 0.6985856637737062 0.981766055822203 0.7146118721461188 0.9822654462242563 0.6790123456790124 0.9776536312849162 0.6010928961748634 0.9790209790209791 0.6376811594202898 0.9783368273934312 XGBClassifier {'max_depth': 5, 'eta': 0.1, 'gamma': 0}\n",
      "Regression:  False\n",
      "xg\n",
      "{'max_depth': 5, 'eta': 0.1, 'gamma': 0.01}\n",
      "time:  5.361258\n",
      "0 0.7087431693989072 0.9801521808298188 0.723744292237443 0.9811212814645309 0.6890243902439024 0.9789325842696629 0.6174863387978142 0.9748251748251748 0.6512968299711815 0.9768745620182201 XGBClassifier {'max_depth': 5, 'eta': 0.1, 'gamma': 0.01}\n",
      "Regression:  False\n",
      "xg\n",
      "{'max_depth': 5, 'eta': 0.2, 'gamma': 0.01}\n",
      "time:  5.2886\n",
      "0 0.7130826100932176 0.9841861913497926 0.730593607305936 0.9851258581235698 0.7070063694267515 0.9845288326300985 0.6065573770491803 0.9790209790209791 0.6529411764705881 0.9817671809256663 XGBClassifier {'max_depth': 5, 'eta': 0.2, 'gamma': 0.01}\n",
      "Regression:  False\n",
      "xg\n",
      "{'max_depth': 5, 'eta': 0.2, 'gamma': 0.1}\n",
      "time:  5.195181\n",
      "0 0.7013179042108647 0.9846167385373581 0.7168949771689498 0.9851258581235698 0.6809815950920245 0.9818181818181818 0.6065573770491803 0.9818181818181818 0.6416184971098265 0.9818181818181818 XGBClassifier {'max_depth': 5, 'eta': 0.2, 'gamma': 0.1}\n",
      "Regression:  False\n",
      "xg\n",
      "{'max_depth': 3, 'eta': 0.2, 'gamma': 0.1}\n",
      "time:  2.650665\n",
      "0 0.7216329154612666 0.9584217331555183 0.7351598173515982 0.9605263157894737 0.7005988023952096 0.9562146892655368 0.639344262295082 0.9468531468531468 0.6685714285714286 0.9515108924806747 XGBClassifier {'max_depth': 3, 'eta': 0.2, 'gamma': 0.1}\n",
      "Regression:  False\n",
      "xg\n",
      "{'max_depth': None, 'eta': 0.1, 'gamma': 0.1}\n",
      "time:  7.660266\n",
      "0 0.6978142076502732 0.9839174378380573 0.7146118721461188 0.9845537757437071 0.68125 0.9817927170868347 0.5956284153005464 0.9804195804195804 0.6355685131195337 0.9811056682995102 XGBClassifier {'max_depth': None, 'eta': 0.1, 'gamma': 0.1}\n",
      "Regression:  False\n",
      "xg\n",
      "{'max_depth': None, 'eta': 0.1, 'gamma': 0}\n",
      "time:  7.50579\n",
      "0 0.7029251044680167 0.9834334107325394 0.7214611872146118 0.9839816933638444 0.6967741935483871 0.9804195804195804 0.5901639344262295 0.9804195804195804 0.6390532544378699 0.9804195804195804 XGBClassifier {'max_depth': None, 'eta': 0.1, 'gamma': 0}\n",
      "Regression:  False\n",
      "xg\n",
      "{'max_depth': 7, 'eta': 0.2, 'gamma': 0.01}\n",
      "time:  9.014435\n",
      "0 0.7040501446480233 0.9848320121311408 0.7191780821917808 0.9851258581235698 0.6829268292682927 0.9804741980474198 0.6120218579234973 0.9832167832167832 0.6455331412103748 0.9818435754189944 XGBClassifier {'max_depth': 7, 'eta': 0.2, 'gamma': 0.01}\n",
      "Regression:  False\n",
      "xg\n",
      "{'max_depth': 7, 'eta': 0.2, 'gamma': 0}\n",
      "time:  9.037822\n",
      "0 0.6985856637737062 0.9846167385373581 0.7146118721461188 0.9851258581235698 0.6790123456790124 0.9818181818181818 0.6010928961748634 0.9818181818181818 0.6376811594202898 0.9818181818181818 XGBClassifier {'max_depth': 7, 'eta': 0.2, 'gamma': 0}\n",
      "Regression:  False\n",
      "xg\n",
      "{'max_depth': None, 'eta': 0.2, 'gamma': 0.01}\n",
      "time:  7.010921\n",
      "0 0.7118932819029251 0.9846167385373581 0.728310502283105 0.9851258581235698 0.7 0.9818181818181818 0.6120218579234973 0.9818181818181818 0.6530612244897959 0.9818181818181818 XGBClassifier {'max_depth': None, 'eta': 0.2, 'gamma': 0.01}\n"
     ]
    },
    {
     "name": "stderr",
     "output_type": "stream",
     "text": [
      "\n",
      "A value is trying to be set on a copy of a slice from a DataFrame\n",
      "\n",
      "See the caveats in the documentation: https://pandas.pydata.org/pandas-docs/stable/user_guide/indexing.html#returning-a-view-versus-a-copy\n"
     ]
    },
    {
     "name": "stdout",
     "output_type": "stream",
     "text": [
      "Regression:  True\n",
      "nn\n",
      "{'hidden_layer_sizes': (100,), 'activation': 'logistic', 'alpha': 0.001, 'max_iter': 1000, 'solver': 'sgd'}\n"
     ]
    },
    {
     "name": "stderr",
     "output_type": "stream",
     "text": [
      "Stochastic Optimizer: Maximum iterations (1000) reached and the optimization hasn't converged yet.\n"
     ]
    },
    {
     "name": "stdout",
     "output_type": "stream",
     "text": [
      "time:  99.574151\n",
      "0 0.6931643937107355 0.5515652640506405 0.48047687670837147 0.3042242405072528 0.5365425106547703 0.4259587103130577 0.46403171930036125 0.6718788627278063 MLPRegressor {'hidden_layer_sizes': (100,), 'activation': 'logistic', 'alpha': 0.001, 'max_iter': 1000, 'solver': 'sgd'}\n",
      "Regression:  True\n",
      "nn\n",
      "{'hidden_layer_sizes': (50,), 'activation': 'logistic', 'alpha': 0.0001, 'max_iter': 1000, 'solver': 'sgd'}\n"
     ]
    },
    {
     "name": "stderr",
     "output_type": "stream",
     "text": [
      "Stochastic Optimizer: Maximum iterations (1000) reached and the optimization hasn't converged yet.\n"
     ]
    },
    {
     "name": "stdout",
     "output_type": "stream",
     "text": [
      "time:  68.714051\n",
      "0 0.6949574151278761 0.5480213794951297 0.4829658088412191 0.300327432383745 0.5378729199566777 0.4225240573501537 0.4612553345445344 0.6760817661883751 MLPRegressor {'hidden_layer_sizes': (50,), 'activation': 'logistic', 'alpha': 0.0001, 'max_iter': 1000, 'solver': 'sgd'}\n",
      "Regression:  True\n",
      "rf\n",
      "{'max_depth': None, 'min_samples_split': 2, 'min_samples_leaf': 4, 'min_impurity_decrease': 0, 'n_estimators': 200}\n",
      "time:  14.412593\n",
      "0 0.7084141981766313 0.46528196517616033 0.5018506761782395 0.21648730711818967 0.5427721578187503 0.352395446319286 0.4401894094844049 0.7665075560771377 RandomForestRegressor {'max_depth': None, 'min_samples_split': 2, 'min_samples_leaf': 4, 'min_impurity_decrease': 0, 'n_estimators': 200}\n",
      "Regression:  True\n",
      "rf\n",
      "{'max_depth': None, 'min_samples_split': 5, 'min_samples_leaf': 4, 'min_impurity_decrease': 0, 'n_estimators': 200}\n",
      "time:  14.445521\n",
      "0 0.7084141981766313 0.46528196517616033 0.5018506761782395 0.21648730711818967 0.5427721578187503 0.352395446319286 0.4401894094844049 0.7665075560771377 RandomForestRegressor {'max_depth': None, 'min_samples_split': 5, 'min_samples_leaf': 4, 'min_impurity_decrease': 0, 'n_estimators': 200}\n",
      "Regression:  True\n",
      "rf\n",
      "{'max_depth': None, 'min_samples_split': 10, 'min_samples_leaf': 4, 'min_impurity_decrease': 0, 'n_estimators': 200}\n",
      "time:  14.077817\n",
      "0 0.7092918613458007 0.47602584356302374 0.5030949445713906 0.22660060373988836 0.5443893663979292 0.36097911328431603 0.4388014376095152 0.755599857257511 RandomForestRegressor {'max_depth': None, 'min_samples_split': 10, 'min_samples_leaf': 4, 'min_impurity_decrease': 0, 'n_estimators': 200}\n",
      "Regression:  True\n",
      "rf\n",
      "{'max_depth': None, 'min_samples_split': 5, 'min_samples_leaf': 4, 'min_impurity_decrease': 0, 'n_estimators': 100}\n",
      "time:  7.267788\n",
      "0 0.7068974723044117 0.46502699853756757 0.4997040363503665 0.21625010936885888 0.5401626694204189 0.3525034983654279 0.4425839697922984 0.766763385774137 RandomForestRegressor {'max_depth': None, 'min_samples_split': 5, 'min_samples_leaf': 4, 'min_impurity_decrease': 0, 'n_estimators': 100}\n",
      "Regression:  True\n",
      "rf\n",
      "{'max_depth': None, 'min_samples_split': 2, 'min_samples_leaf': 4, 'min_impurity_decrease': 0, 'n_estimators': 100}\n",
      "time:  7.262927\n",
      "0 0.7068974723044117 0.46502699853756757 0.4997040363503665 0.21625010936885888 0.5401626694204189 0.3525034983654279 0.4425839697922984 0.766763385774137 RandomForestRegressor {'max_depth': None, 'min_samples_split': 2, 'min_samples_leaf': 4, 'min_impurity_decrease': 0, 'n_estimators': 100}\n",
      "Regression:  True\n",
      "rf\n",
      "{'max_depth': None, 'min_samples_split': 10, 'min_samples_leaf': 4, 'min_impurity_decrease': 0, 'n_estimators': 100}\n",
      "time:  7.036538\n",
      "0 0.708801935443307 0.4759093527256962 0.502400183688178 0.2264897120117911 0.5432012756111833 0.3614668411632481 0.43957643806036695 0.7557194595609852 RandomForestRegressor {'max_depth': None, 'min_samples_split': 10, 'min_samples_leaf': 4, 'min_impurity_decrease': 0, 'n_estimators': 100}\n",
      "Regression:  True\n",
      "rf\n",
      "{'max_depth': 20, 'min_samples_split': 5, 'min_samples_leaf': 4, 'min_impurity_decrease': 0, 'n_estimators': 200}\n",
      "time:  12.781336\n",
      "0 0.7077351709308614 0.4908968915507364 0.5008890721725355 0.24097975813417546 0.5422980843020966 0.37592481509928677 0.4412620713972567 0.7400912163780099 RandomForestRegressor {'max_depth': 20, 'min_samples_split': 5, 'min_samples_leaf': 4, 'min_impurity_decrease': 0, 'n_estimators': 200}\n",
      "Regression:  True\n",
      "rf\n",
      "{'max_depth': 20, 'min_samples_split': 2, 'min_samples_leaf': 4, 'min_impurity_decrease': 0, 'n_estimators': 200}\n",
      "time:  12.79439\n",
      "0 0.7077351709308614 0.4908968915507364 0.5008890721725355 0.24097975813417546 0.5422980843020966 0.37592481509928677 0.4412620713972567 0.7400912163780099 RandomForestRegressor {'max_depth': 20, 'min_samples_split': 2, 'min_samples_leaf': 4, 'min_impurity_decrease': 0, 'n_estimators': 200}\n",
      "Regression:  True\n",
      "rf\n",
      "{'max_depth': 20, 'min_samples_split': 10, 'min_samples_leaf': 4, 'min_impurity_decrease': 0, 'n_estimators': 200}\n",
      "time:  12.547731\n",
      "0 0.7103260515290836 0.4998277093076217 0.5045630994808983 0.24982773899170438 0.5445304060234024 0.3828831957430354 0.43716372203818454 0.7305482242196786 RandomForestRegressor {'max_depth': 20, 'min_samples_split': 10, 'min_samples_leaf': 4, 'min_impurity_decrease': 0, 'n_estimators': 200}\n",
      "Regression:  True\n",
      "rf\n",
      "{'max_depth': 20, 'min_samples_split': 5, 'min_samples_leaf': 4, 'min_impurity_decrease': 0, 'n_estimators': 100}\n",
      "time:  6.450185\n",
      "0 0.7044334902945336 0.49001003578692776 0.49622654224853885 0.2401098351719062 0.5392187732467473 0.37560854990624765 0.4464630878628043 0.7410294720253674 RandomForestRegressor {'max_depth': 20, 'min_samples_split': 5, 'min_samples_leaf': 4, 'min_impurity_decrease': 0, 'n_estimators': 100}\n",
      "Regression:  True\n",
      "rf\n",
      "{'max_depth': None, 'min_samples_split': 10, 'min_samples_leaf': 1, 'min_impurity_decrease': 0, 'n_estimators': 200}\n",
      "time:  20.884034\n",
      "0 0.7099690657452186 0.35345123972257825 0.5040560743151384 0.12492777886142746 0.5328784378306975 0.2652249149485604 0.4377293047322477 0.8652591101598183 RandomForestRegressor {'max_depth': None, 'min_samples_split': 10, 'min_samples_leaf': 1, 'min_impurity_decrease': 0, 'n_estimators': 200}\n",
      "Regression:  True\n",
      "rf\n",
      "{'max_depth': None, 'min_samples_split': 10, 'min_samples_leaf': 2, 'min_impurity_decrease': 0, 'n_estimators': 100}\n",
      "time:  8.726079\n",
      "0 0.7082083551656924 0.40858081066812757 0.5015590743264955 0.1669382788462243 0.5357333999790413 0.3057324875613344 0.44051468911950165 0.8199486739848403 RandomForestRegressor {'max_depth': None, 'min_samples_split': 10, 'min_samples_leaf': 2, 'min_impurity_decrease': 0, 'n_estimators': 100}\n",
      "Regression:  True\n",
      "rf\n",
      "{'max_depth': None, 'min_samples_split': 10, 'min_samples_leaf': 2, 'min_impurity_decrease': 0, 'n_estimators': 200}\n",
      "time:  17.343777\n",
      "0 0.707040435321771 0.4078566166567195 0.4999061771799994 0.16634701975066626 0.535112955078975 0.3048189101896254 0.4423584832430605 0.8205863766430294 RandomForestRegressor {'max_depth': None, 'min_samples_split': 10, 'min_samples_leaf': 2, 'min_impurity_decrease': 0, 'n_estimators': 200}\n",
      "Regression:  True\n",
      "rf\n",
      "{'max_depth': None, 'min_samples_split': 10, 'min_samples_leaf': 1, 'min_impurity_decrease': 0, 'n_estimators': 100}\n",
      "time:  10.572451\n",
      "0 0.7090782563494512 0.35455041346846855 0.502791973627578 0.12570599569066201 0.5322524757926166 0.26702862968780133 0.4391393993798497 0.8644197641871665 RandomForestRegressor {'max_depth': None, 'min_samples_split': 10, 'min_samples_leaf': 1, 'min_impurity_decrease': 0, 'n_estimators': 100}\n",
      "Regression:  True\n",
      "rf\n",
      "{'max_depth': 20, 'min_samples_split': 10, 'min_samples_leaf': 4, 'min_impurity_decrease': 0, 'n_estimators': 100}\n",
      "time:  6.299151\n",
      "0 0.7087501572566461 0.4992502330572793 0.5023267854113206 0.24925079520774768 0.5425155305315842 0.3829741826285902 0.4396583132767625 0.7311704870946499 RandomForestRegressor {'max_depth': 20, 'min_samples_split': 10, 'min_samples_leaf': 4, 'min_impurity_decrease': 0, 'n_estimators': 100}\n",
      "Regression:  True\n",
      "rf\n",
      "{'max_depth': None, 'min_samples_split': 5, 'min_samples_leaf': 2, 'min_impurity_decrease': 0, 'n_estimators': 200}\n",
      "time:  18.823357\n",
      "0 0.7066658307050748 0.3619355461851866 0.49937659628609354 0.13099733959236934 0.5314622389896229 0.2666998990561387 0.442949226679337 0.8587127837840546 RandomForestRegressor {'max_depth': None, 'min_samples_split': 5, 'min_samples_leaf': 2, 'min_impurity_decrease': 0, 'n_estimators': 200}\n",
      "Regression:  True\n",
      "rf\n",
      "{'max_depth': None, 'min_samples_split': 5, 'min_samples_leaf': 2, 'min_impurity_decrease': 0, 'n_estimators': 100}\n",
      "time:  9.480717\n",
      "0 0.708182026626221 0.36203574610324735 0.5015217828364216 0.13106988145653498 0.5321024314701283 0.2671891690866471 0.4405562874914286 0.8586345437367454 RandomForestRegressor {'max_depth': None, 'min_samples_split': 5, 'min_samples_leaf': 2, 'min_impurity_decrease': 0, 'n_estimators': 100}\n",
      "Regression:  True\n",
      "rf\n",
      "{'max_depth': None, 'min_samples_split': 2, 'min_samples_leaf': 2, 'min_impurity_decrease': 0, 'n_estimators': 100}\n",
      "time:  9.759167\n",
      "0 0.7083564720068445 0.3506144548672814 0.5017688914339834 0.12293049596188091 0.5316022530620231 0.2587404874246361 0.44028063974103393 0.8674132801738869 RandomForestRegressor {'max_depth': None, 'min_samples_split': 2, 'min_samples_leaf': 2, 'min_impurity_decrease': 0, 'n_estimators': 100}\n",
      "Regression:  True\n",
      "rf\n",
      "{'max_depth': None, 'min_samples_split': 2, 'min_samples_leaf': 4, 'min_impurity_decrease': 0, 'n_estimators': 50}\n",
      "time:  3.620346\n",
      "0 0.7063692781846062 0.46602093733434624 0.4989575571630416 0.21717551403398266 0.5373322526680006 0.3526147924176548 0.4434166616157832 0.7657652903210886 RandomForestRegressor {'max_depth': None, 'min_samples_split': 2, 'min_samples_leaf': 4, 'min_impurity_decrease': 0, 'n_estimators': 50}\n",
      "Regression:  True\n",
      "rf\n",
      "{'max_depth': None, 'min_samples_split': 5, 'min_samples_leaf': 4, 'min_impurity_decrease': 0, 'n_estimators': 50}\n",
      "time:  3.626374\n",
      "0 0.7063692781846062 0.46602093733434624 0.4989575571630416 0.21717551403398266 0.5373322526680006 0.3526147924176548 0.4434166616157832 0.7657652903210886 RandomForestRegressor {'max_depth': None, 'min_samples_split': 5, 'min_samples_leaf': 4, 'min_impurity_decrease': 0, 'n_estimators': 50}\n",
      "Regression:  True\n",
      "rf\n",
      "{'max_depth': None, 'min_samples_split': 2, 'min_samples_leaf': 2, 'min_impurity_decrease': 0, 'n_estimators': 200}\n",
      "time:  19.442003\n",
      "0 0.7066481709851159 0.3508308387918003 0.4993516375566096 0.1230822774473582 0.5307917779611004 0.2581059516506783 0.44297706795116176 0.8672495762114787 RandomForestRegressor {'max_depth': None, 'min_samples_split': 2, 'min_samples_leaf': 2, 'min_impurity_decrease': 0, 'n_estimators': 200}\n",
      "Regression:  True\n",
      "rf\n",
      "{'max_depth': 20, 'min_samples_split': 5, 'min_samples_leaf': 4, 'min_impurity_decrease': 0, 'n_estimators': 50}\n",
      "time:  3.247919\n",
      "0 0.7028234173985339 0.490259126256832 0.4939607560437539 0.24035401087811234 0.5354396766322524 0.37493383262108637 0.4489905550427673 0.7407661162510839 RandomForestRegressor {'max_depth': 20, 'min_samples_split': 5, 'min_samples_leaf': 4, 'min_impurity_decrease': 0, 'n_estimators': 50}\n",
      "Regression:  True\n",
      "rf\n",
      "{'max_depth': 20, 'min_samples_split': 5, 'min_samples_leaf': 1, 'min_impurity_decrease': 0, 'n_estimators': 200}\n",
      "time:  15.371652\n",
      "0 0.7151457041448842 0.4003385275427171 0.5114333781568823 0.16027093663507086 0.5373920371286148 0.3118004339689033 0.42949997872732915 0.8271397377385336 RandomForestRegressor {'max_depth': 20, 'min_samples_split': 5, 'min_samples_leaf': 1, 'min_impurity_decrease': 0, 'n_estimators': 200}\n",
      "Regression:  True\n",
      "rf\n",
      "{'max_depth': None, 'min_samples_split': 5, 'min_samples_leaf': 1, 'min_impurity_decrease': 0, 'n_estimators': 200}\n",
      "time:  22.818607\n",
      "0 0.713580405643305 0.30089997036609245 0.5091969953180638 0.09054079216631532 0.5324728454200782 0.21946383791567076 0.431994646677469 0.9023472040045131 RandomForestRegressor {'max_depth': None, 'min_samples_split': 5, 'min_samples_leaf': 1, 'min_impurity_decrease': 0, 'n_estimators': 200}\n",
      "Regression:  True\n",
      "rf\n",
      "{'max_depth': None, 'min_samples_split': 10, 'min_samples_leaf': 4, 'min_impurity_decrease': 0, 'n_estimators': 50}\n",
      "time:  3.555922\n",
      "0 0.709176558071152 0.4772071682701265 0.502931390517646 0.22772668144839284 0.5413804175865662 0.36157854864942074 0.43898388090540796 0.7543853258389912 RandomForestRegressor {'max_depth': None, 'min_samples_split': 10, 'min_samples_leaf': 4, 'min_impurity_decrease': 0, 'n_estimators': 50}\n",
      "Regression:  True\n",
      "rf\n",
      "{'max_depth': 20, 'min_samples_split': 10, 'min_samples_leaf': 1, 'min_impurity_decrease': 0, 'n_estimators': 100}\n",
      "time:  7.204914\n",
      "0 0.7159366967708352 0.4382827395510797 0.5125653537831347 0.1920917597883996 0.5412803290354907 0.3451198148466187 0.4282372685749639 0.7928193802791855 RandomForestRegressor {'max_depth': 20, 'min_samples_split': 10, 'min_samples_leaf': 1, 'min_impurity_decrease': 0, 'n_estimators': 100}\n",
      "Regression:  True\n",
      "rf\n",
      "{'max_depth': 20, 'min_samples_split': 5, 'min_samples_leaf': 2, 'min_impurity_decrease': 0, 'n_estimators': 100}\n",
      "time:  7.193167\n",
      "0 0.7076878132237588 0.43113193698747254 0.5008220409854257 0.18587474709057 0.5343828978078801 0.33215523070189906 0.4413368441737421 0.7995247410139061 RandomForestRegressor {'max_depth': 20, 'min_samples_split': 5, 'min_samples_leaf': 2, 'min_impurity_decrease': 0, 'n_estimators': 100}\n",
      "Regression:  True\n",
      "rf\n",
      "{'max_depth': None, 'min_samples_split': 10, 'min_samples_leaf': 2, 'min_impurity_decrease': 0, 'n_estimators': 50}\n",
      "time:  4.394254\n",
      "0 0.7045860801908647 0.4112073585734302 0.49644154439872756 0.1690914917449376 0.5335829582135712 0.3068298443449978 0.44622325460886536 0.8176263256277964 RandomForestRegressor {'max_depth': None, 'min_samples_split': 10, 'min_samples_leaf': 2, 'min_impurity_decrease': 0, 'n_estimators': 50}\n",
      "Regression:  True\n",
      "rf\n",
      "{'max_depth': None, 'min_samples_split': 2, 'min_samples_leaf': 1, 'min_impurity_decrease': 0, 'n_estimators': 200}\n",
      "time:  26.151475\n",
      "0 0.7158935558621987 0.2647457630978514 0.512503583325023 0.07009031907826367 0.5321593963807497 0.19194464037306666 0.4283061730484923 0.9244040673110578 RandomForestRegressor {'max_depth': None, 'min_samples_split': 2, 'min_samples_leaf': 1, 'min_impurity_decrease': 0, 'n_estimators': 200}\n",
      "Regression:  True\n",
      "rf\n",
      "{'max_depth': 20, 'min_samples_split': 10, 'min_samples_leaf': 4, 'min_impurity_decrease': 0, 'n_estimators': 50}\n",
      "time:  3.168084\n",
      "0 0.7066136354608277 0.4999226353884769 0.4993028298191674 0.24992264137376002 0.5393892374117091 0.38234057283218575 0.4430315126089379 0.7304458672297227 RandomForestRegressor {'max_depth': 20, 'min_samples_split': 10, 'min_samples_leaf': 4, 'min_impurity_decrease': 0, 'n_estimators': 50}\n",
      "Regression:  True\n",
      "rf\n",
      "{'max_depth': 20, 'min_samples_split': 2, 'min_samples_leaf': 2, 'min_impurity_decrease': 0, 'n_estimators': 100}\n",
      "time:  7.39648\n",
      "0 0.7077769980145415 0.42342028633844175 0.5009482789184764 0.179284738882928 0.5340980427248544 0.3266672400422369 0.44119602672504454 0.8066323961570966 RandomForestRegressor {'max_depth': 20, 'min_samples_split': 2, 'min_samples_leaf': 2, 'min_impurity_decrease': 0, 'n_estimators': 100}\n",
      "Regression:  True\n",
      "rf\n",
      "{'max_depth': None, 'min_samples_split': 10, 'min_samples_leaf': 1, 'min_impurity_decrease': 0, 'n_estimators': 50}\n",
      "time:  5.262174\n",
      "0 0.7085154136158897 0.3575808245608933 0.5019940913312951 0.12786404609364835 0.5322381779638994 0.26740188825162103 0.4400294309781839 0.8620921983385743 RandomForestRegressor {'max_depth': None, 'min_samples_split': 10, 'min_samples_leaf': 1, 'min_impurity_decrease': 0, 'n_estimators': 50}\n",
      "Regression:  True\n",
      "rf\n",
      "{'max_depth': 20, 'min_samples_split': 10, 'min_samples_leaf': 1, 'min_impurity_decrease': 0, 'n_estimators': 200}\n",
      "time:  14.342931\n",
      "0 0.7143591956764982 0.436027967641563 0.5103090604475734 0.19012038856563188 0.540121202212742 0.34271710881286166 0.4307541465319208 0.7949456032472229 RandomForestRegressor {'max_depth': 20, 'min_samples_split': 10, 'min_samples_leaf': 1, 'min_impurity_decrease': 0, 'n_estimators': 200}\n",
      "Regression:  True\n",
      "rf\n",
      "{'max_depth': 20, 'min_samples_split': 2, 'min_samples_leaf': 1, 'min_impurity_decrease': 0, 'n_estimators': 100}\n",
      "time:  8.493258\n",
      "0 0.715666365026392 0.38266211245802484 0.512178346030089 0.14643029231083807 0.5369561394151446 0.2993890078762698 0.4286689727631827 0.8420675684356371 RandomForestRegressor {'max_depth': 20, 'min_samples_split': 2, 'min_samples_leaf': 1, 'min_impurity_decrease': 0, 'n_estimators': 100}\n",
      "Regression:  True\n",
      "rf\n",
      "{'max_depth': 20, 'min_samples_split': 2, 'min_samples_leaf': 2, 'min_impurity_decrease': 0, 'n_estimators': 50}\n",
      "time:  3.718344\n",
      "0 0.7082204632629768 0.42396809431208515 0.5015762245844255 0.17974894499462113 0.5335692672546231 0.3258566213092698 0.4404955581379666 0.8061317265291816 RandomForestRegressor {'max_depth': 20, 'min_samples_split': 2, 'min_samples_leaf': 2, 'min_impurity_decrease': 0, 'n_estimators': 50}\n",
      "Regression:  True\n",
      "rf\n",
      "{'max_depth': 20, 'min_samples_split': 2, 'min_samples_leaf': 2, 'min_impurity_decrease': 0, 'n_estimators': 200}\n",
      "time:  14.653485\n",
      "0 0.7073046967236294 0.42193081113835973 0.5002799340073053 0.17802560938787418 0.5341550834166108 0.3252635993693085 0.4419415603611452 0.8079904306161559 RandomForestRegressor {'max_depth': 20, 'min_samples_split': 2, 'min_samples_leaf': 2, 'min_impurity_decrease': 0, 'n_estimators': 200}\n",
      "Regression:  True\n",
      "rf\n",
      "{'max_depth': 20, 'min_samples_split': 5, 'min_samples_leaf': 2, 'min_impurity_decrease': 0, 'n_estimators': 200}\n",
      "time:  14.324466\n",
      "0 0.7070905427965575 0.42945061193627815 0.49997703571233026 0.18442782809244376 0.5340643224925486 0.33075588979827414 0.44227944109225725 0.8010853158925362 RandomForestRegressor {'max_depth': 20, 'min_samples_split': 5, 'min_samples_leaf': 2, 'min_impurity_decrease': 0, 'n_estimators': 200}\n",
      "Regression:  True\n",
      "rf\n",
      "{'max_depth': 20, 'min_samples_split': 5, 'min_samples_leaf': 1, 'min_impurity_decrease': 0, 'n_estimators': 100}\n",
      "time:  7.740498\n",
      "0 0.7153168009397342 0.40313006571697424 0.5116781257066553 0.16251384988497197 0.5379976317681598 0.3145842661137105 0.42922696470768273 0.8247206430433398 RandomForestRegressor {'max_depth': 20, 'min_samples_split': 5, 'min_samples_leaf': 1, 'min_impurity_decrease': 0, 'n_estimators': 100}\n",
      "Regression:  True\n",
      "sv\n",
      "{'C': 0.01, 'kernel': 'poly', 'epsilon': 0.1, 'gamma': 0.1}\n",
      "time:  2.183427\n",
      "0 0.6854894828846598 0.31341696643943934 0.4698958311454784 0.09823019485210066 0.5056518868902522 0.183502258165695 0.4758347946891285 0.8940537966481601 SVR {'C': 0.01, 'kernel': 'poly', 'epsilon': 0.1, 'gamma': 0.1}\n",
      "Regression:  True\n",
      "sv\n",
      "{'C': 0.1, 'kernel': 'poly', 'epsilon': 0.1, 'gamma': 0.05}\n",
      "time:  2.20848\n",
      "0 0.6892296810511815 0.28317128072431236 0.4750375532419135 0.08018597422704732 0.5078022655381645 0.16601299577407205 0.4700992430206674 0.9135153957068377 SVR {'C': 0.1, 'kernel': 'poly', 'epsilon': 0.1, 'gamma': 0.05}\n",
      "Regression:  True\n",
      "sv\n",
      "{'C': 0.01, 'kernel': 'poly', 'epsilon': 0.01, 'gamma': 0.1}\n",
      "time:  2.90887\n",
      "0 0.693489927096233 0.310751306899594 0.4809282789839386 0.09656637473980567 0.5066795388647125 0.1303226824117964 0.46352818351483693 0.8958483102824198 SVR {'C': 0.01, 'kernel': 'poly', 'epsilon': 0.01, 'gamma': 0.1}\n",
      "Regression:  True\n",
      "sv\n",
      "{'C': 0.1, 'kernel': 'poly', 'epsilon': 0.01, 'gamma': 0.05}\n",
      "time:  2.993215\n",
      "0 0.6965532668934936 0.27894170315575184 0.48518645361999857 0.07780847375943156 0.5084590648953076 0.10810709610029223 0.4587782222799842 0.9160796494822717 SVR {'C': 0.1, 'kernel': 'poly', 'epsilon': 0.01, 'gamma': 0.05}\n",
      "Regression:  True\n",
      "sv\n",
      "{'C': 1, 'kernel': 'poly', 'epsilon': 0.1, 'gamma': 'scale'}\n",
      "time:  2.269967\n",
      "0 0.6888383387303983 0.39706229181975866 0.4744982569048551 0.1576584635851592 0.50989854154828 0.24214558219363247 0.4707008239594651 0.8299574212564567 SVR {'C': 1, 'kernel': 'poly', 'epsilon': 0.1, 'gamma': 'scale'}\n",
      "Regression:  True\n",
      "sv\n",
      "{'C': 1, 'kernel': 'rbf', 'epsilon': 0.1, 'gamma': 'scale'}\n",
      "time:  4.202145\n",
      "0 0.6913021703925191 0.4485917448397428 0.4778986907894075 0.20123455353836492 0.5102928019210125 0.29034347661200177 0.46690766597187994 0.7829584175956015 SVR {'C': 1, 'kernel': 'rbf', 'epsilon': 0.1, 'gamma': 'scale'}\n",
      "Regression:  True\n",
      "sv\n",
      "{'C': 1, 'kernel': 'rbf', 'epsilon': 0.01, 'gamma': 'scale'}\n",
      "time:  5.256559\n",
      "0 0.6943571985953756 0.44741595709451976 0.4821319192412179 0.20018103866280512 0.5111243881878736 0.25873180353771286 0.462185532014739 0.7840946863509297 SVR {'C': 1, 'kernel': 'rbf', 'epsilon': 0.01, 'gamma': 'scale'}\n",
      "Regression:  True\n",
      "sv\n",
      "{'C': 1, 'kernel': 'poly', 'epsilon': 0.01, 'gamma': 'scale'}\n",
      "time:  3.0018\n",
      "0 0.695219037186676 0.39608301044342137 0.48332950966676874 0.15688175116192343 0.5108314613596462 0.20112692083860267 0.46084962905565774 0.8307951446516096 SVR {'C': 1, 'kernel': 'poly', 'epsilon': 0.01, 'gamma': 'scale'}\n",
      "Regression:  True\n",
      "sv\n",
      "{'C': 1, 'kernel': 'poly', 'epsilon': 0.1, 'gamma': 0.05}\n",
      "time:  2.423042\n",
      "0 0.7100332897821796 0.15893937218376708 0.5041472725989047 0.02526172403017003 0.5172846356121077 0.10913883786657685 0.4376275737443013 0.9727539606823734 SVR {'C': 1, 'kernel': 'poly', 'epsilon': 0.1, 'gamma': 0.05}\n",
      "Regression:  True\n",
      "sv\n",
      "{'C': 0.1, 'kernel': 'poly', 'epsilon': 0.1, 'gamma': 0.1}\n",
      "time:  2.431195\n",
      "0 0.708900346622053 0.16174654983007652 0.5025397014408669 0.026161946381933424 0.5162297802018831 0.10978037046718439 0.439420807074443 0.9717830256202431 SVR {'C': 0.1, 'kernel': 'poly', 'epsilon': 0.1, 'gamma': 0.1}\n",
      "Regression:  True\n",
      "sv\n",
      "{'C': 10, 'kernel': 'poly', 'epsilon': 0.1, 'gamma': 'scale'}\n",
      "time:  2.41614\n",
      "0 0.707656968583484 0.17044956027850988 0.5007783851847661 0.02905305259913737 0.5150581737222452 0.11164948276885325 0.44138554188544543 0.9686648222240182 SVR {'C': 10, 'kernel': 'poly', 'epsilon': 0.1, 'gamma': 'scale'}\n",
      "Regression:  True\n",
      "sv\n",
      "{'C': 10, 'kernel': 'poly', 'epsilon': 0.1, 'gamma': 0.1}\n",
      "time:  2.405349\n",
      "0 0.7125810041549253 0.1554063692477594 0.5077716874824417 0.024151139602770943 0.5200133156887711 0.10806191666297392 0.4335845666656265 0.9739517818183466 SVR {'C': 10, 'kernel': 'poly', 'epsilon': 0.1, 'gamma': 0.1}\n",
      "Regression:  True\n",
      "sv\n",
      "{'C': 100, 'kernel': 'poly', 'epsilon': 0.1, 'gamma': 0.05}\n",
      "time:  2.430531\n",
      "0 0.7125810041549848 0.1554063692477522 0.5077716874825265 0.024151139602768698 0.5200133156887828 0.10806191666298719 0.4335845666655319 0.973951781818349 SVR {'C': 100, 'kernel': 'poly', 'epsilon': 0.1, 'gamma': 0.05}\n",
      "Regression:  True\n",
      "sv\n",
      "{'C': 1, 'kernel': 'rbf', 'epsilon': 0.1, 'gamma': 0.05}\n",
      "time:  4.178714\n",
      "0 0.6922740643181674 0.3125524167938228 0.4792433801275942 0.0976890132436595 0.5194742472576138 0.18853221409697518 0.46540767530094385 0.8946374882190107 SVR {'C': 1, 'kernel': 'rbf', 'epsilon': 0.1, 'gamma': 0.05}\n",
      "Regression:  True\n",
      "sv\n",
      "{'C': 1000, 'kernel': 'poly', 'epsilon': 0.1, 'gamma': 'scale'}\n",
      "time:  2.283344\n",
      "0 0.7125595832044681 0.15540459875871596 0.5077411596165253 0.024150589315357497 0.5199959193796013 0.10805607334481794 0.4336186202665422 0.9739523753309859 SVR {'C': 1000, 'kernel': 'poly', 'epsilon': 0.1, 'gamma': 'scale'}\n",
      "Regression:  True\n",
      "sv\n",
      "{'C': 100, 'kernel': 'poly', 'epsilon': 0.1, 'gamma': 'scale'}\n",
      "time:  2.277821\n",
      "0 0.7125595832043646 0.15540459875868956 0.5077411596163779 0.024150589315349295 0.519995919379477 0.10805607334480154 0.4336186202667066 0.9739523753309948 SVR {'C': 100, 'kernel': 'poly', 'epsilon': 0.1, 'gamma': 'scale'}\n",
      "Regression:  True\n",
      "sv\n",
      "{'C': 10, 'kernel': 'poly', 'epsilon': 0.1, 'gamma': 0.05}\n",
      "time:  2.227696\n",
      "0 0.7125810041549173 0.15540636924780157 0.5077716874824303 0.02415113960278405 0.5200133156887818 0.10806191666302419 0.43358456666563927 0.9739517818183324 SVR {'C': 10, 'kernel': 'poly', 'epsilon': 0.1, 'gamma': 0.05}\n",
      "Regression:  True\n",
      "sv\n",
      "{'C': 1, 'kernel': 'poly', 'epsilon': 0.1, 'gamma': 0.1}\n",
      "time:  2.307264\n",
      "0 0.7125810041549192 0.1554063692478014 0.507771687482433 0.024151139602784 0.5200133156887777 0.10806191666302598 0.4335845666656363 0.9739517818183325 SVR {'C': 1, 'kernel': 'poly', 'epsilon': 0.1, 'gamma': 0.1}\n",
      "Regression:  True\n",
      "sv\n",
      "{'C': 100, 'kernel': 'poly', 'epsilon': 0.1, 'gamma': 0.1}\n",
      "time:  2.366054\n",
      "0 0.7125810041557491 0.1554063692478197 0.5077716874836158 0.02415113960278968 0.5200133156890573 0.10806191666298416 0.4335845666643169 0.9739517818183264 SVR {'C': 100, 'kernel': 'poly', 'epsilon': 0.1, 'gamma': 0.1}\n",
      "Regression:  True\n",
      "sv\n",
      "{'C': 1000, 'kernel': 'poly', 'epsilon': 0.1, 'gamma': 0.05}\n",
      "time:  2.061616\n",
      "0 0.7125810041557249 0.15540636924796417 0.5077716874835811 0.024151139602834583 0.5200133156895719 0.10806191666308737 0.4335845666643554 0.9739517818182779 SVR {'C': 1000, 'kernel': 'poly', 'epsilon': 0.1, 'gamma': 0.05}\n",
      "Regression:  True\n",
      "sv\n",
      "{'C': 1000, 'kernel': 'poly', 'epsilon': 0.1, 'gamma': 0.1}\n",
      "time:  2.302833\n",
      "0 0.7125810041622082 0.15540636924490608 0.507771687492821 0.024151139601884093 0.5200133156955876 0.10806191666608414 0.43358456665404843 0.9739517818193031 SVR {'C': 1000, 'kernel': 'poly', 'epsilon': 0.1, 'gamma': 0.1}\n",
      "Regression:  True\n",
      "sv\n",
      "{'C': 1, 'kernel': 'rbf', 'epsilon': 0.01, 'gamma': 0.05}\n",
      "time:  5.107909\n",
      "0 0.6956929132107463 0.3083635679249229 0.483988629491655 0.09508809002338854 0.518329618069639 0.13542736858761067 0.4601143859327431 0.8974427146650361 SVR {'C': 1, 'kernel': 'rbf', 'epsilon': 0.01, 'gamma': 0.05}\n",
      "Regression:  True\n",
      "sv\n",
      "{'C': 10, 'kernel': 'rbf', 'epsilon': 0.1, 'gamma': 'scale'}\n",
      "time:  4.238042\n",
      "0 0.7078275537852453 0.17199437676857243 0.5010198458976043 0.029582065640009644 0.5160655675974248 0.11395583610153633 0.44111619430725824 0.9680942550650258 SVR {'C': 10, 'kernel': 'rbf', 'epsilon': 0.1, 'gamma': 'scale'}\n",
      "Regression:  True\n",
      "sv\n",
      "{'C': 100, 'kernel': 'rbf', 'epsilon': 0.1, 'gamma': 0.05}\n",
      "time:  4.169289\n",
      "0 0.7000341602746023 0.15507150884066281 0.4900478255513676 0.024047172854119767 0.5238623475382921 0.10755095855338608 0.45335539907619704 0.9740639151833573 SVR {'C': 100, 'kernel': 'rbf', 'epsilon': 0.1, 'gamma': 0.05}\n",
      "Regression:  True\n",
      "sv\n",
      "{'C': 1000, 'kernel': 'rbf', 'epsilon': 0.1, 'gamma': 0.05}\n",
      "time:  4.394547\n",
      "0 0.7000341602746133 0.15507150884065174 0.49004782555138304 0.02404717285411633 0.5238623475383214 0.10755095855337675 0.45335539907617983 0.974063915183361 SVR {'C': 1000, 'kernel': 'rbf', 'epsilon': 0.1, 'gamma': 0.05}\n",
      "Regression:  True\n",
      "sv\n",
      "{'C': 10, 'kernel': 'rbf', 'epsilon': 0.1, 'gamma': 0.05}\n",
      "time:  4.238825\n",
      "0 0.6999101792773486 0.15569992859670614 0.48987425905605025 0.02424246776501939 0.5235735569290048 0.10782407589554509 0.45354901117407687 0.973853279804135 SVR {'C': 10, 'kernel': 'rbf', 'epsilon': 0.1, 'gamma': 0.05}\n",
      "Regression:  True\n",
      "sv\n",
      "{'C': 1000, 'kernel': 'rbf', 'epsilon': 0.01, 'gamma': 0.05}\n",
      "time:  5.236249\n",
      "0 0.7072996657232333 0.13025947820481765 0.5002728171321976 0.016967531662191365 0.5235662872795441 0.03091228093068532 0.44194949918088944 0.9816996641148079 SVR {'C': 1000, 'kernel': 'rbf', 'epsilon': 0.01, 'gamma': 0.05}\n",
      "Regression:  True\n",
      "sv\n",
      "{'C': 100, 'kernel': 'rbf', 'epsilon': 0.01, 'gamma': 0.05}\n",
      "time:  5.270585\n",
      "0 0.7072996657232214 0.1302594782048378 0.5002728171321809 0.016967531662196614 0.5235662872795624 0.030912280930688825 0.4419494991809081 0.9816996641148023 SVR {'C': 100, 'kernel': 'rbf', 'epsilon': 0.01, 'gamma': 0.05}\n",
      "Regression:  True\n",
      "sv\n",
      "{'C': 10, 'kernel': 'rbf', 'epsilon': 0.01, 'gamma': 0.05}\n",
      "time:  5.231355\n",
      "0 0.707068752078478 0.13128595769303233 0.4999462201658162 0.017236002687376673 0.5230705153055464 0.0313344998271135 0.4423138155986791 0.9814101046176371 SVR {'C': 10, 'kernel': 'rbf', 'epsilon': 0.01, 'gamma': 0.05}\n",
      "Regression:  True\n",
      "sv\n",
      "{'C': 10, 'kernel': 'rbf', 'epsilon': 0.01, 'gamma': 'scale'}\n",
      "time:  5.349783\n",
      "0 0.7185390437749013 0.15388718481714173 0.5162983574289496 0.023681265650945138 0.521541253983437 0.039445142020814956 0.4240731315625863 0.9744585644967768 SVR {'C': 10, 'kernel': 'rbf', 'epsilon': 0.01, 'gamma': 'scale'}\n",
      "Regression:  True\n",
      "sv\n",
      "{'C': 1, 'kernel': 'poly', 'epsilon': 0.01, 'gamma': 0.05}\n",
      "time:  3.084192\n",
      "0 0.7217339956169888 0.1346685911429527 0.5208999604292637 0.018135629440427764 0.5231481058003126 0.03243943677436437 0.4189400786143639 0.9804398119386598 SVR {'C': 1, 'kernel': 'poly', 'epsilon': 0.01, 'gamma': 0.05}\n",
      "Regression:  True\n",
      "sv\n",
      "{'C': 1000, 'kernel': 'rbf', 'epsilon': 0.1, 'gamma': 'scale'}\n",
      "time:  4.282994\n",
      "0 0.7168960759327819 0.15548359493339067 0.513939983687821 0.02417514829341071 0.5239688041658195 0.10817408590181676 0.4267038794311191 0.9739258872385327 SVR {'C': 1000, 'kernel': 'rbf', 'epsilon': 0.1, 'gamma': 'scale'}\n",
      "Regression:  True\n",
      "sv\n",
      "{'C': 100, 'kernel': 'rbf', 'epsilon': 0.1, 'gamma': 'scale'}\n",
      "time:  4.278862\n",
      "0 0.7168960759328653 0.15548359493339106 0.5139399836879406 0.02417514829341083 0.5239688041659387 0.1081740859018358 0.42670387943098576 0.9739258872385326 SVR {'C': 100, 'kernel': 'rbf', 'epsilon': 0.1, 'gamma': 'scale'}\n",
      "Regression:  True\n",
      "sv\n",
      "{'C': 0.1, 'kernel': 'poly', 'epsilon': 0.01, 'gamma': 0.1}\n",
      "time:  2.955913\n",
      "0 0.7208398781826145 0.13844327037927442 0.5196101299783266 0.01916653911330888 0.5223036886495773 0.03331073741651482 0.42037887461620016 0.9793279240308237 SVR {'C': 0.1, 'kernel': 'poly', 'epsilon': 0.01, 'gamma': 0.1}\n",
      "Regression:  True\n",
      "sv\n",
      "{'C': 10, 'kernel': 'poly', 'epsilon': 0.01, 'gamma': 'scale'}\n",
      "time:  3.053757\n",
      "0 0.7193073728853907 0.14987856333123198 0.5174030966872825 0.02246358374623411 0.5207967353203582 0.036330508310156245 0.4228408033702986 0.9757718956460086 SVR {'C': 10, 'kernel': 'poly', 'epsilon': 0.01, 'gamma': 'scale'}\n",
      "Regression:  True\n",
      "sv\n",
      "{'C': 1000, 'kernel': 'poly', 'epsilon': 0.01, 'gamma': 'scale'}\n",
      "time:  2.937195\n",
      "0 0.7255134390141285 0.12956433059578693 0.5263697501901075 0.016786915762734368 0.5270218517507869 0.030900901249016812 0.41283856997571344 0.9818944674422497 SVR {'C': 1000, 'kernel': 'poly', 'epsilon': 0.01, 'gamma': 'scale'}\n",
      "Regression:  True\n",
      "sv\n",
      "{'C': 100, 'kernel': 'poly', 'epsilon': 0.01, 'gamma': 'scale'}\n",
      "time:  3.036479\n",
      "0 0.7255134390140839 0.12956433059578656 0.526369750190043 0.016786915762734278 0.5270218517506992 0.030900901249020195 0.4128385699757854 0.9818944674422498 SVR {'C': 100, 'kernel': 'poly', 'epsilon': 0.01, 'gamma': 'scale'}\n",
      "Regression:  True\n",
      "sv\n",
      "{'C': 1000, 'kernel': 'poly', 'epsilon': 0.01, 'gamma': 0.05}\n",
      "time:  2.810663\n",
      "0 0.7255224996129297 0.1295631261694083 0.5263828974445935 0.016786603662790014 0.5270282536683562 0.030916641897285966 0.41282390431390026 0.9818948040577296 SVR {'C': 1000, 'kernel': 'poly', 'epsilon': 0.01, 'gamma': 0.05}\n",
      "Regression:  True\n",
      "sv\n",
      "{'C': 100, 'kernel': 'poly', 'epsilon': 0.01, 'gamma': 0.1}\n",
      "time:  3.063414\n",
      "0 0.7255224996126777 0.1295631261701729 0.5263828974442278 0.01678660366298814 0.5270282536679762 0.030916641897351126 0.41282390431430827 0.9818948040575158 SVR {'C': 100, 'kernel': 'poly', 'epsilon': 0.01, 'gamma': 0.1}\n",
      "Regression:  True\n",
      "sv\n",
      "{'C': 100, 'kernel': 'poly', 'epsilon': 0.01, 'gamma': 0.05}\n",
      "time:  2.910741\n",
      "0 0.725522499613061 0.12956312617005944 0.5263828974447842 0.01678660366295874 0.5270282536690503 0.030916641896750263 0.41282390431368754 0.9818948040575476 SVR {'C': 100, 'kernel': 'poly', 'epsilon': 0.01, 'gamma': 0.05}\n",
      "Regression:  True\n",
      "sv\n",
      "{'C': 10, 'kernel': 'poly', 'epsilon': 0.01, 'gamma': 0.1}\n",
      "time:  2.954758\n",
      "0 0.725522499613128 0.1295631261700269 0.5263828974448813 0.016786603662950313 0.5270282536690096 0.030916641896669022 0.4128239043135793 0.9818948040575566 SVR {'C': 10, 'kernel': 'poly', 'epsilon': 0.01, 'gamma': 0.1}\n",
      "Regression:  True\n",
      "sv\n",
      "{'C': 10, 'kernel': 'poly', 'epsilon': 0.01, 'gamma': 0.05}\n",
      "time:  2.96627\n",
      "0 0.7255224996130902 0.12956312617004404 0.5263828974448265 0.016786603662954747 0.5270282536689808 0.030916641896685818 0.41282390431364047 0.9818948040575518 SVR {'C': 10, 'kernel': 'poly', 'epsilon': 0.01, 'gamma': 0.05}\n",
      "Regression:  True\n",
      "sv\n",
      "{'C': 1000, 'kernel': 'poly', 'epsilon': 0.01, 'gamma': 0.1}\n",
      "time:  2.981729\n",
      "0 0.7255224996054164 0.1295631261778788 0.5263828974336914 0.016786603664984943 0.5270282536564994 0.030916641899989362 0.41282390432606153 0.9818948040553622 SVR {'C': 1000, 'kernel': 'poly', 'epsilon': 0.01, 'gamma': 0.1}\n",
      "Regression:  True\n",
      "sv\n",
      "{'C': 1, 'kernel': 'poly', 'epsilon': 0.01, 'gamma': 0.1}\n",
      "time:  3.023796\n",
      "0 0.7255224996130873 0.12956312617005414 0.5263828974448224 0.01678660366295737 0.527028253668981 0.030916641896683757 0.412823904313645 0.981894804057549 SVR {'C': 1, 'kernel': 'poly', 'epsilon': 0.01, 'gamma': 0.1}\n",
      "Regression:  True\n",
      "xg\n",
      "{'max_depth': None, 'eta': 0.2, 'gamma': 0}\n",
      "time:  0.905395\n",
      "0 0.7077083549283322 0.3750458423490328 0.5008511156353661 0.1406593838632956 0.5422527657217588 0.28824464288975693 0.4413044116241317 0.8482917833099815 XGBRegressor {'max_depth': None, 'eta': 0.2, 'gamma': 0}\n"
     ]
    },
    {
     "name": "stderr",
     "output_type": "stream",
     "text": [
      "\n",
      "A value is trying to be set on a copy of a slice from a DataFrame\n",
      "\n",
      "See the caveats in the documentation: https://pandas.pydata.org/pandas-docs/stable/user_guide/indexing.html#returning-a-view-versus-a-copy\n",
      "100%|██████████| 2186/2186 [06:54<00:00,  5.27it/s]\n"
     ]
    },
    {
     "name": "stdout",
     "output_type": "stream",
     "text": [
      "Regression:  True\n",
      "rf\n",
      "{'max_depth': 10, 'min_samples_split': 5, 'min_samples_leaf': 1, 'min_impurity_decrease': 0, 'n_estimators': 100}\n",
      "time:  126.3301\n",
      "0 0.7063714537923301 0.3961944111884402 0.49896063073269004 0.1569700114569548 0.5374535936927167 0.3107179424078785 0.4434132330723507 0.8306999514864188 RandomForestRegressor {'max_depth': 10, 'min_samples_split': 5, 'min_samples_leaf': 1, 'min_impurity_decrease': 0, 'n_estimators': 100}\n",
      "Regression:  True\n",
      "rf\n",
      "{'max_depth': 10, 'min_samples_split': 10, 'min_samples_leaf': 2, 'min_impurity_decrease': 0, 'n_estimators': 50}\n",
      "time:  59.53872\n",
      "0 0.713722592717735 0.4233705395565403 0.5093999393557258 0.17924261376439607 0.5417726149409862 0.32977383317326764 0.4317682641558187 0.8066778302151367 RandomForestRegressor {'max_depth': 10, 'min_samples_split': 10, 'min_samples_leaf': 2, 'min_impurity_decrease': 0, 'n_estimators': 50}\n"
     ]
    },
    {
     "name": "stderr",
     "output_type": "stream",
     "text": [
      "\n",
      "A value is trying to be set on a copy of a slice from a DataFrame\n",
      "\n",
      "See the caveats in the documentation: https://pandas.pydata.org/pandas-docs/stable/user_guide/indexing.html#returning-a-view-versus-a-copy\n",
      "100%|██████████| 2186/2186 [07:02<00:00,  5.17it/s]\n"
     ]
    },
    {
     "name": "stdout",
     "output_type": "stream",
     "text": [
      "Regression:  True\n",
      "gb\n",
      "{'max_depth': 7, 'loss': 'huber', 'n_estimators': 100, 'learning_rate': 0.1, 'min_impurity_decrease': 0.1}\n",
      "time:  106.119792\n",
      "0 0.695062582519727 0.21119004020830962 0.4831119936189922 0.04460123308318743 0.5185864032149906 0.1353573501446385 0.4610922665431265 0.9518953279377198 GradientBoostingRegressor {'max_depth': 7, 'loss': 'huber', 'n_estimators': 100, 'learning_rate': 0.1, 'min_impurity_decrease': 0.1}\n",
      "Regression:  True\n",
      "gb\n",
      "{'max_depth': 7, 'loss': 'huber', 'n_estimators': 100, 'learning_rate': 0.1, 'min_impurity_decrease': 0.2}\n",
      "time:  86.043823\n",
      "0 0.6981395670349904 0.2425417529864276 0.48739885505980385 0.05882650194172926 0.5170120434096407 0.1650525377453762 0.4563103053970047 0.9365526603446153 GradientBoostingRegressor {'max_depth': 7, 'loss': 'huber', 'n_estimators': 100, 'learning_rate': 0.1, 'min_impurity_decrease': 0.2}\n",
      "Regression:  True\n",
      "gb\n",
      "{'max_depth': 5, 'loss': 'huber', 'n_estimators': 100, 'learning_rate': 0.1, 'min_impurity_decrease': 0.1}\n",
      "time:  110.115681\n",
      "0 0.7000320826225302 0.30153865802396856 0.490044916700837 0.09092556228289587 0.5174299380451437 0.20836858244071021 0.45335864387671354 0.9019322100907136 GradientBoostingRegressor {'max_depth': 5, 'loss': 'huber', 'n_estimators': 100, 'learning_rate': 0.1, 'min_impurity_decrease': 0.1}\n",
      "Regression:  True\n",
      "gb\n",
      "{'max_depth': 7, 'loss': 'absolute_error', 'n_estimators': 200, 'learning_rate': 0.1, 'min_impurity_decrease': 0}\n",
      "time:  299.395976\n",
      "0 0.716482978999767 0.32368610623828675 0.5133478591963805 0.10477269537170346 0.5275249099217927 0.16483682444202896 0.4273643897720364 0.8869973809348145 GradientBoostingRegressor {'max_depth': 7, 'loss': 'absolute_error', 'n_estimators': 200, 'learning_rate': 0.1, 'min_impurity_decrease': 0}\n",
      "Regression:  True\n",
      "rf\n",
      "{'max_depth': 20, 'min_samples_split': 10, 'min_samples_leaf': 1, 'min_impurity_decrease': 0, 'n_estimators': 100}\n",
      "time:  159.678887\n",
      "0 0.7058681132690804 0.3294733956014059 0.4982497933300513 0.10855271840912052 0.5278201840308797 0.24595543500475806 0.4442061667576497 0.8829204360605851 RandomForestRegressor {'max_depth': 20, 'min_samples_split': 10, 'min_samples_leaf': 1, 'min_impurity_decrease': 0, 'n_estimators': 100}\n",
      "Regression:  True\n",
      "rf\n",
      "{'max_depth': 20, 'min_samples_split': 10, 'min_samples_leaf': 2, 'min_impurity_decrease': 0, 'n_estimators': 200}\n",
      "time:  310.909694\n",
      "0 0.6975621545759039 0.329552720908986 0.48659295949657716 0.10860499585851603 0.523430409359952 0.24409009908386714 0.4572092757333196 0.8828640522033332 RandomForestRegressor {'max_depth': 20, 'min_samples_split': 10, 'min_samples_leaf': 2, 'min_impurity_decrease': 0, 'n_estimators': 200}\n",
      "Regression:  True\n",
      "rf\n",
      "{'max_depth': None, 'min_samples_split': 2, 'min_samples_leaf': 4, 'min_impurity_decrease': 0, 'n_estimators': 100}\n",
      "time:  153.619225\n",
      "0 0.7076271821951259 0.3286351258219938 0.5007362289814139 0.10800104592403767 0.5305793661225671 0.239910346202596 0.44143256680782317 0.8835154425692885 RandomForestRegressor {'max_depth': None, 'min_samples_split': 2, 'min_samples_leaf': 4, 'min_impurity_decrease': 0, 'n_estimators': 100}\n",
      "Regression:  True\n",
      "rf\n",
      "{'max_depth': None, 'min_samples_split': 10, 'min_samples_leaf': 4, 'min_impurity_decrease': 0, 'n_estimators': 100}\n",
      "time:  151.486233\n",
      "0 0.7067832141647045 0.3422182402899779 0.4995425118249905 0.11711332398716905 0.5302345385022484 0.2504667435020133 0.4427641491648203 0.8736873925880319 RandomForestRegressor {'max_depth': None, 'min_samples_split': 10, 'min_samples_leaf': 4, 'min_impurity_decrease': 0, 'n_estimators': 100}\n",
      "Regression:  True\n",
      "rf\n",
      "{'max_depth': 20, 'min_samples_split': 10, 'min_samples_leaf': 1, 'min_impurity_decrease': 0, 'n_estimators': 200}\n",
      "time:  316.752529\n",
      "0 0.6976110164187634 0.32700496946923213 0.4866611302288202 0.10693225005757342 0.5237255583070126 0.24317421340369383 0.45713323180295484 0.8846681926415094 RandomForestRegressor {'max_depth': 20, 'min_samples_split': 10, 'min_samples_leaf': 1, 'min_impurity_decrease': 0, 'n_estimators': 200}\n",
      "Regression:  True\n",
      "rf\n",
      "{'max_depth': 10, 'min_samples_split': 2, 'min_samples_leaf': 4, 'min_impurity_decrease': 0, 'n_estimators': 200}\n",
      "time:  233.278507\n",
      "0 0.7043177536876232 0.4120700861924293 0.4960634981595794 0.16980175593463612 0.5358995830381228 0.31975282290523893 0.4466449622968801 0.8168602699929823 RandomForestRegressor {'max_depth': 10, 'min_samples_split': 2, 'min_samples_leaf': 4, 'min_impurity_decrease': 0, 'n_estimators': 200}\n",
      "Regression:  True\n",
      "rf\n",
      "{'max_depth': 10, 'min_samples_split': 10, 'min_samples_leaf': 4, 'min_impurity_decrease': 0, 'n_estimators': 200}\n",
      "time:  230.999057\n",
      "0 0.7041683182509283 0.4200171505364828 0.49585302042834056 0.17641440674478648 0.5356811498336914 0.3256555043007271 0.4468797485960886 0.8097281936647034 RandomForestRegressor {'max_depth': 10, 'min_samples_split': 10, 'min_samples_leaf': 4, 'min_impurity_decrease': 0, 'n_estimators': 200}\n",
      "Regression:  True\n",
      "rf\n",
      "{'max_depth': 10, 'min_samples_split': 10, 'min_samples_leaf': 1, 'min_impurity_decrease': 0, 'n_estimators': 200}\n",
      "time:  241.595799\n",
      "0 0.702638907487125 0.41299271800452114 0.49370143431470065 0.17056298512476192 0.535967542874212 0.32266295612796814 0.44927982644791986 0.8160392460431077 RandomForestRegressor {'max_depth': 10, 'min_samples_split': 10, 'min_samples_leaf': 1, 'min_impurity_decrease': 0, 'n_estimators': 200}\n",
      "Regression:  True\n",
      "xg\n",
      "{'max_depth': None, 'eta': 0.1, 'gamma': 0}\n",
      "time:  9.361539\n",
      "0 0.7012175151129072 0.19064821378151675 0.49170600350112026 0.03634674141808292 0.5138786966091639 0.13399292098250182 0.45150571425699937 0.9607982121662807 XGBRegressor {'max_depth': None, 'eta': 0.1, 'gamma': 0}\n"
     ]
    }
   ],
   "source": [
    "for dataset in main_datasets:\n",
    "    regression = False\n",
    "    if \"regre\" in dataset:\n",
    "        regression = True\n",
    "\n",
    "\n",
    "    df = pd.read_csv(r\"Merged runs/\" + dataset + \".csv\")\n",
    "    \n",
    "    setups = {\"Fingerprints\": [], \"Descriptors\": [], \"DescFing\": []}\n",
    "\n",
    "    for row in df.head(top_models)[['hyperparams', 'preprocessing', 'model']].iterrows():\n",
    "        #print(row)\n",
    "        params = list(row[1])[0].split(\", '\")\n",
    "        params[0] = params[0][2:]\n",
    "        params[-1] = params[-1][:-1]\n",
    "        #print(params)\n",
    "\n",
    "        preprocessing = list(row[1])[1]\n",
    "        model = list(row[1])[2]\n",
    "        #print(preprocessing)\n",
    "\n",
    "        clean_params = {}\n",
    "        \n",
    "        for param in params:\n",
    "            name = param.split(\"': \")[0]\n",
    "            val = param.split(\"': \")[1]\n",
    "            if val[0] == \"'\":\n",
    "                val = val[1:-1]\n",
    "            elif val[0] == \"(\":\n",
    "                if val == \"(50, 50)\": val = (50, 50)\n",
    "                if val == \"(100, )\" or val == \"(100,)\": val = (100, )\n",
    "                if val == \"(50, )\" or val == \"(50,)\": val = (50, )\n",
    "            elif val == \"None\":\n",
    "                val = None\n",
    "            else:\n",
    "                try:\n",
    "                    val = int(val)\n",
    "                except:\n",
    "                    val = float(val)\n",
    "            clean_params[name] = [val]\n",
    "        #print(model)\n",
    "        #print(preprocessing)\n",
    "        #print(clean_params)\n",
    "        setups[preprocessing].append([model, clean_params])\n",
    "\n",
    "    for key in setups.keys():\n",
    "        setups[key] = sorted(setups[key], key=lambda x:x[0])\n",
    "    #print(setups)\n",
    "\n",
    "    returned_df = pd.DataFrame(columns=df.columns)\n",
    "    #print(returned_df)\n",
    "\n",
    "    for key in setups.keys():\n",
    "        if key == \"Descriptors\":\n",
    "            calculate_descriptors = True\n",
    "            calculate_fingerprints = False\n",
    "        if name == \"DescFing\":\n",
    "            calculate_descriptors = True\n",
    "            calculate_fingerprints = True\n",
    "        if key == \"Fingerprints\":\n",
    "            calculate_descriptors = False\n",
    "            calculate_fingerprints = True\n",
    "\n",
    "            \n",
    "        if \"BACE\" in dataset:\n",
    "            prepared_dataset = pd.read_csv(r\"C:\\Users\\wojci\\Documents\\GitHub\\czasteczkowa-inzynierka\\experiments\\split_datasets\\split\" + str(split) + \"_bace.csv\")\n",
    "        else:\n",
    "            prepared_dataset = pd.read_csv(r\"C:\\Users\\wojci\\Documents\\GitHub\\czasteczkowa-inzynierka\\experiments\\split_datasets\\split\" + str(split) + \"_ROR_data_1.csv\")\n",
    "        \n",
    "        if not \"pIC50\" in prepared_dataset.columns:\n",
    "            prepared_dataset = Finalized_pipeline.calculate_pIC50(prepared_dataset, \"target\")\n",
    "        \n",
    "        if not regression:\n",
    "            prepared_dataset = Finalized_pipeline.calculate_classification_labels(prepared_dataset, \"pIC50\", threshold=7)\n",
    "            target_column = \"label\"\n",
    "        else:\n",
    "            target_column = \"pIC50\"\n",
    "\n",
    "        if \"mol\" in prepared_dataset.columns:\n",
    "            prepared_dataset.rename(columns={\"mol\": \"SMILES\"}, inplace=True)\n",
    "\n",
    "        if regression:\n",
    "            runtype = \"regression\"\n",
    "        else:\n",
    "            runtype = \"classification\"\n",
    "        \n",
    "        prepared_dataset = Finalized_pipeline.calculate_features(prepared_dataset, calculate_descriptors=calculate_descriptors, \n",
    "                                                                 calculate_fingerprints=calculate_fingerprints, \n",
    "                                                    SMILES_column_name=\"SMILES\", target_column_name=target_column, \n",
    "                                                    split_column_name=\"Split\", output_csv_path=dataset + \"_\" + key + \"_\" + str(split) + \".csv\")\n",
    "\n",
    "        for combination in setups[key]:\n",
    "                            # model short name, parameters\n",
    "            hyperparams = {str(model_name_shorts[combination[0]]): combination[1]}\n",
    "\n",
    "\n",
    "            new_df = Finalized_pipeline.hyperparameter_search(prepared_dataset, hyperparams, unique=False, return_df=True, output_file_name=\"tmp.csv\")\n",
    "\n",
    "            new_df['split'] = split\n",
    "            new_df['preprocessing'] = key\n",
    "\n",
    "            returned_df = pd.concat([returned_df, new_df])\n",
    "\n",
    "    if \"mse\" in returned_df.columns:\n",
    "        returned_df.sort_values(by=['mse'], inplace=True)\n",
    "    else:\n",
    "        returned_df.sort_values(by=['roc_auc'], inplace=True, ascending=False)\n",
    "    returned_df.to_csv(\"RERUN_\" + dataset + \".csv\", index=False)\n",
    "\n"
   ]
  }
 ],
 "metadata": {
  "kernelspec": {
   "display_name": "Python 3",
   "language": "python",
   "name": "python3"
  },
  "language_info": {
   "codemirror_mode": {
    "name": "ipython",
    "version": 3
   },
   "file_extension": ".py",
   "mimetype": "text/x-python",
   "name": "python",
   "nbconvert_exporter": "python",
   "pygments_lexer": "ipython3",
   "version": "3.11.3"
  }
 },
 "nbformat": 4,
 "nbformat_minor": 2
}
