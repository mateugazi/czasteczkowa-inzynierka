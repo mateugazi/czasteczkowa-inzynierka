{
 "cells": [
  {
   "cell_type": "code",
   "execution_count": 95,
   "metadata": {},
   "outputs": [],
   "source": [
    "import pandas as pd\n",
    "import numpy as np\n",
    "import os"
   ]
  },
  {
   "cell_type": "code",
   "execution_count": 96,
   "metadata": {},
   "outputs": [],
   "source": [
    "main_datasets = [\"BACE_class\", \"BACE_regre\", \"ROR_class\", \"ROR_regre\"]\n",
    "top5 = {}\n",
    "\n",
    "best_models = {}"
   ]
  },
  {
   "cell_type": "code",
   "execution_count": 97,
   "metadata": {},
   "outputs": [],
   "source": [
    "for dataset in main_datasets:\n",
    "    df = pd.read_csv(r\"Merged runs/\" + dataset + \".csv\")\n",
    "    df = df.drop([\"Unnamed: 0\"], axis=1)\n",
    "    #print(df.columns)\n",
    "\n",
    "    regre = False\n",
    "    score_column = \"roc_auc\"\n",
    "    if dataset[-5:] == \"regre\": \n",
    "        regre = True\n",
    "        score_column = \"mse\"\n",
    "\n",
    "\n",
    "    df.sort_values(score_column, ascending=regre, inplace=True)\n",
    "\n",
    "    top5[dataset] = df.head(5)\n",
    "\n",
    "    best = {}\n",
    "\n",
    "    for index, row in df.iterrows():\n",
    "        if len(best) >= 7:\n",
    "            break\n",
    "        if not row['model'] in best.keys():\n",
    "            best[row['model']] = [row[score_column], row['hyperparams']]\n",
    "\n",
    "    best_models[dataset] = best"
   ]
  },
  {
   "cell_type": "markdown",
   "metadata": {},
   "source": [
    "### Top 5 scores on a dataset"
   ]
  },
  {
   "cell_type": "code",
   "execution_count": 98,
   "metadata": {},
   "outputs": [
    {
     "data": {
      "text/html": [
       "<div>\n",
       "<style scoped>\n",
       "    .dataframe tbody tr th:only-of-type {\n",
       "        vertical-align: middle;\n",
       "    }\n",
       "\n",
       "    .dataframe tbody tr th {\n",
       "        vertical-align: top;\n",
       "    }\n",
       "\n",
       "    .dataframe thead th {\n",
       "        text-align: right;\n",
       "    }\n",
       "</style>\n",
       "<table border=\"1\" class=\"dataframe\">\n",
       "  <thead>\n",
       "    <tr style=\"text-align: right;\">\n",
       "      <th></th>\n",
       "      <th>model</th>\n",
       "      <th>hyperparams</th>\n",
       "      <th>roc_auc</th>\n",
       "      <th>train_roc_auc</th>\n",
       "      <th>accuracy</th>\n",
       "      <th>train_accuracy</th>\n",
       "      <th>precision</th>\n",
       "      <th>train_precision</th>\n",
       "      <th>recall</th>\n",
       "      <th>train_recall</th>\n",
       "      <th>f1</th>\n",
       "      <th>train_f1</th>\n",
       "      <th>split</th>\n",
       "      <th>preprocessing</th>\n",
       "    </tr>\n",
       "  </thead>\n",
       "  <tbody>\n",
       "    <tr>\n",
       "      <th>0</th>\n",
       "      <td>SVC</td>\n",
       "      <td>{'C': 0.01, 'kernel': 'poly', 'gamma': 0.05}</td>\n",
       "      <td>0.880874</td>\n",
       "      <td>0.873432</td>\n",
       "      <td>0.881579</td>\n",
       "      <td>0.872153</td>\n",
       "      <td>0.887324</td>\n",
       "      <td>0.832268</td>\n",
       "      <td>0.863014</td>\n",
       "      <td>0.883051</td>\n",
       "      <td>0.875000</td>\n",
       "      <td>0.856908</td>\n",
       "      <td>0.9</td>\n",
       "      <td>Descriptors</td>\n",
       "    </tr>\n",
       "    <tr>\n",
       "      <th>1</th>\n",
       "      <td>MLPClassifier</td>\n",
       "      <td>{'hidden_layer_sizes': (50, 50), 'activation':...</td>\n",
       "      <td>0.876626</td>\n",
       "      <td>0.950669</td>\n",
       "      <td>0.875000</td>\n",
       "      <td>0.946363</td>\n",
       "      <td>0.837500</td>\n",
       "      <td>0.902022</td>\n",
       "      <td>0.917808</td>\n",
       "      <td>0.983051</td>\n",
       "      <td>0.875817</td>\n",
       "      <td>0.940795</td>\n",
       "      <td>0.9</td>\n",
       "      <td>DescFing</td>\n",
       "    </tr>\n",
       "    <tr>\n",
       "      <th>2</th>\n",
       "      <td>LogisticRegression</td>\n",
       "      <td>{'C': 1, 'penalty': 'l1', 'solver': 'liblinear'}</td>\n",
       "      <td>0.874025</td>\n",
       "      <td>0.920109</td>\n",
       "      <td>0.875000</td>\n",
       "      <td>0.919177</td>\n",
       "      <td>0.885714</td>\n",
       "      <td>0.890879</td>\n",
       "      <td>0.849315</td>\n",
       "      <td>0.927119</td>\n",
       "      <td>0.867133</td>\n",
       "      <td>0.908638</td>\n",
       "      <td>0.9</td>\n",
       "      <td>DescFing</td>\n",
       "    </tr>\n",
       "    <tr>\n",
       "      <th>3</th>\n",
       "      <td>MLPClassifier</td>\n",
       "      <td>{'hidden_layer_sizes': (100,), 'activation': '...</td>\n",
       "      <td>0.869256</td>\n",
       "      <td>0.889231</td>\n",
       "      <td>0.868421</td>\n",
       "      <td>0.884644</td>\n",
       "      <td>0.844156</td>\n",
       "      <td>0.829528</td>\n",
       "      <td>0.890411</td>\n",
       "      <td>0.923729</td>\n",
       "      <td>0.866667</td>\n",
       "      <td>0.874098</td>\n",
       "      <td>0.9</td>\n",
       "      <td>Descriptors</td>\n",
       "    </tr>\n",
       "    <tr>\n",
       "      <th>4</th>\n",
       "      <td>MLPClassifier</td>\n",
       "      <td>{'hidden_layer_sizes': (100,), 'activation': '...</td>\n",
       "      <td>0.867696</td>\n",
       "      <td>0.961201</td>\n",
       "      <td>0.868421</td>\n",
       "      <td>0.960323</td>\n",
       "      <td>0.873239</td>\n",
       "      <td>0.942244</td>\n",
       "      <td>0.849315</td>\n",
       "      <td>0.967797</td>\n",
       "      <td>0.861111</td>\n",
       "      <td>0.954849</td>\n",
       "      <td>0.9</td>\n",
       "      <td>Fingerprints</td>\n",
       "    </tr>\n",
       "  </tbody>\n",
       "</table>\n",
       "</div>"
      ],
      "text/plain": [
       "                model                                        hyperparams   \n",
       "0                 SVC       {'C': 0.01, 'kernel': 'poly', 'gamma': 0.05}  \\\n",
       "1       MLPClassifier  {'hidden_layer_sizes': (50, 50), 'activation':...   \n",
       "2  LogisticRegression   {'C': 1, 'penalty': 'l1', 'solver': 'liblinear'}   \n",
       "3       MLPClassifier  {'hidden_layer_sizes': (100,), 'activation': '...   \n",
       "4       MLPClassifier  {'hidden_layer_sizes': (100,), 'activation': '...   \n",
       "\n",
       "    roc_auc  train_roc_auc  accuracy  train_accuracy  precision   \n",
       "0  0.880874       0.873432  0.881579        0.872153   0.887324  \\\n",
       "1  0.876626       0.950669  0.875000        0.946363   0.837500   \n",
       "2  0.874025       0.920109  0.875000        0.919177   0.885714   \n",
       "3  0.869256       0.889231  0.868421        0.884644   0.844156   \n",
       "4  0.867696       0.961201  0.868421        0.960323   0.873239   \n",
       "\n",
       "   train_precision    recall  train_recall        f1  train_f1  split   \n",
       "0         0.832268  0.863014      0.883051  0.875000  0.856908    0.9  \\\n",
       "1         0.902022  0.917808      0.983051  0.875817  0.940795    0.9   \n",
       "2         0.890879  0.849315      0.927119  0.867133  0.908638    0.9   \n",
       "3         0.829528  0.890411      0.923729  0.866667  0.874098    0.9   \n",
       "4         0.942244  0.849315      0.967797  0.861111  0.954849    0.9   \n",
       "\n",
       "  preprocessing  \n",
       "0   Descriptors  \n",
       "1      DescFing  \n",
       "2      DescFing  \n",
       "3   Descriptors  \n",
       "4  Fingerprints  "
      ]
     },
     "execution_count": 98,
     "metadata": {},
     "output_type": "execute_result"
    }
   ],
   "source": [
    "top5[main_datasets[0]]"
   ]
  },
  {
   "cell_type": "markdown",
   "metadata": {},
   "source": [
    "### Best performance of each model on the dataset"
   ]
  },
  {
   "cell_type": "code",
   "execution_count": 101,
   "metadata": {},
   "outputs": [
    {
     "name": "stdout",
     "output_type": "stream",
     "text": [
      "{'SVC': [0.8808739379226634, \"{'C': 0.01, 'kernel': 'poly', 'gamma': 0.05}\"], 'MLPClassifier': [0.8766256285763829, \"{'hidden_layer_sizes': (50, 50), 'activation': 'relu', 'alpha': 0.01, 'max_iter': 500, 'solver': 'sgd'}\"], 'LogisticRegression': [0.8740246228541703, \"{'C': 1, 'penalty': 'l1', 'solver': 'liblinear'}\"], 'GradientBoostingClassifier': [0.8671753077856772, \"{'max_depth': 3, 'loss': 'exponential', 'n_estimators': 200, 'learning_rate': 1.0, 'min_impurity_decrease': 0.05}\"], 'RandomForestClassifier': [0.8613663950060689, \"{'max_depth': 10, 'min_samples_split': 10, 'min_samples_leaf': 2, 'min_impurity_decrease': 0, 'n_estimators': 200}\"], 'XGBClassifier': [0.8555574822264608, \"{'max_depth': 7, 'eta': 0.1, 'gamma': 0}\"], 'DecisionTreeClassifier': [0.8374097834803528, \"{'max_depth': 10, 'min_samples_split': 2, 'min_samples_leaf': 1, 'min_impurity_decrease': 0, 'criterion': 'log_loss', 'splitter': 'best'}\"]}\n",
      "{'SVR': [0.3864183150131471, \"{'C': 1, 'kernel': 'rbf', 'epsilon': 0.01, 'gamma': 'scale'}\"], 'MLPRegressor': [0.4207656337225368, \"{'hidden_layer_sizes': (50,), 'activation': 'tanh', 'alpha': 0.01, 'max_iter': 1000, 'solver': 'sgd'}\"], 'XGBRegressor': [0.4328183095221637, \"{'max_depth': 3, 'eta': 0.2, 'gamma': 0.01}\"], 'GradientBoostingRegressor': [0.4423980411011112, \"{'max_depth': 3, 'loss': 'squared_error', 'n_estimators': 100, 'learning_rate': 0.1, 'min_impurity_decrease': 0.1}\"], 'RandomForestRegressor': [0.4886696185113259, \"{'max_depth': 20, 'min_samples_split': 2, 'min_samples_leaf': 1, 'min_impurity_decrease': 0, 'n_estimators': 100}\"], 'DecisionTreeRegressor': [0.5852374568905848, \"{'max_depth': 10, 'min_samples_split': 5, 'min_samples_leaf': 4, 'min_impurity_decrease': 0, 'splitter': 'random', 'criterion': 'poisson'}\"], 'LinearRegression': [1.073240982224002, '{}']}\n",
      "{'GradientBoostingClassifier': [0.8000508130081301, \"{'max_depth': 7, 'loss': 'exponential', 'n_estimators': 100, 'learning_rate': 1.0, 'min_impurity_decrease': 0.1}\"], 'MLPClassifier': [0.7848069105691057, \"{'hidden_layer_sizes': (50, 50), 'activation': 'tanh', 'alpha': 0.01, 'max_iter': 1000, 'solver': 'sgd'}\"], 'XGBClassifier': [0.7780741869918699, \"{'max_depth': 5, 'eta': 0.1, 'gamma': 0}\"], 'RandomForestClassifier': [0.7572408536585366, \"{'max_depth': 20, 'min_samples_split': 10, 'min_samples_leaf': 4, 'min_impurity_decrease': 0, 'n_estimators': 10}\"], 'SVC': [0.7566056910569106, \"{'C': 1, 'kernel': 'poly', 'gamma': 0.1}\"], 'LogisticRegression': [0.7486026422764227, \"{'C': 0.1, 'penalty': 'l2', 'solver': 'liblinear'}\"], 'DecisionTreeClassifier': [0.7484756097560976, \"{'max_depth': 10, 'min_samples_split': 2, 'min_samples_leaf': 4, 'min_impurity_decrease': 0, 'criterion': 'gini', 'splitter': 'best'}\"]}\n",
      "{'RandomForestRegressor': [0.4133075157442419, \"{'max_depth': 20, 'min_samples_split': 10, 'min_samples_leaf': 1, 'min_impurity_decrease': 0, 'n_estimators': 10}\"], 'SVR': [0.4144492845381169, \"{'C': 0.01, 'kernel': 'poly', 'epsilon': 0.1, 'gamma': 0.1}\"], 'GradientBoostingRegressor': [0.4212527721113082, \"{'max_depth': 7, 'loss': 'huber', 'n_estimators': 100, 'learning_rate': 0.1, 'min_impurity_decrease': 0.2}\"], 'MLPRegressor': [0.439810552466729, \"{'hidden_layer_sizes': (50,), 'activation': 'tanh', 'alpha': 0.01, 'max_iter': 200, 'solver': 'sgd'}\"], 'XGBRegressor': [0.4441052077530608, \"{'max_depth': None, 'eta': 0.1, 'gamma': 0}\"], 'DecisionTreeRegressor': [0.5566470912087783, \"{'max_depth': 20, 'min_samples_split': 5, 'min_samples_leaf': 4, 'min_impurity_decrease': 0, 'splitter': 'random', 'criterion': 'absolute_error'}\"], 'LinearRegression': [8.196392097841139, '{}']}\n"
     ]
    }
   ],
   "source": [
    "best_models[main_datasets[0]]"
   ]
  },
  {
   "cell_type": "code",
   "execution_count": null,
   "metadata": {},
   "outputs": [],
   "source": [
    "best_models[main_datasets[1]]"
   ]
  },
  {
   "cell_type": "code",
   "execution_count": null,
   "metadata": {},
   "outputs": [],
   "source": [
    "best_models[main_datasets[2]]"
   ]
  },
  {
   "cell_type": "code",
   "execution_count": null,
   "metadata": {},
   "outputs": [],
   "source": [
    "best_models[main_datasets[3]]"
   ]
  },
  {
   "cell_type": "markdown",
   "metadata": {},
   "source": [
    "### "
   ]
  }
 ],
 "metadata": {
  "kernelspec": {
   "display_name": "Python 3",
   "language": "python",
   "name": "python3"
  },
  "language_info": {
   "codemirror_mode": {
    "name": "ipython",
    "version": 3
   },
   "file_extension": ".py",
   "mimetype": "text/x-python",
   "name": "python",
   "nbconvert_exporter": "python",
   "pygments_lexer": "ipython3",
   "version": "3.11.3"
  }
 },
 "nbformat": 4,
 "nbformat_minor": 2
}
