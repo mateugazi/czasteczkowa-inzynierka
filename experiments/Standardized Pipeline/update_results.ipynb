{
 "cells": [
  {
   "cell_type": "code",
   "execution_count": 26,
   "metadata": {},
   "outputs": [],
   "source": [
    "import pandas as pd\n",
    "import numpy as np\n",
    "import os\n",
    "\n",
    "from itertools import product\n",
    "\n",
    "import Finalized_pipeline\n",
    "\n",
    "import seaborn as sns\n",
    "import matplotlib.pyplot as plt"
   ]
  },
  {
   "cell_type": "code",
   "execution_count": 27,
   "metadata": {},
   "outputs": [
    {
     "name": "stdout",
     "output_type": "stream",
     "text": [
      "(59303, 14)\n",
      "(100, 15)\n",
      "(100, 14)\n",
      "(59403, 14)\n",
      "(59303, 14)\n",
      "(78473, 12)\n",
      "(100, 13)\n",
      "(100, 12)\n",
      "(78573, 12)\n",
      "(78473, 12)\n",
      "(58217, 14)\n",
      "(100, 15)\n",
      "(100, 14)\n",
      "(58317, 14)\n",
      "(58228, 14)\n",
      "(72542, 12)\n",
      "(100, 13)\n",
      "(100, 12)\n",
      "(72642, 12)\n",
      "(72538, 12)\n"
     ]
    }
   ],
   "source": [
    "main_datasets = [\"BACE_class\", \"BACE_regre\", \"ROR_class\", \"ROR_regre\"]\n",
    "for dataset in main_datasets:\n",
    "    df = pd.read_csv(r\"Merged runs/Old merged/\" + dataset + \".csv\")\n",
    "    print(df.shape)\n",
    "    rerun_df = pd.read_csv(r\"RERUN_0.8_top_100/RERUN_\" + dataset + \".csv\")\n",
    "    print(rerun_df.shape)\n",
    "    if \"Unnamed: 0\" in rerun_df.columns:\n",
    "        rerun_df.drop([\"Unnamed: 0\"], axis=1, inplace=True)\n",
    "    print(rerun_df.shape)\n",
    "\n",
    "    df = pd.concat([df, rerun_df])\n",
    "    print(df.shape)\n",
    "\n",
    "    df.drop_duplicates(subset=[\"model\", \"hyperparams\", \"split\", \"preprocessing\"], keep=\"last\", inplace=True)\n",
    "    \n",
    "    if \"mse\" in df.columns:\n",
    "        df.sort_values(by=['mse'], inplace=True)\n",
    "    else:\n",
    "        df.sort_values(by=['roc_auc'], inplace=True, ascending=False)\n",
    "    print(df.shape)\n",
    "    df.to_csv(r\"Merged runs/\" + dataset + \".csv\")"
   ]
  }
 ],
 "metadata": {
  "kernelspec": {
   "display_name": "Python 3",
   "language": "python",
   "name": "python3"
  },
  "language_info": {
   "codemirror_mode": {
    "name": "ipython",
    "version": 3
   },
   "file_extension": ".py",
   "mimetype": "text/x-python",
   "name": "python",
   "nbconvert_exporter": "python",
   "pygments_lexer": "ipython3",
   "version": "3.11.3"
  }
 },
 "nbformat": 4,
 "nbformat_minor": 2
}
