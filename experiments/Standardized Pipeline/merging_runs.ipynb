{
 "cells": [
  {
   "cell_type": "code",
   "execution_count": 57,
   "metadata": {},
   "outputs": [],
   "source": [
    "import pandas as pd\n",
    "import numpy as np"
   ]
  },
  {
   "cell_type": "code",
   "execution_count": 58,
   "metadata": {},
   "outputs": [],
   "source": [
    "def get_correct_dataframe(path, extra_column=\"\", extra_column_value=\"\"):\n",
    "    with open(path, \"r\") as f:\n",
    "        contents = f.readlines()\n",
    "    if contents[1][-2] == \"}\":\n",
    "        unfinished = True\n",
    "    else:\n",
    "        unfinished = False\n",
    "    if unfinished:\n",
    "        columns = contents[0].split(\",\")\n",
    "        columns[-1] = columns[-1][:-1]\n",
    "        data = {}\n",
    "        for index, key in enumerate(contents[0].split(\",\")):\n",
    "            if index == len(contents[0].split(\",\")) - 1:\n",
    "                key = key[:-1]\n",
    "            data[key] = []\n",
    "        for row in contents[1:]:\n",
    "            parameters = \"{\" + row.split(\"{\")[1][:-1]\n",
    "            data[\"hyperparams\"].append(parameters)\n",
    "\n",
    "            elements = row.split(\"{\")[0].split(\",\")[1:-1]\n",
    "            data[\"model\"].append(elements[-1])\n",
    "\n",
    "            for index, key in enumerate(list(data.keys())[2:]):\n",
    "                data[key].append(float(elements[index]))\n",
    "\n",
    "        df = pd.DataFrame(data)\n",
    "    else:\n",
    "        df = pd.read_csv(path)\n",
    "        df.drop(\"Unnamed: 0\", axis=1, inplace=True)\n",
    "    \n",
    "    if extra_column != \"\":\n",
    "        df[extra_column] = extra_column_value\n",
    "    return df"
   ]
  },
  {
   "cell_type": "code",
   "execution_count": 59,
   "metadata": {},
   "outputs": [
    {
     "name": "stdout",
     "output_type": "stream",
     "text": [
      "['0.1', '0.2', '0.3', '0.4', '0.5', '0.6', '0.7', '0.8', '0.9']\n"
     ]
    }
   ],
   "source": [
    "file_paths = []\n",
    "\n",
    "file_paths.append(r\"C:\\Users\\wojci\\Pulpit\\inzynierka-asia\\01_split\\Asia_split0.1_bace_classification_run.csv\")\n",
    "file_paths.append(r\"C:\\Users\\wojci\\Pulpit\\inzynierka-asia\\02_split\\Asia_split0.2_bace_classification_run.csv\")\n",
    "file_paths.append(r\"C:\\Users\\wojci\\Documents\\GitHub\\czasteczkowa-inzynierka\\experiments\\Standardized Pipeline\\Merged runs\\Descriptors_bace_classification_3.csv\")\n",
    "file_paths.append(r\"C:\\Users\\wojci\\Documents\\GitHub\\czasteczkowa-inzynierka\\experiments\\Standardized Pipeline\\Merged runs\\Descriptors_bace_classification_4.csv\")\n",
    "file_paths.append(r\"C:\\Users\\wojci\\Documents\\GitHub\\czasteczkowa-inzynierka\\experiments\\Standardized Pipeline\\Merged runs\\Descriptors_bace_classification_5.csv\")\n",
    "file_paths.append(r\"C:\\Users\\wojci\\Documents\\GitHub\\czasteczkowa-inzynierka\\experiments\\Standardized Pipeline\\Merged runs\\Descriptors_bace_classification_6.csv\")\n",
    "file_paths.append(r\"C:\\Users\\wojci\\Documents\\GitHub\\czasteczkowa-inzynierka\\experiments\\Standardized Pipeline\\Merged runs\\Descriptors_bace_classification_7.csv\")\n",
    "file_paths.append(r\"C:\\Users\\wojci\\Documents\\GitHub\\czasteczkowa-inzynierka\\experiments\\Standardized Pipeline\\Merged runs\\Descriptors_bace_classification_8.csv\")\n",
    "file_paths.append(r\"C:\\Users\\wojci\\Documents\\GitHub\\czasteczkowa-inzynierka\\experiments\\Standardized Pipeline\\Merged runs\\Descriptors_bace_classification_9.csv\")\n",
    "\n",
    "out_path = r\"C:\\Users\\wojci\\Documents\\GitHub\\czasteczkowa-inzynierka\\experiments\\Standardized Pipeline\\Merged runs\\Descriptors_bace_classification_merged.csv\"\n",
    "\n",
    "extra_column = \"split\"\n",
    "#extra_column_values = [\"0.1\", \"0.2\"]\n",
    "extra_column_values = [\"0.\" + str(i+1) for i in range(len(file_paths))]\n",
    "print(extra_column_values)\n",
    "\n",
    "#file_paths.append(r\"C:\\Users\\wojci\\Pulpit\\inzynierka-asia\\09_split\\Asia_split0.9_bace_classification_run_nogb.csv\")\n",
    "#file_paths.append(r\"C:\\Users\\wojci\\Pulpit\\inzynierka-asia\\09_split\\Asia_split0.9_bace_classification_run_nogb (1).csv\")\n",
    "#file_paths.append(r\"C:\\Users\\wojci\\Pulpit\\inzynierka-asia\\09_split\\Asia_split0.9_bace_classification_run_onlygb.csv\")\n",
    "#file_paths.append(r\"C:\\Users\\wojci\\Pulpit\\inzynierka-asia\\09_split\\Asia_split0.9_bace_classification_run_onlygb_wchujutegononeamam.csv\")\n",
    "#\n",
    "#out_path = r\"C:\\Users\\wojci\\Documents\\GitHub\\czasteczkowa-inzynierka\\experiments\\Standardized Pipeline\\Merged runs\\Descriptors_bace_classification_9.csv\"\n",
    "\n",
    "extra_column = \"\""
   ]
  },
  {
   "cell_type": "code",
   "execution_count": 60,
   "metadata": {},
   "outputs": [
    {
     "name": "stdout",
     "output_type": "stream",
     "text": [
      "(2127, 13)\n",
      "(2031, 13) (2127, 13)\n",
      "(2043, 12) (2127, 13)\n",
      "(2127, 12) (2127, 13)\n",
      "(1973, 13) (2127, 13)\n",
      "(2031, 13) (2127, 13)\n",
      "(2094, 12) (2127, 13)\n",
      "(2265, 12) (2295, 13)\n",
      "(1989, 12) (2295, 13)\n"
     ]
    }
   ],
   "source": [
    "for i, file_path in enumerate(file_paths):\n",
    "    if i == 0:\n",
    "        if extra_column != \"\":\n",
    "            df = get_correct_dataframe(file_path, extra_column, extra_column_values[i])\n",
    "        else:\n",
    "            df = get_correct_dataframe(file_path)\n",
    "        print(df.shape)\n",
    "    else:\n",
    "        if extra_column != \"\":\n",
    "            df1 = get_correct_dataframe(file_path, extra_column, extra_column_values[i])\n",
    "        else:\n",
    "            df1 = get_correct_dataframe(file_path)\n",
    "        df = pd.concat([df, df1])\n",
    "        \n",
    "        if extra_column == \"\":\n",
    "            df.drop_duplicates(subset=['hyperparams'], inplace=True, keep='last')\n",
    "        print(df1.shape, df.shape)\n",
    "df.to_csv(out_path)"
   ]
  }
 ],
 "metadata": {
  "kernelspec": {
   "display_name": "Python 3",
   "language": "python",
   "name": "python3"
  },
  "language_info": {
   "codemirror_mode": {
    "name": "ipython",
    "version": 3
   },
   "file_extension": ".py",
   "mimetype": "text/x-python",
   "name": "python",
   "nbconvert_exporter": "python",
   "pygments_lexer": "ipython3",
   "version": "3.11.3"
  }
 },
 "nbformat": 4,
 "nbformat_minor": 2
}
