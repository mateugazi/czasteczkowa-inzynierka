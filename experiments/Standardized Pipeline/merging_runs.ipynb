{
 "cells": [
  {
   "cell_type": "code",
   "execution_count": 214,
   "metadata": {},
   "outputs": [],
   "source": [
    "import pandas as pd\n",
    "import numpy as np"
   ]
  },
  {
   "cell_type": "code",
   "execution_count": 215,
   "metadata": {},
   "outputs": [],
   "source": [
    "def get_correct_dataframe(path):\n",
    "    with open(path, \"r\") as f:\n",
    "        contents = f.readlines()\n",
    "    if contents[1][-2] == \"}\":\n",
    "        unfinished = True\n",
    "    else:\n",
    "        unfinished = False\n",
    "    if unfinished:\n",
    "        columns = contents[0].split(\",\")\n",
    "        columns[-1] = columns[-1][:-1]\n",
    "        data = {}\n",
    "        for index, key in enumerate(contents[0].split(\",\")):\n",
    "            if index == len(contents[0].split(\",\")) - 1:\n",
    "                key = key[:-1]\n",
    "            data[key] = []\n",
    "        for row in contents[1:]:\n",
    "            parameters = \"{\" + row.split(\"{\")[1][:-1]\n",
    "            data[\"hyperparams\"].append(parameters)\n",
    "\n",
    "            elements = row.split(\"{\")[0].split(\",\")[1:-1]\n",
    "            data[\"model\"].append(elements[-1])\n",
    "\n",
    "            for index, key in enumerate(list(data.keys())[2:]):\n",
    "                data[key].append(float(elements[index]))\n",
    "\n",
    "        df = pd.DataFrame(data)\n",
    "        return df\n",
    "    df = pd.read_csv(path)\n",
    "    df.drop(\"Unnamed: 0\", axis=1, inplace=True)\n",
    "    return df"
   ]
  },
  {
   "cell_type": "code",
   "execution_count": 216,
   "metadata": {},
   "outputs": [],
   "source": [
    "file_path = r\"C:\\Users\\wojci\\Documents\\GitHub\\czasteczkowa-inzynierka\\experiments\\Standardized Pipeline\\Asia_split0.7_ROR__regression_run.csv\""
   ]
  },
  {
   "cell_type": "code",
   "execution_count": 217,
   "metadata": {},
   "outputs": [],
   "source": [
    "file_path1 = r\"C:\\Users\\wojci\\Documents\\GitHub\\czasteczkowa-inzynierka\\experiments\\Standardized Pipeline\\Asia_split0.7_ROR__regression_run (1).csv\""
   ]
  },
  {
   "cell_type": "code",
   "execution_count": 218,
   "metadata": {},
   "outputs": [
    {
     "name": "stdout",
     "output_type": "stream",
     "text": [
      "(108, 10)\n",
      "(190, 10)\n"
     ]
    }
   ],
   "source": [
    "df = get_correct_dataframe(file_path)\n",
    "df1 = get_correct_dataframe(file_path1)\n",
    "print(df.shape)\n",
    "print(df1.shape)"
   ]
  },
  {
   "cell_type": "code",
   "execution_count": 219,
   "metadata": {},
   "outputs": [
    {
     "data": {
      "text/plain": [
       "(298, 10)"
      ]
     },
     "execution_count": 219,
     "metadata": {},
     "output_type": "execute_result"
    }
   ],
   "source": [
    "df_res = pd.concat([df, df1])\n",
    "df_res.shape"
   ]
  },
  {
   "cell_type": "code",
   "execution_count": 220,
   "metadata": {},
   "outputs": [],
   "source": [
    "file_path2 = r\"C:\\Users\\wojci\\Documents\\GitHub\\czasteczkowa-inzynierka\\experiments\\Standardized Pipeline\\Asia_split0.7_ROR__regression_run (2).csv\""
   ]
  },
  {
   "cell_type": "code",
   "execution_count": 221,
   "metadata": {},
   "outputs": [],
   "source": [
    "df2 = get_correct_dataframe(file_path2)"
   ]
  },
  {
   "cell_type": "code",
   "execution_count": 222,
   "metadata": {},
   "outputs": [
    {
     "data": {
      "text/plain": [
       "(442, 10)"
      ]
     },
     "execution_count": 222,
     "metadata": {},
     "output_type": "execute_result"
    }
   ],
   "source": [
    "df_res = pd.concat([df_res, df2])\n",
    "df_res.drop_duplicates(subset=['hyperparams'], inplace=True)\n",
    "df_res.shape"
   ]
  },
  {
   "cell_type": "code",
   "execution_count": 223,
   "metadata": {},
   "outputs": [],
   "source": [
    "df_res.to_csv(r\"C:\\Users\\wojci\\Documents\\GitHub\\czasteczkowa-inzynierka\\experiments\\Standardized Pipeline\\Asia_split0.7_ROR__regression_GradientBoost.csv\")"
   ]
  }
 ],
 "metadata": {
  "kernelspec": {
   "display_name": "Python 3",
   "language": "python",
   "name": "python3"
  },
  "language_info": {
   "codemirror_mode": {
    "name": "ipython",
    "version": 3
   },
   "file_extension": ".py",
   "mimetype": "text/x-python",
   "name": "python",
   "nbconvert_exporter": "python",
   "pygments_lexer": "ipython3",
   "version": "3.11.3"
  }
 },
 "nbformat": 4,
 "nbformat_minor": 2
}
