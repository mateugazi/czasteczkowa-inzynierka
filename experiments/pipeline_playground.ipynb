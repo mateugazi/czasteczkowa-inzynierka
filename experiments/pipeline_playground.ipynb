{
 "cells": [
  {
   "cell_type": "code",
   "execution_count": 14,
   "metadata": {},
   "outputs": [],
   "source": [
    "import pandas as pd\n",
    "import numpy as np\n",
    "import operator\n",
    "from itertools import combinations\n",
    "import matplotlib.pyplot as plt\n",
    "from collections import Counter\n",
    "\n",
    "import time\n",
    "\n",
    "from sklearn.decomposition import PCA\n",
    "from sklearn.preprocessing import StandardScaler\n",
    "\n",
    "from rdkit import Chem\n",
    "from rdkit import DataStructs\n",
    "from rdkit.Chem.Draw import IPythonConsole\n",
    "from rdkit.Chem import Draw\n",
    "from rdkit.Chem import AllChem\n",
    "from rdkit.six import StringIO\n",
    "IPythonConsole.ipython_useSVG=True\n",
    "\n",
    "\n"
   ]
  },
  {
   "cell_type": "code",
   "execution_count": 15,
   "metadata": {},
   "outputs": [],
   "source": [
    "%matplotlib inline\n",
    "from matplotlib import pyplot as plt\n",
    "from sklearn.pipeline import Pipeline\n",
    "from sklearn.preprocessing import StandardScaler\n",
    "from sklearn.decomposition import PCA\n",
    "from sklearn.model_selection import train_test_split\n",
    "from sklearn.linear_model import LassoCV\n",
    "from sklearn.metrics import r2_score, mean_absolute_error\n",
    "from rdkit import Chem\n",
    "import pandas as pd\n",
    "import numpy as np"
   ]
  },
  {
   "cell_type": "code",
   "execution_count": 16,
   "metadata": {},
   "outputs": [],
   "source": [
    "np.random.seed(148260)"
   ]
  },
  {
   "cell_type": "code",
   "execution_count": 17,
   "metadata": {},
   "outputs": [],
   "source": [
    "df = pd.read_csv(\n",
    "    'https://raw.githubusercontent.com/mateugazi/czasteczkowa-inzynierka/main/data/processed/smiles_aggregated.csv'\n",
    "    )"
   ]
  },
  {
   "cell_type": "code",
   "execution_count": 18,
   "metadata": {},
   "outputs": [
    {
     "data": {
      "text/html": [
       "<div>\n",
       "<style scoped>\n",
       "    .dataframe tbody tr th:only-of-type {\n",
       "        vertical-align: middle;\n",
       "    }\n",
       "\n",
       "    .dataframe tbody tr th {\n",
       "        vertical-align: top;\n",
       "    }\n",
       "\n",
       "    .dataframe thead th {\n",
       "        text-align: right;\n",
       "    }\n",
       "</style>\n",
       "<table border=\"1\" class=\"dataframe\">\n",
       "  <thead>\n",
       "    <tr style=\"text-align: right;\">\n",
       "      <th></th>\n",
       "      <th>mol</th>\n",
       "      <th>CID</th>\n",
       "      <th>Class</th>\n",
       "      <th>Model</th>\n",
       "      <th>pIC50</th>\n",
       "      <th>MW</th>\n",
       "      <th>AlogP</th>\n",
       "      <th>HBA</th>\n",
       "      <th>HBD</th>\n",
       "      <th>RB</th>\n",
       "      <th>...</th>\n",
       "      <th>PEOE6 (PEOE6)</th>\n",
       "      <th>PEOE7 (PEOE7)</th>\n",
       "      <th>PEOE8 (PEOE8)</th>\n",
       "      <th>PEOE9 (PEOE9)</th>\n",
       "      <th>PEOE10 (PEOE10)</th>\n",
       "      <th>PEOE11 (PEOE11)</th>\n",
       "      <th>PEOE12 (PEOE12)</th>\n",
       "      <th>PEOE13 (PEOE13)</th>\n",
       "      <th>PEOE14 (PEOE14)</th>\n",
       "      <th>canvasUID</th>\n",
       "    </tr>\n",
       "  </thead>\n",
       "  <tbody>\n",
       "    <tr>\n",
       "      <th>0</th>\n",
       "      <td>O1CC[C@@H](NC(=O)[C@@H](Cc2cc3cc(ccc3nc2N)-c2c...</td>\n",
       "      <td>BACE_1</td>\n",
       "      <td>1</td>\n",
       "      <td>Train</td>\n",
       "      <td>9.154901</td>\n",
       "      <td>431.56979</td>\n",
       "      <td>4.4014</td>\n",
       "      <td>3</td>\n",
       "      <td>2</td>\n",
       "      <td>5</td>\n",
       "      <td>...</td>\n",
       "      <td>53.205711</td>\n",
       "      <td>78.640335</td>\n",
       "      <td>226.85541</td>\n",
       "      <td>107.43491</td>\n",
       "      <td>37.133846</td>\n",
       "      <td>0.000000</td>\n",
       "      <td>7.980170</td>\n",
       "      <td>0.0</td>\n",
       "      <td>0.000000</td>\n",
       "      <td>1</td>\n",
       "    </tr>\n",
       "    <tr>\n",
       "      <th>1</th>\n",
       "      <td>Fc1cc(cc(F)c1)C[C@H](NC(=O)[C@@H](N1CC[C@](NC(...</td>\n",
       "      <td>BACE_2</td>\n",
       "      <td>1</td>\n",
       "      <td>Train</td>\n",
       "      <td>8.853872</td>\n",
       "      <td>657.81073</td>\n",
       "      <td>2.6412</td>\n",
       "      <td>5</td>\n",
       "      <td>4</td>\n",
       "      <td>16</td>\n",
       "      <td>...</td>\n",
       "      <td>73.817162</td>\n",
       "      <td>47.171600</td>\n",
       "      <td>365.67694</td>\n",
       "      <td>174.07675</td>\n",
       "      <td>34.923889</td>\n",
       "      <td>7.980170</td>\n",
       "      <td>24.148668</td>\n",
       "      <td>0.0</td>\n",
       "      <td>24.663788</td>\n",
       "      <td>2</td>\n",
       "    </tr>\n",
       "    <tr>\n",
       "      <th>2</th>\n",
       "      <td>S1(=O)(=O)N(c2cc(cc3c2n(cc3CC)CC1)C(=O)N[C@H](...</td>\n",
       "      <td>BACE_3</td>\n",
       "      <td>1</td>\n",
       "      <td>Train</td>\n",
       "      <td>8.698970</td>\n",
       "      <td>591.74091</td>\n",
       "      <td>2.5499</td>\n",
       "      <td>4</td>\n",
       "      <td>3</td>\n",
       "      <td>11</td>\n",
       "      <td>...</td>\n",
       "      <td>70.365707</td>\n",
       "      <td>47.941147</td>\n",
       "      <td>192.40652</td>\n",
       "      <td>255.75255</td>\n",
       "      <td>23.654478</td>\n",
       "      <td>0.230159</td>\n",
       "      <td>15.879790</td>\n",
       "      <td>0.0</td>\n",
       "      <td>24.663788</td>\n",
       "      <td>3</td>\n",
       "    </tr>\n",
       "    <tr>\n",
       "      <th>3</th>\n",
       "      <td>S1(=O)(=O)C[C@@H](Cc2cc(O[C@H](COCC)C(F)(F)F)c...</td>\n",
       "      <td>BACE_4</td>\n",
       "      <td>1</td>\n",
       "      <td>Train</td>\n",
       "      <td>8.698970</td>\n",
       "      <td>591.67828</td>\n",
       "      <td>3.1680</td>\n",
       "      <td>4</td>\n",
       "      <td>3</td>\n",
       "      <td>12</td>\n",
       "      <td>...</td>\n",
       "      <td>56.657166</td>\n",
       "      <td>37.954151</td>\n",
       "      <td>194.35304</td>\n",
       "      <td>202.76335</td>\n",
       "      <td>36.498634</td>\n",
       "      <td>0.980913</td>\n",
       "      <td>8.188327</td>\n",
       "      <td>0.0</td>\n",
       "      <td>26.385181</td>\n",
       "      <td>4</td>\n",
       "    </tr>\n",
       "    <tr>\n",
       "      <th>4</th>\n",
       "      <td>S1(=O)(=O)N(c2cc(cc3c2n(cc3CC)CC1)C(=O)N[C@H](...</td>\n",
       "      <td>BACE_5</td>\n",
       "      <td>1</td>\n",
       "      <td>Train</td>\n",
       "      <td>8.698970</td>\n",
       "      <td>629.71283</td>\n",
       "      <td>3.5086</td>\n",
       "      <td>3</td>\n",
       "      <td>3</td>\n",
       "      <td>11</td>\n",
       "      <td>...</td>\n",
       "      <td>78.945702</td>\n",
       "      <td>39.361153</td>\n",
       "      <td>179.71288</td>\n",
       "      <td>220.46130</td>\n",
       "      <td>23.654478</td>\n",
       "      <td>0.230159</td>\n",
       "      <td>15.879790</td>\n",
       "      <td>0.0</td>\n",
       "      <td>26.100143</td>\n",
       "      <td>5</td>\n",
       "    </tr>\n",
       "  </tbody>\n",
       "</table>\n",
       "<p>5 rows × 595 columns</p>\n",
       "</div>"
      ],
      "text/plain": [
       "                                                 mol     CID  Class  Model   \n",
       "0  O1CC[C@@H](NC(=O)[C@@H](Cc2cc3cc(ccc3nc2N)-c2c...  BACE_1      1  Train  \\\n",
       "1  Fc1cc(cc(F)c1)C[C@H](NC(=O)[C@@H](N1CC[C@](NC(...  BACE_2      1  Train   \n",
       "2  S1(=O)(=O)N(c2cc(cc3c2n(cc3CC)CC1)C(=O)N[C@H](...  BACE_3      1  Train   \n",
       "3  S1(=O)(=O)C[C@@H](Cc2cc(O[C@H](COCC)C(F)(F)F)c...  BACE_4      1  Train   \n",
       "4  S1(=O)(=O)N(c2cc(cc3c2n(cc3CC)CC1)C(=O)N[C@H](...  BACE_5      1  Train   \n",
       "\n",
       "      pIC50         MW   AlogP  HBA  HBD  RB  ...  PEOE6 (PEOE6)   \n",
       "0  9.154901  431.56979  4.4014    3    2   5  ...      53.205711  \\\n",
       "1  8.853872  657.81073  2.6412    5    4  16  ...      73.817162   \n",
       "2  8.698970  591.74091  2.5499    4    3  11  ...      70.365707   \n",
       "3  8.698970  591.67828  3.1680    4    3  12  ...      56.657166   \n",
       "4  8.698970  629.71283  3.5086    3    3  11  ...      78.945702   \n",
       "\n",
       "   PEOE7 (PEOE7)  PEOE8 (PEOE8)  PEOE9 (PEOE9)  PEOE10 (PEOE10)   \n",
       "0      78.640335      226.85541      107.43491        37.133846  \\\n",
       "1      47.171600      365.67694      174.07675        34.923889   \n",
       "2      47.941147      192.40652      255.75255        23.654478   \n",
       "3      37.954151      194.35304      202.76335        36.498634   \n",
       "4      39.361153      179.71288      220.46130        23.654478   \n",
       "\n",
       "   PEOE11 (PEOE11)  PEOE12 (PEOE12)  PEOE13 (PEOE13)  PEOE14 (PEOE14)   \n",
       "0         0.000000         7.980170              0.0         0.000000  \\\n",
       "1         7.980170        24.148668              0.0        24.663788   \n",
       "2         0.230159        15.879790              0.0        24.663788   \n",
       "3         0.980913         8.188327              0.0        26.385181   \n",
       "4         0.230159        15.879790              0.0        26.100143   \n",
       "\n",
       "   canvasUID  \n",
       "0          1  \n",
       "1          2  \n",
       "2          3  \n",
       "3          4  \n",
       "4          5  \n",
       "\n",
       "[5 rows x 595 columns]"
      ]
     },
     "execution_count": 18,
     "metadata": {},
     "output_type": "execute_result"
    }
   ],
   "source": [
    "df.head()"
   ]
  },
  {
   "cell_type": "code",
   "execution_count": 19,
   "metadata": {},
   "outputs": [
    {
     "data": {
      "text/plain": [
       "Index(['mol', 'CID', 'Class', 'Model', 'pIC50', 'MW', 'AlogP', 'HBA', 'HBD',\n",
       "       'RB',\n",
       "       ...\n",
       "       'PEOE6 (PEOE6)', 'PEOE7 (PEOE7)', 'PEOE8 (PEOE8)', 'PEOE9 (PEOE9)',\n",
       "       'PEOE10 (PEOE10)', 'PEOE11 (PEOE11)', 'PEOE12 (PEOE12)',\n",
       "       'PEOE13 (PEOE13)', 'PEOE14 (PEOE14)', 'canvasUID'],\n",
       "      dtype='object', length=595)"
      ]
     },
     "execution_count": 19,
     "metadata": {},
     "output_type": "execute_result"
    }
   ],
   "source": [
    "df.columns"
   ]
  },
  {
   "cell_type": "code",
   "execution_count": 20,
   "metadata": {},
   "outputs": [],
   "source": [
    "df['mol_from_smiles'] = df['mol'].apply(Chem.MolFromSmiles)"
   ]
  },
  {
   "cell_type": "code",
   "execution_count": 21,
   "metadata": {},
   "outputs": [
    {
     "data": {
      "text/html": [
       "<div>\n",
       "<style scoped>\n",
       "    .dataframe tbody tr th:only-of-type {\n",
       "        vertical-align: middle;\n",
       "    }\n",
       "\n",
       "    .dataframe tbody tr th {\n",
       "        vertical-align: top;\n",
       "    }\n",
       "\n",
       "    .dataframe thead th {\n",
       "        text-align: right;\n",
       "    }\n",
       "</style>\n",
       "<table border=\"1\" class=\"dataframe\">\n",
       "  <thead>\n",
       "    <tr style=\"text-align: right;\">\n",
       "      <th></th>\n",
       "      <th>mol</th>\n",
       "      <th>CID</th>\n",
       "      <th>Class</th>\n",
       "      <th>Model</th>\n",
       "      <th>pIC50</th>\n",
       "      <th>MW</th>\n",
       "      <th>AlogP</th>\n",
       "      <th>HBA</th>\n",
       "      <th>HBD</th>\n",
       "      <th>RB</th>\n",
       "      <th>...</th>\n",
       "      <th>PEOE7 (PEOE7)</th>\n",
       "      <th>PEOE8 (PEOE8)</th>\n",
       "      <th>PEOE9 (PEOE9)</th>\n",
       "      <th>PEOE10 (PEOE10)</th>\n",
       "      <th>PEOE11 (PEOE11)</th>\n",
       "      <th>PEOE12 (PEOE12)</th>\n",
       "      <th>PEOE13 (PEOE13)</th>\n",
       "      <th>PEOE14 (PEOE14)</th>\n",
       "      <th>canvasUID</th>\n",
       "      <th>mol_from_smiles</th>\n",
       "    </tr>\n",
       "  </thead>\n",
       "  <tbody>\n",
       "    <tr>\n",
       "      <th>0</th>\n",
       "      <td>O1CC[C@@H](NC(=O)[C@@H](Cc2cc3cc(ccc3nc2N)-c2c...</td>\n",
       "      <td>BACE_1</td>\n",
       "      <td>1</td>\n",
       "      <td>Train</td>\n",
       "      <td>9.154901</td>\n",
       "      <td>431.56979</td>\n",
       "      <td>4.4014</td>\n",
       "      <td>3</td>\n",
       "      <td>2</td>\n",
       "      <td>5</td>\n",
       "      <td>...</td>\n",
       "      <td>78.640335</td>\n",
       "      <td>226.85541</td>\n",
       "      <td>107.43491</td>\n",
       "      <td>37.133846</td>\n",
       "      <td>0.000000</td>\n",
       "      <td>7.980170</td>\n",
       "      <td>0.0</td>\n",
       "      <td>0.000000</td>\n",
       "      <td>1</td>\n",
       "      <td>&lt;rdkit.Chem.rdchem.Mol object at 0x000002A2F08...</td>\n",
       "    </tr>\n",
       "    <tr>\n",
       "      <th>1</th>\n",
       "      <td>Fc1cc(cc(F)c1)C[C@H](NC(=O)[C@@H](N1CC[C@](NC(...</td>\n",
       "      <td>BACE_2</td>\n",
       "      <td>1</td>\n",
       "      <td>Train</td>\n",
       "      <td>8.853872</td>\n",
       "      <td>657.81073</td>\n",
       "      <td>2.6412</td>\n",
       "      <td>5</td>\n",
       "      <td>4</td>\n",
       "      <td>16</td>\n",
       "      <td>...</td>\n",
       "      <td>47.171600</td>\n",
       "      <td>365.67694</td>\n",
       "      <td>174.07675</td>\n",
       "      <td>34.923889</td>\n",
       "      <td>7.980170</td>\n",
       "      <td>24.148668</td>\n",
       "      <td>0.0</td>\n",
       "      <td>24.663788</td>\n",
       "      <td>2</td>\n",
       "      <td>&lt;rdkit.Chem.rdchem.Mol object at 0x000002A2F06...</td>\n",
       "    </tr>\n",
       "    <tr>\n",
       "      <th>2</th>\n",
       "      <td>S1(=O)(=O)N(c2cc(cc3c2n(cc3CC)CC1)C(=O)N[C@H](...</td>\n",
       "      <td>BACE_3</td>\n",
       "      <td>1</td>\n",
       "      <td>Train</td>\n",
       "      <td>8.698970</td>\n",
       "      <td>591.74091</td>\n",
       "      <td>2.5499</td>\n",
       "      <td>4</td>\n",
       "      <td>3</td>\n",
       "      <td>11</td>\n",
       "      <td>...</td>\n",
       "      <td>47.941147</td>\n",
       "      <td>192.40652</td>\n",
       "      <td>255.75255</td>\n",
       "      <td>23.654478</td>\n",
       "      <td>0.230159</td>\n",
       "      <td>15.879790</td>\n",
       "      <td>0.0</td>\n",
       "      <td>24.663788</td>\n",
       "      <td>3</td>\n",
       "      <td>&lt;rdkit.Chem.rdchem.Mol object at 0x000002A2F06...</td>\n",
       "    </tr>\n",
       "    <tr>\n",
       "      <th>3</th>\n",
       "      <td>S1(=O)(=O)C[C@@H](Cc2cc(O[C@H](COCC)C(F)(F)F)c...</td>\n",
       "      <td>BACE_4</td>\n",
       "      <td>1</td>\n",
       "      <td>Train</td>\n",
       "      <td>8.698970</td>\n",
       "      <td>591.67828</td>\n",
       "      <td>3.1680</td>\n",
       "      <td>4</td>\n",
       "      <td>3</td>\n",
       "      <td>12</td>\n",
       "      <td>...</td>\n",
       "      <td>37.954151</td>\n",
       "      <td>194.35304</td>\n",
       "      <td>202.76335</td>\n",
       "      <td>36.498634</td>\n",
       "      <td>0.980913</td>\n",
       "      <td>8.188327</td>\n",
       "      <td>0.0</td>\n",
       "      <td>26.385181</td>\n",
       "      <td>4</td>\n",
       "      <td>&lt;rdkit.Chem.rdchem.Mol object at 0x000002A2F06...</td>\n",
       "    </tr>\n",
       "    <tr>\n",
       "      <th>4</th>\n",
       "      <td>S1(=O)(=O)N(c2cc(cc3c2n(cc3CC)CC1)C(=O)N[C@H](...</td>\n",
       "      <td>BACE_5</td>\n",
       "      <td>1</td>\n",
       "      <td>Train</td>\n",
       "      <td>8.698970</td>\n",
       "      <td>629.71283</td>\n",
       "      <td>3.5086</td>\n",
       "      <td>3</td>\n",
       "      <td>3</td>\n",
       "      <td>11</td>\n",
       "      <td>...</td>\n",
       "      <td>39.361153</td>\n",
       "      <td>179.71288</td>\n",
       "      <td>220.46130</td>\n",
       "      <td>23.654478</td>\n",
       "      <td>0.230159</td>\n",
       "      <td>15.879790</td>\n",
       "      <td>0.0</td>\n",
       "      <td>26.100143</td>\n",
       "      <td>5</td>\n",
       "      <td>&lt;rdkit.Chem.rdchem.Mol object at 0x000002A2F06...</td>\n",
       "    </tr>\n",
       "  </tbody>\n",
       "</table>\n",
       "<p>5 rows × 596 columns</p>\n",
       "</div>"
      ],
      "text/plain": [
       "                                                 mol     CID  Class  Model   \n",
       "0  O1CC[C@@H](NC(=O)[C@@H](Cc2cc3cc(ccc3nc2N)-c2c...  BACE_1      1  Train  \\\n",
       "1  Fc1cc(cc(F)c1)C[C@H](NC(=O)[C@@H](N1CC[C@](NC(...  BACE_2      1  Train   \n",
       "2  S1(=O)(=O)N(c2cc(cc3c2n(cc3CC)CC1)C(=O)N[C@H](...  BACE_3      1  Train   \n",
       "3  S1(=O)(=O)C[C@@H](Cc2cc(O[C@H](COCC)C(F)(F)F)c...  BACE_4      1  Train   \n",
       "4  S1(=O)(=O)N(c2cc(cc3c2n(cc3CC)CC1)C(=O)N[C@H](...  BACE_5      1  Train   \n",
       "\n",
       "      pIC50         MW   AlogP  HBA  HBD  RB  ...  PEOE7 (PEOE7)   \n",
       "0  9.154901  431.56979  4.4014    3    2   5  ...      78.640335  \\\n",
       "1  8.853872  657.81073  2.6412    5    4  16  ...      47.171600   \n",
       "2  8.698970  591.74091  2.5499    4    3  11  ...      47.941147   \n",
       "3  8.698970  591.67828  3.1680    4    3  12  ...      37.954151   \n",
       "4  8.698970  629.71283  3.5086    3    3  11  ...      39.361153   \n",
       "\n",
       "   PEOE8 (PEOE8)  PEOE9 (PEOE9)  PEOE10 (PEOE10)  PEOE11 (PEOE11)   \n",
       "0      226.85541      107.43491        37.133846         0.000000  \\\n",
       "1      365.67694      174.07675        34.923889         7.980170   \n",
       "2      192.40652      255.75255        23.654478         0.230159   \n",
       "3      194.35304      202.76335        36.498634         0.980913   \n",
       "4      179.71288      220.46130        23.654478         0.230159   \n",
       "\n",
       "   PEOE12 (PEOE12)  PEOE13 (PEOE13)  PEOE14 (PEOE14)  canvasUID   \n",
       "0         7.980170              0.0         0.000000          1  \\\n",
       "1        24.148668              0.0        24.663788          2   \n",
       "2        15.879790              0.0        24.663788          3   \n",
       "3         8.188327              0.0        26.385181          4   \n",
       "4        15.879790              0.0        26.100143          5   \n",
       "\n",
       "                                     mol_from_smiles  \n",
       "0  <rdkit.Chem.rdchem.Mol object at 0x000002A2F08...  \n",
       "1  <rdkit.Chem.rdchem.Mol object at 0x000002A2F06...  \n",
       "2  <rdkit.Chem.rdchem.Mol object at 0x000002A2F06...  \n",
       "3  <rdkit.Chem.rdchem.Mol object at 0x000002A2F06...  \n",
       "4  <rdkit.Chem.rdchem.Mol object at 0x000002A2F06...  \n",
       "\n",
       "[5 rows x 596 columns]"
      ]
     },
     "execution_count": 21,
     "metadata": {},
     "output_type": "execute_result"
    }
   ],
   "source": [
    "df.head()"
   ]
  },
  {
   "cell_type": "code",
   "execution_count": 22,
   "metadata": {},
   "outputs": [],
   "source": [
    "from mordred import Calculator, descriptors"
   ]
  },
  {
   "cell_type": "code",
   "execution_count": 23,
   "metadata": {},
   "outputs": [],
   "source": [
    "calc = Calculator(descriptors, ignore_3D=True)"
   ]
  },
  {
   "cell_type": "code",
   "execution_count": 24,
   "metadata": {},
   "outputs": [
    {
     "name": "stdout",
     "output_type": "stream",
     "text": [
      "First 10 out of 1613 descriptors\n"
     ]
    },
    {
     "data": {
      "text/plain": [
       "(mordred.ABCIndex.ABCIndex(),\n",
       " mordred.ABCIndex.ABCGGIndex(),\n",
       " mordred.AcidBase.AcidicGroupCount(),\n",
       " mordred.AcidBase.BasicGroupCount(),\n",
       " mordred.AdjacencyMatrix.AdjacencyMatrix('SpAbs'),\n",
       " mordred.AdjacencyMatrix.AdjacencyMatrix('SpMax'),\n",
       " mordred.AdjacencyMatrix.AdjacencyMatrix('SpDiam'),\n",
       " mordred.AdjacencyMatrix.AdjacencyMatrix('SpAD'),\n",
       " mordred.AdjacencyMatrix.AdjacencyMatrix('SpMAD'),\n",
       " mordred.AdjacencyMatrix.AdjacencyMatrix('LogEE'))"
      ]
     },
     "execution_count": 24,
     "metadata": {},
     "output_type": "execute_result"
    }
   ],
   "source": [
    "print(f'First 10 out of {len(calc.descriptors)} descriptors')\n",
    "calc.descriptors[:10]"
   ]
  },
  {
   "cell_type": "code",
   "execution_count": 25,
   "metadata": {},
   "outputs": [
    {
     "name": "stderr",
     "output_type": "stream",
     "text": [
      "c:\\Users\\wojci\\AppData\\Local\\Programs\\Python\\Python311\\Lib\\site-packages\\numpy\\core\\fromnumeric.py:86: RuntimeWarning: overflow encountered in reduce\n",
      "  return ufunc.reduce(obj, axis, dtype, out, **passkwargs)\n"
     ]
    }
   ],
   "source": [
    "desc = calc.pandas(df['mol_from_smiles'], nproc=1)"
   ]
  },
  {
   "cell_type": "code",
   "execution_count": 26,
   "metadata": {},
   "outputs": [
    {
     "name": "stdout",
     "output_type": "stream",
     "text": [
      "Computed 1613 descriptors for 1519 molecules\n"
     ]
    }
   ],
   "source": [
    "print(f'Computed {len(desc.columns)} descriptors for {len(desc)} molecules')"
   ]
  },
  {
   "cell_type": "markdown",
   "metadata": {},
   "source": [
    "# Feature selection"
   ]
  },
  {
   "cell_type": "code",
   "execution_count": 27,
   "metadata": {},
   "outputs": [
    {
     "data": {
      "text/plain": [
       "(1519, 1613)"
      ]
     },
     "execution_count": 27,
     "metadata": {},
     "output_type": "execute_result"
    }
   ],
   "source": [
    "desc.shape"
   ]
  },
  {
   "cell_type": "code",
   "execution_count": 28,
   "metadata": {},
   "outputs": [],
   "source": [
    "for c in desc.columns:\n",
    "    desc[c] = pd.to_numeric(desc[c], errors='coerce')"
   ]
  },
  {
   "cell_type": "code",
   "execution_count": 29,
   "metadata": {},
   "outputs": [
    {
     "name": "stdout",
     "output_type": "stream",
     "text": [
      "['nB', 'nP', 'NsLi', 'NssBe', 'NssssBe', 'NssBH', 'NsssB', 'NssssB', 'NddC', 'NssssN', 'NsSiH3', 'NssSiH2', 'NsssSiH', 'NssssSi', 'NsPH2', 'NssPH', 'NsssP', 'NdsssP', 'NsssssP', 'NsSH', 'NdS', 'NsGeH3', 'NssGeH2', 'NsssGeH', 'NssssGe', 'NsAsH2', 'NssAsH', 'NsssAs', 'NsssdAs', 'NsssssAs', 'NsSeH', 'NdSe', 'NssSe', 'NaaSe', 'NdssSe', 'NddssSe', 'NsSnH3', 'NssSnH2', 'NsssSnH', 'NssssSn', 'NsPbH3', 'NssPbH2', 'NsssPbH', 'NssssPb', 'SsLi', 'SssBe', 'SssssBe', 'SssBH', 'SsssB', 'SssssB', 'SddC', 'SssssN', 'SsSiH3', 'SssSiH2', 'SsssSiH', 'SssssSi', 'SsPH2', 'SssPH', 'SsssP', 'SdsssP', 'SsssssP', 'SsSH', 'SdS', 'SsGeH3', 'SssGeH2', 'SsssGeH', 'SssssGe', 'SsAsH2', 'SssAsH', 'SsssAs', 'SsssdAs', 'SsssssAs', 'SsSeH', 'SdSe', 'SssSe', 'SaaSe', 'SdssSe', 'SddssSe', 'SsSnH3', 'SssSnH2', 'SsssSnH', 'SssssSn', 'SsPbH3', 'SssPbH2', 'SsssPbH', 'SssssPb', 'ETA_dPsi_B', 'SMR_VSA8', 'SlogP_VSA9', 'n9Ring', 'n10Ring', 'n11Ring', 'n12Ring', 'n3HRing', 'n9HRing', 'n10HRing', 'n11HRing', 'n12HRing', 'n3aRing', 'n4aRing', 'n7aRing', 'n8aRing', 'n9aRing', 'n10aRing', 'n11aRing', 'n12aRing', 'nG12aRing', 'n3aHRing', 'n4aHRing', 'n7aHRing', 'n8aHRing', 'n9aHRing', 'n10aHRing', 'n11aHRing', 'n12aHRing', 'nG12aHRing', 'n9ARing', 'n10ARing', 'n11ARing', 'n12ARing', 'n3AHRing', 'n9AHRing', 'n10AHRing', 'n11AHRing', 'n12AHRing', 'n4FRing', 'n5FRing', 'n6FRing', 'n4FHRing', 'n5FHRing', 'n6FHRing', 'n4FaRing', 'n5FaRing', 'n6FaRing', 'n7FaRing', 'n8FaRing', 'n11FaRing', 'n12FaRing', 'nG12FaRing', 'n4FaHRing', 'n5FaHRing', 'n6FaHRing', 'n7FaHRing', 'n8FaHRing', 'n11FaHRing', 'n12FaHRing', 'nG12FaHRing', 'n4FARing', 'n5FARing', 'n6FARing', 'n4FAHRing', 'n5FAHRing', 'n6FAHRing']\n"
     ]
    }
   ],
   "source": [
    "zero_variation = []\n",
    "\n",
    "for c, s in desc.std().items():\n",
    "    try:\n",
    "        if s == 0:\n",
    "            zero_variation.append(c)\n",
    "    except Exception as e:\n",
    "        # Handle the exception or print the error message for debugging\n",
    "        print(f\"Error processing descriptor {c}: {e}\")\n",
    "\n",
    "# Now zero_variation should contain descriptors with zero standard deviation\n",
    "print(zero_variation)\n"
   ]
  },
  {
   "cell_type": "code",
   "execution_count": 30,
   "metadata": {},
   "outputs": [
    {
     "name": "stdout",
     "output_type": "stream",
     "text": [
      "New shape: (1519, 1460)\n"
     ]
    }
   ],
   "source": [
    "desc.drop(columns=zero_variation, inplace=True)\n",
    "print(f'New shape: {desc.shape}')"
   ]
  },
  {
   "cell_type": "code",
   "execution_count": 31,
   "metadata": {},
   "outputs": [],
   "source": [
    "for c in desc.columns:\n",
    "    desc[c] = pd.to_numeric(desc[c], errors='coerce')"
   ]
  },
  {
   "cell_type": "code",
   "execution_count": 32,
   "metadata": {},
   "outputs": [
    {
     "name": "stdout",
     "output_type": "stream",
     "text": [
      "Found 236 columns with missing values\n"
     ]
    }
   ],
   "source": [
    "missing_values = desc.isnull().any()\n",
    "print(f'Found {missing_values.sum()} columns with missing values')"
   ]
  },
  {
   "cell_type": "code",
   "execution_count": 33,
   "metadata": {},
   "outputs": [
    {
     "name": "stdout",
     "output_type": "stream",
     "text": [
      "New shape: (1519, 1224)\n"
     ]
    }
   ],
   "source": [
    "desc = desc.loc[:, ~missing_values]\n",
    "print(f'New shape: {desc.shape}')"
   ]
  },
  {
   "cell_type": "code",
   "execution_count": 34,
   "metadata": {},
   "outputs": [],
   "source": [
    "scaler = StandardScaler()\n",
    "feats = scaler.fit_transform(desc)"
   ]
  },
  {
   "cell_type": "code",
   "execution_count": 35,
   "metadata": {},
   "outputs": [
    {
     "data": {
      "text/plain": [
       "(array([2.65785485e+01, 2.09242695e+01, 3.22580645e-02, 1.50032916e+00,\n",
       "        4.31764754e+01, 2.50269939e+00, 4.94825921e+00, 4.31764754e+01]),\n",
       " array([ 6.40797356,  4.68541029,  0.23434437,  1.03961995, 10.35527973,\n",
       "         0.07811054,  0.13119759, 10.35527973]))"
      ]
     },
     "execution_count": 35,
     "metadata": {},
     "output_type": "execute_result"
    }
   ],
   "source": [
    "scaler.mean_[:8], scaler.scale_[:8]"
   ]
  },
  {
   "cell_type": "code",
   "execution_count": 36,
   "metadata": {},
   "outputs": [],
   "source": [
    "cross_corr = np.corrcoef(feats.T)"
   ]
  },
  {
   "cell_type": "code",
   "execution_count": 37,
   "metadata": {},
   "outputs": [],
   "source": [
    "pca = PCA()\n",
    "\n",
    "pca.n_components = 16\n",
    "pca_feats = pca.fit_transform(feats)"
   ]
  },
  {
   "cell_type": "code",
   "execution_count": 38,
   "metadata": {},
   "outputs": [
    {
     "name": "stdout",
     "output_type": "stream",
     "text": [
      "The largest correlation between feature 0 and all others is 3.98e-17\n"
     ]
    }
   ],
   "source": [
    "cross_corr = np.corrcoef(pca_feats.T)\n",
    "print(f'The largest correlation between feature 0 and all others is {max(cross_corr[0, 1:]):.2e}')"
   ]
  },
  {
   "cell_type": "code",
   "execution_count": 39,
   "metadata": {},
   "outputs": [],
   "source": [
    "feat_score = [np.corrcoef(df['Class'], f)[0][1] for f in pca_feats.T]"
   ]
  },
  {
   "cell_type": "code",
   "execution_count": 40,
   "metadata": {},
   "outputs": [
    {
     "data": {
      "text/plain": [
       "Text(0.5, 0, 'Feature ID')"
      ]
     },
     "execution_count": 40,
     "metadata": {},
     "output_type": "execute_result"
    },
    {
     "data": {
      "image/png": "[encoded data removed]",
      "text/plain": [
       "<Figure size 640x480 with 1 Axes>"
      ]
     },
     "metadata": {},
     "output_type": "display_data"
    }
   ],
   "source": [
    "fig, ax = plt.subplots()\n",
    "\n",
    "ax.bar(range(len(feat_score)), feat_score)\n",
    "\n",
    "ax.set_ylim(-1, 1)\n",
    "ax.set_ylabel(f'Correlation with Class')\n",
    "ax.set_xlabel('Feature ID')"
   ]
  },
  {
   "cell_type": "code",
   "execution_count": 41,
   "metadata": {},
   "outputs": [],
   "source": [
    "lasso = LassoCV().fit(pca_feats, df['Class'])"
   ]
  },
  {
   "cell_type": "code",
   "execution_count": 42,
   "metadata": {},
   "outputs": [
    {
     "data": {
      "text/plain": [
       "Text(0.5, 0, 'Feature ID')"
      ]
     },
     "execution_count": 42,
     "metadata": {},
     "output_type": "execute_result"
    },
    {
     "data": {
      "image/png": "[encoded data removed]",
      "text/plain": [
       "<Figure size 640x480 with 1 Axes>"
      ]
     },
     "metadata": {},
     "output_type": "display_data"
    }
   ],
   "source": [
    "fig, ax = plt.subplots()\n",
    "\n",
    "ax.bar(range(len(feat_score)), lasso.coef_)\n",
    "ax.set_xlim(ax.get_xlim())\n",
    "ax.plot(ax.get_xlim(), [0, 0], 'k--', lw=1.)\n",
    "\n",
    "ax.set_ylabel(f'Correlation with Band Gap')\n",
    "ax.set_xlabel('Feature ID')"
   ]
  },
  {
   "cell_type": "code",
   "execution_count": 43,
   "metadata": {},
   "outputs": [],
   "source": [
    "train_data, test_data, train_desc, test_desc = train_test_split(df, desc, test_size=0.1)"
   ]
  },
  {
   "cell_type": "code",
   "execution_count": 44,
   "metadata": {},
   "outputs": [],
   "source": [
    "model = Pipeline([\n",
    "    ('scale', StandardScaler()),\n",
    "    ('pca', PCA(n_components=16)),\n",
    "    ('lasso', LassoCV())\n",
    "])"
   ]
  },
  {
   "cell_type": "code",
   "execution_count": 45,
   "metadata": {},
   "outputs": [],
   "source": [
    "test_data = test_data.copy()\n",
    "test_data['16-ncomp-model'] = model.fit(train_desc, train_data['Class']).predict(test_desc)"
   ]
  },
  {
   "cell_type": "code",
   "execution_count": 46,
   "metadata": {},
   "outputs": [],
   "source": [
    "model.set_params(pca__n_components=8)  # Notation is [step name]__[parameter name]\n",
    "test_data['8-ncomp-model'] = model.fit(train_desc, train_data['Class']).predict(test_desc)"
   ]
  },
  {
   "cell_type": "code",
   "execution_count": 47,
   "metadata": {},
   "outputs": [
    {
     "data": {
      "image/png": "[encoded data removed]",
      "text/plain": [
       "<Figure size 650x300 with 2 Axes>"
      ]
     },
     "metadata": {},
     "output_type": "display_data"
    }
   ],
   "source": [
    "fig, axs = plt.subplots(1, 2, sharey=True, figsize=(6.5, 3.))\n",
    "\n",
    "# Plot both models\n",
    "for ax, col in zip(axs, ['8-ncomp-model', '16-ncomp-model']):\n",
    "    ax.set_title(f'{col.split(\"-\")[0]}-Parameter Model')\n",
    "    r2 = r2_score(test_data[col], test_data['Class'])\n",
    "    ax.text(0.02, 0.9, f'$R^2 = {r2:.2f}$', transform=ax.transAxes)\n",
    "    ax.scatter(test_data[col], test_data['Class'])\n",
    "\n",
    "# Make it look nicer\n",
    "for ax in axs:\n",
    "    ax.set_xlabel('$E_g$, ML')\n",
    "    \n",
    "    ax.set_ylim(ax.get_ylim())\n",
    "    ax.set_xlim(ax.get_ylim())\n",
    "    ax.plot(ax.get_xlim(), ax.get_xlim(), 'k--')\n",
    "    \n",
    "axs[0].set_ylabel('$E_g$, True')\n",
    "fig.tight_layout()"
   ]
  },
  {
   "cell_type": "code",
   "execution_count": 48,
   "metadata": {},
   "outputs": [],
   "source": [
    "X = desc\n",
    "y = df['Class']"
   ]
  },
  {
   "cell_type": "code",
   "execution_count": 51,
   "metadata": {},
   "outputs": [],
   "source": [
    "from sklearn.preprocessing import RobustScaler\n",
    "from sklearn.impute import SimpleImputer\n",
    "from flaml import AutoML"
   ]
  },
  {
   "cell_type": "code",
   "execution_count": 52,
   "metadata": {},
   "outputs": [],
   "source": [
    "imputer = SimpleImputer(strategy=\"median\")\n",
    "scaler = RobustScaler()\n",
    "imputer.fit(X)\n",
    "X = imputer.transform(X)\n",
    "scaler.fit(X)\n",
    "X = scaler.transform(X)"
   ]
  },
  {
   "cell_type": "code",
   "execution_count": 53,
   "metadata": {},
   "outputs": [],
   "source": [
    "y_series = pd.Series(y)\n",
    "\n",
    "X = pd.DataFrame(X)\n",
    "\n",
    "correlations = X.corrwith(y_series)\n",
    "\n",
    "correlations = X.corrwith(y)\n",
    "\n",
    "sorted_correlations = correlations.abs().sort_values(ascending=False)\n",
    "\n",
    "top_50_features = sorted_correlations.index[:50]\n",
    "\n",
    "selected_features_df = X[top_50_features]"
   ]
  },
  {
   "cell_type": "code",
   "execution_count": 54,
   "metadata": {},
   "outputs": [
    {
     "data": {
      "text/plain": [
       "(1519, 1224)"
      ]
     },
     "execution_count": 54,
     "metadata": {},
     "output_type": "execute_result"
    }
   ],
   "source": [
    "X.shape"
   ]
  },
  {
   "cell_type": "code",
   "execution_count": 55,
   "metadata": {},
   "outputs": [],
   "source": [
    "X = selected_features_df"
   ]
  },
  {
   "cell_type": "code",
   "execution_count": 56,
   "metadata": {},
   "outputs": [
    {
     "data": {
      "text/plain": [
       "(1519, 50)"
      ]
     },
     "execution_count": 56,
     "metadata": {},
     "output_type": "execute_result"
    }
   ],
   "source": [
    "X.shape"
   ]
  },
  {
   "cell_type": "code",
   "execution_count": 57,
   "metadata": {},
   "outputs": [
    {
     "data": {
      "text/plain": [
       "(1519,)"
      ]
     },
     "execution_count": 57,
     "metadata": {},
     "output_type": "execute_result"
    }
   ],
   "source": [
    "y.shape"
   ]
  },
  {
   "cell_type": "code",
   "execution_count": 58,
   "metadata": {},
   "outputs": [],
   "source": [
    "from sklearn.model_selection import train_test_split\n",
    "\n",
    "X_train, X_temp, y_train, y_temp = train_test_split(X, y, test_size=0.4, random_state=42)\n",
    "X_val, X_test, y_val, y_test = train_test_split(X_temp, y_temp, test_size=0.5, random_state=42)"
   ]
  },
  {
   "cell_type": "code",
   "execution_count": 59,
   "metadata": {},
   "outputs": [],
   "source": [
    "from rdkit import Chem\n",
    "from rdkit.Chem import AllChem\n",
    "import numpy as np\n",
    "\n",
    "\n",
    "def morganfp(fname, radius=2, nBits=1024):\n",
    "    accepted_file_formats = ['sdf', 'mol']\n",
    "    if fname.split('.')[-1] not in accepted_file_formats:\n",
    "        raise NotImplementedError(\n",
    "            'file type \\'{}\\'  is unsupported. Accepted formats: {}.'.format(fname.split('.')[-1], accepted_file_formats))\n",
    "    mol = Chem.MolFromMolFile(fname)\n",
    "    fp = AllChem.GetMorganFingerprintAsBitVect(mol, radius, nBits)\n",
    "\n",
    "    return np.array(list(fp))"
   ]
  },
  {
   "cell_type": "code",
   "execution_count": null,
   "metadata": {},
   "outputs": [],
   "source": []
  },
  {
   "cell_type": "code",
   "execution_count": 60,
   "metadata": {},
   "outputs": [],
   "source": [
    "fpgen = AllChem.GetMorganGenerator(radius=2)\n",
    "fp = []\n",
    "for mol in df['mol_from_smiles']:\n",
    "    fp.append(np.array(fpgen.GetFingerprint(mol,customAtomInvariants=[1]*mol.GetNumAtoms())))\n",
    "df['MorganFP'] = fp"
   ]
  },
  {
   "cell_type": "code",
   "execution_count": 61,
   "metadata": {},
   "outputs": [],
   "source": [
    "X = df['MorganFP']"
   ]
  },
  {
   "cell_type": "code",
   "execution_count": 62,
   "metadata": {},
   "outputs": [
    {
     "data": {
      "text/html": [
       "<div>\n",
       "<style scoped>\n",
       "    .dataframe tbody tr th:only-of-type {\n",
       "        vertical-align: middle;\n",
       "    }\n",
       "\n",
       "    .dataframe tbody tr th {\n",
       "        vertical-align: top;\n",
       "    }\n",
       "\n",
       "    .dataframe thead th {\n",
       "        text-align: right;\n",
       "    }\n",
       "</style>\n",
       "<table border=\"1\" class=\"dataframe\">\n",
       "  <thead>\n",
       "    <tr style=\"text-align: right;\">\n",
       "      <th></th>\n",
       "      <th>MorganFP_0</th>\n",
       "      <th>MorganFP_1</th>\n",
       "      <th>MorganFP_2</th>\n",
       "      <th>MorganFP_3</th>\n",
       "      <th>MorganFP_4</th>\n",
       "      <th>MorganFP_5</th>\n",
       "      <th>MorganFP_6</th>\n",
       "      <th>MorganFP_7</th>\n",
       "      <th>MorganFP_8</th>\n",
       "      <th>MorganFP_9</th>\n",
       "      <th>...</th>\n",
       "      <th>MorganFP_2038</th>\n",
       "      <th>MorganFP_2039</th>\n",
       "      <th>MorganFP_2040</th>\n",
       "      <th>MorganFP_2041</th>\n",
       "      <th>MorganFP_2042</th>\n",
       "      <th>MorganFP_2043</th>\n",
       "      <th>MorganFP_2044</th>\n",
       "      <th>MorganFP_2045</th>\n",
       "      <th>MorganFP_2046</th>\n",
       "      <th>MorganFP_2047</th>\n",
       "    </tr>\n",
       "  </thead>\n",
       "  <tbody>\n",
       "    <tr>\n",
       "      <th>0</th>\n",
       "      <td>0</td>\n",
       "      <td>1</td>\n",
       "      <td>0</td>\n",
       "      <td>0</td>\n",
       "      <td>0</td>\n",
       "      <td>0</td>\n",
       "      <td>0</td>\n",
       "      <td>0</td>\n",
       "      <td>0</td>\n",
       "      <td>0</td>\n",
       "      <td>...</td>\n",
       "      <td>0</td>\n",
       "      <td>0</td>\n",
       "      <td>0</td>\n",
       "      <td>0</td>\n",
       "      <td>0</td>\n",
       "      <td>0</td>\n",
       "      <td>0</td>\n",
       "      <td>0</td>\n",
       "      <td>0</td>\n",
       "      <td>0</td>\n",
       "    </tr>\n",
       "    <tr>\n",
       "      <th>1</th>\n",
       "      <td>0</td>\n",
       "      <td>1</td>\n",
       "      <td>0</td>\n",
       "      <td>0</td>\n",
       "      <td>0</td>\n",
       "      <td>0</td>\n",
       "      <td>0</td>\n",
       "      <td>0</td>\n",
       "      <td>0</td>\n",
       "      <td>0</td>\n",
       "      <td>...</td>\n",
       "      <td>0</td>\n",
       "      <td>0</td>\n",
       "      <td>0</td>\n",
       "      <td>0</td>\n",
       "      <td>0</td>\n",
       "      <td>0</td>\n",
       "      <td>0</td>\n",
       "      <td>0</td>\n",
       "      <td>0</td>\n",
       "      <td>0</td>\n",
       "    </tr>\n",
       "    <tr>\n",
       "      <th>2</th>\n",
       "      <td>0</td>\n",
       "      <td>1</td>\n",
       "      <td>0</td>\n",
       "      <td>0</td>\n",
       "      <td>0</td>\n",
       "      <td>0</td>\n",
       "      <td>0</td>\n",
       "      <td>0</td>\n",
       "      <td>0</td>\n",
       "      <td>0</td>\n",
       "      <td>...</td>\n",
       "      <td>0</td>\n",
       "      <td>0</td>\n",
       "      <td>0</td>\n",
       "      <td>0</td>\n",
       "      <td>0</td>\n",
       "      <td>0</td>\n",
       "      <td>0</td>\n",
       "      <td>0</td>\n",
       "      <td>0</td>\n",
       "      <td>0</td>\n",
       "    </tr>\n",
       "    <tr>\n",
       "      <th>3</th>\n",
       "      <td>0</td>\n",
       "      <td>1</td>\n",
       "      <td>0</td>\n",
       "      <td>0</td>\n",
       "      <td>0</td>\n",
       "      <td>0</td>\n",
       "      <td>0</td>\n",
       "      <td>0</td>\n",
       "      <td>0</td>\n",
       "      <td>0</td>\n",
       "      <td>...</td>\n",
       "      <td>0</td>\n",
       "      <td>0</td>\n",
       "      <td>0</td>\n",
       "      <td>0</td>\n",
       "      <td>0</td>\n",
       "      <td>0</td>\n",
       "      <td>0</td>\n",
       "      <td>0</td>\n",
       "      <td>0</td>\n",
       "      <td>0</td>\n",
       "    </tr>\n",
       "    <tr>\n",
       "      <th>4</th>\n",
       "      <td>0</td>\n",
       "      <td>1</td>\n",
       "      <td>0</td>\n",
       "      <td>0</td>\n",
       "      <td>0</td>\n",
       "      <td>0</td>\n",
       "      <td>0</td>\n",
       "      <td>0</td>\n",
       "      <td>0</td>\n",
       "      <td>0</td>\n",
       "      <td>...</td>\n",
       "      <td>0</td>\n",
       "      <td>0</td>\n",
       "      <td>0</td>\n",
       "      <td>0</td>\n",
       "      <td>0</td>\n",
       "      <td>0</td>\n",
       "      <td>0</td>\n",
       "      <td>0</td>\n",
       "      <td>0</td>\n",
       "      <td>0</td>\n",
       "    </tr>\n",
       "    <tr>\n",
       "      <th>...</th>\n",
       "      <td>...</td>\n",
       "      <td>...</td>\n",
       "      <td>...</td>\n",
       "      <td>...</td>\n",
       "      <td>...</td>\n",
       "      <td>...</td>\n",
       "      <td>...</td>\n",
       "      <td>...</td>\n",
       "      <td>...</td>\n",
       "      <td>...</td>\n",
       "      <td>...</td>\n",
       "      <td>...</td>\n",
       "      <td>...</td>\n",
       "      <td>...</td>\n",
       "      <td>...</td>\n",
       "      <td>...</td>\n",
       "      <td>...</td>\n",
       "      <td>...</td>\n",
       "      <td>...</td>\n",
       "      <td>...</td>\n",
       "      <td>...</td>\n",
       "    </tr>\n",
       "    <tr>\n",
       "      <th>1514</th>\n",
       "      <td>0</td>\n",
       "      <td>1</td>\n",
       "      <td>0</td>\n",
       "      <td>0</td>\n",
       "      <td>0</td>\n",
       "      <td>0</td>\n",
       "      <td>0</td>\n",
       "      <td>0</td>\n",
       "      <td>0</td>\n",
       "      <td>0</td>\n",
       "      <td>...</td>\n",
       "      <td>0</td>\n",
       "      <td>0</td>\n",
       "      <td>0</td>\n",
       "      <td>0</td>\n",
       "      <td>0</td>\n",
       "      <td>0</td>\n",
       "      <td>0</td>\n",
       "      <td>0</td>\n",
       "      <td>0</td>\n",
       "      <td>0</td>\n",
       "    </tr>\n",
       "    <tr>\n",
       "      <th>1515</th>\n",
       "      <td>0</td>\n",
       "      <td>1</td>\n",
       "      <td>0</td>\n",
       "      <td>0</td>\n",
       "      <td>0</td>\n",
       "      <td>0</td>\n",
       "      <td>0</td>\n",
       "      <td>0</td>\n",
       "      <td>0</td>\n",
       "      <td>0</td>\n",
       "      <td>...</td>\n",
       "      <td>0</td>\n",
       "      <td>0</td>\n",
       "      <td>0</td>\n",
       "      <td>0</td>\n",
       "      <td>0</td>\n",
       "      <td>0</td>\n",
       "      <td>0</td>\n",
       "      <td>0</td>\n",
       "      <td>0</td>\n",
       "      <td>0</td>\n",
       "    </tr>\n",
       "    <tr>\n",
       "      <th>1516</th>\n",
       "      <td>0</td>\n",
       "      <td>1</td>\n",
       "      <td>0</td>\n",
       "      <td>0</td>\n",
       "      <td>0</td>\n",
       "      <td>0</td>\n",
       "      <td>0</td>\n",
       "      <td>0</td>\n",
       "      <td>0</td>\n",
       "      <td>0</td>\n",
       "      <td>...</td>\n",
       "      <td>0</td>\n",
       "      <td>0</td>\n",
       "      <td>0</td>\n",
       "      <td>0</td>\n",
       "      <td>0</td>\n",
       "      <td>0</td>\n",
       "      <td>0</td>\n",
       "      <td>0</td>\n",
       "      <td>0</td>\n",
       "      <td>0</td>\n",
       "    </tr>\n",
       "    <tr>\n",
       "      <th>1517</th>\n",
       "      <td>0</td>\n",
       "      <td>1</td>\n",
       "      <td>0</td>\n",
       "      <td>0</td>\n",
       "      <td>0</td>\n",
       "      <td>0</td>\n",
       "      <td>0</td>\n",
       "      <td>0</td>\n",
       "      <td>0</td>\n",
       "      <td>0</td>\n",
       "      <td>...</td>\n",
       "      <td>0</td>\n",
       "      <td>0</td>\n",
       "      <td>0</td>\n",
       "      <td>0</td>\n",
       "      <td>0</td>\n",
       "      <td>0</td>\n",
       "      <td>0</td>\n",
       "      <td>0</td>\n",
       "      <td>0</td>\n",
       "      <td>0</td>\n",
       "    </tr>\n",
       "    <tr>\n",
       "      <th>1518</th>\n",
       "      <td>0</td>\n",
       "      <td>1</td>\n",
       "      <td>0</td>\n",
       "      <td>0</td>\n",
       "      <td>0</td>\n",
       "      <td>0</td>\n",
       "      <td>0</td>\n",
       "      <td>0</td>\n",
       "      <td>0</td>\n",
       "      <td>0</td>\n",
       "      <td>...</td>\n",
       "      <td>0</td>\n",
       "      <td>0</td>\n",
       "      <td>0</td>\n",
       "      <td>0</td>\n",
       "      <td>0</td>\n",
       "      <td>0</td>\n",
       "      <td>0</td>\n",
       "      <td>0</td>\n",
       "      <td>0</td>\n",
       "      <td>0</td>\n",
       "    </tr>\n",
       "  </tbody>\n",
       "</table>\n",
       "<p>1519 rows × 2048 columns</p>\n",
       "</div>"
      ],
      "text/plain": [
       "      MorganFP_0  MorganFP_1  MorganFP_2  MorganFP_3  MorganFP_4  MorganFP_5   \n",
       "0              0           1           0           0           0           0  \\\n",
       "1              0           1           0           0           0           0   \n",
       "2              0           1           0           0           0           0   \n",
       "3              0           1           0           0           0           0   \n",
       "4              0           1           0           0           0           0   \n",
       "...          ...         ...         ...         ...         ...         ...   \n",
       "1514           0           1           0           0           0           0   \n",
       "1515           0           1           0           0           0           0   \n",
       "1516           0           1           0           0           0           0   \n",
       "1517           0           1           0           0           0           0   \n",
       "1518           0           1           0           0           0           0   \n",
       "\n",
       "      MorganFP_6  MorganFP_7  MorganFP_8  MorganFP_9  ...  MorganFP_2038   \n",
       "0              0           0           0           0  ...              0  \\\n",
       "1              0           0           0           0  ...              0   \n",
       "2              0           0           0           0  ...              0   \n",
       "3              0           0           0           0  ...              0   \n",
       "4              0           0           0           0  ...              0   \n",
       "...          ...         ...         ...         ...  ...            ...   \n",
       "1514           0           0           0           0  ...              0   \n",
       "1515           0           0           0           0  ...              0   \n",
       "1516           0           0           0           0  ...              0   \n",
       "1517           0           0           0           0  ...              0   \n",
       "1518           0           0           0           0  ...              0   \n",
       "\n",
       "      MorganFP_2039  MorganFP_2040  MorganFP_2041  MorganFP_2042   \n",
       "0                 0              0              0              0  \\\n",
       "1                 0              0              0              0   \n",
       "2                 0              0              0              0   \n",
       "3                 0              0              0              0   \n",
       "4                 0              0              0              0   \n",
       "...             ...            ...            ...            ...   \n",
       "1514              0              0              0              0   \n",
       "1515              0              0              0              0   \n",
       "1516              0              0              0              0   \n",
       "1517              0              0              0              0   \n",
       "1518              0              0              0              0   \n",
       "\n",
       "      MorganFP_2043  MorganFP_2044  MorganFP_2045  MorganFP_2046   \n",
       "0                 0              0              0              0  \\\n",
       "1                 0              0              0              0   \n",
       "2                 0              0              0              0   \n",
       "3                 0              0              0              0   \n",
       "4                 0              0              0              0   \n",
       "...             ...            ...            ...            ...   \n",
       "1514              0              0              0              0   \n",
       "1515              0              0              0              0   \n",
       "1516              0              0              0              0   \n",
       "1517              0              0              0              0   \n",
       "1518              0              0              0              0   \n",
       "\n",
       "      MorganFP_2047  \n",
       "0                 0  \n",
       "1                 0  \n",
       "2                 0  \n",
       "3                 0  \n",
       "4                 0  \n",
       "...             ...  \n",
       "1514              0  \n",
       "1515              0  \n",
       "1516              0  \n",
       "1517              0  \n",
       "1518              0  \n",
       "\n",
       "[1519 rows x 2048 columns]"
      ]
     },
     "execution_count": 62,
     "metadata": {},
     "output_type": "execute_result"
    }
   ],
   "source": [
    "# Split the list column into separate columns\n",
    "df_2 = pd.DataFrame(X.tolist(), columns=[f'MorganFP_{i}' for i in range(len(X.iloc[0]))])\n",
    "df_2"
   ]
  },
  {
   "cell_type": "code",
   "execution_count": 63,
   "metadata": {},
   "outputs": [],
   "source": [
    "X = df_2"
   ]
  },
  {
   "cell_type": "code",
   "execution_count": 64,
   "metadata": {},
   "outputs": [],
   "source": [
    "y = df['Class']"
   ]
  },
  {
   "cell_type": "markdown",
   "metadata": {},
   "source": [
    "### Neural Network"
   ]
  },
  {
   "cell_type": "code",
   "execution_count": 84,
   "metadata": {},
   "outputs": [
    {
     "name": "stdout",
     "output_type": "stream",
     "text": [
      "Epoch 1/100\n",
      "38/38 [==============================] - 2s 58ms/step - loss: 0.5454 - accuracy: 0.7193\n",
      "Epoch 2/100\n",
      "38/38 [==============================] - 2s 58ms/step - loss: 0.4279 - accuracy: 0.8041\n",
      "Epoch 3/100\n",
      "38/38 [==============================] - 2s 57ms/step - loss: 0.3870 - accuracy: 0.8272\n",
      "Epoch 4/100\n",
      "38/38 [==============================] - 2s 58ms/step - loss: 0.3705 - accuracy: 0.8346\n",
      "Epoch 5/100\n",
      "38/38 [==============================] - 2s 59ms/step - loss: 0.3259 - accuracy: 0.8642\n",
      "Epoch 6/100\n",
      "38/38 [==============================] - 2s 57ms/step - loss: 0.3107 - accuracy: 0.8601\n",
      "Epoch 7/100\n",
      "38/38 [==============================] - 2s 59ms/step - loss: 0.2999 - accuracy: 0.8658\n",
      "Epoch 8/100\n",
      "38/38 [==============================] - 2s 59ms/step - loss: 0.2878 - accuracy: 0.8733\n",
      "Epoch 9/100\n",
      "38/38 [==============================] - 2s 57ms/step - loss: 0.2622 - accuracy: 0.8831\n",
      "Epoch 10/100\n",
      "38/38 [==============================] - 2s 57ms/step - loss: 0.2541 - accuracy: 0.8872\n",
      "Epoch 11/100\n",
      "38/38 [==============================] - 2s 57ms/step - loss: 0.2553 - accuracy: 0.8807\n",
      "Epoch 12/100\n",
      "38/38 [==============================] - 2s 57ms/step - loss: 0.2296 - accuracy: 0.9004\n",
      "Epoch 13/100\n",
      "38/38 [==============================] - 2s 57ms/step - loss: 0.2402 - accuracy: 0.8971\n",
      "Epoch 14/100\n",
      "38/38 [==============================] - 2s 57ms/step - loss: 0.2196 - accuracy: 0.9037\n",
      "Epoch 15/100\n",
      "38/38 [==============================] - 2s 57ms/step - loss: 0.2109 - accuracy: 0.9103\n",
      "Epoch 16/100\n",
      "38/38 [==============================] - 2s 58ms/step - loss: 0.2089 - accuracy: 0.9062\n",
      "Epoch 17/100\n",
      "38/38 [==============================] - 2s 57ms/step - loss: 0.1933 - accuracy: 0.9128\n",
      "Epoch 18/100\n",
      "38/38 [==============================] - 2s 57ms/step - loss: 0.2011 - accuracy: 0.9103\n",
      "Epoch 19/100\n",
      "38/38 [==============================] - 2s 57ms/step - loss: 0.1880 - accuracy: 0.9095\n",
      "Epoch 20/100\n",
      "38/38 [==============================] - 2s 56ms/step - loss: 0.1826 - accuracy: 0.9152\n",
      "Epoch 21/100\n",
      "38/38 [==============================] - 2s 58ms/step - loss: 0.1922 - accuracy: 0.9177\n",
      "Epoch 22/100\n",
      "38/38 [==============================] - 2s 57ms/step - loss: 0.1863 - accuracy: 0.9136\n",
      "Epoch 23/100\n",
      "38/38 [==============================] - 2s 57ms/step - loss: 0.1843 - accuracy: 0.9128\n",
      "Epoch 24/100\n",
      "38/38 [==============================] - 2s 58ms/step - loss: 0.1719 - accuracy: 0.9235\n",
      "Epoch 25/100\n",
      "38/38 [==============================] - 2s 58ms/step - loss: 0.1753 - accuracy: 0.9235\n",
      "Epoch 26/100\n",
      "38/38 [==============================] - 2s 57ms/step - loss: 0.1600 - accuracy: 0.9243\n",
      "Epoch 27/100\n",
      "38/38 [==============================] - 2s 56ms/step - loss: 0.1570 - accuracy: 0.9309\n",
      "Epoch 28/100\n",
      "38/38 [==============================] - 2s 58ms/step - loss: 0.1549 - accuracy: 0.9358\n",
      "Epoch 29/100\n",
      "38/38 [==============================] - 2s 58ms/step - loss: 0.1724 - accuracy: 0.9185\n",
      "Epoch 30/100\n",
      "38/38 [==============================] - 2s 57ms/step - loss: 0.1613 - accuracy: 0.9235\n",
      "Epoch 31/100\n",
      "38/38 [==============================] - 2s 57ms/step - loss: 0.1578 - accuracy: 0.9284\n",
      "Epoch 32/100\n",
      "38/38 [==============================] - 2s 58ms/step - loss: 0.1506 - accuracy: 0.9309\n",
      "Epoch 33/100\n",
      "38/38 [==============================] - 2s 59ms/step - loss: 0.1516 - accuracy: 0.9358\n",
      "Epoch 34/100\n",
      "38/38 [==============================] - 2s 56ms/step - loss: 0.1590 - accuracy: 0.9259\n",
      "Epoch 35/100\n",
      "38/38 [==============================] - 2s 57ms/step - loss: 0.1642 - accuracy: 0.9292\n",
      "Epoch 36/100\n",
      "38/38 [==============================] - 2s 57ms/step - loss: 0.1509 - accuracy: 0.9309\n",
      "Epoch 37/100\n",
      "38/38 [==============================] - 2s 57ms/step - loss: 0.1554 - accuracy: 0.9350\n",
      "Epoch 38/100\n",
      "38/38 [==============================] - 2s 58ms/step - loss: 0.1463 - accuracy: 0.9391\n",
      "Epoch 39/100\n",
      "38/38 [==============================] - 2s 57ms/step - loss: 0.1514 - accuracy: 0.9235\n",
      "Epoch 40/100\n",
      "38/38 [==============================] - 2s 57ms/step - loss: 0.1402 - accuracy: 0.9350\n",
      "Epoch 41/100\n",
      "38/38 [==============================] - 2s 58ms/step - loss: 0.1432 - accuracy: 0.9333\n",
      "Epoch 42/100\n",
      "38/38 [==============================] - 2s 57ms/step - loss: 0.1449 - accuracy: 0.9391\n",
      "Epoch 43/100\n",
      "38/38 [==============================] - 2s 57ms/step - loss: 0.1394 - accuracy: 0.9325\n",
      "Epoch 44/100\n",
      "38/38 [==============================] - 2s 58ms/step - loss: 0.1365 - accuracy: 0.9383\n",
      "Epoch 45/100\n",
      "38/38 [==============================] - 2s 57ms/step - loss: 0.1419 - accuracy: 0.9300\n",
      "Epoch 46/100\n",
      "38/38 [==============================] - 2s 57ms/step - loss: 0.1454 - accuracy: 0.9309\n",
      "Epoch 47/100\n",
      "38/38 [==============================] - 2s 57ms/step - loss: 0.1528 - accuracy: 0.9251\n",
      "Epoch 48/100\n",
      "38/38 [==============================] - 2s 57ms/step - loss: 0.1355 - accuracy: 0.9342\n",
      "Epoch 49/100\n",
      "38/38 [==============================] - 2s 57ms/step - loss: 0.1340 - accuracy: 0.9391\n",
      "Epoch 50/100\n",
      "38/38 [==============================] - 2s 56ms/step - loss: 0.1357 - accuracy: 0.9358\n",
      "Epoch 51/100\n",
      "38/38 [==============================] - 2s 58ms/step - loss: 0.1430 - accuracy: 0.9317\n",
      "Epoch 52/100\n",
      "38/38 [==============================] - 2s 58ms/step - loss: 0.1312 - accuracy: 0.9391\n",
      "Epoch 53/100\n",
      "38/38 [==============================] - 2s 58ms/step - loss: 0.1394 - accuracy: 0.9342\n",
      "Epoch 54/100\n",
      "38/38 [==============================] - 2s 57ms/step - loss: 0.1498 - accuracy: 0.9374\n",
      "Epoch 55/100\n",
      "38/38 [==============================] - 2s 56ms/step - loss: 0.1300 - accuracy: 0.9309\n",
      "Epoch 56/100\n",
      "38/38 [==============================] - 2s 57ms/step - loss: 0.1308 - accuracy: 0.9342\n",
      "Epoch 57/100\n",
      "38/38 [==============================] - 2s 58ms/step - loss: 0.1377 - accuracy: 0.9374\n",
      "Epoch 58/100\n",
      "38/38 [==============================] - 2s 57ms/step - loss: 0.1337 - accuracy: 0.9366\n",
      "Epoch 59/100\n",
      "38/38 [==============================] - 2s 57ms/step - loss: 0.1390 - accuracy: 0.9251\n",
      "Epoch 60/100\n",
      "38/38 [==============================] - 2s 57ms/step - loss: 0.1301 - accuracy: 0.9300\n",
      "Epoch 61/100\n",
      "38/38 [==============================] - 2s 58ms/step - loss: 0.1344 - accuracy: 0.9350\n",
      "Epoch 62/100\n",
      "38/38 [==============================] - 2s 58ms/step - loss: 0.1276 - accuracy: 0.9358\n",
      "Epoch 63/100\n",
      "38/38 [==============================] - 2s 57ms/step - loss: 0.1342 - accuracy: 0.9366\n",
      "Epoch 64/100\n",
      "38/38 [==============================] - 2s 58ms/step - loss: 0.1313 - accuracy: 0.9358\n",
      "Epoch 65/100\n",
      "38/38 [==============================] - 2s 58ms/step - loss: 0.1238 - accuracy: 0.9391\n",
      "Epoch 66/100\n",
      "38/38 [==============================] - 2s 57ms/step - loss: 0.1305 - accuracy: 0.9342\n",
      "Epoch 67/100\n",
      "38/38 [==============================] - 2s 57ms/step - loss: 0.1395 - accuracy: 0.9350\n",
      "Epoch 68/100\n",
      "38/38 [==============================] - 2s 58ms/step - loss: 0.1309 - accuracy: 0.9325\n",
      "Epoch 69/100\n",
      "38/38 [==============================] - 2s 57ms/step - loss: 0.1284 - accuracy: 0.9342\n",
      "Epoch 70/100\n",
      "38/38 [==============================] - 2s 57ms/step - loss: 0.1259 - accuracy: 0.9358\n",
      "Epoch 71/100\n",
      "38/38 [==============================] - 2s 56ms/step - loss: 0.1302 - accuracy: 0.9350\n",
      "Epoch 72/100\n",
      "38/38 [==============================] - 2s 58ms/step - loss: 0.1232 - accuracy: 0.9383\n",
      "Epoch 73/100\n",
      "38/38 [==============================] - 2s 57ms/step - loss: 0.1180 - accuracy: 0.9383\n",
      "Epoch 74/100\n",
      "38/38 [==============================] - 2s 57ms/step - loss: 0.1190 - accuracy: 0.9399\n",
      "Epoch 75/100\n",
      "38/38 [==============================] - 2s 58ms/step - loss: 0.1280 - accuracy: 0.9358\n",
      "Epoch 76/100\n",
      "38/38 [==============================] - 2s 59ms/step - loss: 0.1257 - accuracy: 0.9407\n",
      "Epoch 77/100\n",
      "38/38 [==============================] - 2s 59ms/step - loss: 0.1189 - accuracy: 0.9383\n",
      "Epoch 78/100\n",
      "38/38 [==============================] - 2s 60ms/step - loss: 0.1268 - accuracy: 0.9383\n",
      "Epoch 79/100\n",
      "38/38 [==============================] - 2s 58ms/step - loss: 0.1295 - accuracy: 0.9366\n",
      "Epoch 80/100\n",
      "38/38 [==============================] - 2s 58ms/step - loss: 0.1265 - accuracy: 0.9358\n",
      "Epoch 81/100\n",
      "38/38 [==============================] - 2s 60ms/step - loss: 0.1280 - accuracy: 0.9391\n",
      "Epoch 82/100\n",
      "38/38 [==============================] - 2s 57ms/step - loss: 0.1216 - accuracy: 0.9374\n",
      "Epoch 83/100\n",
      "38/38 [==============================] - 2s 58ms/step - loss: 0.1213 - accuracy: 0.9399\n",
      "Epoch 84/100\n",
      "38/38 [==============================] - 2s 64ms/step - loss: 0.1182 - accuracy: 0.9374\n",
      "Epoch 85/100\n",
      "38/38 [==============================] - 2s 60ms/step - loss: 0.1205 - accuracy: 0.9391\n",
      "Epoch 86/100\n",
      "38/38 [==============================] - 2s 60ms/step - loss: 0.1173 - accuracy: 0.9407\n",
      "Epoch 87/100\n",
      "38/38 [==============================] - 2s 59ms/step - loss: 0.1222 - accuracy: 0.9407\n",
      "Epoch 88/100\n",
      "38/38 [==============================] - 2s 59ms/step - loss: 0.1299 - accuracy: 0.9309\n",
      "Epoch 89/100\n",
      "38/38 [==============================] - 2s 57ms/step - loss: 0.1264 - accuracy: 0.9317\n",
      "Epoch 90/100\n",
      "38/38 [==============================] - 2s 57ms/step - loss: 0.1271 - accuracy: 0.9374\n",
      "Epoch 91/100\n",
      "38/38 [==============================] - 2s 57ms/step - loss: 0.1202 - accuracy: 0.9416\n",
      "Epoch 92/100\n",
      "38/38 [==============================] - 2s 59ms/step - loss: 0.1214 - accuracy: 0.9399\n",
      "Epoch 93/100\n",
      "38/38 [==============================] - 2s 57ms/step - loss: 0.1175 - accuracy: 0.9366\n",
      "Epoch 94/100\n",
      "38/38 [==============================] - 2s 57ms/step - loss: 0.1209 - accuracy: 0.9358\n",
      "Epoch 95/100\n",
      "38/38 [==============================] - 2s 57ms/step - loss: 0.1175 - accuracy: 0.9358\n",
      "Epoch 96/100\n",
      "38/38 [==============================] - 2s 58ms/step - loss: 0.1190 - accuracy: 0.9292\n",
      "Epoch 97/100\n",
      "38/38 [==============================] - 2s 56ms/step - loss: 0.1183 - accuracy: 0.9333\n",
      "Epoch 98/100\n",
      "38/38 [==============================] - 2s 57ms/step - loss: 0.1242 - accuracy: 0.9342\n",
      "Epoch 99/100\n",
      "38/38 [==============================] - 2s 58ms/step - loss: 0.1209 - accuracy: 0.9399\n",
      "Epoch 100/100\n",
      "38/38 [==============================] - 2s 57ms/step - loss: 0.1152 - accuracy: 0.9350\n",
      "10/10 [==============================] - 0s 3ms/step\n",
      "[array([0.04773585], dtype=float32), array([0.99283445], dtype=float32), array([2.2479294e-06], dtype=float32), array([5.2541276e-05], dtype=float32), array([0.123303], dtype=float32), array([0.8128417], dtype=float32), array([0.9999998], dtype=float32), array([9.690833e-09], dtype=float32), array([3.2345743e-05], dtype=float32), array([6.840767e-05], dtype=float32), array([0.9935435], dtype=float32), array([0.74511516], dtype=float32), array([0.99986124], dtype=float32), array([0.03633031], dtype=float32), array([0.1263963], dtype=float32), array([0.9999476], dtype=float32), array([0.00271876], dtype=float32), array([0.99999475], dtype=float32), array([0.00324585], dtype=float32), array([0.83668095], dtype=float32), array([0.98551625], dtype=float32), array([0.7119908], dtype=float32), array([3.1383086e-12], dtype=float32), array([4.8586902e-05], dtype=float32), array([0.9999902], dtype=float32), array([0.00920685], dtype=float32), array([8.439998e-05], dtype=float32), array([0.4050379], dtype=float32), array([0.9640249], dtype=float32), array([0.6581561], dtype=float32), array([0.99964154], dtype=float32), array([0.7495974], dtype=float32), array([6.1018334e-05], dtype=float32), array([0.03810767], dtype=float32), array([1.7239799e-08], dtype=float32), array([0.99997616], dtype=float32), array([0.00011645], dtype=float32), array([0.9751695], dtype=float32), array([0.5957022], dtype=float32), array([0.11917458], dtype=float32), array([0.5682893], dtype=float32), array([4.3036147e-07], dtype=float32), array([0.99986875], dtype=float32), array([0.9823771], dtype=float32), array([0.69666356], dtype=float32), array([0.9999708], dtype=float32), array([0.26204878], dtype=float32), array([0.03425241], dtype=float32), array([0.00023394], dtype=float32), array([3.190275e-06], dtype=float32), array([0.87585205], dtype=float32), array([0.3935316], dtype=float32), array([0.7379075], dtype=float32), array([0.15886448], dtype=float32), array([0.7851517], dtype=float32), array([1.6029257e-06], dtype=float32), array([2.1570537e-05], dtype=float32), array([0.3954061], dtype=float32), array([1.0620084e-05], dtype=float32), array([0.00029102], dtype=float32), array([0.31546506], dtype=float32), array([0.00065812], dtype=float32), array([0.40668234], dtype=float32), array([2.7248433e-07], dtype=float32), array([0.98311454], dtype=float32), array([2.9268415e-06], dtype=float32), array([0.7119908], dtype=float32), array([0.9595579], dtype=float32), array([0.00122536], dtype=float32), array([0.00050513], dtype=float32), array([0.99965477], dtype=float32), array([0.9977358], dtype=float32), array([0.01946221], dtype=float32), array([0.9024694], dtype=float32), array([0.9961114], dtype=float32), array([0.00271876], dtype=float32), array([0.28803167], dtype=float32), array([0.00934116], dtype=float32), array([0.12555256], dtype=float32), array([0.03357016], dtype=float32), array([0.00044393], dtype=float32), array([0.00025247], dtype=float32), array([0.99884933], dtype=float32), array([0.9961961], dtype=float32), array([0.3783976], dtype=float32), array([0.69324297], dtype=float32), array([0.00025247], dtype=float32), array([0.99918294], dtype=float32), array([0.02463331], dtype=float32), array([0.00068031], dtype=float32), array([0.01794429], dtype=float32), array([1.3068945e-09], dtype=float32), array([0.8676503], dtype=float32), array([0.74511516], dtype=float32), array([0.2089066], dtype=float32), array([0.00064042], dtype=float32), array([0.3954061], dtype=float32), array([0.99994326], dtype=float32), array([0.99731326], dtype=float32), array([0.99988693], dtype=float32), array([0.0027937], dtype=float32), array([0.9556748], dtype=float32), array([0.25198588], dtype=float32), array([0.12690344], dtype=float32), array([0.99994326], dtype=float32), array([0.00065812], dtype=float32), array([0.05275908], dtype=float32), array([0.00177133], dtype=float32), array([0.01644303], dtype=float32), array([0.821979], dtype=float32), array([0.74511516], dtype=float32), array([0.918071], dtype=float32), array([0.99884903], dtype=float32), array([0.9973304], dtype=float32), array([0.99864876], dtype=float32), array([0.9604002], dtype=float32), array([0.00469397], dtype=float32), array([0.797021], dtype=float32), array([0.9604046], dtype=float32), array([0.17883609], dtype=float32), array([0.9997739], dtype=float32), array([0.6883207], dtype=float32), array([0.93792075], dtype=float32), array([0.41210264], dtype=float32), array([0.00027784], dtype=float32), array([0.00074112], dtype=float32), array([0.99283445], dtype=float32), array([0.9999812], dtype=float32), array([0.00025976], dtype=float32), array([3.9730894e-05], dtype=float32), array([0.03845865], dtype=float32), array([0.7261768], dtype=float32), array([0.00299005], dtype=float32), array([0.21225308], dtype=float32), array([0.00051522], dtype=float32), array([0.91126037], dtype=float32), array([0.98587805], dtype=float32), array([0.84405494], dtype=float32), array([0.7610118], dtype=float32), array([1.1934928e-06], dtype=float32), array([0.6883207], dtype=float32), array([3.755914e-08], dtype=float32), array([0.00725809], dtype=float32), array([0.9947235], dtype=float32), array([0.03709773], dtype=float32), array([0.89578795], dtype=float32), array([4.3036147e-07], dtype=float32), array([0.99999475], dtype=float32), array([0.99990946], dtype=float32), array([0.9994973], dtype=float32), array([3.739231e-07], dtype=float32), array([0.92081296], dtype=float32), array([0.8722272], dtype=float32), array([0.9999476], dtype=float32), array([0.00063057], dtype=float32), array([0.9999645], dtype=float32), array([0.92122453], dtype=float32), array([0.00430808], dtype=float32), array([0.9996587], dtype=float32), array([0.6846205], dtype=float32), array([7.7948825e-05], dtype=float32), array([0.00016365], dtype=float32), array([1.3467321e-07], dtype=float32), array([2.0897287e-05], dtype=float32), array([0.00027784], dtype=float32), array([0.27811745], dtype=float32), array([0.98650575], dtype=float32), array([8.0276674e-10], dtype=float32), array([0.6392322], dtype=float32), array([0.01696164], dtype=float32), array([0.8985304], dtype=float32), array([0.99999845], dtype=float32), array([2.9268415e-06], dtype=float32), array([0.49524486], dtype=float32), array([0.5417939], dtype=float32), array([0.00016137], dtype=float32), array([0.7610118], dtype=float32), array([0.80318457], dtype=float32), array([0.00411764], dtype=float32), array([6.3429456e-05], dtype=float32), array([3.6443144e-09], dtype=float32), array([0.00019564], dtype=float32), array([0.01946221], dtype=float32), array([0.00016137], dtype=float32), array([0.00085493], dtype=float32), array([0.49731547], dtype=float32), array([0.00036009], dtype=float32), array([0.00398514], dtype=float32), array([0.00019564], dtype=float32), array([0.00276976], dtype=float32), array([0.14828785], dtype=float32), array([0.9955118], dtype=float32), array([0.00409741], dtype=float32), array([0.11239336], dtype=float32), array([0.99998766], dtype=float32), array([0.00821044], dtype=float32), array([0.9953867], dtype=float32), array([0.00164944], dtype=float32), array([0.26204878], dtype=float32), array([0.9827838], dtype=float32), array([0.9808894], dtype=float32), array([0.18613964], dtype=float32), array([0.73424166], dtype=float32), array([0.9999989], dtype=float32), array([0.99912935], dtype=float32), array([0.9524405], dtype=float32), array([3.190275e-06], dtype=float32), array([0.9981828], dtype=float32), array([3.4229417e-06], dtype=float32), array([1.447199e-07], dtype=float32), array([1.], dtype=float32), array([0.00157119], dtype=float32), array([0.29528356], dtype=float32), array([1.1706243e-08], dtype=float32), array([5.6161595e-09], dtype=float32), array([0.99996525], dtype=float32), array([0.9961961], dtype=float32), array([0.00028925], dtype=float32), array([3.4229417e-06], dtype=float32), array([0.00242026], dtype=float32), array([0.77058405], dtype=float32), array([0.99389976], dtype=float32), array([0.45803], dtype=float32), array([0.99551666], dtype=float32), array([0.00065947], dtype=float32), array([0.96702564], dtype=float32), array([0.75031996], dtype=float32), array([0.00068031], dtype=float32), array([0.98424876], dtype=float32), array([0.319875], dtype=float32), array([0.98983157], dtype=float32), array([0.88433945], dtype=float32), array([0.3211696], dtype=float32), array([0.28722405], dtype=float32), array([0.4605062], dtype=float32), array([0.00075027], dtype=float32), array([0.9898758], dtype=float32), array([0.00051655], dtype=float32), array([0.9999975], dtype=float32), array([0.26204878], dtype=float32), array([0.04321285], dtype=float32), array([1.4068817e-06], dtype=float32), array([1.5973732e-05], dtype=float32), array([1.3068945e-09], dtype=float32), array([0.00027784], dtype=float32), array([0.00158006], dtype=float32), array([0.46516556], dtype=float32), array([4.2736824e-06], dtype=float32), array([0.9943283], dtype=float32), array([0.00019576], dtype=float32), array([3.7286014e-07], dtype=float32), array([0.00035886], dtype=float32), array([0.00385972], dtype=float32), array([0.6319492], dtype=float32), array([1.6931398e-06], dtype=float32), array([0.9903429], dtype=float32), array([2.812275e-07], dtype=float32), array([0.18613964], dtype=float32), array([0.67094547], dtype=float32), array([0.00821044], dtype=float32), array([0.99864876], dtype=float32), array([0.99986124], dtype=float32), array([0.5796263], dtype=float32), array([3.072671e-05], dtype=float32), array([0.00529994], dtype=float32), array([0.9316933], dtype=float32), array([0.99912935], dtype=float32), array([0.9524405], dtype=float32), array([0.38803113], dtype=float32), array([0.88334], dtype=float32), array([0.00304037], dtype=float32), array([0.5957022], dtype=float32), array([4.2736824e-06], dtype=float32), array([1.325143e-05], dtype=float32), array([0.19461861], dtype=float32), array([0.99996936], dtype=float32), array([0.99999243], dtype=float32), array([0.99942815], dtype=float32), array([0.01530377], dtype=float32), array([0.9998743], dtype=float32), array([0.00038417], dtype=float32), array([0.00065812], dtype=float32), array([0.99999726], dtype=float32), array([0.9967005], dtype=float32), array([8.793038e-06], dtype=float32), array([0.0599798], dtype=float32), array([3.529725e-07], dtype=float32), array([0.00510831], dtype=float32), array([0.90603817], dtype=float32), array([0.00157119], dtype=float32), array([0.00653194], dtype=float32), array([8.3081366e-05], dtype=float32), array([0.37628946], dtype=float32), array([0.4940253], dtype=float32), array([0.03603475], dtype=float32), array([0.9884449], dtype=float32), array([0.00073535], dtype=float32), array([4.1885784e-08], dtype=float32), array([0.00095176], dtype=float32), array([6.9265084e-08], dtype=float32), array([0.00242011], dtype=float32), array([0.05256307], dtype=float32), array([0.34013554], dtype=float32), array([0.00066508], dtype=float32)]\n",
      "[array([0]), array([1]), array([0]), array([0]), array([0]), array([1]), array([1]), array([0]), array([0]), array([0]), array([1]), array([1]), array([1]), array([0]), array([0]), array([1]), array([0]), array([1]), array([0]), array([1]), array([1]), array([1]), array([0]), array([0]), array([1]), array([0]), array([0]), array([0]), array([1]), array([1]), array([1]), array([1]), array([0]), array([0]), array([0]), array([1]), array([0]), array([1]), array([1]), array([0]), array([1]), array([0]), array([1]), array([1]), array([1]), array([1]), array([0]), array([0]), array([0]), array([0]), array([1]), array([0]), array([1]), array([0]), array([1]), array([0]), array([0]), array([0]), array([0]), array([0]), array([0]), array([0]), array([0]), array([0]), array([1]), array([0]), array([1]), array([1]), array([0]), array([0]), array([1]), array([1]), array([0]), array([1]), array([1]), array([0]), array([0]), array([0]), array([0]), array([0]), array([0]), array([0]), array([1]), array([1]), array([0]), array([1]), array([0]), array([1]), array([0]), array([0]), array([0]), array([0]), array([1]), array([1]), array([0]), array([0]), array([0]), array([1]), array([1]), array([1]), array([0]), array([1]), array([0]), array([0]), array([1]), array([0]), array([0]), array([0]), array([0]), array([1]), array([1]), array([1]), array([1]), array([1]), array([1]), array([1]), array([0]), array([1]), array([1]), array([0]), array([1]), array([1]), array([1]), array([0]), array([0]), array([0]), array([1]), array([1]), array([0]), array([0]), array([0]), array([1]), array([0]), array([0]), array([0]), array([1]), array([1]), array([1]), array([1]), array([0]), array([1]), array([0]), array([0]), array([1]), array([0]), array([1]), array([0]), array([1]), array([1]), array([1]), array([0]), array([1]), array([1]), array([1]), array([0]), array([1]), array([1]), array([0]), array([1]), array([1]), array([0]), array([0]), array([0]), array([0]), array([0]), array([0]), array([1]), array([0]), array([1]), array([0]), array([1]), array([1]), array([0]), array([0]), array([1]), array([0]), array([1]), array([1]), array([0]), array([0]), array([0]), array([0]), array([0]), array([0]), array([0]), array([0]), array([0]), array([0]), array([0]), array([0]), array([0]), array([1]), array([0]), array([0]), array([1]), array([0]), array([1]), array([0]), array([0]), array([1]), array([1]), array([0]), array([1]), array([1]), array([1]), array([1]), array([0]), array([1]), array([0]), array([0]), array([1]), array([0]), array([0]), array([0]), array([0]), array([1]), array([1]), array([0]), array([0]), array([0]), array([1]), array([1]), array([0]), array([1]), array([0]), array([1]), array([1]), array([0]), array([1]), array([0]), array([1]), array([1]), array([0]), array([0]), array([0]), array([0]), array([1]), array([0]), array([1]), array([0]), array([0]), array([0]), array([0]), array([0]), array([0]), array([0]), array([0]), array([0]), array([1]), array([0]), array([0]), array([0]), array([0]), array([1]), array([0]), array([1]), array([0]), array([0]), array([1]), array([0]), array([1]), array([1]), array([1]), array([0]), array([0]), array([1]), array([1]), array([1]), array([0]), array([1]), array([0]), array([1]), array([0]), array([0]), array([0]), array([1]), array([1]), array([1]), array([0]), array([1]), array([0]), array([0]), array([1]), array([1]), array([0]), array([0]), array([0]), array([0]), array([1]), array([0]), array([0]), array([0]), array([0]), array([0]), array([0]), array([1]), array([0]), array([0]), array([0]), array([0]), array([0]), array([0]), array([0]), array([0])]\n",
      "[1, 0, 0, 0, 1, 1, 1, 0, 0, 0, 1, 1, 1, 1, 0, 1, 0, 1, 0, 1, 1, 1, 0, 0, 1, 0, 0, 1, 1, 1, 1, 1, 0, 0, 0, 1, 0, 0, 1, 0, 1, 0, 1, 1, 0, 0, 0, 0, 0, 0, 1, 1, 0, 1, 0, 0, 0, 1, 0, 1, 0, 0, 0, 0, 1, 0, 1, 1, 0, 0, 1, 1, 0, 1, 1, 1, 1, 1, 0, 0, 0, 0, 1, 1, 0, 0, 0, 0, 0, 0, 1, 0, 1, 1, 1, 1, 1, 1, 1, 1, 1, 1, 0, 1, 1, 0, 1, 0, 0, 0, 1, 1, 0, 0, 1, 1, 0, 0, 0, 0, 1, 1, 1, 1, 0, 0, 1, 1, 0, 0, 1, 0, 0, 1, 0, 1, 1, 0, 1, 1, 1, 0, 1, 1, 0, 1, 0, 1, 1, 1, 0, 1, 1, 1, 1, 1, 1, 1, 1, 1, 0, 0, 0, 0, 0, 0, 0, 0, 1, 1, 1, 1, 0, 1, 0, 1, 1, 0, 1, 0, 0, 0, 0, 0, 0, 1, 0, 0, 0, 0, 0, 1, 0, 0, 1, 0, 1, 1, 0, 1, 1, 0, 0, 1, 1, 1, 0, 1, 0, 0, 1, 0, 0, 0, 0, 1, 1, 0, 0, 0, 0, 1, 1, 1, 0, 1, 0, 0, 1, 0, 1, 1, 0, 0, 1, 0, 0, 0, 1, 0, 1, 1, 0, 0, 0, 0, 1, 0, 0, 0, 0, 0, 0, 0, 0, 1, 0, 0, 0, 1, 1, 1, 1, 0, 1, 0, 1, 0, 0, 0, 1, 1, 0, 0, 1, 1, 1, 1, 0, 1, 1, 0, 1, 1, 0, 0, 0, 0, 1, 0, 0, 0, 0, 1, 1, 1, 0, 0, 1, 0, 0, 0, 0, 0]\n",
      "Accuracy: 0.7631578947368421\n"
     ]
    }
   ],
   "source": [
    "from sklearn.model_selection import train_test_split\n",
    "from sklearn.metrics import accuracy_score\n",
    "\n",
    "import pandas as pd\n",
    "import tensorflow as tf\n",
    "from tensorflow.keras.models import Sequential\n",
    "from tensorflow.keras.layers import Dense\n",
    "from scikeras.wrappers import KerasClassifier\n",
    "from sklearn.model_selection import cross_val_score\n",
    "from sklearn.model_selection import StratifiedKFold\n",
    "\n",
    "#print(X.shape)\n",
    "#print(y.shape)\n",
    "\n",
    "# Split the data into training and testing sets\n",
    "X_train, X_test, y_train, y_test = train_test_split(X, y, test_size=0.2, random_state=42)\n",
    "\n",
    "#print(X_train.shape)\n",
    "#print(y_train.shape)\n",
    "\n",
    "\n",
    "# Create and train a neural network\n",
    "model = Sequential()\n",
    "model.add(Dense(X_train.shape[1], input_shape=(X_train.shape[1],), activation='relu'))\n",
    "model.add(Dense(1, activation='sigmoid'))\n",
    "# Compile model\n",
    "model.compile(loss='binary_crossentropy', optimizer='adam', metrics=['accuracy'])\n",
    "\n",
    "#### evaluate model with standardized dataset\n",
    "###estimator = KerasClassifier(model=model, epochs=100, batch_size=5, verbose=1)\n",
    "###kfold = StratifiedKFold(n_splits=10, shuffle=True)\n",
    "###results = cross_val_score(estimator, X, y, cv=kfold)\n",
    "###print(\"Baseline: %.2f%% (%.2f%%)\" % (results.mean()*100, results.std()*100))\n",
    "\n",
    "model.fit(X_train, y_train, epochs=100)\n",
    "\n",
    "# Make predictions on the test data\n",
    "y_pred_raw = model.predict(X_test)\n",
    "y_pred = (y_pred_raw > 0.5).astype(\"int32\")\n",
    "\n",
    "# Evaluate the model\n",
    "print(list(y_pred_raw))\n",
    "print(list(y_pred))\n",
    "print(list(y_test))\n",
    "accuracy = accuracy_score(y_test, y_pred)\n",
    "print(f\"Accuracy: {accuracy}\")"
   ]
  },
  {
   "cell_type": "code",
   "execution_count": null,
   "metadata": {},
   "outputs": [],
   "source": [
    "assert False"
   ]
  },
  {
   "cell_type": "markdown",
   "metadata": {},
   "source": [
    "### Logistic Regression"
   ]
  },
  {
   "cell_type": "code",
   "execution_count": null,
   "metadata": {},
   "outputs": [
    {
     "name": "stdout",
     "output_type": "stream",
     "text": [
      "Accuracy: 0.7927631578947368\n"
     ]
    },
    {
     "name": "stderr",
     "output_type": "stream",
     "text": [
      "c:\\Users\\Asia\\AppData\\Local\\Programs\\Python\\Python310\\lib\\site-packages\\sklearn\\linear_model\\_logistic.py:460: ConvergenceWarning: lbfgs failed to converge (status=1):\n",
      "STOP: TOTAL NO. of ITERATIONS REACHED LIMIT.\n",
      "\n",
      "Increase the number of iterations (max_iter) or scale the data as shown in:\n",
      "    https://scikit-learn.org/stable/modules/preprocessing.html\n",
      "Please also refer to the documentation for alternative solver options:\n",
      "    https://scikit-learn.org/stable/modules/linear_model.html#logistic-regression\n",
      "  n_iter_i = _check_optimize_result(\n"
     ]
    }
   ],
   "source": [
    "from sklearn.model_selection import train_test_split\n",
    "from sklearn.linear_model import LogisticRegression\n",
    "from sklearn.metrics import accuracy_score\n",
    "\n",
    "# Split the data into training and testing sets\n",
    "X_train, X_test, y_train, y_test = train_test_split(X, y, test_size=0.2, random_state=42)\n",
    "\n",
    "# Create and train a logistic regression model\n",
    "model = LogisticRegression()\n",
    "model.fit(X_train, y_train)\n",
    "\n",
    "# Make predictions on the test data\n",
    "y_pred = model.predict(X_test)\n",
    "\n",
    "# Evaluate the model\n",
    "accuracy = accuracy_score(y_test, y_pred)\n",
    "print(f\"Accuracy: {accuracy}\")"
   ]
  }
 ],
 "metadata": {
  "kernelspec": {
   "display_name": "Python 3",
   "language": "python",
   "name": "python3"
  },
  "language_info": {
   "codemirror_mode": {
    "name": "ipython",
    "version": 3
   },
   "file_extension": ".py",
   "mimetype": "text/x-python",
   "name": "python",
   "nbconvert_exporter": "python",
   "pygments_lexer": "ipython3",
   "version": "3.11.3"
  }
 },
 "nbformat": 4,
 "nbformat_minor": 2
}
