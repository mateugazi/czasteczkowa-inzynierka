{
 "cells": [
  {
   "cell_type": "code",
   "execution_count": 1,
   "metadata": {},
   "outputs": [],
   "source": [
    "import pandas as pd\n",
    "from rdkit import Chem"
   ]
  },
  {
   "cell_type": "code",
   "execution_count": 2,
   "metadata": {},
   "outputs": [],
   "source": [
    "def LoadDataframeFomCSV(path):\n",
    "    try:\n",
    "        df = pd.read_csv(path)\n",
    "    except:\n",
    "        return None, \"Can't load csv file from: \" + path\n",
    "    try:\n",
    "        base_df = df[[\"SMILES\", \"pIC50\"]]\n",
    "        return base_df, \"Dataframe loaded successfully\"\n",
    "    except:\n",
    "        return None, \"Given csv file does not contain nessesary columns: SMILES and pIC50. Check your data for spelling mistakes.\""
   ]
  },
  {
   "cell_type": "code",
   "execution_count": 3,
   "metadata": {},
   "outputs": [
    {
     "data": {
      "text/plain": [
       "\"Can't load csv file from: wrog/path.csv\""
      ]
     },
     "execution_count": 3,
     "metadata": {},
     "output_type": "execute_result"
    }
   ],
   "source": [
    "base_df, err = LoadDataframeFomCSV(\"wrog/path.csv\")\n",
    "err"
   ]
  },
  {
   "cell_type": "code",
   "execution_count": 4,
   "metadata": {},
   "outputs": [
    {
     "data": {
      "text/plain": [
       "'Given csv file does not contain nessesary columns: SMILES and pIC50. Check your data for spelling mistakes.'"
      ]
     },
     "execution_count": 4,
     "metadata": {},
     "output_type": "execute_result"
    }
   ],
   "source": [
    "base_df, err = LoadDataframeFomCSV(\"data/processed/smiles_aggregated.csv\")\n",
    "err"
   ]
  },
  {
   "cell_type": "code",
   "execution_count": 5,
   "metadata": {},
   "outputs": [
    {
     "data": {
      "text/plain": [
       "'Dataframe loaded successfully'"
      ]
     },
     "execution_count": 5,
     "metadata": {},
     "output_type": "execute_result"
    }
   ],
   "source": [
    "base_df, err = LoadDataframeFomCSV(\"data/processed/smiles_aggregated_correct_columns.csv\")\n",
    "err"
   ]
  },
  {
   "cell_type": "code",
   "execution_count": 6,
   "metadata": {},
   "outputs": [],
   "source": [
    "def Validate(df):\n",
    "    return df['SMILES'].map(lambda x: Chem.MolFromSmiles(x) != None)\n",
    "\n",
    "def ToCanonicalSmiles(df):\n",
    "    df['SMILES'] = df['SMILES'].map(lambda x: Chem.MolToSmiles(Chem.MolFromSmiles(x)))\n",
    "    return df"
   ]
  },
  {
   "cell_type": "code",
   "execution_count": 7,
   "metadata": {},
   "outputs": [],
   "source": [
    "def ValidateSmiles(base_df):\n",
    "    valid = Validate(base_df)\n",
    "    invalid_rows = valid.index[valid == False].tolist()\n",
    "    base_df = base_df[valid]\n",
    "    ToCanonicalSmiles(base_df)\n",
    "    duplicate_rows = base_df.index[base_df.duplicated('SMILES')].tolist()\n",
    "    base_df = base_df.drop_duplicates('SMILES')\n",
    "    na_rows = base_df.index[base_df['pIC50'].isna()].tolist()\n",
    "    base_df = base_df.dropna()\n",
    "    return base_df, [invalid_rows, duplicate_rows, na_rows]"
   ]
  },
  {
   "cell_type": "code",
   "execution_count": 8,
   "metadata": {},
   "outputs": [
    {
     "name": "stderr",
     "output_type": "stream",
     "text": [
      "[10:39:54] SMILES Parse Error: syntax error while parsing: Cc1ccccc1-c1ccc2nc(N)c(C[C@@H](C)C(=O)N[C@@HC(C)(C)C3)cc2c1\n",
      "[10:39:54] SMILES Parse Error: Failed parsing SMILES 'Cc1ccccc1-c1ccc2nc(N)c(C[C@@H](C)C(=O)N[C@@HC(C)(C)C3)cc2c1' for input: 'Cc1ccccc1-c1ccc2nc(N)c(C[C@@H](C)C(=O)N[C@@HC(C)(C)C3)cc2c1'\n",
      "[10:39:54] SMILES Parse Error: syntax error while parsing: Cc1ccccc1-c1ccc2nc(N)c@@H](C)C(=O)N[C@@HC(C)(C)C3)cc2c1\n",
      "[10:39:54] SMILES Parse Error: Failed parsing SMILES 'Cc1ccccc1-c1ccc2nc(N)c@@H](C)C(=O)N[C@@HC(C)(C)C3)cc2c1' for input: 'Cc1ccccc1-c1ccc2nc(N)c@@H](C)C(=O)N[C@@HC(C)(C)C3)cc2c1'\n",
      "<ipython-input-6-f3dab1d3c4f3>:5: SettingWithCopyWarning: \n",
      "A value is trying to be set on a copy of a slice from a DataFrame.\n",
      "Try using .loc[row_indexer,col_indexer] = value instead\n",
      "\n",
      "See the caveats in the documentation: https://pandas.pydata.org/pandas-docs/stable/user_guide/indexing.html#returning-a-view-versus-a-copy\n",
      "  df['SMILES'] = df['SMILES'].map(lambda x: Chem.MolToSmiles(Chem.MolFromSmiles(x)))\n"
     ]
    },
    {
     "data": {
      "text/plain": [
       "(                                                 SMILES     pIC50\n",
       " 1     CCCO[C@H]1C[NH2+][C@@H]([C@@H](O)[C@H](Cc2cc(F...  8.853872\n",
       " 2     CCc1cn2c3c(cc(C(=O)N[C@@H](Cc4ccccc4)[C@H](O)C...  8.698970\n",
       " 3     CCOC[C@@H](Oc1cc(C[C@@H]2CS(=O)(=O)C[C@H]([NH2...  8.698970\n",
       " 5     CC(C)(C)c1cccc(C[NH2+][C@H]2CS(=O)C[C@@H](Cc3c...  8.698970\n",
       " 6     CCCCCS(=O)(=O)C[C@@H](NC(=O)c1cccnc1)C(=O)N[C@...  8.698970\n",
       " ...                                                 ...       ...\n",
       " 1514          CCC(CC(=O)NCC1CCOCC1)n1c(N)nc2cc(Cl)ccc21  3.000000\n",
       " 1515          CCC(CC(=O)NCc1ccccn1)n1c(N)nc2cc(Cl)ccc21  3.000000\n",
       " 1516                  Cn1c(N)nc(C2CC2c2cccc(Br)c2)cc1=O  2.953115\n",
       " 1517           Cn1c(N)nc(C2CC2c2cccc(-c3ccccc3)c2)cc1=O  2.733298\n",
       " 1518                  Nc1nc2cc(Cl)ccc2n1CCCC(=O)NCC1CC1  2.544546\n",
       " \n",
       " [1507 rows x 2 columns],\n",
       " [[0, 4], [95, 246, 328, 419, 469, 669, 807, 1318, 1485], [44]])"
      ]
     },
     "execution_count": 8,
     "metadata": {},
     "output_type": "execute_result"
    }
   ],
   "source": [
    "# invalidate 2 molecules and add na for testing\n",
    "base_df.loc[0,'SMILES'] = 'Cc1ccccc1-c1ccc2nc(N)c(C[C@@H](C)C(=O)N[C@@HC(C)(C)C3)cc2c1'\n",
    "base_df.loc[4,'SMILES'] = 'Cc1ccccc1-c1ccc2nc(N)c@@H](C)C(=O)N[C@@HC(C)(C)C3)cc2c1'\n",
    "base_df.loc[44,'pIC50'] = None\n",
    "ValidateSmiles(base_df)"
   ]
  }
 ],
 "metadata": {
  "kernelspec": {
   "display_name": "Python 3",
   "language": "python",
   "name": "python3"
  },
  "language_info": {
   "codemirror_mode": {
    "name": "ipython",
    "version": 3
   },
   "file_extension": ".py",
   "mimetype": "text/x-python",
   "name": "python",
   "nbconvert_exporter": "python",
   "pygments_lexer": "ipython3",
   "version": "3.9.0"
  }
 },
 "nbformat": 4,
 "nbformat_minor": 2
}
