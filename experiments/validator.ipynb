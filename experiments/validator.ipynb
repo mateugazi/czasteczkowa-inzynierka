{
 "cells": [
  {
   "cell_type": "code",
   "execution_count": 1,
   "metadata": {},
   "outputs": [],
   "source": [
    "import pandas as pd\n",
    "from rdkit import Chem"
   ]
  },
  {
   "cell_type": "code",
   "execution_count": 2,
   "metadata": {},
   "outputs": [
    {
     "data": {
      "text/html": [
       "<div>\n",
       "<style scoped>\n",
       "    .dataframe tbody tr th:only-of-type {\n",
       "        vertical-align: middle;\n",
       "    }\n",
       "\n",
       "    .dataframe tbody tr th {\n",
       "        vertical-align: top;\n",
       "    }\n",
       "\n",
       "    .dataframe thead th {\n",
       "        text-align: right;\n",
       "    }\n",
       "</style>\n",
       "<table border=\"1\" class=\"dataframe\">\n",
       "  <thead>\n",
       "    <tr style=\"text-align: right;\">\n",
       "      <th></th>\n",
       "      <th>SMILES</th>\n",
       "      <th>pIC50</th>\n",
       "    </tr>\n",
       "  </thead>\n",
       "  <tbody>\n",
       "    <tr>\n",
       "      <th>0</th>\n",
       "      <td>O1CC[C@@H](NC(=O)[C@@H](Cc2cc3cc(ccc3nc2N)-c2c...</td>\n",
       "      <td>9.154901</td>\n",
       "    </tr>\n",
       "    <tr>\n",
       "      <th>1</th>\n",
       "      <td>Fc1cc(cc(F)c1)C[C@H](NC(=O)[C@@H](N1CC[C@](NC(...</td>\n",
       "      <td>8.853872</td>\n",
       "    </tr>\n",
       "    <tr>\n",
       "      <th>2</th>\n",
       "      <td>S1(=O)(=O)N(c2cc(cc3c2n(cc3CC)CC1)C(=O)N[C@H](...</td>\n",
       "      <td>8.698970</td>\n",
       "    </tr>\n",
       "    <tr>\n",
       "      <th>3</th>\n",
       "      <td>S1(=O)(=O)C[C@@H](Cc2cc(O[C@H](COCC)C(F)(F)F)c...</td>\n",
       "      <td>8.698970</td>\n",
       "    </tr>\n",
       "    <tr>\n",
       "      <th>4</th>\n",
       "      <td>S1(=O)(=O)N(c2cc(cc3c2n(cc3CC)CC1)C(=O)N[C@H](...</td>\n",
       "      <td>8.698970</td>\n",
       "    </tr>\n",
       "    <tr>\n",
       "      <th>...</th>\n",
       "      <td>...</td>\n",
       "      <td>...</td>\n",
       "    </tr>\n",
       "    <tr>\n",
       "      <th>1514</th>\n",
       "      <td>Clc1cc2nc(n(c2cc1)C(CC(=O)NCC1CCOCC1)CC)N</td>\n",
       "      <td>3.000000</td>\n",
       "    </tr>\n",
       "    <tr>\n",
       "      <th>1515</th>\n",
       "      <td>Clc1cc2nc(n(c2cc1)C(CC(=O)NCc1ncccc1)CC)N</td>\n",
       "      <td>3.000000</td>\n",
       "    </tr>\n",
       "    <tr>\n",
       "      <th>1516</th>\n",
       "      <td>Brc1cc(ccc1)C1CC1C=1N=C(N)N(C)C(=O)C=1</td>\n",
       "      <td>2.953115</td>\n",
       "    </tr>\n",
       "    <tr>\n",
       "      <th>1517</th>\n",
       "      <td>O=C1N(C)C(=NC(=C1)C1CC1c1cc(ccc1)-c1ccccc1)N</td>\n",
       "      <td>2.733298</td>\n",
       "    </tr>\n",
       "    <tr>\n",
       "      <th>1518</th>\n",
       "      <td>Clc1cc2nc(n(c2cc1)CCCC(=O)NCC1CC1)N</td>\n",
       "      <td>2.544546</td>\n",
       "    </tr>\n",
       "  </tbody>\n",
       "</table>\n",
       "<p>1519 rows × 2 columns</p>\n",
       "</div>"
      ],
      "text/plain": [
       "                                                 SMILES     pIC50\n",
       "0     O1CC[C@@H](NC(=O)[C@@H](Cc2cc3cc(ccc3nc2N)-c2c...  9.154901\n",
       "1     Fc1cc(cc(F)c1)C[C@H](NC(=O)[C@@H](N1CC[C@](NC(...  8.853872\n",
       "2     S1(=O)(=O)N(c2cc(cc3c2n(cc3CC)CC1)C(=O)N[C@H](...  8.698970\n",
       "3     S1(=O)(=O)C[C@@H](Cc2cc(O[C@H](COCC)C(F)(F)F)c...  8.698970\n",
       "4     S1(=O)(=O)N(c2cc(cc3c2n(cc3CC)CC1)C(=O)N[C@H](...  8.698970\n",
       "...                                                 ...       ...\n",
       "1514          Clc1cc2nc(n(c2cc1)C(CC(=O)NCC1CCOCC1)CC)N  3.000000\n",
       "1515          Clc1cc2nc(n(c2cc1)C(CC(=O)NCc1ncccc1)CC)N  3.000000\n",
       "1516             Brc1cc(ccc1)C1CC1C=1N=C(N)N(C)C(=O)C=1  2.953115\n",
       "1517       O=C1N(C)C(=NC(=C1)C1CC1c1cc(ccc1)-c1ccccc1)N  2.733298\n",
       "1518                Clc1cc2nc(n(c2cc1)CCCC(=O)NCC1CC1)N  2.544546\n",
       "\n",
       "[1519 rows x 2 columns]"
      ]
     },
     "execution_count": 2,
     "metadata": {},
     "output_type": "execute_result"
    }
   ],
   "source": [
    "df = pd.read_csv(\"data/processed/smiles_aggregated.csv\")\n",
    "base_df = df[[\"mol\", \"pIC50\"]]\n",
    "base_df = base_df.rename(columns={\"mol\": \"SMILES\"})\n",
    "start_length = len(base_df)\n",
    "base_df"
   ]
  },
  {
   "cell_type": "code",
   "execution_count": 3,
   "metadata": {},
   "outputs": [],
   "source": [
    "def Validate(smiles):\n",
    "    return Chem.MolFromSmiles(smiles) != None\n",
    "\n",
    "def DropInvalid(df):\n",
    "    return df[df['SMILES'].map(lambda x: Validate(x))]\n",
    "\n",
    "def ToCanonicalSmiles(df):\n",
    "    df['SMILES'] = df['SMILES'].map(lambda x: Chem.MolToSmiles(Chem.MolFromSmiles(x)))\n",
    "    return df"
   ]
  },
  {
   "cell_type": "code",
   "execution_count": 4,
   "metadata": {},
   "outputs": [],
   "source": [
    "def ValidateSmiles(base_df):\n",
    "    start_len = len(base_df)\n",
    "    base_df = DropInvalid(base_df)\n",
    "    invalid_len = start_len - len(base_df)\n",
    "    ToCanonicalSmiles(base_df)\n",
    "    base_df = base_df.drop_duplicates('SMILES')\n",
    "    duplicates_len = start_len - invalid_len - len(base_df)\n",
    "    return base_df, [start_len, invalid_len, duplicates_len]"
   ]
  },
  {
   "cell_type": "code",
   "execution_count": 5,
   "metadata": {},
   "outputs": [
    {
     "name": "stderr",
     "output_type": "stream",
     "text": [
      "[18:39:28] SMILES Parse Error: syntax error while parsing: Cc1ccccc1-c1ccc2nc(N)c(C[C@@H](C)C(=O)N[C@@HC(C)(C)C3)cc2c1\n",
      "[18:39:28] SMILES Parse Error: Failed parsing SMILES 'Cc1ccccc1-c1ccc2nc(N)c(C[C@@H](C)C(=O)N[C@@HC(C)(C)C3)cc2c1' for input: 'Cc1ccccc1-c1ccc2nc(N)c(C[C@@H](C)C(=O)N[C@@HC(C)(C)C3)cc2c1'\n",
      "[18:39:28] SMILES Parse Error: syntax error while parsing: Cc1ccccc1-c1ccc2nc(N)c@@H](C)C(=O)N[C@@HC(C)(C)C3)cc2c1\n",
      "[18:39:28] SMILES Parse Error: Failed parsing SMILES 'Cc1ccccc1-c1ccc2nc(N)c@@H](C)C(=O)N[C@@HC(C)(C)C3)cc2c1' for input: 'Cc1ccccc1-c1ccc2nc(N)c@@H](C)C(=O)N[C@@HC(C)(C)C3)cc2c1'\n",
      "<ipython-input-3-9e0eeda1e357>:8: SettingWithCopyWarning: \n",
      "A value is trying to be set on a copy of a slice from a DataFrame.\n",
      "Try using .loc[row_indexer,col_indexer] = value instead\n",
      "\n",
      "See the caveats in the documentation: https://pandas.pydata.org/pandas-docs/stable/user_guide/indexing.html#returning-a-view-versus-a-copy\n",
      "  df['SMILES'] = df['SMILES'].map(lambda x: Chem.MolToSmiles(Chem.MolFromSmiles(x)))\n"
     ]
    },
    {
     "data": {
      "text/plain": [
       "(                                                 SMILES     pIC50\n",
       " 1     CCCO[C@H]1C[NH2+][C@@H]([C@@H](O)[C@H](Cc2cc(F...  8.853872\n",
       " 2     CCc1cn2c3c(cc(C(=O)N[C@@H](Cc4ccccc4)[C@H](O)C...  8.698970\n",
       " 3     CCOC[C@@H](Oc1cc(C[C@@H]2CS(=O)(=O)C[C@H]([NH2...  8.698970\n",
       " 5     CC(C)(C)c1cccc(C[NH2+][C@H]2CS(=O)C[C@@H](Cc3c...  8.698970\n",
       " 6     CCCCCS(=O)(=O)C[C@@H](NC(=O)c1cccnc1)C(=O)N[C@...  8.698970\n",
       " ...                                                 ...       ...\n",
       " 1514          CCC(CC(=O)NCC1CCOCC1)n1c(N)nc2cc(Cl)ccc21  3.000000\n",
       " 1515          CCC(CC(=O)NCc1ccccn1)n1c(N)nc2cc(Cl)ccc21  3.000000\n",
       " 1516                  Cn1c(N)nc(C2CC2c2cccc(Br)c2)cc1=O  2.953115\n",
       " 1517           Cn1c(N)nc(C2CC2c2cccc(-c3ccccc3)c2)cc1=O  2.733298\n",
       " 1518                  Nc1nc2cc(Cl)ccc2n1CCCC(=O)NCC1CC1  2.544546\n",
       " \n",
       " [1508 rows x 2 columns],\n",
       " [1519, 2, 9])"
      ]
     },
     "execution_count": 5,
     "metadata": {},
     "output_type": "execute_result"
    }
   ],
   "source": [
    "# invalidate 2 molecules for testing\n",
    "base_df.loc[0,'SMILES'] = 'Cc1ccccc1-c1ccc2nc(N)c(C[C@@H](C)C(=O)N[C@@HC(C)(C)C3)cc2c1'\n",
    "base_df.loc[4,'SMILES'] = 'Cc1ccccc1-c1ccc2nc(N)c@@H](C)C(=O)N[C@@HC(C)(C)C3)cc2c1'\n",
    "ValidateSmiles(base_df)"
   ]
  }
 ],
 "metadata": {
  "kernelspec": {
   "display_name": "Python 3",
   "language": "python",
   "name": "python3"
  },
  "language_info": {
   "codemirror_mode": {
    "name": "ipython",
    "version": 3
   },
   "file_extension": ".py",
   "mimetype": "text/x-python",
   "name": "python",
   "nbconvert_exporter": "python",
   "pygments_lexer": "ipython3",
   "version": "3.9.0"
  }
 },
 "nbformat": 4,
 "nbformat_minor": 2
}
